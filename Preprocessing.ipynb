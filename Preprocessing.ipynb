{
 "cells": [
  {
   "cell_type": "markdown",
   "source": "# Pre-processing of Chialing and Celine",
   "metadata": {
    "tags": [],
    "is_collapsed": false,
    "deepnote_app_coordinates": {
     "x": 0,
     "y": 0,
     "w": 12,
     "h": 2
    },
    "cell_id": "00002-f193bae1-1241-4116-9d51-0d73ae79fdae",
    "deepnote_cell_type": "text-cell-h1"
   }
  },
  {
   "cell_type": "markdown",
   "source": "# Objectives",
   "metadata": {
    "tags": [],
    "is_collapsed": false,
    "cell_id": "00002-07123646-8ad5-4f9d-af5a-39aeb54fff0e",
    "deepnote_app_coordinates": {
     "x": 0,
     "y": null,
     "w": 12,
     "h": 2
    },
    "deepnote_cell_type": "text-cell-h1"
   }
  },
  {
   "cell_type": "markdown",
   "source": "In this notebook, our objective is to transform the dataset that we collected from webscrapping Ankor reviews on Amazon to another table that will be more structured, and focused on the titles and comments in order to be able to analyse the wording using the nltk package.\nThis work aims to facilitate the future visualisation of the data that will be done on Power BI.\n\n**Needed package:**\n- **numpy**\n- **nltk**: state-of-the art library for NLP analysis (https://github.com/nltk/nltk)",
   "metadata": {
    "tags": [],
    "cell_id": "00001-ec9f6eaa-7654-4e71-9cd8-24557e540f1c",
    "deepnote_app_coordinates": {
     "x": 0,
     "y": 3,
     "w": 12,
     "h": 5
    },
    "deepnote_cell_type": "markdown"
   }
  },
  {
   "cell_type": "markdown",
   "source": "# 1. Settings",
   "metadata": {
    "tags": [],
    "is_collapsed": false,
    "cell_id": "00002-fea7f871-a85c-49b8-aeb6-7b9e42e3b0db",
    "deepnote_app_coordinates": {
     "x": 0,
     "y": 9,
     "w": 12,
     "h": 2
    },
    "deepnote_cell_type": "text-cell-h1"
   }
  },
  {
   "cell_type": "markdown",
   "source": "### 1.1 Import Libraries",
   "metadata": {
    "tags": [],
    "is_collapsed": false,
    "cell_id": "00003-583bab42-eed9-415d-895a-0ed70b461c2d",
    "deepnote_app_coordinates": {
     "x": 0,
     "y": 12,
     "w": 12,
     "h": 2
    },
    "deepnote_cell_type": "text-cell-h3"
   }
  },
  {
   "cell_type": "code",
   "metadata": {
    "tags": [],
    "cell_id": "00002-cfe2125c-d26d-4334-98fe-9dc2c7aa763c",
    "deepnote_to_be_reexecuted": false,
    "source_hash": "49b3c24",
    "execution_start": 1637538948228,
    "execution_millis": 2773,
    "deepnote_app_coordinates": {
     "x": 0,
     "y": 15,
     "w": 12,
     "h": 5
    },
    "deepnote_cell_type": "code"
   },
   "source": "import numpy as np\nimport pandas as pd\nimport nltk\nimport re\nimport string\n\nnltk.download('stopwords')\nnltk.download('punkt')\nnltk.download('wordnet')\nfrom nltk import word_tokenize,WordNetLemmatizer, PorterStemmer\nfrom nltk.corpus import stopwords\n\nfrom string import punctuation",
   "execution_count": null,
   "outputs": [
    {
     "name": "stderr",
     "text": "[nltk_data] Downloading package stopwords to /root/nltk_data...\n[nltk_data]   Unzipping corpora/stopwords.zip.\n[nltk_data] Downloading package punkt to /root/nltk_data...\n[nltk_data]   Unzipping tokenizers/punkt.zip.\n[nltk_data] Downloading package wordnet to /root/nltk_data...\n[nltk_data]   Unzipping corpora/wordnet.zip.\n",
     "output_type": "stream"
    }
   ]
  },
  {
   "cell_type": "markdown",
   "source": "### 1.2 Import Data",
   "metadata": {
    "tags": [],
    "is_collapsed": false,
    "cell_id": "00005-cc7a6b8d-206e-44af-861b-cebe06a71f74",
    "deepnote_app_coordinates": {
     "x": 0,
     "y": 21,
     "w": 12,
     "h": 2
    },
    "deepnote_cell_type": "text-cell-h3"
   }
  },
  {
   "cell_type": "code",
   "metadata": {
    "tags": [],
    "cell_id": "00003-d3e5a31c-e6e9-4c45-a1be-de891cfc23a0",
    "deepnote_to_be_reexecuted": false,
    "source_hash": "b9b5afed",
    "execution_start": 1637538951002,
    "execution_millis": 271,
    "deepnote_app_coordinates": {
     "x": 0,
     "y": 24,
     "w": 12,
     "h": 5
    },
    "deepnote_cell_type": "code"
   },
   "source": "df_date = pd.read_csv('https://raw.githubusercontent.com/emaleeeeeee/review_mini/main/REVIEWS%20RESCRAP.csv')\ndf_date",
   "execution_count": null,
   "outputs": [
    {
     "output_type": "execute_result",
     "execution_count": 2,
     "data": {
      "application/vnd.deepnote.dataframe.v2+json": {
       "row_count": 1459,
       "column_count": 5,
       "columns": [
        {
         "name": "Customer",
         "dtype": "object",
         "stats": {
          "unique_count": 1282,
          "nan_count": 0,
          "categories": [
           {
            "name": "Amazon Customer",
            "count": 112
           },
           {
            "name": "Kindle Customer",
            "count": 10
           },
           {
            "name": "1280 others",
            "count": 1337
           }
          ]
         }
        },
        {
         "name": "Title",
         "dtype": "object",
         "stats": {
          "unique_count": 1274,
          "nan_count": 0,
          "categories": [
           {
            "name": "Five Stars",
            "count": 17
           },
           {
            "name": "Great product",
            "count": 14
           },
           {
            "name": "1272 others",
            "count": 1428
           }
          ]
         }
        },
        {
         "name": "Comment",
         "dtype": "object",
         "stats": {
          "unique_count": 1413,
          "nan_count": 18,
          "categories": [
           {
            "name": "Good",
            "count": 14
           },
           {
            "name": "1412 others",
            "count": 1427
           },
           {
            "name": "Missing",
            "count": 18
           }
          ]
         }
        },
        {
         "name": "Rating",
         "dtype": "float64",
         "stats": {
          "unique_count": 5,
          "nan_count": 1,
          "min": "1.0",
          "max": "5.0",
          "histogram": [
           {
            "bin_start": 1,
            "bin_end": 1.4,
            "count": 110
           },
           {
            "bin_start": 1.4,
            "bin_end": 1.8,
            "count": 0
           },
           {
            "bin_start": 1.8,
            "bin_end": 2.2,
            "count": 76
           },
           {
            "bin_start": 2.2,
            "bin_end": 2.6,
            "count": 0
           },
           {
            "bin_start": 2.6,
            "bin_end": 3,
            "count": 0
           },
           {
            "bin_start": 3,
            "bin_end": 3.4000000000000004,
            "count": 108
           },
           {
            "bin_start": 3.4000000000000004,
            "bin_end": 3.8000000000000003,
            "count": 0
           },
           {
            "bin_start": 3.8000000000000003,
            "bin_end": 4.2,
            "count": 261
           },
           {
            "bin_start": 4.2,
            "bin_end": 4.6,
            "count": 0
           },
           {
            "bin_start": 4.6,
            "bin_end": 5,
            "count": 903
           }
          ]
         }
        },
        {
         "name": "Date",
         "dtype": "object",
         "stats": {
          "unique_count": 826,
          "nan_count": 147,
          "categories": [
           {
            "name": "2020-01-02 00:00:00.000",
            "count": 7
           },
           {
            "name": "825 others",
            "count": 1305
           },
           {
            "name": "Missing",
            "count": 147
           }
          ]
         }
        },
        {
         "name": "_deepnote_index_column",
         "dtype": "int64"
        }
       ],
       "rows_top": [
        {
         "Customer": "EDGAR",
         "Title": "Great projector",
         "Comment": "Great item, worth every penny. I was skeptical about it after seeing comments on how loud the fan i…",
         "Rating": 5,
         "Date": "nan",
         "_deepnote_index_column": 0
        },
        {
         "Customer": "Jesse",
         "Title": "A little projector that packs a punch!",
         "Comment": "Bought this for my wife for her birthday. She wanted a projector in the bedroom to cast upon the ce…",
         "Rating": 5,
         "Date": "nan",
         "_deepnote_index_column": 1
        },
        {
         "Customer": "Brian",
         "Title": "Well thought-out, high-quality",
         "Comment": "Every time I use this projector, I like it more. The build quality feels really solid, the picture …",
         "Rating": 5,
         "Date": "nan",
         "_deepnote_index_column": 2
        },
        {
         "Customer": "SSG Cross",
         "Title": "Truly amazing piece of hardware. I'm blown away!",
         "Comment": "First the not so great: Initially it is kind of a pain to set up, but after that it's great! For so…",
         "Rating": 5,
         "Date": "nan",
         "_deepnote_index_column": 3
        },
        {
         "Customer": "chris",
         "Title": "Awesome little projector",
         "Comment": "Awesome little projector! Google and Hulu doesn’t work when you get it because it wants you to use …",
         "Rating": 5,
         "Date": "nan",
         "_deepnote_index_column": 4
        },
        {
         "Customer": "John",
         "Title": "Amazing.  Perfect if you have a baby in a crib like I do.",
         "Comment": "This thing is epic.  I recommend it to everyone.  I just had a baby and I purchased this, along wit…",
         "Rating": 5,
         "Date": "nan",
         "_deepnote_index_column": 5
        },
        {
         "Customer": "Mr. Truth",
         "Title": "Awesome. Simple to use.",
         "Comment": "Great projector. Works right out of the box. It only took two minutes to set up. Simple to use on y…",
         "Rating": 5,
         "Date": "nan",
         "_deepnote_index_column": 6
        },
        {
         "Customer": "Charles",
         "Title": "Take note, adding a USB-C to HDMI for mobile devices, lighting cord iPhone will???",
         "Comment": "Some devices are forbidden to project copyrighted images to a device like the Capsule, but a USB- C…",
         "Rating": 5,
         "Date": "nan",
         "_deepnote_index_column": 7
        },
        {
         "Customer": "dmr",
         "Title": "Works as advertised.",
         "Comment": "I went through 3 projectors brands before I landed on this and everything worked. Easy setup! Every…",
         "Rating": 5,
         "Date": "nan",
         "_deepnote_index_column": 8
        },
        {
         "Customer": "Doc",
         "Title": "Really frickin' cool",
         "Comment": "Pretty amazing little device...  used camping in the deep wilderness.  The little thing is bright e…",
         "Rating": 5,
         "Date": "nan",
         "_deepnote_index_column": 9
        },
        {
         "Customer": "YJS",
         "Title": "The Amazing Little Projector",
         "Comment": "Great picture and sound from such a small device! It really is the size of a soda can. I love the p…",
         "Rating": 5,
         "Date": "nan",
         "_deepnote_index_column": 10
        },
        {
         "Customer": "PhilD",
         "Title": "Everything they say it can do, it does, and does it well",
         "Comment": "I love this projector, it now goes on all my trips, the only minor problem is that the focus dial i…",
         "Rating": 5,
         "Date": "nan",
         "_deepnote_index_column": 11
        },
        {
         "Customer": "Kaci McCoy",
         "Title": "It does what it do",
         "Comment": "Small, bright, and clear, with a decent speaker. I spent weeks checking reviews of portable project…",
         "Rating": 5,
         "Date": "nan",
         "_deepnote_index_column": 12
        },
        {
         "Customer": "Jenni Haines",
         "Title": "Best invention ever!!",
         "Comment": "We have used this on vacations, and most recently we stayed a few days with the kids in Vegas. Afte…",
         "Rating": 5,
         "Date": "nan",
         "_deepnote_index_column": 13
        },
        {
         "Customer": "I'm a wolf rider, I'm free",
         "Title": "The Bomb-Diggity",
         "Comment": "I am so impressed with this little projector. It was easy to set up and use and the picture quality…",
         "Rating": 5,
         "Date": "nan",
         "_deepnote_index_column": 14
        },
        {
         "Customer": "I HSUAN YEH",
         "Title": "Best smart projector I’ve owned",
         "Comment": "Having owned other projectors, the quality of the Nebula Capsule honestly matches that of high-end …",
         "Rating": 5,
         "Date": "nan",
         "_deepnote_index_column": 15
        },
        {
         "Customer": "Sam.  T",
         "Title": "Convenient",
         "Comment": "I enjoy using this projector.  I use it outside indoors for pleasure and business. Not as bright as…",
         "Rating": 5,
         "Date": "nan",
         "_deepnote_index_column": 16
        },
        {
         "Customer": "Momoffour",
         "Title": "Great customer service, great projector!",
         "Comment": "I feel compelled to rewrite our review.  Our first review we left only 2 starts due to a charging i…",
         "Rating": 5,
         "Date": "nan",
         "_deepnote_index_column": 17
        },
        {
         "Customer": "Luke Stamps",
         "Title": "Best projector ever!",
         "Comment": "Excellent quality! The picture is even better in real life! Talk about being able to go to the bath…",
         "Rating": 5,
         "Date": "nan",
         "_deepnote_index_column": 18
        },
        {
         "Customer": "David Yu",
         "Title": "So happy with my purchase",
         "Comment": "I bought this for my wife for Christmas and she initially wanted to return it but thankfully she ga…",
         "Rating": 5,
         "Date": "nan",
         "_deepnote_index_column": 19
        },
        {
         "Customer": "FavoriteRN",
         "Title": "Small device....packs a big punch!",
         "Comment": "I bought this off Amazon’s Travel Trunk. I’ve never heard or saw a projector so small, so stylish, …",
         "Rating": 5,
         "Date": "nan",
         "_deepnote_index_column": 20
        },
        {
         "Customer": "Ashley",
         "Title": "It’s more like a portable smart tv 📺",
         "Comment": "I have stopped using my tv since I bought this thing. It’s self contained and I can download movies…",
         "Rating": 5,
         "Date": "nan",
         "_deepnote_index_column": 21
        },
        {
         "Customer": "Stacy Iler",
         "Title": "As advertised",
         "Comment": "Pretty much exactly what I thought it was gonna be like. Sound and picture was great. Nice that you…",
         "Rating": 5,
         "Date": "nan",
         "_deepnote_index_column": 22
        },
        {
         "Customer": "Amanda S.",
         "Title": "Exactly what I was looking for!",
         "Comment": "Love it. Exactly what I was looking for and also so small. This was a replacement for a different o…",
         "Rating": 5,
         "Date": "nan",
         "_deepnote_index_column": 23
        },
        {
         "Customer": "Conner Harkness",
         "Title": "A Theater in a Can Without Cables!",
         "Comment": "I can't even begin to describe how awesome it is to have a theater in my pocket built with quality …",
         "Rating": 5,
         "Date": "nan",
         "_deepnote_index_column": 24
        },
        {
         "Customer": "N.Reynolds",
         "Title": "Picture and sound quality is great",
         "Comment": "I was surprised the picture and sound quality would be so good coming from something so small. Perf…",
         "Rating": 5,
         "Date": "nan",
         "_deepnote_index_column": 25
        },
        {
         "Customer": "Des",
         "Title": "I'll never buy another TV",
         "Comment": "Was upset that when I bought this it wouldn't allow me to watch Netflix, but thanks to a previous r…",
         "Rating": 5,
         "Date": "nan",
         "_deepnote_index_column": 26
        },
        {
         "Customer": "Andrew Conant",
         "Title": "Fantastic design, we lie in bed and watch movies on the ceiling.",
         "Comment": "Bluetooth and built in speaker are a pleasure to  use.",
         "Rating": 5,
         "Date": "nan",
         "_deepnote_index_column": 27
        },
        {
         "Customer": "Lil'miss",
         "Title": "Happy camper!!!",
         "Comment": "This has been the perfect addition to our home and camper!!!! Great picture and quality!!!! Couldn’…",
         "Rating": 5,
         "Date": "nan",
         "_deepnote_index_column": 28
        },
        {
         "Customer": "Vincent E Freda",
         "Title": "Great little projector. Even better customer service!",
         "Comment": "This little projector allows me to view all my streaming apps...on the ceiling! I’m very impressed …",
         "Rating": 5,
         "Date": "nan",
         "_deepnote_index_column": 29
        },
        {
         "Customer": "patrick",
         "Title": "Amazing product",
         "Comment": "I've been using at remote places to show my documentaries, villages and etc.. it's a great product,…",
         "Rating": 5,
         "Date": "nan",
         "_deepnote_index_column": 30
        },
        {
         "Customer": "Amazon Customer",
         "Title": "Great package",
         "Comment": "I used this inside my tent when I go camping. Can download movies from Netflix and play them off li…",
         "Rating": 5,
         "Date": "nan",
         "_deepnote_index_column": 31
        },
        {
         "Customer": "Bianca",
         "Title": "You will not regret buying this!",
         "Comment": "This is definitely perfect for a movie date at home or solo watching, I really enjoy using this and…",
         "Rating": 5,
         "Date": "nan",
         "_deepnote_index_column": 32
        },
        {
         "Customer": "Jaycee",
         "Title": "Wow!",
         "Comment": "Amazing little projector!",
         "Rating": 5,
         "Date": "nan",
         "_deepnote_index_column": 33
        },
        {
         "Customer": "Gabby3780",
         "Title": "Awesome picture, product, quality",
         "Comment": "This is an amazing little tool. Speaker is plenty loud and the picture is great!",
         "Rating": 5,
         "Date": "nan",
         "_deepnote_index_column": 34
        },
        {
         "Customer": "Neal family",
         "Title": "Top quality image and incredibly small device",
         "Comment": "nan",
         "Rating": 5,
         "Date": "nan",
         "_deepnote_index_column": 35
        },
        {
         "Customer": "Norma A. Castaneda",
         "Title": "Great lil tech device",
         "Comment": "Excellent for school presentations. Love that it has 360 degree sound.",
         "Rating": 5,
         "Date": "nan",
         "_deepnote_index_column": 36
        },
        {
         "Customer": "Sharon Bisila",
         "Title": "Great product! Great customer service!",
         "Comment": "Our first movie projector. We LOVE it!!! The customer service via email has been fast and very supp…",
         "Rating": 5,
         "Date": "nan",
         "_deepnote_index_column": 37
        },
        {
         "Customer": "Kelly",
         "Title": "It’s a good splurge.",
         "Comment": "I love it ! I realized I don’t watch more than I believed but it’s an amazing device !!! I love it.…",
         "Rating": 5,
         "Date": "nan",
         "_deepnote_index_column": 38
        },
        {
         "Customer": "Brenda",
         "Title": "Tiny and amazing",
         "Comment": "This is really the size of a soda can!! Picture quality is great. The speakers are loud enough to f…",
         "Rating": 5,
         "Date": "nan",
         "_deepnote_index_column": 39
        },
        {
         "Customer": "Elizabeth Chandra",
         "Title": "Would recommend if you need portability and comparability with game system",
         "Comment": "Given that I live in an apartment and move around often, I wanted something portable to project my …",
         "Rating": 5,
         "Date": "nan",
         "_deepnote_index_column": 40
        },
        {
         "Customer": "SRH",
         "Title": "Love it",
         "Comment": "It is difficult to add apps. But love it.",
         "Rating": 5,
         "Date": "nan",
         "_deepnote_index_column": 41
        },
        {
         "Customer": "Virginia",
         "Title": "May need to add additional speakers",
         "Comment": "Very nice unit.",
         "Rating": 5,
         "Date": "nan",
         "_deepnote_index_column": 42
        },
        {
         "Customer": "Juan Pablo Gonzalez",
         "Title": "Customer support is verry attentive",
         "Comment": "I got my nebula projector and the battery was not working correctly, and the provider sent me anoth…",
         "Rating": 5,
         "Date": "nan",
         "_deepnote_index_column": 43
        },
        {
         "Customer": "Kelly Goldmann",
         "Title": "Great projector!",
         "Comment": "After buying and returning 3 other projectors, we are loving this one. Well worth the money!",
         "Rating": 5,
         "Date": "nan",
         "_deepnote_index_column": 44
        },
        {
         "Customer": "apology guy",
         "Title": "No need word to say",
         "Comment": "What should I say? Those pictures said it all!",
         "Rating": 5,
         "Date": "nan",
         "_deepnote_index_column": 45
        },
        {
         "Customer": "Jimmy Deer",
         "Title": "Awesome projector!!",
         "Comment": "Just received this yesterday! love it!! I had to look through the manuel to figure out how to get i…",
         "Rating": 5,
         "Date": "nan",
         "_deepnote_index_column": 46
        },
        {
         "Customer": "Huseyin",
         "Title": "nice",
         "Comment": "good quality",
         "Rating": 5,
         "Date": "nan",
         "_deepnote_index_column": 47
        },
        {
         "Customer": "Duc",
         "Title": "Great and very portable projector",
         "Comment": "Bought it as a birthday gift for my wife and she loves everything about it. Received a free case wi…",
         "Rating": 5,
         "Date": "nan",
         "_deepnote_index_column": 48
        },
        {
         "Customer": "Jesse",
         "Title": "Perdé",
         "Comment": "Please forgive my last report. Excellent product. Works perfectly. Thinking about buying another on…",
         "Rating": 5,
         "Date": "nan",
         "_deepnote_index_column": 49
        },
        {
         "Customer": "Vince",
         "Title": "Perfect",
         "Comment": "Amazing little projector",
         "Rating": 5,
         "Date": "nan",
         "_deepnote_index_column": 50
        },
        {
         "Customer": "Karla Cárdenas",
         "Title": "Excellent",
         "Comment": "Excellent",
         "Rating": 5,
         "Date": "nan",
         "_deepnote_index_column": 51
        },
        {
         "Customer": "Ah may zing",
         "Title": "Just dope",
         "Comment": "Came in handy for beach Vaca with the kids.",
         "Rating": 5,
         "Date": "nan",
         "_deepnote_index_column": 52
        },
        {
         "Customer": "Steven F.",
         "Title": "Not bad meaning bad, but bad meaning good.",
         "Comment": "Pretty cool. I really dig it. Love the design, feels like something outta star trek. Price is high …",
         "Rating": 5,
         "Date": "nan",
         "_deepnote_index_column": 53
        },
        {
         "Customer": "Night Watchman",
         "Title": "Anker Nebula Capsule",
         "Comment": "Delivered as expected",
         "Rating": 5,
         "Date": "nan",
         "_deepnote_index_column": 54
        },
        {
         "Customer": "Siyuan Ma",
         "Title": "Good",
         "Comment": "Good",
         "Rating": 5,
         "Date": "nan",
         "_deepnote_index_column": 55
        },
        {
         "Customer": "Tryingeye",
         "Title": "Amazing product",
         "Comment": "nan",
         "Rating": 5,
         "Date": "nan",
         "_deepnote_index_column": 56
        },
        {
         "Customer": "Lauren January",
         "Title": "Great picture.",
         "Comment": "I love this! Picture is absolutely amazing as well.",
         "Rating": 5,
         "Date": "nan",
         "_deepnote_index_column": 57
        },
        {
         "Customer": "MaxJoyLife",
         "Title": "Small, projection huge. Game changer.",
         "Comment": "Outstanding! Huge projection. Detail is amazing. And so small!",
         "Rating": 5,
         "Date": "nan",
         "_deepnote_index_column": 58
        },
        {
         "Customer": "JRE",
         "Title": "Five Stars",
         "Comment": "exceeded expectations",
         "Rating": 5,
         "Date": "nan",
         "_deepnote_index_column": 59
        },
        {
         "Customer": "Robert Koch",
         "Title": "Would buy again!",
         "Comment": "Works great in the dorm.",
         "Rating": 5,
         "Date": "nan",
         "_deepnote_index_column": 60
        },
        {
         "Customer": "josie",
         "Title": "Easy to use",
         "Comment": "item was late but came and loved it.",
         "Rating": 5,
         "Date": "nan",
         "_deepnote_index_column": 61
        },
        {
         "Customer": "BreuckelenDude",
         "Title": ".",
         "Comment": "Great item. I use it for mobile gaming and entertaining at night. Plan on buying more for the perfe…",
         "Rating": 5,
         "Date": "nan",
         "_deepnote_index_column": 62
        },
        {
         "Customer": "Amazon Customer",
         "Title": "Lag, but overall worth it",
         "Comment": "Very compact and versatile. Does Lag with picture when connected by cord or streamed by Bluetooth.",
         "Rating": 5,
         "Date": "nan",
         "_deepnote_index_column": 63
        },
        {
         "Customer": "Erin Esposito",
         "Title": "Great to use at night",
         "Comment": "Love using it outdoors!",
         "Rating": 5,
         "Date": "nan",
         "_deepnote_index_column": 64
        },
        {
         "Customer": "Kawther",
         "Title": "Best item",
         "Comment": "Perfect",
         "Rating": 5,
         "Date": "nan",
         "_deepnote_index_column": 65
        },
        {
         "Customer": "Phillip Borawski",
         "Title": "Great portability, awesome projector!",
         "Comment": "I purchased this projector a few weeks ago and have been very happy with it thus far! Wonderful pro…",
         "Rating": 5,
         "Date": "nan",
         "_deepnote_index_column": 66
        },
        {
         "Customer": "yoon ki han",
         "Title": "In usb ppt file can't play?",
         "Comment": "Muchas Gracias!!! Satisfecho su productos!!!",
         "Rating": 5,
         "Date": "nan",
         "_deepnote_index_column": 67
        },
        {
         "Customer": "Remy",
         "Title": "Have a Netflix account",
         "Comment": "Works amazingly and as long as you have some basic adaptors and WiFi, you’ll have everything you’d …",
         "Rating": 5,
         "Date": "nan",
         "_deepnote_index_column": 68
        },
        {
         "Customer": "Ricky",
         "Title": "I love it!",
         "Comment": "So many function build in a tiny projector. It's working perfect.",
         "Rating": 5,
         "Date": "nan",
         "_deepnote_index_column": 69
        },
        {
         "Customer": "Virginia Hepworth",
         "Title": "amazing product - definitely recommend",
         "Comment": "great sound and video quality! just dont know where to put it sometimes bc there's no stand",
         "Rating": 5,
         "Date": "nan",
         "_deepnote_index_column": 70
        },
        {
         "Customer": "Travis",
         "Title": "nice",
         "Comment": "Gt",
         "Rating": 5,
         "Date": "nan",
         "_deepnote_index_column": 71
        },
        {
         "Customer": "Yaovi Dagba",
         "Title": "Clear pictures",
         "Comment": "Amazing device",
         "Rating": 5,
         "Date": "nan",
         "_deepnote_index_column": 72
        },
        {
         "Customer": "Sharon Vandenbos",
         "Title": "Great picture and sound!",
         "Comment": "Great picture and sound!",
         "Rating": 5,
         "Date": "nan",
         "_deepnote_index_column": 73
        },
        {
         "Customer": "Bal",
         "Title": "Great Portable Projector",
         "Comment": "My daughters like it very much!",
         "Rating": 5,
         "Date": "nan",
         "_deepnote_index_column": 74
        },
        {
         "Customer": "Geass13",
         "Title": "Great for Nintendo Switch gameplay",
         "Comment": "Awesome",
         "Rating": 5,
         "Date": "nan",
         "_deepnote_index_column": 75
        },
        {
         "Customer": "Snosons",
         "Title": "Great tiny portable device with an Apple-like attention to detail",
         "Comment": "Great tiny portable device that works flawlessly with Netflix and Spotify running on the device (wh…",
         "Rating": 5,
         "Date": "nan",
         "_deepnote_index_column": 76
        },
        {
         "Customer": "Amazon Customer",
         "Title": "Great. Once in a while, you get great products.",
         "Comment": "Love it. Everything it said it was. More",
         "Rating": 5,
         "Date": "nan",
         "_deepnote_index_column": 77
        },
        {
         "Customer": "Dave_H",
         "Title": "Simply Awesome! Just love this product",
         "Comment": "Simply Awesome! Just love this product. I purchased it from their campaign on Indiegogo along with …",
         "Rating": 5,
         "Date": "nan",
         "_deepnote_index_column": 78
        },
        {
         "Customer": "Mike O",
         "Title": "Ok, I have a case of the WOWs... love this portable projector!",
         "Comment": "One work summary:  WOW!  Great build quality, and Christian from Nebula support was able to help me…",
         "Rating": 5,
         "Date": "nan",
         "_deepnote_index_column": 79
        },
        {
         "Customer": "Darby",
         "Title": "Amazing Product!",
         "Comment": "I originally got this product for business. I am in sales an want to be able to project my power po…",
         "Rating": 5,
         "Date": "nan",
         "_deepnote_index_column": 80
        },
        {
         "Customer": "julita cherry",
         "Title": "Great little device",
         "Comment": "This is a great little projector. I love the compact size. The sound and picture are great. Custome…",
         "Rating": 5,
         "Date": "nan",
         "_deepnote_index_column": 81
        },
        {
         "Customer": "RE",
         "Title": "Wow",
         "Comment": "This thing is totally amazing I’m just getting started using but the sound quality and picture grea…",
         "Rating": 5,
         "Date": "nan",
         "_deepnote_index_column": 82
        },
        {
         "Customer": "jenn0123",
         "Title": "Great device for home use or travel!",
         "Comment": "The Capsule is great and customer service amazing too. The picture is bright enough to go far in a …",
         "Rating": 5,
         "Date": "nan",
         "_deepnote_index_column": 83
        },
        {
         "Customer": "Nicole",
         "Title": "Super awesome!",
         "Comment": "My Dad LOVED it for his Birthday!!",
         "Rating": 5,
         "Date": "nan",
         "_deepnote_index_column": 84
        },
        {
         "Customer": "Jeffrey",
         "Title": "Love",
         "Comment": "This product is unbelievable! Exactly what I was looking for. It’s incredibly easy, wireless, and h…",
         "Rating": 5,
         "Date": "nan",
         "_deepnote_index_column": 85
        },
        {
         "Customer": "MONICA E. MARMOL V.",
         "Title": "Multi funcion, parlante y proyector",
         "Comment": "Increible, funciona como parlante y tiene buena definicion",
         "Rating": 5,
         "Date": "nan",
         "_deepnote_index_column": 86
        },
        {
         "Customer": "Maggie",
         "Title": "Anker Nebula Capsule is well worth the money!!!!",
         "Comment": "I have been blown away by the quality of this product. It was well worth the money!I'm going to sta…",
         "Rating": 5,
         "Date": "nan",
         "_deepnote_index_column": 87
        },
        {
         "Customer": "danahiggins",
         "Title": "The price",
         "Comment": "Works great on my sun porch, with black out curtains",
         "Rating": 5,
         "Date": "nan",
         "_deepnote_index_column": 88
        },
        {
         "Customer": "Noel",
         "Title": "Good projector",
         "Comment": "Good projector",
         "Rating": 5,
         "Date": "nan",
         "_deepnote_index_column": 89
        },
        {
         "Customer": "JHanson",
         "Title": "This little projector is amazing!  After you unlock the full Google experience! Takes 5 minutes.",
         "Comment": "This little projector is amazing!  With the help of Adam at Anker I had the google app store up and…",
         "Rating": 5,
         "Date": "2018-05-25 00:00:00.000",
         "_deepnote_index_column": 90
        },
        {
         "Customer": "T Wang",
         "Title": "can sit nicely on most surfaces and also comes with a standard ...",
         "Comment": "This is a revolutionary product --- a very usable portable projector. It is decently bright; can wo…",
         "Rating": 5,
         "Date": "2018-01-11 00:00:00.000",
         "_deepnote_index_column": 91
        },
        {
         "Customer": "Amb2020",
         "Title": "Amazing little device",
         "Comment": "This will save you a lot of research... I'll address some of the \"pitfalls\" that others have mentio…",
         "Rating": 5,
         "Date": "2018-05-14 00:00:00.000",
         "_deepnote_index_column": 92
        },
        {
         "Customer": "Pocky",
         "Title": "Now I have my own 100 inch screen!",
         "Comment": "My neighbor got one from indiegogo. Last month I was invited to his wine reception and enjoyed an u…",
         "Rating": 5,
         "Date": "2018-04-03 00:00:00.000",
         "_deepnote_index_column": 93
        },
        {
         "Customer": "Ethi Chaudhary",
         "Title": "Its perfect! The sound",
         "Comment": "Its perfect! The sound, picture, connections, everything!- gives a large, crisp, bright image even …",
         "Rating": 5,
         "Date": "2018-07-09 00:00:00.000",
         "_deepnote_index_column": 94
        },
        {
         "Customer": "dfa1234",
         "Title": "great quality, easy to use & stream from various apps",
         "Comment": "This projector is awesome! My husband got it for me for Christmas I was nervous because I have a lo…",
         "Rating": 5,
         "Date": "2019-01-02 00:00:00.000",
         "_deepnote_index_column": 95
        },
        {
         "Customer": "Rebecca M",
         "Title": "Amazing projector for the price. Tons of fun",
         "Comment": "We have had the Nebula Capsulefor about two months now and absolutely love it. We downloaded Netfli…",
         "Rating": 5,
         "Date": "2018-07-10 00:00:00.000",
         "_deepnote_index_column": 96
        },
        {
         "Customer": "Buddhagem",
         "Title": "Amazing device that does EVERYTHING!",
         "Comment": "This mini projector is simply amazing. The size is the first thing that grabs your attention. This …",
         "Rating": 5,
         "Date": "2018-07-22 00:00:00.000",
         "_deepnote_index_column": 97
        },
        {
         "Customer": "doodinvegas",
         "Title": "Cabin Tent Glamping",
         "Comment": "Wow...this little device is amazing!  I just came back from camping up at Zion National Park in the…",
         "Rating": 5,
         "Date": "2018-11-26 00:00:00.000",
         "_deepnote_index_column": 98
        },
        {
         "Customer": "BLADE",
         "Title": "Entertainment in a soda can",
         "Comment": "I purchased this as a Christmas gift for my wife & she really likes it.  The device is the size of …",
         "Rating": 5,
         "Date": "2019-01-10 00:00:00.000",
         "_deepnote_index_column": 99
        }
       ],
       "rows_bottom": [
        {
         "Customer": "RTG",
         "Title": "Overall solid product",
         "Comment": "Solid product for the price. Other reviews are a bit overhyped. I don’t find the picture quality or…",
         "Rating": 3,
         "Date": "2018-12-18 00:00:00.000",
         "_deepnote_index_column": 1359
        },
        {
         "Customer": "D.D.",
         "Title": "too many glitches",
         "Comment": "Cuts out every 15 minutes",
         "Rating": 3,
         "Date": "2020-01-11 00:00:00.000",
         "_deepnote_index_column": 1360
        },
        {
         "Customer": "Ashish",
         "Title": "Expected more",
         "Comment": "Picture quality and sound quality is bellow average. But concept is solid. Have to return",
         "Rating": 2,
         "Date": "2018-07-29 00:00:00.000",
         "_deepnote_index_column": 1361
        },
        {
         "Customer": "Kindle Customer",
         "Title": "Without support this thing is useless.",
         "Comment": "Instructions were terrible. Still have not been successful at making it work",
         "Rating": 3,
         "Date": "2020-07-22 00:00:00.000",
         "_deepnote_index_column": 1362
        },
        {
         "Customer": "Anuroop",
         "Title": "100 ansi lumens is not upto the expectations",
         "Comment": "100 ansi lumens is not that quality enough. And It is a bit disappointing that Netflix / Amazon pri…",
         "Rating": 3,
         "Date": "nan",
         "_deepnote_index_column": 1363
        },
        {
         "Customer": "MM",
         "Title": "Crooked lens",
         "Comment": "Lens is crooked so video is always slanted. Decent speaker, although fan or whatever is the backgro…",
         "Rating": 2,
         "Date": "2019-07-07 00:00:00.000",
         "_deepnote_index_column": 1364
        },
        {
         "Customer": "Mionx",
         "Title": "Terrible unit",
         "Comment": "Dark picture, hdmi connection glitches, remote doesn’t work everything... returning the product",
         "Rating": 1,
         "Date": "2021-01-21 00:00:00.000",
         "_deepnote_index_column": 1365
        },
        {
         "Customer": "Shantie Villada",
         "Title": "doen't last long anymore",
         "Comment": "I bought this around 3 years ago, and this dies less than an hour now even it's plugged.",
         "Rating": 2,
         "Date": "2021-03-31 00:00:00.000",
         "_deepnote_index_column": 1366
        },
        {
         "Customer": "Meaghann Chandler",
         "Title": "Difficult. Period",
         "Comment": "Unfortunately this is very difficult to use. Can't easily stream from apps.",
         "Rating": 1,
         "Date": "2020-10-11 00:00:00.000",
         "_deepnote_index_column": 1367
        },
        {
         "Customer": "Armen Arevian",
         "Title": "Superb device - extremely bad keyboard",
         "Comment": "Superb device - very bad remote - BT keyboards non-compatible - wifi direct non-compatible",
         "Rating": 3,
         "Date": "2020-02-03 00:00:00.000",
         "_deepnote_index_column": 1368
        },
        {
         "Customer": "Mackenzie Kneeland",
         "Title": "Not quite as advertised.",
         "Comment": "Must purchase the extra appropriate cords for your phone and have internet to work correctly. After…",
         "Rating": 3,
         "Date": "2020-02-05 00:00:00.000",
         "_deepnote_index_column": 1369
        },
        {
         "Customer": "Amazon Customer",
         "Title": "Stop working after like 5 used",
         "Comment": "I only used this item 5 times and it stop working. It's dead, like no power at all!🤬",
         "Rating": 2,
         "Date": "2020-10-19 00:00:00.000",
         "_deepnote_index_column": 1370
        },
        {
         "Customer": "geebs",
         "Title": "A little disappointing. If you have an iPhone, do not get.",
         "Comment": "I think mine was defective because it take more than two tries to try and turn on",
         "Rating": 1,
         "Date": "2021-02-22 00:00:00.000",
         "_deepnote_index_column": 1371
        },
        {
         "Customer": "Rebecca Guralnick",
         "Title": "Nice compact mini projector with great speaker!",
         "Comment": "We returned it because it did not have auto focus. Also, the resolution wasn’t the best.",
         "Rating": 3,
         "Date": "2021-01-14 00:00:00.000",
         "_deepnote_index_column": 1372
        },
        {
         "Customer": "Amzon consumerst",
         "Title": "Two Stars",
         "Comment": "Not what's I though it will be",
         "Rating": 2,
         "Date": "nan",
         "_deepnote_index_column": 1373
        },
        {
         "Customer": "Amazon Customer",
         "Title": "Doesn't do what basic projectors are supposed to.",
         "Comment": "Cannot cast or mirror from Android phones. No access to play store, and the third party app store i…",
         "Rating": 1,
         "Date": "2019-09-11 00:00:00.000",
         "_deepnote_index_column": 1374
        },
        {
         "Customer": "Ryan Miller",
         "Title": "Slow, difficult to connect, Wifi is broken.",
         "Comment": "Can only connect to widi maybe 20% of the time, most of the apps don't allow you to sign in due to …",
         "Rating": 1,
         "Date": "2020-07-08 00:00:00.000",
         "_deepnote_index_column": 1375
        },
        {
         "Customer": "Edward Reyes",
         "Title": "Used unit with missing accessories",
         "Comment": "Box wasn’t sealed, charger and cable weren’t in the box, remote control is not working and there wa…",
         "Rating": 1,
         "Date": "2019-10-06 00:00:00.000",
         "_deepnote_index_column": 1376
        },
        {
         "Customer": "moooool3",
         "Title": "price is hig",
         "Comment": "goodBut the price is hig",
         "Rating": 3,
         "Date": "2018-04-22 00:00:00.000",
         "_deepnote_index_column": 1377
        },
        {
         "Customer": "Letha A Hill-Clomon",
         "Title": "To be able to use the projector",
         "Comment": "The product doesn't have the ability to connect without wifi. I wanted to take it camping and it tu…",
         "Rating": 2,
         "Date": "2019-06-29 00:00:00.000",
         "_deepnote_index_column": 1378
        },
        {
         "Customer": "Len",
         "Title": "video quality OK but need more improvement",
         "Comment": "video quality OK but need more improvement",
         "Rating": 3,
         "Date": "2021-04-23 00:00:00.000",
         "_deepnote_index_column": 1379
        },
        {
         "Customer": "patrick",
         "Title": "not a pleasant product",
         "Comment": "A little sad about bought this product, hope they can make improvements.",
         "Rating": 2,
         "Date": "2019-01-08 00:00:00.000",
         "_deepnote_index_column": 1380
        },
        {
         "Customer": "Ka Ti",
         "Title": "I’ve seen better and cheaper",
         "Comment": "Beside being noisy, I was expecting a better experience with this projector. Even though colors are…",
         "Rating": 1,
         "Date": "2018-12-10 00:00:00.000",
         "_deepnote_index_column": 1381
        },
        {
         "Customer": "Selena Calderon",
         "Title": "Okay",
         "Comment": "Remote battery backside falls out fast it feels loose. Certain apps do not work",
         "Rating": 2,
         "Date": "2020-08-04 00:00:00.000",
         "_deepnote_index_column": 1382
        },
        {
         "Customer": "Amanda",
         "Title": "not good",
         "Comment": "The picture quality was very poor. If it wasn’t on a perfect blank white wall with no texture you c…",
         "Rating": 3,
         "Date": "2020-02-17 00:00:00.000",
         "_deepnote_index_column": 1383
        },
        {
         "Customer": "kyle Jameson",
         "Title": "Doesn't charge",
         "Comment": "Dims really quickly.",
         "Rating": 1,
         "Date": "2021-04-04 00:00:00.000",
         "_deepnote_index_column": 1384
        },
        {
         "Customer": "Andrew",
         "Title": "Setup and usage is impossible",
         "Comment": "after numerous failures and video instruction I threw in towel did not work for camping.",
         "Rating": 1,
         "Date": "2020-05-28 00:00:00.000",
         "_deepnote_index_column": 1385
        },
        {
         "Customer": "Chombi 20",
         "Title": "No hbo max",
         "Comment": "No hbo max.",
         "Rating": 3,
         "Date": "2021-06-20 00:00:00.000",
         "_deepnote_index_column": 1386
        },
        {
         "Customer": "TJ",
         "Title": "Fan is loud",
         "Comment": "Fan is very loud. Ruins the experience.",
         "Rating": 1,
         "Date": "2019-08-04 00:00:00.000",
         "_deepnote_index_column": 1387
        },
        {
         "Customer": "johns",
         "Title": "Picture quality is not so good.",
         "Comment": "Picture quality is not good for this price range.",
         "Rating": 1,
         "Date": "2021-01-01 00:00:00.000",
         "_deepnote_index_column": 1388
        },
        {
         "Customer": "Amazon Customer",
         "Title": "The sounds quality is terrible and picture quality is fair.",
         "Comment": "Did not like it.",
         "Rating": 2,
         "Date": "2021-01-18 00:00:00.000",
         "_deepnote_index_column": 1389
        },
        {
         "Customer": "Amazon Customer",
         "Title": "Two Stars",
         "Comment": "I am not able install Apps like Youtube., Netflix,. Airplay is very slow & stuck forever.",
         "Rating": 2,
         "Date": "2018-05-21 00:00:00.000",
         "_deepnote_index_column": 1390
        },
        {
         "Customer": "david m.",
         "Title": "Won’t turn on for more than 5 minutes",
         "Comment": "Had for 6 months and will no longer hold charge or turn on. Plugged in for days and still at 3%.",
         "Rating": 1,
         "Date": "2020-02-04 00:00:00.000",
         "_deepnote_index_column": 1391
        },
        {
         "Customer": "purchaser",
         "Title": "picture quality",
         "Comment": "the projected picture is not aligned straight. It slopes.",
         "Rating": 3,
         "Date": "2020-09-15 00:00:00.000",
         "_deepnote_index_column": 1392
        },
        {
         "Customer": "The Boss",
         "Title": "Not my favorite projector",
         "Comment": "It said Bluetooth and it clearly wasn’t had to download apps and the ones I needed it wouldn’t let …",
         "Rating": 1,
         "Date": "nan",
         "_deepnote_index_column": 1393
        },
        {
         "Customer": "Shane Bartley",
         "Title": "Decent",
         "Comment": "It’s not bad. But wish I could return it.",
         "Rating": 3,
         "Date": "2020-06-28 00:00:00.000",
         "_deepnote_index_column": 1394
        },
        {
         "Customer": "Yaoli",
         "Title": "too noice",
         "Comment": "too noice，brightness not good in day time，",
         "Rating": 1,
         "Date": "2020-09-05 00:00:00.000",
         "_deepnote_index_column": 1395
        },
        {
         "Customer": "John Kimock",
         "Title": "It is not doing what is advertises",
         "Comment": "i called them and they even admitted to it not projecting up how it is pictured in the advertisemen…",
         "Rating": 1,
         "Date": "2019-09-13 00:00:00.000",
         "_deepnote_index_column": 1396
        },
        {
         "Customer": "Emily",
         "Title": "Great image quality, poor sound",
         "Comment": "Fan is too loud to use in a small space like my bedroom",
         "Rating": 3,
         "Date": "2020-02-09 00:00:00.000",
         "_deepnote_index_column": 1397
        },
        {
         "Customer": "Dr. Juris",
         "Title": "Loud Fan is No Fun",
         "Comment": "I love that it’s all-in-one so it’s powered and doesn't need an external video source but I do not …",
         "Rating": 2,
         "Date": "2018-05-24 00:00:00.000",
         "_deepnote_index_column": 1398
        },
        {
         "Customer": "Amazon Customer",
         "Title": "picure quality is not sharp. its not usable at all during day time..",
         "Comment": "picture quality is not sharp",
         "Rating": 3,
         "Date": "2020-01-28 00:00:00.000",
         "_deepnote_index_column": 1399
        },
        {
         "Customer": "John A.",
         "Title": "No support",
         "Comment": "No support",
         "Rating": 1,
         "Date": "2020-12-19 00:00:00.000",
         "_deepnote_index_column": 1400
        },
        {
         "Customer": "Azevedo",
         "Title": "What can I do?",
         "Comment": "The remote control of my device does not work",
         "Rating": 1,
         "Date": "2019-01-01 00:00:00.000",
         "_deepnote_index_column": 1401
        },
        {
         "Customer": "Orli",
         "Title": "I really wanted keep this projector but it has a ...",
         "Comment": "I really wanted keep  this projector but it has a huge design flaw ... #1. No included micro sd car…",
         "Rating": 3,
         "Date": "2018-01-28 00:00:00.000",
         "_deepnote_index_column": 1402
        },
        {
         "Customer": "amaze",
         "Title": "Very low light lumens",
         "Comment": "The light is not strong enough to see anything",
         "Rating": 1,
         "Date": "2019-02-03 00:00:00.000",
         "_deepnote_index_column": 1403
        },
        {
         "Customer": "trock",
         "Title": "Horrible sound",
         "Comment": "Sounds sucks. Brightness is horrible.",
         "Rating": 1,
         "Date": "nan",
         "_deepnote_index_column": 1404
        },
        {
         "Customer": "Rajender Chilukala",
         "Title": "Bad experience with mini projector",
         "Comment": "It’s been an bad experience with Sound quality is too bad , picture quality is Like okay.  For the …",
         "Rating": 2,
         "Date": "2018-08-31 00:00:00.000",
         "_deepnote_index_column": 1405
        },
        {
         "Customer": "Annie",
         "Title": "Just OK",
         "Comment": "OK.",
         "Rating": 3,
         "Date": "2020-05-19 00:00:00.000",
         "_deepnote_index_column": 1406
        },
        {
         "Customer": "Robert J. Blair",
         "Title": "Poorly written manual; great tech support from Kevin",
         "Comment": "The users manual is awful for this product but tech support from Kevin was awesome and quick.",
         "Rating": 3,
         "Date": "2018-06-03 00:00:00.000",
         "_deepnote_index_column": 1407
        },
        {
         "Customer": "Amber EGG",
         "Title": "Pricey paperweight",
         "Comment": "It doesn’t work. I called tech support and it will not actually play anything. My phone communicate…",
         "Rating": 1,
         "Date": "nan",
         "_deepnote_index_column": 1408
        },
        {
         "Customer": "vgdnbfhngt",
         "Title": "Poor quality",
         "Comment": "Poor quality, could not view picture well at all.  Extremely disappointed",
         "Rating": 1,
         "Date": "2019-04-22 00:00:00.000",
         "_deepnote_index_column": 1409
        },
        {
         "Customer": "Julie Yi",
         "Title": "moderate good",
         "Comment": "soso.",
         "Rating": 3,
         "Date": "2019-06-02 00:00:00.000",
         "_deepnote_index_column": 1410
        },
        {
         "Customer": "Harjas Deol",
         "Title": "Waste of money",
         "Comment": "It’s not working good at all",
         "Rating": 1,
         "Date": "nan",
         "_deepnote_index_column": 1411
        },
        {
         "Customer": "norman simmons",
         "Title": "Lumens needs more output",
         "Comment": "Lumen brightness to dim",
         "Rating": 3,
         "Date": "2019-03-02 00:00:00.000",
         "_deepnote_index_column": 1412
        },
        {
         "Customer": "Dhafer",
         "Title": ".",
         "Comment": "Good",
         "Rating": 3,
         "Date": "2019-02-18 00:00:00.000",
         "_deepnote_index_column": 1413
        },
        {
         "Customer": "Keith Allen",
         "Title": "Terrible",
         "Comment": "Despite the representations made by seller, the sealed package arrived MISSING a couple of key comp…",
         "Rating": 1,
         "Date": "2018-06-08 00:00:00.000",
         "_deepnote_index_column": 1414
        },
        {
         "Customer": "jin il kim",
         "Title": "Two Stars",
         "Comment": "😍good",
         "Rating": 2,
         "Date": "nan",
         "_deepnote_index_column": 1415
        },
        {
         "Customer": "Renee LeMoyne",
         "Title": "Only got 2 uses ot if the device",
         "Comment": "I bought this as a gift for my new roommate.  We were able to use it twice and it wont power on aga…",
         "Rating": 1,
         "Date": "2018-07-26 00:00:00.000",
         "_deepnote_index_column": 1416
        },
        {
         "Customer": "Alejandro A.",
         "Title": "Losses focused constantly.,",
         "Comment": "Because it sucks. The remote doesn't work. You have to download an app that sucks. Etc",
         "Rating": 1,
         "Date": "2018-10-05 00:00:00.000",
         "_deepnote_index_column": 1417
        },
        {
         "Customer": "alex",
         "Title": "Also the Capsule Control App is poor. difficult to control the mouse function",
         "Comment": "when connected to the digital set top box, the picture has a blue hue to it. Also the Capsule Contr…",
         "Rating": 3,
         "Date": "nan",
         "_deepnote_index_column": 1418
        },
        {
         "Customer": "Adriana",
         "Title": "Sadly dissappointed yet simultaneously awed",
         "Comment": "I would have loved to say that I'm happy with this product and that it is what I expected.....but I…",
         "Rating": 2,
         "Date": "2018-02-10 00:00:00.000",
         "_deepnote_index_column": 1419
        },
        {
         "Customer": "Jon T",
         "Title": "Software ruins the product",
         "Comment": "Cool little device but it is completely ruined by the cripled software.  If they had made the bootl…",
         "Rating": 1,
         "Date": "2018-02-21 00:00:00.000",
         "_deepnote_index_column": 1420
        },
        {
         "Customer": "Gemma Davis",
         "Title": "Screencast Not Compatible With Google Pixel Phones",
         "Comment": "I wanted to write and warn anyone who is thinking about purchasing this with a Google Pixel phone, …",
         "Rating": 1,
         "Date": "2018-03-13 00:00:00.000",
         "_deepnote_index_column": 1421
        },
        {
         "Customer": "Andy",
         "Title": "Nebula Capsule Review Updated!",
         "Comment": "My original review was based on receiving a used product.After speaking with Anker customer service…",
         "Rating": 3,
         "Date": "2018-02-28 00:00:00.000",
         "_deepnote_index_column": 1422
        },
        {
         "Customer": "Timothy",
         "Title": "Not impressed - welcome to dongle life",
         "Comment": "I wanted to like the Nebula Capsule projector.  I really did ... the size and the speakers are deli…",
         "Rating": 3,
         "Date": "nan",
         "_deepnote_index_column": 1423
        },
        {
         "Customer": "John Shi",
         "Title": "Biggest problem is low brightness",
         "Comment": "This is a cool product - works well as advertised.  the BIGGEST problem, which made me give it a th…",
         "Rating": 3,
         "Date": "2018-01-15 00:00:00.000",
         "_deepnote_index_column": 1424
        },
        {
         "Customer": "white knight",
         "Title": "with this cost you can get something better and higher quality",
         "Comment": "very dim,with this cost you can get something better and higher quality,received with netflix subsc…",
         "Rating": 2,
         "Date": "2018-03-17 00:00:00.000",
         "_deepnote_index_column": 1425
        },
        {
         "Customer": "Dana Cole",
         "Title": "Do not buy!! Scam! Fake!! Trash!!",
         "Comment": "I'd give it negative 5 stars! The projection is upside down. If and when you get past the home scre…",
         "Rating": 1,
         "Date": "2018-06-13 00:00:00.000",
         "_deepnote_index_column": 1426
        },
        {
         "Customer": "Kaaustubh Maane",
         "Title": "Totally waste product",
         "Comment": "Waste of money",
         "Rating": 1,
         "Date": "2018-08-22 00:00:00.000",
         "_deepnote_index_column": 1427
        },
        {
         "Customer": "Ethan Vosburgh",
         "Title": "An Under Baked Device",
         "Comment": "Yes, this is a projector the size of a soda can and that is impressive, but there are several major…",
         "Rating": 2,
         "Date": "nan",
         "_deepnote_index_column": 1428
        },
        {
         "Customer": "Alberto Gallegos",
         "Title": "Really wanted to like it, but...",
         "Comment": "Where to start, had bought the red one they were having a “deal” on last week.  When I got it, felt…",
         "Rating": 3,
         "Date": "2019-03-26 00:00:00.000",
         "_deepnote_index_column": 1429
        },
        {
         "Customer": "William B Partridge",
         "Title": "Terrible software on pleasant hardware.",
         "Comment": "Hardware wise this little device is impressive.  It's not without it's shortcomings, notably bright…",
         "Rating": 3,
         "Date": "2018-01-22 00:00:00.000",
         "_deepnote_index_column": 1430
        },
        {
         "Customer": "Alise Hernandez",
         "Title": "Not compatible with Disney Plus and app is horrible",
         "Comment": "I received this as a gift and loved it until my app needed to be updated. The remote from my phone …",
         "Rating": 2,
         "Date": "2019-11-12 00:00:00.000",
         "_deepnote_index_column": 1431
        },
        {
         "Customer": "Casey Marble",
         "Title": "Second one since November",
         "Comment": "Anker’s customer service is top notch, but sadly the product is full of issues, first one lost all …",
         "Rating": 3,
         "Date": "2019-05-06 00:00:00.000",
         "_deepnote_index_column": 1432
        },
        {
         "Customer": "Kathy Sue",
         "Title": "Cool, just wish it were Brighter",
         "Comment": "I love the size of this thing, it's great!  And I don't mind keeping it plugged up when I'm binge w…",
         "Rating": 3,
         "Date": "2021-02-01 00:00:00.000",
         "_deepnote_index_column": 1433
        },
        {
         "Customer": "AMY LOONEY",
         "Title": "Chromecast",
         "Comment": "I connected them directly before making any final decision (considering the price) and they told me…",
         "Rating": 1,
         "Date": "2020-07-27 00:00:00.000",
         "_deepnote_index_column": 1434
        },
        {
         "Customer": "Lulu",
         "Title": "Need help to run Netflix",
         "Comment": "I have tried on numerous occasions to look at Netflix, unfortunately the projector keeps going to s…",
         "Rating": 3,
         "Date": "2019-04-22 00:00:00.000",
         "_deepnote_index_column": 1435
        },
        {
         "Customer": "Andrew E. Pennebaker",
         "Title": "Missing important integrations",
         "Comment": "Very limited until USB supports modern file systems, supports DLNA home streaming, and supports Sam…",
         "Rating": 3,
         "Date": "2020-10-10 00:00:00.000",
         "_deepnote_index_column": 1436
        },
        {
         "Customer": "CB Jack",
         "Title": "On the fence.",
         "Comment": "This thing is amazing. Super easy to use. It’s a little noisy with the fan. The sound is meh but it…",
         "Rating": 3,
         "Date": "2018-10-19 00:00:00.000",
         "_deepnote_index_column": 1437
        },
        {
         "Customer": "Carlos Vasquez",
         "Title": "Proyector muy mediocre!",
         "Comment": "Imagen horrible en el día y en la noche, totalmente opaca y sin brillo. La batería se descarga muy …",
         "Rating": 1,
         "Date": "2020-03-14 00:00:00.000",
         "_deepnote_index_column": 1438
        },
        {
         "Customer": "NOSE",
         "Title": "Over priced",
         "Comment": "Ankers products are great they are built to last and most importantly what separates them from thei…",
         "Rating": 2,
         "Date": "nan",
         "_deepnote_index_column": 1439
        },
        {
         "Customer": "Kindle Customer",
         "Title": "Expect better for Anker Ruined my fathers day",
         "Comment": "this crappy thing is the opposite of user friendly.  don't say it works with IOS when it clearly do…",
         "Rating": 1,
         "Date": "2019-06-16 00:00:00.000",
         "_deepnote_index_column": 1440
        },
        {
         "Customer": "Hector A.",
         "Title": "Disposable projector no repair centers in USA",
         "Comment": "Had received my capsule as a gift for about 8 months used it about maybe 40 hours of use and the pr…",
         "Rating": 1,
         "Date": "2019-02-01 00:00:00.000",
         "_deepnote_index_column": 1441
        },
        {
         "Customer": "3asha3",
         "Title": "One Star",
         "Comment": "It didn’t work with me 😕",
         "Rating": 1,
         "Date": "2018-03-09 00:00:00.000",
         "_deepnote_index_column": 1442
        },
        {
         "Customer": "Gintas S.",
         "Title": "Disappointed",
         "Comment": "Am disappointed. Picture is very dim/dark. Hard to focus. Blurry at best. The app/remote is just we…",
         "Rating": 3,
         "Date": "2020-06-09 00:00:00.000",
         "_deepnote_index_column": 1443
        },
        {
         "Customer": "Kindle Customer",
         "Title": "not working with apps that I am watching on TV ...",
         "Comment": "not working with apps that I am watching on TV except Amazon Prime or Youtube. so now I have to wat…",
         "Rating": 3,
         "Date": "2018-07-25 00:00:00.000",
         "_deepnote_index_column": 1444
        },
        {
         "Customer": "Zemuron",
         "Title": "That's a pretty big deal breaker for me",
         "Comment": "Doesn't support Chromecast. That's a pretty big deal breaker for me. Projection quality is mediocre.",
         "Rating": 3,
         "Date": "2018-05-21 00:00:00.000",
         "_deepnote_index_column": 1445
        },
        {
         "Customer": "markensen avril",
         "Title": "Three Stars",
         "Comment": "Doesn’t project as vivid as it could but makes up for it in the sound quality",
         "Rating": 3,
         "Date": "2018-05-21 00:00:00.000",
         "_deepnote_index_column": 1446
        },
        {
         "Customer": "Elad Rave",
         "Title": "Two Stars",
         "Comment": "Android version does not include Google Play, so forget about installing most apps.",
         "Rating": 2,
         "Date": "2018-04-30 00:00:00.000",
         "_deepnote_index_column": 1447
        },
        {
         "Customer": "Keny",
         "Title": "Really amazing",
         "Comment": "Wow.its a awesome product.i can make my room as home theatre",
         "Rating": 3,
         "Date": "2018-11-01 00:00:00.000",
         "_deepnote_index_column": 1448
        },
        {
         "Customer": "Jonathan the Greek",
         "Title": "SURELY IT'S WONDERFUL AND ALL",
         "Comment": "I DONT OWN THIS ''THING'', BUT 350 HARD-EARNED DOLLARS INSTEAD OF GETTING A YG-300?????SURELY IT'S …",
         "Rating": 2,
         "Date": "2018-04-03 00:00:00.000",
         "_deepnote_index_column": 1449
        },
        {
         "Customer": "Jeffrey Z",
         "Title": "Lack flexibility",
         "Comment": "As a projector it is solid. The picture is good and I can’t argue with that.  But it’s portability …",
         "Rating": 2,
         "Date": "2020-07-10 00:00:00.000",
         "_deepnote_index_column": 1450
        },
        {
         "Customer": "J. Goodwin",
         "Title": "Two defective units right out of the box. Not good odds, skip this product.",
         "Comment": "It's neat, it works, the kids love movies outside. The user interface is clunky, and it's ridiculou…",
         "Rating": 1,
         "Date": "2019-09-01 00:00:00.000",
         "_deepnote_index_column": 1451
        },
        {
         "Customer": "The MKY",
         "Title": "Low Res",
         "Comment": "Only 480p so very blurry, was not acceptable for me. The customer service was nice and quick though…",
         "Rating": 3,
         "Date": "2021-05-04 00:00:00.000",
         "_deepnote_index_column": 1452
        },
        {
         "Customer": "Zoe",
         "Title": "Not worth the price",
         "Comment": "Easy to use, but it’s dark. It takes me a while to adjust the projector angle every time. The speak…",
         "Rating": 2,
         "Date": "2021-03-07 00:00:00.000",
         "_deepnote_index_column": 1453
        },
        {
         "Customer": "Sergii",
         "Title": "not working with its own Twitch app",
         "Comment": "Upset, not working with its own Twitch app. useless for me.",
         "Rating": 2,
         "Date": "2021-05-23 00:00:00.000",
         "_deepnote_index_column": 1454
        },
        {
         "Customer": "Juan Pablo Navarro Almeida",
         "Title": "Poco brillo y baja resolución",
         "Comment": "No tiene buen brillo, no sirve para jugar play station, porque se nota aunque leve un retraso en la…",
         "Rating": 2,
         "Date": "2018-12-21 00:00:00.000",
         "_deepnote_index_column": 1455
        },
        {
         "Customer": "Sk jhonybasha",
         "Title": "Badluck",
         "Comment": "One day the nebula get heated more and suddenly the bad odour smell is coming and switched off i lo…",
         "Rating": 1,
         "Date": "2020-01-08 00:00:00.000",
         "_deepnote_index_column": 1456
        },
        {
         "Customer": "Len",
         "Title": "Wont last long....",
         "Comment": "nan",
         "Rating": 3,
         "Date": "2019-09-28 00:00:00.000",
         "_deepnote_index_column": 1457
        },
        {
         "Customer": "Jananjaya Mudiyanselage",
         "Title": "Awsome",
         "Comment": "Excellent services and fast turn over",
         "Rating": "nan",
         "Date": "nan",
         "_deepnote_index_column": 1458
        }
       ]
      },
      "text/plain": "                        Customer  \\\n0                          EDGAR   \n1                          Jesse   \n2                          Brian   \n3                      SSG Cross   \n4                          chris   \n...                          ...   \n1454                      Sergii   \n1455  Juan Pablo Navarro Almeida   \n1456               Sk jhonybasha   \n1457                         Len   \n1458     Jananjaya Mudiyanselage   \n\n                                                 Title  \\\n0                                      Great projector   \n1               A little projector that packs a punch!   \n2                       Well thought-out, high-quality   \n3     Truly amazing piece of hardware. I'm blown away!   \n4                             Awesome little projector   \n...                                                ...   \n1454               not working with its own Twitch app   \n1455                     Poco brillo y baja resolución   \n1456                                           Badluck   \n1457                                Wont last long....   \n1458                                            Awsome   \n\n                                                Comment  Rating  \\\n0     Great item, worth every penny. I was skeptical...     5.0   \n1     Bought this for my wife for her birthday. She ...     5.0   \n2     Every time I use this projector, I like it mor...     5.0   \n3     First the not so great: Initially it is kind o...     5.0   \n4     Awesome little projector! Google and Hulu does...     5.0   \n...                                                 ...     ...   \n1454  Upset, not working with its own Twitch app. us...     2.0   \n1455  No tiene buen brillo, no sirve para jugar play...     2.0   \n1456  One day the nebula get heated more and suddenl...     1.0   \n1457                                                NaN     3.0   \n1458              Excellent services and fast turn over     NaN   \n\n                         Date  \n0                         NaN  \n1                         NaN  \n2                         NaN  \n3                         NaN  \n4                         NaN  \n...                       ...  \n1454  2021-05-23 00:00:00.000  \n1455  2018-12-21 00:00:00.000  \n1456  2020-01-08 00:00:00.000  \n1457  2019-09-28 00:00:00.000  \n1458                      NaN  \n\n[1459 rows x 5 columns]",
      "text/html": "<div>\n<style scoped>\n    .dataframe tbody tr th:only-of-type {\n        vertical-align: middle;\n    }\n\n    .dataframe tbody tr th {\n        vertical-align: top;\n    }\n\n    .dataframe thead th {\n        text-align: right;\n    }\n</style>\n<table border=\"1\" class=\"dataframe\">\n  <thead>\n    <tr style=\"text-align: right;\">\n      <th></th>\n      <th>Customer</th>\n      <th>Title</th>\n      <th>Comment</th>\n      <th>Rating</th>\n      <th>Date</th>\n    </tr>\n  </thead>\n  <tbody>\n    <tr>\n      <th>0</th>\n      <td>EDGAR</td>\n      <td>Great projector</td>\n      <td>Great item, worth every penny. I was skeptical...</td>\n      <td>5.0</td>\n      <td>NaN</td>\n    </tr>\n    <tr>\n      <th>1</th>\n      <td>Jesse</td>\n      <td>A little projector that packs a punch!</td>\n      <td>Bought this for my wife for her birthday. She ...</td>\n      <td>5.0</td>\n      <td>NaN</td>\n    </tr>\n    <tr>\n      <th>2</th>\n      <td>Brian</td>\n      <td>Well thought-out, high-quality</td>\n      <td>Every time I use this projector, I like it mor...</td>\n      <td>5.0</td>\n      <td>NaN</td>\n    </tr>\n    <tr>\n      <th>3</th>\n      <td>SSG Cross</td>\n      <td>Truly amazing piece of hardware. I'm blown away!</td>\n      <td>First the not so great: Initially it is kind o...</td>\n      <td>5.0</td>\n      <td>NaN</td>\n    </tr>\n    <tr>\n      <th>4</th>\n      <td>chris</td>\n      <td>Awesome little projector</td>\n      <td>Awesome little projector! Google and Hulu does...</td>\n      <td>5.0</td>\n      <td>NaN</td>\n    </tr>\n    <tr>\n      <th>...</th>\n      <td>...</td>\n      <td>...</td>\n      <td>...</td>\n      <td>...</td>\n      <td>...</td>\n    </tr>\n    <tr>\n      <th>1454</th>\n      <td>Sergii</td>\n      <td>not working with its own Twitch app</td>\n      <td>Upset, not working with its own Twitch app. us...</td>\n      <td>2.0</td>\n      <td>2021-05-23 00:00:00.000</td>\n    </tr>\n    <tr>\n      <th>1455</th>\n      <td>Juan Pablo Navarro Almeida</td>\n      <td>Poco brillo y baja resolución</td>\n      <td>No tiene buen brillo, no sirve para jugar play...</td>\n      <td>2.0</td>\n      <td>2018-12-21 00:00:00.000</td>\n    </tr>\n    <tr>\n      <th>1456</th>\n      <td>Sk jhonybasha</td>\n      <td>Badluck</td>\n      <td>One day the nebula get heated more and suddenl...</td>\n      <td>1.0</td>\n      <td>2020-01-08 00:00:00.000</td>\n    </tr>\n    <tr>\n      <th>1457</th>\n      <td>Len</td>\n      <td>Wont last long....</td>\n      <td>NaN</td>\n      <td>3.0</td>\n      <td>2019-09-28 00:00:00.000</td>\n    </tr>\n    <tr>\n      <th>1458</th>\n      <td>Jananjaya Mudiyanselage</td>\n      <td>Awsome</td>\n      <td>Excellent services and fast turn over</td>\n      <td>NaN</td>\n      <td>NaN</td>\n    </tr>\n  </tbody>\n</table>\n<p>1459 rows × 5 columns</p>\n</div>"
     },
     "metadata": {}
    }
   ]
  },
  {
   "cell_type": "markdown",
   "source": "# 2. Data Cleaning",
   "metadata": {
    "tags": [],
    "is_collapsed": false,
    "cell_id": "00007-b11c28ac-44db-4d45-b8a6-4b78f084baba",
    "deepnote_app_coordinates": {
     "x": 0,
     "y": 30,
     "w": 12,
     "h": 2
    },
    "deepnote_cell_type": "text-cell-h1"
   }
  },
  {
   "cell_type": "markdown",
   "source": "In the dataset that we have, we will be focussing on the \"Title\" and \"Comment\" columns as they contain words we can analyse.\n\nWe decided to keep the \"Title\" column as users have to summarise their reviews in only a few words. Therefore, it is where there will be the strongest words as opposed to the \"Comment\" column where opinions can be more diluted. (eg. Title: **Terrible** product, Comment: This product **does not work** correctly)",
   "metadata": {
    "tags": [],
    "cell_id": "00008-1dd93ebe-e1a7-4f67-993c-575c8706ea9d",
    "deepnote_app_coordinates": {
     "x": 0,
     "y": 33,
     "w": 12,
     "h": 5
    },
    "deepnote_cell_type": "markdown"
   }
  },
  {
   "cell_type": "code",
   "metadata": {
    "tags": [],
    "cell_id": "00005-b9b690b4-d898-4e26-99e7-2f7a0fb31757",
    "deepnote_to_be_reexecuted": false,
    "source_hash": "74162cb6",
    "execution_start": 1637538951320,
    "execution_millis": 22,
    "deepnote_app_coordinates": {
     "x": 0,
     "y": 39,
     "w": 12,
     "h": 5
    },
    "deepnote_cell_type": "code"
   },
   "source": "#Merge Title and Comment column into one\ndf_date['Review'] = df_date['Title'] + ' ' + df_date['Comment']\n\n#Drop obsolete columns and set the first index to the number 1\ndf=df_date.drop(columns=['Customer','Rating','Date', 'Title', 'Comment'])\ndf=df.dropna()\ndf",
   "execution_count": null,
   "outputs": [
    {
     "output_type": "execute_result",
     "execution_count": 3,
     "data": {
      "application/vnd.deepnote.dataframe.v2+json": {
       "row_count": 1441,
       "column_count": 1,
       "columns": [
        {
         "name": "Review",
         "dtype": "object",
         "stats": {
          "unique_count": 1432,
          "nan_count": 0,
          "categories": [
           {
            "name": "Good Good",
            "count": 7
           },
           {
            "name": "Great Great",
            "count": 2
           },
           {
            "name": "1430 others",
            "count": 1432
           }
          ]
         }
        },
        {
         "name": "_deepnote_index_column",
         "dtype": "int64"
        }
       ],
       "rows_top": [
        {
         "Review": "Great projector Great item, worth every penny. I was skeptical about it after seeing comments on ho…",
         "_deepnote_index_column": 0
        },
        {
         "Review": "A little projector that packs a punch! Bought this for my wife for her birthday. She wanted a proje…",
         "_deepnote_index_column": 1
        },
        {
         "Review": "Well thought-out, high-quality Every time I use this projector, I like it more. The build quality f…",
         "_deepnote_index_column": 2
        },
        {
         "Review": "Truly amazing piece of hardware. I'm blown away! First the not so great: Initially it is kind of a …",
         "_deepnote_index_column": 3
        },
        {
         "Review": "Awesome little projector Awesome little projector! Google and Hulu doesn’t work when you get it bec…",
         "_deepnote_index_column": 4
        },
        {
         "Review": "Amazing.  Perfect if you have a baby in a crib like I do. This thing is epic.  I recommend it to ev…",
         "_deepnote_index_column": 5
        },
        {
         "Review": "Awesome. Simple to use. Great projector. Works right out of the box. It only took two minutes to se…",
         "_deepnote_index_column": 6
        },
        {
         "Review": "Take note, adding a USB-C to HDMI for mobile devices, lighting cord iPhone will??? Some devices are…",
         "_deepnote_index_column": 7
        },
        {
         "Review": "Works as advertised. I went through 3 projectors brands before I landed on this and everything work…",
         "_deepnote_index_column": 8
        },
        {
         "Review": "Really frickin' cool Pretty amazing little device...  used camping in the deep wilderness.  The lit…",
         "_deepnote_index_column": 9
        },
        {
         "Review": "The Amazing Little Projector Great picture and sound from such a small device! It really is the siz…",
         "_deepnote_index_column": 10
        },
        {
         "Review": "Everything they say it can do, it does, and does it well I love this projector, it now goes on all …",
         "_deepnote_index_column": 11
        },
        {
         "Review": "It does what it do Small, bright, and clear, with a decent speaker. I spent weeks checking reviews …",
         "_deepnote_index_column": 12
        },
        {
         "Review": "Best invention ever!! We have used this on vacations, and most recently we stayed a few days with t…",
         "_deepnote_index_column": 13
        },
        {
         "Review": "The Bomb-Diggity I am so impressed with this little projector. It was easy to set up and use and th…",
         "_deepnote_index_column": 14
        },
        {
         "Review": "Best smart projector I’ve owned Having owned other projectors, the quality of the Nebula Capsule ho…",
         "_deepnote_index_column": 15
        },
        {
         "Review": "Convenient I enjoy using this projector.  I use it outside indoors for pleasure and business. Not a…",
         "_deepnote_index_column": 16
        },
        {
         "Review": "Great customer service, great projector! I feel compelled to rewrite our review.  Our first review …",
         "_deepnote_index_column": 17
        },
        {
         "Review": "Best projector ever! Excellent quality! The picture is even better in real life! Talk about being a…",
         "_deepnote_index_column": 18
        },
        {
         "Review": "So happy with my purchase I bought this for my wife for Christmas and she initially wanted to retur…",
         "_deepnote_index_column": 19
        },
        {
         "Review": "Small device....packs a big punch! I bought this off Amazon’s Travel Trunk. I’ve never heard or saw…",
         "_deepnote_index_column": 20
        },
        {
         "Review": "It’s more like a portable smart tv 📺 I have stopped using my tv since I bought this thing. It’s sel…",
         "_deepnote_index_column": 21
        },
        {
         "Review": "As advertised Pretty much exactly what I thought it was gonna be like. Sound and picture was great.…",
         "_deepnote_index_column": 22
        },
        {
         "Review": "Exactly what I was looking for! Love it. Exactly what I was looking for and also so small. This was…",
         "_deepnote_index_column": 23
        },
        {
         "Review": "A Theater in a Can Without Cables! I can't even begin to describe how awesome it is to have a theat…",
         "_deepnote_index_column": 24
        },
        {
         "Review": "Picture and sound quality is great I was surprised the picture and sound quality would be so good c…",
         "_deepnote_index_column": 25
        },
        {
         "Review": "I'll never buy another TV Was upset that when I bought this it wouldn't allow me to watch Netflix, …",
         "_deepnote_index_column": 26
        },
        {
         "Review": "Fantastic design, we lie in bed and watch movies on the ceiling. Bluetooth and built in speaker are…",
         "_deepnote_index_column": 27
        },
        {
         "Review": "Happy camper!!! This has been the perfect addition to our home and camper!!!! Great picture and qua…",
         "_deepnote_index_column": 28
        },
        {
         "Review": "Great little projector. Even better customer service! This little projector allows me to view all m…",
         "_deepnote_index_column": 29
        },
        {
         "Review": "Amazing product I've been using at remote places to show my documentaries, villages and etc.. it's …",
         "_deepnote_index_column": 30
        },
        {
         "Review": "Great package I used this inside my tent when I go camping. Can download movies from Netflix and pl…",
         "_deepnote_index_column": 31
        },
        {
         "Review": "You will not regret buying this! This is definitely perfect for a movie date at home or solo watchi…",
         "_deepnote_index_column": 32
        },
        {
         "Review": "Wow! Amazing little projector!",
         "_deepnote_index_column": 33
        },
        {
         "Review": "Awesome picture, product, quality This is an amazing little tool. Speaker is plenty loud and the pi…",
         "_deepnote_index_column": 34
        },
        {
         "Review": "Great lil tech device Excellent for school presentations. Love that it has 360 degree sound.",
         "_deepnote_index_column": 36
        },
        {
         "Review": "Great product! Great customer service! Our first movie projector. We LOVE it!!! The customer servic…",
         "_deepnote_index_column": 37
        },
        {
         "Review": "It’s a good splurge. I love it ! I realized I don’t watch more than I believed but it’s an amazing …",
         "_deepnote_index_column": 38
        },
        {
         "Review": "Tiny and amazing This is really the size of a soda can!! Picture quality is great. The speakers are…",
         "_deepnote_index_column": 39
        },
        {
         "Review": "Would recommend if you need portability and comparability with game system Given that I live in an …",
         "_deepnote_index_column": 40
        },
        {
         "Review": "Love it It is difficult to add apps. But love it.",
         "_deepnote_index_column": 41
        },
        {
         "Review": "May need to add additional speakers Very nice unit.",
         "_deepnote_index_column": 42
        },
        {
         "Review": "Customer support is verry attentive I got my nebula projector and the battery was not working corre…",
         "_deepnote_index_column": 43
        },
        {
         "Review": "Great projector! After buying and returning 3 other projectors, we are loving this one. Well worth …",
         "_deepnote_index_column": 44
        },
        {
         "Review": "No need word to say What should I say? Those pictures said it all!",
         "_deepnote_index_column": 45
        },
        {
         "Review": "Awesome projector!! Just received this yesterday! love it!! I had to look through the manuel to fig…",
         "_deepnote_index_column": 46
        },
        {
         "Review": "nice good quality",
         "_deepnote_index_column": 47
        },
        {
         "Review": "Great and very portable projector Bought it as a birthday gift for my wife and she loves everything…",
         "_deepnote_index_column": 48
        },
        {
         "Review": "Perdé Please forgive my last report. Excellent product. Works perfectly. Thinking about buying anot…",
         "_deepnote_index_column": 49
        },
        {
         "Review": "Perfect Amazing little projector",
         "_deepnote_index_column": 50
        },
        {
         "Review": "Excellent Excellent",
         "_deepnote_index_column": 51
        },
        {
         "Review": "Just dope Came in handy for beach Vaca with the kids.",
         "_deepnote_index_column": 52
        },
        {
         "Review": "Not bad meaning bad, but bad meaning good. Pretty cool. I really dig it. Love the design, feels lik…",
         "_deepnote_index_column": 53
        },
        {
         "Review": "Anker Nebula Capsule Delivered as expected",
         "_deepnote_index_column": 54
        },
        {
         "Review": "Good Good",
         "_deepnote_index_column": 55
        },
        {
         "Review": "Great picture. I love this! Picture is absolutely amazing as well.",
         "_deepnote_index_column": 57
        },
        {
         "Review": "Small, projection huge. Game changer. Outstanding! Huge projection. Detail is amazing. And so small!",
         "_deepnote_index_column": 58
        },
        {
         "Review": "Five Stars exceeded expectations",
         "_deepnote_index_column": 59
        },
        {
         "Review": "Would buy again! Works great in the dorm.",
         "_deepnote_index_column": 60
        },
        {
         "Review": "Easy to use item was late but came and loved it.",
         "_deepnote_index_column": 61
        },
        {
         "Review": ". Great item. I use it for mobile gaming and entertaining at night. Plan on buying more for the per…",
         "_deepnote_index_column": 62
        },
        {
         "Review": "Lag, but overall worth it Very compact and versatile. Does Lag with picture when connected by cord …",
         "_deepnote_index_column": 63
        },
        {
         "Review": "Great to use at night Love using it outdoors!",
         "_deepnote_index_column": 64
        },
        {
         "Review": "Best item Perfect",
         "_deepnote_index_column": 65
        },
        {
         "Review": "Great portability, awesome projector! I purchased this projector a few weeks ago and have been very…",
         "_deepnote_index_column": 66
        },
        {
         "Review": "In usb ppt file can't play? Muchas Gracias!!! Satisfecho su productos!!!",
         "_deepnote_index_column": 67
        },
        {
         "Review": "Have a Netflix account Works amazingly and as long as you have some basic adaptors and WiFi, you’ll…",
         "_deepnote_index_column": 68
        },
        {
         "Review": "I love it! So many function build in a tiny projector. It's working perfect.",
         "_deepnote_index_column": 69
        },
        {
         "Review": "amazing product - definitely recommend great sound and video quality! just dont know where to put i…",
         "_deepnote_index_column": 70
        },
        {
         "Review": "nice Gt",
         "_deepnote_index_column": 71
        },
        {
         "Review": "Clear pictures Amazing device",
         "_deepnote_index_column": 72
        },
        {
         "Review": "Great picture and sound! Great picture and sound!",
         "_deepnote_index_column": 73
        },
        {
         "Review": "Great Portable Projector My daughters like it very much!",
         "_deepnote_index_column": 74
        },
        {
         "Review": "Great for Nintendo Switch gameplay Awesome",
         "_deepnote_index_column": 75
        },
        {
         "Review": "Great tiny portable device with an Apple-like attention to detail Great tiny portable device that w…",
         "_deepnote_index_column": 76
        },
        {
         "Review": "Great. Once in a while, you get great products. Love it. Everything it said it was. More",
         "_deepnote_index_column": 77
        },
        {
         "Review": "Simply Awesome! Just love this product Simply Awesome! Just love this product. I purchased it from …",
         "_deepnote_index_column": 78
        },
        {
         "Review": "Ok, I have a case of the WOWs... love this portable projector! One work summary:  WOW!  Great build…",
         "_deepnote_index_column": 79
        },
        {
         "Review": "Amazing Product! I originally got this product for business. I am in sales an want to be able to pr…",
         "_deepnote_index_column": 80
        },
        {
         "Review": "Great little device This is a great little projector. I love the compact size. The sound and pictur…",
         "_deepnote_index_column": 81
        },
        {
         "Review": "Wow This thing is totally amazing I’m just getting started using but the sound quality and picture …",
         "_deepnote_index_column": 82
        },
        {
         "Review": "Great device for home use or travel! The Capsule is great and customer service amazing too. The pic…",
         "_deepnote_index_column": 83
        },
        {
         "Review": "Super awesome! My Dad LOVED it for his Birthday!!",
         "_deepnote_index_column": 84
        },
        {
         "Review": "Love This product is unbelievable! Exactly what I was looking for. It’s incredibly easy, wireless, …",
         "_deepnote_index_column": 85
        },
        {
         "Review": "Multi funcion, parlante y proyector Increible, funciona como parlante y tiene buena definicion",
         "_deepnote_index_column": 86
        },
        {
         "Review": "Anker Nebula Capsule is well worth the money!!!! I have been blown away by the quality of this prod…",
         "_deepnote_index_column": 87
        },
        {
         "Review": "The price Works great on my sun porch, with black out curtains",
         "_deepnote_index_column": 88
        },
        {
         "Review": "Good projector Good projector",
         "_deepnote_index_column": 89
        },
        {
         "Review": "This little projector is amazing!  After you unlock the full Google experience! Takes 5 minutes. Th…",
         "_deepnote_index_column": 90
        },
        {
         "Review": "can sit nicely on most surfaces and also comes with a standard ... This is a revolutionary product …",
         "_deepnote_index_column": 91
        },
        {
         "Review": "Amazing little device This will save you a lot of research... I'll address some of the \"pitfalls\" t…",
         "_deepnote_index_column": 92
        },
        {
         "Review": "Now I have my own 100 inch screen! My neighbor got one from indiegogo. Last month I was invited to …",
         "_deepnote_index_column": 93
        },
        {
         "Review": "Its perfect! The sound Its perfect! The sound, picture, connections, everything!- gives a large, cr…",
         "_deepnote_index_column": 94
        },
        {
         "Review": "great quality, easy to use & stream from various apps This projector is awesome! My husband got it …",
         "_deepnote_index_column": 95
        },
        {
         "Review": "Amazing projector for the price. Tons of fun We have had the Nebula Capsulefor about two months now…",
         "_deepnote_index_column": 96
        },
        {
         "Review": "Amazing device that does EVERYTHING! This mini projector is simply amazing. The size is the first t…",
         "_deepnote_index_column": 97
        },
        {
         "Review": "Cabin Tent Glamping Wow...this little device is amazing!  I just came back from camping up at Zion …",
         "_deepnote_index_column": 98
        },
        {
         "Review": "Entertainment in a soda can I purchased this as a Christmas gift for my wife & she really likes it.…",
         "_deepnote_index_column": 99
        },
        {
         "Review": "Excellent so far... Been using it for a week so far and i’m pretty happy with it. size is small but…",
         "_deepnote_index_column": 100
        },
        {
         "Review": "I Want this Nebula to Work with Updated Review Update: 08/07/18I tell you what. This company is ama…",
         "_deepnote_index_column": 102
        },
        {
         "Review": "My  favorite LED projector by far! Ticks all the boxes. I bought this Nebula Capsule for a trip to …",
         "_deepnote_index_column": 103
        },
        {
         "Review": "Small investment for great image quality Love it!! We use it for backyard movie nights, and camping…",
         "_deepnote_index_column": 104
        },
        {
         "Review": "One of my favorite purchases in the last few years I love this this little projector. It surpasses …",
         "_deepnote_index_column": 105
        },
        {
         "Review": "A profoundly durable projector well-worth the money. OK. Right off the bat, this is NOT a daytime-u…",
         "_deepnote_index_column": 106
        },
        {
         "Review": "Absolutely amazing I bought this for one specific purpose and it is performing absolutely amazing. …",
         "_deepnote_index_column": 107
        },
        {
         "Review": "I love this stupid projector. Great bang for the buck if you're aware of its limitations. Lovely pr…",
         "_deepnote_index_column": 108
        },
        {
         "Review": "LOVE this projector and their customer service! I have wanted a projector for years for backyard mo…",
         "_deepnote_index_column": 109
        },
        {
         "Review": "AMAZING!! EASY TO USE RIGHT OUT OF THE BOX,  GREAT SOUND AND PICTURE, BUY IT ALREADY! Was looking f…",
         "_deepnote_index_column": 110
        },
        {
         "Review": "small and portable, great functionality This is a great little projector! My priorities picking a p…",
         "_deepnote_index_column": 111
        },
        {
         "Review": "Super cool little projector I love this little projector.  It's pretty bright and the image is even…",
         "_deepnote_index_column": 112
        },
        {
         "Review": "The coolest thing ever!!! I love having the latest gadgets. I always need the high tech crap. Alway…",
         "_deepnote_index_column": 113
        },
        {
         "Review": "Awesome portable projector! We have several friends with large projector displays... huge boxes wit…",
         "_deepnote_index_column": 114
        },
        {
         "Review": "Anker Service is the Best - the Nebula is pretty great too. When we bought the Nebula, I pulled the…",
         "_deepnote_index_column": 115
        },
        {
         "Review": "Small, compact and works! So I was hesitant to purchase this because of the price. I was worried I'…",
         "_deepnote_index_column": 116
        },
        {
         "Review": "Impressive Portability, quality and value With total regret, I ended up returning this product due …",
         "_deepnote_index_column": 117
        },
        {
         "Review": "Best purchase! Before I make any critiques, I absolutely LOVE this projector. I bought it initially…",
         "_deepnote_index_column": 118
        },
        {
         "Review": "Netflix - Android phone workaround Although I didn't really notice the small print in the advertisi…",
         "_deepnote_index_column": 119
        },
        {
         "Review": "LOVE THIS PROJECTOR!!! This gadget along with my Eufy 11s robovac have got to be my top 2 favorite …",
         "_deepnote_index_column": 120
        },
        {
         "Review": "Good for the important stuff. Drawbacks are annoying but not deal-breakers. UPDATE, June 2019: My d…",
         "_deepnote_index_column": 121
        },
        {
         "Review": "Great customer service I purchased my nebula projector recently and I love how it’s so compact and …",
         "_deepnote_index_column": 122
        },
        {
         "Review": "Amazing quality This is amazing!!! The only part the sucks is the sensor for the remote is behind t…",
         "_deepnote_index_column": 123
        },
        {
         "Review": "Awesome Niche Projector It’s an amazing piece of technology. Perfect for what it is. Very portable …",
         "_deepnote_index_column": 124
        },
        {
         "Review": "Hulu and HBO max are compatible When I first received this product, I’ll admit- I was not happy. Hu…",
         "_deepnote_index_column": 125
        },
        {
         "Review": "Highly Recommend For the size and portability, I don’t think you can find a better unit. The pictur…",
         "_deepnote_index_column": 126
        },
        {
         "Review": "Perfect This little projector is awesome! Super small, easy to set up, pretty decent sound from the…",
         "_deepnote_index_column": 127
        },
        {
         "Review": "Very cool and excellent customer service! * Initial review*First off - this is a fantastic idea and…",
         "_deepnote_index_column": 128
        },
        {
         "Review": "Astonishing product — great picture and easy to connect! We are in love with the Nebula Capsule! Pu…",
         "_deepnote_index_column": 129
        },
        {
         "Review": "Nebula Capsule vs. Xgimi Mogo Pro – why I chose the Nebula I’m writing this tome of a review, becau…",
         "_deepnote_index_column": 130
        },
        {
         "Review": "Good product with even better customer service! Used for business presentation and I failed to adju…",
         "_deepnote_index_column": 131
        },
        {
         "Review": "Good piece of kit. Excellent piece of kit.  Solid, well made and smaller than a can of coke.  Sound…",
         "_deepnote_index_column": 132
        },
        {
         "Review": "This thing is AWESOME!!! I got this for my family for getting together with people outdoors/sociall…",
         "_deepnote_index_column": 133
        },
        {
         "Review": "Love this thing! I love this projector. I have a small room and didn't want a wall to be taken up b…",
         "_deepnote_index_column": 134
        },
        {
         "Review": "An entire movie night... in a soda can!  It's amazing! I bought two of these in 2018 as gifts for m…",
         "_deepnote_index_column": 135
        },
        {
         "Review": "What a cool smart little projector Wow!  In our VW EVC set the capsule on the top bunk and add a wh…",
         "_deepnote_index_column": 136
        },
        {
         "Review": "Died in two years (Updated) Update: Anker's support team followed up with me and went above and bey…",
         "_deepnote_index_column": 138
        },
        {
         "Review": "I did not expect to have any particularly spectacular brightness ... I did not expect to have any p…",
         "_deepnote_index_column": 139
        },
        {
         "Review": "Product Quality, Company Response/Customer Service are Unrivaled PRODUCT QUALITY:I absolutely LOVE …",
         "_deepnote_index_column": 140
        },
        {
         "Review": "Must have for those looking for experiences vs. resolution I did a lot of research on this tiny mag…",
         "_deepnote_index_column": 141
        },
        {
         "Review": "Super handy and functional on the go projector an smart tv. I purchased this and the Capsule II.  H…",
         "_deepnote_index_column": 142
        },
        {
         "Review": "Good picture small package This projector has a good picture and brightness in darker rooms or at n…",
         "_deepnote_index_column": 143
        },
        {
         "Review": "Highly recommend to anyone! This projector is amazing! We love it and recommended to all of our fri…",
         "_deepnote_index_column": 144
        },
        {
         "Review": "Love Love Love So far this product is AMAZING! Had our 1st movie nite and wow... extremely impresse…",
         "_deepnote_index_column": 145
        },
        {
         "Review": "Great for entertaining kids only after unlocking Google Play Services Update (11/30/2019): after le…",
         "_deepnote_index_column": 146
        },
        {
         "Review": "Movie Night, whole new level! This little projector was a great gift for my teenage daughter.  She …",
         "_deepnote_index_column": 147
        },
        {
         "Review": "Light, compact projector with a brilliant and clear picture. I purchased this projector in response…",
         "_deepnote_index_column": 148
        },
        {
         "Review": "Wow! I read every review and watched every unboxing and review videos. I looked at comparison video…",
         "_deepnote_index_column": 149
        },
        {
         "Review": "Great product and great customer service! Projector works great! We use it for outside movie nights…",
         "_deepnote_index_column": 150
        },
        {
         "Review": "Very easy to use. (Muy fácil de usar). The best thing that we ever had to watch movies,  cartoons e…",
         "_deepnote_index_column": 151
        },
        {
         "Review": "I. AM. BLOWN. AWAY This little thing is amazing!!!! Yes, its expensive, but worth investing in if y…",
         "_deepnote_index_column": 152
        },
        {
         "Review": "works like a charm we have only been able to use this a couple times so far but it works perfectly.…",
         "_deepnote_index_column": 153
        },
        {
         "Review": "Works well for my intended use. I got this mainly to use for teaching small groups of volunteers ho…",
         "_deepnote_index_column": 154
        },
        {
         "Review": "Fantastic if you're not picky about the little nuances I bought this primarily to watch in my dorm …",
         "_deepnote_index_column": 155
        },
        {
         "Review": "Great! This thing is really impressive so far. A lot of value packed into this tiny device. It is m…",
         "_deepnote_index_column": 156
        },
        {
         "Review": "Quality! Quality! Quality! Oh my awesomeness! My husband loves it. We purchased the model below thi…",
         "_deepnote_index_column": 157
        },
        {
         "Review": "A MUST HAVE IF YOU ARE LOOKING FOR A PORTABLE PROJECTOR Let me start off by saying I rarely submit …",
         "_deepnote_index_column": 158
        },
        {
         "Review": "This is the one! PICO projector for movies/show in full effect! Let me start by saying THIS IS THE …",
         "_deepnote_index_column": 159
        },
        {
         "Review": "The best projector under $1000 !! You won’t be able to find a projector to provide clarity and conv…",
         "_deepnote_index_column": 160
        },
        {
         "Review": "Almost not buying due to customer support I love this machine in all honesty. Replaced my TVs and o…",
         "_deepnote_index_column": 161
        },
        {
         "Review": "Absolutely pleased in every way This was a Christmas gift for my father and i originally purchased …",
         "_deepnote_index_column": 162
        },
        {
         "Review": "Tiny powerhouse My husband first showed me a video of someone reviewing this projector and I had my…",
         "_deepnote_index_column": 163
        },
        {
         "Review": "Great customer service I love this projector - we bought it to stream football games and sporting e…",
         "_deepnote_index_column": 164
        },
        {
         "Review": "Small, compact. This is a nice projector.  I did some research before purchasing it.  I'm very glad…",
         "_deepnote_index_column": 165
        },
        {
         "Review": "Incredible.... Decided to try this thing instead of the top of line one just to see if they even us…",
         "_deepnote_index_column": 166
        },
        {
         "Review": "Great Customer Service !!!! I purchased this item a few years ago and I am very pleased.  There was…",
         "_deepnote_index_column": 167
        },
        {
         "Review": "Anker incredible experience.... The anker nebula flaw is the manual remote.I recently had difficult…",
         "_deepnote_index_column": 168
        },
        {
         "Review": "Great small portable projector I had this projector since early this year. I've been using it for o…",
         "_deepnote_index_column": 169
        },
        {
         "Review": "Get it, you'll love it! Extremely easy to use! Love all the features. You ca  download Netflix, Hul…",
         "_deepnote_index_column": 170
        },
        {
         "Review": "Love it, easy to use. Easy to use, great picture and sound quality. So far very pleased. I am conce…",
         "_deepnote_index_column": 172
        },
        {
         "Review": "Love this projector! We use this projector instead of a TV and would not go back! It’s mobile, can …",
         "_deepnote_index_column": 173
        },
        {
         "Review": "Great quality, Netflix and other apps compatible. We have tried other projectors and this one is am…",
         "_deepnote_index_column": 174
        },
        {
         "Review": "Great functionalities and quality for the price Very glad about the purchase. Good price for the qu…",
         "_deepnote_index_column": 175
        },
        {
         "Review": "So good, daughter gave up her TV to use just the projector It was a Christmas gift to my daughter w…",
         "_deepnote_index_column": 176
        },
        {
         "Review": "Amazing support from Anker Oct 16 Update:Anker reached out and started solving my problems one by o…",
         "_deepnote_index_column": 177
        },
        {
         "Review": "Great picture quality and sound... I watch more nebula than TV I love it! bright, neat, I do power …",
         "_deepnote_index_column": 178
        },
        {
         "Review": "Fantastic Little Device - Seriously My Favorite New Toy I was a little concerned about the standard…",
         "_deepnote_index_column": 179
        },
        {
         "Review": "Great product, great price Looking at projectors has been so overwhelming. So many choices and so m…",
         "_deepnote_index_column": 180
        },
        {
         "Review": "Easy little fella to use I was very skeptical about buying the projector, as it is smaller, and so …",
         "_deepnote_index_column": 181
        },
        {
         "Review": "Best All in one solution out there I’ve been using the projector for two months. Pros:* seamless co…",
         "_deepnote_index_column": 182
        },
        {
         "Review": "We LOVE our Nebula We LOVE our Nebula. We have been relaxing and watching movies on the wall. I bou…",
         "_deepnote_index_column": 183
        },
        {
         "Review": "This projector is perfect depending on what you’re looking for As a college student who travels, I …",
         "_deepnote_index_column": 184
        },
        {
         "Review": "I am Updating the review This is an update to the initial review, this product is not only cool it …",
         "_deepnote_index_column": 185
        },
        {
         "Review": "Quality mini portable projector with built-in speaker. Love how portable it is and that it function…",
         "_deepnote_index_column": 186
        },
        {
         "Review": "A great Android projector! So far I’m loving the Nebula Capsule! The built in app store is lacking …",
         "_deepnote_index_column": 187
        },
        {
         "Review": "I really am having alot of fun with this I really am having alot of fun with this. Now I am not a t…",
         "_deepnote_index_column": 188
        },
        {
         "Review": "Worth It! Great for outdoor parties and family nights in. I originally purchased a less expensive p…",
         "_deepnote_index_column": 190
        },
        {
         "Review": "Watch Hulu, Netflix, YouTube, Amazon Prime, but not able to access Apple Movies I love this project…",
         "_deepnote_index_column": 191
        },
        {
         "Review": "amazing!!! incredibly easy to set up and to use.  I brought the projector outside so that I could h…",
         "_deepnote_index_column": 192
        },
        {
         "Review": "Expensive, but great projector After spending about half of the cost of this projector on another p…",
         "_deepnote_index_column": 193
        },
        {
         "Review": "Recommended! The unit came in very nice packaging.I got the red one since it was cheaper than the b…",
         "_deepnote_index_column": 194
        },
        {
         "Review": "Worth it! I love this projector, it’s the perfect size for my room. The quality of the image and re…",
         "_deepnote_index_column": 195
        },
        {
         "Review": "Awesome device for the price Only one issue is that the battery door on the remote was broken when …",
         "_deepnote_index_column": 196
        },
        {
         "Review": "Portability a big plus for small kids Picture is not as bright and other projectors, however other …",
         "_deepnote_index_column": 197
        },
        {
         "Review": "The best “TV” I’ve ever owned! I have not owned a TV in our new home, but would still watch cable o…",
         "_deepnote_index_column": 198
        },
        {
         "Review": "Love it! LOVE this little projector. I love the features of it. The sound is ok but I got 2 JBL Cha…",
         "_deepnote_index_column": 199
        },
        {
         "Review": "Great projector worth it I have so many Anker products it's unbelievable. They always make good stu…",
         "_deepnote_index_column": 200
        },
        {
         "Review": "Fantastic Projector for Travel We purchased this to use as a family television while completing a t…",
         "_deepnote_index_column": 202
        },
        {
         "Review": "Cinema like experience, fun family projector Purchased on a whim for a planned trip/vacation to a r…",
         "_deepnote_index_column": 203
        },
        {
         "Review": "amazing!!! I tried several projectors in the past few months. I started with $60 projectors until I…",
         "_deepnote_index_column": 204
        },
        {
         "Review": "Incredibly Versatile, Great Quality, Upgrade the Software ASAP! This is my first review. The ideal …",
         "_deepnote_index_column": 205
        },
        {
         "Review": "Not a home theater in a box, but incredible for it's size and portability If what you're looking fo…",
         "_deepnote_index_column": 206
        },
        {
         "Review": "Wow is this great. Everything included in one small portable package Wow is this great.  Everything…",
         "_deepnote_index_column": 207
        },
        {
         "Review": "Excellent product! Excellent support team! Anker’s customer service team is SOLID! From setting up …",
         "_deepnote_index_column": 208
        },
        {
         "Review": "it’s awesome it’s great. i didn’t want to buy a tv so i bought this instead. i lay in bed and cast …",
         "_deepnote_index_column": 209
        },
        {
         "Review": "Love the concept but wish it had a higher resolution.... This thing is awesome. Is the most portabl…",
         "_deepnote_index_column": 210
        },
        {
         "Review": "works great in dark to semi-dark environments.  easily portable as well bought this for my daughter…",
         "_deepnote_index_column": 211
        },
        {
         "Review": "Great image quality! Worth the price, very portable. This is super awesome and very portable! I was…",
         "_deepnote_index_column": 212
        },
        {
         "Review": "Awesome Projector! I am so happy I finally found a projector that works well! I had purchase two ot…",
         "_deepnote_index_column": 213
        },
        {
         "Review": "this thing is *ahem* TOO COOL.  Highly recommend.  Quality construction. This is too cool and too f…",
         "_deepnote_index_column": 214
        },
        {
         "Review": "so much so that my best friend has purchased one and another is getting ready ... Less than a week …",
         "_deepnote_index_column": 215
        },
        {
         "Review": "Packs a lot of value into a tiny and affordable package. I use this for outdoor movies when camping…",
         "_deepnote_index_column": 216
        },
        {
         "Review": "Camping and family movie night will never be the same. Great! We've watched Netflix, Prime video, H…",
         "_deepnote_index_column": 217
        },
        {
         "Review": "Great gift Bought another projector for my husband for Christmas, but this one was recommended on C…",
         "_deepnote_index_column": 218
        },
        {
         "Review": "Great Portable Projector This thing is awesome!  The sound is loud enough for a roomful of people t…",
         "_deepnote_index_column": 219
        },
        {
         "Review": "Absolutely a great purchase! I love the build of this product and it's mobility, nothing like takin…",
         "_deepnote_index_column": 220
        },
        {
         "Review": "Great, compact, and easy to use! This projector has good sound quality for it's size, and the pictu…",
         "_deepnote_index_column": 221
        },
        {
         "Review": "Great quality, picture, and sound. LOVE!!!! Absolutely love. Very easy to use. Great quality pictur…",
         "_deepnote_index_column": 222
        },
        {
         "Review": "Great for travel but has draw backs Great little project but I do have a few issues with it. Bright…",
         "_deepnote_index_column": 223
        },
        {
         "Review": "Exactly What I Wanted This is the perfect travel projector. It is exactly what I expected and wante…",
         "_deepnote_index_column": 224
        },
        {
         "Review": "Awesome little projector! This is really nice. We use it as a ceiling projector while laying in bed…",
         "_deepnote_index_column": 225
        },
        {
         "Review": "Clear picture, great sound, and 10/10 Nebula customer support. The Capsule is the BEST and worth th…",
         "_deepnote_index_column": 226
        },
        {
         "Review": "Well built device and great customer support Normally I don't write a product review unless it's a …",
         "_deepnote_index_column": 227
        },
        {
         "Review": "Great product. With great support. Purchased this for a take anywhere smart entertainment solution …",
         "_deepnote_index_column": 228
        },
        {
         "Review": "Works great. Once  you figure out a couple of things Please work with customer service to update th…",
         "_deepnote_index_column": 229
        },
        {
         "Review": "Fantastic for the Nintendo Switch! Fantastic for Plex! I regularly watch Plex media on this with th…",
         "_deepnote_index_column": 231
        },
        {
         "Review": "The product is better than expected The product is better than expected. At night the picture is cl…",
         "_deepnote_index_column": 232
        },
        {
         "Review": "This can quickly become on of your favorite technical tools or toys... I do a lot of 3D animation a…",
         "_deepnote_index_column": 233
        },
        {
         "Review": "Love this thing I love this thing. That is all buy it, sit outside, get a white sheet or projector …",
         "_deepnote_index_column": 234
        },
        {
         "Review": "Bright, portable, easy to use We used our first purchase of this projector to show some home movies…",
         "_deepnote_index_column": 236
        },
        {
         "Review": "Great project and Amazing customer service It’s been almost a year to have this project and I am so…",
         "_deepnote_index_column": 237
        },
        {
         "Review": "Exceeded expectations This thing is awesome. Small but packs a lot of punch. Picture was great, sou…",
         "_deepnote_index_column": 238
        },
        {
         "Review": "Great Alternative Purchase So after getting this setup and figuring out that I cannot “mirror” copy…",
         "_deepnote_index_column": 239
        },
        {
         "Review": "It does exactly what it says on the tin. Good support. Nice compact projector with decent picture q…",
         "_deepnote_index_column": 240
        },
        {
         "Review": "Great for the price and size! I absolutely love this projector. It's small. Has a decent picture fo…",
         "_deepnote_index_column": 241
        },
        {
         "Review": "Best thing I've ever purchased Been using for a couple years now and continues to price to be the s…",
         "_deepnote_index_column": 242
        },
        {
         "Review": "A good product At first i had some trouble understanding how to use the nebula capsule but after re…",
         "_deepnote_index_column": 243
        },
        {
         "Review": "Super easy portable projector I purchased this because I wanted a quick and easy way to project mov…",
         "_deepnote_index_column": 244
        },
        {
         "Review": "OBSESSED! Yes, it is expensive. But you are going to spend a similar amount with a cheaper one once…",
         "_deepnote_index_column": 245
        },
        {
         "Review": "Great theater-in-pocket Great projector. Much better than the newer version.Remote mobile app is ba…",
         "_deepnote_index_column": 246
        },
        {
         "Review": "Great support in addition to a solid product (HBOGO works) I'm not gonna comment on the picture and…",
         "_deepnote_index_column": 247
        },
        {
         "Review": "THE BESTEST PORTABLE PROJECTOR This one of the BESTEST portable projector in market, you definitely…",
         "_deepnote_index_column": 248
        },
        {
         "Review": "Great things do come in tiny packages! Such a fun projector! My family used it to screen movies on …",
         "_deepnote_index_column": 249
        },
        {
         "Review": "Great moments Amazing product, very convenient for my gym time. I have use it during the day and th…",
         "_deepnote_index_column": 250
        },
        {
         "Review": "Works well in super dark room. Very small and portable. Can take it anywhere any room without deali…",
         "_deepnote_index_column": 251
        },
        {
         "Review": "I can't say enough about this. I love it I absoluty love this! We use this indoors and outdoors. Gr…",
         "_deepnote_index_column": 252
        },
        {
         "Review": "Lots of bang for your buck! This product was recommended by a friend. I love how small and easy thi…",
         "_deepnote_index_column": 253
        },
        {
         "Review": "Works fantastic!!! Love this for our camper van! Even in the daytime we get a bright clear image. S…",
         "_deepnote_index_column": 254
        },
        {
         "Review": "Great picture quality The quality of the picture is amazing. The sound is good quality too. We watc…",
         "_deepnote_index_column": 255
        },
        {
         "Review": "Built like a tank This projector is extremely durable. My 4 young children unfortunately  have gott…",
         "_deepnote_index_column": 256
        },
        {
         "Review": "Affordable, portable, easy setup projector. Awesome product. Makes outdoor movie setup a snap. Need…",
         "_deepnote_index_column": 257
        },
        {
         "Review": "Big projector in a small container! This projector is awesome for its size.  Easy to use.  I got it…",
         "_deepnote_index_column": 258
        },
        {
         "Review": "Great projector This is by far the best on the market. Speaker is great and video quality is very g…",
         "_deepnote_index_column": 259
        },
        {
         "Review": "Better than expected So much better than expected. The android App Store doesn’t work well but cust…",
         "_deepnote_index_column": 260
        },
        {
         "Review": "Super awesome mini smart projector buy it now Awesome device it's the size of a soda can, solid con…",
         "_deepnote_index_column": 261
        },
        {
         "Review": "WOW, this is cool!!! Really cool item and functionality is tremendous. Was very easy to setup and o…",
         "_deepnote_index_column": 262
        },
        {
         "Review": "Great product! I had a problem with my Nebula Capsule and Daisy was quick to help!  Kudos to you an…",
         "_deepnote_index_column": 263
        },
        {
         "Review": "fantasticoverall love it in general.  the phone app is really lacking and is a bit wonky for set up…",
         "_deepnote_index_column": 264
        },
        {
         "Review": "Good projector! I have spent monies on projectors for my video Djing jobs, but this is very conveni…",
         "_deepnote_index_column": 265
        },
        {
         "Review": "Unbelievably small, loud and good picture. This is a great little projector. Perfect for my persona…",
         "_deepnote_index_column": 266
        },
        {
         "Review": "Ease of use and great picture quality Gift for my teen granddaughter. Picture quality excellent as …",
         "_deepnote_index_column": 267
        },
        {
         "Review": "Super portable projector with great customer service Things I like:-Cheap-Four hour battery life-Su…",
         "_deepnote_index_column": 268
        },
        {
         "Review": "Solid Picture and Audio Quality This was my choice after reviewing several other similar products. …",
         "_deepnote_index_column": 269
        },
        {
         "Review": "I love it! I just unboxed and so far I love everything about this purchase. As you can see it’s lit…",
         "_deepnote_index_column": 270
        },
        {
         "Review": "Love it Really enjoy this device. Had a rough start getting the apps to run smooth but after troubl…",
         "_deepnote_index_column": 271
        },
        {
         "Review": "Great Portable Projector👍💯👍 For the price i paid i will say it is a great project and by Anker...th…",
         "_deepnote_index_column": 272
        },
        {
         "Review": "Anker does it again! Anker...  Man..  This brand has become, MY brand..  I own everything they make…",
         "_deepnote_index_column": 274
        },
        {
         "Review": "Pretty awesome We use this for my son, who has a vision impairment, and the portability gives us a …",
         "_deepnote_index_column": 275
        },
        {
         "Review": "Easy set up and easy to use Simple set up and very easy to use.  Looks good and for a portable proj…",
         "_deepnote_index_column": 276
        },
        {
         "Review": "Great little projector! I love the portability of this little thing.  It fits my needs and so far i…",
         "_deepnote_index_column": 277
        },
        {
         "Review": "Worth every penny This is an amazing little projector! I read reviews that you couldn’t stream from…",
         "_deepnote_index_column": 278
        },
        {
         "Review": "Great little portable projector Connected laptop to HDMI port on projector to watch movies outdoors…",
         "_deepnote_index_column": 279
        },
        {
         "Review": "We are about to project into each in dark hotel room nicely. Kids use in their room with friends ov…",
         "_deepnote_index_column": 280
        },
        {
         "Review": "Worth It Product: Well built, definitely compact, speaker sound excellent, and image quality is cle…",
         "_deepnote_index_column": 281
        },
        {
         "Review": "You will not be disappointed. I was really impressed with the picture quality and sound. It was ver…",
         "_deepnote_index_column": 282
        },
        {
         "Review": "Outdoor Movie Night! I love this projector! I have had two outdoor movie nights with my 80 yo mom d…",
         "_deepnote_index_column": 283
        },
        {
         "Review": "Great quality small sized projector! Ive had this for a little over a year now and absolutely love …",
         "_deepnote_index_column": 284
        },
        {
         "Review": "Awesome little device I got this as a Christmas gift for my husband and he loves it. Picture was be…",
         "_deepnote_index_column": 285
        },
        {
         "Review": "Good product I've had this for about a year now, and I'm really happy with it.- it's really quiet- …",
         "_deepnote_index_column": 286
        },
        {
         "Review": "The kids love being able to watch TV in any room Wife complained about me buying it.  But now she u…",
         "_deepnote_index_column": 287
        },
        {
         "Review": "Another great Anker product. Love my Nebula Capsule. It is so much better than my older Sony pico p…",
         "_deepnote_index_column": 288
        },
        {
         "Review": "my kids love the novelty of our own home movie theater This is pretty easy to use with streaming vi…",
         "_deepnote_index_column": 289
        },
        {
         "Review": "Excellent Product This is really an excellent product that simply works as advertised.  It’s perfec…",
         "_deepnote_index_column": 290
        },
        {
         "Review": "Yes! Love it!!! Works great! Picture is great! Sound is good. It has a lot of apps (Hulu Netflix) a…",
         "_deepnote_index_column": 291
        },
        {
         "Review": "Great value For the price, this is a great device loaded with features including ability to downloa…",
         "_deepnote_index_column": 292
        },
        {
         "Review": "Great product! We are all loving the Nebula Capsule!  The main complaint in our household is that w…",
         "_deepnote_index_column": 293
        },
        {
         "Review": "Great mini projector Bought this for use in camper and on boat. Have been pleased with picture qual…",
         "_deepnote_index_column": 294
        },
        {
         "Review": "Can't adjust brightness For some reason, I can’t increase the brightness.  It's truly a pain in the…",
         "_deepnote_index_column": 295
        },
        {
         "Review": "Big things come in small packages! Absolutely love this projector. The size for the clarity and bri…",
         "_deepnote_index_column": 296
        },
        {
         "Review": "Dope This projector is really good and I like the fact it worked perfectly on IOS and Android. Pict…",
         "_deepnote_index_column": 297
        },
        {
         "Review": "Works as expected! I was thinking to give it a 4 stars because it does not have a micro SD and the …",
         "_deepnote_index_column": 298
        },
        {
         "Review": "Nice. This was a good deal however I didn't know there was a newer model until after I ordered this…",
         "_deepnote_index_column": 299
        },
        {
         "Review": "Broke a month in, but ran great prior Worked great for a month, then out of nowhere it wouldn't tur…",
         "_deepnote_index_column": 300
        },
        {
         "Review": "Good for movie night but not good enough for presentations. This mini Projector is soo good for a m…",
         "_deepnote_index_column": 301
        },
        {
         "Review": "Amazing! Super easy to set up, wonderful picture quality!  We bought as a gift for the entire famil…",
         "_deepnote_index_column": 302
        },
        {
         "Review": "A Little Wonder I love this little wonder...The Nebula capsule is so compact and easy to setup, it’…",
         "_deepnote_index_column": 303
        },
        {
         "Review": "Superior quality for the price! The Capsule is an excellent product all around.  Affordable price a…",
         "_deepnote_index_column": 304
        },
        {
         "Review": "Good value and actually has enough battery capacity to watch a full movie! It's not very bright tho…",
         "_deepnote_index_column": 305
        },
        {
         "Review": "Great for parties or small gatherings with friends It's very easy to use, but much better once you …",
         "_deepnote_index_column": 306
        },
        {
         "Review": "Overall Great Product I had some issues with the initial connecting to my home network. Projector a…",
         "_deepnote_index_column": 307
        },
        {
         "Review": "Excellent product better than expected I’ve been using the projector for about 3 months. It’s great…",
         "_deepnote_index_column": 308
        },
        {
         "Review": "Away from home dream Currently out of country and this is perfect for the room I'm in. Not to be us…",
         "_deepnote_index_column": 310
        },
        {
         "Review": "Great little projector This is a fantastic little projector.  i do presentations for work and wante…",
         "_deepnote_index_column": 311
        },
        {
         "Review": "Awesome!!! Where to start?! This thing is amazing! My husband and I wanted something to project mov…",
         "_deepnote_index_column": 312
        },
        {
         "Review": "Worked great!! I was surprised on how well this worked.  I took it on a week long rustic cabin trip…",
         "_deepnote_index_column": 313
        },
        {
         "Review": "Plex capable portable projector is a hit Great little portable projector. This lacks brightness but…",
         "_deepnote_index_column": 314
        },
        {
         "Review": "Love my projector Love how portable it is. The remote is kinda worthless since it doesn’t work with…",
         "_deepnote_index_column": 315
        },
        {
         "Review": "Movies in a can For what it is this thing is awesome! Sure it's not 4k and a bazillion lumens, but …",
         "_deepnote_index_column": 316
        },
        {
         "Review": "Worth every penny This is a great projector that is easy to use. I purchased for home use but immed…",
         "_deepnote_index_column": 317
        },
        {
         "Review": "Just what we been missing This is the thing we been missing in are back patio / bar area. Easy to u…",
         "_deepnote_index_column": 318
        },
        {
         "Review": "Amazing quality I’m beyond happy with this projector! The clarity in unreal. Our family gets to enj…",
         "_deepnote_index_column": 319
        },
        {
         "Review": "Great little projector I had my doubts about this little projector but it did not disappoint! I hav…",
         "_deepnote_index_column": 320
        },
        {
         "Review": "Great product, unfortunately Great product, unfortunately, like many of the small projectors, the u…",
         "_deepnote_index_column": 321
        },
        {
         "Review": "wonderful! Love it!!!!!!!! We watch movies while having a camp fire. it's great for the kids. Durin…",
         "_deepnote_index_column": 322
        },
        {
         "Review": "Fun device I got this for my daughter who is not allowed to have a TV in her bedroom. She loved it …",
         "_deepnote_index_column": 323
        },
        {
         "Review": "Easy to use Easy set up and great picture. Love that it is so easy to move anywhere.",
         "_deepnote_index_column": 324
        },
        {
         "Review": "This is perfect for nighttime backyard movie Wow!!I truly believe this tiny capsule is magic. Are t…",
         "_deepnote_index_column": 325
        },
        {
         "Review": "Great little projector Great little projector and the speaker is surprisingly loud.Picture quality …",
         "_deepnote_index_column": 326
        },
        {
         "Review": "Better than expected I saw several reviews before buying it and still have doubts, however, I've de…",
         "_deepnote_index_column": 327
        },
        {
         "Review": "Good projector for the price. I like this projector a lot. I love that it’s compact and portable. T…",
         "_deepnote_index_column": 328
        },
        {
         "Review": "Great picture & sound! We LOVE this and use it outside weekly--though a projection screen would do …",
         "_deepnote_index_column": 329
        },
        {
         "Review": "Very good for small venue Very good quality and works well for a small venue as the larger the pict…",
         "_deepnote_index_column": 330
        },
        {
         "Review": "One bad Mofo We have two of these gadgets, they are absolutely awesome. Just buy it already, you wo…",
         "_deepnote_index_column": 331
        },
        {
         "Review": "Love this and can't wait to use it outdoors in ... This is one of the coolest little projectors I h…",
         "_deepnote_index_column": 332
        },
        {
         "Review": "Awesome I love almost everything about this projector. The picture is clear. Sound is all around lo…",
         "_deepnote_index_column": 333
        },
        {
         "Review": "Easy setup and perfect picture quality I love this projector. The Installation process was very eas…",
         "_deepnote_index_column": 334
        },
        {
         "Review": "What a surprise! Great compact projector, at an excellent price (Lightning Deal). I can't believe h…",
         "_deepnote_index_column": 335
        },
        {
         "Review": "Very portable and versatile. This is awesome.  We have watched movies outdoors and in rooms with no…",
         "_deepnote_index_column": 336
        },
        {
         "Review": "Would buy 10 more if we needed them! Purchased as a gift and could not be more happy!!! Great sound…",
         "_deepnote_index_column": 337
        },
        {
         "Review": "Good product Very nice but expensive, quality good but add 50 bucks extra and buy apollo , it's muc…",
         "_deepnote_index_column": 338
        },
        {
         "Review": "Go for it I really enjoy watching Netflix/ YouTube amazing sound effects/ screen is very clear , ea…",
         "_deepnote_index_column": 339
        },
        {
         "Review": "Love Love Love I really like this product. The only issue I had was the battery to the remote. Ther…",
         "_deepnote_index_column": 340
        },
        {
         "Review": "Nice little projector! This is the perfect on the go projector! With the built in apps it's a one s…",
         "_deepnote_index_column": 341
        },
        {
         "Review": "Really nice for the size Ive used it for a bit, sometimes I get amazed for what it does, sometimes …",
         "_deepnote_index_column": 342
        },
        {
         "Review": "Great buy. I suggest you try it. The best portable projector I've tried so far.",
         "_deepnote_index_column": 343
        },
        {
         "Review": "Que se respetó lo ofertado y el producto entregado Exelente, la calidad de imagen y lo práctico par…",
         "_deepnote_index_column": 344
        },
        {
         "Review": "A good product I would recommend Got recommended by some friend when I looked for a projector.I rea…",
         "_deepnote_index_column": 345
        },
        {
         "Review": "The best. This is a terrific item.  The picture is so clear. Love it.",
         "_deepnote_index_column": 346
        },
        {
         "Review": "Easy set up and great sound and picture. I bought this for my sons dorm room and tried it out....to…",
         "_deepnote_index_column": 347
        },
        {
         "Review": "Not only did she walk me through the setup (which turned out to be very easy) but she stayed on the…",
         "_deepnote_index_column": 348
        },
        {
         "Review": "Amazing projector Love love love the projector picture it’s great quality and is incredibly easy to…",
         "_deepnote_index_column": 349
        },
        {
         "Review": "Wonderful device Bought it as a Christmas present for my 18 year old who loves it! The multiple inp…",
         "_deepnote_index_column": 350
        },
        {
         "Review": "Works great Very nice projector for the money.",
         "_deepnote_index_column": 351
        },
        {
         "Review": "Buen Producto Buena Calidad",
         "_deepnote_index_column": 352
        },
        {
         "Review": "Great for the size This thing works amazing for how small it is I love it",
         "_deepnote_index_column": 353
        },
        {
         "Review": "Awsome Excellent product great clear picture and has a pretty good speaker system built in. Very ha…",
         "_deepnote_index_column": 354
        },
        {
         "Review": "Great product...Great Customer Support I bought this device for work. Ability to project in meeting…",
         "_deepnote_index_column": 355
        },
        {
         "Review": "A Great Surprise Gave this as a birthday gift. The receiver, his family and their neighbor loves it…",
         "_deepnote_index_column": 356
        },
        {
         "Review": "Work great in Afghanistan!! I've been using this projector everyday in Afghanistan while deployed. …",
         "_deepnote_index_column": 357
        },
        {
         "Review": "Excellent Product Picture is good, but the remote stop working, and I have change the battery twice",
         "_deepnote_index_column": 358
        },
        {
         "Review": "This little guy is awesome! He does the job of a larger projector ... This little guy is awesome! H…",
         "_deepnote_index_column": 359
        },
        {
         "Review": "Almost perfect Great designing, hardware is perfect. Software can be better, but it’s acceptable. I…",
         "_deepnote_index_column": 360
        },
        {
         "Review": "Me gustó mucho Para ser portable y de este tamaño, es excelente en su calidad de imagen.",
         "_deepnote_index_column": 361
        },
        {
         "Review": "Easy to setup and Fantastic Picture and Sound I was looking for a small projector to use for lunch …",
         "_deepnote_index_column": 362
        },
        {
         "Review": "quality We use this product for remote movies for trips, parties, etc.",
         "_deepnote_index_column": 363
        },
        {
         "Review": "awesome for the price. this has a beautiful picture, super quiet and very easy to use, highly recom…",
         "_deepnote_index_column": 364
        },
        {
         "Review": "Awesome Great for family activities",
         "_deepnote_index_column": 365
        },
        {
         "Review": "Theater type device This is a really cool device. I was hoping for more functionality when I bought…",
         "_deepnote_index_column": 367
        },
        {
         "Review": "Incorporated OS Better than expected, with the incorporated OS you can stream directly from Wifi. A…",
         "_deepnote_index_column": 368
        },
        {
         "Review": "Great portable projector, good price point, worth it!! This is a great portable projector.  Super e…",
         "_deepnote_index_column": 369
        },
        {
         "Review": "Worth the money Like:1. Easy to use.2. Can use from phone or computer.3. Works with both Android an…",
         "_deepnote_index_column": 370
        },
        {
         "Review": "Good but needs tweaks! Could be brighter and more clear. Also doesn’t get all the apps you think an…",
         "_deepnote_index_column": 371
        },
        {
         "Review": "Fantastic portable projector Absolutely love this device!  Totally blown away by its picture qualit…",
         "_deepnote_index_column": 372
        },
        {
         "Review": "The must have camping gadget. We love the capsule. Perfect for movie night. Picture quality is amaz…",
         "_deepnote_index_column": 373
        },
        {
         "Review": "Best gift this Christmas I wasn't sure what to expect.  The quality of the movies we have watched w…",
         "_deepnote_index_column": 374
        },
        {
         "Review": "Soda Can Movies! Perfect product for these times! The sound is great! Movie experience in a size of…",
         "_deepnote_index_column": 375
        },
        {
         "Review": "Muy satisfecho con la compra. Una de las mejores compras que he hecho en Amazon.",
         "_deepnote_index_column": 376
        },
        {
         "Review": "Amazing Portable, crisp picture, excellent sound. Unbelievable.",
         "_deepnote_index_column": 377
        },
        {
         "Review": "Home Movies:) I love this!! I got It for my fiancée for Christmas... It is great!!! Only negative t…",
         "_deepnote_index_column": 378
        },
        {
         "Review": "Worth the price! I’m very happy with my projector ! Now I don’t want to get out of my house !!!easy…",
         "_deepnote_index_column": 379
        },
        {
         "Review": "Satisfied Works great, sound is loud, picture is good. Customer service for beta update was prompt …",
         "_deepnote_index_column": 380
        },
        {
         "Review": "Great Performance + Great Service = Fantastic Capsule The Capsule is a fantastic travel entertainme…",
         "_deepnote_index_column": 381
        },
        {
         "Review": "Awesome product Awesome, highly recommend it！Great picture coming out of such a small device, I can…",
         "_deepnote_index_column": 382
        },
        {
         "Review": "Nice projector with great picture I have used a lot of projectors, in classrooms, in conference roo…",
         "_deepnote_index_column": 383
        },
        {
         "Review": "Makes everything so easy The self adjust projection is very handy I can almost project from any ang…",
         "_deepnote_index_column": 384
        },
        {
         "Review": "ANKER CUSTOMER SERVICE This company's customer service is outstanding. If you need help or replacem…",
         "_deepnote_index_column": 385
        },
        {
         "Review": "Muy bueno Excelente producto, muy recomendado, puede ver Netflix e incluso descargar películas para…",
         "_deepnote_index_column": 386
        },
        {
         "Review": "Wow - Great Projector I'm shocked at how bright - big and small - and how crystal clear this is.  S…",
         "_deepnote_index_column": 387
        },
        {
         "Review": "Great Lumens are ok, portability is awesome... sacrifices lumens for portability... it’s great for …",
         "_deepnote_index_column": 388
        },
        {
         "Review": "lo mejor aun trabaja a la perfecion",
         "_deepnote_index_column": 389
        },
        {
         "Review": "Great sound and resolution Great sound and resolution. Remote control is included, but most of cont…",
         "_deepnote_index_column": 390
        },
        {
         "Review": "What a wonderful device. Now we can watch movies anywhere around ... What a wonderful device.  Now …",
         "_deepnote_index_column": 391
        },
        {
         "Review": "Amazing projector Best mini projector out there. I’ve tried several and this blows them away",
         "_deepnote_index_column": 392
        },
        {
         "Review": "Great item! Great projector for its price!Nothing negative that I can say about it.",
         "_deepnote_index_column": 393
        },
        {
         "Review": "My little one loves it So far so good. Don't know if it lasts long.I bought it for my little one to…",
         "_deepnote_index_column": 394
        },
        {
         "Review": "It’s awesome. It is difficult to learn the platform but once you figure it out this thing is nice. …",
         "_deepnote_index_column": 395
        },
        {
         "Review": "Great image quality! The product is excellent, it works very well, I am very happy with the purchas…",
         "_deepnote_index_column": 396
        },
        {
         "Review": "Everything is working good for now! Very handy and very portable anytime anywhere. I got no questio…",
         "_deepnote_index_column": 397
        },
        {
         "Review": "Excellent product, others I showed it too Excellent product, others I showed it too, have ordered t…",
         "_deepnote_index_column": 398
        },
        {
         "Review": "Great purchase Images clean and crisp. Bright, easy to use. Amazing",
         "_deepnote_index_column": 399
        },
        {
         "Review": "Amazing!! Love this projector!! Malcolm on the Anker customer service team was a saint and helped m…",
         "_deepnote_index_column": 400
        },
        {
         "Review": "Projector Product is really good for the price! Just the remoto control does not work well but I ca…",
         "_deepnote_index_column": 401
        },
        {
         "Review": "Nebula 5 stars! Love the quality of the nebula capsule! Amazing size to travel!",
         "_deepnote_index_column": 402
        },
        {
         "Review": "the best projector It is just the best portable proyector ever!!!! Great picture, amazing sound no …",
         "_deepnote_index_column": 403
        },
        {
         "Review": "It works great on a tripod I was pleasantly surprised by the quality of this little projector! We a…",
         "_deepnote_index_column": 404
        },
        {
         "Review": "Perfect Christmas gift We love this little projector. We have used it inside and out and the pictur…",
         "_deepnote_index_column": 405
        },
        {
         "Review": "Amazing Everything you need in a portable projector! All apps and has Bluetooth. Hands down the best",
         "_deepnote_index_column": 406
        },
        {
         "Review": "Great and compact My husband was very excited about this gift. Easy to transport and the picture is…",
         "_deepnote_index_column": 407
        },
        {
         "Review": "Great little projector! we love love this projector! it is easy to use and no wires!  we watch netf…",
         "_deepnote_index_column": 408
        },
        {
         "Review": "Review en español El proyector es excelente, la imagen es muy buena y el parlante que viene integra…",
         "_deepnote_index_column": 409
        },
        {
         "Review": "Great buy Works great, picture and sound are exactly what i wanted.Use the app sooooo easy! Love it!",
         "_deepnote_index_column": 410
        },
        {
         "Review": "My kids love it as I can throw it in any corner ... The package is small and versatile. My kids lov…",
         "_deepnote_index_column": 411
        },
        {
         "Review": "Versatile and fun This is a fun toy. We have a roof deck and thought it would be fun to be able to …",
         "_deepnote_index_column": 412
        },
        {
         "Review": "IT'S AMAZING This projector is AMAZING. It's so portable, you can start a movie in your living room…",
         "_deepnote_index_column": 413
        },
        {
         "Review": "Projector Works. Wife isn’t electronic’s savvy... originally wife wrote a nasty bad review. It wasn…",
         "_deepnote_index_column": 414
        },
        {
         "Review": "BUY IT NOW BEFORE THEY SELL OUT It is an amazing product!",
         "_deepnote_index_column": 415
        },
        {
         "Review": "Worth the money Makes fantastic images with my son's Xbox 1. He uses it on a dark bedroom wall, and…",
         "_deepnote_index_column": 416
        },
        {
         "Review": "I love it I love this projector. I had an issue but customer service was vey diligent,  took care o…",
         "_deepnote_index_column": 417
        },
        {
         "Review": "Awesome Awesome product and  company, I ended up returning this one and getting the max just becaus…",
         "_deepnote_index_column": 418
        },
        {
         "Review": "Great Projector.  Helpful Team. This is an excellent projector and the anker support team was very …",
         "_deepnote_index_column": 419
        },
        {
         "Review": "Amazing mini projector It works great. Easy to setup. Airplay to project YouTube or movie on video …",
         "_deepnote_index_column": 420
        },
        {
         "Review": "Recommended to buy on clearance Very good. Support team are great.",
         "_deepnote_index_column": 421
        },
        {
         "Review": "Good This was the best investment I made.. the family love it.. we been doing movie night every wee…",
         "_deepnote_index_column": 422
        },
        {
         "Review": "You can get rid of your TV!! This is very worthy product and I really got surprised with the qualit…",
         "_deepnote_index_column": 423
        },
        {
         "Review": "FUN! This soda can sized device was everything and then some that I was wanting.  It's fun, bright,…",
         "_deepnote_index_column": 424
        },
        {
         "Review": "amazing👍 Amazing projector😍😍😍",
         "_deepnote_index_column": 425
        },
        {
         "Review": "Unbelievable  amazing Excellent sound and image. Totally recommended.",
         "_deepnote_index_column": 426
        },
        {
         "Review": "Awesome product This is the most amazing personal projector. We purchased it because we were moving…",
         "_deepnote_index_column": 427
        },
        {
         "Review": "Extremely portable and capable projector I love this little projector, it works perfect in and out …",
         "_deepnote_index_column": 428
        },
        {
         "Review": "So easy to use! It works exactly as stated...it’s a miracle, right? 😆",
         "_deepnote_index_column": 429
        },
        {
         "Review": "Easy and Very Cool This capsule is so cool. My daughter loves it. She can watch her favorite cartoo…",
         "_deepnote_index_column": 430
        },
        {
         "Review": "Perfect Exactly what I needed",
         "_deepnote_index_column": 431
        },
        {
         "Review": "Great product you didn't know you need. Bought this through a Treasure truck deal. It was my first …",
         "_deepnote_index_column": 432
        },
        {
         "Review": "Good, tiny cinema 📽 Very satisfied with the product. It’s super easy to setup. You need to have a d…",
         "_deepnote_index_column": 433
        },
        {
         "Review": "Awesome quality and sound for such a tiny projector 100% recommend",
         "_deepnote_index_column": 434
        },
        {
         "Review": "College I am absolutely in love with this product! I am a college student and can’t have a TV in my…",
         "_deepnote_index_column": 435
        },
        {
         "Review": "Wow factor, small size with a bang Small projector works well in a dark room.",
         "_deepnote_index_column": 436
        },
        {
         "Review": "Good but This whole projector is awesome",
         "_deepnote_index_column": 437
        },
        {
         "Review": "Awesome Works perfect",
         "_deepnote_index_column": 438
        },
        {
         "Review": "Great little projector with speaker Works great and relatively easy to set up and use",
         "_deepnote_index_column": 439
        },
        {
         "Review": "Cool look Perfect design and cool look easy to work! The picture is great! The app is  best way to …",
         "_deepnote_index_column": 440
        },
        {
         "Review": "Worth the price I only tried it once but I was very happy with it. I downloaded it on my phone and …",
         "_deepnote_index_column": 441
        },
        {
         "Review": "Five Stars Love this! Small and compact. Easy for travel and very clear quality. Sound quality is p…",
         "_deepnote_index_column": 442
        },
        {
         "Review": "Would recommend The picture quality works well as there is a scroll to focus the image from any dis…",
         "_deepnote_index_column": 443
        },
        {
         "Review": "Great for gaming Pretty awesome for the size, price and portability. I have used it with my Switch …",
         "_deepnote_index_column": 444
        },
        {
         "Review": "Fantastic addition This is so great!",
         "_deepnote_index_column": 445
        },
        {
         "Review": "Awesome- My daughter and I love this so much that I ordered another one for my daughter in college",
         "_deepnote_index_column": 446
        },
        {
         "Review": "Small Good",
         "_deepnote_index_column": 447
        },
        {
         "Review": "As awesome as advertised Best small projector and speaker combination.. I can play Netflix or cast …",
         "_deepnote_index_column": 448
        },
        {
         "Review": "Perfect! We are the cool kids on the block! Highly recommend this.",
         "_deepnote_index_column": 449
        },
        {
         "Review": "De esas compras compulsivas que valen la pena Lo máximo, sirve tanto para divertirte como para pres…",
         "_deepnote_index_column": 450
        },
        {
         "Review": "Very cool Excellent. Works great when takin a hot bath, get to display it on the wall! Super cool!",
         "_deepnote_index_column": 451
        },
        {
         "Review": "Great picture Great picture and easy to use",
         "_deepnote_index_column": 452
        },
        {
         "Review": "Flexible, portable, and powerful! Great projector! Really happy with the product.  Easy to use, fle…",
         "_deepnote_index_column": 453
        },
        {
         "Review": "Wonderful projector - would recommend The projector is great, we got it to watch movies outside dur…",
         "_deepnote_index_column": 454
        },
        {
         "Review": "Audio delay I really like this product. Binged watched everything from South park to game of throne…",
         "_deepnote_index_column": 455
        },
        {
         "Review": "Anker addressed issues While I initially had issues with the projector, Anker was able to resolve t…",
         "_deepnote_index_column": 456
        },
        {
         "Review": "Fun device, great for families I found this device on Deal of the Day for $249.00!  Quality is exce…",
         "_deepnote_index_column": 457
        },
        {
         "Review": "Great Great",
         "_deepnote_index_column": 458
        },
        {
         "Review": "Great product Great picture.  Small size makes it easy to take with you.",
         "_deepnote_index_column": 459
        },
        {
         "Review": "Great small portable projector with big-screen ambitions This portable projector is amazing!Very go…",
         "_deepnote_index_column": 460
        },
        {
         "Review": "I highly recommend this projector This projector works well with apple products, easy to setup. I’m…",
         "_deepnote_index_column": 461
        },
        {
         "Review": "Great little projector about the size of a pop can - good battery Small but awesome! Wanna show a m…",
         "_deepnote_index_column": 462
        },
        {
         "Review": "Perfect gift What a wonderful device we have really enjoyed everything about it!! I will by another…",
         "_deepnote_index_column": 463
        },
        {
         "Review": "LOVE this This product is so awesome! Easily download and stream from various services. The sound q…",
         "_deepnote_index_column": 464
        },
        {
         "Review": "Super fun I bought this for a backyard movie night for my birthday. It's a nice work around due to …",
         "_deepnote_index_column": 465
        },
        {
         "Review": "Great buy This was a gift for my husband. He loves it and has referred some friends to buy it as we…",
         "_deepnote_index_column": 466
        },
        {
         "Review": "the best rapport quality/price ! It’s a perfect rapport price/QualityNebula capsule works pretty we…",
         "_deepnote_index_column": 467
        },
        {
         "Review": "Everybody loves its size and are impressed by the picture As a portable projector it ticks all the …",
         "_deepnote_index_column": 468
        },
        {
         "Review": "Absolutely recommend We are big fans of this purchase. We've used it for date nights, game days, & …",
         "_deepnote_index_column": 469
        },
        {
         "Review": "very good Superb audio and video equipment, light, compact, clear image, 360° stereo surround like …",
         "_deepnote_index_column": 470
        },
        {
         "Review": "I like Cannot really be used in a lot room... But if you turn off the lights, problem solved.",
         "_deepnote_index_column": 471
        },
        {
         "Review": "Práctico y eficiente Excelente calidad de imagen, brillo suficiente para ver imágenes en entornos c…",
         "_deepnote_index_column": 472
        },
        {
         "Review": "Great device!!! This is a great device, high quality product, the soda can design make it easy to g…",
         "_deepnote_index_column": 473
        },
        {
         "Review": "Great Projector, clear and bright Great portable projector, bright and clear. Downside is the remot…",
         "_deepnote_index_column": 474
        },
        {
         "Review": "Amazing resolution This is an amazing gadget. Gives a crispy and sharp image, even if is projected …",
         "_deepnote_index_column": 475
        },
        {
         "Review": "Great projector. Set it up in our apartment and it works great. It’s small and unobtrusive.",
         "_deepnote_index_column": 476
        },
        {
         "Review": "100% Portable Projector Price against quality is convenient and it’s really practical and fun to us…",
         "_deepnote_index_column": 477
        },
        {
         "Review": "Powerful for its size I normally never leave review for products but I have to say this little proj…",
         "_deepnote_index_column": 478
        },
        {
         "Review": "Good product Nice little projector",
         "_deepnote_index_column": 479
        },
        {
         "Review": "Great mini projector! Highly recommend Wonderful mini projector.  Not suitable for replacing hd tv …",
         "_deepnote_index_column": 480
        },
        {
         "Review": "Works great with android I know this sounds lame. But it just works. You need a projection solution…",
         "_deepnote_index_column": 481
        },
        {
         "Review": "Greatly pleased A major wow... works perfectly. Amazing picture and quality.Perfect for our daily n…",
         "_deepnote_index_column": 482
        },
        {
         "Review": "It's small, easy to carry It's good so far,",
         "_deepnote_index_column": 483
        },
        {
         "Review": "Solid build, great sound This product is built solid and functions as advertised. The picture quali…",
         "_deepnote_index_column": 484
        },
        {
         "Review": "Ibrahim mohmed Very very good",
         "_deepnote_index_column": 485
        },
        {
         "Review": "Very nice! Good quality and easy set up!",
         "_deepnote_index_column": 486
        },
        {
         "Review": "Works good Really like the ease of use.  Works well",
         "_deepnote_index_column": 487
        },
        {
         "Review": "Good quality great picture for the price even well over 100\" was pretty clear. I use it at 85\" So f…",
         "_deepnote_index_column": 488
        },
        {
         "Review": "Awesome gadget Excellent product",
         "_deepnote_index_column": 489
        },
        {
         "Review": "Two thumbs up Awesome.  Worth the money.",
         "_deepnote_index_column": 490
        },
        {
         "Review": "Perfect gift Amazing buy, bought the stand for it as well. Great for any room. All you need is a cl…",
         "_deepnote_index_column": 491
        },
        {
         "Review": "Nice projector and portable too!! Very nice! I recommend downloading the app to use with it as well",
         "_deepnote_index_column": 492
        },
        {
         "Review": "Worth It Easy to use and doing great job.. No regrets",
         "_deepnote_index_column": 493
        },
        {
         "Review": "Wonderfull Excellent proyector, its better than I imagine, excellent sound, very portable and great…",
         "_deepnote_index_column": 494
        },
        {
         "Review": "Great product Excellent product",
         "_deepnote_index_column": 495
        },
        {
         "Review": "Best projector out there I love this projector so much and then the customer service is amazing I w…",
         "_deepnote_index_column": 496
        },
        {
         "Review": "Thanks Great",
         "_deepnote_index_column": 497
        },
        {
         "Review": "Very easy to use! Love my mini projector! It's perfect for when I teach class and don't want to lug…",
         "_deepnote_index_column": 498
        },
        {
         "Review": "El mejor del mercado Increíble, me siento muyvsatisfecho con este producto, excelente imagen, funci…",
         "_deepnote_index_column": 499
        },
        {
         "Review": "Your own personal theatre on the go! Between the picture and sound quality as well as the size, bat…",
         "_deepnote_index_column": 500
        },
        {
         "Review": "Nice projector excellent product , enjoying it",
         "_deepnote_index_column": 501
        },
        {
         "Review": "Great brightness The brightness on this thing is unbelievable. Quality is pretty good for the size.",
         "_deepnote_index_column": 502
        },
        {
         "Review": "Great product and great service I have been impressed with the capsule since first turning it on.  …",
         "_deepnote_index_column": 503
        },
        {
         "Review": "Works great works great.... good price",
         "_deepnote_index_column": 504
        },
        {
         "Review": "So Excited!!! Couldn't really figure out how to port movie from my phone. It would stay connected o…",
         "_deepnote_index_column": 505
        },
        {
         "Review": "Unsure why people are so upset Way better than expected, Amazon, Netflix, YouTube available and sou…",
         "_deepnote_index_column": 506
        },
        {
         "Review": "Great buy; You won’t be disappointed I am very happy with this little projector.  I literally can f…",
         "_deepnote_index_column": 507
        },
        {
         "Review": "Works anywhere Nothing it’s amazing",
         "_deepnote_index_column": 508
        },
        {
         "Review": "Awesome Projector! Really impressive projector for the size. I found this to be great for watching …",
         "_deepnote_index_column": 509
        },
        {
         "Review": "Best Thing Ever! Use it to show clients info right on their kitchen table to the wall. Must have.",
         "_deepnote_index_column": 510
        },
        {
         "Review": "Decent little projector Looks great, feels great and delivers a decent picture for the size & price…",
         "_deepnote_index_column": 511
        }
       ],
       "rows_bottom": [
        {
         "Review": "Imperfect but awesome I love this little device! It's not perfect, but I think Nebula made the righ…",
         "_deepnote_index_column": 954
        },
        {
         "Review": "Good for the price. Great support. *Disclosure*Anker asked me to write a review after an exchange w…",
         "_deepnote_index_column": 955
        },
        {
         "Review": "Compact & Simple to Operate I bought one of these for work as I give a lot of presentations and cou…",
         "_deepnote_index_column": 956
        },
        {
         "Review": "Very close to 5 stars Anker did a very good job for this projector but there are few things missing…",
         "_deepnote_index_column": 957
        },
        {
         "Review": "Don't buy Used - Like New - Item will come in original packaging. Packaging will be damaged. The pr…",
         "_deepnote_index_column": 958
        },
        {
         "Review": "Great Device With a Slight Flaw in Software I've had this handy device for a couple weeks and overa…",
         "_deepnote_index_column": 959
        },
        {
         "Review": "Looks good for what it is, but the resolution is pretty bad. Bought this to add more color to my DJ…",
         "_deepnote_index_column": 960
        },
        {
         "Review": "Value for money I purchased during Black Friday with deal. It is solid portable device. Good to wat…",
         "_deepnote_index_column": 961
        },
        {
         "Review": "Fantastic self contained portable projector Revised review 4/4/19My recommendation:  If you are loo…",
         "_deepnote_index_column": 962
        },
        {
         "Review": "Satisfied:) I’m satisfied!! This can-size projector+speaker is exactly what I wanted. It works perf…",
         "_deepnote_index_column": 963
        },
        {
         "Review": "Great little projector! Got this for my bedroom because I didn’t want to get a tv. Picture overall …",
         "_deepnote_index_column": 964
        },
        {
         "Review": "I miss the lens cap/switch on its big brother Great little unit.  Super portable.  Surprisingly goo…",
         "_deepnote_index_column": 965
        },
        {
         "Review": "User friendly except YouTube sign. This project is amazing last night we watched a double feature o…",
         "_deepnote_index_column": 966
        },
        {
         "Review": "Nebula Casule: A fun, solid portable projector So far so good. The form factor is very good, constr…",
         "_deepnote_index_column": 967
        },
        {
         "Review": "A good buy! My favorite thing about this projector is how small and compact it is, so it’s really e…",
         "_deepnote_index_column": 968
        },
        {
         "Review": "This thing is pretty awesome Great product at a great bargain. It had a couple small glitches that …",
         "_deepnote_index_column": 969
        },
        {
         "Review": "High quality. Meh Value All around a super nice product. Size of a can and projects well in a pony …",
         "_deepnote_index_column": 970
        },
        {
         "Review": "Amazing purchase I bought this for myself on Prime Day and honestly, overall, I love this thing. Th…",
         "_deepnote_index_column": 971
        },
        {
         "Review": "Cool gadget, no brightness adjustment Really awesome little product that is very innovative. No bri…",
         "_deepnote_index_column": 972
        },
        {
         "Review": "Es una gran opción para el hogar La calidad de la imagen es muy buena para lo que lo utilizo, ver p…",
         "_deepnote_index_column": 973
        },
        {
         "Review": "Impressed Only had for a week, but really impressed. As other reviewers have said, the remote and a…",
         "_deepnote_index_column": 974
        },
        {
         "Review": "Great for home! So close to a 5 star.  I use it for work to do presentations and also for movie nig…",
         "_deepnote_index_column": 975
        },
        {
         "Review": "all around solid performer! Although this is the basic model, with limited apps that are compatible…",
         "_deepnote_index_column": 976
        },
        {
         "Review": "Love it and the customer service i got was great!! So i got this for my bday 12.11 and i forgot to …",
         "_deepnote_index_column": 977
        },
        {
         "Review": "Good but a little sus Just opened for Christmas so a bit early to tell but the image looks great an…",
         "_deepnote_index_column": 978
        },
        {
         "Review": "Great little projector!! Excellent little projector. Really can't beat it for the money. Battery la…",
         "_deepnote_index_column": 979
        },
        {
         "Review": "Don’t let the battery run out Overall, I’m happy with it.  It is easy to use and the picture/sound …",
         "_deepnote_index_column": 980
        },
        {
         "Review": "For what it is it's amazing but some improvements could be made this unit is a great portable proje…",
         "_deepnote_index_column": 981
        },
        {
         "Review": "Pretty good product but can be better This product is overall pretty solid. the only issue is 720p …",
         "_deepnote_index_column": 982
        },
        {
         "Review": "Great little projector Great \"smart\" projector so far.  Great support team if yiu need help with a …",
         "_deepnote_index_column": 983
        },
        {
         "Review": "Almost perfect Love it but the battery goes out faster than I thought. The remote control u couldn'…",
         "_deepnote_index_column": 984
        },
        {
         "Review": "YouTube runs this device's music, deleats it, washes playlists, DO NOT GET UTUBE UPGRADES.... Neb l…",
         "_deepnote_index_column": 985
        },
        {
         "Review": "Great portability I have to say this projector is amazing, portability and  image quality.  However…",
         "_deepnote_index_column": 986
        },
        {
         "Review": "Happy, not blown away. I’m liking this product. It’s great for outdoor movies and shows. Bought a $…",
         "_deepnote_index_column": 987
        },
        {
         "Review": "Picture quality is very good I got the projector and at first I was not happy with the quality. I t…",
         "_deepnote_index_column": 988
        },
        {
         "Review": "Picture Great, Sound not so great Picture is Great, but sound not as good as I expected. Connection…",
         "_deepnote_index_column": 989
        },
        {
         "Review": "Update: (Almost) The Perfect Portable Projector.  Original Title: Received used item. Update: So ju…",
         "_deepnote_index_column": 990
        },
        {
         "Review": "Thank you Now I can enjoy watching with my kid. But the remote has some issue. I can’t put entire t…",
         "_deepnote_index_column": 991
        },
        {
         "Review": "Great portable device Love this product, it's super portable and doubles as a speaker. I loved it s…",
         "_deepnote_index_column": 992
        },
        {
         "Review": "Amazing little projector!! This is an amazing little portable projector that comes handy for kids s…",
         "_deepnote_index_column": 993
        },
        {
         "Review": "HAPPY WITH UPDATE Update changing to 4 stars because Morpheus tv was added. Also my shield works gr…",
         "_deepnote_index_column": 994
        },
        {
         "Review": "Love it over all Love it but the fan is really loud. Returning to try the MAX. It’s still worth the…",
         "_deepnote_index_column": 995
        },
        {
         "Review": "Super Easy Interface! Very easy to setup and use! Perfect for backyard movie nights with our son. M…",
         "_deepnote_index_column": 996
        },
        {
         "Review": "Decent image, awkward remote The picture is a bit dim, but I knew that would probably be the case. …",
         "_deepnote_index_column": 997
        },
        {
         "Review": "Nebula This product is nice. I like how it’s portable and small like a soda can,but there was a cou…",
         "_deepnote_index_column": 998
        },
        {
         "Review": "Fun to use but fiddly. The built in apps are akward, you can't even log into the YouTube app to get…",
         "_deepnote_index_column": 999
        },
        {
         "Review": "Good quality mini projector Easy to set up and use projector. Brightness leaves some to be desired …",
         "_deepnote_index_column": 1000
        },
        {
         "Review": "Love, but a couple of issues So I love this little projector , but on day two have two issues...1. …",
         "_deepnote_index_column": 1001
        },
        {
         "Review": "Nice projector I love this projector.  We use it inside and out.  It needs to be actually dark out …",
         "_deepnote_index_column": 1002
        },
        {
         "Review": "Wish it was brighter It's a great product I just wish I would have got the upgrade instead",
         "_deepnote_index_column": 1003
        },
        {
         "Review": "Mediocre for price Can’t get certain apps like spectrum. Have to hook up to external input. Can’t l…",
         "_deepnote_index_column": 1004
        },
        {
         "Review": "Only use hdmi It’s okSome connectivity issues, App Store is trash. Bluetooth is hot garbage",
         "_deepnote_index_column": 1005
        },
        {
         "Review": "nice and cute one nice and cute one. i love it but need to return because it doesn't play movies on…",
         "_deepnote_index_column": 1006
        },
        {
         "Review": "Best one out there Although the interface can use some work, I very much love the Nebula Capsule. I…",
         "_deepnote_index_column": 1007
        },
        {
         "Review": "i might be dense - but this doesnt seem to ... i might be dense - but this doesnt seem to allow pro…",
         "_deepnote_index_column": 1008
        },
        {
         "Review": "Good for the size, not for the prize...VERY LIMITED Picture quality isn’t great, very dim for drama…",
         "_deepnote_index_column": 1009
        },
        {
         "Review": "App problems. I love the product.It works as advertised.The problem I have is with the Capsule Cont…",
         "_deepnote_index_column": 1010
        },
        {
         "Review": "Good projector, bad remote manufacturing I love the projector, but the remote was pretty flimsy.Whe…",
         "_deepnote_index_column": 1011
        },
        {
         "Review": "Well worth its value Picture quality and brightness are great battery has actually lasted longer th…",
         "_deepnote_index_column": 1012
        },
        {
         "Review": "Great little gadget! This little gadget is so much fun!!! I was really happy with the picture quali…",
         "_deepnote_index_column": 1013
        },
        {
         "Review": "Great projector for a small price! Great brightness and picture quality for such a small projector.…",
         "_deepnote_index_column": 1014
        },
        {
         "Review": "All in one package I like this projector a lot, it’s clear and plenty bright at night filling an 80…",
         "_deepnote_index_column": 1015
        },
        {
         "Review": "Easy to set up, but the Netflix experience could be improved Comes with Netflix and a store app (no…",
         "_deepnote_index_column": 1016
        },
        {
         "Review": "Almost Good picture, great portability and connectivity but sadly just wasn't bright enough as well…",
         "_deepnote_index_column": 1017
        },
        {
         "Review": "Good projector for the price. I've enjoyed using it.  Speaker is pretty good.  Works well with Netf…",
         "_deepnote_index_column": 1018
        },
        {
         "Review": "Very fun little projector I use this projector all the time watching movies on the ceiling in the d…",
         "_deepnote_index_column": 1019
        },
        {
         "Review": "Neat Its not as clear as a tv but the screen gets so huge i would rather use it. I only use it at n…",
         "_deepnote_index_column": 1020
        },
        {
         "Review": "Portability and Built In OS = PARTY TIME!! https://www.amazon.com/gp/product/B07D8NT2ZK/ref=oh_aui_…",
         "_deepnote_index_column": 1021
        },
        {
         "Review": "Nice; still learning to use it I like the soda-can size, the streaming features that it offers, and…",
         "_deepnote_index_column": 1022
        },
        {
         "Review": "very nice product.... The picture quality & sound is good. It's handy and the only concern is web b…",
         "_deepnote_index_column": 1023
        },
        {
         "Review": "Cool in theory Cool in theoryFan is incredibly loud in small spaces.",
         "_deepnote_index_column": 1025
        },
        {
         "Review": "Portable, easy to use I wish you could link extra speakers for a surround sound effect, the speaker…",
         "_deepnote_index_column": 1026
        },
        {
         "Review": "Great gadget Pretty cool gadget. Really small and runs well on battery.Image quality isn't the best…",
         "_deepnote_index_column": 1027
        },
        {
         "Review": "Awesome picture and sound quality The projector itself is great and both the picture and the sound …",
         "_deepnote_index_column": 1028
        },
        {
         "Review": "Blurry picture This item is good on picture quality and battery life. But for some reason, if you a…",
         "_deepnote_index_column": 1029
        },
        {
         "Review": "Satisfied purchase So glad I made this purchase. Well worth the money. I have to invest in a tripod…",
         "_deepnote_index_column": 1030
        },
        {
         "Review": "Audio has me frustrated I’m having an issue connecting it to my Apple TV. I bought a very good hdmi…",
         "_deepnote_index_column": 1031
        },
        {
         "Review": "Small package but still good Not a great projector or speaker, but to fit all the features into som…",
         "_deepnote_index_column": 1032
        },
        {
         "Review": "Really i love the product This projector is great, mini and portable, great ease of use, color and …",
         "_deepnote_index_column": 1033
        },
        {
         "Review": "So-so battery Remote only works form certain angles.4 hour battery life may be true while using blu…",
         "_deepnote_index_column": 1034
        },
        {
         "Review": "Good not great I use this as a quick tv on the fly in my bedroom. It works well, as long as it's da…",
         "_deepnote_index_column": 1035
        },
        {
         "Review": "Cant log in to my Account on YouTube Everything is ok except for YouTube... I can't get to log in t…",
         "_deepnote_index_column": 1036
        },
        {
         "Review": "Great portable projector with main weaknesses being the remote controls Great little portable proje…",
         "_deepnote_index_column": 1037
        },
        {
         "Review": "Excellent customer service Pleased with this product.  Very easy to use.  Also pleased with custome…",
         "_deepnote_index_column": 1038
        },
        {
         "Review": "Great small projector! Works quite well. Decent battery life and picture quality.Update:Although th…",
         "_deepnote_index_column": 1039
        },
        {
         "Review": "Happy but not Really good product. Android-based so it has a lot of UX issues. Very few apps availa…",
         "_deepnote_index_column": 1040
        },
        {
         "Review": "Great unit, could be brighter but still good overall especially for the price Love everything about…",
         "_deepnote_index_column": 1041
        },
        {
         "Review": "its good but could be better I like that its nice and portable only thing I'm not like about it is …",
         "_deepnote_index_column": 1042
        },
        {
         "Review": "4 out of 5 I’m loving it so far. However it was a pain to setup today. Customer service was awesome…",
         "_deepnote_index_column": 1043
        },
        {
         "Review": "Seriously impressive Don’t be fooled by how it is only 720p you really can’t tell. It’s oerfect for…",
         "_deepnote_index_column": 1044
        },
        {
         "Review": "Great projector I really like this projector.  Really easy to use.  Only complaint is it needs to b…",
         "_deepnote_index_column": 1045
        },
        {
         "Review": "Pretty, pretty good I like this more than I expected to; it's the projector I've been waiting for. …",
         "_deepnote_index_column": 1046
        },
        {
         "Review": "不太明亮 It's not too bright, but it's okay.",
         "_deepnote_index_column": 1047
        },
        {
         "Review": "Multi-vitamin capsule I usually don’t write reviews on Amazon but I had to in this case. This capsu…",
         "_deepnote_index_column": 1048
        },
        {
         "Review": "Needs easier control This would be a 5 star item if it was easier to control from both the projecto…",
         "_deepnote_index_column": 1049
        },
        {
         "Review": "Impressive for size and price Packs a lot of punch for a small guy and nice price. Better suited fo…",
         "_deepnote_index_column": 1050
        },
        {
         "Review": "Good product This little thing packs a punch, wish it had higher brightness and 1080 quality beside…",
         "_deepnote_index_column": 1051
        },
        {
         "Review": "Investment Great product only down side is the App Store isn’t the greatest but I have the apps I u…",
         "_deepnote_index_column": 1052
        },
        {
         "Review": "Satisfaction delivered So far I am not disappointed with my purchase. This projector has been every…",
         "_deepnote_index_column": 1053
        },
        {
         "Review": "Can not do airplay mirroring if you use a wifi with multiple channels I like this product. This is …",
         "_deepnote_index_column": 1054
        },
        {
         "Review": "very portable... After contact costumer service.. they help me to fix some issues.. great image and…",
         "_deepnote_index_column": 1055
        },
        {
         "Review": "Great little projector. I like this item. The battery life is good. I recommend an Bluetooth speake…",
         "_deepnote_index_column": 1056
        },
        {
         "Review": "Great for outdoor casual viewing on a wall or screen. A bit challenging to set up well but works gr…",
         "_deepnote_index_column": 1057
        },
        {
         "Review": "Easy to use Good quality!!",
         "_deepnote_index_column": 1058
        },
        {
         "Review": "Overall I really like it. Remote I don’t really like,, maybe if it functioned similar to the app co…",
         "_deepnote_index_column": 1059
        },
        {
         "Review": "Average quality Great build quality, but this isn't for people who need a perfect projector feel. B…",
         "_deepnote_index_column": 1060
        },
        {
         "Review": "Most: quality of picture, opportunity to view on ... Most:  quality of picture, opportunity to view…",
         "_deepnote_index_column": 1061
        },
        {
         "Review": "If this were HD it would be perfect, that's why one star is missing If this were HD it would be per…",
         "_deepnote_index_column": 1062
        },
        {
         "Review": "Protibale and Cheap I liked it. Only problem was the sound quality. everything else was outstanding.",
         "_deepnote_index_column": 1063
        },
        {
         "Review": "Worth the money Picture quality is good, brightness weak need to be in the dark , forget about watc…",
         "_deepnote_index_column": 1064
        },
        {
         "Review": "Battery is slow charging and fast to die Battery doesn’t last long or charge fast",
         "_deepnote_index_column": 1065
        },
        {
         "Review": "Not the easiest to use, but effective. The power button on the remote wouldn't power the device on.…",
         "_deepnote_index_column": 1066
        },
        {
         "Review": "None of the apps work. Youtube, Netflix, ... EDIT: None of the apps worked originally. Youtube, Net…",
         "_deepnote_index_column": 1067
        },
        {
         "Review": "Nice item Love portability",
         "_deepnote_index_column": 1068
        },
        {
         "Review": "Received Product is great but the remote you have to point it towards the device.",
         "_deepnote_index_column": 1069
        },
        {
         "Review": "Functionality with ease of use This product combines convenience with excellence. You definitely ne…",
         "_deepnote_index_column": 1070
        },
        {
         "Review": "Hardware’s good software needs work The quality of video is superb, but downloading updates is a pa…",
         "_deepnote_index_column": 1071
        },
        {
         "Review": "Easy to use and great picture We have use a few times since getting a week ago and it was easy to s…",
         "_deepnote_index_column": 1072
        },
        {
         "Review": "So close. Needs 1080p and then I'll definitely be back! UPDATE: the people at Anker clearly take cu…",
         "_deepnote_index_column": 1073
        },
        {
         "Review": "Great product This a great projector for outings like the beach or camping. It's light weight and v…",
         "_deepnote_index_column": 1074
        },
        {
         "Review": "A great product Love my Nebula, Small and powerful. The support team is also always there to help.",
         "_deepnote_index_column": 1075
        },
        {
         "Review": "A very good projector This is a very good projector. If you are looking for wireless cunnectivity t…",
         "_deepnote_index_column": 1076
        },
        {
         "Review": "Small but mighty Can be in close",
         "_deepnote_index_column": 1077
        },
        {
         "Review": "Buen Producto Super portátil y buena calidad de imagen. Capacidad de emparejar con parlantes via Bl…",
         "_deepnote_index_column": 1078
        },
        {
         "Review": "Four Stars It's great for watching movie with computer, not so much wifi",
         "_deepnote_index_column": 1079
        },
        {
         "Review": "80 percent perfect I cannot install local apps like king 5 news, local channels and battery does no…",
         "_deepnote_index_column": 1080
        },
        {
         "Review": "Great gift for college student Really like this. Great gift for college student to project NetFlix …",
         "_deepnote_index_column": 1081
        },
        {
         "Review": "Fun product My daughter loves it. She uses almost daily.",
         "_deepnote_index_column": 1082
        },
        {
         "Review": "Surprised how good for size and price. Love the portability, features and surprising picture qualit…",
         "_deepnote_index_column": 1083
        },
        {
         "Review": "Excelent for Netflix Excelent projector works great with Netflis  but hard to communicate with appl…",
         "_deepnote_index_column": 1084
        },
        {
         "Review": "Great buy Use it every day",
         "_deepnote_index_column": 1085
        },
        {
         "Review": "Impressed Once we figured it could be used like Apple TV it was a breeze. Using it for projecting i…",
         "_deepnote_index_column": 1086
        },
        {
         "Review": "Unique What a neat item.  About the size of a soda can.",
         "_deepnote_index_column": 1087
        },
        {
         "Review": "Works well Not bad for the money",
         "_deepnote_index_column": 1088
        },
        {
         "Review": "Bad Image in bright environments. Night works good",
         "_deepnote_index_column": 1089
        },
        {
         "Review": "Perfect for tv replacement in bedroom I am using this product instead of TV in my room. I am happy …",
         "_deepnote_index_column": 1090
        },
        {
         "Review": "awesome projector. only issue is i cant get the ... awesome projector. only issue is i cant get the…",
         "_deepnote_index_column": 1091
        },
        {
         "Review": "For the price it's well worth it Remotes a bit laggy and it's not the greatest but for the price I'…",
         "_deepnote_index_column": 1092
        },
        {
         "Review": "Good quality Awesome projector. Bright enough for half dark rooms and camping. Good battery life an…",
         "_deepnote_index_column": 1093
        },
        {
         "Review": "I guess it's more like a 4 I guess it's more like a 4.5 stars for me so far. Mirroring from my S8+ …",
         "_deepnote_index_column": 1094
        },
        {
         "Review": "Customer Service and Casting Seems great so far.I emailed and customer service was excellent.FYI - …",
         "_deepnote_index_column": 1095
        },
        {
         "Review": "So far so good So far excellent experiencePicture quality could be better as some lines appear in s…",
         "_deepnote_index_column": 1096
        },
        {
         "Review": "Lackluster battery after 3 years. Great projector. After 3 years however the battery gives out afte…",
         "_deepnote_index_column": 1097
        },
        {
         "Review": "Great Projector/Need Better UI and App Support Out of the box it is amazing little projector.  For …",
         "_deepnote_index_column": 1098
        },
        {
         "Review": "easy to set up Worked great in my living room.  We will see how it works camping.",
         "_deepnote_index_column": 1099
        },
        {
         "Review": "it’s awesome It’s awesome...",
         "_deepnote_index_column": 1100
        },
        {
         "Review": "Great item but the Youtube app should let you sign ... Great item but the Youtube app should let yo…",
         "_deepnote_index_column": 1101
        },
        {
         "Review": "Quite good except the battery The only thing I don’t like is that the battery started to die very q…",
         "_deepnote_index_column": 1102
        },
        {
         "Review": "pretty dope pretty pretty dope",
         "_deepnote_index_column": 1103
        },
        {
         "Review": "Good Good",
         "_deepnote_index_column": 1104
        },
        {
         "Review": "na na",
         "_deepnote_index_column": 1105
        },
        {
         "Review": "Nebula review Overall It's good but it should support 1080P also",
         "_deepnote_index_column": 1106
        },
        {
         "Review": "Portable projector Love this very portable projector, easy to carry and a must have when you travel",
         "_deepnote_index_column": 1107
        },
        {
         "Review": "Very cool device and excellent customer support Very cool mini projector. Amazing what they can fit…",
         "_deepnote_index_column": 1108
        },
        {
         "Review": "It's a great device but no audio output It's a great visual clear but it doesn't have an external o…",
         "_deepnote_index_column": 1109
        },
        {
         "Review": "Just as advertised! Very great product! Small, portable, good picture and sound! Only issue is that…",
         "_deepnote_index_column": 1110
        },
        {
         "Review": "Four Stars Easy to set up. Works great. Can not get standalone Netflix app to work.",
         "_deepnote_index_column": 1111
        },
        {
         "Review": "Good item I like it It’s very good for travel but picture quality not bad",
         "_deepnote_index_column": 1112
        },
        {
         "Review": "Mostly good. Good value for this price. Cons is the fan noise is little bit high.",
         "_deepnote_index_column": 1113
        },
        {
         "Review": "Amazing portable projector Everything is good but remote control",
         "_deepnote_index_column": 1114
        },
        {
         "Review": "Sharper Images The images should be sharper",
         "_deepnote_index_column": 1116
        },
        {
         "Review": "Good portable projector Good",
         "_deepnote_index_column": 1117
        },
        {
         "Review": "Good for kid with close range! Picture and Brightness are good, but weak remote and not good sound.",
         "_deepnote_index_column": 1118
        },
        {
         "Review": "Great buy! Great for movies or watching a game outside.",
         "_deepnote_index_column": 1119
        },
        {
         "Review": "Portable Very good product. Would recommend for Indoors.",
         "_deepnote_index_column": 1120
        },
        {
         "Review": "This device is amazing We live in the future. The end... Actually no. I have updated the review at …",
         "_deepnote_index_column": 1121
        },
        {
         "Review": "Amazing but not as epic after some time The brightness sucks",
         "_deepnote_index_column": 1122
        },
        {
         "Review": "Ok, not great! Speaker is not amped enough, but it is as advertised.",
         "_deepnote_index_column": 1123
        },
        {
         "Review": "Great all-in-one solution Great portable projector",
         "_deepnote_index_column": 1124
        },
        {
         "Review": "Really good Use it all the time",
         "_deepnote_index_column": 1125
        },
        {
         "Review": "Fahad 👍🏻🖐🏻🌹",
         "_deepnote_index_column": 1126
        },
        {
         "Review": "Four Stars easy setup, projects clear picture with great sound",
         "_deepnote_index_column": 1127
        },
        {
         "Review": "When I watch movies I sometimes see nothing in dark scenes How can I fix it? When I watch movies I …",
         "_deepnote_index_column": 1128
        },
        {
         "Review": "Very good  (not perfect) This thing is awesome. Great picture.I have a few complaints:I'd prefer it…",
         "_deepnote_index_column": 1129
        },
        {
         "Review": "If you plan on watching iTunes content, as I ... If you plan on watching iTunes content, as I was, …",
         "_deepnote_index_column": 1130
        },
        {
         "Review": "Need better quality of speaker Is great but the speaker can be better",
         "_deepnote_index_column": 1131
        },
        {
         "Review": "H Thanks",
         "_deepnote_index_column": 1132
        },
        {
         "Review": "Smart perjector So dope",
         "_deepnote_index_column": 1133
        },
        {
         "Review": "Good Good",
         "_deepnote_index_column": 1134
        },
        {
         "Review": "Im happy to take nebula capsule it’s nice projector But im ... Im happy to take nebula capsule it’s…",
         "_deepnote_index_column": 1135
        },
        {
         "Review": "great little device for the price great little device for the price. My only cons:Wish the sensor f…",
         "_deepnote_index_column": 1136
        },
        {
         "Review": "Good stuff. Though it'd be even better if chromecast ... Good stuff.Though it'd be even better if c…",
         "_deepnote_index_column": 1137
        },
        {
         "Review": "480 is killing me when I have an Spro2 that is decidedly better image quality and much brighter I’m…",
         "_deepnote_index_column": 1138
        },
        {
         "Review": "Overall a great product. Love it Overall a great product. Love it. One feature I haven't been able …",
         "_deepnote_index_column": 1139
        },
        {
         "Review": "So far I’m experiencing a few small problems, however ... So far I’m experiencing a few small probl…",
         "_deepnote_index_column": 1140
        },
        {
         "Review": "Pleasantly Surprised - Typical Anker Quality I am one of those people that is fussy about video qua…",
         "_deepnote_index_column": 1141
        },
        {
         "Review": "Portable Projector/Speaker the size of a soda can with Built in Apps. I've been using the Nebula Ca…",
         "_deepnote_index_column": 1142
        },
        {
         "Review": "Surprisingly great little projector! Surprisingly good for such a small projector. I like having ap…",
         "_deepnote_index_column": 1143
        },
        {
         "Review": "Portable high-quality bright and loud projector with good battery, fast Android (no GMS yet). Pictu…",
         "_deepnote_index_column": 1144
        },
        {
         "Review": "Terrible product with many fake reviews (updated) My first question: Are you kidding me?  We receiv…",
         "_deepnote_index_column": 1145
        },
        {
         "Review": "Great Customer Service and Follow through I must say that I was skeptical at first when I order it …",
         "_deepnote_index_column": 1146
        },
        {
         "Review": "Almost perfect I purchased this product July of last year for $350 and I love it!  I have used this…",
         "_deepnote_index_column": 1147
        },
        {
         "Review": "I had to write this review after the incredible support I recieved. I purchased the Nebula Capsule …",
         "_deepnote_index_column": 1148
        },
        {
         "Review": "Cool device, software is limiting, but their support really cares I bought the capsule for travel &…",
         "_deepnote_index_column": 1149
        },
        {
         "Review": "A not too bad buy. Sufficient brightness to view indoor during the day. Given that it is more expen…",
         "_deepnote_index_column": 1150
        },
        {
         "Review": "remote control location You can ONLY control the nebula from behind it,  with the controller and li…",
         "_deepnote_index_column": 1151
        },
        {
         "Review": "Good hardware, software could use some work Pros:hardware is well designedcapsule control app works…",
         "_deepnote_index_column": 1152
        },
        {
         "Review": "Sound’s good and responsive customer service So far I streamed via a Roku stick that I powered via …",
         "_deepnote_index_column": 1153
        },
        {
         "Review": "Great Compact projector Use this projector for training presentations at many different sites. Comp…",
         "_deepnote_index_column": 1154
        },
        {
         "Review": "Great product but tough to use in a bright room. Would not recommend for office. This is an awesome…",
         "_deepnote_index_column": 1155
        },
        {
         "Review": "Good quality Really great quality, definitely worth the price. The only thing I do not like is the …",
         "_deepnote_index_column": 1156
        },
        {
         "Review": "Almost perfect Great projector! only thing that I don't necessarily like is that the image is prett…",
         "_deepnote_index_column": 1157
        },
        {
         "Review": "A great little projector Great sound considering the majority of the projector is a speaker, but fo…",
         "_deepnote_index_column": 1158
        },
        {
         "Review": "Worth It Bought other brands before, but end up getting this one. WiFi connect, and clear. But one …",
         "_deepnote_index_column": 1159
        },
        {
         "Review": "Great for minimalists - but auto-screen adjustment is counterproductive Pros:compactness and ease o…",
         "_deepnote_index_column": 1160
        },
        {
         "Review": "Small compact Its 1080P , and you need very dark room to see the projected video,  good thing is yo…",
         "_deepnote_index_column": 1161
        },
        {
         "Review": "Nice little Projector- Speaker volume is medium. Plus side is you can Bluetooth connect to a larger…",
         "_deepnote_index_column": 1162
        },
        {
         "Review": "it is working but not precisely~~ i used this at my bedroom.  it works at night without any room li…",
         "_deepnote_index_column": 1163
        },
        {
         "Review": "Read their Privacy Policy. They’re intrusive! Have you checked out their ‘Privacy Policy’?They can …",
         "_deepnote_index_column": 1164
        },
        {
         "Review": "Great hardware, but software doesn't work.  Do not buy unless you want to project from HDMI source …",
         "_deepnote_index_column": 1165
        },
        {
         "Review": "I’m keeping it, but... The stripped-down version of Android is a real bummer, I must say. Kills the…",
         "_deepnote_index_column": 1166
        },
        {
         "Review": "Lies Who reviewed this POS and gave it 5 stars?1. Bluetooth doesn’t stay pair to outside speakers.2…",
         "_deepnote_index_column": 1167
        },
        {
         "Review": "It doesn’t work on most formats. The projector will play Netflix off it’s native application using …",
         "_deepnote_index_column": 1168
        },
        {
         "Review": "Needs to be brighter I got this projector due to being compact and having built in speaker.  The co…",
         "_deepnote_index_column": 1169
        },
        {
         "Review": "2 weeks, 7 etc support calls and  $76 worth of hdmi cables and connectors but still doesn’t work. M…",
         "_deepnote_index_column": 1170
        },
        {
         "Review": "A Good Attempt but Needs Improvement I purchased the Nebula Capsule Smart Mini Projector as a gift …",
         "_deepnote_index_column": 1171
        },
        {
         "Review": "Lovely outside, but the guts on this unit leaves something to be desired. Out of the box the unit i…",
         "_deepnote_index_column": 1172
        },
        {
         "Review": "No Longevity. Sporadic functionality It's been about a month since purchase. My intent with this de…",
         "_deepnote_index_column": 1173
        },
        {
         "Review": "It must be unlocked... It is locked so none of the apps work. You can not even sign into Youtube. L…",
         "_deepnote_index_column": 1174
        },
        {
         "Review": "Almost love it. Not worth the price. This was so expensive, $300. So I was hoping it would be every…",
         "_deepnote_index_column": 1175
        },
        {
         "Review": "Terrible Software and Barely Usable!! I was really excited for this to show up with the NFL Champio…",
         "_deepnote_index_column": 1176
        },
        {
         "Review": "Mala resolucion en salas iluminadas Mala resolucion en salas iluminadasLa resolucion en salas ilumi…",
         "_deepnote_index_column": 1177
        },
        {
         "Review": "It doesn't work Horrible product. Doesn't connect to Netflix. It started out playing Netflix and wa…",
         "_deepnote_index_column": 1178
        },
        {
         "Review": "Does not work well with Airplay for iPad I bought this projector because I wanted to use it in my c…",
         "_deepnote_index_column": 1179
        },
        {
         "Review": "Not what you think If you’re a teacher or a businessman then this will be just fineBut if you just …",
         "_deepnote_index_column": 1180
        },
        {
         "Review": "Was probably a great purchase in 2018, but there are better options for price in 2021 This projecto…",
         "_deepnote_index_column": 1181
        },
        {
         "Review": "Just ok not great I wanted to like this mini projector so much but i just can't. So first of all yo…",
         "_deepnote_index_column": 1182
        },
        {
         "Review": "Not worth the money 1. They’ve lowered the price on this item the day I received it in the mail. Si…",
         "_deepnote_index_column": 1183
        },
        {
         "Review": "Look elsewhere not very bright and blurry edges The picture is horrible at 100 inches. You either g…",
         "_deepnote_index_column": 1184
        },
        {
         "Review": "Disappointed and underwhelmed I wanted to like it and keep it, I really did. I kept trying to convi…",
         "_deepnote_index_column": 1185
        },
        {
         "Review": "Expensive, Bad Navigation, No Display Resizing. It’s packaged and looks great. However, the remote …",
         "_deepnote_index_column": 1186
        },
        {
         "Review": "over priced and poor quality It has its pros and cons. I like the portable easy to use feel. Easy c…",
         "_deepnote_index_column": 1187
        },
        {
         "Review": "Great small projector I don’t even know where to start. I’ve read a lot of reviews in this and othe…",
         "_deepnote_index_column": 1188
        },
        {
         "Review": "Utter disappointment and waste of money, buy a cheap one this one runs like it Spent nearly $300 ho…",
         "_deepnote_index_column": 1189
        },
        {
         "Review": "Brightness and Windows Projection Not Great I bought this last year more as a gadget at a reasonabl…",
         "_deepnote_index_column": 1190
        },
        {
         "Review": "NO AUDIO OUT!!! This is the nicest picture I’ve ever seen from a small projector. Virtually everyth…",
         "_deepnote_index_column": 1191
        },
        {
         "Review": "Youtube sign in tip/trick I was absolutely shocked at the top tier quality of this product. The fac…",
         "_deepnote_index_column": 1192
        },
        {
         "Review": "DO NOT DO IT, misleading reviews Its honesty so bad. I never leave reviews but I am so bothered by …",
         "_deepnote_index_column": 1193
        },
        {
         "Review": "Video isn't that sharp, 420p, but rest is good Things I dislike about it1. The video isn't that sha…",
         "_deepnote_index_column": 1194
        },
        {
         "Review": "Does the job, but was expecting more I don't know, but for the money I spent on this unit was expec…",
         "_deepnote_index_column": 1195
        },
        {
         "Review": "Compared to others at the same price point, disappointed. I had high hopes for this as it is such a…",
         "_deepnote_index_column": 1196
        },
        {
         "Review": "Doesn't really screen mirror. I cant screen mirror anything....its so dumb, I can watch it on my ph…",
         "_deepnote_index_column": 1197
        },
        {
         "Review": "Many many reasons to move on - this sucks This totally sucks.1) it’s dim as heck2) you can’t opt to…",
         "_deepnote_index_column": 1198
        },
        {
         "Review": "Be prepared to never actually watch anything on it. Be prepared to never be able to watch anything …",
         "_deepnote_index_column": 1199
        },
        {
         "Review": "Awful device that does not work This is a complete waste of money. If I could return it I would.The…",
         "_deepnote_index_column": 1200
        },
        {
         "Review": "Low quality item. Died after 22 months with very light usage. It was great while it lasted but clea…",
         "_deepnote_index_column": 1201
        },
        {
         "Review": "More looks than longevity, buy the extended warranty I had and was well entertained by this project…",
         "_deepnote_index_column": 1202
        },
        {
         "Review": "Great video but very disappointing At first this little projector impressed me so much. It has andr…",
         "_deepnote_index_column": 1203
        },
        {
         "Review": "The product picture quality is bad The sound quality is good but The picture quality is very bad as…",
         "_deepnote_index_column": 1204
        },
        {
         "Review": "Expensive toy. Not much application for it. It's not a terrible product, but for the price, I just …",
         "_deepnote_index_column": 1205
        },
        {
         "Review": "A complete mess filled with issues, not worth price. Product has a ton of issues. Many of the apps …",
         "_deepnote_index_column": 1206
        },
        {
         "Review": "Disappointed by selling used item I will be returning this item. Although i love ankers products, t…",
         "_deepnote_index_column": 1207
        },
        {
         "Review": "Well manufactured, disappointing audio The Capsule is an impressive product straight out of the box…",
         "_deepnote_index_column": 1208
        },
        {
         "Review": "I got original version and not the Capsule II I was expecting the Nebula Capsule II since I ordered…",
         "_deepnote_index_column": 1209
        },
        {
         "Review": "Apple compatibility lacking Bought and read the reviews dating is android based but really hoped fo…",
         "_deepnote_index_column": 1210
        },
        {
         "Review": "Dont Buy This Product Do not buy this. You will not get what is showcased in the ad. In my case 3 i…",
         "_deepnote_index_column": 1211
        },
        {
         "Review": "Cool idea, great design, bad execution. We debated keeping the device, it looked cool, solid, great…",
         "_deepnote_index_column": 1212
        },
        {
         "Review": "Garbage. I will be returning this tomorrow. It’s bad enough that it is too dim to watch outside at …",
         "_deepnote_index_column": 1213
        },
        {
         "Review": "Great size, terrible software and connection ports lacking This seems like the perfect projector si…",
         "_deepnote_index_column": 1214
        },
        {
         "Review": "Send me my money back please It was cool...did everything I needed until it didnt. Delivered to me …",
         "_deepnote_index_column": 1215
        },
        {
         "Review": "Save your money. DO NOT BUY THIS JUNK I like the item itself but the one huge problem for me is the…",
         "_deepnote_index_column": 1216
        },
        {
         "Review": "Not as described I bought this product because for a outside viewing of movies for my kids and ther…",
         "_deepnote_index_column": 1217
        },
        {
         "Review": "It’s is a toy Think of this more a novelty toy. I bought this for my basement and even in the pitch…",
         "_deepnote_index_column": 1218
        },
        {
         "Review": "Very dim Some pros:- built in wifi and smart functions- variety of options- auto keystone (only ver…",
         "_deepnote_index_column": 1219
        },
        {
         "Review": "Stops working after about a year Worked fine for about a year, but started getting power issues unt…",
         "_deepnote_index_column": 1220
        },
        {
         "Review": "Not very bright, but good in dark room I was a little disappointed in this projector, but I will ke…",
         "_deepnote_index_column": 1221
        },
        {
         "Review": "High hopes, but disappointed. Limiting hardware and software. What’s the point of “portable” if you…",
         "_deepnote_index_column": 1222
        },
        {
         "Review": "Not good enough - Remote control doesn’t work.- The software is uber clunky.- Arrived already opene…",
         "_deepnote_index_column": 1223
        },
        {
         "Review": "Solid performance, limited apps Limited options in terms of apps. Projector performs well, but it w…",
         "_deepnote_index_column": 1224
        },
        {
         "Review": "Limited capabilities I can't get it to connect to any HDMI I plug into it. I really want to use it …",
         "_deepnote_index_column": 1225
        },
        {
         "Review": "Not Happy Couple things:1. This is NOT bright enough to be used outside.2. I cannot get the APP to …",
         "_deepnote_index_column": 1226
        },
        {
         "Review": "Okay...but photos are deceiving So we tried the Nebula Capsule...first off, the picture on the box …",
         "_deepnote_index_column": 1227
        },
        {
         "Review": "Bad picture quality, not bright, grainy at times The only thing this gets to stars for is the size …",
         "_deepnote_index_column": 1228
        },
        {
         "Review": "Really expensive for what it does...plus no way to fix a crooked projection. I liked the convenienc…",
         "_deepnote_index_column": 1229
        },
        {
         "Review": "It’s perfect and Disappointing Quality is great, but screen play does not work. Screen mirror does …",
         "_deepnote_index_column": 1230
        },
        {
         "Review": "Picture function and small size is impressive Loved the size and quality of the picture.  I wanted …",
         "_deepnote_index_column": 1231
        },
        {
         "Review": "Mediocre purchase I like it so far. Surprised it auto adjusted when the angle changed. Hard remote …",
         "_deepnote_index_column": 1232
        },
        {
         "Review": "the advertising page was misleading According to the advertising pages, this device should be able …",
         "_deepnote_index_column": 1233
        },
        {
         "Review": "Limited Streaming It's... ok. I wasn't looking for just ok, though. The portability is great, but t…",
         "_deepnote_index_column": 1234
        },
        {
         "Review": "It’s shocking what a mess this is I will update and list the ways in which this thing is terrible b…",
         "_deepnote_index_column": 1235
        },
        {
         "Review": "Terrible for Netflix! I bought this thing for netflix and was very disappointed you cannot screen m…",
         "_deepnote_index_column": 1236
        },
        {
         "Review": "Poor quality, broken in four months. Within the first month of use, whenever a darker scene was bei…",
         "_deepnote_index_column": 1237
        },
        {
         "Review": "Just okay better spend little more buy good one The quality of picture is just okay/not bad ( i am …",
         "_deepnote_index_column": 1238
        },
        {
         "Review": "Time To Return This Junk- Not iPHONE Friendly What good is it to list out the Pros and Cons, if the…",
         "_deepnote_index_column": 1239
        },
        {
         "Review": "It is not bright enough for use This product does not live up to its hype. They have changed the de…",
         "_deepnote_index_column": 1240
        },
        {
         "Review": "Me gusta pero... Me gusta bastante, tiene buena calidad la proyección, buen volumen del parlante in…",
         "_deepnote_index_column": 1241
        },
        {
         "Review": "Seriously? It’s awesome that it’s small and has built in speakers...But it won’t support any apps- …",
         "_deepnote_index_column": 1242
        },
        {
         "Review": "Great idea but not carried out to its fullest potential by far! I was very excited to finally get t…",
         "_deepnote_index_column": 1243
        },
        {
         "Review": "Disappointed beyond words Worst nightmare realized through this projector.  Purchased this to watch…",
         "_deepnote_index_column": 1244
        },
        {
         "Review": "Does not work with iPhone Even if you have subscriptions to streaming platforms, this projector won…",
         "_deepnote_index_column": 1245
        },
        {
         "Review": "This product needs to be cheapier. This product would have been good at a below $100 dollar price t…",
         "_deepnote_index_column": 1246
        },
        {
         "Review": "Was a fan of Anker until purchasing this piece of junk Charged the battery to full, went to login t…",
         "_deepnote_index_column": 1247
        },
        {
         "Review": "Difficult to navigate in any mode This is my first projector but I found it very difficult navigati…",
         "_deepnote_index_column": 1248
        },
        {
         "Review": "Very loud. I liked it from the first minute but was disappointed later. The image is ok, Sound is g…",
         "_deepnote_index_column": 1249
        },
        {
         "Review": "Works well as a projector, App is pretty bad for an otherwise polished product the projector feels …",
         "_deepnote_index_column": 1250
        },
        {
         "Review": "Speaker Isn't Good I was pleasantly surprised when I came across this little speaker/projector. I h…",
         "_deepnote_index_column": 1251
        },
        {
         "Review": "Compact disappointment The projector is compact and simple to connect (hard wire) to a Blu-ray or D…",
         "_deepnote_index_column": 1252
        },
        {
         "Review": "Need COMPLETE darkness I bought this as a teaching device to show power point presentations to my c…",
         "_deepnote_index_column": 1253
        },
        {
         "Review": "Just OK Wanted to love this product however we have had a really hard time with it. The lumens aren…",
         "_deepnote_index_column": 1254
        },
        {
         "Review": "Problem with overheating within minutes of turning on This product worked well and about a month ag…",
         "_deepnote_index_column": 1255
        },
        {
         "Review": "Over all great product, looking into why it glitches so much. I love how this is mobile, small and …",
         "_deepnote_index_column": 1256
        },
        {
         "Review": "Mini Projector Mini Issues I like it, the issues I have are 1.) It seems to keep cutting off after …",
         "_deepnote_index_column": 1257
        },
        {
         "Review": "Does not work I bought this over a year ago and never was able to use it wirelessly. The OS just ne…",
         "_deepnote_index_column": 1258
        },
        {
         "Review": "Missing pieces No remote... came with box for it but was empty",
         "_deepnote_index_column": 1259
        },
        {
         "Review": "Defective Unit Received a defective unit. Mine doesn’t charge while powered on, and I’ve tried impr…",
         "_deepnote_index_column": 1260
        },
        {
         "Review": "Don’t waste your time if this is a family purchase. Barely workable as a media projector for the fa…",
         "_deepnote_index_column": 1261
        },
        {
         "Review": "Too dark Handy dandy cute invention. Quite portable but not bright enough. Fan noise in the unit as…",
         "_deepnote_index_column": 1262
        },
        {
         "Review": "Not worth the expensive price This projector is decent,  but for the price I paid I expected more. …",
         "_deepnote_index_column": 1263
        },
        {
         "Review": "Received repackaged item still connected to previous users accounts. Returning. Purchased new from …",
         "_deepnote_index_column": 1264
        },
        {
         "Review": "portable but not highest sound or image quality not very bright, hard to see when light is already …",
         "_deepnote_index_column": 1265
        },
        {
         "Review": "The update that  couldn't wait. So, you have some friends over to watch a movie.  Right in the midd…",
         "_deepnote_index_column": 1266
        },
        {
         "Review": "It’s alright I was looking for a device that did not have to be centered but this one most definite…",
         "_deepnote_index_column": 1267
        },
        {
         "Review": "It's alright It's a good starter projector.  It's easy to use and set up. But if you're tech saavy …",
         "_deepnote_index_column": 1268
        },
        {
         "Review": "Amazing and Nifty but it's always tilted Think this is a amazing concept, great for travel, amazing…",
         "_deepnote_index_column": 1269
        },
        {
         "Review": "Ok for poolside, but obviously needs complete dark to be enjoyable. It's ok. The fact that it's por…",
         "_deepnote_index_column": 1270
        },
        {
         "Review": "Crashes - Draw of the luck So I read a review saying when they received their projector, it crashed…",
         "_deepnote_index_column": 1271
        },
        {
         "Review": "It was okay.. It was an alright projector and now it won’t even charge or turn on anymore, it just …",
         "_deepnote_index_column": 1272
        },
        {
         "Review": "Not Worth the Money, Just Novel It’s unintuitive to use, dim, and the battery life is nowhere near …",
         "_deepnote_index_column": 1273
        },
        {
         "Review": "Battery drains while off, more so Battery drains while off, more so than expected.  Battery life is…",
         "_deepnote_index_column": 1274
        },
        {
         "Review": "This would be great if it wasn’t so terrible! It would be so perfect if it wasn’t so useless. If yo…",
         "_deepnote_index_column": 1275
        },
        {
         "Review": "Too dim Returned item. Would be great if you were in a really dark room and using it as about a 20 …",
         "_deepnote_index_column": 1277
        },
        {
         "Review": "Very disappointed Really wanted to love it. But I can’t actually use it. Won’t screen play from my …",
         "_deepnote_index_column": 1278
        },
        {
         "Review": "Amazing product! I think I got a used product or the product was damaged on the way to me. Amazing …",
         "_deepnote_index_column": 1279
        },
        {
         "Review": "Lack Quality features for Gamers The projector is great and very compact. But for specifically havi…",
         "_deepnote_index_column": 1280
        },
        {
         "Review": "Not Worth It Not worth the price. Quality was very dark and hard to focus. Even in completely dark …",
         "_deepnote_index_column": 1281
        },
        {
         "Review": "Short Life Span I can’t believe I bought this two years ago, used it maybe 3 dozen times and now th…",
         "_deepnote_index_column": 1282
        },
        {
         "Review": "Crooked screen Unfortunately, my nebula showed up with a crooked screen placement. It’s as if it sl…",
         "_deepnote_index_column": 1283
        },
        {
         "Review": "Mixed feelings on it I like this device a lit but it sometimes is awkward hooking the thing to iOS …",
         "_deepnote_index_column": 1284
        },
        {
         "Review": "Need to have certain conditions The sound and focus / crispness of the pictures are great- its very…",
         "_deepnote_index_column": 1285
        },
        {
         "Review": "Useless for streaming (while using external bluetooth speaker) ... anything (sort of, see update) U…",
         "_deepnote_index_column": 1286
        },
        {
         "Review": "Not very bright Not as good as the reviews and ad says, can't see it in a day lit room",
         "_deepnote_index_column": 1287
        },
        {
         "Review": "Inside of projector screen came with a scratch Inside of projector screen came with a scratch, no l…",
         "_deepnote_index_column": 1288
        },
        {
         "Review": "Not for iPhone Could have mentioned the item is meant for Android devices and doesn’t really work w…",
         "_deepnote_index_column": 1289
        },
        {
         "Review": "Not compatible with Android or Windows Is this worth the price? No.The device has instructions top …",
         "_deepnote_index_column": 1290
        },
        {
         "Review": "Good picture quality, but hard to use with phone This is such a disappointment. It already comes eq…",
         "_deepnote_index_column": 1291
        },
        {
         "Review": "Don't waste your money on this projector. Poor sound and quality image. You can get a 10 times bett…",
         "_deepnote_index_column": 1292
        },
        {
         "Review": "Can’t stream without WiFi Why have a portable projector you can’t use unless you’re connected to a …",
         "_deepnote_index_column": 1293
        },
        {
         "Review": "Nothing works. Remote doesn't work. Does not project onto a ceiling as the picture shows, you need …",
         "_deepnote_index_column": 1294
        },
        {
         "Review": "Heading in the right direction... but still needs improvement. Pro: Excellent product design. High …",
         "_deepnote_index_column": 1295
        },
        {
         "Review": "Seems tiny and simple, but is fussy and meh. My coworker got one of these. Really talked it up. I b…",
         "_deepnote_index_column": 1296
        },
        {
         "Review": "Can’t watch Youtube nor Prime! The UI is terrible. The remote app is also terrible. I can’t watch Y…",
         "_deepnote_index_column": 1297
        },
        {
         "Review": "No lo recomiendo No se por que tiene buenas reputaciones, la verdad compre por las reputaciones per…",
         "_deepnote_index_column": 1298
        },
        {
         "Review": "Maybe good for home, not for business though Not bright enough for our commercial use.  Returned an…",
         "_deepnote_index_column": 1299
        },
        {
         "Review": "Just not as good as expected The interface of the system is not user friendly. The picture quality …",
         "_deepnote_index_column": 1300
        },
        {
         "Review": "Brightness sucks and apps are meh. The concept is cool as in its portable and convenient but for th…",
         "_deepnote_index_column": 1301
        },
        {
         "Review": "Just didn’t work... Couldn’t get YouTube to work.Hdmi didn’t workUpdated firmware and I kept gettin…",
         "_deepnote_index_column": 1302
        },
        {
         "Review": "Very cool concept and works amazingly well in a dark room Very cool concept and works amazingly wel…",
         "_deepnote_index_column": 1303
        },
        {
         "Review": "Small Movie projector Pros: Small enough to take it any where with youCons: Low video quality and p…",
         "_deepnote_index_column": 1304
        },
        {
         "Review": "OS was terrible Great size and brightness (which is the reason for 2 stars instead of 1) but I had …",
         "_deepnote_index_column": 1305
        },
        {
         "Review": "Does not last long This stopped working 13 months into use so I would not recommend buying.  While …",
         "_deepnote_index_column": 1306
        },
        {
         "Review": "Movie Apps constantly crash The picture and sound are very good. The issue is the apps constantly c…",
         "_deepnote_index_column": 1307
        },
        {
         "Review": "Terrible I am so upset, I noticed I revived a used/ return one because the remote is missing and th…",
         "_deepnote_index_column": 1308
        },
        {
         "Review": "Projector only works with apps that come with projector. This projector will only work with the app…",
         "_deepnote_index_column": 1309
        },
        {
         "Review": "Good projector and battery life but mirror cast wouldn't work The projector was great and very easy…",
         "_deepnote_index_column": 1310
        },
        {
         "Review": "Three Stars CPU fan or the inside fan is too loud. Also, it does not support Google Play...",
         "_deepnote_index_column": 1311
        },
        {
         "Review": "Good but eh Works very well but doesn’t hold charge very long, you can’t charge it while you’re usi…",
         "_deepnote_index_column": 1312
        },
        {
         "Review": "Good product, not excellent It’s an okay product for how expensive it is. I wish it could be bright…",
         "_deepnote_index_column": 1313
        },
        {
         "Review": "Item broke after a few months Quality of image not too sharp. Acceptable. Price is not competitive …",
         "_deepnote_index_column": 1314
        },
        {
         "Review": "DONT BUY IT This this is TRASH - the batter sucks. Doesn’t charge while in use. Also doesn’t charge…",
         "_deepnote_index_column": 1315
        },
        {
         "Review": "Still it is not bright enough if you are not in a complete dark room I do not recommend to purchase…",
         "_deepnote_index_column": 1316
        },
        {
         "Review": "not good Bought this to use for senior management meetings and various other things.  What a waste …",
         "_deepnote_index_column": 1317
        },
        {
         "Review": "Poor on brightly lit rooms Great Concept. I bought and used on darker rooms.  It was good.  Later o…",
         "_deepnote_index_column": 1318
        },
        {
         "Review": "Still not ready for prime time... For its size and cost, brightness and picture quality are excelle…",
         "_deepnote_index_column": 1319
        },
        {
         "Review": "Poor Picture Quality Not that great picture quality.",
         "_deepnote_index_column": 1320
        },
        {
         "Review": "Not worth the hype or the money Remote doesn't work, picture doesn't focus fully and one side of th…",
         "_deepnote_index_column": 1321
        },
        {
         "Review": "It did not recognize HDMI input. Tried three different HDMI cords. Projector would not recognize th…",
         "_deepnote_index_column": 1322
        },
        {
         "Review": "The bluetooth has a delay with speaker The bluetooth has a delay with speaker. The sound is delayed…",
         "_deepnote_index_column": 1323
        },
        {
         "Review": "Not a sturdy product After less than a year, the project screen cracked for no reason",
         "_deepnote_index_column": 1324
        },
        {
         "Review": "not good It is joke product  maybe because it is not expensive",
         "_deepnote_index_column": 1325
        },
        {
         "Review": "Disappointed in nebula So disappointed. I didn’t use it til the return period was over. Remote cont…",
         "_deepnote_index_column": 1326
        },
        {
         "Review": "Streaming apps don’t work I love it, BUT none of the streaming apps work. They let me log in but th…",
         "_deepnote_index_column": 1327
        },
        {
         "Review": "Nebula The nebula is supposed to be work without WiFi.  It is not working alone with the HDMI chord…",
         "_deepnote_index_column": 1328
        },
        {
         "Review": "Remote Control Issue I've been using the product for the past 4 weeks. At first, everything worked …",
         "_deepnote_index_column": 1329
        },
        {
         "Review": "iPhone user be aware - Softwares won’t work I bought this to pair w my iPhone to watch Crunchyroll,…",
         "_deepnote_index_column": 1330
        },
        {
         "Review": "Avoid Broken remote, app crashes. Doesn’t have any options for YouTube tv, hbo, etc",
         "_deepnote_index_column": 1331
        },
        {
         "Review": "Awesome, except it’s breaking 8 months in I really love how portable and accessible this is. It’s a…",
         "_deepnote_index_column": 1332
        },
        {
         "Review": "Sound Output volume is it's biggest issue - Not loud enough for outdoor usage The Nebula is a very …",
         "_deepnote_index_column": 1333
        },
        {
         "Review": "Not Bright Enough It did not have light power or brightness for a moderately lit room at about 6 fe…",
         "_deepnote_index_column": 1334
        },
        {
         "Review": "It can do everything but is not good at anything. It is an all in one package. I purchased on sale …",
         "_deepnote_index_column": 1335
        },
        {
         "Review": "Not able to login to YouTube. I am giving 3 stars because I am not able to login to YouTube and I d…",
         "_deepnote_index_column": 1336
        },
        {
         "Review": "Bad quality picture Surprised to have such a low quality for that price.",
         "_deepnote_index_column": 1337
        },
        {
         "Review": "Horrible Experience It doesn't support many apps, has trouble connecting to devices via bluetooth l…",
         "_deepnote_index_column": 1338
        },
        {
         "Review": "Constant troubleshooting is annoying! Don't waste your money.1. The display is only bright enough a…",
         "_deepnote_index_column": 1339
        },
        {
         "Review": "Anyway I can project my iPhone? I cannot seem to mirror screen my iPhone when outside without wifi.…",
         "_deepnote_index_column": 1340
        },
        {
         "Review": "Bad image quality and brightness Just received the productBrightness is very bad and it is hard to …",
         "_deepnote_index_column": 1341
        },
        {
         "Review": "Small but dull Yes it's small, but it's.brightness makes it useless in 80% of situations. Way too d…",
         "_deepnote_index_column": 1342
        },
        {
         "Review": "Product default shows up after 1 month The product has had issues after the first month. The image …",
         "_deepnote_index_column": 1343
        },
        {
         "Review": "It could be better. The positives: small, decent picture qualityNegatives: loud fan running the ent…",
         "_deepnote_index_column": 1344
        },
        {
         "Review": "Just get the Nebula II. This one is a waste of money I purchased this one and regret I did. Its col…",
         "_deepnote_index_column": 1345
        },
        {
         "Review": "Cant screen share netflix or amazon ect I bought this for camping but it seems pointless if you don…",
         "_deepnote_index_column": 1346
        },
        {
         "Review": "Good in the dark The idea is great, but maybe need to go with the more upgrade model. Sound is pret…",
         "_deepnote_index_column": 1347
        },
        {
         "Review": "Poor quality Battery doesn't charge to 100 and doesn't last the time described in the description. …",
         "_deepnote_index_column": 1348
        },
        {
         "Review": "Tilted screen I got this but picture quality is not that gt and the picture is titled. I Tried to r…",
         "_deepnote_index_column": 1349
        },
        {
         "Review": "Quality isn’t there Too expensive for the quality, if you want better quality their other products …",
         "_deepnote_index_column": 1350
        },
        {
         "Review": "Lost sound The sound went scratchy and quiet. Unfortunate.",
         "_deepnote_index_column": 1351
        },
        {
         "Review": "good for a cute pillow fort date or camping I loved it as a temporary situation when my girlfriend …",
         "_deepnote_index_column": 1352
        },
        {
         "Review": "Is hard to perfect match dostan and high fot screen size there is no other way to adjust screen Res…",
         "_deepnote_index_column": 1353
        },
        {
         "Review": "Cannot Cast to projector! Had to return device because you cannot cast from samsung phone. Disney+,…",
         "_deepnote_index_column": 1354
        },
        {
         "Review": "Not worth the hype Low lumen output sucks.  White background of windows explorer washes out text.  …",
         "_deepnote_index_column": 1355
        },
        {
         "Review": "Impossible to adjust. Menu is garbage unless it's pointing straight at the wall, you're not going t…",
         "_deepnote_index_column": 1356
        },
        {
         "Review": "Read this before you buy... I bought this projector to stream movies I bought on YouTube or just of…",
         "_deepnote_index_column": 1358
        },
        {
         "Review": "Overall solid product Solid product for the price. Other reviews are a bit overhyped. I don’t find …",
         "_deepnote_index_column": 1359
        },
        {
         "Review": "too many glitches Cuts out every 15 minutes",
         "_deepnote_index_column": 1360
        },
        {
         "Review": "Expected more Picture quality and sound quality is bellow average. But concept is solid. Have to re…",
         "_deepnote_index_column": 1361
        },
        {
         "Review": "Without support this thing is useless. Instructions were terrible. Still have not been successful a…",
         "_deepnote_index_column": 1362
        },
        {
         "Review": "100 ansi lumens is not upto the expectations 100 ansi lumens is not that quality enough. And It is …",
         "_deepnote_index_column": 1363
        },
        {
         "Review": "Crooked lens Lens is crooked so video is always slanted. Decent speaker, although fan or whatever i…",
         "_deepnote_index_column": 1364
        },
        {
         "Review": "Terrible unit Dark picture, hdmi connection glitches, remote doesn’t work everything... returning t…",
         "_deepnote_index_column": 1365
        },
        {
         "Review": "doen't last long anymore I bought this around 3 years ago, and this dies less than an hour now even…",
         "_deepnote_index_column": 1366
        },
        {
         "Review": "Difficult. Period Unfortunately this is very difficult to use. Can't easily stream from apps.",
         "_deepnote_index_column": 1367
        },
        {
         "Review": "Superb device - extremely bad keyboard Superb device - very bad remote - BT keyboards non-compatibl…",
         "_deepnote_index_column": 1368
        },
        {
         "Review": "Not quite as advertised. Must purchase the extra appropriate cords for your phone and have internet…",
         "_deepnote_index_column": 1369
        },
        {
         "Review": "Stop working after like 5 used I only used this item 5 times and it stop working. It's dead, like n…",
         "_deepnote_index_column": 1370
        },
        {
         "Review": "A little disappointing. If you have an iPhone, do not get. I think mine was defective because it ta…",
         "_deepnote_index_column": 1371
        },
        {
         "Review": "Nice compact mini projector with great speaker! We returned it because it did not have auto focus. …",
         "_deepnote_index_column": 1372
        },
        {
         "Review": "Two Stars Not what's I though it will be",
         "_deepnote_index_column": 1373
        },
        {
         "Review": "Doesn't do what basic projectors are supposed to. Cannot cast or mirror from Android phones. No acc…",
         "_deepnote_index_column": 1374
        },
        {
         "Review": "Slow, difficult to connect, Wifi is broken. Can only connect to widi maybe 20% of the time, most of…",
         "_deepnote_index_column": 1375
        },
        {
         "Review": "Used unit with missing accessories Box wasn’t sealed, charger and cable weren’t in the box, remote …",
         "_deepnote_index_column": 1376
        },
        {
         "Review": "price is hig goodBut the price is hig",
         "_deepnote_index_column": 1377
        },
        {
         "Review": "To be able to use the projector The product doesn't have the ability to connect without wifi. I wan…",
         "_deepnote_index_column": 1378
        },
        {
         "Review": "video quality OK but need more improvement video quality OK but need more improvement",
         "_deepnote_index_column": 1379
        },
        {
         "Review": "not a pleasant product A little sad about bought this product, hope they can make improvements.",
         "_deepnote_index_column": 1380
        },
        {
         "Review": "I’ve seen better and cheaper Beside being noisy, I was expecting a better experience with this proj…",
         "_deepnote_index_column": 1381
        },
        {
         "Review": "Okay Remote battery backside falls out fast it feels loose. Certain apps do not work",
         "_deepnote_index_column": 1382
        },
        {
         "Review": "not good The picture quality was very poor. If it wasn’t on a perfect blank white wall with no text…",
         "_deepnote_index_column": 1383
        },
        {
         "Review": "Doesn't charge Dims really quickly.",
         "_deepnote_index_column": 1384
        },
        {
         "Review": "Setup and usage is impossible after numerous failures and video instruction I threw in towel did no…",
         "_deepnote_index_column": 1385
        },
        {
         "Review": "No hbo max No hbo max.",
         "_deepnote_index_column": 1386
        },
        {
         "Review": "Fan is loud Fan is very loud. Ruins the experience.",
         "_deepnote_index_column": 1387
        },
        {
         "Review": "Picture quality is not so good. Picture quality is not good for this price range.",
         "_deepnote_index_column": 1388
        },
        {
         "Review": "The sounds quality is terrible and picture quality is fair. Did not like it.",
         "_deepnote_index_column": 1389
        },
        {
         "Review": "Two Stars I am not able install Apps like Youtube., Netflix,. Airplay is very slow & stuck forever.",
         "_deepnote_index_column": 1390
        },
        {
         "Review": "Won’t turn on for more than 5 minutes Had for 6 months and will no longer hold charge or turn on. P…",
         "_deepnote_index_column": 1391
        },
        {
         "Review": "picture quality the projected picture is not aligned straight. It slopes.",
         "_deepnote_index_column": 1392
        },
        {
         "Review": "Not my favorite projector It said Bluetooth and it clearly wasn’t had to download apps and the ones…",
         "_deepnote_index_column": 1393
        },
        {
         "Review": "Decent It’s not bad. But wish I could return it.",
         "_deepnote_index_column": 1394
        },
        {
         "Review": "too noice too noice，brightness not good in day time，",
         "_deepnote_index_column": 1395
        },
        {
         "Review": "It is not doing what is advertises i called them and they even admitted to it not projecting up how…",
         "_deepnote_index_column": 1396
        },
        {
         "Review": "Great image quality, poor sound Fan is too loud to use in a small space like my bedroom",
         "_deepnote_index_column": 1397
        },
        {
         "Review": "Loud Fan is No Fun I love that it’s all-in-one so it’s powered and doesn't need an external video s…",
         "_deepnote_index_column": 1398
        },
        {
         "Review": "picure quality is not sharp. its not usable at all during day time.. picture quality is not sharp",
         "_deepnote_index_column": 1399
        },
        {
         "Review": "No support No support",
         "_deepnote_index_column": 1400
        },
        {
         "Review": "What can I do? The remote control of my device does not work",
         "_deepnote_index_column": 1401
        },
        {
         "Review": "I really wanted keep this projector but it has a ... I really wanted keep  this projector but it ha…",
         "_deepnote_index_column": 1402
        },
        {
         "Review": "Very low light lumens The light is not strong enough to see anything",
         "_deepnote_index_column": 1403
        },
        {
         "Review": "Horrible sound Sounds sucks. Brightness is horrible.",
         "_deepnote_index_column": 1404
        },
        {
         "Review": "Bad experience with mini projector It’s been an bad experience with Sound quality is too bad , pict…",
         "_deepnote_index_column": 1405
        },
        {
         "Review": "Just OK OK.",
         "_deepnote_index_column": 1406
        },
        {
         "Review": "Poorly written manual; great tech support from Kevin The users manual is awful for this product but…",
         "_deepnote_index_column": 1407
        },
        {
         "Review": "Pricey paperweight It doesn’t work. I called tech support and it will not actually play anything. M…",
         "_deepnote_index_column": 1408
        },
        {
         "Review": "Poor quality Poor quality, could not view picture well at all.  Extremely disappointed",
         "_deepnote_index_column": 1409
        },
        {
         "Review": "moderate good soso.",
         "_deepnote_index_column": 1410
        },
        {
         "Review": "Waste of money It’s not working good at all",
         "_deepnote_index_column": 1411
        },
        {
         "Review": "Lumens needs more output Lumen brightness to dim",
         "_deepnote_index_column": 1412
        },
        {
         "Review": ". Good",
         "_deepnote_index_column": 1413
        },
        {
         "Review": "Terrible Despite the representations made by seller, the sealed package arrived MISSING a couple of…",
         "_deepnote_index_column": 1414
        },
        {
         "Review": "Two Stars 😍good",
         "_deepnote_index_column": 1415
        },
        {
         "Review": "Only got 2 uses ot if the device I bought this as a gift for my new roommate.  We were able to use …",
         "_deepnote_index_column": 1416
        },
        {
         "Review": "Losses focused constantly., Because it sucks. The remote doesn't work. You have to download an app …",
         "_deepnote_index_column": 1417
        },
        {
         "Review": "Also the Capsule Control App is poor. difficult to control the mouse function when connected to the…",
         "_deepnote_index_column": 1418
        },
        {
         "Review": "Sadly dissappointed yet simultaneously awed I would have loved to say that I'm happy with this prod…",
         "_deepnote_index_column": 1419
        },
        {
         "Review": "Software ruins the product Cool little device but it is completely ruined by the cripled software. …",
         "_deepnote_index_column": 1420
        },
        {
         "Review": "Screencast Not Compatible With Google Pixel Phones I wanted to write and warn anyone who is thinkin…",
         "_deepnote_index_column": 1421
        },
        {
         "Review": "Nebula Capsule Review Updated! My original review was based on receiving a used product.After speak…",
         "_deepnote_index_column": 1422
        },
        {
         "Review": "Not impressed - welcome to dongle life I wanted to like the Nebula Capsule projector.  I really did…",
         "_deepnote_index_column": 1423
        },
        {
         "Review": "Biggest problem is low brightness This is a cool product - works well as advertised.  the BIGGEST p…",
         "_deepnote_index_column": 1424
        },
        {
         "Review": "with this cost you can get something better and higher quality very dim,with this cost you can get …",
         "_deepnote_index_column": 1425
        },
        {
         "Review": "Do not buy!! Scam! Fake!! Trash!! I'd give it negative 5 stars! The projection is upside down. If a…",
         "_deepnote_index_column": 1426
        },
        {
         "Review": "Totally waste product Waste of money",
         "_deepnote_index_column": 1427
        },
        {
         "Review": "An Under Baked Device Yes, this is a projector the size of a soda can and that is impressive, but t…",
         "_deepnote_index_column": 1428
        },
        {
         "Review": "Really wanted to like it, but... Where to start, had bought the red one they were having a “deal” o…",
         "_deepnote_index_column": 1429
        },
        {
         "Review": "Terrible software on pleasant hardware. Hardware wise this little device is impressive.  It's not w…",
         "_deepnote_index_column": 1430
        },
        {
         "Review": "Not compatible with Disney Plus and app is horrible I received this as a gift and loved it until my…",
         "_deepnote_index_column": 1431
        },
        {
         "Review": "Second one since November Anker’s customer service is top notch, but sadly the product is full of i…",
         "_deepnote_index_column": 1432
        },
        {
         "Review": "Cool, just wish it were Brighter I love the size of this thing, it's great!  And I don't mind keepi…",
         "_deepnote_index_column": 1433
        },
        {
         "Review": "Chromecast I connected them directly before making any final decision (considering the price) and t…",
         "_deepnote_index_column": 1434
        },
        {
         "Review": "Need help to run Netflix I have tried on numerous occasions to look at Netflix, unfortunately the p…",
         "_deepnote_index_column": 1435
        },
        {
         "Review": "Missing important integrations Very limited until USB supports modern file systems, supports DLNA h…",
         "_deepnote_index_column": 1436
        },
        {
         "Review": "On the fence. This thing is amazing. Super easy to use. It’s a little noisy with the fan. The sound…",
         "_deepnote_index_column": 1437
        },
        {
         "Review": "Proyector muy mediocre! Imagen horrible en el día y en la noche, totalmente opaca y sin brillo. La …",
         "_deepnote_index_column": 1438
        },
        {
         "Review": "Over priced Ankers products are great they are built to last and most importantly what separates th…",
         "_deepnote_index_column": 1439
        },
        {
         "Review": "Expect better for Anker Ruined my fathers day this crappy thing is the opposite of user friendly.  …",
         "_deepnote_index_column": 1440
        },
        {
         "Review": "Disposable projector no repair centers in USA Had received my capsule as a gift for about 8 months …",
         "_deepnote_index_column": 1441
        },
        {
         "Review": "One Star It didn’t work with me 😕",
         "_deepnote_index_column": 1442
        },
        {
         "Review": "Disappointed Am disappointed. Picture is very dim/dark. Hard to focus. Blurry at best. The app/remo…",
         "_deepnote_index_column": 1443
        },
        {
         "Review": "not working with apps that I am watching on TV ... not working with apps that I am watching on TV e…",
         "_deepnote_index_column": 1444
        },
        {
         "Review": "That's a pretty big deal breaker for me Doesn't support Chromecast. That's a pretty big deal breake…",
         "_deepnote_index_column": 1445
        },
        {
         "Review": "Three Stars Doesn’t project as vivid as it could but makes up for it in the sound quality",
         "_deepnote_index_column": 1446
        },
        {
         "Review": "Two Stars Android version does not include Google Play, so forget about installing most apps.",
         "_deepnote_index_column": 1447
        },
        {
         "Review": "Really amazing Wow.its a awesome product.i can make my room as home theatre",
         "_deepnote_index_column": 1448
        },
        {
         "Review": "SURELY IT'S WONDERFUL AND ALL I DONT OWN THIS ''THING'', BUT 350 HARD-EARNED DOLLARS INSTEAD OF GET…",
         "_deepnote_index_column": 1449
        },
        {
         "Review": "Lack flexibility As a projector it is solid. The picture is good and I can’t argue with that.  But …",
         "_deepnote_index_column": 1450
        },
        {
         "Review": "Two defective units right out of the box. Not good odds, skip this product. It's neat, it works, th…",
         "_deepnote_index_column": 1451
        },
        {
         "Review": "Low Res Only 480p so very blurry, was not acceptable for me. The customer service was nice and quic…",
         "_deepnote_index_column": 1452
        },
        {
         "Review": "Not worth the price Easy to use, but it’s dark. It takes me a while to adjust the projector angle e…",
         "_deepnote_index_column": 1453
        },
        {
         "Review": "not working with its own Twitch app Upset, not working with its own Twitch app. useless for me.",
         "_deepnote_index_column": 1454
        },
        {
         "Review": "Poco brillo y baja resolución No tiene buen brillo, no sirve para jugar play station, porque se not…",
         "_deepnote_index_column": 1455
        },
        {
         "Review": "Badluck One day the nebula get heated more and suddenly the bad odour smell is coming and switched …",
         "_deepnote_index_column": 1456
        },
        {
         "Review": "Awsome Excellent services and fast turn over",
         "_deepnote_index_column": 1458
        }
       ]
      },
      "text/plain": "                                                 Review\n0     Great projector Great item, worth every penny....\n1     A little projector that packs a punch! Bought ...\n2     Well thought-out, high-quality Every time I us...\n3     Truly amazing piece of hardware. I'm blown awa...\n4     Awesome little projector Awesome little projec...\n...                                                 ...\n1453  Not worth the price Easy to use, but it’s dark...\n1454  not working with its own Twitch app Upset, not...\n1455  Poco brillo y baja resolución No tiene buen br...\n1456  Badluck One day the nebula get heated more and...\n1458       Awsome Excellent services and fast turn over\n\n[1441 rows x 1 columns]",
      "text/html": "<div>\n<style scoped>\n    .dataframe tbody tr th:only-of-type {\n        vertical-align: middle;\n    }\n\n    .dataframe tbody tr th {\n        vertical-align: top;\n    }\n\n    .dataframe thead th {\n        text-align: right;\n    }\n</style>\n<table border=\"1\" class=\"dataframe\">\n  <thead>\n    <tr style=\"text-align: right;\">\n      <th></th>\n      <th>Review</th>\n    </tr>\n  </thead>\n  <tbody>\n    <tr>\n      <th>0</th>\n      <td>Great projector Great item, worth every penny....</td>\n    </tr>\n    <tr>\n      <th>1</th>\n      <td>A little projector that packs a punch! Bought ...</td>\n    </tr>\n    <tr>\n      <th>2</th>\n      <td>Well thought-out, high-quality Every time I us...</td>\n    </tr>\n    <tr>\n      <th>3</th>\n      <td>Truly amazing piece of hardware. I'm blown awa...</td>\n    </tr>\n    <tr>\n      <th>4</th>\n      <td>Awesome little projector Awesome little projec...</td>\n    </tr>\n    <tr>\n      <th>...</th>\n      <td>...</td>\n    </tr>\n    <tr>\n      <th>1453</th>\n      <td>Not worth the price Easy to use, but it’s dark...</td>\n    </tr>\n    <tr>\n      <th>1454</th>\n      <td>not working with its own Twitch app Upset, not...</td>\n    </tr>\n    <tr>\n      <th>1455</th>\n      <td>Poco brillo y baja resolución No tiene buen br...</td>\n    </tr>\n    <tr>\n      <th>1456</th>\n      <td>Badluck One day the nebula get heated more and...</td>\n    </tr>\n    <tr>\n      <th>1458</th>\n      <td>Awsome Excellent services and fast turn over</td>\n    </tr>\n  </tbody>\n</table>\n<p>1441 rows × 1 columns</p>\n</div>"
     },
     "metadata": {}
    }
   ]
  },
  {
   "cell_type": "markdown",
   "source": "To facilitate future modelisation, we decided to structurise the dataframe to only have 1 word per line instead of 1 comment per line. The new dataset and the old one will be connected via an ID column that we will create here",
   "metadata": {
    "tags": [],
    "cell_id": "00010-b4ab7c33-8ae2-4886-b3dd-3535b5edd911",
    "deepnote_app_coordinates": {
     "x": 0,
     "y": 45,
     "w": 12,
     "h": 5
    },
    "deepnote_cell_type": "markdown"
   }
  },
  {
   "cell_type": "code",
   "metadata": {
    "tags": [],
    "cell_id": "00011-6c3a27f5-ebef-4074-a05e-5defda027463",
    "deepnote_to_be_reexecuted": false,
    "source_hash": "c450454",
    "execution_start": 1637538951810,
    "execution_millis": 333,
    "deepnote_app_coordinates": {
     "x": 0,
     "y": 51,
     "w": 12,
     "h": 5
    },
    "deepnote_cell_type": "code"
   },
   "source": "#Start index at 1 instead of 0\ndf.index = np.arange(1, len(df)+1)\n\n#Link each review to an ID by matching ID number to index number\ndf.index = np.arange(1, len(df)+1)\ndf['ID'] = df.index\n\n#Splitting each review into 1 word per row & keeping ID to the right review\nnew_df = pd.DataFrame(df['Review'].str.split(' ').tolist(), index=df['ID']).stack()\n\n#Reset index\nnew_df = new_df.reset_index([0, 'ID'])\n\n#Renaming columns\nnew_df.columns = ['ID', 'Word']\nnew_df",
   "execution_count": null,
   "outputs": [
    {
     "output_type": "execute_result",
     "execution_count": 4,
     "data": {
      "application/vnd.deepnote.dataframe.v2+json": {
       "row_count": 107371,
       "column_count": 2,
       "columns": [
        {
         "name": "ID",
         "dtype": "int64"
        },
        {
         "name": "Word",
         "dtype": "object"
        },
        {
         "name": "_deepnote_index_column",
         "dtype": "int64"
        }
       ],
       "rows_top": [
        {
         "ID": 1,
         "Word": "Great",
         "_deepnote_index_column": 0
        },
        {
         "ID": 1,
         "Word": "projector",
         "_deepnote_index_column": 1
        },
        {
         "ID": 1,
         "Word": "Great",
         "_deepnote_index_column": 2
        },
        {
         "ID": 1,
         "Word": "item,",
         "_deepnote_index_column": 3
        },
        {
         "ID": 1,
         "Word": "worth",
         "_deepnote_index_column": 4
        },
        {
         "ID": 1,
         "Word": "every",
         "_deepnote_index_column": 5
        },
        {
         "ID": 1,
         "Word": "penny.",
         "_deepnote_index_column": 6
        },
        {
         "ID": 1,
         "Word": "I",
         "_deepnote_index_column": 7
        },
        {
         "ID": 1,
         "Word": "was",
         "_deepnote_index_column": 8
        },
        {
         "ID": 1,
         "Word": "skeptical",
         "_deepnote_index_column": 9
        },
        {
         "ID": 1,
         "Word": "about",
         "_deepnote_index_column": 10
        },
        {
         "ID": 1,
         "Word": "it",
         "_deepnote_index_column": 11
        },
        {
         "ID": 1,
         "Word": "after",
         "_deepnote_index_column": 12
        },
        {
         "ID": 1,
         "Word": "seeing",
         "_deepnote_index_column": 13
        },
        {
         "ID": 1,
         "Word": "comments",
         "_deepnote_index_column": 14
        },
        {
         "ID": 1,
         "Word": "on",
         "_deepnote_index_column": 15
        },
        {
         "ID": 1,
         "Word": "how",
         "_deepnote_index_column": 16
        },
        {
         "ID": 1,
         "Word": "loud",
         "_deepnote_index_column": 17
        },
        {
         "ID": 1,
         "Word": "the",
         "_deepnote_index_column": 18
        },
        {
         "ID": 1,
         "Word": "fan",
         "_deepnote_index_column": 19
        },
        {
         "ID": 1,
         "Word": "is.",
         "_deepnote_index_column": 20
        },
        {
         "ID": 1,
         "Word": "In",
         "_deepnote_index_column": 21
        },
        {
         "ID": 1,
         "Word": "all",
         "_deepnote_index_column": 22
        },
        {
         "ID": 1,
         "Word": "actually",
         "_deepnote_index_column": 23
        },
        {
         "ID": 1,
         "Word": "I",
         "_deepnote_index_column": 24
        },
        {
         "ID": 1,
         "Word": "barely",
         "_deepnote_index_column": 25
        },
        {
         "ID": 1,
         "Word": "hear",
         "_deepnote_index_column": 26
        },
        {
         "ID": 1,
         "Word": "it",
         "_deepnote_index_column": 27
        },
        {
         "ID": 1,
         "Word": "when",
         "_deepnote_index_column": 28
        },
        {
         "ID": 1,
         "Word": "the",
         "_deepnote_index_column": 29
        },
        {
         "ID": 1,
         "Word": "volume",
         "_deepnote_index_column": 30
        },
        {
         "ID": 1,
         "Word": "is",
         "_deepnote_index_column": 31
        },
        {
         "ID": 1,
         "Word": "low,",
         "_deepnote_index_column": 32
        },
        {
         "ID": 1,
         "Word": "but",
         "_deepnote_index_column": 33
        },
        {
         "ID": 1,
         "Word": "it",
         "_deepnote_index_column": 34
        },
        {
         "ID": 1,
         "Word": "does",
         "_deepnote_index_column": 35
        },
        {
         "ID": 1,
         "Word": "an",
         "_deepnote_index_column": 36
        },
        {
         "ID": 1,
         "Word": "amazing",
         "_deepnote_index_column": 37
        },
        {
         "ID": 1,
         "Word": "job",
         "_deepnote_index_column": 38
        },
        {
         "ID": 1,
         "Word": "in",
         "_deepnote_index_column": 39
        },
        {
         "ID": 1,
         "Word": "cooling",
         "_deepnote_index_column": 40
        },
        {
         "ID": 1,
         "Word": "the",
         "_deepnote_index_column": 41
        },
        {
         "ID": 1,
         "Word": "projector.",
         "_deepnote_index_column": 42
        },
        {
         "ID": 1,
         "Word": "Every",
         "_deepnote_index_column": 43
        },
        {
         "ID": 1,
         "Word": "time",
         "_deepnote_index_column": 44
        },
        {
         "ID": 1,
         "Word": "the",
         "_deepnote_index_column": 45
        },
        {
         "ID": 1,
         "Word": "capsule",
         "_deepnote_index_column": 46
        },
        {
         "ID": 1,
         "Word": "is",
         "_deepnote_index_column": 47
        },
        {
         "ID": 1,
         "Word": "cool",
         "_deepnote_index_column": 48
        },
        {
         "ID": 1,
         "Word": "after",
         "_deepnote_index_column": 49
        },
        {
         "ID": 1,
         "Word": "running",
         "_deepnote_index_column": 50
        },
        {
         "ID": 1,
         "Word": "over",
         "_deepnote_index_column": 51
        },
        {
         "ID": 1,
         "Word": "3",
         "_deepnote_index_column": 52
        },
        {
         "ID": 1,
         "Word": "hours.",
         "_deepnote_index_column": 53
        },
        {
         "ID": 1,
         "Word": "Highly",
         "_deepnote_index_column": 54
        },
        {
         "ID": 1,
         "Word": "recommended,",
         "_deepnote_index_column": 55
        },
        {
         "ID": 1,
         "Word": "the",
         "_deepnote_index_column": 56
        },
        {
         "ID": 1,
         "Word": "picture",
         "_deepnote_index_column": 57
        },
        {
         "ID": 1,
         "Word": "below",
         "_deepnote_index_column": 58
        },
        {
         "ID": 1,
         "Word": "is",
         "_deepnote_index_column": 59
        },
        {
         "ID": 1,
         "Word": "on",
         "_deepnote_index_column": 60
        },
        {
         "ID": 1,
         "Word": "a",
         "_deepnote_index_column": 61
        },
        {
         "ID": 1,
         "Word": "stucco",
         "_deepnote_index_column": 62
        },
        {
         "ID": 1,
         "Word": "exterior",
         "_deepnote_index_column": 63
        },
        {
         "ID": 1,
         "Word": "wall",
         "_deepnote_index_column": 64
        },
        {
         "ID": 1,
         "Word": "but",
         "_deepnote_index_column": 65
        },
        {
         "ID": 1,
         "Word": "the",
         "_deepnote_index_column": 66
        },
        {
         "ID": 1,
         "Word": "image",
         "_deepnote_index_column": 67
        },
        {
         "ID": 1,
         "Word": "still",
         "_deepnote_index_column": 68
        },
        {
         "ID": 1,
         "Word": "looks",
         "_deepnote_index_column": 69
        },
        {
         "ID": 1,
         "Word": "amazing.",
         "_deepnote_index_column": 70
        },
        {
         "ID": 2,
         "Word": "A",
         "_deepnote_index_column": 71
        },
        {
         "ID": 2,
         "Word": "little",
         "_deepnote_index_column": 72
        },
        {
         "ID": 2,
         "Word": "projector",
         "_deepnote_index_column": 73
        },
        {
         "ID": 2,
         "Word": "that",
         "_deepnote_index_column": 74
        },
        {
         "ID": 2,
         "Word": "packs",
         "_deepnote_index_column": 75
        },
        {
         "ID": 2,
         "Word": "a",
         "_deepnote_index_column": 76
        },
        {
         "ID": 2,
         "Word": "punch!",
         "_deepnote_index_column": 77
        },
        {
         "ID": 2,
         "Word": "Bought",
         "_deepnote_index_column": 78
        },
        {
         "ID": 2,
         "Word": "this",
         "_deepnote_index_column": 79
        },
        {
         "ID": 2,
         "Word": "for",
         "_deepnote_index_column": 80
        },
        {
         "ID": 2,
         "Word": "my",
         "_deepnote_index_column": 81
        },
        {
         "ID": 2,
         "Word": "wife",
         "_deepnote_index_column": 82
        },
        {
         "ID": 2,
         "Word": "for",
         "_deepnote_index_column": 83
        },
        {
         "ID": 2,
         "Word": "her",
         "_deepnote_index_column": 84
        },
        {
         "ID": 2,
         "Word": "birthday.",
         "_deepnote_index_column": 85
        },
        {
         "ID": 2,
         "Word": "She",
         "_deepnote_index_column": 86
        },
        {
         "ID": 2,
         "Word": "wanted",
         "_deepnote_index_column": 87
        },
        {
         "ID": 2,
         "Word": "a",
         "_deepnote_index_column": 88
        },
        {
         "ID": 2,
         "Word": "projector",
         "_deepnote_index_column": 89
        },
        {
         "ID": 2,
         "Word": "in",
         "_deepnote_index_column": 90
        },
        {
         "ID": 2,
         "Word": "the",
         "_deepnote_index_column": 91
        },
        {
         "ID": 2,
         "Word": "bedroom",
         "_deepnote_index_column": 92
        },
        {
         "ID": 2,
         "Word": "to",
         "_deepnote_index_column": 93
        },
        {
         "ID": 2,
         "Word": "cast",
         "_deepnote_index_column": 94
        },
        {
         "ID": 2,
         "Word": "upon",
         "_deepnote_index_column": 95
        },
        {
         "ID": 2,
         "Word": "the",
         "_deepnote_index_column": 96
        },
        {
         "ID": 2,
         "Word": "ceiling.",
         "_deepnote_index_column": 97
        },
        {
         "ID": 2,
         "Word": "I",
         "_deepnote_index_column": 98
        },
        {
         "ID": 2,
         "Word": "was",
         "_deepnote_index_column": 99
        },
        {
         "ID": 2,
         "Word": "all",
         "_deepnote_index_column": 100
        },
        {
         "ID": 2,
         "Word": "over",
         "_deepnote_index_column": 101
        },
        {
         "ID": 2,
         "Word": "getting",
         "_deepnote_index_column": 102
        },
        {
         "ID": 2,
         "Word": "this",
         "_deepnote_index_column": 103
        },
        {
         "ID": 2,
         "Word": "for",
         "_deepnote_index_column": 104
        },
        {
         "ID": 2,
         "Word": "her!",
         "_deepnote_index_column": 105
        },
        {
         "ID": 2,
         "Word": "After",
         "_deepnote_index_column": 106
        },
        {
         "ID": 2,
         "Word": "doing",
         "_deepnote_index_column": 107
        },
        {
         "ID": 2,
         "Word": "research",
         "_deepnote_index_column": 108
        },
        {
         "ID": 2,
         "Word": "and",
         "_deepnote_index_column": 109
        },
        {
         "ID": 2,
         "Word": "looking",
         "_deepnote_index_column": 110
        },
        {
         "ID": 2,
         "Word": "at",
         "_deepnote_index_column": 111
        },
        {
         "ID": 2,
         "Word": "a",
         "_deepnote_index_column": 112
        },
        {
         "ID": 2,
         "Word": "lot",
         "_deepnote_index_column": 113
        },
        {
         "ID": 2,
         "Word": "of",
         "_deepnote_index_column": 114
        },
        {
         "ID": 2,
         "Word": "different",
         "_deepnote_index_column": 115
        },
        {
         "ID": 2,
         "Word": "mini",
         "_deepnote_index_column": 116
        },
        {
         "ID": 2,
         "Word": "projectors,",
         "_deepnote_index_column": 117
        },
        {
         "ID": 2,
         "Word": "nothing",
         "_deepnote_index_column": 118
        },
        {
         "ID": 2,
         "Word": "even",
         "_deepnote_index_column": 119
        },
        {
         "ID": 2,
         "Word": "came",
         "_deepnote_index_column": 120
        },
        {
         "ID": 2,
         "Word": "close",
         "_deepnote_index_column": 121
        },
        {
         "ID": 2,
         "Word": "to",
         "_deepnote_index_column": 122
        },
        {
         "ID": 2,
         "Word": "the",
         "_deepnote_index_column": 123
        },
        {
         "ID": 2,
         "Word": "awesomeness",
         "_deepnote_index_column": 124
        },
        {
         "ID": 2,
         "Word": "that",
         "_deepnote_index_column": 125
        },
        {
         "ID": 2,
         "Word": "this",
         "_deepnote_index_column": 126
        },
        {
         "ID": 2,
         "Word": "thing",
         "_deepnote_index_column": 127
        },
        {
         "ID": 2,
         "Word": "portrayed.",
         "_deepnote_index_column": 128
        },
        {
         "ID": 2,
         "Word": "When",
         "_deepnote_index_column": 129
        },
        {
         "ID": 2,
         "Word": "it",
         "_deepnote_index_column": 130
        },
        {
         "ID": 2,
         "Word": "arrived",
         "_deepnote_index_column": 131
        },
        {
         "ID": 2,
         "Word": "and",
         "_deepnote_index_column": 132
        },
        {
         "ID": 2,
         "Word": "we",
         "_deepnote_index_column": 133
        },
        {
         "ID": 2,
         "Word": "got",
         "_deepnote_index_column": 134
        },
        {
         "ID": 2,
         "Word": "it",
         "_deepnote_index_column": 135
        },
        {
         "ID": 2,
         "Word": "all",
         "_deepnote_index_column": 136
        },
        {
         "ID": 2,
         "Word": "hooked",
         "_deepnote_index_column": 137
        },
        {
         "ID": 2,
         "Word": "up",
         "_deepnote_index_column": 138
        },
        {
         "ID": 2,
         "Word": "and",
         "_deepnote_index_column": 139
        },
        {
         "ID": 2,
         "Word": "running,",
         "_deepnote_index_column": 140
        },
        {
         "ID": 2,
         "Word": "we",
         "_deepnote_index_column": 141
        },
        {
         "ID": 2,
         "Word": "weren't",
         "_deepnote_index_column": 142
        },
        {
         "ID": 2,
         "Word": "disappointed",
         "_deepnote_index_column": 143
        },
        {
         "ID": 2,
         "Word": "in",
         "_deepnote_index_column": 144
        },
        {
         "ID": 2,
         "Word": "the",
         "_deepnote_index_column": 145
        },
        {
         "ID": 2,
         "Word": "slightest.",
         "_deepnote_index_column": 146
        },
        {
         "ID": 2,
         "Word": "We",
         "_deepnote_index_column": 147
        },
        {
         "ID": 2,
         "Word": "purchased",
         "_deepnote_index_column": 148
        },
        {
         "ID": 2,
         "Word": "the",
         "_deepnote_index_column": 149
        },
        {
         "ID": 2,
         "Word": "tripod",
         "_deepnote_index_column": 150
        },
        {
         "ID": 2,
         "Word": "stand",
         "_deepnote_index_column": 151
        },
        {
         "ID": 2,
         "Word": "with",
         "_deepnote_index_column": 152
        },
        {
         "ID": 2,
         "Word": "it",
         "_deepnote_index_column": 153
        },
        {
         "ID": 2,
         "Word": "and",
         "_deepnote_index_column": 154
        },
        {
         "ID": 2,
         "Word": "it",
         "_deepnote_index_column": 155
        },
        {
         "ID": 2,
         "Word": "does",
         "_deepnote_index_column": 156
        },
        {
         "ID": 2,
         "Word": "exactly",
         "_deepnote_index_column": 157
        },
        {
         "ID": 2,
         "Word": "what",
         "_deepnote_index_column": 158
        },
        {
         "ID": 2,
         "Word": "we",
         "_deepnote_index_column": 159
        },
        {
         "ID": 2,
         "Word": "wanted",
         "_deepnote_index_column": 160
        },
        {
         "ID": 2,
         "Word": "it",
         "_deepnote_index_column": 161
        },
        {
         "ID": 2,
         "Word": "to",
         "_deepnote_index_column": 162
        },
        {
         "ID": 2,
         "Word": "do.While",
         "_deepnote_index_column": 163
        },
        {
         "ID": 2,
         "Word": "the",
         "_deepnote_index_column": 164
        },
        {
         "ID": 2,
         "Word": "ceiling",
         "_deepnote_index_column": 165
        },
        {
         "ID": 2,
         "Word": "isn't",
         "_deepnote_index_column": 166
        },
        {
         "ID": 2,
         "Word": "the",
         "_deepnote_index_column": 167
        },
        {
         "ID": 2,
         "Word": "best",
         "_deepnote_index_column": 168
        },
        {
         "ID": 2,
         "Word": "projection",
         "_deepnote_index_column": 169
        },
        {
         "ID": 2,
         "Word": "surface",
         "_deepnote_index_column": 170
        },
        {
         "ID": 2,
         "Word": "(it's",
         "_deepnote_index_column": 171
        },
        {
         "ID": 2,
         "Word": "a",
         "_deepnote_index_column": 172
        },
        {
         "ID": 2,
         "Word": "textured",
         "_deepnote_index_column": 173
        },
        {
         "ID": 2,
         "Word": "ceiling),",
         "_deepnote_index_column": 174
        },
        {
         "ID": 2,
         "Word": "it",
         "_deepnote_index_column": 175
        },
        {
         "ID": 2,
         "Word": "still",
         "_deepnote_index_column": 176
        },
        {
         "ID": 2,
         "Word": "worked",
         "_deepnote_index_column": 177
        },
        {
         "ID": 2,
         "Word": "great.",
         "_deepnote_index_column": 178
        },
        {
         "ID": 2,
         "Word": "We",
         "_deepnote_index_column": 179
        },
        {
         "ID": 2,
         "Word": "have",
         "_deepnote_index_column": 180
        },
        {
         "ID": 2,
         "Word": "since",
         "_deepnote_index_column": 181
        },
        {
         "ID": 2,
         "Word": "moved",
         "_deepnote_index_column": 182
        },
        {
         "ID": 2,
         "Word": "it",
         "_deepnote_index_column": 183
        },
        {
         "ID": 2,
         "Word": "to",
         "_deepnote_index_column": 184
        },
        {
         "ID": 2,
         "Word": "project",
         "_deepnote_index_column": 185
        },
        {
         "ID": 2,
         "Word": "across",
         "_deepnote_index_column": 186
        },
        {
         "ID": 2,
         "Word": "our",
         "_deepnote_index_column": 187
        },
        {
         "ID": 2,
         "Word": "wall",
         "_deepnote_index_column": 188
        },
        {
         "ID": 2,
         "Word": "and",
         "_deepnote_index_column": 189
        },
        {
         "ID": 2,
         "Word": "boy",
         "_deepnote_index_column": 190
        },
        {
         "ID": 2,
         "Word": "does",
         "_deepnote_index_column": 191
        },
        {
         "ID": 2,
         "Word": "it",
         "_deepnote_index_column": 192
        },
        {
         "ID": 2,
         "Word": "take",
         "_deepnote_index_column": 193
        },
        {
         "ID": 2,
         "Word": "up",
         "_deepnote_index_column": 194
        },
        {
         "ID": 2,
         "Word": "the",
         "_deepnote_index_column": 195
        },
        {
         "ID": 2,
         "Word": "whole",
         "_deepnote_index_column": 196
        },
        {
         "ID": 2,
         "Word": "dang",
         "_deepnote_index_column": 197
        },
        {
         "ID": 2,
         "Word": "thing!",
         "_deepnote_index_column": 198
        },
        {
         "ID": 2,
         "Word": "Of",
         "_deepnote_index_column": 199
        },
        {
         "ID": 2,
         "Word": "course,",
         "_deepnote_index_column": 200
        },
        {
         "ID": 2,
         "Word": "you're",
         "_deepnote_index_column": 201
        },
        {
         "ID": 2,
         "Word": "not",
         "_deepnote_index_column": 202
        },
        {
         "ID": 2,
         "Word": "going",
         "_deepnote_index_column": 203
        },
        {
         "ID": 2,
         "Word": "to",
         "_deepnote_index_column": 204
        },
        {
         "ID": 2,
         "Word": "get",
         "_deepnote_index_column": 205
        },
        {
         "ID": 2,
         "Word": "be",
         "_deepnote_index_column": 206
        },
        {
         "ID": 2,
         "Word": "getting",
         "_deepnote_index_column": 207
        },
        {
         "ID": 2,
         "Word": "1080p",
         "_deepnote_index_column": 208
        },
        {
         "ID": 2,
         "Word": "quality",
         "_deepnote_index_column": 209
        },
        {
         "ID": 2,
         "Word": "with",
         "_deepnote_index_column": 210
        },
        {
         "ID": 2,
         "Word": "a",
         "_deepnote_index_column": 211
        },
        {
         "ID": 2,
         "Word": "device",
         "_deepnote_index_column": 212
        },
        {
         "ID": 2,
         "Word": "this",
         "_deepnote_index_column": 213
        },
        {
         "ID": 2,
         "Word": "small",
         "_deepnote_index_column": 214
        },
        {
         "ID": 2,
         "Word": "and",
         "_deepnote_index_column": 215
        },
        {
         "ID": 2,
         "Word": "compact,",
         "_deepnote_index_column": 216
        },
        {
         "ID": 2,
         "Word": "but",
         "_deepnote_index_column": 217
        },
        {
         "ID": 2,
         "Word": "it's",
         "_deepnote_index_column": 218
        },
        {
         "ID": 2,
         "Word": "still",
         "_deepnote_index_column": 219
        },
        {
         "ID": 2,
         "Word": "more",
         "_deepnote_index_column": 220
        },
        {
         "ID": 2,
         "Word": "than",
         "_deepnote_index_column": 221
        },
        {
         "ID": 2,
         "Word": "watchable.",
         "_deepnote_index_column": 222
        },
        {
         "ID": 2,
         "Word": "We",
         "_deepnote_index_column": 223
        },
        {
         "ID": 2,
         "Word": "quickly",
         "_deepnote_index_column": 224
        },
        {
         "ID": 2,
         "Word": "installed",
         "_deepnote_index_column": 225
        },
        {
         "ID": 2,
         "Word": "Plex",
         "_deepnote_index_column": 226
        },
        {
         "ID": 2,
         "Word": "and",
         "_deepnote_index_column": 227
        },
        {
         "ID": 2,
         "Word": "Netflix,",
         "_deepnote_index_column": 228
        },
        {
         "ID": 2,
         "Word": "added",
         "_deepnote_index_column": 229
        },
        {
         "ID": 2,
         "Word": "the",
         "_deepnote_index_column": 230
        },
        {
         "ID": 2,
         "Word": "remote",
         "_deepnote_index_column": 231
        },
        {
         "ID": 2,
         "Word": "control",
         "_deepnote_index_column": 232
        },
        {
         "ID": 2,
         "Word": "app",
         "_deepnote_index_column": 233
        },
        {
         "ID": 2,
         "Word": "to",
         "_deepnote_index_column": 234
        },
        {
         "ID": 2,
         "Word": "our",
         "_deepnote_index_column": 235
        },
        {
         "ID": 2,
         "Word": "phones,",
         "_deepnote_index_column": 236
        },
        {
         "ID": 2,
         "Word": "and",
         "_deepnote_index_column": 237
        },
        {
         "ID": 2,
         "Word": "were",
         "_deepnote_index_column": 238
        },
        {
         "ID": 2,
         "Word": "watching",
         "_deepnote_index_column": 239
        },
        {
         "ID": 2,
         "Word": "shows",
         "_deepnote_index_column": 240
        },
        {
         "ID": 2,
         "Word": "and",
         "_deepnote_index_column": 241
        },
        {
         "ID": 2,
         "Word": "controlling",
         "_deepnote_index_column": 242
        },
        {
         "ID": 2,
         "Word": "this",
         "_deepnote_index_column": 243
        },
        {
         "ID": 2,
         "Word": "bad",
         "_deepnote_index_column": 244
        },
        {
         "ID": 2,
         "Word": "boy",
         "_deepnote_index_column": 245
        },
        {
         "ID": 2,
         "Word": "in",
         "_deepnote_index_column": 246
        },
        {
         "ID": 2,
         "Word": "no",
         "_deepnote_index_column": 247
        },
        {
         "ID": 2,
         "Word": "time",
         "_deepnote_index_column": 248
        },
        {
         "ID": 2,
         "Word": "flat.",
         "_deepnote_index_column": 249
        }
       ],
       "rows_bottom": [
        {
         "ID": 1435,
         "Word": "this",
         "_deepnote_index_column": 107121
        },
        {
         "ID": 1435,
         "Word": "refusal",
         "_deepnote_index_column": 107122
        },
        {
         "ID": 1435,
         "Word": "of",
         "_deepnote_index_column": 107123
        },
        {
         "ID": 1435,
         "Word": "very",
         "_deepnote_index_column": 107124
        },
        {
         "ID": 1435,
         "Word": "basic",
         "_deepnote_index_column": 107125
        },
        {
         "ID": 1435,
         "Word": "customer",
         "_deepnote_index_column": 107126
        },
        {
         "ID": 1435,
         "Word": "care.Update:",
         "_deepnote_index_column": 107127
        },
        {
         "ID": 1435,
         "Word": "Anker",
         "_deepnote_index_column": 107128
        },
        {
         "ID": 1435,
         "Word": "had",
         "_deepnote_index_column": 107129
        },
        {
         "ID": 1435,
         "Word": "reluctantly",
         "_deepnote_index_column": 107130
        },
        {
         "ID": 1435,
         "Word": "made",
         "_deepnote_index_column": 107131
        },
        {
         "ID": 1435,
         "Word": "an",
         "_deepnote_index_column": 107132
        },
        {
         "ID": 1435,
         "Word": "\"exception\"",
         "_deepnote_index_column": 107133
        },
        {
         "ID": 1435,
         "Word": "on",
         "_deepnote_index_column": 107134
        },
        {
         "ID": 1435,
         "Word": "my",
         "_deepnote_index_column": 107135
        },
        {
         "ID": 1435,
         "Word": "part",
         "_deepnote_index_column": 107136
        },
        {
         "ID": 1435,
         "Word": "to",
         "_deepnote_index_column": 107137
        },
        {
         "ID": 1435,
         "Word": "replace",
         "_deepnote_index_column": 107138
        },
        {
         "ID": 1435,
         "Word": "the",
         "_deepnote_index_column": 107139
        },
        {
         "ID": 1435,
         "Word": "defective",
         "_deepnote_index_column": 107140
        },
        {
         "ID": 1435,
         "Word": "unit.",
         "_deepnote_index_column": 107141
        },
        {
         "ID": 1435,
         "Word": "After",
         "_deepnote_index_column": 107142
        },
        {
         "ID": 1435,
         "Word": "receiving",
         "_deepnote_index_column": 107143
        },
        {
         "ID": 1435,
         "Word": "it,",
         "_deepnote_index_column": 107144
        },
        {
         "ID": 1435,
         "Word": "it",
         "_deepnote_index_column": 107145
        },
        {
         "ID": 1435,
         "Word": "does",
         "_deepnote_index_column": 107146
        },
        {
         "ID": 1435,
         "Word": "not",
         "_deepnote_index_column": 107147
        },
        {
         "ID": 1435,
         "Word": "connect",
         "_deepnote_index_column": 107148
        },
        {
         "ID": 1435,
         "Word": "to",
         "_deepnote_index_column": 107149
        },
        {
         "ID": 1435,
         "Word": "wifi,",
         "_deepnote_index_column": 107150
        },
        {
         "ID": 1435,
         "Word": "or",
         "_deepnote_index_column": 107151
        },
        {
         "ID": 1435,
         "Word": "rather,",
         "_deepnote_index_column": 107152
        },
        {
         "ID": 1435,
         "Word": "says",
         "_deepnote_index_column": 107153
        },
        {
         "ID": 1435,
         "Word": "it's",
         "_deepnote_index_column": 107154
        },
        {
         "ID": 1435,
         "Word": "connected,",
         "_deepnote_index_column": 107155
        },
        {
         "ID": 1435,
         "Word": "then",
         "_deepnote_index_column": 107156
        },
        {
         "ID": 1435,
         "Word": "displays",
         "_deepnote_index_column": 107157
        },
        {
         "ID": 1435,
         "Word": "connection",
         "_deepnote_index_column": 107158
        },
        {
         "ID": 1435,
         "Word": "error,",
         "_deepnote_index_column": 107159
        },
        {
         "ID": 1435,
         "Word": "on",
         "_deepnote_index_column": 107160
        },
        {
         "ID": 1435,
         "Word": "my",
         "_deepnote_index_column": 107161
        },
        {
         "ID": 1435,
         "Word": "home",
         "_deepnote_index_column": 107162
        },
        {
         "ID": 1435,
         "Word": "wifi,",
         "_deepnote_index_column": 107163
        },
        {
         "ID": 1435,
         "Word": "and",
         "_deepnote_index_column": 107164
        },
        {
         "ID": 1435,
         "Word": "2",
         "_deepnote_index_column": 107165
        },
        {
         "ID": 1435,
         "Word": "separate",
         "_deepnote_index_column": 107166
        },
        {
         "ID": 1435,
         "Word": "hotspots.",
         "_deepnote_index_column": 107167
        },
        {
         "ID": 1435,
         "Word": "So",
         "_deepnote_index_column": 107168
        },
        {
         "ID": 1435,
         "Word": "here",
         "_deepnote_index_column": 107169
        },
        {
         "ID": 1435,
         "Word": "we",
         "_deepnote_index_column": 107170
        },
        {
         "ID": 1435,
         "Word": "are,",
         "_deepnote_index_column": 107171
        },
        {
         "ID": 1435,
         "Word": "with",
         "_deepnote_index_column": 107172
        },
        {
         "ID": 1435,
         "Word": "2",
         "_deepnote_index_column": 107173
        },
        {
         "ID": 1435,
         "Word": "separate",
         "_deepnote_index_column": 107174
        },
        {
         "ID": 1435,
         "Word": "defective",
         "_deepnote_index_column": 107175
        },
        {
         "ID": 1435,
         "Word": "units",
         "_deepnote_index_column": 107176
        },
        {
         "ID": 1435,
         "Word": "out",
         "_deepnote_index_column": 107177
        },
        {
         "ID": 1435,
         "Word": "of",
         "_deepnote_index_column": 107178
        },
        {
         "ID": 1435,
         "Word": "the",
         "_deepnote_index_column": 107179
        },
        {
         "ID": 1435,
         "Word": "box.",
         "_deepnote_index_column": 107180
        },
        {
         "ID": 1435,
         "Word": "I",
         "_deepnote_index_column": 107181
        },
        {
         "ID": 1435,
         "Word": "have",
         "_deepnote_index_column": 107182
        },
        {
         "ID": 1435,
         "Word": "no",
         "_deepnote_index_column": 107183
        },
        {
         "ID": 1435,
         "Word": "recommendations",
         "_deepnote_index_column": 107184
        },
        {
         "ID": 1435,
         "Word": "at",
         "_deepnote_index_column": 107185
        },
        {
         "ID": 1435,
         "Word": "this",
         "_deepnote_index_column": 107186
        },
        {
         "ID": 1435,
         "Word": "time",
         "_deepnote_index_column": 107187
        },
        {
         "ID": 1435,
         "Word": "for",
         "_deepnote_index_column": 107188
        },
        {
         "ID": 1435,
         "Word": "anyone",
         "_deepnote_index_column": 107189
        },
        {
         "ID": 1435,
         "Word": "to",
         "_deepnote_index_column": 107190
        },
        {
         "ID": 1435,
         "Word": "purchase",
         "_deepnote_index_column": 107191
        },
        {
         "ID": 1435,
         "Word": "this",
         "_deepnote_index_column": 107192
        },
        {
         "ID": 1435,
         "Word": "product.",
         "_deepnote_index_column": 107193
        },
        {
         "ID": 1435,
         "Word": "I've",
         "_deepnote_index_column": 107194
        },
        {
         "ID": 1435,
         "Word": "fired",
         "_deepnote_index_column": 107195
        },
        {
         "ID": 1435,
         "Word": "off",
         "_deepnote_index_column": 107196
        },
        {
         "ID": 1435,
         "Word": "another",
         "_deepnote_index_column": 107197
        },
        {
         "ID": 1435,
         "Word": "email,",
         "_deepnote_index_column": 107198
        },
        {
         "ID": 1435,
         "Word": "I'll",
         "_deepnote_index_column": 107199
        },
        {
         "ID": 1435,
         "Word": "update",
         "_deepnote_index_column": 107200
        },
        {
         "ID": 1435,
         "Word": "or",
         "_deepnote_index_column": 107201
        },
        {
         "ID": 1435,
         "Word": "address",
         "_deepnote_index_column": 107202
        },
        {
         "ID": 1435,
         "Word": "this",
         "_deepnote_index_column": 107203
        },
        {
         "ID": 1435,
         "Word": "review",
         "_deepnote_index_column": 107204
        },
        {
         "ID": 1435,
         "Word": "with",
         "_deepnote_index_column": 107205
        },
        {
         "ID": 1435,
         "Word": "the",
         "_deepnote_index_column": 107206
        },
        {
         "ID": 1435,
         "Word": "results.",
         "_deepnote_index_column": 107207
        },
        {
         "ID": 1436,
         "Word": "Low",
         "_deepnote_index_column": 107208
        },
        {
         "ID": 1436,
         "Word": "Res",
         "_deepnote_index_column": 107209
        },
        {
         "ID": 1436,
         "Word": "Only",
         "_deepnote_index_column": 107210
        },
        {
         "ID": 1436,
         "Word": "480p",
         "_deepnote_index_column": 107211
        },
        {
         "ID": 1436,
         "Word": "so",
         "_deepnote_index_column": 107212
        },
        {
         "ID": 1436,
         "Word": "very",
         "_deepnote_index_column": 107213
        },
        {
         "ID": 1436,
         "Word": "blurry,",
         "_deepnote_index_column": 107214
        },
        {
         "ID": 1436,
         "Word": "was",
         "_deepnote_index_column": 107215
        },
        {
         "ID": 1436,
         "Word": "not",
         "_deepnote_index_column": 107216
        },
        {
         "ID": 1436,
         "Word": "acceptable",
         "_deepnote_index_column": 107217
        },
        {
         "ID": 1436,
         "Word": "for",
         "_deepnote_index_column": 107218
        },
        {
         "ID": 1436,
         "Word": "me.",
         "_deepnote_index_column": 107219
        },
        {
         "ID": 1436,
         "Word": "The",
         "_deepnote_index_column": 107220
        },
        {
         "ID": 1436,
         "Word": "customer",
         "_deepnote_index_column": 107221
        },
        {
         "ID": 1436,
         "Word": "service",
         "_deepnote_index_column": 107222
        },
        {
         "ID": 1436,
         "Word": "was",
         "_deepnote_index_column": 107223
        },
        {
         "ID": 1436,
         "Word": "nice",
         "_deepnote_index_column": 107224
        },
        {
         "ID": 1436,
         "Word": "and",
         "_deepnote_index_column": 107225
        },
        {
         "ID": 1436,
         "Word": "quick",
         "_deepnote_index_column": 107226
        },
        {
         "ID": 1436,
         "Word": "though.",
         "_deepnote_index_column": 107227
        },
        {
         "ID": 1436,
         "Word": "Returned",
         "_deepnote_index_column": 107228
        },
        {
         "ID": 1436,
         "Word": "it",
         "_deepnote_index_column": 107229
        },
        {
         "ID": 1436,
         "Word": "and",
         "_deepnote_index_column": 107230
        },
        {
         "ID": 1436,
         "Word": "got",
         "_deepnote_index_column": 107231
        },
        {
         "ID": 1436,
         "Word": "a",
         "_deepnote_index_column": 107232
        },
        {
         "ID": 1436,
         "Word": "different",
         "_deepnote_index_column": 107233
        },
        {
         "ID": 1436,
         "Word": "nebula",
         "_deepnote_index_column": 107234
        },
        {
         "ID": 1436,
         "Word": "model.",
         "_deepnote_index_column": 107235
        },
        {
         "ID": 1437,
         "Word": "Not",
         "_deepnote_index_column": 107236
        },
        {
         "ID": 1437,
         "Word": "worth",
         "_deepnote_index_column": 107237
        },
        {
         "ID": 1437,
         "Word": "the",
         "_deepnote_index_column": 107238
        },
        {
         "ID": 1437,
         "Word": "price",
         "_deepnote_index_column": 107239
        },
        {
         "ID": 1437,
         "Word": "Easy",
         "_deepnote_index_column": 107240
        },
        {
         "ID": 1437,
         "Word": "to",
         "_deepnote_index_column": 107241
        },
        {
         "ID": 1437,
         "Word": "use,",
         "_deepnote_index_column": 107242
        },
        {
         "ID": 1437,
         "Word": "but",
         "_deepnote_index_column": 107243
        },
        {
         "ID": 1437,
         "Word": "it’s",
         "_deepnote_index_column": 107244
        },
        {
         "ID": 1437,
         "Word": "dark.",
         "_deepnote_index_column": 107245
        },
        {
         "ID": 1437,
         "Word": "It",
         "_deepnote_index_column": 107246
        },
        {
         "ID": 1437,
         "Word": "takes",
         "_deepnote_index_column": 107247
        },
        {
         "ID": 1437,
         "Word": "me",
         "_deepnote_index_column": 107248
        },
        {
         "ID": 1437,
         "Word": "a",
         "_deepnote_index_column": 107249
        },
        {
         "ID": 1437,
         "Word": "while",
         "_deepnote_index_column": 107250
        },
        {
         "ID": 1437,
         "Word": "to",
         "_deepnote_index_column": 107251
        },
        {
         "ID": 1437,
         "Word": "adjust",
         "_deepnote_index_column": 107252
        },
        {
         "ID": 1437,
         "Word": "the",
         "_deepnote_index_column": 107253
        },
        {
         "ID": 1437,
         "Word": "projector",
         "_deepnote_index_column": 107254
        },
        {
         "ID": 1437,
         "Word": "angle",
         "_deepnote_index_column": 107255
        },
        {
         "ID": 1437,
         "Word": "every",
         "_deepnote_index_column": 107256
        },
        {
         "ID": 1437,
         "Word": "time.",
         "_deepnote_index_column": 107257
        },
        {
         "ID": 1437,
         "Word": "The",
         "_deepnote_index_column": 107258
        },
        {
         "ID": 1437,
         "Word": "speaker",
         "_deepnote_index_column": 107259
        },
        {
         "ID": 1437,
         "Word": "was",
         "_deepnote_index_column": 107260
        },
        {
         "ID": 1437,
         "Word": "too",
         "_deepnote_index_column": 107261
        },
        {
         "ID": 1437,
         "Word": "loud",
         "_deepnote_index_column": 107262
        },
        {
         "ID": 1437,
         "Word": "(even",
         "_deepnote_index_column": 107263
        },
        {
         "ID": 1437,
         "Word": "the",
         "_deepnote_index_column": 107264
        },
        {
         "ID": 1437,
         "Word": "lowest",
         "_deepnote_index_column": 107265
        },
        {
         "ID": 1437,
         "Word": "volume).",
         "_deepnote_index_column": 107266
        },
        {
         "ID": 1437,
         "Word": "Overall,",
         "_deepnote_index_column": 107267
        },
        {
         "ID": 1437,
         "Word": "it’s",
         "_deepnote_index_column": 107268
        },
        {
         "ID": 1437,
         "Word": "not",
         "_deepnote_index_column": 107269
        },
        {
         "ID": 1437,
         "Word": "worth",
         "_deepnote_index_column": 107270
        },
        {
         "ID": 1437,
         "Word": "the",
         "_deepnote_index_column": 107271
        },
        {
         "ID": 1437,
         "Word": "price.",
         "_deepnote_index_column": 107272
        },
        {
         "ID": 1438,
         "Word": "not",
         "_deepnote_index_column": 107273
        },
        {
         "ID": 1438,
         "Word": "working",
         "_deepnote_index_column": 107274
        },
        {
         "ID": 1438,
         "Word": "with",
         "_deepnote_index_column": 107275
        },
        {
         "ID": 1438,
         "Word": "its",
         "_deepnote_index_column": 107276
        },
        {
         "ID": 1438,
         "Word": "own",
         "_deepnote_index_column": 107277
        },
        {
         "ID": 1438,
         "Word": "Twitch",
         "_deepnote_index_column": 107278
        },
        {
         "ID": 1438,
         "Word": "app",
         "_deepnote_index_column": 107279
        },
        {
         "ID": 1438,
         "Word": "Upset,",
         "_deepnote_index_column": 107280
        },
        {
         "ID": 1438,
         "Word": "not",
         "_deepnote_index_column": 107281
        },
        {
         "ID": 1438,
         "Word": "working",
         "_deepnote_index_column": 107282
        },
        {
         "ID": 1438,
         "Word": "with",
         "_deepnote_index_column": 107283
        },
        {
         "ID": 1438,
         "Word": "its",
         "_deepnote_index_column": 107284
        },
        {
         "ID": 1438,
         "Word": "own",
         "_deepnote_index_column": 107285
        },
        {
         "ID": 1438,
         "Word": "Twitch",
         "_deepnote_index_column": 107286
        },
        {
         "ID": 1438,
         "Word": "app.",
         "_deepnote_index_column": 107287
        },
        {
         "ID": 1438,
         "Word": "useless",
         "_deepnote_index_column": 107288
        },
        {
         "ID": 1438,
         "Word": "for",
         "_deepnote_index_column": 107289
        },
        {
         "ID": 1438,
         "Word": "me.",
         "_deepnote_index_column": 107290
        },
        {
         "ID": 1439,
         "Word": "Poco",
         "_deepnote_index_column": 107291
        },
        {
         "ID": 1439,
         "Word": "brillo",
         "_deepnote_index_column": 107292
        },
        {
         "ID": 1439,
         "Word": "y",
         "_deepnote_index_column": 107293
        },
        {
         "ID": 1439,
         "Word": "baja",
         "_deepnote_index_column": 107294
        },
        {
         "ID": 1439,
         "Word": "resolución",
         "_deepnote_index_column": 107295
        },
        {
         "ID": 1439,
         "Word": "No",
         "_deepnote_index_column": 107296
        },
        {
         "ID": 1439,
         "Word": "tiene",
         "_deepnote_index_column": 107297
        },
        {
         "ID": 1439,
         "Word": "buen",
         "_deepnote_index_column": 107298
        },
        {
         "ID": 1439,
         "Word": "brillo,",
         "_deepnote_index_column": 107299
        },
        {
         "ID": 1439,
         "Word": "no",
         "_deepnote_index_column": 107300
        },
        {
         "ID": 1439,
         "Word": "sirve",
         "_deepnote_index_column": 107301
        },
        {
         "ID": 1439,
         "Word": "para",
         "_deepnote_index_column": 107302
        },
        {
         "ID": 1439,
         "Word": "jugar",
         "_deepnote_index_column": 107303
        },
        {
         "ID": 1439,
         "Word": "play",
         "_deepnote_index_column": 107304
        },
        {
         "ID": 1439,
         "Word": "station,",
         "_deepnote_index_column": 107305
        },
        {
         "ID": 1439,
         "Word": "porque",
         "_deepnote_index_column": 107306
        },
        {
         "ID": 1439,
         "Word": "se",
         "_deepnote_index_column": 107307
        },
        {
         "ID": 1439,
         "Word": "nota",
         "_deepnote_index_column": 107308
        },
        {
         "ID": 1439,
         "Word": "aunque",
         "_deepnote_index_column": 107309
        },
        {
         "ID": 1439,
         "Word": "leve",
         "_deepnote_index_column": 107310
        },
        {
         "ID": 1439,
         "Word": "un",
         "_deepnote_index_column": 107311
        },
        {
         "ID": 1439,
         "Word": "retraso",
         "_deepnote_index_column": 107312
        },
        {
         "ID": 1439,
         "Word": "en",
         "_deepnote_index_column": 107313
        },
        {
         "ID": 1439,
         "Word": "la",
         "_deepnote_index_column": 107314
        },
        {
         "ID": 1439,
         "Word": "imagen",
         "_deepnote_index_column": 107315
        },
        {
         "ID": 1439,
         "Word": "proyectada,",
         "_deepnote_index_column": 107316
        },
        {
         "ID": 1439,
         "Word": "además",
         "_deepnote_index_column": 107317
        },
        {
         "ID": 1439,
         "Word": "que",
         "_deepnote_index_column": 107318
        },
        {
         "ID": 1439,
         "Word": "no",
         "_deepnote_index_column": 107319
        },
        {
         "ID": 1439,
         "Word": "tiene",
         "_deepnote_index_column": 107320
        },
        {
         "ID": 1439,
         "Word": "buena",
         "_deepnote_index_column": 107321
        },
        {
         "ID": 1439,
         "Word": "iluminación,",
         "_deepnote_index_column": 107322
        },
        {
         "ID": 1439,
         "Word": "muy",
         "_deepnote_index_column": 107323
        },
        {
         "ID": 1439,
         "Word": "caro",
         "_deepnote_index_column": 107324
        },
        {
         "ID": 1439,
         "Word": "para",
         "_deepnote_index_column": 107325
        },
        {
         "ID": 1439,
         "Word": "lo",
         "_deepnote_index_column": 107326
        },
        {
         "ID": 1439,
         "Word": "que",
         "_deepnote_index_column": 107327
        },
        {
         "ID": 1439,
         "Word": "ofrece,",
         "_deepnote_index_column": 107328
        },
        {
         "ID": 1439,
         "Word": "he",
         "_deepnote_index_column": 107329
        },
        {
         "ID": 1439,
         "Word": "visto",
         "_deepnote_index_column": 107330
        },
        {
         "ID": 1439,
         "Word": "otros",
         "_deepnote_index_column": 107331
        },
        {
         "ID": 1439,
         "Word": "proyectores",
         "_deepnote_index_column": 107332
        },
        {
         "ID": 1439,
         "Word": "con",
         "_deepnote_index_column": 107333
        },
        {
         "ID": 1439,
         "Word": "las",
         "_deepnote_index_column": 107334
        },
        {
         "ID": 1439,
         "Word": "mismas",
         "_deepnote_index_column": 107335
        },
        {
         "ID": 1439,
         "Word": "o",
         "_deepnote_index_column": 107336
        },
        {
         "ID": 1439,
         "Word": "parecidas",
         "_deepnote_index_column": 107337
        },
        {
         "ID": 1439,
         "Word": "características",
         "_deepnote_index_column": 107338
        },
        {
         "ID": 1439,
         "Word": "más",
         "_deepnote_index_column": 107339
        },
        {
         "ID": 1439,
         "Word": "baratos",
         "_deepnote_index_column": 107340
        },
        {
         "ID": 1440,
         "Word": "Badluck",
         "_deepnote_index_column": 107341
        },
        {
         "ID": 1440,
         "Word": "One",
         "_deepnote_index_column": 107342
        },
        {
         "ID": 1440,
         "Word": "day",
         "_deepnote_index_column": 107343
        },
        {
         "ID": 1440,
         "Word": "the",
         "_deepnote_index_column": 107344
        },
        {
         "ID": 1440,
         "Word": "nebula",
         "_deepnote_index_column": 107345
        },
        {
         "ID": 1440,
         "Word": "get",
         "_deepnote_index_column": 107346
        },
        {
         "ID": 1440,
         "Word": "heated",
         "_deepnote_index_column": 107347
        },
        {
         "ID": 1440,
         "Word": "more",
         "_deepnote_index_column": 107348
        },
        {
         "ID": 1440,
         "Word": "and",
         "_deepnote_index_column": 107349
        },
        {
         "ID": 1440,
         "Word": "suddenly",
         "_deepnote_index_column": 107350
        },
        {
         "ID": 1440,
         "Word": "the",
         "_deepnote_index_column": 107351
        },
        {
         "ID": 1440,
         "Word": "bad",
         "_deepnote_index_column": 107352
        },
        {
         "ID": 1440,
         "Word": "odour",
         "_deepnote_index_column": 107353
        },
        {
         "ID": 1440,
         "Word": "smell",
         "_deepnote_index_column": 107354
        },
        {
         "ID": 1440,
         "Word": "is",
         "_deepnote_index_column": 107355
        },
        {
         "ID": 1440,
         "Word": "coming",
         "_deepnote_index_column": 107356
        },
        {
         "ID": 1440,
         "Word": "and",
         "_deepnote_index_column": 107357
        },
        {
         "ID": 1440,
         "Word": "switched",
         "_deepnote_index_column": 107358
        },
        {
         "ID": 1440,
         "Word": "off",
         "_deepnote_index_column": 107359
        },
        {
         "ID": 1440,
         "Word": "i",
         "_deepnote_index_column": 107360
        },
        {
         "ID": 1440,
         "Word": "lost",
         "_deepnote_index_column": 107361
        },
        {
         "ID": 1440,
         "Word": "my",
         "_deepnote_index_column": 107362
        },
        {
         "ID": 1440,
         "Word": "money",
         "_deepnote_index_column": 107363
        },
        {
         "ID": 1441,
         "Word": "Awsome",
         "_deepnote_index_column": 107364
        },
        {
         "ID": 1441,
         "Word": "Excellent",
         "_deepnote_index_column": 107365
        },
        {
         "ID": 1441,
         "Word": "services",
         "_deepnote_index_column": 107366
        },
        {
         "ID": 1441,
         "Word": "and",
         "_deepnote_index_column": 107367
        },
        {
         "ID": 1441,
         "Word": "fast",
         "_deepnote_index_column": 107368
        },
        {
         "ID": 1441,
         "Word": "turn",
         "_deepnote_index_column": 107369
        },
        {
         "ID": 1441,
         "Word": "over",
         "_deepnote_index_column": 107370
        }
       ]
      },
      "text/plain": "          ID       Word\n0          1      Great\n1          1  projector\n2          1      Great\n3          1      item,\n4          1      worth\n...      ...        ...\n107366  1441   services\n107367  1441        and\n107368  1441       fast\n107369  1441       turn\n107370  1441       over\n\n[107371 rows x 2 columns]",
      "text/html": "<div>\n<style scoped>\n    .dataframe tbody tr th:only-of-type {\n        vertical-align: middle;\n    }\n\n    .dataframe tbody tr th {\n        vertical-align: top;\n    }\n\n    .dataframe thead th {\n        text-align: right;\n    }\n</style>\n<table border=\"1\" class=\"dataframe\">\n  <thead>\n    <tr style=\"text-align: right;\">\n      <th></th>\n      <th>ID</th>\n      <th>Word</th>\n    </tr>\n  </thead>\n  <tbody>\n    <tr>\n      <th>0</th>\n      <td>1</td>\n      <td>Great</td>\n    </tr>\n    <tr>\n      <th>1</th>\n      <td>1</td>\n      <td>projector</td>\n    </tr>\n    <tr>\n      <th>2</th>\n      <td>1</td>\n      <td>Great</td>\n    </tr>\n    <tr>\n      <th>3</th>\n      <td>1</td>\n      <td>item,</td>\n    </tr>\n    <tr>\n      <th>4</th>\n      <td>1</td>\n      <td>worth</td>\n    </tr>\n    <tr>\n      <th>...</th>\n      <td>...</td>\n      <td>...</td>\n    </tr>\n    <tr>\n      <th>107366</th>\n      <td>1441</td>\n      <td>services</td>\n    </tr>\n    <tr>\n      <th>107367</th>\n      <td>1441</td>\n      <td>and</td>\n    </tr>\n    <tr>\n      <th>107368</th>\n      <td>1441</td>\n      <td>fast</td>\n    </tr>\n    <tr>\n      <th>107369</th>\n      <td>1441</td>\n      <td>turn</td>\n    </tr>\n    <tr>\n      <th>107370</th>\n      <td>1441</td>\n      <td>over</td>\n    </tr>\n  </tbody>\n</table>\n<p>107371 rows × 2 columns</p>\n</div>"
     },
     "metadata": {}
    }
   ]
  },
  {
   "cell_type": "markdown",
   "source": "The last step will be to clean the text:\n- Every words needs to be in lower character for normalisation,\n- Puntuation needs to be removed as they are not relevant to our analyse and will interfere in the next steps\n- Negations are very important for our study as it will allow us to differenciate between good and bad review. In order to avoid any variation of the \"'\" in contractions and deal with words that are not correctly separated (don't --> don' + 't), we will expand these words into their original form (don't --> do + not)",
   "metadata": {
    "tags": [],
    "cell_id": "00012-1aa3a7e3-4166-4809-8c9b-fde2806a4d1f",
    "deepnote_app_coordinates": {
     "x": 0,
     "y": 57,
     "w": 12,
     "h": 5
    },
    "deepnote_cell_type": "markdown"
   }
  },
  {
   "cell_type": "code",
   "metadata": {
    "tags": [],
    "cell_id": "00010-e39a5ba8-3b8e-44ce-b56d-5f2e78d8db3a",
    "deepnote_to_be_reexecuted": false,
    "source_hash": "9de057f3",
    "execution_start": 1637538952144,
    "execution_millis": 2428,
    "deepnote_app_coordinates": {
     "x": 0,
     "y": 63,
     "w": 12,
     "h": 5
    },
    "deepnote_cell_type": "code"
   },
   "source": "def text_cleaning(text):\n    \n    text = text.lower()\n\n    text = re.sub(r\"n\\’t\", \" not\", text)\n    text = re.sub(r\"\\’re\", \" are\", text)\n    text = re.sub(r\"\\’s\", \" is\", text)\n    text = re.sub(r\"\\’d\", \" would\", text)\n    text = re.sub(r\"\\’ll\", \" will\", text)\n    text = re.sub(r\"\\’t\", \" not\", text)\n    text = re.sub(r\"\\’ve\", \" have\", text)\n    text = re.sub(r\"\\’m\", \" am\", text)\n    \n    text = re.sub('[%s]' % re.escape(string.punctuation), '', str(text))\n    return text\n\ndf_text=new_df['Word'].apply(text_cleaning)\n\nnew_df['Word']=df_text.apply (lambda x:''.join(x)).apply(text_cleaning)\nnew_df",
   "execution_count": null,
   "outputs": [
    {
     "output_type": "execute_result",
     "execution_count": 5,
     "data": {
      "application/vnd.deepnote.dataframe.v2+json": {
       "row_count": 107371,
       "column_count": 2,
       "columns": [
        {
         "name": "ID",
         "dtype": "int64"
        },
        {
         "name": "Word",
         "dtype": "object"
        },
        {
         "name": "_deepnote_index_column",
         "dtype": "int64"
        }
       ],
       "rows_top": [
        {
         "ID": 1,
         "Word": "great",
         "_deepnote_index_column": 0
        },
        {
         "ID": 1,
         "Word": "projector",
         "_deepnote_index_column": 1
        },
        {
         "ID": 1,
         "Word": "great",
         "_deepnote_index_column": 2
        },
        {
         "ID": 1,
         "Word": "item",
         "_deepnote_index_column": 3
        },
        {
         "ID": 1,
         "Word": "worth",
         "_deepnote_index_column": 4
        },
        {
         "ID": 1,
         "Word": "every",
         "_deepnote_index_column": 5
        },
        {
         "ID": 1,
         "Word": "penny",
         "_deepnote_index_column": 6
        },
        {
         "ID": 1,
         "Word": "i",
         "_deepnote_index_column": 7
        },
        {
         "ID": 1,
         "Word": "was",
         "_deepnote_index_column": 8
        },
        {
         "ID": 1,
         "Word": "skeptical",
         "_deepnote_index_column": 9
        },
        {
         "ID": 1,
         "Word": "about",
         "_deepnote_index_column": 10
        },
        {
         "ID": 1,
         "Word": "it",
         "_deepnote_index_column": 11
        },
        {
         "ID": 1,
         "Word": "after",
         "_deepnote_index_column": 12
        },
        {
         "ID": 1,
         "Word": "seeing",
         "_deepnote_index_column": 13
        },
        {
         "ID": 1,
         "Word": "comments",
         "_deepnote_index_column": 14
        },
        {
         "ID": 1,
         "Word": "on",
         "_deepnote_index_column": 15
        },
        {
         "ID": 1,
         "Word": "how",
         "_deepnote_index_column": 16
        },
        {
         "ID": 1,
         "Word": "loud",
         "_deepnote_index_column": 17
        },
        {
         "ID": 1,
         "Word": "the",
         "_deepnote_index_column": 18
        },
        {
         "ID": 1,
         "Word": "fan",
         "_deepnote_index_column": 19
        },
        {
         "ID": 1,
         "Word": "is",
         "_deepnote_index_column": 20
        },
        {
         "ID": 1,
         "Word": "in",
         "_deepnote_index_column": 21
        },
        {
         "ID": 1,
         "Word": "all",
         "_deepnote_index_column": 22
        },
        {
         "ID": 1,
         "Word": "actually",
         "_deepnote_index_column": 23
        },
        {
         "ID": 1,
         "Word": "i",
         "_deepnote_index_column": 24
        },
        {
         "ID": 1,
         "Word": "barely",
         "_deepnote_index_column": 25
        },
        {
         "ID": 1,
         "Word": "hear",
         "_deepnote_index_column": 26
        },
        {
         "ID": 1,
         "Word": "it",
         "_deepnote_index_column": 27
        },
        {
         "ID": 1,
         "Word": "when",
         "_deepnote_index_column": 28
        },
        {
         "ID": 1,
         "Word": "the",
         "_deepnote_index_column": 29
        },
        {
         "ID": 1,
         "Word": "volume",
         "_deepnote_index_column": 30
        },
        {
         "ID": 1,
         "Word": "is",
         "_deepnote_index_column": 31
        },
        {
         "ID": 1,
         "Word": "low",
         "_deepnote_index_column": 32
        },
        {
         "ID": 1,
         "Word": "but",
         "_deepnote_index_column": 33
        },
        {
         "ID": 1,
         "Word": "it",
         "_deepnote_index_column": 34
        },
        {
         "ID": 1,
         "Word": "does",
         "_deepnote_index_column": 35
        },
        {
         "ID": 1,
         "Word": "an",
         "_deepnote_index_column": 36
        },
        {
         "ID": 1,
         "Word": "amazing",
         "_deepnote_index_column": 37
        },
        {
         "ID": 1,
         "Word": "job",
         "_deepnote_index_column": 38
        },
        {
         "ID": 1,
         "Word": "in",
         "_deepnote_index_column": 39
        },
        {
         "ID": 1,
         "Word": "cooling",
         "_deepnote_index_column": 40
        },
        {
         "ID": 1,
         "Word": "the",
         "_deepnote_index_column": 41
        },
        {
         "ID": 1,
         "Word": "projector",
         "_deepnote_index_column": 42
        },
        {
         "ID": 1,
         "Word": "every",
         "_deepnote_index_column": 43
        },
        {
         "ID": 1,
         "Word": "time",
         "_deepnote_index_column": 44
        },
        {
         "ID": 1,
         "Word": "the",
         "_deepnote_index_column": 45
        },
        {
         "ID": 1,
         "Word": "capsule",
         "_deepnote_index_column": 46
        },
        {
         "ID": 1,
         "Word": "is",
         "_deepnote_index_column": 47
        },
        {
         "ID": 1,
         "Word": "cool",
         "_deepnote_index_column": 48
        },
        {
         "ID": 1,
         "Word": "after",
         "_deepnote_index_column": 49
        },
        {
         "ID": 1,
         "Word": "running",
         "_deepnote_index_column": 50
        },
        {
         "ID": 1,
         "Word": "over",
         "_deepnote_index_column": 51
        },
        {
         "ID": 1,
         "Word": "3",
         "_deepnote_index_column": 52
        },
        {
         "ID": 1,
         "Word": "hours",
         "_deepnote_index_column": 53
        },
        {
         "ID": 1,
         "Word": "highly",
         "_deepnote_index_column": 54
        },
        {
         "ID": 1,
         "Word": "recommended",
         "_deepnote_index_column": 55
        },
        {
         "ID": 1,
         "Word": "the",
         "_deepnote_index_column": 56
        },
        {
         "ID": 1,
         "Word": "picture",
         "_deepnote_index_column": 57
        },
        {
         "ID": 1,
         "Word": "below",
         "_deepnote_index_column": 58
        },
        {
         "ID": 1,
         "Word": "is",
         "_deepnote_index_column": 59
        },
        {
         "ID": 1,
         "Word": "on",
         "_deepnote_index_column": 60
        },
        {
         "ID": 1,
         "Word": "a",
         "_deepnote_index_column": 61
        },
        {
         "ID": 1,
         "Word": "stucco",
         "_deepnote_index_column": 62
        },
        {
         "ID": 1,
         "Word": "exterior",
         "_deepnote_index_column": 63
        },
        {
         "ID": 1,
         "Word": "wall",
         "_deepnote_index_column": 64
        },
        {
         "ID": 1,
         "Word": "but",
         "_deepnote_index_column": 65
        },
        {
         "ID": 1,
         "Word": "the",
         "_deepnote_index_column": 66
        },
        {
         "ID": 1,
         "Word": "image",
         "_deepnote_index_column": 67
        },
        {
         "ID": 1,
         "Word": "still",
         "_deepnote_index_column": 68
        },
        {
         "ID": 1,
         "Word": "looks",
         "_deepnote_index_column": 69
        },
        {
         "ID": 1,
         "Word": "amazing",
         "_deepnote_index_column": 70
        },
        {
         "ID": 2,
         "Word": "a",
         "_deepnote_index_column": 71
        },
        {
         "ID": 2,
         "Word": "little",
         "_deepnote_index_column": 72
        },
        {
         "ID": 2,
         "Word": "projector",
         "_deepnote_index_column": 73
        },
        {
         "ID": 2,
         "Word": "that",
         "_deepnote_index_column": 74
        },
        {
         "ID": 2,
         "Word": "packs",
         "_deepnote_index_column": 75
        },
        {
         "ID": 2,
         "Word": "a",
         "_deepnote_index_column": 76
        },
        {
         "ID": 2,
         "Word": "punch",
         "_deepnote_index_column": 77
        },
        {
         "ID": 2,
         "Word": "bought",
         "_deepnote_index_column": 78
        },
        {
         "ID": 2,
         "Word": "this",
         "_deepnote_index_column": 79
        },
        {
         "ID": 2,
         "Word": "for",
         "_deepnote_index_column": 80
        },
        {
         "ID": 2,
         "Word": "my",
         "_deepnote_index_column": 81
        },
        {
         "ID": 2,
         "Word": "wife",
         "_deepnote_index_column": 82
        },
        {
         "ID": 2,
         "Word": "for",
         "_deepnote_index_column": 83
        },
        {
         "ID": 2,
         "Word": "her",
         "_deepnote_index_column": 84
        },
        {
         "ID": 2,
         "Word": "birthday",
         "_deepnote_index_column": 85
        },
        {
         "ID": 2,
         "Word": "she",
         "_deepnote_index_column": 86
        },
        {
         "ID": 2,
         "Word": "wanted",
         "_deepnote_index_column": 87
        },
        {
         "ID": 2,
         "Word": "a",
         "_deepnote_index_column": 88
        },
        {
         "ID": 2,
         "Word": "projector",
         "_deepnote_index_column": 89
        },
        {
         "ID": 2,
         "Word": "in",
         "_deepnote_index_column": 90
        },
        {
         "ID": 2,
         "Word": "the",
         "_deepnote_index_column": 91
        },
        {
         "ID": 2,
         "Word": "bedroom",
         "_deepnote_index_column": 92
        },
        {
         "ID": 2,
         "Word": "to",
         "_deepnote_index_column": 93
        },
        {
         "ID": 2,
         "Word": "cast",
         "_deepnote_index_column": 94
        },
        {
         "ID": 2,
         "Word": "upon",
         "_deepnote_index_column": 95
        },
        {
         "ID": 2,
         "Word": "the",
         "_deepnote_index_column": 96
        },
        {
         "ID": 2,
         "Word": "ceiling",
         "_deepnote_index_column": 97
        },
        {
         "ID": 2,
         "Word": "i",
         "_deepnote_index_column": 98
        },
        {
         "ID": 2,
         "Word": "was",
         "_deepnote_index_column": 99
        },
        {
         "ID": 2,
         "Word": "all",
         "_deepnote_index_column": 100
        },
        {
         "ID": 2,
         "Word": "over",
         "_deepnote_index_column": 101
        },
        {
         "ID": 2,
         "Word": "getting",
         "_deepnote_index_column": 102
        },
        {
         "ID": 2,
         "Word": "this",
         "_deepnote_index_column": 103
        },
        {
         "ID": 2,
         "Word": "for",
         "_deepnote_index_column": 104
        },
        {
         "ID": 2,
         "Word": "her",
         "_deepnote_index_column": 105
        },
        {
         "ID": 2,
         "Word": "after",
         "_deepnote_index_column": 106
        },
        {
         "ID": 2,
         "Word": "doing",
         "_deepnote_index_column": 107
        },
        {
         "ID": 2,
         "Word": "research",
         "_deepnote_index_column": 108
        },
        {
         "ID": 2,
         "Word": "and",
         "_deepnote_index_column": 109
        },
        {
         "ID": 2,
         "Word": "looking",
         "_deepnote_index_column": 110
        },
        {
         "ID": 2,
         "Word": "at",
         "_deepnote_index_column": 111
        },
        {
         "ID": 2,
         "Word": "a",
         "_deepnote_index_column": 112
        },
        {
         "ID": 2,
         "Word": "lot",
         "_deepnote_index_column": 113
        },
        {
         "ID": 2,
         "Word": "of",
         "_deepnote_index_column": 114
        },
        {
         "ID": 2,
         "Word": "different",
         "_deepnote_index_column": 115
        },
        {
         "ID": 2,
         "Word": "mini",
         "_deepnote_index_column": 116
        },
        {
         "ID": 2,
         "Word": "projectors",
         "_deepnote_index_column": 117
        },
        {
         "ID": 2,
         "Word": "nothing",
         "_deepnote_index_column": 118
        },
        {
         "ID": 2,
         "Word": "even",
         "_deepnote_index_column": 119
        },
        {
         "ID": 2,
         "Word": "came",
         "_deepnote_index_column": 120
        },
        {
         "ID": 2,
         "Word": "close",
         "_deepnote_index_column": 121
        },
        {
         "ID": 2,
         "Word": "to",
         "_deepnote_index_column": 122
        },
        {
         "ID": 2,
         "Word": "the",
         "_deepnote_index_column": 123
        },
        {
         "ID": 2,
         "Word": "awesomeness",
         "_deepnote_index_column": 124
        },
        {
         "ID": 2,
         "Word": "that",
         "_deepnote_index_column": 125
        },
        {
         "ID": 2,
         "Word": "this",
         "_deepnote_index_column": 126
        },
        {
         "ID": 2,
         "Word": "thing",
         "_deepnote_index_column": 127
        },
        {
         "ID": 2,
         "Word": "portrayed",
         "_deepnote_index_column": 128
        },
        {
         "ID": 2,
         "Word": "when",
         "_deepnote_index_column": 129
        },
        {
         "ID": 2,
         "Word": "it",
         "_deepnote_index_column": 130
        },
        {
         "ID": 2,
         "Word": "arrived",
         "_deepnote_index_column": 131
        },
        {
         "ID": 2,
         "Word": "and",
         "_deepnote_index_column": 132
        },
        {
         "ID": 2,
         "Word": "we",
         "_deepnote_index_column": 133
        },
        {
         "ID": 2,
         "Word": "got",
         "_deepnote_index_column": 134
        },
        {
         "ID": 2,
         "Word": "it",
         "_deepnote_index_column": 135
        },
        {
         "ID": 2,
         "Word": "all",
         "_deepnote_index_column": 136
        },
        {
         "ID": 2,
         "Word": "hooked",
         "_deepnote_index_column": 137
        },
        {
         "ID": 2,
         "Word": "up",
         "_deepnote_index_column": 138
        },
        {
         "ID": 2,
         "Word": "and",
         "_deepnote_index_column": 139
        },
        {
         "ID": 2,
         "Word": "running",
         "_deepnote_index_column": 140
        },
        {
         "ID": 2,
         "Word": "we",
         "_deepnote_index_column": 141
        },
        {
         "ID": 2,
         "Word": "werent",
         "_deepnote_index_column": 142
        },
        {
         "ID": 2,
         "Word": "disappointed",
         "_deepnote_index_column": 143
        },
        {
         "ID": 2,
         "Word": "in",
         "_deepnote_index_column": 144
        },
        {
         "ID": 2,
         "Word": "the",
         "_deepnote_index_column": 145
        },
        {
         "ID": 2,
         "Word": "slightest",
         "_deepnote_index_column": 146
        },
        {
         "ID": 2,
         "Word": "we",
         "_deepnote_index_column": 147
        },
        {
         "ID": 2,
         "Word": "purchased",
         "_deepnote_index_column": 148
        },
        {
         "ID": 2,
         "Word": "the",
         "_deepnote_index_column": 149
        },
        {
         "ID": 2,
         "Word": "tripod",
         "_deepnote_index_column": 150
        },
        {
         "ID": 2,
         "Word": "stand",
         "_deepnote_index_column": 151
        },
        {
         "ID": 2,
         "Word": "with",
         "_deepnote_index_column": 152
        },
        {
         "ID": 2,
         "Word": "it",
         "_deepnote_index_column": 153
        },
        {
         "ID": 2,
         "Word": "and",
         "_deepnote_index_column": 154
        },
        {
         "ID": 2,
         "Word": "it",
         "_deepnote_index_column": 155
        },
        {
         "ID": 2,
         "Word": "does",
         "_deepnote_index_column": 156
        },
        {
         "ID": 2,
         "Word": "exactly",
         "_deepnote_index_column": 157
        },
        {
         "ID": 2,
         "Word": "what",
         "_deepnote_index_column": 158
        },
        {
         "ID": 2,
         "Word": "we",
         "_deepnote_index_column": 159
        },
        {
         "ID": 2,
         "Word": "wanted",
         "_deepnote_index_column": 160
        },
        {
         "ID": 2,
         "Word": "it",
         "_deepnote_index_column": 161
        },
        {
         "ID": 2,
         "Word": "to",
         "_deepnote_index_column": 162
        },
        {
         "ID": 2,
         "Word": "dowhile",
         "_deepnote_index_column": 163
        },
        {
         "ID": 2,
         "Word": "the",
         "_deepnote_index_column": 164
        },
        {
         "ID": 2,
         "Word": "ceiling",
         "_deepnote_index_column": 165
        },
        {
         "ID": 2,
         "Word": "isnt",
         "_deepnote_index_column": 166
        },
        {
         "ID": 2,
         "Word": "the",
         "_deepnote_index_column": 167
        },
        {
         "ID": 2,
         "Word": "best",
         "_deepnote_index_column": 168
        },
        {
         "ID": 2,
         "Word": "projection",
         "_deepnote_index_column": 169
        },
        {
         "ID": 2,
         "Word": "surface",
         "_deepnote_index_column": 170
        },
        {
         "ID": 2,
         "Word": "its",
         "_deepnote_index_column": 171
        },
        {
         "ID": 2,
         "Word": "a",
         "_deepnote_index_column": 172
        },
        {
         "ID": 2,
         "Word": "textured",
         "_deepnote_index_column": 173
        },
        {
         "ID": 2,
         "Word": "ceiling",
         "_deepnote_index_column": 174
        },
        {
         "ID": 2,
         "Word": "it",
         "_deepnote_index_column": 175
        },
        {
         "ID": 2,
         "Word": "still",
         "_deepnote_index_column": 176
        },
        {
         "ID": 2,
         "Word": "worked",
         "_deepnote_index_column": 177
        },
        {
         "ID": 2,
         "Word": "great",
         "_deepnote_index_column": 178
        },
        {
         "ID": 2,
         "Word": "we",
         "_deepnote_index_column": 179
        },
        {
         "ID": 2,
         "Word": "have",
         "_deepnote_index_column": 180
        },
        {
         "ID": 2,
         "Word": "since",
         "_deepnote_index_column": 181
        },
        {
         "ID": 2,
         "Word": "moved",
         "_deepnote_index_column": 182
        },
        {
         "ID": 2,
         "Word": "it",
         "_deepnote_index_column": 183
        },
        {
         "ID": 2,
         "Word": "to",
         "_deepnote_index_column": 184
        },
        {
         "ID": 2,
         "Word": "project",
         "_deepnote_index_column": 185
        },
        {
         "ID": 2,
         "Word": "across",
         "_deepnote_index_column": 186
        },
        {
         "ID": 2,
         "Word": "our",
         "_deepnote_index_column": 187
        },
        {
         "ID": 2,
         "Word": "wall",
         "_deepnote_index_column": 188
        },
        {
         "ID": 2,
         "Word": "and",
         "_deepnote_index_column": 189
        },
        {
         "ID": 2,
         "Word": "boy",
         "_deepnote_index_column": 190
        },
        {
         "ID": 2,
         "Word": "does",
         "_deepnote_index_column": 191
        },
        {
         "ID": 2,
         "Word": "it",
         "_deepnote_index_column": 192
        },
        {
         "ID": 2,
         "Word": "take",
         "_deepnote_index_column": 193
        },
        {
         "ID": 2,
         "Word": "up",
         "_deepnote_index_column": 194
        },
        {
         "ID": 2,
         "Word": "the",
         "_deepnote_index_column": 195
        },
        {
         "ID": 2,
         "Word": "whole",
         "_deepnote_index_column": 196
        },
        {
         "ID": 2,
         "Word": "dang",
         "_deepnote_index_column": 197
        },
        {
         "ID": 2,
         "Word": "thing",
         "_deepnote_index_column": 198
        },
        {
         "ID": 2,
         "Word": "of",
         "_deepnote_index_column": 199
        },
        {
         "ID": 2,
         "Word": "course",
         "_deepnote_index_column": 200
        },
        {
         "ID": 2,
         "Word": "youre",
         "_deepnote_index_column": 201
        },
        {
         "ID": 2,
         "Word": "not",
         "_deepnote_index_column": 202
        },
        {
         "ID": 2,
         "Word": "going",
         "_deepnote_index_column": 203
        },
        {
         "ID": 2,
         "Word": "to",
         "_deepnote_index_column": 204
        },
        {
         "ID": 2,
         "Word": "get",
         "_deepnote_index_column": 205
        },
        {
         "ID": 2,
         "Word": "be",
         "_deepnote_index_column": 206
        },
        {
         "ID": 2,
         "Word": "getting",
         "_deepnote_index_column": 207
        },
        {
         "ID": 2,
         "Word": "1080p",
         "_deepnote_index_column": 208
        },
        {
         "ID": 2,
         "Word": "quality",
         "_deepnote_index_column": 209
        },
        {
         "ID": 2,
         "Word": "with",
         "_deepnote_index_column": 210
        },
        {
         "ID": 2,
         "Word": "a",
         "_deepnote_index_column": 211
        },
        {
         "ID": 2,
         "Word": "device",
         "_deepnote_index_column": 212
        },
        {
         "ID": 2,
         "Word": "this",
         "_deepnote_index_column": 213
        },
        {
         "ID": 2,
         "Word": "small",
         "_deepnote_index_column": 214
        },
        {
         "ID": 2,
         "Word": "and",
         "_deepnote_index_column": 215
        },
        {
         "ID": 2,
         "Word": "compact",
         "_deepnote_index_column": 216
        },
        {
         "ID": 2,
         "Word": "but",
         "_deepnote_index_column": 217
        },
        {
         "ID": 2,
         "Word": "its",
         "_deepnote_index_column": 218
        },
        {
         "ID": 2,
         "Word": "still",
         "_deepnote_index_column": 219
        },
        {
         "ID": 2,
         "Word": "more",
         "_deepnote_index_column": 220
        },
        {
         "ID": 2,
         "Word": "than",
         "_deepnote_index_column": 221
        },
        {
         "ID": 2,
         "Word": "watchable",
         "_deepnote_index_column": 222
        },
        {
         "ID": 2,
         "Word": "we",
         "_deepnote_index_column": 223
        },
        {
         "ID": 2,
         "Word": "quickly",
         "_deepnote_index_column": 224
        },
        {
         "ID": 2,
         "Word": "installed",
         "_deepnote_index_column": 225
        },
        {
         "ID": 2,
         "Word": "plex",
         "_deepnote_index_column": 226
        },
        {
         "ID": 2,
         "Word": "and",
         "_deepnote_index_column": 227
        },
        {
         "ID": 2,
         "Word": "netflix",
         "_deepnote_index_column": 228
        },
        {
         "ID": 2,
         "Word": "added",
         "_deepnote_index_column": 229
        },
        {
         "ID": 2,
         "Word": "the",
         "_deepnote_index_column": 230
        },
        {
         "ID": 2,
         "Word": "remote",
         "_deepnote_index_column": 231
        },
        {
         "ID": 2,
         "Word": "control",
         "_deepnote_index_column": 232
        },
        {
         "ID": 2,
         "Word": "app",
         "_deepnote_index_column": 233
        },
        {
         "ID": 2,
         "Word": "to",
         "_deepnote_index_column": 234
        },
        {
         "ID": 2,
         "Word": "our",
         "_deepnote_index_column": 235
        },
        {
         "ID": 2,
         "Word": "phones",
         "_deepnote_index_column": 236
        },
        {
         "ID": 2,
         "Word": "and",
         "_deepnote_index_column": 237
        },
        {
         "ID": 2,
         "Word": "were",
         "_deepnote_index_column": 238
        },
        {
         "ID": 2,
         "Word": "watching",
         "_deepnote_index_column": 239
        },
        {
         "ID": 2,
         "Word": "shows",
         "_deepnote_index_column": 240
        },
        {
         "ID": 2,
         "Word": "and",
         "_deepnote_index_column": 241
        },
        {
         "ID": 2,
         "Word": "controlling",
         "_deepnote_index_column": 242
        },
        {
         "ID": 2,
         "Word": "this",
         "_deepnote_index_column": 243
        },
        {
         "ID": 2,
         "Word": "bad",
         "_deepnote_index_column": 244
        },
        {
         "ID": 2,
         "Word": "boy",
         "_deepnote_index_column": 245
        },
        {
         "ID": 2,
         "Word": "in",
         "_deepnote_index_column": 246
        },
        {
         "ID": 2,
         "Word": "no",
         "_deepnote_index_column": 247
        },
        {
         "ID": 2,
         "Word": "time",
         "_deepnote_index_column": 248
        },
        {
         "ID": 2,
         "Word": "flat",
         "_deepnote_index_column": 249
        }
       ],
       "rows_bottom": [
        {
         "ID": 1435,
         "Word": "this",
         "_deepnote_index_column": 107121
        },
        {
         "ID": 1435,
         "Word": "refusal",
         "_deepnote_index_column": 107122
        },
        {
         "ID": 1435,
         "Word": "of",
         "_deepnote_index_column": 107123
        },
        {
         "ID": 1435,
         "Word": "very",
         "_deepnote_index_column": 107124
        },
        {
         "ID": 1435,
         "Word": "basic",
         "_deepnote_index_column": 107125
        },
        {
         "ID": 1435,
         "Word": "customer",
         "_deepnote_index_column": 107126
        },
        {
         "ID": 1435,
         "Word": "careupdate",
         "_deepnote_index_column": 107127
        },
        {
         "ID": 1435,
         "Word": "anker",
         "_deepnote_index_column": 107128
        },
        {
         "ID": 1435,
         "Word": "had",
         "_deepnote_index_column": 107129
        },
        {
         "ID": 1435,
         "Word": "reluctantly",
         "_deepnote_index_column": 107130
        },
        {
         "ID": 1435,
         "Word": "made",
         "_deepnote_index_column": 107131
        },
        {
         "ID": 1435,
         "Word": "an",
         "_deepnote_index_column": 107132
        },
        {
         "ID": 1435,
         "Word": "exception",
         "_deepnote_index_column": 107133
        },
        {
         "ID": 1435,
         "Word": "on",
         "_deepnote_index_column": 107134
        },
        {
         "ID": 1435,
         "Word": "my",
         "_deepnote_index_column": 107135
        },
        {
         "ID": 1435,
         "Word": "part",
         "_deepnote_index_column": 107136
        },
        {
         "ID": 1435,
         "Word": "to",
         "_deepnote_index_column": 107137
        },
        {
         "ID": 1435,
         "Word": "replace",
         "_deepnote_index_column": 107138
        },
        {
         "ID": 1435,
         "Word": "the",
         "_deepnote_index_column": 107139
        },
        {
         "ID": 1435,
         "Word": "defective",
         "_deepnote_index_column": 107140
        },
        {
         "ID": 1435,
         "Word": "unit",
         "_deepnote_index_column": 107141
        },
        {
         "ID": 1435,
         "Word": "after",
         "_deepnote_index_column": 107142
        },
        {
         "ID": 1435,
         "Word": "receiving",
         "_deepnote_index_column": 107143
        },
        {
         "ID": 1435,
         "Word": "it",
         "_deepnote_index_column": 107144
        },
        {
         "ID": 1435,
         "Word": "it",
         "_deepnote_index_column": 107145
        },
        {
         "ID": 1435,
         "Word": "does",
         "_deepnote_index_column": 107146
        },
        {
         "ID": 1435,
         "Word": "not",
         "_deepnote_index_column": 107147
        },
        {
         "ID": 1435,
         "Word": "connect",
         "_deepnote_index_column": 107148
        },
        {
         "ID": 1435,
         "Word": "to",
         "_deepnote_index_column": 107149
        },
        {
         "ID": 1435,
         "Word": "wifi",
         "_deepnote_index_column": 107150
        },
        {
         "ID": 1435,
         "Word": "or",
         "_deepnote_index_column": 107151
        },
        {
         "ID": 1435,
         "Word": "rather",
         "_deepnote_index_column": 107152
        },
        {
         "ID": 1435,
         "Word": "says",
         "_deepnote_index_column": 107153
        },
        {
         "ID": 1435,
         "Word": "its",
         "_deepnote_index_column": 107154
        },
        {
         "ID": 1435,
         "Word": "connected",
         "_deepnote_index_column": 107155
        },
        {
         "ID": 1435,
         "Word": "then",
         "_deepnote_index_column": 107156
        },
        {
         "ID": 1435,
         "Word": "displays",
         "_deepnote_index_column": 107157
        },
        {
         "ID": 1435,
         "Word": "connection",
         "_deepnote_index_column": 107158
        },
        {
         "ID": 1435,
         "Word": "error",
         "_deepnote_index_column": 107159
        },
        {
         "ID": 1435,
         "Word": "on",
         "_deepnote_index_column": 107160
        },
        {
         "ID": 1435,
         "Word": "my",
         "_deepnote_index_column": 107161
        },
        {
         "ID": 1435,
         "Word": "home",
         "_deepnote_index_column": 107162
        },
        {
         "ID": 1435,
         "Word": "wifi",
         "_deepnote_index_column": 107163
        },
        {
         "ID": 1435,
         "Word": "and",
         "_deepnote_index_column": 107164
        },
        {
         "ID": 1435,
         "Word": "2",
         "_deepnote_index_column": 107165
        },
        {
         "ID": 1435,
         "Word": "separate",
         "_deepnote_index_column": 107166
        },
        {
         "ID": 1435,
         "Word": "hotspots",
         "_deepnote_index_column": 107167
        },
        {
         "ID": 1435,
         "Word": "so",
         "_deepnote_index_column": 107168
        },
        {
         "ID": 1435,
         "Word": "here",
         "_deepnote_index_column": 107169
        },
        {
         "ID": 1435,
         "Word": "we",
         "_deepnote_index_column": 107170
        },
        {
         "ID": 1435,
         "Word": "are",
         "_deepnote_index_column": 107171
        },
        {
         "ID": 1435,
         "Word": "with",
         "_deepnote_index_column": 107172
        },
        {
         "ID": 1435,
         "Word": "2",
         "_deepnote_index_column": 107173
        },
        {
         "ID": 1435,
         "Word": "separate",
         "_deepnote_index_column": 107174
        },
        {
         "ID": 1435,
         "Word": "defective",
         "_deepnote_index_column": 107175
        },
        {
         "ID": 1435,
         "Word": "units",
         "_deepnote_index_column": 107176
        },
        {
         "ID": 1435,
         "Word": "out",
         "_deepnote_index_column": 107177
        },
        {
         "ID": 1435,
         "Word": "of",
         "_deepnote_index_column": 107178
        },
        {
         "ID": 1435,
         "Word": "the",
         "_deepnote_index_column": 107179
        },
        {
         "ID": 1435,
         "Word": "box",
         "_deepnote_index_column": 107180
        },
        {
         "ID": 1435,
         "Word": "i",
         "_deepnote_index_column": 107181
        },
        {
         "ID": 1435,
         "Word": "have",
         "_deepnote_index_column": 107182
        },
        {
         "ID": 1435,
         "Word": "no",
         "_deepnote_index_column": 107183
        },
        {
         "ID": 1435,
         "Word": "recommendations",
         "_deepnote_index_column": 107184
        },
        {
         "ID": 1435,
         "Word": "at",
         "_deepnote_index_column": 107185
        },
        {
         "ID": 1435,
         "Word": "this",
         "_deepnote_index_column": 107186
        },
        {
         "ID": 1435,
         "Word": "time",
         "_deepnote_index_column": 107187
        },
        {
         "ID": 1435,
         "Word": "for",
         "_deepnote_index_column": 107188
        },
        {
         "ID": 1435,
         "Word": "anyone",
         "_deepnote_index_column": 107189
        },
        {
         "ID": 1435,
         "Word": "to",
         "_deepnote_index_column": 107190
        },
        {
         "ID": 1435,
         "Word": "purchase",
         "_deepnote_index_column": 107191
        },
        {
         "ID": 1435,
         "Word": "this",
         "_deepnote_index_column": 107192
        },
        {
         "ID": 1435,
         "Word": "product",
         "_deepnote_index_column": 107193
        },
        {
         "ID": 1435,
         "Word": "ive",
         "_deepnote_index_column": 107194
        },
        {
         "ID": 1435,
         "Word": "fired",
         "_deepnote_index_column": 107195
        },
        {
         "ID": 1435,
         "Word": "off",
         "_deepnote_index_column": 107196
        },
        {
         "ID": 1435,
         "Word": "another",
         "_deepnote_index_column": 107197
        },
        {
         "ID": 1435,
         "Word": "email",
         "_deepnote_index_column": 107198
        },
        {
         "ID": 1435,
         "Word": "ill",
         "_deepnote_index_column": 107199
        },
        {
         "ID": 1435,
         "Word": "update",
         "_deepnote_index_column": 107200
        },
        {
         "ID": 1435,
         "Word": "or",
         "_deepnote_index_column": 107201
        },
        {
         "ID": 1435,
         "Word": "address",
         "_deepnote_index_column": 107202
        },
        {
         "ID": 1435,
         "Word": "this",
         "_deepnote_index_column": 107203
        },
        {
         "ID": 1435,
         "Word": "review",
         "_deepnote_index_column": 107204
        },
        {
         "ID": 1435,
         "Word": "with",
         "_deepnote_index_column": 107205
        },
        {
         "ID": 1435,
         "Word": "the",
         "_deepnote_index_column": 107206
        },
        {
         "ID": 1435,
         "Word": "results",
         "_deepnote_index_column": 107207
        },
        {
         "ID": 1436,
         "Word": "low",
         "_deepnote_index_column": 107208
        },
        {
         "ID": 1436,
         "Word": "res",
         "_deepnote_index_column": 107209
        },
        {
         "ID": 1436,
         "Word": "only",
         "_deepnote_index_column": 107210
        },
        {
         "ID": 1436,
         "Word": "480p",
         "_deepnote_index_column": 107211
        },
        {
         "ID": 1436,
         "Word": "so",
         "_deepnote_index_column": 107212
        },
        {
         "ID": 1436,
         "Word": "very",
         "_deepnote_index_column": 107213
        },
        {
         "ID": 1436,
         "Word": "blurry",
         "_deepnote_index_column": 107214
        },
        {
         "ID": 1436,
         "Word": "was",
         "_deepnote_index_column": 107215
        },
        {
         "ID": 1436,
         "Word": "not",
         "_deepnote_index_column": 107216
        },
        {
         "ID": 1436,
         "Word": "acceptable",
         "_deepnote_index_column": 107217
        },
        {
         "ID": 1436,
         "Word": "for",
         "_deepnote_index_column": 107218
        },
        {
         "ID": 1436,
         "Word": "me",
         "_deepnote_index_column": 107219
        },
        {
         "ID": 1436,
         "Word": "the",
         "_deepnote_index_column": 107220
        },
        {
         "ID": 1436,
         "Word": "customer",
         "_deepnote_index_column": 107221
        },
        {
         "ID": 1436,
         "Word": "service",
         "_deepnote_index_column": 107222
        },
        {
         "ID": 1436,
         "Word": "was",
         "_deepnote_index_column": 107223
        },
        {
         "ID": 1436,
         "Word": "nice",
         "_deepnote_index_column": 107224
        },
        {
         "ID": 1436,
         "Word": "and",
         "_deepnote_index_column": 107225
        },
        {
         "ID": 1436,
         "Word": "quick",
         "_deepnote_index_column": 107226
        },
        {
         "ID": 1436,
         "Word": "though",
         "_deepnote_index_column": 107227
        },
        {
         "ID": 1436,
         "Word": "returned",
         "_deepnote_index_column": 107228
        },
        {
         "ID": 1436,
         "Word": "it",
         "_deepnote_index_column": 107229
        },
        {
         "ID": 1436,
         "Word": "and",
         "_deepnote_index_column": 107230
        },
        {
         "ID": 1436,
         "Word": "got",
         "_deepnote_index_column": 107231
        },
        {
         "ID": 1436,
         "Word": "a",
         "_deepnote_index_column": 107232
        },
        {
         "ID": 1436,
         "Word": "different",
         "_deepnote_index_column": 107233
        },
        {
         "ID": 1436,
         "Word": "nebula",
         "_deepnote_index_column": 107234
        },
        {
         "ID": 1436,
         "Word": "model",
         "_deepnote_index_column": 107235
        },
        {
         "ID": 1437,
         "Word": "not",
         "_deepnote_index_column": 107236
        },
        {
         "ID": 1437,
         "Word": "worth",
         "_deepnote_index_column": 107237
        },
        {
         "ID": 1437,
         "Word": "the",
         "_deepnote_index_column": 107238
        },
        {
         "ID": 1437,
         "Word": "price",
         "_deepnote_index_column": 107239
        },
        {
         "ID": 1437,
         "Word": "easy",
         "_deepnote_index_column": 107240
        },
        {
         "ID": 1437,
         "Word": "to",
         "_deepnote_index_column": 107241
        },
        {
         "ID": 1437,
         "Word": "use",
         "_deepnote_index_column": 107242
        },
        {
         "ID": 1437,
         "Word": "but",
         "_deepnote_index_column": 107243
        },
        {
         "ID": 1437,
         "Word": "it is",
         "_deepnote_index_column": 107244
        },
        {
         "ID": 1437,
         "Word": "dark",
         "_deepnote_index_column": 107245
        },
        {
         "ID": 1437,
         "Word": "it",
         "_deepnote_index_column": 107246
        },
        {
         "ID": 1437,
         "Word": "takes",
         "_deepnote_index_column": 107247
        },
        {
         "ID": 1437,
         "Word": "me",
         "_deepnote_index_column": 107248
        },
        {
         "ID": 1437,
         "Word": "a",
         "_deepnote_index_column": 107249
        },
        {
         "ID": 1437,
         "Word": "while",
         "_deepnote_index_column": 107250
        },
        {
         "ID": 1437,
         "Word": "to",
         "_deepnote_index_column": 107251
        },
        {
         "ID": 1437,
         "Word": "adjust",
         "_deepnote_index_column": 107252
        },
        {
         "ID": 1437,
         "Word": "the",
         "_deepnote_index_column": 107253
        },
        {
         "ID": 1437,
         "Word": "projector",
         "_deepnote_index_column": 107254
        },
        {
         "ID": 1437,
         "Word": "angle",
         "_deepnote_index_column": 107255
        },
        {
         "ID": 1437,
         "Word": "every",
         "_deepnote_index_column": 107256
        },
        {
         "ID": 1437,
         "Word": "time",
         "_deepnote_index_column": 107257
        },
        {
         "ID": 1437,
         "Word": "the",
         "_deepnote_index_column": 107258
        },
        {
         "ID": 1437,
         "Word": "speaker",
         "_deepnote_index_column": 107259
        },
        {
         "ID": 1437,
         "Word": "was",
         "_deepnote_index_column": 107260
        },
        {
         "ID": 1437,
         "Word": "too",
         "_deepnote_index_column": 107261
        },
        {
         "ID": 1437,
         "Word": "loud",
         "_deepnote_index_column": 107262
        },
        {
         "ID": 1437,
         "Word": "even",
         "_deepnote_index_column": 107263
        },
        {
         "ID": 1437,
         "Word": "the",
         "_deepnote_index_column": 107264
        },
        {
         "ID": 1437,
         "Word": "lowest",
         "_deepnote_index_column": 107265
        },
        {
         "ID": 1437,
         "Word": "volume",
         "_deepnote_index_column": 107266
        },
        {
         "ID": 1437,
         "Word": "overall",
         "_deepnote_index_column": 107267
        },
        {
         "ID": 1437,
         "Word": "it is",
         "_deepnote_index_column": 107268
        },
        {
         "ID": 1437,
         "Word": "not",
         "_deepnote_index_column": 107269
        },
        {
         "ID": 1437,
         "Word": "worth",
         "_deepnote_index_column": 107270
        },
        {
         "ID": 1437,
         "Word": "the",
         "_deepnote_index_column": 107271
        },
        {
         "ID": 1437,
         "Word": "price",
         "_deepnote_index_column": 107272
        },
        {
         "ID": 1438,
         "Word": "not",
         "_deepnote_index_column": 107273
        },
        {
         "ID": 1438,
         "Word": "working",
         "_deepnote_index_column": 107274
        },
        {
         "ID": 1438,
         "Word": "with",
         "_deepnote_index_column": 107275
        },
        {
         "ID": 1438,
         "Word": "its",
         "_deepnote_index_column": 107276
        },
        {
         "ID": 1438,
         "Word": "own",
         "_deepnote_index_column": 107277
        },
        {
         "ID": 1438,
         "Word": "twitch",
         "_deepnote_index_column": 107278
        },
        {
         "ID": 1438,
         "Word": "app",
         "_deepnote_index_column": 107279
        },
        {
         "ID": 1438,
         "Word": "upset",
         "_deepnote_index_column": 107280
        },
        {
         "ID": 1438,
         "Word": "not",
         "_deepnote_index_column": 107281
        },
        {
         "ID": 1438,
         "Word": "working",
         "_deepnote_index_column": 107282
        },
        {
         "ID": 1438,
         "Word": "with",
         "_deepnote_index_column": 107283
        },
        {
         "ID": 1438,
         "Word": "its",
         "_deepnote_index_column": 107284
        },
        {
         "ID": 1438,
         "Word": "own",
         "_deepnote_index_column": 107285
        },
        {
         "ID": 1438,
         "Word": "twitch",
         "_deepnote_index_column": 107286
        },
        {
         "ID": 1438,
         "Word": "app",
         "_deepnote_index_column": 107287
        },
        {
         "ID": 1438,
         "Word": "useless",
         "_deepnote_index_column": 107288
        },
        {
         "ID": 1438,
         "Word": "for",
         "_deepnote_index_column": 107289
        },
        {
         "ID": 1438,
         "Word": "me",
         "_deepnote_index_column": 107290
        },
        {
         "ID": 1439,
         "Word": "poco",
         "_deepnote_index_column": 107291
        },
        {
         "ID": 1439,
         "Word": "brillo",
         "_deepnote_index_column": 107292
        },
        {
         "ID": 1439,
         "Word": "y",
         "_deepnote_index_column": 107293
        },
        {
         "ID": 1439,
         "Word": "baja",
         "_deepnote_index_column": 107294
        },
        {
         "ID": 1439,
         "Word": "resolución",
         "_deepnote_index_column": 107295
        },
        {
         "ID": 1439,
         "Word": "no",
         "_deepnote_index_column": 107296
        },
        {
         "ID": 1439,
         "Word": "tiene",
         "_deepnote_index_column": 107297
        },
        {
         "ID": 1439,
         "Word": "buen",
         "_deepnote_index_column": 107298
        },
        {
         "ID": 1439,
         "Word": "brillo",
         "_deepnote_index_column": 107299
        },
        {
         "ID": 1439,
         "Word": "no",
         "_deepnote_index_column": 107300
        },
        {
         "ID": 1439,
         "Word": "sirve",
         "_deepnote_index_column": 107301
        },
        {
         "ID": 1439,
         "Word": "para",
         "_deepnote_index_column": 107302
        },
        {
         "ID": 1439,
         "Word": "jugar",
         "_deepnote_index_column": 107303
        },
        {
         "ID": 1439,
         "Word": "play",
         "_deepnote_index_column": 107304
        },
        {
         "ID": 1439,
         "Word": "station",
         "_deepnote_index_column": 107305
        },
        {
         "ID": 1439,
         "Word": "porque",
         "_deepnote_index_column": 107306
        },
        {
         "ID": 1439,
         "Word": "se",
         "_deepnote_index_column": 107307
        },
        {
         "ID": 1439,
         "Word": "nota",
         "_deepnote_index_column": 107308
        },
        {
         "ID": 1439,
         "Word": "aunque",
         "_deepnote_index_column": 107309
        },
        {
         "ID": 1439,
         "Word": "leve",
         "_deepnote_index_column": 107310
        },
        {
         "ID": 1439,
         "Word": "un",
         "_deepnote_index_column": 107311
        },
        {
         "ID": 1439,
         "Word": "retraso",
         "_deepnote_index_column": 107312
        },
        {
         "ID": 1439,
         "Word": "en",
         "_deepnote_index_column": 107313
        },
        {
         "ID": 1439,
         "Word": "la",
         "_deepnote_index_column": 107314
        },
        {
         "ID": 1439,
         "Word": "imagen",
         "_deepnote_index_column": 107315
        },
        {
         "ID": 1439,
         "Word": "proyectada",
         "_deepnote_index_column": 107316
        },
        {
         "ID": 1439,
         "Word": "además",
         "_deepnote_index_column": 107317
        },
        {
         "ID": 1439,
         "Word": "que",
         "_deepnote_index_column": 107318
        },
        {
         "ID": 1439,
         "Word": "no",
         "_deepnote_index_column": 107319
        },
        {
         "ID": 1439,
         "Word": "tiene",
         "_deepnote_index_column": 107320
        },
        {
         "ID": 1439,
         "Word": "buena",
         "_deepnote_index_column": 107321
        },
        {
         "ID": 1439,
         "Word": "iluminación",
         "_deepnote_index_column": 107322
        },
        {
         "ID": 1439,
         "Word": "muy",
         "_deepnote_index_column": 107323
        },
        {
         "ID": 1439,
         "Word": "caro",
         "_deepnote_index_column": 107324
        },
        {
         "ID": 1439,
         "Word": "para",
         "_deepnote_index_column": 107325
        },
        {
         "ID": 1439,
         "Word": "lo",
         "_deepnote_index_column": 107326
        },
        {
         "ID": 1439,
         "Word": "que",
         "_deepnote_index_column": 107327
        },
        {
         "ID": 1439,
         "Word": "ofrece",
         "_deepnote_index_column": 107328
        },
        {
         "ID": 1439,
         "Word": "he",
         "_deepnote_index_column": 107329
        },
        {
         "ID": 1439,
         "Word": "visto",
         "_deepnote_index_column": 107330
        },
        {
         "ID": 1439,
         "Word": "otros",
         "_deepnote_index_column": 107331
        },
        {
         "ID": 1439,
         "Word": "proyectores",
         "_deepnote_index_column": 107332
        },
        {
         "ID": 1439,
         "Word": "con",
         "_deepnote_index_column": 107333
        },
        {
         "ID": 1439,
         "Word": "las",
         "_deepnote_index_column": 107334
        },
        {
         "ID": 1439,
         "Word": "mismas",
         "_deepnote_index_column": 107335
        },
        {
         "ID": 1439,
         "Word": "o",
         "_deepnote_index_column": 107336
        },
        {
         "ID": 1439,
         "Word": "parecidas",
         "_deepnote_index_column": 107337
        },
        {
         "ID": 1439,
         "Word": "características",
         "_deepnote_index_column": 107338
        },
        {
         "ID": 1439,
         "Word": "más",
         "_deepnote_index_column": 107339
        },
        {
         "ID": 1439,
         "Word": "baratos",
         "_deepnote_index_column": 107340
        },
        {
         "ID": 1440,
         "Word": "badluck",
         "_deepnote_index_column": 107341
        },
        {
         "ID": 1440,
         "Word": "one",
         "_deepnote_index_column": 107342
        },
        {
         "ID": 1440,
         "Word": "day",
         "_deepnote_index_column": 107343
        },
        {
         "ID": 1440,
         "Word": "the",
         "_deepnote_index_column": 107344
        },
        {
         "ID": 1440,
         "Word": "nebula",
         "_deepnote_index_column": 107345
        },
        {
         "ID": 1440,
         "Word": "get",
         "_deepnote_index_column": 107346
        },
        {
         "ID": 1440,
         "Word": "heated",
         "_deepnote_index_column": 107347
        },
        {
         "ID": 1440,
         "Word": "more",
         "_deepnote_index_column": 107348
        },
        {
         "ID": 1440,
         "Word": "and",
         "_deepnote_index_column": 107349
        },
        {
         "ID": 1440,
         "Word": "suddenly",
         "_deepnote_index_column": 107350
        },
        {
         "ID": 1440,
         "Word": "the",
         "_deepnote_index_column": 107351
        },
        {
         "ID": 1440,
         "Word": "bad",
         "_deepnote_index_column": 107352
        },
        {
         "ID": 1440,
         "Word": "odour",
         "_deepnote_index_column": 107353
        },
        {
         "ID": 1440,
         "Word": "smell",
         "_deepnote_index_column": 107354
        },
        {
         "ID": 1440,
         "Word": "is",
         "_deepnote_index_column": 107355
        },
        {
         "ID": 1440,
         "Word": "coming",
         "_deepnote_index_column": 107356
        },
        {
         "ID": 1440,
         "Word": "and",
         "_deepnote_index_column": 107357
        },
        {
         "ID": 1440,
         "Word": "switched",
         "_deepnote_index_column": 107358
        },
        {
         "ID": 1440,
         "Word": "off",
         "_deepnote_index_column": 107359
        },
        {
         "ID": 1440,
         "Word": "i",
         "_deepnote_index_column": 107360
        },
        {
         "ID": 1440,
         "Word": "lost",
         "_deepnote_index_column": 107361
        },
        {
         "ID": 1440,
         "Word": "my",
         "_deepnote_index_column": 107362
        },
        {
         "ID": 1440,
         "Word": "money",
         "_deepnote_index_column": 107363
        },
        {
         "ID": 1441,
         "Word": "awsome",
         "_deepnote_index_column": 107364
        },
        {
         "ID": 1441,
         "Word": "excellent",
         "_deepnote_index_column": 107365
        },
        {
         "ID": 1441,
         "Word": "services",
         "_deepnote_index_column": 107366
        },
        {
         "ID": 1441,
         "Word": "and",
         "_deepnote_index_column": 107367
        },
        {
         "ID": 1441,
         "Word": "fast",
         "_deepnote_index_column": 107368
        },
        {
         "ID": 1441,
         "Word": "turn",
         "_deepnote_index_column": 107369
        },
        {
         "ID": 1441,
         "Word": "over",
         "_deepnote_index_column": 107370
        }
       ]
      },
      "text/plain": "          ID       Word\n0          1      great\n1          1  projector\n2          1      great\n3          1       item\n4          1      worth\n...      ...        ...\n107366  1441   services\n107367  1441        and\n107368  1441       fast\n107369  1441       turn\n107370  1441       over\n\n[107371 rows x 2 columns]",
      "text/html": "<div>\n<style scoped>\n    .dataframe tbody tr th:only-of-type {\n        vertical-align: middle;\n    }\n\n    .dataframe tbody tr th {\n        vertical-align: top;\n    }\n\n    .dataframe thead th {\n        text-align: right;\n    }\n</style>\n<table border=\"1\" class=\"dataframe\">\n  <thead>\n    <tr style=\"text-align: right;\">\n      <th></th>\n      <th>ID</th>\n      <th>Word</th>\n    </tr>\n  </thead>\n  <tbody>\n    <tr>\n      <th>0</th>\n      <td>1</td>\n      <td>great</td>\n    </tr>\n    <tr>\n      <th>1</th>\n      <td>1</td>\n      <td>projector</td>\n    </tr>\n    <tr>\n      <th>2</th>\n      <td>1</td>\n      <td>great</td>\n    </tr>\n    <tr>\n      <th>3</th>\n      <td>1</td>\n      <td>item</td>\n    </tr>\n    <tr>\n      <th>4</th>\n      <td>1</td>\n      <td>worth</td>\n    </tr>\n    <tr>\n      <th>...</th>\n      <td>...</td>\n      <td>...</td>\n    </tr>\n    <tr>\n      <th>107366</th>\n      <td>1441</td>\n      <td>services</td>\n    </tr>\n    <tr>\n      <th>107367</th>\n      <td>1441</td>\n      <td>and</td>\n    </tr>\n    <tr>\n      <th>107368</th>\n      <td>1441</td>\n      <td>fast</td>\n    </tr>\n    <tr>\n      <th>107369</th>\n      <td>1441</td>\n      <td>turn</td>\n    </tr>\n    <tr>\n      <th>107370</th>\n      <td>1441</td>\n      <td>over</td>\n    </tr>\n  </tbody>\n</table>\n<p>107371 rows × 2 columns</p>\n</div>"
     },
     "metadata": {}
    }
   ]
  },
  {
   "cell_type": "markdown",
   "source": "# 3. Preprocessing",
   "metadata": {
    "tags": [],
    "is_collapsed": false,
    "cell_id": "00014-683b07b7-bde5-40f3-be2d-4cbb12c46cd7",
    "deepnote_app_coordinates": {
     "x": 0,
     "y": 69,
     "w": 12,
     "h": 2
    },
    "deepnote_cell_type": "text-cell-h1"
   }
  },
  {
   "cell_type": "markdown",
   "source": "Several steps will be implemented here:\n- Tokenisation\n- Lemming\n- Stemming --> Transform a word into its original form (eg: giving --> give)\n- Define stopwords --> Define words that are judged not useful for the analysis (eg: and, a, an, ...)",
   "metadata": {
    "tags": [],
    "cell_id": "00015-7a96ce38-74ab-4999-a143-a7300082cf38",
    "deepnote_app_coordinates": {
     "x": 0,
     "y": 72,
     "w": 12,
     "h": 5
    },
    "deepnote_cell_type": "markdown"
   }
  },
  {
   "cell_type": "markdown",
   "source": "### 3.1 Tokenisation",
   "metadata": {
    "tags": [],
    "is_collapsed": false,
    "cell_id": "00016-d83e7808-665d-4749-bf32-5810b6034745",
    "deepnote_app_coordinates": {
     "x": 0,
     "y": 78,
     "w": 12,
     "h": 2
    },
    "deepnote_cell_type": "text-cell-h3"
   }
  },
  {
   "cell_type": "code",
   "metadata": {
    "tags": [],
    "cell_id": "00011-9251f8d5-34d9-454c-947e-fe76c9acc382",
    "deepnote_to_be_reexecuted": false,
    "source_hash": "827b3e08",
    "execution_start": 1637538954570,
    "execution_millis": 7160,
    "deepnote_app_coordinates": {
     "x": 0,
     "y": 81,
     "w": 12,
     "h": 5
    },
    "deepnote_output_heights": [
     232.3125
    ],
    "deepnote_cell_type": "code"
   },
   "source": "#Tokenize words\n\ndef tokenizer(token_text):\n    token_text = word_tokenize(token_text)\n    return token_text\n\ndf_text=df_text.apply(tokenizer)\ndf_text",
   "execution_count": null,
   "outputs": [
    {
     "output_type": "execute_result",
     "execution_count": 6,
     "data": {
      "text/plain": "0             [great]\n1         [projector]\n2             [great]\n3              [item]\n4             [worth]\n             ...     \n107366     [services]\n107367          [and]\n107368         [fast]\n107369         [turn]\n107370         [over]\nName: Word, Length: 107371, dtype: object"
     },
     "metadata": {}
    }
   ]
  },
  {
   "cell_type": "markdown",
   "source": "### 3.2 Lemmatisation and Stemming",
   "metadata": {
    "tags": [],
    "is_collapsed": false,
    "cell_id": "00018-3b0cef0b-f519-43de-b2e5-a799898b908c",
    "deepnote_app_coordinates": {
     "x": 0,
     "y": 87,
     "w": 12,
     "h": 2
    },
    "deepnote_cell_type": "text-cell-h3"
   }
  },
  {
   "cell_type": "markdown",
   "source": "Several words can have the same root. It is therefore interesting to convert them into their original form in order for a word to be counted only once.\n\nEg: giving, gave and given all have the same root: \"give\". It is not necessary for our analysis to catalog all of those forms. Instead of gathering each of them seperatly, this step will transform and gather them all into the form \"give\" to falicitate the analysis.\n\nOne of the method used here is **Stemming** which cuts the last letters of a word until the stem is reached. This method is rather effective on most english words. However, the end word may not make sens.\nExample of stemming:\n- boater, boating, boats --> boat\n- service --> servic\nHere, we are using PorterStemmer for the stemming (https://tartarus.org/martin/PorterStemmer/)\n\nWe are also using **Lemmatisation** as in contrast to stemming, lemmatization looks beyond word reduction and considers a language’s full vocabulary to apply a morphological analysis to words. Exemple:\n- was, been, am --> be\n- mice --> mouse\n\nThe reason why we are using both methods is because lemmatiers require a lot more knowledge about structure of a language than stemming. Therefore, the result will often result to the same inputed word because the algorithm didn't suceed in finding the root of the word",
   "metadata": {
    "tags": [],
    "cell_id": "00019-08e1b939-df8f-4e14-a477-2064d8728998",
    "deepnote_app_coordinates": {
     "x": 0,
     "y": 90,
     "w": 12,
     "h": 5
    },
    "deepnote_cell_type": "markdown"
   }
  },
  {
   "cell_type": "code",
   "metadata": {
    "tags": [],
    "cell_id": "00012-a2066a70-ec21-42b7-b15e-0c67a26e10a5",
    "deepnote_to_be_reexecuted": false,
    "source_hash": "e60d60f3",
    "execution_start": 1637538961735,
    "execution_millis": 3755,
    "deepnote_app_coordinates": {
     "x": 0,
     "y": 96,
     "w": 12,
     "h": 5
    },
    "deepnote_cell_type": "code"
   },
   "source": "#Define and apply Lemme and Stemme\n\nwnl = WordNetLemmatizer()\nps=PorterStemmer()\n\ndef lemmatize(s):\n     s = [wnl.lemmatize(word) for word in s]\n     return s\n     \ndef stemm(s):\n     s = [ps.stem(word) for word in s]\n     return s\n\nnew_df['Lemme']=df_text.apply(lemmatize)\nnew_df['Stemme']=df_text.apply(stemm)\nnew_df",
   "execution_count": null,
   "outputs": [
    {
     "output_type": "execute_result",
     "execution_count": 7,
     "data": {
      "application/vnd.deepnote.dataframe.v2+json": {
       "row_count": 107371,
       "column_count": 4,
       "columns": [
        {
         "name": "ID",
         "dtype": "int64"
        },
        {
         "name": "Word",
         "dtype": "object"
        },
        {
         "name": "Lemme",
         "dtype": "object"
        },
        {
         "name": "Stemme",
         "dtype": "object"
        },
        {
         "name": "_deepnote_index_column",
         "dtype": "int64"
        }
       ],
       "rows_top": [
        {
         "ID": 1,
         "Word": "great",
         "Lemme": "['great']",
         "Stemme": "['great']",
         "_deepnote_index_column": 0
        },
        {
         "ID": 1,
         "Word": "projector",
         "Lemme": "['projector']",
         "Stemme": "['projector']",
         "_deepnote_index_column": 1
        },
        {
         "ID": 1,
         "Word": "great",
         "Lemme": "['great']",
         "Stemme": "['great']",
         "_deepnote_index_column": 2
        },
        {
         "ID": 1,
         "Word": "item",
         "Lemme": "['item']",
         "Stemme": "['item']",
         "_deepnote_index_column": 3
        },
        {
         "ID": 1,
         "Word": "worth",
         "Lemme": "['worth']",
         "Stemme": "['worth']",
         "_deepnote_index_column": 4
        },
        {
         "ID": 1,
         "Word": "every",
         "Lemme": "['every']",
         "Stemme": "['everi']",
         "_deepnote_index_column": 5
        },
        {
         "ID": 1,
         "Word": "penny",
         "Lemme": "['penny']",
         "Stemme": "['penni']",
         "_deepnote_index_column": 6
        },
        {
         "ID": 1,
         "Word": "i",
         "Lemme": "['i']",
         "Stemme": "['i']",
         "_deepnote_index_column": 7
        },
        {
         "ID": 1,
         "Word": "was",
         "Lemme": "['wa']",
         "Stemme": "['wa']",
         "_deepnote_index_column": 8
        },
        {
         "ID": 1,
         "Word": "skeptical",
         "Lemme": "['skeptical']",
         "Stemme": "['skeptic']",
         "_deepnote_index_column": 9
        },
        {
         "ID": 1,
         "Word": "about",
         "Lemme": "['about']",
         "Stemme": "['about']",
         "_deepnote_index_column": 10
        },
        {
         "ID": 1,
         "Word": "it",
         "Lemme": "['it']",
         "Stemme": "['it']",
         "_deepnote_index_column": 11
        },
        {
         "ID": 1,
         "Word": "after",
         "Lemme": "['after']",
         "Stemme": "['after']",
         "_deepnote_index_column": 12
        },
        {
         "ID": 1,
         "Word": "seeing",
         "Lemme": "['seeing']",
         "Stemme": "['see']",
         "_deepnote_index_column": 13
        },
        {
         "ID": 1,
         "Word": "comments",
         "Lemme": "['comment']",
         "Stemme": "['comment']",
         "_deepnote_index_column": 14
        },
        {
         "ID": 1,
         "Word": "on",
         "Lemme": "['on']",
         "Stemme": "['on']",
         "_deepnote_index_column": 15
        },
        {
         "ID": 1,
         "Word": "how",
         "Lemme": "['how']",
         "Stemme": "['how']",
         "_deepnote_index_column": 16
        },
        {
         "ID": 1,
         "Word": "loud",
         "Lemme": "['loud']",
         "Stemme": "['loud']",
         "_deepnote_index_column": 17
        },
        {
         "ID": 1,
         "Word": "the",
         "Lemme": "['the']",
         "Stemme": "['the']",
         "_deepnote_index_column": 18
        },
        {
         "ID": 1,
         "Word": "fan",
         "Lemme": "['fan']",
         "Stemme": "['fan']",
         "_deepnote_index_column": 19
        },
        {
         "ID": 1,
         "Word": "is",
         "Lemme": "['is']",
         "Stemme": "['is']",
         "_deepnote_index_column": 20
        },
        {
         "ID": 1,
         "Word": "in",
         "Lemme": "['in']",
         "Stemme": "['in']",
         "_deepnote_index_column": 21
        },
        {
         "ID": 1,
         "Word": "all",
         "Lemme": "['all']",
         "Stemme": "['all']",
         "_deepnote_index_column": 22
        },
        {
         "ID": 1,
         "Word": "actually",
         "Lemme": "['actually']",
         "Stemme": "['actual']",
         "_deepnote_index_column": 23
        },
        {
         "ID": 1,
         "Word": "i",
         "Lemme": "['i']",
         "Stemme": "['i']",
         "_deepnote_index_column": 24
        },
        {
         "ID": 1,
         "Word": "barely",
         "Lemme": "['barely']",
         "Stemme": "['bare']",
         "_deepnote_index_column": 25
        },
        {
         "ID": 1,
         "Word": "hear",
         "Lemme": "['hear']",
         "Stemme": "['hear']",
         "_deepnote_index_column": 26
        },
        {
         "ID": 1,
         "Word": "it",
         "Lemme": "['it']",
         "Stemme": "['it']",
         "_deepnote_index_column": 27
        },
        {
         "ID": 1,
         "Word": "when",
         "Lemme": "['when']",
         "Stemme": "['when']",
         "_deepnote_index_column": 28
        },
        {
         "ID": 1,
         "Word": "the",
         "Lemme": "['the']",
         "Stemme": "['the']",
         "_deepnote_index_column": 29
        },
        {
         "ID": 1,
         "Word": "volume",
         "Lemme": "['volume']",
         "Stemme": "['volum']",
         "_deepnote_index_column": 30
        },
        {
         "ID": 1,
         "Word": "is",
         "Lemme": "['is']",
         "Stemme": "['is']",
         "_deepnote_index_column": 31
        },
        {
         "ID": 1,
         "Word": "low",
         "Lemme": "['low']",
         "Stemme": "['low']",
         "_deepnote_index_column": 32
        },
        {
         "ID": 1,
         "Word": "but",
         "Lemme": "['but']",
         "Stemme": "['but']",
         "_deepnote_index_column": 33
        },
        {
         "ID": 1,
         "Word": "it",
         "Lemme": "['it']",
         "Stemme": "['it']",
         "_deepnote_index_column": 34
        },
        {
         "ID": 1,
         "Word": "does",
         "Lemme": "['doe']",
         "Stemme": "['doe']",
         "_deepnote_index_column": 35
        },
        {
         "ID": 1,
         "Word": "an",
         "Lemme": "['an']",
         "Stemme": "['an']",
         "_deepnote_index_column": 36
        },
        {
         "ID": 1,
         "Word": "amazing",
         "Lemme": "['amazing']",
         "Stemme": "['amaz']",
         "_deepnote_index_column": 37
        },
        {
         "ID": 1,
         "Word": "job",
         "Lemme": "['job']",
         "Stemme": "['job']",
         "_deepnote_index_column": 38
        },
        {
         "ID": 1,
         "Word": "in",
         "Lemme": "['in']",
         "Stemme": "['in']",
         "_deepnote_index_column": 39
        },
        {
         "ID": 1,
         "Word": "cooling",
         "Lemme": "['cooling']",
         "Stemme": "['cool']",
         "_deepnote_index_column": 40
        },
        {
         "ID": 1,
         "Word": "the",
         "Lemme": "['the']",
         "Stemme": "['the']",
         "_deepnote_index_column": 41
        },
        {
         "ID": 1,
         "Word": "projector",
         "Lemme": "['projector']",
         "Stemme": "['projector']",
         "_deepnote_index_column": 42
        },
        {
         "ID": 1,
         "Word": "every",
         "Lemme": "['every']",
         "Stemme": "['everi']",
         "_deepnote_index_column": 43
        },
        {
         "ID": 1,
         "Word": "time",
         "Lemme": "['time']",
         "Stemme": "['time']",
         "_deepnote_index_column": 44
        },
        {
         "ID": 1,
         "Word": "the",
         "Lemme": "['the']",
         "Stemme": "['the']",
         "_deepnote_index_column": 45
        },
        {
         "ID": 1,
         "Word": "capsule",
         "Lemme": "['capsule']",
         "Stemme": "['capsul']",
         "_deepnote_index_column": 46
        },
        {
         "ID": 1,
         "Word": "is",
         "Lemme": "['is']",
         "Stemme": "['is']",
         "_deepnote_index_column": 47
        },
        {
         "ID": 1,
         "Word": "cool",
         "Lemme": "['cool']",
         "Stemme": "['cool']",
         "_deepnote_index_column": 48
        },
        {
         "ID": 1,
         "Word": "after",
         "Lemme": "['after']",
         "Stemme": "['after']",
         "_deepnote_index_column": 49
        },
        {
         "ID": 1,
         "Word": "running",
         "Lemme": "['running']",
         "Stemme": "['run']",
         "_deepnote_index_column": 50
        },
        {
         "ID": 1,
         "Word": "over",
         "Lemme": "['over']",
         "Stemme": "['over']",
         "_deepnote_index_column": 51
        },
        {
         "ID": 1,
         "Word": "3",
         "Lemme": "['3']",
         "Stemme": "['3']",
         "_deepnote_index_column": 52
        },
        {
         "ID": 1,
         "Word": "hours",
         "Lemme": "['hour']",
         "Stemme": "['hour']",
         "_deepnote_index_column": 53
        },
        {
         "ID": 1,
         "Word": "highly",
         "Lemme": "['highly']",
         "Stemme": "['highli']",
         "_deepnote_index_column": 54
        },
        {
         "ID": 1,
         "Word": "recommended",
         "Lemme": "['recommended']",
         "Stemme": "['recommend']",
         "_deepnote_index_column": 55
        },
        {
         "ID": 1,
         "Word": "the",
         "Lemme": "['the']",
         "Stemme": "['the']",
         "_deepnote_index_column": 56
        },
        {
         "ID": 1,
         "Word": "picture",
         "Lemme": "['picture']",
         "Stemme": "['pictur']",
         "_deepnote_index_column": 57
        },
        {
         "ID": 1,
         "Word": "below",
         "Lemme": "['below']",
         "Stemme": "['below']",
         "_deepnote_index_column": 58
        },
        {
         "ID": 1,
         "Word": "is",
         "Lemme": "['is']",
         "Stemme": "['is']",
         "_deepnote_index_column": 59
        },
        {
         "ID": 1,
         "Word": "on",
         "Lemme": "['on']",
         "Stemme": "['on']",
         "_deepnote_index_column": 60
        },
        {
         "ID": 1,
         "Word": "a",
         "Lemme": "['a']",
         "Stemme": "['a']",
         "_deepnote_index_column": 61
        },
        {
         "ID": 1,
         "Word": "stucco",
         "Lemme": "['stucco']",
         "Stemme": "['stucco']",
         "_deepnote_index_column": 62
        },
        {
         "ID": 1,
         "Word": "exterior",
         "Lemme": "['exterior']",
         "Stemme": "['exterior']",
         "_deepnote_index_column": 63
        },
        {
         "ID": 1,
         "Word": "wall",
         "Lemme": "['wall']",
         "Stemme": "['wall']",
         "_deepnote_index_column": 64
        },
        {
         "ID": 1,
         "Word": "but",
         "Lemme": "['but']",
         "Stemme": "['but']",
         "_deepnote_index_column": 65
        },
        {
         "ID": 1,
         "Word": "the",
         "Lemme": "['the']",
         "Stemme": "['the']",
         "_deepnote_index_column": 66
        },
        {
         "ID": 1,
         "Word": "image",
         "Lemme": "['image']",
         "Stemme": "['imag']",
         "_deepnote_index_column": 67
        },
        {
         "ID": 1,
         "Word": "still",
         "Lemme": "['still']",
         "Stemme": "['still']",
         "_deepnote_index_column": 68
        },
        {
         "ID": 1,
         "Word": "looks",
         "Lemme": "['look']",
         "Stemme": "['look']",
         "_deepnote_index_column": 69
        },
        {
         "ID": 1,
         "Word": "amazing",
         "Lemme": "['amazing']",
         "Stemme": "['amaz']",
         "_deepnote_index_column": 70
        },
        {
         "ID": 2,
         "Word": "a",
         "Lemme": "['a']",
         "Stemme": "['a']",
         "_deepnote_index_column": 71
        },
        {
         "ID": 2,
         "Word": "little",
         "Lemme": "['little']",
         "Stemme": "['littl']",
         "_deepnote_index_column": 72
        },
        {
         "ID": 2,
         "Word": "projector",
         "Lemme": "['projector']",
         "Stemme": "['projector']",
         "_deepnote_index_column": 73
        },
        {
         "ID": 2,
         "Word": "that",
         "Lemme": "['that']",
         "Stemme": "['that']",
         "_deepnote_index_column": 74
        },
        {
         "ID": 2,
         "Word": "packs",
         "Lemme": "['pack']",
         "Stemme": "['pack']",
         "_deepnote_index_column": 75
        },
        {
         "ID": 2,
         "Word": "a",
         "Lemme": "['a']",
         "Stemme": "['a']",
         "_deepnote_index_column": 76
        },
        {
         "ID": 2,
         "Word": "punch",
         "Lemme": "['punch']",
         "Stemme": "['punch']",
         "_deepnote_index_column": 77
        },
        {
         "ID": 2,
         "Word": "bought",
         "Lemme": "['bought']",
         "Stemme": "['bought']",
         "_deepnote_index_column": 78
        },
        {
         "ID": 2,
         "Word": "this",
         "Lemme": "['this']",
         "Stemme": "['thi']",
         "_deepnote_index_column": 79
        },
        {
         "ID": 2,
         "Word": "for",
         "Lemme": "['for']",
         "Stemme": "['for']",
         "_deepnote_index_column": 80
        },
        {
         "ID": 2,
         "Word": "my",
         "Lemme": "['my']",
         "Stemme": "['my']",
         "_deepnote_index_column": 81
        },
        {
         "ID": 2,
         "Word": "wife",
         "Lemme": "['wife']",
         "Stemme": "['wife']",
         "_deepnote_index_column": 82
        },
        {
         "ID": 2,
         "Word": "for",
         "Lemme": "['for']",
         "Stemme": "['for']",
         "_deepnote_index_column": 83
        },
        {
         "ID": 2,
         "Word": "her",
         "Lemme": "['her']",
         "Stemme": "['her']",
         "_deepnote_index_column": 84
        },
        {
         "ID": 2,
         "Word": "birthday",
         "Lemme": "['birthday']",
         "Stemme": "['birthday']",
         "_deepnote_index_column": 85
        },
        {
         "ID": 2,
         "Word": "she",
         "Lemme": "['she']",
         "Stemme": "['she']",
         "_deepnote_index_column": 86
        },
        {
         "ID": 2,
         "Word": "wanted",
         "Lemme": "['wanted']",
         "Stemme": "['want']",
         "_deepnote_index_column": 87
        },
        {
         "ID": 2,
         "Word": "a",
         "Lemme": "['a']",
         "Stemme": "['a']",
         "_deepnote_index_column": 88
        },
        {
         "ID": 2,
         "Word": "projector",
         "Lemme": "['projector']",
         "Stemme": "['projector']",
         "_deepnote_index_column": 89
        },
        {
         "ID": 2,
         "Word": "in",
         "Lemme": "['in']",
         "Stemme": "['in']",
         "_deepnote_index_column": 90
        },
        {
         "ID": 2,
         "Word": "the",
         "Lemme": "['the']",
         "Stemme": "['the']",
         "_deepnote_index_column": 91
        },
        {
         "ID": 2,
         "Word": "bedroom",
         "Lemme": "['bedroom']",
         "Stemme": "['bedroom']",
         "_deepnote_index_column": 92
        },
        {
         "ID": 2,
         "Word": "to",
         "Lemme": "['to']",
         "Stemme": "['to']",
         "_deepnote_index_column": 93
        },
        {
         "ID": 2,
         "Word": "cast",
         "Lemme": "['cast']",
         "Stemme": "['cast']",
         "_deepnote_index_column": 94
        },
        {
         "ID": 2,
         "Word": "upon",
         "Lemme": "['upon']",
         "Stemme": "['upon']",
         "_deepnote_index_column": 95
        },
        {
         "ID": 2,
         "Word": "the",
         "Lemme": "['the']",
         "Stemme": "['the']",
         "_deepnote_index_column": 96
        },
        {
         "ID": 2,
         "Word": "ceiling",
         "Lemme": "['ceiling']",
         "Stemme": "['ceil']",
         "_deepnote_index_column": 97
        },
        {
         "ID": 2,
         "Word": "i",
         "Lemme": "['i']",
         "Stemme": "['i']",
         "_deepnote_index_column": 98
        },
        {
         "ID": 2,
         "Word": "was",
         "Lemme": "['wa']",
         "Stemme": "['wa']",
         "_deepnote_index_column": 99
        },
        {
         "ID": 2,
         "Word": "all",
         "Lemme": "['all']",
         "Stemme": "['all']",
         "_deepnote_index_column": 100
        },
        {
         "ID": 2,
         "Word": "over",
         "Lemme": "['over']",
         "Stemme": "['over']",
         "_deepnote_index_column": 101
        },
        {
         "ID": 2,
         "Word": "getting",
         "Lemme": "['getting']",
         "Stemme": "['get']",
         "_deepnote_index_column": 102
        },
        {
         "ID": 2,
         "Word": "this",
         "Lemme": "['this']",
         "Stemme": "['thi']",
         "_deepnote_index_column": 103
        },
        {
         "ID": 2,
         "Word": "for",
         "Lemme": "['for']",
         "Stemme": "['for']",
         "_deepnote_index_column": 104
        },
        {
         "ID": 2,
         "Word": "her",
         "Lemme": "['her']",
         "Stemme": "['her']",
         "_deepnote_index_column": 105
        },
        {
         "ID": 2,
         "Word": "after",
         "Lemme": "['after']",
         "Stemme": "['after']",
         "_deepnote_index_column": 106
        },
        {
         "ID": 2,
         "Word": "doing",
         "Lemme": "['doing']",
         "Stemme": "['do']",
         "_deepnote_index_column": 107
        },
        {
         "ID": 2,
         "Word": "research",
         "Lemme": "['research']",
         "Stemme": "['research']",
         "_deepnote_index_column": 108
        },
        {
         "ID": 2,
         "Word": "and",
         "Lemme": "['and']",
         "Stemme": "['and']",
         "_deepnote_index_column": 109
        },
        {
         "ID": 2,
         "Word": "looking",
         "Lemme": "['looking']",
         "Stemme": "['look']",
         "_deepnote_index_column": 110
        },
        {
         "ID": 2,
         "Word": "at",
         "Lemme": "['at']",
         "Stemme": "['at']",
         "_deepnote_index_column": 111
        },
        {
         "ID": 2,
         "Word": "a",
         "Lemme": "['a']",
         "Stemme": "['a']",
         "_deepnote_index_column": 112
        },
        {
         "ID": 2,
         "Word": "lot",
         "Lemme": "['lot']",
         "Stemme": "['lot']",
         "_deepnote_index_column": 113
        },
        {
         "ID": 2,
         "Word": "of",
         "Lemme": "['of']",
         "Stemme": "['of']",
         "_deepnote_index_column": 114
        },
        {
         "ID": 2,
         "Word": "different",
         "Lemme": "['different']",
         "Stemme": "['differ']",
         "_deepnote_index_column": 115
        },
        {
         "ID": 2,
         "Word": "mini",
         "Lemme": "['mini']",
         "Stemme": "['mini']",
         "_deepnote_index_column": 116
        },
        {
         "ID": 2,
         "Word": "projectors",
         "Lemme": "['projector']",
         "Stemme": "['projector']",
         "_deepnote_index_column": 117
        },
        {
         "ID": 2,
         "Word": "nothing",
         "Lemme": "['nothing']",
         "Stemme": "['noth']",
         "_deepnote_index_column": 118
        },
        {
         "ID": 2,
         "Word": "even",
         "Lemme": "['even']",
         "Stemme": "['even']",
         "_deepnote_index_column": 119
        },
        {
         "ID": 2,
         "Word": "came",
         "Lemme": "['came']",
         "Stemme": "['came']",
         "_deepnote_index_column": 120
        },
        {
         "ID": 2,
         "Word": "close",
         "Lemme": "['close']",
         "Stemme": "['close']",
         "_deepnote_index_column": 121
        },
        {
         "ID": 2,
         "Word": "to",
         "Lemme": "['to']",
         "Stemme": "['to']",
         "_deepnote_index_column": 122
        },
        {
         "ID": 2,
         "Word": "the",
         "Lemme": "['the']",
         "Stemme": "['the']",
         "_deepnote_index_column": 123
        },
        {
         "ID": 2,
         "Word": "awesomeness",
         "Lemme": "['awesomeness']",
         "Stemme": "['awesom']",
         "_deepnote_index_column": 124
        }
       ],
       "rows_bottom": [
        {
         "ID": 1437,
         "Word": "it",
         "Lemme": "['it']",
         "Stemme": "['it']",
         "_deepnote_index_column": 107246
        },
        {
         "ID": 1437,
         "Word": "takes",
         "Lemme": "['take']",
         "Stemme": "['take']",
         "_deepnote_index_column": 107247
        },
        {
         "ID": 1437,
         "Word": "me",
         "Lemme": "['me']",
         "Stemme": "['me']",
         "_deepnote_index_column": 107248
        },
        {
         "ID": 1437,
         "Word": "a",
         "Lemme": "['a']",
         "Stemme": "['a']",
         "_deepnote_index_column": 107249
        },
        {
         "ID": 1437,
         "Word": "while",
         "Lemme": "['while']",
         "Stemme": "['while']",
         "_deepnote_index_column": 107250
        },
        {
         "ID": 1437,
         "Word": "to",
         "Lemme": "['to']",
         "Stemme": "['to']",
         "_deepnote_index_column": 107251
        },
        {
         "ID": 1437,
         "Word": "adjust",
         "Lemme": "['adjust']",
         "Stemme": "['adjust']",
         "_deepnote_index_column": 107252
        },
        {
         "ID": 1437,
         "Word": "the",
         "Lemme": "['the']",
         "Stemme": "['the']",
         "_deepnote_index_column": 107253
        },
        {
         "ID": 1437,
         "Word": "projector",
         "Lemme": "['projector']",
         "Stemme": "['projector']",
         "_deepnote_index_column": 107254
        },
        {
         "ID": 1437,
         "Word": "angle",
         "Lemme": "['angle']",
         "Stemme": "['angl']",
         "_deepnote_index_column": 107255
        },
        {
         "ID": 1437,
         "Word": "every",
         "Lemme": "['every']",
         "Stemme": "['everi']",
         "_deepnote_index_column": 107256
        },
        {
         "ID": 1437,
         "Word": "time",
         "Lemme": "['time']",
         "Stemme": "['time']",
         "_deepnote_index_column": 107257
        },
        {
         "ID": 1437,
         "Word": "the",
         "Lemme": "['the']",
         "Stemme": "['the']",
         "_deepnote_index_column": 107258
        },
        {
         "ID": 1437,
         "Word": "speaker",
         "Lemme": "['speaker']",
         "Stemme": "['speaker']",
         "_deepnote_index_column": 107259
        },
        {
         "ID": 1437,
         "Word": "was",
         "Lemme": "['wa']",
         "Stemme": "['wa']",
         "_deepnote_index_column": 107260
        },
        {
         "ID": 1437,
         "Word": "too",
         "Lemme": "['too']",
         "Stemme": "['too']",
         "_deepnote_index_column": 107261
        },
        {
         "ID": 1437,
         "Word": "loud",
         "Lemme": "['loud']",
         "Stemme": "['loud']",
         "_deepnote_index_column": 107262
        },
        {
         "ID": 1437,
         "Word": "even",
         "Lemme": "['even']",
         "Stemme": "['even']",
         "_deepnote_index_column": 107263
        },
        {
         "ID": 1437,
         "Word": "the",
         "Lemme": "['the']",
         "Stemme": "['the']",
         "_deepnote_index_column": 107264
        },
        {
         "ID": 1437,
         "Word": "lowest",
         "Lemme": "['lowest']",
         "Stemme": "['lowest']",
         "_deepnote_index_column": 107265
        },
        {
         "ID": 1437,
         "Word": "volume",
         "Lemme": "['volume']",
         "Stemme": "['volum']",
         "_deepnote_index_column": 107266
        },
        {
         "ID": 1437,
         "Word": "overall",
         "Lemme": "['overall']",
         "Stemme": "['overal']",
         "_deepnote_index_column": 107267
        },
        {
         "ID": 1437,
         "Word": "it is",
         "Lemme": "['it', 'is']",
         "Stemme": "['it', 'is']",
         "_deepnote_index_column": 107268
        },
        {
         "ID": 1437,
         "Word": "not",
         "Lemme": "['not']",
         "Stemme": "['not']",
         "_deepnote_index_column": 107269
        },
        {
         "ID": 1437,
         "Word": "worth",
         "Lemme": "['worth']",
         "Stemme": "['worth']",
         "_deepnote_index_column": 107270
        },
        {
         "ID": 1437,
         "Word": "the",
         "Lemme": "['the']",
         "Stemme": "['the']",
         "_deepnote_index_column": 107271
        },
        {
         "ID": 1437,
         "Word": "price",
         "Lemme": "['price']",
         "Stemme": "['price']",
         "_deepnote_index_column": 107272
        },
        {
         "ID": 1438,
         "Word": "not",
         "Lemme": "['not']",
         "Stemme": "['not']",
         "_deepnote_index_column": 107273
        },
        {
         "ID": 1438,
         "Word": "working",
         "Lemme": "['working']",
         "Stemme": "['work']",
         "_deepnote_index_column": 107274
        },
        {
         "ID": 1438,
         "Word": "with",
         "Lemme": "['with']",
         "Stemme": "['with']",
         "_deepnote_index_column": 107275
        },
        {
         "ID": 1438,
         "Word": "its",
         "Lemme": "['it']",
         "Stemme": "['it']",
         "_deepnote_index_column": 107276
        },
        {
         "ID": 1438,
         "Word": "own",
         "Lemme": "['own']",
         "Stemme": "['own']",
         "_deepnote_index_column": 107277
        },
        {
         "ID": 1438,
         "Word": "twitch",
         "Lemme": "['twitch']",
         "Stemme": "['twitch']",
         "_deepnote_index_column": 107278
        },
        {
         "ID": 1438,
         "Word": "app",
         "Lemme": "['app']",
         "Stemme": "['app']",
         "_deepnote_index_column": 107279
        },
        {
         "ID": 1438,
         "Word": "upset",
         "Lemme": "['upset']",
         "Stemme": "['upset']",
         "_deepnote_index_column": 107280
        },
        {
         "ID": 1438,
         "Word": "not",
         "Lemme": "['not']",
         "Stemme": "['not']",
         "_deepnote_index_column": 107281
        },
        {
         "ID": 1438,
         "Word": "working",
         "Lemme": "['working']",
         "Stemme": "['work']",
         "_deepnote_index_column": 107282
        },
        {
         "ID": 1438,
         "Word": "with",
         "Lemme": "['with']",
         "Stemme": "['with']",
         "_deepnote_index_column": 107283
        },
        {
         "ID": 1438,
         "Word": "its",
         "Lemme": "['it']",
         "Stemme": "['it']",
         "_deepnote_index_column": 107284
        },
        {
         "ID": 1438,
         "Word": "own",
         "Lemme": "['own']",
         "Stemme": "['own']",
         "_deepnote_index_column": 107285
        },
        {
         "ID": 1438,
         "Word": "twitch",
         "Lemme": "['twitch']",
         "Stemme": "['twitch']",
         "_deepnote_index_column": 107286
        },
        {
         "ID": 1438,
         "Word": "app",
         "Lemme": "['app']",
         "Stemme": "['app']",
         "_deepnote_index_column": 107287
        },
        {
         "ID": 1438,
         "Word": "useless",
         "Lemme": "['useless']",
         "Stemme": "['useless']",
         "_deepnote_index_column": 107288
        },
        {
         "ID": 1438,
         "Word": "for",
         "Lemme": "['for']",
         "Stemme": "['for']",
         "_deepnote_index_column": 107289
        },
        {
         "ID": 1438,
         "Word": "me",
         "Lemme": "['me']",
         "Stemme": "['me']",
         "_deepnote_index_column": 107290
        },
        {
         "ID": 1439,
         "Word": "poco",
         "Lemme": "['poco']",
         "Stemme": "['poco']",
         "_deepnote_index_column": 107291
        },
        {
         "ID": 1439,
         "Word": "brillo",
         "Lemme": "['brillo']",
         "Stemme": "['brillo']",
         "_deepnote_index_column": 107292
        },
        {
         "ID": 1439,
         "Word": "y",
         "Lemme": "['y']",
         "Stemme": "['y']",
         "_deepnote_index_column": 107293
        },
        {
         "ID": 1439,
         "Word": "baja",
         "Lemme": "['baja']",
         "Stemme": "['baja']",
         "_deepnote_index_column": 107294
        },
        {
         "ID": 1439,
         "Word": "resolución",
         "Lemme": "['resolución']",
         "Stemme": "['resolución']",
         "_deepnote_index_column": 107295
        },
        {
         "ID": 1439,
         "Word": "no",
         "Lemme": "['no']",
         "Stemme": "['no']",
         "_deepnote_index_column": 107296
        },
        {
         "ID": 1439,
         "Word": "tiene",
         "Lemme": "['tiene']",
         "Stemme": "['tien']",
         "_deepnote_index_column": 107297
        },
        {
         "ID": 1439,
         "Word": "buen",
         "Lemme": "['buen']",
         "Stemme": "['buen']",
         "_deepnote_index_column": 107298
        },
        {
         "ID": 1439,
         "Word": "brillo",
         "Lemme": "['brillo']",
         "Stemme": "['brillo']",
         "_deepnote_index_column": 107299
        },
        {
         "ID": 1439,
         "Word": "no",
         "Lemme": "['no']",
         "Stemme": "['no']",
         "_deepnote_index_column": 107300
        },
        {
         "ID": 1439,
         "Word": "sirve",
         "Lemme": "['sirve']",
         "Stemme": "['sirv']",
         "_deepnote_index_column": 107301
        },
        {
         "ID": 1439,
         "Word": "para",
         "Lemme": "['para']",
         "Stemme": "['para']",
         "_deepnote_index_column": 107302
        },
        {
         "ID": 1439,
         "Word": "jugar",
         "Lemme": "['jugar']",
         "Stemme": "['jugar']",
         "_deepnote_index_column": 107303
        },
        {
         "ID": 1439,
         "Word": "play",
         "Lemme": "['play']",
         "Stemme": "['play']",
         "_deepnote_index_column": 107304
        },
        {
         "ID": 1439,
         "Word": "station",
         "Lemme": "['station']",
         "Stemme": "['station']",
         "_deepnote_index_column": 107305
        },
        {
         "ID": 1439,
         "Word": "porque",
         "Lemme": "['porque']",
         "Stemme": "['porqu']",
         "_deepnote_index_column": 107306
        },
        {
         "ID": 1439,
         "Word": "se",
         "Lemme": "['se']",
         "Stemme": "['se']",
         "_deepnote_index_column": 107307
        },
        {
         "ID": 1439,
         "Word": "nota",
         "Lemme": "['nota']",
         "Stemme": "['nota']",
         "_deepnote_index_column": 107308
        },
        {
         "ID": 1439,
         "Word": "aunque",
         "Lemme": "['aunque']",
         "Stemme": "['aunqu']",
         "_deepnote_index_column": 107309
        },
        {
         "ID": 1439,
         "Word": "leve",
         "Lemme": "['leve']",
         "Stemme": "['leve']",
         "_deepnote_index_column": 107310
        },
        {
         "ID": 1439,
         "Word": "un",
         "Lemme": "['un']",
         "Stemme": "['un']",
         "_deepnote_index_column": 107311
        },
        {
         "ID": 1439,
         "Word": "retraso",
         "Lemme": "['retraso']",
         "Stemme": "['retraso']",
         "_deepnote_index_column": 107312
        },
        {
         "ID": 1439,
         "Word": "en",
         "Lemme": "['en']",
         "Stemme": "['en']",
         "_deepnote_index_column": 107313
        },
        {
         "ID": 1439,
         "Word": "la",
         "Lemme": "['la']",
         "Stemme": "['la']",
         "_deepnote_index_column": 107314
        },
        {
         "ID": 1439,
         "Word": "imagen",
         "Lemme": "['imagen']",
         "Stemme": "['imagen']",
         "_deepnote_index_column": 107315
        },
        {
         "ID": 1439,
         "Word": "proyectada",
         "Lemme": "['proyectada']",
         "Stemme": "['proyectada']",
         "_deepnote_index_column": 107316
        },
        {
         "ID": 1439,
         "Word": "además",
         "Lemme": "['además']",
         "Stemme": "['ademá']",
         "_deepnote_index_column": 107317
        },
        {
         "ID": 1439,
         "Word": "que",
         "Lemme": "['que']",
         "Stemme": "['que']",
         "_deepnote_index_column": 107318
        },
        {
         "ID": 1439,
         "Word": "no",
         "Lemme": "['no']",
         "Stemme": "['no']",
         "_deepnote_index_column": 107319
        },
        {
         "ID": 1439,
         "Word": "tiene",
         "Lemme": "['tiene']",
         "Stemme": "['tien']",
         "_deepnote_index_column": 107320
        },
        {
         "ID": 1439,
         "Word": "buena",
         "Lemme": "['buena']",
         "Stemme": "['buena']",
         "_deepnote_index_column": 107321
        },
        {
         "ID": 1439,
         "Word": "iluminación",
         "Lemme": "['iluminación']",
         "Stemme": "['iluminación']",
         "_deepnote_index_column": 107322
        },
        {
         "ID": 1439,
         "Word": "muy",
         "Lemme": "['muy']",
         "Stemme": "['muy']",
         "_deepnote_index_column": 107323
        },
        {
         "ID": 1439,
         "Word": "caro",
         "Lemme": "['caro']",
         "Stemme": "['caro']",
         "_deepnote_index_column": 107324
        },
        {
         "ID": 1439,
         "Word": "para",
         "Lemme": "['para']",
         "Stemme": "['para']",
         "_deepnote_index_column": 107325
        },
        {
         "ID": 1439,
         "Word": "lo",
         "Lemme": "['lo']",
         "Stemme": "['lo']",
         "_deepnote_index_column": 107326
        },
        {
         "ID": 1439,
         "Word": "que",
         "Lemme": "['que']",
         "Stemme": "['que']",
         "_deepnote_index_column": 107327
        },
        {
         "ID": 1439,
         "Word": "ofrece",
         "Lemme": "['ofrece']",
         "Stemme": "['ofrec']",
         "_deepnote_index_column": 107328
        },
        {
         "ID": 1439,
         "Word": "he",
         "Lemme": "['he']",
         "Stemme": "['he']",
         "_deepnote_index_column": 107329
        },
        {
         "ID": 1439,
         "Word": "visto",
         "Lemme": "['visto']",
         "Stemme": "['visto']",
         "_deepnote_index_column": 107330
        },
        {
         "ID": 1439,
         "Word": "otros",
         "Lemme": "['otros']",
         "Stemme": "['otro']",
         "_deepnote_index_column": 107331
        },
        {
         "ID": 1439,
         "Word": "proyectores",
         "Lemme": "['proyectores']",
         "Stemme": "['proyector']",
         "_deepnote_index_column": 107332
        },
        {
         "ID": 1439,
         "Word": "con",
         "Lemme": "['con']",
         "Stemme": "['con']",
         "_deepnote_index_column": 107333
        },
        {
         "ID": 1439,
         "Word": "las",
         "Lemme": "['la']",
         "Stemme": "['la']",
         "_deepnote_index_column": 107334
        },
        {
         "ID": 1439,
         "Word": "mismas",
         "Lemme": "['mismas']",
         "Stemme": "['misma']",
         "_deepnote_index_column": 107335
        },
        {
         "ID": 1439,
         "Word": "o",
         "Lemme": "['o']",
         "Stemme": "['o']",
         "_deepnote_index_column": 107336
        },
        {
         "ID": 1439,
         "Word": "parecidas",
         "Lemme": "['parecidas']",
         "Stemme": "['parecida']",
         "_deepnote_index_column": 107337
        },
        {
         "ID": 1439,
         "Word": "características",
         "Lemme": "['características']",
         "Stemme": "['característica']",
         "_deepnote_index_column": 107338
        },
        {
         "ID": 1439,
         "Word": "más",
         "Lemme": "['más']",
         "Stemme": "['má']",
         "_deepnote_index_column": 107339
        },
        {
         "ID": 1439,
         "Word": "baratos",
         "Lemme": "['baratos']",
         "Stemme": "['barato']",
         "_deepnote_index_column": 107340
        },
        {
         "ID": 1440,
         "Word": "badluck",
         "Lemme": "['badluck']",
         "Stemme": "['badluck']",
         "_deepnote_index_column": 107341
        },
        {
         "ID": 1440,
         "Word": "one",
         "Lemme": "['one']",
         "Stemme": "['one']",
         "_deepnote_index_column": 107342
        },
        {
         "ID": 1440,
         "Word": "day",
         "Lemme": "['day']",
         "Stemme": "['day']",
         "_deepnote_index_column": 107343
        },
        {
         "ID": 1440,
         "Word": "the",
         "Lemme": "['the']",
         "Stemme": "['the']",
         "_deepnote_index_column": 107344
        },
        {
         "ID": 1440,
         "Word": "nebula",
         "Lemme": "['nebula']",
         "Stemme": "['nebula']",
         "_deepnote_index_column": 107345
        },
        {
         "ID": 1440,
         "Word": "get",
         "Lemme": "['get']",
         "Stemme": "['get']",
         "_deepnote_index_column": 107346
        },
        {
         "ID": 1440,
         "Word": "heated",
         "Lemme": "['heated']",
         "Stemme": "['heat']",
         "_deepnote_index_column": 107347
        },
        {
         "ID": 1440,
         "Word": "more",
         "Lemme": "['more']",
         "Stemme": "['more']",
         "_deepnote_index_column": 107348
        },
        {
         "ID": 1440,
         "Word": "and",
         "Lemme": "['and']",
         "Stemme": "['and']",
         "_deepnote_index_column": 107349
        },
        {
         "ID": 1440,
         "Word": "suddenly",
         "Lemme": "['suddenly']",
         "Stemme": "['suddenli']",
         "_deepnote_index_column": 107350
        },
        {
         "ID": 1440,
         "Word": "the",
         "Lemme": "['the']",
         "Stemme": "['the']",
         "_deepnote_index_column": 107351
        },
        {
         "ID": 1440,
         "Word": "bad",
         "Lemme": "['bad']",
         "Stemme": "['bad']",
         "_deepnote_index_column": 107352
        },
        {
         "ID": 1440,
         "Word": "odour",
         "Lemme": "['odour']",
         "Stemme": "['odour']",
         "_deepnote_index_column": 107353
        },
        {
         "ID": 1440,
         "Word": "smell",
         "Lemme": "['smell']",
         "Stemme": "['smell']",
         "_deepnote_index_column": 107354
        },
        {
         "ID": 1440,
         "Word": "is",
         "Lemme": "['is']",
         "Stemme": "['is']",
         "_deepnote_index_column": 107355
        },
        {
         "ID": 1440,
         "Word": "coming",
         "Lemme": "['coming']",
         "Stemme": "['come']",
         "_deepnote_index_column": 107356
        },
        {
         "ID": 1440,
         "Word": "and",
         "Lemme": "['and']",
         "Stemme": "['and']",
         "_deepnote_index_column": 107357
        },
        {
         "ID": 1440,
         "Word": "switched",
         "Lemme": "['switched']",
         "Stemme": "['switch']",
         "_deepnote_index_column": 107358
        },
        {
         "ID": 1440,
         "Word": "off",
         "Lemme": "['off']",
         "Stemme": "['off']",
         "_deepnote_index_column": 107359
        },
        {
         "ID": 1440,
         "Word": "i",
         "Lemme": "['i']",
         "Stemme": "['i']",
         "_deepnote_index_column": 107360
        },
        {
         "ID": 1440,
         "Word": "lost",
         "Lemme": "['lost']",
         "Stemme": "['lost']",
         "_deepnote_index_column": 107361
        },
        {
         "ID": 1440,
         "Word": "my",
         "Lemme": "['my']",
         "Stemme": "['my']",
         "_deepnote_index_column": 107362
        },
        {
         "ID": 1440,
         "Word": "money",
         "Lemme": "['money']",
         "Stemme": "['money']",
         "_deepnote_index_column": 107363
        },
        {
         "ID": 1441,
         "Word": "awsome",
         "Lemme": "['awsome']",
         "Stemme": "['awsom']",
         "_deepnote_index_column": 107364
        },
        {
         "ID": 1441,
         "Word": "excellent",
         "Lemme": "['excellent']",
         "Stemme": "['excel']",
         "_deepnote_index_column": 107365
        },
        {
         "ID": 1441,
         "Word": "services",
         "Lemme": "['service']",
         "Stemme": "['servic']",
         "_deepnote_index_column": 107366
        },
        {
         "ID": 1441,
         "Word": "and",
         "Lemme": "['and']",
         "Stemme": "['and']",
         "_deepnote_index_column": 107367
        },
        {
         "ID": 1441,
         "Word": "fast",
         "Lemme": "['fast']",
         "Stemme": "['fast']",
         "_deepnote_index_column": 107368
        },
        {
         "ID": 1441,
         "Word": "turn",
         "Lemme": "['turn']",
         "Stemme": "['turn']",
         "_deepnote_index_column": 107369
        },
        {
         "ID": 1441,
         "Word": "over",
         "Lemme": "['over']",
         "Stemme": "['over']",
         "_deepnote_index_column": 107370
        }
       ]
      },
      "text/plain": "          ID       Word        Lemme       Stemme\n0          1      great      [great]      [great]\n1          1  projector  [projector]  [projector]\n2          1      great      [great]      [great]\n3          1       item       [item]       [item]\n4          1      worth      [worth]      [worth]\n...      ...        ...          ...          ...\n107366  1441   services    [service]     [servic]\n107367  1441        and        [and]        [and]\n107368  1441       fast       [fast]       [fast]\n107369  1441       turn       [turn]       [turn]\n107370  1441       over       [over]       [over]\n\n[107371 rows x 4 columns]",
      "text/html": "<div>\n<style scoped>\n    .dataframe tbody tr th:only-of-type {\n        vertical-align: middle;\n    }\n\n    .dataframe tbody tr th {\n        vertical-align: top;\n    }\n\n    .dataframe thead th {\n        text-align: right;\n    }\n</style>\n<table border=\"1\" class=\"dataframe\">\n  <thead>\n    <tr style=\"text-align: right;\">\n      <th></th>\n      <th>ID</th>\n      <th>Word</th>\n      <th>Lemme</th>\n      <th>Stemme</th>\n    </tr>\n  </thead>\n  <tbody>\n    <tr>\n      <th>0</th>\n      <td>1</td>\n      <td>great</td>\n      <td>[great]</td>\n      <td>[great]</td>\n    </tr>\n    <tr>\n      <th>1</th>\n      <td>1</td>\n      <td>projector</td>\n      <td>[projector]</td>\n      <td>[projector]</td>\n    </tr>\n    <tr>\n      <th>2</th>\n      <td>1</td>\n      <td>great</td>\n      <td>[great]</td>\n      <td>[great]</td>\n    </tr>\n    <tr>\n      <th>3</th>\n      <td>1</td>\n      <td>item</td>\n      <td>[item]</td>\n      <td>[item]</td>\n    </tr>\n    <tr>\n      <th>4</th>\n      <td>1</td>\n      <td>worth</td>\n      <td>[worth]</td>\n      <td>[worth]</td>\n    </tr>\n    <tr>\n      <th>...</th>\n      <td>...</td>\n      <td>...</td>\n      <td>...</td>\n      <td>...</td>\n    </tr>\n    <tr>\n      <th>107366</th>\n      <td>1441</td>\n      <td>services</td>\n      <td>[service]</td>\n      <td>[servic]</td>\n    </tr>\n    <tr>\n      <th>107367</th>\n      <td>1441</td>\n      <td>and</td>\n      <td>[and]</td>\n      <td>[and]</td>\n    </tr>\n    <tr>\n      <th>107368</th>\n      <td>1441</td>\n      <td>fast</td>\n      <td>[fast]</td>\n      <td>[fast]</td>\n    </tr>\n    <tr>\n      <th>107369</th>\n      <td>1441</td>\n      <td>turn</td>\n      <td>[turn]</td>\n      <td>[turn]</td>\n    </tr>\n    <tr>\n      <th>107370</th>\n      <td>1441</td>\n      <td>over</td>\n      <td>[over]</td>\n      <td>[over]</td>\n    </tr>\n  </tbody>\n</table>\n<p>107371 rows × 4 columns</p>\n</div>"
     },
     "metadata": {}
    }
   ]
  },
  {
   "cell_type": "markdown",
   "source": "### 3.3 Stopping",
   "metadata": {
    "tags": [],
    "is_collapsed": false,
    "cell_id": "00021-58d0eaef-974b-47fe-b379-93ecbabc283c",
    "deepnote_app_coordinates": {
     "x": 0,
     "y": 102,
     "w": 12,
     "h": 2
    },
    "deepnote_cell_type": "text-cell-h3"
   }
  },
  {
   "cell_type": "markdown",
   "source": "In a sentence, some words like \"for\" or \"and\" are not considered useful to understand the sentence as they don't bring any value. Thus, these words are called \"**stop words**\" and must be identified.\n\nIn our case, we only want to identify them instead of removing them entirely because they can be useful for statistic purposes. Moreover, in order to further study what customers don't like about the product, negative reviews identifying all features that don't work are very important. Thus, negations are very important for our studies such as the word \"not\" that must be kept.\n\nHere we used the nltk list of stopwords as well as added some of our own",
   "metadata": {
    "tags": [],
    "cell_id": "00022-3066c64c-b1d3-41e9-8bcd-c3fb8f022b77",
    "deepnote_app_coordinates": {
     "x": 0,
     "y": 105,
     "w": 12,
     "h": 5
    },
    "deepnote_cell_type": "markdown"
   }
  },
  {
   "cell_type": "code",
   "metadata": {
    "tags": [],
    "cell_id": "00013-a5c3ab06-c8a8-431e-8833-47c857526440",
    "deepnote_to_be_reexecuted": false,
    "source_hash": "cd9082c8",
    "execution_start": 1637538965489,
    "execution_millis": 5,
    "deepnote_app_coordinates": {
     "x": 0,
     "y": 111,
     "w": 12,
     "h": 5
    },
    "deepnote_cell_type": "code"
   },
   "source": "#Defining stop words\nfrom string import punctuation\n\nour_stopwords = ['also', 'would', 'one']\n\nstopwords1 = list(stopwords.words('english'))\n\nstopwords1 = our_stopwords + list(stopwords.words('english'))+list(punctuation)+list('’')+list(',')\nprint(len(stopwords1),stopwords1,sep='\\n\\n')",
   "execution_count": null,
   "outputs": [
    {
     "name": "stdout",
     "text": "216\n\n['also', 'would', 'one', 'i', 'me', 'my', 'myself', 'we', 'our', 'ours', 'ourselves', 'you', \"you're\", \"you've\", \"you'll\", \"you'd\", 'your', 'yours', 'yourself', 'yourselves', 'he', 'him', 'his', 'himself', 'she', \"she's\", 'her', 'hers', 'herself', 'it', \"it's\", 'its', 'itself', 'they', 'them', 'their', 'theirs', 'themselves', 'what', 'which', 'who', 'whom', 'this', 'that', \"that'll\", 'these', 'those', 'am', 'is', 'are', 'was', 'were', 'be', 'been', 'being', 'have', 'has', 'had', 'having', 'do', 'does', 'did', 'doing', 'a', 'an', 'the', 'and', 'but', 'if', 'or', 'because', 'as', 'until', 'while', 'of', 'at', 'by', 'for', 'with', 'about', 'against', 'between', 'into', 'through', 'during', 'before', 'after', 'above', 'below', 'to', 'from', 'up', 'down', 'in', 'out', 'on', 'off', 'over', 'under', 'again', 'further', 'then', 'once', 'here', 'there', 'when', 'where', 'why', 'how', 'all', 'any', 'both', 'each', 'few', 'more', 'most', 'other', 'some', 'such', 'no', 'nor', 'not', 'only', 'own', 'same', 'so', 'than', 'too', 'very', 's', 't', 'can', 'will', 'just', 'don', \"don't\", 'should', \"should've\", 'now', 'd', 'll', 'm', 'o', 're', 've', 'y', 'ain', 'aren', \"aren't\", 'couldn', \"couldn't\", 'didn', \"didn't\", 'doesn', \"doesn't\", 'hadn', \"hadn't\", 'hasn', \"hasn't\", 'haven', \"haven't\", 'isn', \"isn't\", 'ma', 'mightn', \"mightn't\", 'mustn', \"mustn't\", 'needn', \"needn't\", 'shan', \"shan't\", 'shouldn', \"shouldn't\", 'wasn', \"wasn't\", 'weren', \"weren't\", 'won', \"won't\", 'wouldn', \"wouldn't\", '!', '\"', '#', '$', '%', '&', \"'\", '(', ')', '*', '+', ',', '-', '.', '/', ':', ';', '<', '=', '>', '?', '@', '[', '\\\\', ']', '^', '_', '`', '{', '|', '}', '~', '’', ',']\n",
     "output_type": "stream"
    }
   ]
  },
  {
   "cell_type": "code",
   "metadata": {
    "tags": [],
    "cell_id": "00014-955f447b-3e17-4b8f-a17c-ec69c0c0494b",
    "deepnote_to_be_reexecuted": false,
    "source_hash": "c6790106",
    "execution_start": 1637538965501,
    "execution_millis": 45,
    "deepnote_app_coordinates": {
     "x": 0,
     "y": 117,
     "w": 12,
     "h": 5
    },
    "deepnote_cell_type": "code"
   },
   "source": "new_df['stopword']=new_df['Word'].isin(stopwords1)\nnew_df",
   "execution_count": null,
   "outputs": [
    {
     "output_type": "execute_result",
     "execution_count": 9,
     "data": {
      "application/vnd.deepnote.dataframe.v2+json": {
       "row_count": 107371,
       "column_count": 5,
       "columns": [
        {
         "name": "ID",
         "dtype": "int64"
        },
        {
         "name": "Word",
         "dtype": "object"
        },
        {
         "name": "Lemme",
         "dtype": "object"
        },
        {
         "name": "Stemme",
         "dtype": "object"
        },
        {
         "name": "stopword",
         "dtype": "bool"
        },
        {
         "name": "_deepnote_index_column",
         "dtype": "int64"
        }
       ],
       "rows_top": [
        {
         "ID": 1,
         "Word": "great",
         "Lemme": "['great']",
         "Stemme": "['great']",
         "stopword": false,
         "_deepnote_index_column": 0
        },
        {
         "ID": 1,
         "Word": "projector",
         "Lemme": "['projector']",
         "Stemme": "['projector']",
         "stopword": false,
         "_deepnote_index_column": 1
        },
        {
         "ID": 1,
         "Word": "great",
         "Lemme": "['great']",
         "Stemme": "['great']",
         "stopword": false,
         "_deepnote_index_column": 2
        },
        {
         "ID": 1,
         "Word": "item",
         "Lemme": "['item']",
         "Stemme": "['item']",
         "stopword": false,
         "_deepnote_index_column": 3
        },
        {
         "ID": 1,
         "Word": "worth",
         "Lemme": "['worth']",
         "Stemme": "['worth']",
         "stopword": false,
         "_deepnote_index_column": 4
        },
        {
         "ID": 1,
         "Word": "every",
         "Lemme": "['every']",
         "Stemme": "['everi']",
         "stopword": false,
         "_deepnote_index_column": 5
        },
        {
         "ID": 1,
         "Word": "penny",
         "Lemme": "['penny']",
         "Stemme": "['penni']",
         "stopword": false,
         "_deepnote_index_column": 6
        },
        {
         "ID": 1,
         "Word": "i",
         "Lemme": "['i']",
         "Stemme": "['i']",
         "stopword": true,
         "_deepnote_index_column": 7
        },
        {
         "ID": 1,
         "Word": "was",
         "Lemme": "['wa']",
         "Stemme": "['wa']",
         "stopword": true,
         "_deepnote_index_column": 8
        },
        {
         "ID": 1,
         "Word": "skeptical",
         "Lemme": "['skeptical']",
         "Stemme": "['skeptic']",
         "stopword": false,
         "_deepnote_index_column": 9
        },
        {
         "ID": 1,
         "Word": "about",
         "Lemme": "['about']",
         "Stemme": "['about']",
         "stopword": true,
         "_deepnote_index_column": 10
        },
        {
         "ID": 1,
         "Word": "it",
         "Lemme": "['it']",
         "Stemme": "['it']",
         "stopword": true,
         "_deepnote_index_column": 11
        },
        {
         "ID": 1,
         "Word": "after",
         "Lemme": "['after']",
         "Stemme": "['after']",
         "stopword": true,
         "_deepnote_index_column": 12
        },
        {
         "ID": 1,
         "Word": "seeing",
         "Lemme": "['seeing']",
         "Stemme": "['see']",
         "stopword": false,
         "_deepnote_index_column": 13
        },
        {
         "ID": 1,
         "Word": "comments",
         "Lemme": "['comment']",
         "Stemme": "['comment']",
         "stopword": false,
         "_deepnote_index_column": 14
        },
        {
         "ID": 1,
         "Word": "on",
         "Lemme": "['on']",
         "Stemme": "['on']",
         "stopword": true,
         "_deepnote_index_column": 15
        },
        {
         "ID": 1,
         "Word": "how",
         "Lemme": "['how']",
         "Stemme": "['how']",
         "stopword": true,
         "_deepnote_index_column": 16
        },
        {
         "ID": 1,
         "Word": "loud",
         "Lemme": "['loud']",
         "Stemme": "['loud']",
         "stopword": false,
         "_deepnote_index_column": 17
        },
        {
         "ID": 1,
         "Word": "the",
         "Lemme": "['the']",
         "Stemme": "['the']",
         "stopword": true,
         "_deepnote_index_column": 18
        },
        {
         "ID": 1,
         "Word": "fan",
         "Lemme": "['fan']",
         "Stemme": "['fan']",
         "stopword": false,
         "_deepnote_index_column": 19
        },
        {
         "ID": 1,
         "Word": "is",
         "Lemme": "['is']",
         "Stemme": "['is']",
         "stopword": true,
         "_deepnote_index_column": 20
        },
        {
         "ID": 1,
         "Word": "in",
         "Lemme": "['in']",
         "Stemme": "['in']",
         "stopword": true,
         "_deepnote_index_column": 21
        },
        {
         "ID": 1,
         "Word": "all",
         "Lemme": "['all']",
         "Stemme": "['all']",
         "stopword": true,
         "_deepnote_index_column": 22
        },
        {
         "ID": 1,
         "Word": "actually",
         "Lemme": "['actually']",
         "Stemme": "['actual']",
         "stopword": false,
         "_deepnote_index_column": 23
        },
        {
         "ID": 1,
         "Word": "i",
         "Lemme": "['i']",
         "Stemme": "['i']",
         "stopword": true,
         "_deepnote_index_column": 24
        },
        {
         "ID": 1,
         "Word": "barely",
         "Lemme": "['barely']",
         "Stemme": "['bare']",
         "stopword": false,
         "_deepnote_index_column": 25
        },
        {
         "ID": 1,
         "Word": "hear",
         "Lemme": "['hear']",
         "Stemme": "['hear']",
         "stopword": false,
         "_deepnote_index_column": 26
        },
        {
         "ID": 1,
         "Word": "it",
         "Lemme": "['it']",
         "Stemme": "['it']",
         "stopword": true,
         "_deepnote_index_column": 27
        },
        {
         "ID": 1,
         "Word": "when",
         "Lemme": "['when']",
         "Stemme": "['when']",
         "stopword": true,
         "_deepnote_index_column": 28
        },
        {
         "ID": 1,
         "Word": "the",
         "Lemme": "['the']",
         "Stemme": "['the']",
         "stopword": true,
         "_deepnote_index_column": 29
        },
        {
         "ID": 1,
         "Word": "volume",
         "Lemme": "['volume']",
         "Stemme": "['volum']",
         "stopword": false,
         "_deepnote_index_column": 30
        },
        {
         "ID": 1,
         "Word": "is",
         "Lemme": "['is']",
         "Stemme": "['is']",
         "stopword": true,
         "_deepnote_index_column": 31
        },
        {
         "ID": 1,
         "Word": "low",
         "Lemme": "['low']",
         "Stemme": "['low']",
         "stopword": false,
         "_deepnote_index_column": 32
        },
        {
         "ID": 1,
         "Word": "but",
         "Lemme": "['but']",
         "Stemme": "['but']",
         "stopword": true,
         "_deepnote_index_column": 33
        },
        {
         "ID": 1,
         "Word": "it",
         "Lemme": "['it']",
         "Stemme": "['it']",
         "stopword": true,
         "_deepnote_index_column": 34
        },
        {
         "ID": 1,
         "Word": "does",
         "Lemme": "['doe']",
         "Stemme": "['doe']",
         "stopword": true,
         "_deepnote_index_column": 35
        },
        {
         "ID": 1,
         "Word": "an",
         "Lemme": "['an']",
         "Stemme": "['an']",
         "stopword": true,
         "_deepnote_index_column": 36
        },
        {
         "ID": 1,
         "Word": "amazing",
         "Lemme": "['amazing']",
         "Stemme": "['amaz']",
         "stopword": false,
         "_deepnote_index_column": 37
        },
        {
         "ID": 1,
         "Word": "job",
         "Lemme": "['job']",
         "Stemme": "['job']",
         "stopword": false,
         "_deepnote_index_column": 38
        },
        {
         "ID": 1,
         "Word": "in",
         "Lemme": "['in']",
         "Stemme": "['in']",
         "stopword": true,
         "_deepnote_index_column": 39
        },
        {
         "ID": 1,
         "Word": "cooling",
         "Lemme": "['cooling']",
         "Stemme": "['cool']",
         "stopword": false,
         "_deepnote_index_column": 40
        },
        {
         "ID": 1,
         "Word": "the",
         "Lemme": "['the']",
         "Stemme": "['the']",
         "stopword": true,
         "_deepnote_index_column": 41
        },
        {
         "ID": 1,
         "Word": "projector",
         "Lemme": "['projector']",
         "Stemme": "['projector']",
         "stopword": false,
         "_deepnote_index_column": 42
        },
        {
         "ID": 1,
         "Word": "every",
         "Lemme": "['every']",
         "Stemme": "['everi']",
         "stopword": false,
         "_deepnote_index_column": 43
        },
        {
         "ID": 1,
         "Word": "time",
         "Lemme": "['time']",
         "Stemme": "['time']",
         "stopword": false,
         "_deepnote_index_column": 44
        },
        {
         "ID": 1,
         "Word": "the",
         "Lemme": "['the']",
         "Stemme": "['the']",
         "stopword": true,
         "_deepnote_index_column": 45
        },
        {
         "ID": 1,
         "Word": "capsule",
         "Lemme": "['capsule']",
         "Stemme": "['capsul']",
         "stopword": false,
         "_deepnote_index_column": 46
        },
        {
         "ID": 1,
         "Word": "is",
         "Lemme": "['is']",
         "Stemme": "['is']",
         "stopword": true,
         "_deepnote_index_column": 47
        },
        {
         "ID": 1,
         "Word": "cool",
         "Lemme": "['cool']",
         "Stemme": "['cool']",
         "stopword": false,
         "_deepnote_index_column": 48
        },
        {
         "ID": 1,
         "Word": "after",
         "Lemme": "['after']",
         "Stemme": "['after']",
         "stopword": true,
         "_deepnote_index_column": 49
        },
        {
         "ID": 1,
         "Word": "running",
         "Lemme": "['running']",
         "Stemme": "['run']",
         "stopword": false,
         "_deepnote_index_column": 50
        },
        {
         "ID": 1,
         "Word": "over",
         "Lemme": "['over']",
         "Stemme": "['over']",
         "stopword": true,
         "_deepnote_index_column": 51
        },
        {
         "ID": 1,
         "Word": "3",
         "Lemme": "['3']",
         "Stemme": "['3']",
         "stopword": false,
         "_deepnote_index_column": 52
        },
        {
         "ID": 1,
         "Word": "hours",
         "Lemme": "['hour']",
         "Stemme": "['hour']",
         "stopword": false,
         "_deepnote_index_column": 53
        },
        {
         "ID": 1,
         "Word": "highly",
         "Lemme": "['highly']",
         "Stemme": "['highli']",
         "stopword": false,
         "_deepnote_index_column": 54
        },
        {
         "ID": 1,
         "Word": "recommended",
         "Lemme": "['recommended']",
         "Stemme": "['recommend']",
         "stopword": false,
         "_deepnote_index_column": 55
        },
        {
         "ID": 1,
         "Word": "the",
         "Lemme": "['the']",
         "Stemme": "['the']",
         "stopword": true,
         "_deepnote_index_column": 56
        },
        {
         "ID": 1,
         "Word": "picture",
         "Lemme": "['picture']",
         "Stemme": "['pictur']",
         "stopword": false,
         "_deepnote_index_column": 57
        },
        {
         "ID": 1,
         "Word": "below",
         "Lemme": "['below']",
         "Stemme": "['below']",
         "stopword": true,
         "_deepnote_index_column": 58
        },
        {
         "ID": 1,
         "Word": "is",
         "Lemme": "['is']",
         "Stemme": "['is']",
         "stopword": true,
         "_deepnote_index_column": 59
        },
        {
         "ID": 1,
         "Word": "on",
         "Lemme": "['on']",
         "Stemme": "['on']",
         "stopword": true,
         "_deepnote_index_column": 60
        },
        {
         "ID": 1,
         "Word": "a",
         "Lemme": "['a']",
         "Stemme": "['a']",
         "stopword": true,
         "_deepnote_index_column": 61
        },
        {
         "ID": 1,
         "Word": "stucco",
         "Lemme": "['stucco']",
         "Stemme": "['stucco']",
         "stopword": false,
         "_deepnote_index_column": 62
        },
        {
         "ID": 1,
         "Word": "exterior",
         "Lemme": "['exterior']",
         "Stemme": "['exterior']",
         "stopword": false,
         "_deepnote_index_column": 63
        },
        {
         "ID": 1,
         "Word": "wall",
         "Lemme": "['wall']",
         "Stemme": "['wall']",
         "stopword": false,
         "_deepnote_index_column": 64
        },
        {
         "ID": 1,
         "Word": "but",
         "Lemme": "['but']",
         "Stemme": "['but']",
         "stopword": true,
         "_deepnote_index_column": 65
        },
        {
         "ID": 1,
         "Word": "the",
         "Lemme": "['the']",
         "Stemme": "['the']",
         "stopword": true,
         "_deepnote_index_column": 66
        },
        {
         "ID": 1,
         "Word": "image",
         "Lemme": "['image']",
         "Stemme": "['imag']",
         "stopword": false,
         "_deepnote_index_column": 67
        },
        {
         "ID": 1,
         "Word": "still",
         "Lemme": "['still']",
         "Stemme": "['still']",
         "stopword": false,
         "_deepnote_index_column": 68
        },
        {
         "ID": 1,
         "Word": "looks",
         "Lemme": "['look']",
         "Stemme": "['look']",
         "stopword": false,
         "_deepnote_index_column": 69
        },
        {
         "ID": 1,
         "Word": "amazing",
         "Lemme": "['amazing']",
         "Stemme": "['amaz']",
         "stopword": false,
         "_deepnote_index_column": 70
        },
        {
         "ID": 2,
         "Word": "a",
         "Lemme": "['a']",
         "Stemme": "['a']",
         "stopword": true,
         "_deepnote_index_column": 71
        },
        {
         "ID": 2,
         "Word": "little",
         "Lemme": "['little']",
         "Stemme": "['littl']",
         "stopword": false,
         "_deepnote_index_column": 72
        },
        {
         "ID": 2,
         "Word": "projector",
         "Lemme": "['projector']",
         "Stemme": "['projector']",
         "stopword": false,
         "_deepnote_index_column": 73
        },
        {
         "ID": 2,
         "Word": "that",
         "Lemme": "['that']",
         "Stemme": "['that']",
         "stopword": true,
         "_deepnote_index_column": 74
        },
        {
         "ID": 2,
         "Word": "packs",
         "Lemme": "['pack']",
         "Stemme": "['pack']",
         "stopword": false,
         "_deepnote_index_column": 75
        },
        {
         "ID": 2,
         "Word": "a",
         "Lemme": "['a']",
         "Stemme": "['a']",
         "stopword": true,
         "_deepnote_index_column": 76
        },
        {
         "ID": 2,
         "Word": "punch",
         "Lemme": "['punch']",
         "Stemme": "['punch']",
         "stopword": false,
         "_deepnote_index_column": 77
        },
        {
         "ID": 2,
         "Word": "bought",
         "Lemme": "['bought']",
         "Stemme": "['bought']",
         "stopword": false,
         "_deepnote_index_column": 78
        },
        {
         "ID": 2,
         "Word": "this",
         "Lemme": "['this']",
         "Stemme": "['thi']",
         "stopword": true,
         "_deepnote_index_column": 79
        },
        {
         "ID": 2,
         "Word": "for",
         "Lemme": "['for']",
         "Stemme": "['for']",
         "stopword": true,
         "_deepnote_index_column": 80
        },
        {
         "ID": 2,
         "Word": "my",
         "Lemme": "['my']",
         "Stemme": "['my']",
         "stopword": true,
         "_deepnote_index_column": 81
        },
        {
         "ID": 2,
         "Word": "wife",
         "Lemme": "['wife']",
         "Stemme": "['wife']",
         "stopword": false,
         "_deepnote_index_column": 82
        },
        {
         "ID": 2,
         "Word": "for",
         "Lemme": "['for']",
         "Stemme": "['for']",
         "stopword": true,
         "_deepnote_index_column": 83
        },
        {
         "ID": 2,
         "Word": "her",
         "Lemme": "['her']",
         "Stemme": "['her']",
         "stopword": true,
         "_deepnote_index_column": 84
        },
        {
         "ID": 2,
         "Word": "birthday",
         "Lemme": "['birthday']",
         "Stemme": "['birthday']",
         "stopword": false,
         "_deepnote_index_column": 85
        },
        {
         "ID": 2,
         "Word": "she",
         "Lemme": "['she']",
         "Stemme": "['she']",
         "stopword": true,
         "_deepnote_index_column": 86
        },
        {
         "ID": 2,
         "Word": "wanted",
         "Lemme": "['wanted']",
         "Stemme": "['want']",
         "stopword": false,
         "_deepnote_index_column": 87
        },
        {
         "ID": 2,
         "Word": "a",
         "Lemme": "['a']",
         "Stemme": "['a']",
         "stopword": true,
         "_deepnote_index_column": 88
        },
        {
         "ID": 2,
         "Word": "projector",
         "Lemme": "['projector']",
         "Stemme": "['projector']",
         "stopword": false,
         "_deepnote_index_column": 89
        },
        {
         "ID": 2,
         "Word": "in",
         "Lemme": "['in']",
         "Stemme": "['in']",
         "stopword": true,
         "_deepnote_index_column": 90
        },
        {
         "ID": 2,
         "Word": "the",
         "Lemme": "['the']",
         "Stemme": "['the']",
         "stopword": true,
         "_deepnote_index_column": 91
        },
        {
         "ID": 2,
         "Word": "bedroom",
         "Lemme": "['bedroom']",
         "Stemme": "['bedroom']",
         "stopword": false,
         "_deepnote_index_column": 92
        },
        {
         "ID": 2,
         "Word": "to",
         "Lemme": "['to']",
         "Stemme": "['to']",
         "stopword": true,
         "_deepnote_index_column": 93
        },
        {
         "ID": 2,
         "Word": "cast",
         "Lemme": "['cast']",
         "Stemme": "['cast']",
         "stopword": false,
         "_deepnote_index_column": 94
        },
        {
         "ID": 2,
         "Word": "upon",
         "Lemme": "['upon']",
         "Stemme": "['upon']",
         "stopword": false,
         "_deepnote_index_column": 95
        },
        {
         "ID": 2,
         "Word": "the",
         "Lemme": "['the']",
         "Stemme": "['the']",
         "stopword": true,
         "_deepnote_index_column": 96
        },
        {
         "ID": 2,
         "Word": "ceiling",
         "Lemme": "['ceiling']",
         "Stemme": "['ceil']",
         "stopword": false,
         "_deepnote_index_column": 97
        },
        {
         "ID": 2,
         "Word": "i",
         "Lemme": "['i']",
         "Stemme": "['i']",
         "stopword": true,
         "_deepnote_index_column": 98
        },
        {
         "ID": 2,
         "Word": "was",
         "Lemme": "['wa']",
         "Stemme": "['wa']",
         "stopword": true,
         "_deepnote_index_column": 99
        }
       ],
       "rows_bottom": [
        {
         "ID": 1437,
         "Word": "the",
         "Lemme": "['the']",
         "Stemme": "['the']",
         "stopword": true,
         "_deepnote_index_column": 107271
        },
        {
         "ID": 1437,
         "Word": "price",
         "Lemme": "['price']",
         "Stemme": "['price']",
         "stopword": false,
         "_deepnote_index_column": 107272
        },
        {
         "ID": 1438,
         "Word": "not",
         "Lemme": "['not']",
         "Stemme": "['not']",
         "stopword": true,
         "_deepnote_index_column": 107273
        },
        {
         "ID": 1438,
         "Word": "working",
         "Lemme": "['working']",
         "Stemme": "['work']",
         "stopword": false,
         "_deepnote_index_column": 107274
        },
        {
         "ID": 1438,
         "Word": "with",
         "Lemme": "['with']",
         "Stemme": "['with']",
         "stopword": true,
         "_deepnote_index_column": 107275
        },
        {
         "ID": 1438,
         "Word": "its",
         "Lemme": "['it']",
         "Stemme": "['it']",
         "stopword": true,
         "_deepnote_index_column": 107276
        },
        {
         "ID": 1438,
         "Word": "own",
         "Lemme": "['own']",
         "Stemme": "['own']",
         "stopword": true,
         "_deepnote_index_column": 107277
        },
        {
         "ID": 1438,
         "Word": "twitch",
         "Lemme": "['twitch']",
         "Stemme": "['twitch']",
         "stopword": false,
         "_deepnote_index_column": 107278
        },
        {
         "ID": 1438,
         "Word": "app",
         "Lemme": "['app']",
         "Stemme": "['app']",
         "stopword": false,
         "_deepnote_index_column": 107279
        },
        {
         "ID": 1438,
         "Word": "upset",
         "Lemme": "['upset']",
         "Stemme": "['upset']",
         "stopword": false,
         "_deepnote_index_column": 107280
        },
        {
         "ID": 1438,
         "Word": "not",
         "Lemme": "['not']",
         "Stemme": "['not']",
         "stopword": true,
         "_deepnote_index_column": 107281
        },
        {
         "ID": 1438,
         "Word": "working",
         "Lemme": "['working']",
         "Stemme": "['work']",
         "stopword": false,
         "_deepnote_index_column": 107282
        },
        {
         "ID": 1438,
         "Word": "with",
         "Lemme": "['with']",
         "Stemme": "['with']",
         "stopword": true,
         "_deepnote_index_column": 107283
        },
        {
         "ID": 1438,
         "Word": "its",
         "Lemme": "['it']",
         "Stemme": "['it']",
         "stopword": true,
         "_deepnote_index_column": 107284
        },
        {
         "ID": 1438,
         "Word": "own",
         "Lemme": "['own']",
         "Stemme": "['own']",
         "stopword": true,
         "_deepnote_index_column": 107285
        },
        {
         "ID": 1438,
         "Word": "twitch",
         "Lemme": "['twitch']",
         "Stemme": "['twitch']",
         "stopword": false,
         "_deepnote_index_column": 107286
        },
        {
         "ID": 1438,
         "Word": "app",
         "Lemme": "['app']",
         "Stemme": "['app']",
         "stopword": false,
         "_deepnote_index_column": 107287
        },
        {
         "ID": 1438,
         "Word": "useless",
         "Lemme": "['useless']",
         "Stemme": "['useless']",
         "stopword": false,
         "_deepnote_index_column": 107288
        },
        {
         "ID": 1438,
         "Word": "for",
         "Lemme": "['for']",
         "Stemme": "['for']",
         "stopword": true,
         "_deepnote_index_column": 107289
        },
        {
         "ID": 1438,
         "Word": "me",
         "Lemme": "['me']",
         "Stemme": "['me']",
         "stopword": true,
         "_deepnote_index_column": 107290
        },
        {
         "ID": 1439,
         "Word": "poco",
         "Lemme": "['poco']",
         "Stemme": "['poco']",
         "stopword": false,
         "_deepnote_index_column": 107291
        },
        {
         "ID": 1439,
         "Word": "brillo",
         "Lemme": "['brillo']",
         "Stemme": "['brillo']",
         "stopword": false,
         "_deepnote_index_column": 107292
        },
        {
         "ID": 1439,
         "Word": "y",
         "Lemme": "['y']",
         "Stemme": "['y']",
         "stopword": true,
         "_deepnote_index_column": 107293
        },
        {
         "ID": 1439,
         "Word": "baja",
         "Lemme": "['baja']",
         "Stemme": "['baja']",
         "stopword": false,
         "_deepnote_index_column": 107294
        },
        {
         "ID": 1439,
         "Word": "resolución",
         "Lemme": "['resolución']",
         "Stemme": "['resolución']",
         "stopword": false,
         "_deepnote_index_column": 107295
        },
        {
         "ID": 1439,
         "Word": "no",
         "Lemme": "['no']",
         "Stemme": "['no']",
         "stopword": true,
         "_deepnote_index_column": 107296
        },
        {
         "ID": 1439,
         "Word": "tiene",
         "Lemme": "['tiene']",
         "Stemme": "['tien']",
         "stopword": false,
         "_deepnote_index_column": 107297
        },
        {
         "ID": 1439,
         "Word": "buen",
         "Lemme": "['buen']",
         "Stemme": "['buen']",
         "stopword": false,
         "_deepnote_index_column": 107298
        },
        {
         "ID": 1439,
         "Word": "brillo",
         "Lemme": "['brillo']",
         "Stemme": "['brillo']",
         "stopword": false,
         "_deepnote_index_column": 107299
        },
        {
         "ID": 1439,
         "Word": "no",
         "Lemme": "['no']",
         "Stemme": "['no']",
         "stopword": true,
         "_deepnote_index_column": 107300
        },
        {
         "ID": 1439,
         "Word": "sirve",
         "Lemme": "['sirve']",
         "Stemme": "['sirv']",
         "stopword": false,
         "_deepnote_index_column": 107301
        },
        {
         "ID": 1439,
         "Word": "para",
         "Lemme": "['para']",
         "Stemme": "['para']",
         "stopword": false,
         "_deepnote_index_column": 107302
        },
        {
         "ID": 1439,
         "Word": "jugar",
         "Lemme": "['jugar']",
         "Stemme": "['jugar']",
         "stopword": false,
         "_deepnote_index_column": 107303
        },
        {
         "ID": 1439,
         "Word": "play",
         "Lemme": "['play']",
         "Stemme": "['play']",
         "stopword": false,
         "_deepnote_index_column": 107304
        },
        {
         "ID": 1439,
         "Word": "station",
         "Lemme": "['station']",
         "Stemme": "['station']",
         "stopword": false,
         "_deepnote_index_column": 107305
        },
        {
         "ID": 1439,
         "Word": "porque",
         "Lemme": "['porque']",
         "Stemme": "['porqu']",
         "stopword": false,
         "_deepnote_index_column": 107306
        },
        {
         "ID": 1439,
         "Word": "se",
         "Lemme": "['se']",
         "Stemme": "['se']",
         "stopword": false,
         "_deepnote_index_column": 107307
        },
        {
         "ID": 1439,
         "Word": "nota",
         "Lemme": "['nota']",
         "Stemme": "['nota']",
         "stopword": false,
         "_deepnote_index_column": 107308
        },
        {
         "ID": 1439,
         "Word": "aunque",
         "Lemme": "['aunque']",
         "Stemme": "['aunqu']",
         "stopword": false,
         "_deepnote_index_column": 107309
        },
        {
         "ID": 1439,
         "Word": "leve",
         "Lemme": "['leve']",
         "Stemme": "['leve']",
         "stopword": false,
         "_deepnote_index_column": 107310
        },
        {
         "ID": 1439,
         "Word": "un",
         "Lemme": "['un']",
         "Stemme": "['un']",
         "stopword": false,
         "_deepnote_index_column": 107311
        },
        {
         "ID": 1439,
         "Word": "retraso",
         "Lemme": "['retraso']",
         "Stemme": "['retraso']",
         "stopword": false,
         "_deepnote_index_column": 107312
        },
        {
         "ID": 1439,
         "Word": "en",
         "Lemme": "['en']",
         "Stemme": "['en']",
         "stopword": false,
         "_deepnote_index_column": 107313
        },
        {
         "ID": 1439,
         "Word": "la",
         "Lemme": "['la']",
         "Stemme": "['la']",
         "stopword": false,
         "_deepnote_index_column": 107314
        },
        {
         "ID": 1439,
         "Word": "imagen",
         "Lemme": "['imagen']",
         "Stemme": "['imagen']",
         "stopword": false,
         "_deepnote_index_column": 107315
        },
        {
         "ID": 1439,
         "Word": "proyectada",
         "Lemme": "['proyectada']",
         "Stemme": "['proyectada']",
         "stopword": false,
         "_deepnote_index_column": 107316
        },
        {
         "ID": 1439,
         "Word": "además",
         "Lemme": "['además']",
         "Stemme": "['ademá']",
         "stopword": false,
         "_deepnote_index_column": 107317
        },
        {
         "ID": 1439,
         "Word": "que",
         "Lemme": "['que']",
         "Stemme": "['que']",
         "stopword": false,
         "_deepnote_index_column": 107318
        },
        {
         "ID": 1439,
         "Word": "no",
         "Lemme": "['no']",
         "Stemme": "['no']",
         "stopword": true,
         "_deepnote_index_column": 107319
        },
        {
         "ID": 1439,
         "Word": "tiene",
         "Lemme": "['tiene']",
         "Stemme": "['tien']",
         "stopword": false,
         "_deepnote_index_column": 107320
        },
        {
         "ID": 1439,
         "Word": "buena",
         "Lemme": "['buena']",
         "Stemme": "['buena']",
         "stopword": false,
         "_deepnote_index_column": 107321
        },
        {
         "ID": 1439,
         "Word": "iluminación",
         "Lemme": "['iluminación']",
         "Stemme": "['iluminación']",
         "stopword": false,
         "_deepnote_index_column": 107322
        },
        {
         "ID": 1439,
         "Word": "muy",
         "Lemme": "['muy']",
         "Stemme": "['muy']",
         "stopword": false,
         "_deepnote_index_column": 107323
        },
        {
         "ID": 1439,
         "Word": "caro",
         "Lemme": "['caro']",
         "Stemme": "['caro']",
         "stopword": false,
         "_deepnote_index_column": 107324
        },
        {
         "ID": 1439,
         "Word": "para",
         "Lemme": "['para']",
         "Stemme": "['para']",
         "stopword": false,
         "_deepnote_index_column": 107325
        },
        {
         "ID": 1439,
         "Word": "lo",
         "Lemme": "['lo']",
         "Stemme": "['lo']",
         "stopword": false,
         "_deepnote_index_column": 107326
        },
        {
         "ID": 1439,
         "Word": "que",
         "Lemme": "['que']",
         "Stemme": "['que']",
         "stopword": false,
         "_deepnote_index_column": 107327
        },
        {
         "ID": 1439,
         "Word": "ofrece",
         "Lemme": "['ofrece']",
         "Stemme": "['ofrec']",
         "stopword": false,
         "_deepnote_index_column": 107328
        },
        {
         "ID": 1439,
         "Word": "he",
         "Lemme": "['he']",
         "Stemme": "['he']",
         "stopword": true,
         "_deepnote_index_column": 107329
        },
        {
         "ID": 1439,
         "Word": "visto",
         "Lemme": "['visto']",
         "Stemme": "['visto']",
         "stopword": false,
         "_deepnote_index_column": 107330
        },
        {
         "ID": 1439,
         "Word": "otros",
         "Lemme": "['otros']",
         "Stemme": "['otro']",
         "stopword": false,
         "_deepnote_index_column": 107331
        },
        {
         "ID": 1439,
         "Word": "proyectores",
         "Lemme": "['proyectores']",
         "Stemme": "['proyector']",
         "stopword": false,
         "_deepnote_index_column": 107332
        },
        {
         "ID": 1439,
         "Word": "con",
         "Lemme": "['con']",
         "Stemme": "['con']",
         "stopword": false,
         "_deepnote_index_column": 107333
        },
        {
         "ID": 1439,
         "Word": "las",
         "Lemme": "['la']",
         "Stemme": "['la']",
         "stopword": false,
         "_deepnote_index_column": 107334
        },
        {
         "ID": 1439,
         "Word": "mismas",
         "Lemme": "['mismas']",
         "Stemme": "['misma']",
         "stopword": false,
         "_deepnote_index_column": 107335
        },
        {
         "ID": 1439,
         "Word": "o",
         "Lemme": "['o']",
         "Stemme": "['o']",
         "stopword": true,
         "_deepnote_index_column": 107336
        },
        {
         "ID": 1439,
         "Word": "parecidas",
         "Lemme": "['parecidas']",
         "Stemme": "['parecida']",
         "stopword": false,
         "_deepnote_index_column": 107337
        },
        {
         "ID": 1439,
         "Word": "características",
         "Lemme": "['características']",
         "Stemme": "['característica']",
         "stopword": false,
         "_deepnote_index_column": 107338
        },
        {
         "ID": 1439,
         "Word": "más",
         "Lemme": "['más']",
         "Stemme": "['má']",
         "stopword": false,
         "_deepnote_index_column": 107339
        },
        {
         "ID": 1439,
         "Word": "baratos",
         "Lemme": "['baratos']",
         "Stemme": "['barato']",
         "stopword": false,
         "_deepnote_index_column": 107340
        },
        {
         "ID": 1440,
         "Word": "badluck",
         "Lemme": "['badluck']",
         "Stemme": "['badluck']",
         "stopword": false,
         "_deepnote_index_column": 107341
        },
        {
         "ID": 1440,
         "Word": "one",
         "Lemme": "['one']",
         "Stemme": "['one']",
         "stopword": true,
         "_deepnote_index_column": 107342
        },
        {
         "ID": 1440,
         "Word": "day",
         "Lemme": "['day']",
         "Stemme": "['day']",
         "stopword": false,
         "_deepnote_index_column": 107343
        },
        {
         "ID": 1440,
         "Word": "the",
         "Lemme": "['the']",
         "Stemme": "['the']",
         "stopword": true,
         "_deepnote_index_column": 107344
        },
        {
         "ID": 1440,
         "Word": "nebula",
         "Lemme": "['nebula']",
         "Stemme": "['nebula']",
         "stopword": false,
         "_deepnote_index_column": 107345
        },
        {
         "ID": 1440,
         "Word": "get",
         "Lemme": "['get']",
         "Stemme": "['get']",
         "stopword": false,
         "_deepnote_index_column": 107346
        },
        {
         "ID": 1440,
         "Word": "heated",
         "Lemme": "['heated']",
         "Stemme": "['heat']",
         "stopword": false,
         "_deepnote_index_column": 107347
        },
        {
         "ID": 1440,
         "Word": "more",
         "Lemme": "['more']",
         "Stemme": "['more']",
         "stopword": true,
         "_deepnote_index_column": 107348
        },
        {
         "ID": 1440,
         "Word": "and",
         "Lemme": "['and']",
         "Stemme": "['and']",
         "stopword": true,
         "_deepnote_index_column": 107349
        },
        {
         "ID": 1440,
         "Word": "suddenly",
         "Lemme": "['suddenly']",
         "Stemme": "['suddenli']",
         "stopword": false,
         "_deepnote_index_column": 107350
        },
        {
         "ID": 1440,
         "Word": "the",
         "Lemme": "['the']",
         "Stemme": "['the']",
         "stopword": true,
         "_deepnote_index_column": 107351
        },
        {
         "ID": 1440,
         "Word": "bad",
         "Lemme": "['bad']",
         "Stemme": "['bad']",
         "stopword": false,
         "_deepnote_index_column": 107352
        },
        {
         "ID": 1440,
         "Word": "odour",
         "Lemme": "['odour']",
         "Stemme": "['odour']",
         "stopword": false,
         "_deepnote_index_column": 107353
        },
        {
         "ID": 1440,
         "Word": "smell",
         "Lemme": "['smell']",
         "Stemme": "['smell']",
         "stopword": false,
         "_deepnote_index_column": 107354
        },
        {
         "ID": 1440,
         "Word": "is",
         "Lemme": "['is']",
         "Stemme": "['is']",
         "stopword": true,
         "_deepnote_index_column": 107355
        },
        {
         "ID": 1440,
         "Word": "coming",
         "Lemme": "['coming']",
         "Stemme": "['come']",
         "stopword": false,
         "_deepnote_index_column": 107356
        },
        {
         "ID": 1440,
         "Word": "and",
         "Lemme": "['and']",
         "Stemme": "['and']",
         "stopword": true,
         "_deepnote_index_column": 107357
        },
        {
         "ID": 1440,
         "Word": "switched",
         "Lemme": "['switched']",
         "Stemme": "['switch']",
         "stopword": false,
         "_deepnote_index_column": 107358
        },
        {
         "ID": 1440,
         "Word": "off",
         "Lemme": "['off']",
         "Stemme": "['off']",
         "stopword": true,
         "_deepnote_index_column": 107359
        },
        {
         "ID": 1440,
         "Word": "i",
         "Lemme": "['i']",
         "Stemme": "['i']",
         "stopword": true,
         "_deepnote_index_column": 107360
        },
        {
         "ID": 1440,
         "Word": "lost",
         "Lemme": "['lost']",
         "Stemme": "['lost']",
         "stopword": false,
         "_deepnote_index_column": 107361
        },
        {
         "ID": 1440,
         "Word": "my",
         "Lemme": "['my']",
         "Stemme": "['my']",
         "stopword": true,
         "_deepnote_index_column": 107362
        },
        {
         "ID": 1440,
         "Word": "money",
         "Lemme": "['money']",
         "Stemme": "['money']",
         "stopword": false,
         "_deepnote_index_column": 107363
        },
        {
         "ID": 1441,
         "Word": "awsome",
         "Lemme": "['awsome']",
         "Stemme": "['awsom']",
         "stopword": false,
         "_deepnote_index_column": 107364
        },
        {
         "ID": 1441,
         "Word": "excellent",
         "Lemme": "['excellent']",
         "Stemme": "['excel']",
         "stopword": false,
         "_deepnote_index_column": 107365
        },
        {
         "ID": 1441,
         "Word": "services",
         "Lemme": "['service']",
         "Stemme": "['servic']",
         "stopword": false,
         "_deepnote_index_column": 107366
        },
        {
         "ID": 1441,
         "Word": "and",
         "Lemme": "['and']",
         "Stemme": "['and']",
         "stopword": true,
         "_deepnote_index_column": 107367
        },
        {
         "ID": 1441,
         "Word": "fast",
         "Lemme": "['fast']",
         "Stemme": "['fast']",
         "stopword": false,
         "_deepnote_index_column": 107368
        },
        {
         "ID": 1441,
         "Word": "turn",
         "Lemme": "['turn']",
         "Stemme": "['turn']",
         "stopword": false,
         "_deepnote_index_column": 107369
        },
        {
         "ID": 1441,
         "Word": "over",
         "Lemme": "['over']",
         "Stemme": "['over']",
         "stopword": true,
         "_deepnote_index_column": 107370
        }
       ]
      },
      "text/plain": "          ID       Word        Lemme       Stemme  stopword\n0          1      great      [great]      [great]     False\n1          1  projector  [projector]  [projector]     False\n2          1      great      [great]      [great]     False\n3          1       item       [item]       [item]     False\n4          1      worth      [worth]      [worth]     False\n...      ...        ...          ...          ...       ...\n107366  1441   services    [service]     [servic]     False\n107367  1441        and        [and]        [and]      True\n107368  1441       fast       [fast]       [fast]     False\n107369  1441       turn       [turn]       [turn]     False\n107370  1441       over       [over]       [over]      True\n\n[107371 rows x 5 columns]",
      "text/html": "<div>\n<style scoped>\n    .dataframe tbody tr th:only-of-type {\n        vertical-align: middle;\n    }\n\n    .dataframe tbody tr th {\n        vertical-align: top;\n    }\n\n    .dataframe thead th {\n        text-align: right;\n    }\n</style>\n<table border=\"1\" class=\"dataframe\">\n  <thead>\n    <tr style=\"text-align: right;\">\n      <th></th>\n      <th>ID</th>\n      <th>Word</th>\n      <th>Lemme</th>\n      <th>Stemme</th>\n      <th>stopword</th>\n    </tr>\n  </thead>\n  <tbody>\n    <tr>\n      <th>0</th>\n      <td>1</td>\n      <td>great</td>\n      <td>[great]</td>\n      <td>[great]</td>\n      <td>False</td>\n    </tr>\n    <tr>\n      <th>1</th>\n      <td>1</td>\n      <td>projector</td>\n      <td>[projector]</td>\n      <td>[projector]</td>\n      <td>False</td>\n    </tr>\n    <tr>\n      <th>2</th>\n      <td>1</td>\n      <td>great</td>\n      <td>[great]</td>\n      <td>[great]</td>\n      <td>False</td>\n    </tr>\n    <tr>\n      <th>3</th>\n      <td>1</td>\n      <td>item</td>\n      <td>[item]</td>\n      <td>[item]</td>\n      <td>False</td>\n    </tr>\n    <tr>\n      <th>4</th>\n      <td>1</td>\n      <td>worth</td>\n      <td>[worth]</td>\n      <td>[worth]</td>\n      <td>False</td>\n    </tr>\n    <tr>\n      <th>...</th>\n      <td>...</td>\n      <td>...</td>\n      <td>...</td>\n      <td>...</td>\n      <td>...</td>\n    </tr>\n    <tr>\n      <th>107366</th>\n      <td>1441</td>\n      <td>services</td>\n      <td>[service]</td>\n      <td>[servic]</td>\n      <td>False</td>\n    </tr>\n    <tr>\n      <th>107367</th>\n      <td>1441</td>\n      <td>and</td>\n      <td>[and]</td>\n      <td>[and]</td>\n      <td>True</td>\n    </tr>\n    <tr>\n      <th>107368</th>\n      <td>1441</td>\n      <td>fast</td>\n      <td>[fast]</td>\n      <td>[fast]</td>\n      <td>False</td>\n    </tr>\n    <tr>\n      <th>107369</th>\n      <td>1441</td>\n      <td>turn</td>\n      <td>[turn]</td>\n      <td>[turn]</td>\n      <td>False</td>\n    </tr>\n    <tr>\n      <th>107370</th>\n      <td>1441</td>\n      <td>over</td>\n      <td>[over]</td>\n      <td>[over]</td>\n      <td>True</td>\n    </tr>\n  </tbody>\n</table>\n<p>107371 rows × 5 columns</p>\n</div>"
     },
     "metadata": {}
    }
   ]
  },
  {
   "cell_type": "code",
   "metadata": {
    "tags": [],
    "cell_id": "00025-0ee617e1-09a7-4e20-baf4-ff1a06e4bd08",
    "deepnote_to_be_reexecuted": false,
    "source_hash": "2fa6f60",
    "execution_start": 1637538965548,
    "execution_millis": 30,
    "deepnote_app_coordinates": {
     "x": 0,
     "y": 123,
     "w": 12,
     "h": 5
    },
    "deepnote_cell_type": "code"
   },
   "source": "new_df[new_df['ID']==41]",
   "execution_count": null,
   "outputs": [
    {
     "output_type": "execute_result",
     "execution_count": 10,
     "data": {
      "application/vnd.deepnote.dataframe.v2+json": {
       "row_count": 11,
       "column_count": 5,
       "columns": [
        {
         "name": "ID",
         "dtype": "int64",
         "stats": {
          "unique_count": 1,
          "nan_count": 0,
          "min": "41",
          "max": "41",
          "histogram": [
           {
            "bin_start": 40.5,
            "bin_end": 40.6,
            "count": 0
           },
           {
            "bin_start": 40.6,
            "bin_end": 40.7,
            "count": 0
           },
           {
            "bin_start": 40.7,
            "bin_end": 40.8,
            "count": 0
           },
           {
            "bin_start": 40.8,
            "bin_end": 40.9,
            "count": 0
           },
           {
            "bin_start": 40.9,
            "bin_end": 41,
            "count": 0
           },
           {
            "bin_start": 41,
            "bin_end": 41.1,
            "count": 11
           },
           {
            "bin_start": 41.1,
            "bin_end": 41.2,
            "count": 0
           },
           {
            "bin_start": 41.2,
            "bin_end": 41.3,
            "count": 0
           },
           {
            "bin_start": 41.3,
            "bin_end": 41.4,
            "count": 0
           },
           {
            "bin_start": 41.4,
            "bin_end": 41.5,
            "count": 0
           }
          ]
         }
        },
        {
         "name": "Word",
         "dtype": "object",
         "stats": {
          "unique_count": 8,
          "nan_count": 0,
          "categories": [
           {
            "name": "it",
            "count": 3
           },
           {
            "name": "love",
            "count": 2
           },
           {
            "name": "6 others",
            "count": 6
           }
          ]
         }
        },
        {
         "name": "Lemme",
         "dtype": "object",
         "stats": {
          "unique_count": 11,
          "nan_count": 0,
          "categories": [
           {
            "name": "['it']",
            "count": 3
           },
           {
            "name": "['love']",
            "count": 2
           },
           {
            "name": "6 others",
            "count": 6
           }
          ]
         }
        },
        {
         "name": "Stemme",
         "dtype": "object",
         "stats": {
          "unique_count": 11,
          "nan_count": 0,
          "categories": [
           {
            "name": "['it']",
            "count": 3
           },
           {
            "name": "['love']",
            "count": 2
           },
           {
            "name": "6 others",
            "count": 6
           }
          ]
         }
        },
        {
         "name": "stopword",
         "dtype": "bool",
         "stats": {
          "unique_count": 2,
          "nan_count": 0,
          "categories": [
           {
            "name": "True",
            "count": 6
           },
           {
            "name": "False",
            "count": 5
           }
          ]
         }
        },
        {
         "name": "_deepnote_index_column",
         "dtype": "int64"
        }
       ],
       "rows_top": [
        {
         "ID": 41,
         "Word": "love",
         "Lemme": "['love']",
         "Stemme": "['love']",
         "stopword": false,
         "_deepnote_index_column": 3450
        },
        {
         "ID": 41,
         "Word": "it",
         "Lemme": "['it']",
         "Stemme": "['it']",
         "stopword": true,
         "_deepnote_index_column": 3451
        },
        {
         "ID": 41,
         "Word": "it",
         "Lemme": "['it']",
         "Stemme": "['it']",
         "stopword": true,
         "_deepnote_index_column": 3452
        },
        {
         "ID": 41,
         "Word": "is",
         "Lemme": "['is']",
         "Stemme": "['is']",
         "stopword": true,
         "_deepnote_index_column": 3453
        },
        {
         "ID": 41,
         "Word": "difficult",
         "Lemme": "['difficult']",
         "Stemme": "['difficult']",
         "stopword": false,
         "_deepnote_index_column": 3454
        },
        {
         "ID": 41,
         "Word": "to",
         "Lemme": "['to']",
         "Stemme": "['to']",
         "stopword": true,
         "_deepnote_index_column": 3455
        },
        {
         "ID": 41,
         "Word": "add",
         "Lemme": "['add']",
         "Stemme": "['add']",
         "stopword": false,
         "_deepnote_index_column": 3456
        },
        {
         "ID": 41,
         "Word": "apps",
         "Lemme": "['apps']",
         "Stemme": "['app']",
         "stopword": false,
         "_deepnote_index_column": 3457
        },
        {
         "ID": 41,
         "Word": "but",
         "Lemme": "['but']",
         "Stemme": "['but']",
         "stopword": true,
         "_deepnote_index_column": 3458
        },
        {
         "ID": 41,
         "Word": "love",
         "Lemme": "['love']",
         "Stemme": "['love']",
         "stopword": false,
         "_deepnote_index_column": 3459
        },
        {
         "ID": 41,
         "Word": "it",
         "Lemme": "['it']",
         "Stemme": "['it']",
         "stopword": true,
         "_deepnote_index_column": 3460
        }
       ],
       "rows_bottom": null
      },
      "text/plain": "      ID       Word        Lemme       Stemme  stopword\n3450  41       love       [love]       [love]     False\n3451  41         it         [it]         [it]      True\n3452  41         it         [it]         [it]      True\n3453  41         is         [is]         [is]      True\n3454  41  difficult  [difficult]  [difficult]     False\n3455  41         to         [to]         [to]      True\n3456  41        add        [add]        [add]     False\n3457  41       apps       [apps]        [app]     False\n3458  41        but        [but]        [but]      True\n3459  41       love       [love]       [love]     False\n3460  41         it         [it]         [it]      True",
      "text/html": "<div>\n<style scoped>\n    .dataframe tbody tr th:only-of-type {\n        vertical-align: middle;\n    }\n\n    .dataframe tbody tr th {\n        vertical-align: top;\n    }\n\n    .dataframe thead th {\n        text-align: right;\n    }\n</style>\n<table border=\"1\" class=\"dataframe\">\n  <thead>\n    <tr style=\"text-align: right;\">\n      <th></th>\n      <th>ID</th>\n      <th>Word</th>\n      <th>Lemme</th>\n      <th>Stemme</th>\n      <th>stopword</th>\n    </tr>\n  </thead>\n  <tbody>\n    <tr>\n      <th>3450</th>\n      <td>41</td>\n      <td>love</td>\n      <td>[love]</td>\n      <td>[love]</td>\n      <td>False</td>\n    </tr>\n    <tr>\n      <th>3451</th>\n      <td>41</td>\n      <td>it</td>\n      <td>[it]</td>\n      <td>[it]</td>\n      <td>True</td>\n    </tr>\n    <tr>\n      <th>3452</th>\n      <td>41</td>\n      <td>it</td>\n      <td>[it]</td>\n      <td>[it]</td>\n      <td>True</td>\n    </tr>\n    <tr>\n      <th>3453</th>\n      <td>41</td>\n      <td>is</td>\n      <td>[is]</td>\n      <td>[is]</td>\n      <td>True</td>\n    </tr>\n    <tr>\n      <th>3454</th>\n      <td>41</td>\n      <td>difficult</td>\n      <td>[difficult]</td>\n      <td>[difficult]</td>\n      <td>False</td>\n    </tr>\n    <tr>\n      <th>3455</th>\n      <td>41</td>\n      <td>to</td>\n      <td>[to]</td>\n      <td>[to]</td>\n      <td>True</td>\n    </tr>\n    <tr>\n      <th>3456</th>\n      <td>41</td>\n      <td>add</td>\n      <td>[add]</td>\n      <td>[add]</td>\n      <td>False</td>\n    </tr>\n    <tr>\n      <th>3457</th>\n      <td>41</td>\n      <td>apps</td>\n      <td>[apps]</td>\n      <td>[app]</td>\n      <td>False</td>\n    </tr>\n    <tr>\n      <th>3458</th>\n      <td>41</td>\n      <td>but</td>\n      <td>[but]</td>\n      <td>[but]</td>\n      <td>True</td>\n    </tr>\n    <tr>\n      <th>3459</th>\n      <td>41</td>\n      <td>love</td>\n      <td>[love]</td>\n      <td>[love]</td>\n      <td>False</td>\n    </tr>\n    <tr>\n      <th>3460</th>\n      <td>41</td>\n      <td>it</td>\n      <td>[it]</td>\n      <td>[it]</td>\n      <td>True</td>\n    </tr>\n  </tbody>\n</table>\n</div>"
     },
     "metadata": {}
    }
   ]
  },
  {
   "cell_type": "code",
   "metadata": {
    "tags": [],
    "cell_id": "00025-8203293a-cb8f-4ffd-bc6f-b3dc392ca54f",
    "deepnote_to_be_reexecuted": false,
    "source_hash": "a48d7b53",
    "execution_start": 1637538965578,
    "execution_millis": 357,
    "deepnote_app_coordinates": {
     "x": 0,
     "y": 129,
     "w": 12,
     "h": 5
    },
    "deepnote_cell_type": "code"
   },
   "source": "#2021/10/17\nnew_df.to_csv('Preprocessing.csv',encoding='utf-8-sig')",
   "execution_count": null,
   "outputs": []
  },
  {
   "cell_type": "markdown",
   "source": "<a style='text-decoration:none;line-height:16px;display:flex;color:#5B5B62;padding:10px;justify-content:end;' href='https://deepnote.com?utm_source=created-in-deepnote-cell&projectId=22d1188b-dbee-4618-bda5-79d4ace33c29' target=\"_blank\">\n<img alt='Created in deepnote.com' style='display:inline;max-height:16px;margin:0px;margin-right:7.5px;' src='data:image/svg+xml;base64,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' > </img>\nCreated in <span style='font-weight:600;margin-left:4px;'>Deepnote</span></a>",
   "metadata": {
    "tags": [],
    "created_in_deepnote_cell": true,
    "deepnote_cell_type": "markdown"
   }
  }
 ],
 "nbformat": 4,
 "nbformat_minor": 2,
 "metadata": {
  "orig_nbformat": 2,
  "deepnote": {
   "is_reactive": false
  },
  "deepnote_notebook_id": "4a947d96-3084-4603-972c-38ab2b63480c",
  "deepnote_execution_queue": [],
  "deepnote_app_layout": "article"
 }
}