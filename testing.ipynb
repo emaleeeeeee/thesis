{
 "cells": [
  {
   "cell_type": "markdown",
   "source": "# Notebook: Subject extraction",
   "metadata": {
    "tags": [],
    "cell_id": "00000-9dd5a4d9-0b44-4b4f-b9c0-c431bb37e245",
    "deepnote_cell_type": "markdown"
   }
  },
  {
   "cell_type": "markdown",
   "source": "## 1. Import Libraries",
   "metadata": {
    "tags": [],
    "cell_id": "00001-f3381bbf-4315-4de8-b417-9b2332ea4fc4",
    "deepnote_cell_type": "markdown"
   }
  },
  {
   "cell_type": "markdown",
   "source": "To use our coding example, we will use the libraries :\n- **nltk**: state-of-the art library for NLP analysis (https://github.com/nltk/nltk)\n- **stanza**: famous NLP library made by the university of Stanford for NLP analysis (https://github.com/stanfordnlp/stanza)\n- **rake_nltk**: a Python implementation of the RAKE algorithm using the NLTK library (https://github.com/csurfer/rake-nltk)",
   "metadata": {
    "tags": [],
    "cell_id": "00002-5bb46242-f5ea-48d3-9059-6f306abc2c83",
    "deepnote_cell_type": "markdown"
   }
  },
  {
   "cell_type": "code",
   "metadata": {
    "id": "eh-g6l6XLsqk",
    "cell_id": "00000-5fcb9dfb-0171-449b-934b-a4c9c67c68c3",
    "deepnote_to_be_reexecuted": false,
    "source_hash": "a5e38a29",
    "execution_start": 1634443801673,
    "execution_millis": 3,
    "deepnote_cell_type": "code"
   },
   "source": "import pandas as pd\nimport numpy as np\nfrom pandas.core.frame import DataFrame\nimport re\nimport strin",
   "outputs": [],
   "execution_count": null
  },
  {
   "cell_type": "code",
   "metadata": {
    "colab": {
     "base_uri": "https://localhost:8080/"
    },
    "id": "cGEETCuCLsqo",
    "outputId": "25f80948-9fc0-4302-ef6f-1a8b79af4e7a",
    "cell_id": "00001-11453835-bdd8-45e9-a241-83be8441c6ed",
    "deepnote_to_be_reexecuted": false,
    "source_hash": "b4a628e1",
    "execution_start": 1634430417303,
    "execution_millis": 1522,
    "deepnote_cell_type": "code"
   },
   "source": "import nltk\nnltk.download('punkt')\nnltk.download('stopwords')\nnltk.download('averaged_perceptron_tagger')\nnltk.download('wordnet')\nfrom nltk.corpus import stopwords\nfrom nltk.corpus import wordnet\nfrom nltk.tokenize import word_tokenize, sent_tokenize\nfrom nltk import tokenize,WordNetLemmatizer, PorterStemmer\nfrom nltk.stem.wordnet import WordNetLemmatizer\nfrom nltk.stem import PorterStemmer\nfrom string import punctuation",
   "outputs": [
    {
     "name": "stderr",
     "text": "[nltk_data] Downloading package punkt to /root/nltk_data...\n[nltk_data]   Package punkt is already up-to-date!\n[nltk_data] Downloading package stopwords to /root/nltk_data...\n[nltk_data]   Package stopwords is already up-to-date!\n[nltk_data] Downloading package averaged_perceptron_tagger to\n[nltk_data]     /root/nltk_data...\n[nltk_data]   Package averaged_perceptron_tagger is already up-to-\n[nltk_data]       date!\n[nltk_data] Downloading package wordnet to /root/nltk_data...\n[nltk_data]   Package wordnet is already up-to-date!\n",
     "output_type": "stream"
    }
   ],
   "execution_count": null
  },
  {
   "cell_type": "markdown",
   "source": "## 2. Read the Data",
   "metadata": {
    "tags": [],
    "cell_id": "00005-9c3b29f0-0730-41ad-8dee-1f72b4a8e066",
    "deepnote_cell_type": "markdown"
   }
  },
  {
   "cell_type": "code",
   "metadata": {
    "colab": {
     "base_uri": "https://localhost:8080/",
     "height": 419
    },
    "id": "PT39vPD0L69d",
    "outputId": "7141dc45-b405-426b-e5e8-f2a51d85bbc7",
    "cell_id": "00002-461cd230-4f8e-4395-b429-13517f3d3cbb",
    "deepnote_to_be_reexecuted": false,
    "source_hash": "bc1953f2",
    "execution_start": 1634430858193,
    "execution_millis": 118,
    "deepnote_cell_type": "code"
   },
   "source": "df= pd.read_csv('https://raw.githubusercontent.com/emaleeeeeee/new_df/main/new_df.csv')\ndf = df[['Title','Review']]\ndf\n",
   "outputs": [
    {
     "output_type": "execute_result",
     "execution_count": 15,
     "data": {
      "application/vnd.deepnote.dataframe.v2+json": {
       "row_count": 294,
       "column_count": 2,
       "columns": [
        {
         "name": "Title",
         "dtype": "object",
         "stats": {
          "unique_count": 285,
          "nan_count": 0,
          "categories": [
           {
            "name": "Two Stars",
            "count": 4
           },
           {
            "name": "not good",
            "count": 3
           },
           {
            "name": "283 others",
            "count": 287
           }
          ]
         }
        },
        {
         "name": "Review",
         "dtype": "object",
         "stats": {
          "unique_count": 291,
          "nan_count": 3,
          "categories": [
           {
            "name": "Have you checked out their ‘Privacy Policy’?They can (will?):“Collect and store” information on “your search queries, IP addresses, hardware settings, browser type, browser language, the date and time of your request, referral URL, and certain cookies that identify your browser or Account.”Imbedded web beacons allow their servers certain types of information from your Phone/computer/tablet and to read “when you opened an email message”Their cookies “May contain information about Device (Device is your phone/computer/tablet) , including “user settings, browsing history, and activities conducted while using the Services.”And, if you live in California like me they also “do not commit to honoring \"Do Not Track\" signals in your browser.”Their definition of Content means any “information, text, graphics, written posts, executive files..,” and “other information matetials generated, provided, uploaded, downloaded, appearing or otherwise accessible on or through Nebula”.  So, everything?Their Privacy Policy also contradicts their Terms in places.Their Terms indicate:They’ll collect “the counts of opening certain application”. Not theirs, ‘certain’.They’ll collect information on your phone/computer/tablet such as hardware and software versions and ‘so on’”.  So on?It’s s great product - super cool packaging, great display, solid interface.  But I’m going to return it.  It’s like getting a manicure and them rifling through my purse while they do it.  Ultimately, it doesn’t matter how sparkly my nails turn out...",
            "count": 1
           },
           {
            "name": "290 others",
            "count": 290
           },
           {
            "name": "Missing",
            "count": 3
           }
          ]
         }
        },
        {
         "name": "_deepnote_index_column",
         "dtype": "int64"
        }
       ],
       "rows_top": [
        {
         "Title": "Read their Privacy Policy. They’re intrusive!",
         "Review": "Have you checked out their ‘Privacy Policy’?They can (will?):“Collect and store” information on “yo…",
         "_deepnote_index_column": 0
        },
        {
         "Title": "Great hardware, but software doesn't work.  Do not buy unless you want to project from HDMI source …",
         "Review": "I very rarely write reviews on Amazon, but I feel compelled to write a review for this product beca…",
         "_deepnote_index_column": 1
        },
        {
         "Title": "I’m keeping it, but...",
         "Review": "The stripped-down version of Android is a real bummer, I must say. Kills the potential of this proj…",
         "_deepnote_index_column": 2
        },
        {
         "Title": "Lies",
         "Review": "Who reviewed this POS and gave it 5 stars?1. Bluetooth doesn’t stay pair to outside speakers.2. Sou…",
         "_deepnote_index_column": 3
        },
        {
         "Title": "It doesn’t work on most formats.",
         "Review": "The projector will play Netflix off it’s native application using your phone as a hotspot.The proje…",
         "_deepnote_index_column": 4
        },
        {
         "Title": "Needs to be brighter",
         "Review": "I got this projector due to being compact and having built in speaker.  The con is that you can onl…",
         "_deepnote_index_column": 5
        },
        {
         "Title": "2 weeks, 7 etc support calls and  $76 worth of hdmi cables and connectors but still doesn’t work.",
         "Review": "Mine had a ton of problems. I called customer support about 5 times and ultimately couldn’t get it …",
         "_deepnote_index_column": 6
        },
        {
         "Title": "A Good Attempt but Needs Improvement",
         "Review": "I purchased the Nebula Capsule Smart Mini Projector as a gift so I can not review it for long term …",
         "_deepnote_index_column": 7
        },
        {
         "Title": "Lovely outside, but the guts on this unit leaves something to be desired.",
         "Review": "Out of the box the unit itself is a solid piece of hardware, well constructed, metal grill over the…",
         "_deepnote_index_column": 8
        },
        {
         "Title": "No Longevity. Sporadic functionality",
         "Review": "It's been about a month since purchase. My intent with this device was for long usages. Not just a …",
         "_deepnote_index_column": 9
        },
        {
         "Title": "It must be unlocked...",
         "Review": "It is locked so none of the apps work. You can not even sign into Youtube. Lol!  You can not even s…",
         "_deepnote_index_column": 10
        },
        {
         "Title": "Almost love it. Not worth the price.",
         "Review": "This was so expensive, $300. So I was hoping it would be everything I was hoping for. i mean, its d…",
         "_deepnote_index_column": 11
        },
        {
         "Title": "Terrible Software and Barely Usable!!",
         "Review": "I was really excited for this to show up with the NFL Championship games coming up this weekend. I …",
         "_deepnote_index_column": 12
        },
        {
         "Title": "Mala resolucion en salas iluminadas",
         "Review": "Mala resolucion en salas iluminadasLa resolucion en salas iluminadas es mala, no se ve practicament…",
         "_deepnote_index_column": 13
        },
        {
         "Title": "It doesn't work",
         "Review": "Horrible product. Doesn't connect to Netflix. It started out playing Netflix and was great, then su…",
         "_deepnote_index_column": 14
        },
        {
         "Title": "Does not work well with Airplay for iPad",
         "Review": "I bought this projector because I wanted to use it in my classroom to airplay from my iPad. I thoug…",
         "_deepnote_index_column": 15
        },
        {
         "Title": "Not what you think",
         "Review": "If you’re a teacher or a businessman then this will be just fineBut if you just want to connect to …",
         "_deepnote_index_column": 16
        },
        {
         "Title": "Was probably a great purchase in 2018, but there are better options for price in 2021",
         "Review": "This projector is really cool looking. It's really easy to use and connect via HDMI or the app. It'…",
         "_deepnote_index_column": 17
        },
        {
         "Title": "Just ok not great",
         "Review": "I wanted to like this mini projector so much but i just can't. So first of all you can't mirror mov…",
         "_deepnote_index_column": 18
        },
        {
         "Title": "Not worth the money",
         "Review": "1. They’ve lowered the price on this item the day I received it in the mail. Since Amazon won’t do …",
         "_deepnote_index_column": 19
        },
        {
         "Title": "Look elsewhere not very bright and blurry edges",
         "Review": "The picture is horrible at 100 inches. You either get clean edges and horrible center picture or ho…",
         "_deepnote_index_column": 20
        },
        {
         "Title": "Disappointed and underwhelmed",
         "Review": "I wanted to like it and keep it, I really did. I kept trying to convince myself that the picture qu…",
         "_deepnote_index_column": 21
        },
        {
         "Title": "Expensive, Bad Navigation, No Display Resizing.",
         "Review": "It’s packaged and looks great. However, the remote navigation (or app) is horrible. For the price w…",
         "_deepnote_index_column": 22
        },
        {
         "Title": "over priced and poor quality",
         "Review": "It has its pros and cons. I like the portable easy to use feel. Easy charging. It works well. I was…",
         "_deepnote_index_column": 23
        },
        {
         "Title": "Great small projector",
         "Review": "I don’t even know where to start. I’ve read a lot of reviews in this and other products like it. So…",
         "_deepnote_index_column": 24
        },
        {
         "Title": "Utter disappointment and waste of money, buy a cheap one this one runs like it",
         "Review": "Spent nearly $300 hoping for a smart protector with Bluetooth capabilities that can play streaming …",
         "_deepnote_index_column": 25
        },
        {
         "Title": "Brightness and Windows Projection Not Great",
         "Review": "I bought this last year more as a gadget at a reasonable price than a real need.  Form factor, oper…",
         "_deepnote_index_column": 26
        },
        {
         "Title": "NO AUDIO OUT!!!",
         "Review": "This is the nicest picture I’ve ever seen from a small projector. Virtually everything about its fu…",
         "_deepnote_index_column": 27
        },
        {
         "Title": "Youtube sign in tip/trick",
         "Review": "I was absolutely shocked at the top tier quality of this product. The fact that I can use this in a…",
         "_deepnote_index_column": 28
        },
        {
         "Title": "DO NOT DO IT, misleading reviews",
         "Review": "Its honesty so bad. I never leave reviews but I am so bothered by the amount of good reviews I had …",
         "_deepnote_index_column": 29
        },
        {
         "Title": "Video isn't that sharp, 420p, but rest is good",
         "Review": "Things I dislike about it1. The video isn't that sharp - this is probably the main reason why I wou…",
         "_deepnote_index_column": 30
        },
        {
         "Title": "Does the job, but was expecting more",
         "Review": "I don't know, but for the money I spent on this unit was expecting more. My main complain is the so…",
         "_deepnote_index_column": 31
        },
        {
         "Title": "Compared to others at the same price point, disappointed.",
         "Review": "I had high hopes for this as it is such a cool concept. But the brightness and the clarity is not w…",
         "_deepnote_index_column": 32
        },
        {
         "Title": "Doesn't really screen mirror.",
         "Review": "I cant screen mirror anything....its so dumb, I can watch it on my phone becasue I have netflix, Am…",
         "_deepnote_index_column": 33
        },
        {
         "Title": "Many many reasons to move on - this sucks",
         "Review": "This totally sucks.1) it’s dim as heck2) you can’t opt to leave the cord in charging - you have to …",
         "_deepnote_index_column": 34
        },
        {
         "Title": "Be prepared to never actually watch anything on it.",
         "Review": "Be prepared to never be able to watch anything on it. As a device it’s awesome; quiet, portable etc…",
         "_deepnote_index_column": 35
        },
        {
         "Title": "Awful device that does not work",
         "Review": "This is a complete waste of money. If I could return it I would.The sound quality is awful, but I c…",
         "_deepnote_index_column": 36
        },
        {
         "Title": "Low quality item. Died after 22 months with very light usage.",
         "Review": "It was great while it lasted but clearly not a quality item as it shouldn't have stopped working in…",
         "_deepnote_index_column": 37
        },
        {
         "Title": "More looks than longevity, buy the extended warranty",
         "Review": "I had and was well entertained by this projector for 1 yr 8 months, then it went haywire it stays o…",
         "_deepnote_index_column": 38
        },
        {
         "Title": "Great video but very disappointing",
         "Review": "At first this little projector impressed me so much. It has android built into so you can stream Ne…",
         "_deepnote_index_column": 39
        },
        {
         "Title": "The product picture quality is bad",
         "Review": "The sound quality is good but The picture quality is very bad as the images projected images are no…",
         "_deepnote_index_column": 40
        },
        {
         "Title": "Expensive toy. Not much application for it.",
         "Review": "It's not a terrible product, but for the price, I just feel like it's a waste of money. The image t…",
         "_deepnote_index_column": 41
        },
        {
         "Title": "A complete mess filled with issues, not worth price.",
         "Review": "Product has a ton of issues. Many of the apps on the store have a lot of bugs & issues that are nev…",
         "_deepnote_index_column": 42
        },
        {
         "Title": "Disappointed by selling used item",
         "Review": "I will be returning this item. Although i love ankers products, they sent me a refurbished or used …",
         "_deepnote_index_column": 43
        },
        {
         "Title": "Well manufactured, disappointing audio",
         "Review": "The Capsule is an impressive product straight out of the box, in fact the packaging is very impress…",
         "_deepnote_index_column": 44
        },
        {
         "Title": "I got original version and not the Capsule II",
         "Review": "I was expecting the Nebula Capsule II since I ordered it January 2019. What I got is the original v…",
         "_deepnote_index_column": 45
        },
        {
         "Title": "Apple compatibility lacking",
         "Review": "Bought and read the reviews dating is android based but really hoped for more.Can access some apps …",
         "_deepnote_index_column": 46
        },
        {
         "Title": "Dont Buy This Product",
         "Review": "Do not buy this. You will not get what is showcased in the ad. In my case 3 items were missing and …",
         "_deepnote_index_column": 47
        },
        {
         "Title": "Cool idea, great design, bad execution.",
         "Review": "We debated keeping the device, it looked cool, solid, great design, picture quality was great but t…",
         "_deepnote_index_column": 48
        },
        {
         "Title": "Garbage.",
         "Review": "I will be returning this tomorrow. It’s bad enough that it is too dim to watch outside at dusk, and…",
         "_deepnote_index_column": 49
        },
        {
         "Title": "Great size, terrible software and connection ports lacking",
         "Review": "This seems like the perfect projector size and price, but the software bus terrible. You end up hav…",
         "_deepnote_index_column": 50
        },
        {
         "Title": "Send me my money back please",
         "Review": "It was cool...did everything I needed until it didnt. Delivered to me on March 18th, stopped workin…",
         "_deepnote_index_column": 51
        },
        {
         "Title": "Save your money. DO NOT BUY THIS JUNK",
         "Review": "I like the item itself but the one huge problem for me is the same that many users complained about…",
         "_deepnote_index_column": 52
        },
        {
         "Title": "Not as described",
         "Review": "I bought this product because for a outside viewing of movies for my kids and there friends. the sc…",
         "_deepnote_index_column": 53
        },
        {
         "Title": "It’s is a toy",
         "Review": "Think of this more a novelty toy. I bought this for my basement and even in the pitch black the ima…",
         "_deepnote_index_column": 54
        },
        {
         "Title": "Very dim",
         "Review": "Some pros:- built in wifi and smart functions- variety of options- auto keystone (only vertical tho…",
         "_deepnote_index_column": 55
        },
        {
         "Title": "Stops working after about a year",
         "Review": "Worked fine for about a year, but started getting power issues until it just kept turning off and d…",
         "_deepnote_index_column": 56
        },
        {
         "Title": "Not very bright, but good in dark room",
         "Review": "I was a little disappointed in this projector, but I will keep it.Cons:1) Picture isn't very bright…",
         "_deepnote_index_column": 57
        },
        {
         "Title": "High hopes, but disappointed. Limiting hardware and software.",
         "Review": "What’s the point of “portable” if you need wifi to watch Netflix? I was hoping to take it camping, …",
         "_deepnote_index_column": 58
        },
        {
         "Title": "Not good enough",
         "Review": "- Remote control doesn’t work.- The software is uber clunky.- Arrived already opened, battery and l…",
         "_deepnote_index_column": 59
        },
        {
         "Title": "Solid performance, limited apps",
         "Review": "Limited options in terms of apps. Projector performs well, but it would it would be better if it su…",
         "_deepnote_index_column": 60
        },
        {
         "Title": "Limited capabilities",
         "Review": "I can't get it to connect to any HDMI I plug into it. I really want to use it for my Switch. I knew…",
         "_deepnote_index_column": 61
        },
        {
         "Title": "Not Happy",
         "Review": "Couple things:1. This is NOT bright enough to be used outside.2. I cannot get the APP to work on my…",
         "_deepnote_index_column": 62
        },
        {
         "Title": "Okay...but photos are deceiving",
         "Review": "So we tried the Nebula Capsule...first off, the picture on the box shows the projector being used o…",
         "_deepnote_index_column": 63
        },
        {
         "Title": "Bad picture quality, not bright, grainy at times",
         "Review": "The only thing this gets to stars for is the size it literally is the size of a soda can. The remot…",
         "_deepnote_index_column": 64
        },
        {
         "Title": "Really expensive for what it does...plus no way to fix a crooked projection.",
         "Review": "I liked the convenience of this device, but I think it's pretty pricey for something that I have to…",
         "_deepnote_index_column": 65
        },
        {
         "Title": "It’s perfect and Disappointing",
         "Review": "Quality is great, but screen play does not work. Screen mirror does not work. And the hdmi adapter …",
         "_deepnote_index_column": 66
        },
        {
         "Title": "Picture function and small size is impressive",
         "Review": "Loved the size and quality of the picture.  I wanted to massively like this projector but the remot…",
         "_deepnote_index_column": 67
        },
        {
         "Title": "Mediocre purchase",
         "Review": "I like it so far. Surprised it auto adjusted when the angle changed. Hard remote didnt work for Net…",
         "_deepnote_index_column": 68
        },
        {
         "Title": "the advertising page was misleading",
         "Review": "According to the advertising pages, this device should be able to be a wireless display for a Windo…",
         "_deepnote_index_column": 69
        },
        {
         "Title": "Limited Streaming",
         "Review": "It's... ok. I wasn't looking for just ok, though. The portability is great, but that is the best pa…",
         "_deepnote_index_column": 70
        },
        {
         "Title": "It’s shocking what a mess this is",
         "Review": "I will update and list the ways in which this thing is terrible but most of all the nebular app is …",
         "_deepnote_index_column": 71
        },
        {
         "Title": "Terrible for Netflix!",
         "Review": "I bought this thing for netflix and was very disappointed you cannot screen mirror with anything ex…",
         "_deepnote_index_column": 72
        },
        {
         "Title": "Poor quality, broken in four months.",
         "Review": "Within the first month of use, whenever a darker scene was being displayed, the picture went black …",
         "_deepnote_index_column": 73
        },
        {
         "Title": "Just okay better spend little more buy good one",
         "Review": "The quality of picture is just okay/not bad ( i am not saying it is good). The brightness is bad. B…",
         "_deepnote_index_column": 74
        },
        {
         "Title": "Time To Return This Junk- Not iPHONE Friendly",
         "Review": "What good is it to list out the Pros and Cons, if the #1 reason why I purchased the Capsule was to …",
         "_deepnote_index_column": 75
        },
        {
         "Title": "It is not bright enough for use",
         "Review": "This product does not live up to its hype. They have changed the description concerning the lumens …",
         "_deepnote_index_column": 76
        },
        {
         "Title": "Me gusta pero...",
         "Review": "Me gusta bastante, tiene buena calidad la proyección, buen volumen del parlante incorporado, pero l…",
         "_deepnote_index_column": 77
        },
        {
         "Title": "Seriously?",
         "Review": "It’s awesome that it’s small and has built in speakers...But it won’t support any apps- not even Ne…",
         "_deepnote_index_column": 78
        },
        {
         "Title": "Great idea but not carried out to its fullest potential by far!",
         "Review": "I was very excited to finally get this product because I expected to be able to use it more easily …",
         "_deepnote_index_column": 79
        },
        {
         "Title": "Disappointed beyond words",
         "Review": "Worst nightmare realized through this projector.  Purchased this to watch a video I made for my mom…",
         "_deepnote_index_column": 80
        },
        {
         "Title": "Does not work with iPhone",
         "Review": "Even if you have subscriptions to streaming platforms, this projector wont let you play them. I tri…",
         "_deepnote_index_column": 81
        },
        {
         "Title": "This product needs to be cheapier.",
         "Review": "This product would have been good at a below $100 dollar price tag. It was functional but as soon a…",
         "_deepnote_index_column": 82
        },
        {
         "Title": "Was a fan of Anker until purchasing this piece of junk",
         "Review": "Charged the battery to full, went to login to wifi, it instantly launches a browser. Well... you ca…",
         "_deepnote_index_column": 83
        },
        {
         "Title": "Difficult to navigate in any mode",
         "Review": "This is my first projector but I found it very difficult navigation.  Some areas like YouTube for e…",
         "_deepnote_index_column": 84
        },
        {
         "Title": "Very loud.",
         "Review": "I liked it from the first minute but was disappointed later. The image is ok, Sound is good. The fo…",
         "_deepnote_index_column": 85
        },
        {
         "Title": "Works well as a projector, App is pretty bad for an otherwise polished product",
         "Review": "the projector feels solid and has a good quality out of the box. The picture quaility is good to gr…",
         "_deepnote_index_column": 86
        },
        {
         "Title": "Speaker Isn't Good",
         "Review": "I was pleasantly surprised when I came across this little speaker/projector. I had been looking for…",
         "_deepnote_index_column": 87
        },
        {
         "Title": "Compact disappointment",
         "Review": "The projector is compact and simple to connect (hard wire) to a Blu-ray or DVD.It cannot be used wh…",
         "_deepnote_index_column": 88
        },
        {
         "Title": "Need COMPLETE darkness",
         "Review": "I bought this as a teaching device to show power point presentations to my class. It is now one of …",
         "_deepnote_index_column": 89
        },
        {
         "Title": "Just OK",
         "Review": "Wanted to love this product however we have had a really hard time with it. The lumens aren’t enoug…",
         "_deepnote_index_column": 90
        },
        {
         "Title": "Problem with overheating within minutes of turning on",
         "Review": "This product worked well and about a month ago I keep getting a message that says it must be turned…",
         "_deepnote_index_column": 91
        },
        {
         "Title": "Over all great product, looking into why it glitches so much.",
         "Review": "I love how this is mobile, small and can be used without being plugged in. Small fan not too loud. …",
         "_deepnote_index_column": 92
        },
        {
         "Title": "Mini Projector Mini Issues",
         "Review": "I like it, the issues I have are 1.) It seems to keep cutting off after playing for a bit, before a…",
         "_deepnote_index_column": 93
        },
        {
         "Title": "Does not work",
         "Review": "I bought this over a year ago and never was able to use it wirelessly. The OS just never worked and…",
         "_deepnote_index_column": 94
        },
        {
         "Title": "Missing pieces",
         "Review": "No remote... came with box for it but was empty",
         "_deepnote_index_column": 95
        },
        {
         "Title": "Defective Unit",
         "Review": "Received a defective unit. Mine doesn’t charge while powered on, and I’ve tried improved power cord…",
         "_deepnote_index_column": 96
        },
        {
         "Title": "Don’t waste your time if this is a family purchase.",
         "Review": "Barely workable as a media projector for the family.  The remote doesn’t work with many of the apps…",
         "_deepnote_index_column": 97
        },
        {
         "Title": "Too dark",
         "Review": "Handy dandy cute invention. Quite portable but not bright enough. Fan noise in the unit as expected…",
         "_deepnote_index_column": 98
        },
        {
         "Title": "Not worth the expensive price",
         "Review": "This projector is decent,  but for the price I paid I expected more. For the most part it worked fi…",
         "_deepnote_index_column": 99
        },
        {
         "Title": "Received repackaged item still connected to previous users accounts. Returning.",
         "Review": "Purchased new from Amazon. Wasn’t new. Item was out of original packaging. When I powered it up, it…",
         "_deepnote_index_column": 100
        },
        {
         "Title": "portable but not highest sound or image quality",
         "Review": "not very bright, hard to see when light is already dimmed, speaker on the projector is pretty bad q…",
         "_deepnote_index_column": 101
        },
        {
         "Title": "The update that  couldn't wait.",
         "Review": "So, you have some friends over to watch a movie.  Right in the middle of it a message pops up telli…",
         "_deepnote_index_column": 102
        },
        {
         "Title": "It’s alright",
         "Review": "I was looking for a device that did not have to be centered but this one most definitely does, I ha…",
         "_deepnote_index_column": 103
        },
        {
         "Title": "It's alright",
         "Review": "It's a good starter projector.  It's easy to use and set up. But if you're tech saavy - this really…",
         "_deepnote_index_column": 104
        },
        {
         "Title": "Amazing and Nifty but it's always tilted",
         "Review": "Think this is a amazing concept, great for travel, amazing picture and can be used in many differen…",
         "_deepnote_index_column": 105
        },
        {
         "Title": "Ok for poolside, but obviously needs complete dark to be enjoyable.",
         "Review": "It's ok. The fact that it's portable and have good speakers make it a great niche product, but that…",
         "_deepnote_index_column": 106
        },
        {
         "Title": "Crashes - Draw of the luck",
         "Review": "So I read a review saying when they received their projector, it crashed every 10-30 minutes. Mine …",
         "_deepnote_index_column": 107
        },
        {
         "Title": "It was okay..",
         "Review": "It was an alright projector and now it won’t even charge or turn on anymore, it just tries to power…",
         "_deepnote_index_column": 108
        },
        {
         "Title": "Not Worth the Money, Just Novel",
         "Review": "It’s unintuitive to use, dim, and the battery life is nowhere near 4 hours. Closer to 1.5 if you ac…",
         "_deepnote_index_column": 109
        },
        {
         "Title": "Battery drains while off, more so",
         "Review": "Battery drains while off, more so than expected.  Battery life is so so while in use.  But the pros…",
         "_deepnote_index_column": 110
        },
        {
         "Title": "This would be great if it wasn’t so terrible!",
         "Review": "It would be so perfect if it wasn’t so useless. If you are looking for a beautiful picture, a simpl…",
         "_deepnote_index_column": 111
        },
        {
         "Title": "Would not recommend! Did not work out of box!",
         "Review": "nan",
         "_deepnote_index_column": 112
        },
        {
         "Title": "Too dim",
         "Review": "Returned item. Would be great if you were in a really dark room and using it as about a 20 inch tv.…",
         "_deepnote_index_column": 113
        },
        {
         "Title": "Very disappointed",
         "Review": "Really wanted to love it. But I can’t actually use it. Won’t screen play from my iPhone. I’ve conne…",
         "_deepnote_index_column": 114
        },
        {
         "Title": "Amazing product! I think I got a used product or the product was damaged on the way to me.",
         "Review": "Amazing product!I think I got a used product or the product was damaged on the way to me.Certain pa…",
         "_deepnote_index_column": 115
        },
        {
         "Title": "Lack Quality features for Gamers",
         "Review": "The projector is great and very compact. But for specifically having a home Theater it isn’t the be…",
         "_deepnote_index_column": 116
        },
        {
         "Title": "Not Worth It",
         "Review": "Not worth the price. Quality was very dark and hard to focus. Even in completely dark room. Will be…",
         "_deepnote_index_column": 117
        },
        {
         "Title": "Short Life Span",
         "Review": "I can’t believe I bought this two years ago, used it maybe 3 dozen times and now the damn thing won…",
         "_deepnote_index_column": 118
        },
        {
         "Title": "Crooked screen",
         "Review": "Unfortunately, my nebula showed up with a crooked screen placement. It’s as if it slipped and got s…",
         "_deepnote_index_column": 119
        },
        {
         "Title": "Mixed feelings on it",
         "Review": "I like this device a lit but it sometimes is awkward hooking the thing to iOS and other devices. Ta…",
         "_deepnote_index_column": 120
        },
        {
         "Title": "Need to have certain conditions",
         "Review": "The sound and focus / crispness of the pictures are great- its very hard to see the projection if t…",
         "_deepnote_index_column": 121
        },
        {
         "Title": "Useless for streaming (while using external bluetooth speaker) ... anything (sort of, see update)",
         "Review": "Update II:I exchanged the unit in the hope that the new one would behave better with respect to sim…",
         "_deepnote_index_column": 122
        },
        {
         "Title": "Not very bright",
         "Review": "Not as good as the reviews and ad says, can't see it in a day lit room",
         "_deepnote_index_column": 123
        },
        {
         "Title": "Inside of projector screen came with a scratch",
         "Review": "Inside of projector screen came with a scratch, no longer in stock so my only option is return or k…",
         "_deepnote_index_column": 124
        },
        {
         "Title": "Not for iPhone",
         "Review": "Could have mentioned the item is meant for Android devices and doesn’t really work with iPhone or i…",
         "_deepnote_index_column": 125
        },
        {
         "Title": "Not compatible with Android or Windows",
         "Review": "Is this worth the price? No.The device has instructions top connect with windows and android phones…",
         "_deepnote_index_column": 126
        },
        {
         "Title": "Good picture quality, but hard to use with phone",
         "Review": "This is such a disappointment. It already comes equipped to play Netflix and that works fine and th…",
         "_deepnote_index_column": 127
        },
        {
         "Title": "Don't waste your money on this projector.",
         "Review": "Poor sound and quality image. You can get a 10 times better product for this price. It's very annoy…",
         "_deepnote_index_column": 128
        },
        {
         "Title": "Can’t stream without WiFi",
         "Review": "Why have a portable projector you can’t use unless you’re connected to a wifi network? It would be …",
         "_deepnote_index_column": 129
        },
        {
         "Title": "Nothing works.",
         "Review": "Remote doesn't work. Does not project onto a ceiling as the picture shows, you need to buy a specia…",
         "_deepnote_index_column": 130
        },
        {
         "Title": "Heading in the right direction... but still needs improvement.",
         "Review": "Pro: Excellent product design. High quality materials. Light weight  & portability.  High screen vi…",
         "_deepnote_index_column": 131
        },
        {
         "Title": "Seems tiny and simple, but is fussy and meh.",
         "Review": "My coworker got one of these. Really talked it up. I bought one and was disappointed. It was fussy …",
         "_deepnote_index_column": 132
        },
        {
         "Title": "Can’t watch Youtube nor Prime!",
         "Review": "The UI is terrible. The remote app is also terrible. I can’t watch Youtube nor Prime Video.Projecto…",
         "_deepnote_index_column": 133
        },
        {
         "Title": "No lo recomiendo",
         "Review": "No se por que tiene buenas reputaciones, la verdad compre por las reputaciones pero no me gusto par…",
         "_deepnote_index_column": 134
        },
        {
         "Title": "Maybe good for home, not for business though",
         "Review": "Not bright enough for our commercial use.  Returned and bought a different one, larger and brighter…",
         "_deepnote_index_column": 135
        },
        {
         "Title": "Just not as good as expected",
         "Review": "The interface of the system is not user friendly. The picture quality is truly lackluster. It’s cut…",
         "_deepnote_index_column": 136
        },
        {
         "Title": "Brightness sucks and apps are meh.",
         "Review": "The concept is cool as in its portable and convenient but for the price, it’s not really worth it. …",
         "_deepnote_index_column": 137
        },
        {
         "Title": "Just didn’t work...",
         "Review": "Couldn’t get YouTube to work.Hdmi didn’t workUpdated firmware and I kept getting a window that read…",
         "_deepnote_index_column": 138
        },
        {
         "Title": "Very cool concept and works amazingly well in a dark room",
         "Review": "Very cool concept and works amazingly well in a dark room.  Extremely easy to use also.  I ultimate…",
         "_deepnote_index_column": 139
        },
        {
         "Title": "Small Movie projector",
         "Review": "Pros: Small enough to take it any where with youCons: Low video quality and poor sound quality of s…",
         "_deepnote_index_column": 140
        },
        {
         "Title": "OS was terrible",
         "Review": "Great size and brightness (which is the reason for 2 stars instead of 1) but I had incredible troub…",
         "_deepnote_index_column": 141
        },
        {
         "Title": "Does not last long",
         "Review": "This stopped working 13 months into use so I would not recommend buying.  While it worked, the soun…",
         "_deepnote_index_column": 142
        },
        {
         "Title": "Movie Apps constantly crash",
         "Review": "The picture and sound are very good. The issue is the apps constantly crashes with the majority of …",
         "_deepnote_index_column": 143
        },
        {
         "Title": "Terrible",
         "Review": "I am so upset, I noticed I revived a used/ return one because the remote is missing and the lens is…",
         "_deepnote_index_column": 144
        },
        {
         "Title": "Projector only works with apps that come with projector.",
         "Review": "This projector will only work with the apps that it comes with which means you have to subscribe to…",
         "_deepnote_index_column": 145
        },
        {
         "Title": "Good projector and battery life but mirror cast wouldn't work",
         "Review": "The projector was great and very easy to use.  Returned it after 3 weeks, was in talks with the com…",
         "_deepnote_index_column": 146
        },
        {
         "Title": "Three Stars",
         "Review": "CPU fan or the inside fan is too loud. Also, it does not support Google Play...",
         "_deepnote_index_column": 147
        },
        {
         "Title": "Good but eh",
         "Review": "Works very well but doesn’t hold charge very long, you can’t charge it while you’re using it, and h…",
         "_deepnote_index_column": 148
        },
        {
         "Title": "Good product, not excellent",
         "Review": "It’s an okay product for how expensive it is. I wish it could be brighter, the pixelation was bette…",
         "_deepnote_index_column": 149
        },
        {
         "Title": "Item broke after a few months",
         "Review": "Quality of image not too sharp. Acceptable. Price is not competitive either. It stopped working aft…",
         "_deepnote_index_column": 150
        },
        {
         "Title": "DONT BUY IT",
         "Review": "This this is TRASH - the batter sucks. Doesn’t charge while in use. Also doesn’t charge while plugg…",
         "_deepnote_index_column": 151
        },
        {
         "Title": "Still it is not bright enough if you are not in a complete dark room",
         "Review": "I do not recommend to purchase this product yet till they develope the brightness more than 600 ANS…",
         "_deepnote_index_column": 152
        },
        {
         "Title": "not good",
         "Review": "Bought this to use for senior management meetings and various other things.  What a waste of money.…",
         "_deepnote_index_column": 153
        },
        {
         "Title": "Poor on brightly lit rooms",
         "Review": "Great Concept. I bought and used on darker rooms.  It was good.  Later on, I had to use to on light…",
         "_deepnote_index_column": 154
        },
        {
         "Title": "Still not ready for prime time...",
         "Review": "For its size and cost, brightness and picture quality are excellent. The remote and apps however ar…",
         "_deepnote_index_column": 155
        },
        {
         "Title": "Poor Picture Quality",
         "Review": "Not that great picture quality.",
         "_deepnote_index_column": 156
        },
        {
         "Title": "Not worth the hype or the money",
         "Review": "Remote doesn't work, picture doesn't focus fully and one side of the picture is bigger. Not worth t…",
         "_deepnote_index_column": 157
        },
        {
         "Title": "It did not recognize HDMI input.",
         "Review": "Tried three different HDMI cords. Projector would not recognize the HDMI input. Returned product an…",
         "_deepnote_index_column": 158
        },
        {
         "Title": "The bluetooth has a delay with speaker",
         "Review": "The bluetooth has a delay with speaker. The sound is delayed behind the movie. It's a waste of mone…",
         "_deepnote_index_column": 159
        },
        {
         "Title": "Not a sturdy product",
         "Review": "After less than a year, the project screen cracked for no reason",
         "_deepnote_index_column": 160
        },
        {
         "Title": "not good",
         "Review": "It is joke product  maybe because it is not expensive",
         "_deepnote_index_column": 161
        },
        {
         "Title": "Disappointed in nebula",
         "Review": "So disappointed. I didn’t use it til the return period was over. Remote control was a D. Picture bl…",
         "_deepnote_index_column": 162
        },
        {
         "Title": "Streaming apps don’t work",
         "Review": "I love it, BUT none of the streaming apps work. They let me log in but then never show movies or an…",
         "_deepnote_index_column": 163
        },
        {
         "Title": "Nebula",
         "Review": "The nebula is supposed to be work without WiFi.  It is not working alone with the HDMI chord and I …",
         "_deepnote_index_column": 164
        },
        {
         "Title": "Remote Control Issue",
         "Review": "I've been using the product for the past 4 weeks. At first, everything worked fine, but about one o…",
         "_deepnote_index_column": 165
        },
        {
         "Title": "iPhone user be aware - Softwares won’t work",
         "Review": "I bought this to pair w my iPhone to watch Crunchyroll, YouTube, Netflix Hulu, etc...  The software…",
         "_deepnote_index_column": 166
        },
        {
         "Title": "Avoid",
         "Review": "Broken remote, app crashes. Doesn’t have any options for YouTube tv, hbo, etc",
         "_deepnote_index_column": 167
        },
        {
         "Title": "Awesome, except it’s breaking 8 months in",
         "Review": "I really love how portable and accessible this is. It’s awesome. However, it’s been 8 months since …",
         "_deepnote_index_column": 168
        },
        {
         "Title": "Sound Output volume is it's biggest issue - Not loud enough for outdoor usage",
         "Review": "The Nebula is a very nice projector but I ended up sending it back. I have owned a regular projecto…",
         "_deepnote_index_column": 169
        },
        {
         "Title": "Not Bright Enough",
         "Review": "It did not have light power or brightness for a moderately lit room at about 6 feet from screen.",
         "_deepnote_index_column": 170
        },
        {
         "Title": "It can do everything but is not good at anything.",
         "Review": "It is an all in one package. I purchased on sale for 250 and returned. The speakers are poor, the d…",
         "_deepnote_index_column": 171
        },
        {
         "Title": "Not able to login to YouTube.",
         "Review": "I am giving 3 stars because I am not able to login to YouTube and I dont find HBO app to download. …",
         "_deepnote_index_column": 172
        },
        {
         "Title": "Bad quality picture",
         "Review": "Surprised to have such a low quality for that price.",
         "_deepnote_index_column": 173
        },
        {
         "Title": "Horrible Experience",
         "Review": "It doesn't support many apps, has trouble connecting to devices via bluetooth let alone their app. …",
         "_deepnote_index_column": 174
        },
        {
         "Title": "Constant troubleshooting is annoying!",
         "Review": "Don't waste your money.1. The display is only bright enough after dark.2. We get constant error mes…",
         "_deepnote_index_column": 175
        },
        {
         "Title": "Anyway I can project my iPhone?",
         "Review": "I cannot seem to mirror screen my iPhone when outside without wifi.  Both phone and projector need …",
         "_deepnote_index_column": 176
        },
        {
         "Title": "Bad image quality and brightness",
         "Review": "Just received the productBrightness is very bad and it is hard to see anything when I use it even a…",
         "_deepnote_index_column": 177
        },
        {
         "Title": "Small but dull",
         "Review": "Yes it's small, but it's.brightness makes it useless in 80% of situations. Way too dull. Don't both…",
         "_deepnote_index_column": 178
        },
        {
         "Title": "Product default shows up after 1 month",
         "Review": "The product has had issues after the first month. The image switches colorspace time to time with a…",
         "_deepnote_index_column": 179
        },
        {
         "Title": "It could be better.",
         "Review": "The positives: small, decent picture qualityNegatives: loud fan running the entire time.  Useless r…",
         "_deepnote_index_column": 180
        },
        {
         "Title": "Just get the Nebula II. This one is a waste of money",
         "Review": "I purchased this one and regret I did. Its collecting dust now because I bought the Nebula II which…",
         "_deepnote_index_column": 181
        },
        {
         "Title": "Cant screen share netflix or amazon ect",
         "Review": "I bought this for camping but it seems pointless if you dont have internet and want to screen share…",
         "_deepnote_index_column": 182
        },
        {
         "Title": "Good in the dark",
         "Review": "The idea is great, but maybe need to go with the more upgrade model. Sound is pretty quiet and the …",
         "_deepnote_index_column": 183
        },
        {
         "Title": "Poor quality",
         "Review": "Battery doesn't charge to 100 and doesn't last the time described in the description. Do no buy!",
         "_deepnote_index_column": 184
        },
        {
         "Title": "Tilted screen",
         "Review": "I got this but picture quality is not that gt and the picture is titled. I Tried to reset and did l…",
         "_deepnote_index_column": 185
        },
        {
         "Title": "Quality isn’t there",
         "Review": "Too expensive for the quality, if you want better quality their other products are even more expens…",
         "_deepnote_index_column": 186
        },
        {
         "Title": "Lost sound",
         "Review": "The sound went scratchy and quiet. Unfortunate.",
         "_deepnote_index_column": 187
        },
        {
         "Title": "good for a cute pillow fort date or camping",
         "Review": "I loved it as a temporary situation when my girlfriend didn’t have a TV but now we don’t use it...b…",
         "_deepnote_index_column": 188
        },
        {
         "Title": "Is hard to perfect match dostan and high fot screen size there is no other way to adjust screen",
         "Review": "Resulution is not clear, the adjustment knob it doesn't change much , the battery drainage quick , …",
         "_deepnote_index_column": 189
        },
        {
         "Title": "Cannot Cast to projector!",
         "Review": "Had to return device because you cannot cast from samsung phone. Disney+, Netflix or Prime video wo…",
         "_deepnote_index_column": 190
        },
        {
         "Title": "Not worth the hype",
         "Review": "Low lumen output sucks.  White background of windows explorer washes out text.  Finicky focus wheel…",
         "_deepnote_index_column": 191
        },
        {
         "Title": "Impossible to adjust. Menu is garbage",
         "Review": "unless it's pointing straight at the wall, you're not going to be able to frame it right. The keyst…",
         "_deepnote_index_column": 192
        },
        {
         "Title": "too bad！don’t buy！！",
         "Review": "nan",
         "_deepnote_index_column": 193
        },
        {
         "Title": "Read this before you buy...",
         "Review": "I bought this projector to stream movies I bought on YouTube or just off my computer. I am not allo…",
         "_deepnote_index_column": 194
        },
        {
         "Title": "Overall solid product",
         "Review": "Solid product for the price. Other reviews are a bit overhyped. I don’t find the picture quality or…",
         "_deepnote_index_column": 195
        },
        {
         "Title": "too many glitches",
         "Review": "Cuts out every 15 minutes",
         "_deepnote_index_column": 196
        },
        {
         "Title": "Expected more",
         "Review": "Picture quality and sound quality is bellow average. But concept is solid. Have to return",
         "_deepnote_index_column": 197
        },
        {
         "Title": "Without support this thing is useless.",
         "Review": "Instructions were terrible. Still have not been successful at making it work",
         "_deepnote_index_column": 198
        },
        {
         "Title": "100 ansi lumens is not upto the expectations",
         "Review": "100 ansi lumens is not that quality enough. And It is a bit disappointing that Netflix / Amazon pri…",
         "_deepnote_index_column": 199
        },
        {
         "Title": "Crooked lens",
         "Review": "Lens is crooked so video is always slanted. Decent speaker, although fan or whatever is the backgro…",
         "_deepnote_index_column": 200
        },
        {
         "Title": "Terrible unit",
         "Review": "Dark picture, hdmi connection glitches, remote doesn’t work everything... returning the product",
         "_deepnote_index_column": 201
        },
        {
         "Title": "doen't last long anymore",
         "Review": "I bought this around 3 years ago, and this dies less than an hour now even it's plugged.",
         "_deepnote_index_column": 202
        },
        {
         "Title": "Difficult. Period",
         "Review": "Unfortunately this is very difficult to use. Can't easily stream from apps.",
         "_deepnote_index_column": 203
        },
        {
         "Title": "Superb device - extremely bad keyboard",
         "Review": "Superb device - very bad remote - BT keyboards non-compatible - wifi direct non-compatible",
         "_deepnote_index_column": 204
        },
        {
         "Title": "Not quite as advertised.",
         "Review": "Must purchase the extra appropriate cords for your phone and have internet to work correctly. After…",
         "_deepnote_index_column": 205
        },
        {
         "Title": "Stop working after like 5 used",
         "Review": "I only used this item 5 times and it stop working. It's dead, like no power at all!🤬",
         "_deepnote_index_column": 206
        },
        {
         "Title": "A little disappointing. If you have an iPhone, do not get.",
         "Review": "I think mine was defective because it take more than two tries to try and turn on",
         "_deepnote_index_column": 207
        },
        {
         "Title": "Nice compact mini projector with great speaker!",
         "Review": "We returned it because it did not have auto focus. Also, the resolution wasn’t the best.",
         "_deepnote_index_column": 208
        },
        {
         "Title": "Two Stars",
         "Review": "Not what's I though it will be",
         "_deepnote_index_column": 209
        },
        {
         "Title": "Doesn't do what basic projectors are supposed to.",
         "Review": "Cannot cast or mirror from Android phones. No access to play store, and the third party app store i…",
         "_deepnote_index_column": 210
        },
        {
         "Title": "Slow, difficult to connect, Wifi is broken.",
         "Review": "Can only connect to widi maybe 20% of the time, most of the apps don't allow you to sign in due to …",
         "_deepnote_index_column": 211
        },
        {
         "Title": "Used unit with missing accessories",
         "Review": "Box wasn’t sealed, charger and cable weren’t in the box, remote control is not working and there wa…",
         "_deepnote_index_column": 212
        },
        {
         "Title": "price is hig",
         "Review": "goodBut the price is hig",
         "_deepnote_index_column": 213
        },
        {
         "Title": "To be able to use the projector",
         "Review": "The product doesn't have the ability to connect without wifi. I wanted to take it camping and it tu…",
         "_deepnote_index_column": 214
        },
        {
         "Title": "video quality OK but need more improvement",
         "Review": "video quality OK but need more improvement",
         "_deepnote_index_column": 215
        },
        {
         "Title": "not a pleasant product",
         "Review": "A little sad about bought this product, hope they can make improvements.",
         "_deepnote_index_column": 216
        },
        {
         "Title": "I’ve seen better and cheaper",
         "Review": "Beside being noisy, I was expecting a better experience with this projector. Even though colors are…",
         "_deepnote_index_column": 217
        },
        {
         "Title": "Okay",
         "Review": "Remote battery backside falls out fast it feels loose. Certain apps do not work",
         "_deepnote_index_column": 218
        },
        {
         "Title": "not good",
         "Review": "The picture quality was very poor. If it wasn’t on a perfect blank white wall with no texture you c…",
         "_deepnote_index_column": 219
        },
        {
         "Title": "Doesn't charge",
         "Review": "Dims really quickly.",
         "_deepnote_index_column": 220
        },
        {
         "Title": "Setup and usage is impossible",
         "Review": "after numerous failures and video instruction I threw in towel did not work for camping.",
         "_deepnote_index_column": 221
        },
        {
         "Title": "No hbo max",
         "Review": "No hbo max.",
         "_deepnote_index_column": 222
        },
        {
         "Title": "Fan is loud",
         "Review": "Fan is very loud. Ruins the experience.",
         "_deepnote_index_column": 223
        },
        {
         "Title": "Picture quality is not so good.",
         "Review": "Picture quality is not good for this price range.",
         "_deepnote_index_column": 224
        },
        {
         "Title": "The sounds quality is terrible and picture quality is fair.",
         "Review": "Did not like it.",
         "_deepnote_index_column": 225
        },
        {
         "Title": "Two Stars",
         "Review": "I am not able install Apps like Youtube., Netflix,. Airplay is very slow & stuck forever.",
         "_deepnote_index_column": 226
        },
        {
         "Title": "Won’t turn on for more than 5 minutes",
         "Review": "Had for 6 months and will no longer hold charge or turn on. Plugged in for days and still at 3%.",
         "_deepnote_index_column": 227
        },
        {
         "Title": "picture quality",
         "Review": "the projected picture is not aligned straight. It slopes.",
         "_deepnote_index_column": 228
        },
        {
         "Title": "Not my favorite projector",
         "Review": "It said Bluetooth and it clearly wasn’t had to download apps and the ones I needed it wouldn’t let …",
         "_deepnote_index_column": 229
        },
        {
         "Title": "Decent",
         "Review": "It’s not bad. But wish I could return it.",
         "_deepnote_index_column": 230
        },
        {
         "Title": "too noice",
         "Review": "too noice，brightness not good in day time，",
         "_deepnote_index_column": 231
        },
        {
         "Title": "It is not doing what is advertises",
         "Review": "i called them and they even admitted to it not projecting up how it is pictured in the advertisemen…",
         "_deepnote_index_column": 232
        },
        {
         "Title": "Great image quality, poor sound",
         "Review": "Fan is too loud to use in a small space like my bedroom",
         "_deepnote_index_column": 233
        },
        {
         "Title": "Loud Fan is No Fun",
         "Review": "I love that it’s all-in-one so it’s powered and doesn't need an external video source but I do not …",
         "_deepnote_index_column": 234
        },
        {
         "Title": "picure quality is not sharp. its not usable at all during day time..",
         "Review": "picture quality is not sharp",
         "_deepnote_index_column": 235
        },
        {
         "Title": "No support",
         "Review": "No support",
         "_deepnote_index_column": 236
        },
        {
         "Title": "What can I do?",
         "Review": "The remote control of my device does not work",
         "_deepnote_index_column": 237
        },
        {
         "Title": "I really wanted keep this projector but it has a ...",
         "Review": "I really wanted keep  this projector but it has a huge design flaw ... #1. No included micro sd car…",
         "_deepnote_index_column": 238
        },
        {
         "Title": "Very low light lumens",
         "Review": "The light is not strong enough to see anything",
         "_deepnote_index_column": 239
        },
        {
         "Title": "Horrible sound",
         "Review": "Sounds sucks. Brightness is horrible.",
         "_deepnote_index_column": 240
        },
        {
         "Title": "Bad experience with mini projector",
         "Review": "It’s been an bad experience with Sound quality is too bad , picture quality is Like okay.  For the …",
         "_deepnote_index_column": 241
        },
        {
         "Title": "Just OK",
         "Review": "OK.",
         "_deepnote_index_column": 242
        },
        {
         "Title": "Poorly written manual; great tech support from Kevin",
         "Review": "The users manual is awful for this product but tech support from Kevin was awesome and quick.",
         "_deepnote_index_column": 243
        },
        {
         "Title": "Pricey paperweight",
         "Review": "It doesn’t work. I called tech support and it will not actually play anything. My phone communicate…",
         "_deepnote_index_column": 244
        },
        {
         "Title": "Poor quality",
         "Review": "Poor quality, could not view picture well at all.  Extremely disappointed",
         "_deepnote_index_column": 245
        },
        {
         "Title": "moderate good",
         "Review": "soso.",
         "_deepnote_index_column": 246
        },
        {
         "Title": "Waste of money",
         "Review": "It’s not working good at all",
         "_deepnote_index_column": 247
        },
        {
         "Title": "Lumens needs more output",
         "Review": "Lumen brightness to dim",
         "_deepnote_index_column": 248
        },
        {
         "Title": ".",
         "Review": "Good",
         "_deepnote_index_column": 249
        },
        {
         "Title": "Terrible",
         "Review": "Despite the representations made by seller, the sealed package arrived MISSING a couple of key comp…",
         "_deepnote_index_column": 250
        },
        {
         "Title": "Two Stars",
         "Review": "😍good",
         "_deepnote_index_column": 251
        },
        {
         "Title": "Only got 2 uses ot if the device",
         "Review": "I bought this as a gift for my new roommate.  We were able to use it twice and it wont power on aga…",
         "_deepnote_index_column": 252
        },
        {
         "Title": "Losses focused constantly.,",
         "Review": "Because it sucks. The remote doesn't work. You have to download an app that sucks. Etc",
         "_deepnote_index_column": 253
        },
        {
         "Title": "Also the Capsule Control App is poor. difficult to control the mouse function",
         "Review": "when connected to the digital set top box, the picture has a blue hue to it. Also the Capsule Contr…",
         "_deepnote_index_column": 254
        },
        {
         "Title": "Sadly dissappointed yet simultaneously awed",
         "Review": "I would have loved to say that I'm happy with this product and that it is what I expected.....but I…",
         "_deepnote_index_column": 255
        },
        {
         "Title": "Software ruins the product",
         "Review": "Cool little device but it is completely ruined by the cripled software.  If they had made the bootl…",
         "_deepnote_index_column": 256
        },
        {
         "Title": "Screencast Not Compatible With Google Pixel Phones",
         "Review": "I wanted to write and warn anyone who is thinking about purchasing this with a Google Pixel phone, …",
         "_deepnote_index_column": 257
        },
        {
         "Title": "Nebula Capsule Review Updated!",
         "Review": "My original review was based on receiving a used product.After speaking with Anker customer service…",
         "_deepnote_index_column": 258
        },
        {
         "Title": "Not impressed - welcome to dongle life",
         "Review": "I wanted to like the Nebula Capsule projector.  I really did ... the size and the speakers are deli…",
         "_deepnote_index_column": 259
        },
        {
         "Title": "Biggest problem is low brightness",
         "Review": "This is a cool product - works well as advertised.  the BIGGEST problem, which made me give it a th…",
         "_deepnote_index_column": 260
        },
        {
         "Title": "with this cost you can get something better and higher quality",
         "Review": "very dim,with this cost you can get something better and higher quality,received with netflix subsc…",
         "_deepnote_index_column": 261
        },
        {
         "Title": "Do not buy!! Scam! Fake!! Trash!!",
         "Review": "I'd give it negative 5 stars! The projection is upside down. If and when you get past the home scre…",
         "_deepnote_index_column": 262
        },
        {
         "Title": "Totally waste product",
         "Review": "Waste of money",
         "_deepnote_index_column": 263
        },
        {
         "Title": "An Under Baked Device",
         "Review": "Yes, this is a projector the size of a soda can and that is impressive, but there are several major…",
         "_deepnote_index_column": 264
        },
        {
         "Title": "Really wanted to like it, but...",
         "Review": "Where to start, had bought the red one they were having a “deal” on last week.  When I got it, felt…",
         "_deepnote_index_column": 265
        },
        {
         "Title": "Terrible software on pleasant hardware.",
         "Review": "Hardware wise this little device is impressive.  It's not without it's shortcomings, notably bright…",
         "_deepnote_index_column": 266
        },
        {
         "Title": "Not compatible with Disney Plus and app is horrible",
         "Review": "I received this as a gift and loved it until my app needed to be updated. The remote from my phone …",
         "_deepnote_index_column": 267
        },
        {
         "Title": "Second one since November",
         "Review": "Anker’s customer service is top notch, but sadly the product is full of issues, first one lost all …",
         "_deepnote_index_column": 268
        },
        {
         "Title": "Cool, just wish it were Brighter",
         "Review": "I love the size of this thing, it's great!  And I don't mind keeping it plugged up when I'm binge w…",
         "_deepnote_index_column": 269
        },
        {
         "Title": "Chromecast",
         "Review": "I connected them directly before making any final decision (considering the price) and they told me…",
         "_deepnote_index_column": 270
        },
        {
         "Title": "Need help to run Netflix",
         "Review": "I have tried on numerous occasions to look at Netflix, unfortunately the projector keeps going to s…",
         "_deepnote_index_column": 271
        },
        {
         "Title": "Missing important integrations",
         "Review": "Very limited until USB supports modern file systems, supports DLNA home streaming, and supports Sam…",
         "_deepnote_index_column": 272
        },
        {
         "Title": "On the fence.",
         "Review": "This thing is amazing. Super easy to use. It’s a little noisy with the fan. The sound is meh but it…",
         "_deepnote_index_column": 273
        },
        {
         "Title": "Proyector muy mediocre!",
         "Review": "Imagen horrible en el día y en la noche, totalmente opaca y sin brillo. La batería se descarga muy …",
         "_deepnote_index_column": 274
        },
        {
         "Title": "Over priced",
         "Review": "Ankers products are great they are built to last and most importantly what separates them from thei…",
         "_deepnote_index_column": 275
        },
        {
         "Title": "Expect better for Anker Ruined my fathers day",
         "Review": "this crappy thing is the opposite of user friendly.  don't say it works with IOS when it clearly do…",
         "_deepnote_index_column": 276
        },
        {
         "Title": "Disposable projector no repair centers in USA",
         "Review": "Had received my capsule as a gift for about 8 months used it about maybe 40 hours of use and the pr…",
         "_deepnote_index_column": 277
        },
        {
         "Title": "One Star",
         "Review": "It didn’t work with me 😕",
         "_deepnote_index_column": 278
        },
        {
         "Title": "Disappointed",
         "Review": "Am disappointed. Picture is very dim/dark. Hard to focus. Blurry at best. The app/remote is just we…",
         "_deepnote_index_column": 279
        },
        {
         "Title": "not working with apps that I am watching on TV ...",
         "Review": "not working with apps that I am watching on TV except Amazon Prime or Youtube. so now I have to wat…",
         "_deepnote_index_column": 280
        },
        {
         "Title": "That's a pretty big deal breaker for me",
         "Review": "Doesn't support Chromecast. That's a pretty big deal breaker for me. Projection quality is mediocre.",
         "_deepnote_index_column": 281
        },
        {
         "Title": "Three Stars",
         "Review": "Doesn’t project as vivid as it could but makes up for it in the sound quality",
         "_deepnote_index_column": 282
        },
        {
         "Title": "Two Stars",
         "Review": "Android version does not include Google Play, so forget about installing most apps.",
         "_deepnote_index_column": 283
        },
        {
         "Title": "Really amazing",
         "Review": "Wow.its a awesome product.i can make my room as home theatre",
         "_deepnote_index_column": 284
        },
        {
         "Title": "SURELY IT'S WONDERFUL AND ALL",
         "Review": "I DONT OWN THIS ''THING'', BUT 350 HARD-EARNED DOLLARS INSTEAD OF GETTING A YG-300?????SURELY IT'S …",
         "_deepnote_index_column": 285
        },
        {
         "Title": "Lack flexibility",
         "Review": "As a projector it is solid. The picture is good and I can’t argue with that.  But it’s portability …",
         "_deepnote_index_column": 286
        },
        {
         "Title": "Two defective units right out of the box. Not good odds, skip this product.",
         "Review": "It's neat, it works, the kids love movies outside. The user interface is clunky, and it's ridiculou…",
         "_deepnote_index_column": 287
        },
        {
         "Title": "Low Res",
         "Review": "Only 480p so very blurry, was not acceptable for me. The customer service was nice and quick though…",
         "_deepnote_index_column": 288
        },
        {
         "Title": "Not worth the price",
         "Review": "Easy to use, but it’s dark. It takes me a while to adjust the projector angle every time. The speak…",
         "_deepnote_index_column": 289
        },
        {
         "Title": "not working with its own Twitch app",
         "Review": "Upset, not working with its own Twitch app. useless for me.",
         "_deepnote_index_column": 290
        },
        {
         "Title": "Poco brillo y baja resolución",
         "Review": "No tiene buen brillo, no sirve para jugar play station, porque se nota aunque leve un retraso en la…",
         "_deepnote_index_column": 291
        },
        {
         "Title": "Badluck",
         "Review": "One day the nebula get heated more and suddenly the bad odour smell is coming and switched off i lo…",
         "_deepnote_index_column": 292
        },
        {
         "Title": "Wont last long....",
         "Review": "nan",
         "_deepnote_index_column": 293
        }
       ],
       "rows_bottom": null
      },
      "text/plain": "                                                 Title  \\\n0        Read their Privacy Policy. They’re intrusive!   \n1    Great hardware, but software doesn't work.  Do...   \n2                               I’m keeping it, but...   \n3                                                 Lies   \n4                     It doesn’t work on most formats.   \n..                                                 ...   \n289                                Not worth the price   \n290                not working with its own Twitch app   \n291                      Poco brillo y baja resolución   \n292                                            Badluck   \n293                                 Wont last long....   \n\n                                                Review  \n0    Have you checked out their ‘Privacy Policy’?Th...  \n1    I very rarely write reviews on Amazon, but I f...  \n2    The stripped-down version of Android is a real...  \n3    Who reviewed this POS and gave it 5 stars?1. B...  \n4    The projector will play Netflix off it’s nativ...  \n..                                                 ...  \n289  Easy to use, but it’s dark. It takes me a whil...  \n290  Upset, not working with its own Twitch app. us...  \n291  No tiene buen brillo, no sirve para jugar play...  \n292  One day the nebula get heated more and suddenl...  \n293                                                NaN  \n\n[294 rows x 2 columns]",
      "text/html": "<div>\n<style scoped>\n    .dataframe tbody tr th:only-of-type {\n        vertical-align: middle;\n    }\n\n    .dataframe tbody tr th {\n        vertical-align: top;\n    }\n\n    .dataframe thead th {\n        text-align: right;\n    }\n</style>\n<table border=\"1\" class=\"dataframe\">\n  <thead>\n    <tr style=\"text-align: right;\">\n      <th></th>\n      <th>Title</th>\n      <th>Review</th>\n    </tr>\n  </thead>\n  <tbody>\n    <tr>\n      <th>0</th>\n      <td>Read their Privacy Policy. They’re intrusive!</td>\n      <td>Have you checked out their ‘Privacy Policy’?Th...</td>\n    </tr>\n    <tr>\n      <th>1</th>\n      <td>Great hardware, but software doesn't work.  Do...</td>\n      <td>I very rarely write reviews on Amazon, but I f...</td>\n    </tr>\n    <tr>\n      <th>2</th>\n      <td>I’m keeping it, but...</td>\n      <td>The stripped-down version of Android is a real...</td>\n    </tr>\n    <tr>\n      <th>3</th>\n      <td>Lies</td>\n      <td>Who reviewed this POS and gave it 5 stars?1. B...</td>\n    </tr>\n    <tr>\n      <th>4</th>\n      <td>It doesn’t work on most formats.</td>\n      <td>The projector will play Netflix off it’s nativ...</td>\n    </tr>\n    <tr>\n      <th>...</th>\n      <td>...</td>\n      <td>...</td>\n    </tr>\n    <tr>\n      <th>289</th>\n      <td>Not worth the price</td>\n      <td>Easy to use, but it’s dark. It takes me a whil...</td>\n    </tr>\n    <tr>\n      <th>290</th>\n      <td>not working with its own Twitch app</td>\n      <td>Upset, not working with its own Twitch app. us...</td>\n    </tr>\n    <tr>\n      <th>291</th>\n      <td>Poco brillo y baja resolución</td>\n      <td>No tiene buen brillo, no sirve para jugar play...</td>\n    </tr>\n    <tr>\n      <th>292</th>\n      <td>Badluck</td>\n      <td>One day the nebula get heated more and suddenl...</td>\n    </tr>\n    <tr>\n      <th>293</th>\n      <td>Wont last long....</td>\n      <td>NaN</td>\n    </tr>\n  </tbody>\n</table>\n<p>294 rows × 2 columns</p>\n</div>"
     },
     "metadata": {}
    }
   ],
   "execution_count": null
  },
  {
   "cell_type": "code",
   "metadata": {
    "tags": [],
    "cell_id": "00007-7830b0f2-5941-4f5d-8c3a-d83728482d1c",
    "deepnote_to_be_reexecuted": false,
    "source_hash": "84af1744",
    "execution_start": 1634447254321,
    "execution_millis": 8,
    "deepnote_cell_type": "code"
   },
   "source": "df = pd.read_csv('REVIEWS RESCRAP.csv')\ndf = df[~df['Comment'].isnull()]\n\nspanish = df.index[(df['Comment'].str.contains('muy')) | (df['Comment'].str.contains('bueno'))| (df['Comment'].str.contains('en el'))|  (df['Comment'].str.contains('ninguno')) | (df['Comment'].str.contains('tiempo'))| \n(df['Comment'].str.contains('teléfonos'))| df['Comment'].str.contains('calidad de imagen') ]\nbad_df = df.index.isin(spanish)\ndf = df[~bad_df]\ndf.index  = np.arange(1, len(df)+1)\n#2021/10/17\ndf.to_csv('All Reviews.csv', encoding='utf-8-sig')",
   "outputs": [],
   "execution_count": null
  },
  {
   "cell_type": "markdown",
   "source": "## 3. Text Cleaning:",
   "metadata": {
    "tags": [],
    "cell_id": "00007-f3eeebcb-de07-403c-b9bc-a60b33551725",
    "deepnote_cell_type": "markdown"
   }
  },
  {
   "cell_type": "markdown",
   "source": " 1. Turn the text into lower case  \n 2. Replace any abbreviation\n 3. Remove the punctuation\n \n For example:   \n - won't -> will not\n - I've  -> I have",
   "metadata": {
    "tags": [],
    "cell_id": "00008-0c98905d-08fd-40e7-9fbf-63fecf825104",
    "deepnote_cell_type": "markdown"
   }
  },
  {
   "cell_type": "code",
   "metadata": {
    "id": "TICxD9VBLsqr",
    "cell_id": "00004-57f165bc-2f6e-45a9-8790-4ef9a9a968ba",
    "deepnote_to_be_reexecuted": false,
    "source_hash": "562b4327",
    "execution_start": 1633236478297,
    "execution_millis": 0,
    "deepnote_cell_type": "code"
   },
   "source": "#Text cleaning\n\ndef text_cleaning(text):\n    \n    text = text.lower()\n    text = re.sub('\\n', '', str(text))\n    text = re.sub(r\"n\\'t\", \" not\", text)\n    text = re.sub(r\"n\\’t\", \" not\", text)\n    text = re.sub(r\"\\’re\", \" are\", text)\n    text = re.sub(r\"\\’s\", \" is\", text)\n    text = re.sub(r\"\\’d\", \" would\", text)\n    text = re.sub(r\"\\’ll\", \" will\", text)\n    text = re.sub(r\"\\’t\", \" not\", text)\n    text = re.sub(r\"\\’ve\", \" have\", text)\n    text = re.sub(r\"\\’m\", \" am\", text)\n    text = re.sub('[%s]' % re.escape(string.punctuation), '', str(text))\n    return text",
   "outputs": [],
   "execution_count": null
  },
  {
   "cell_type": "code",
   "metadata": {
    "colab": {
     "base_uri": "https://localhost:8080/",
     "height": 419
    },
    "id": "5cQKv5j-Lsqs",
    "outputId": "d950d2b3-7aa6-429d-803e-7da61479a528",
    "cell_id": "00005-5fdaa706-eaca-4b92-8b2c-0f9af63be0fc",
    "deepnote_to_be_reexecuted": false,
    "source_hash": "b06d3ccb",
    "execution_start": 1633236478316,
    "execution_millis": 73,
    "deepnote_cell_type": "code"
   },
   "source": "df['Title']=df['Title'].apply(text_cleaning)\ndf",
   "outputs": [
    {
     "output_type": "execute_result",
     "execution_count": 5,
     "data": {
      "application/vnd.deepnote.dataframe.v2+json": {
       "row_count": 294,
       "column_count": 2,
       "columns": [
        {
         "name": "Title",
         "dtype": "object",
         "stats": {
          "unique_count": 285,
          "nan_count": 0,
          "categories": [
           {
            "name": "two stars",
            "count": 4
           },
           {
            "name": "not good",
            "count": 3
           },
           {
            "name": "283 others",
            "count": 287
           }
          ]
         }
        },
        {
         "name": "Review",
         "dtype": "object",
         "stats": {
          "unique_count": 291,
          "nan_count": 3,
          "categories": [
           {
            "name": "Have you checked out their ‘Privacy Policy’?They can (will?):“Collect and store” information on “your search queries, IP addresses, hardware settings, browser type, browser language, the date and time of your request, referral URL, and certain cookies that identify your browser or Account.”Imbedded web beacons allow their servers certain types of information from your Phone/computer/tablet and to read “when you opened an email message”Their cookies “May contain information about Device (Device is your phone/computer/tablet) , including “user settings, browsing history, and activities conducted while using the Services.”And, if you live in California like me they also “do not commit to honoring \"Do Not Track\" signals in your browser.”Their definition of Content means any “information, text, graphics, written posts, executive files..,” and “other information matetials generated, provided, uploaded, downloaded, appearing or otherwise accessible on or through Nebula”.  So, everything?Their Privacy Policy also contradicts their Terms in places.Their Terms indicate:They’ll collect “the counts of opening certain application”. Not theirs, ‘certain’.They’ll collect information on your phone/computer/tablet such as hardware and software versions and ‘so on’”.  So on?It’s s great product - super cool packaging, great display, solid interface.  But I’m going to return it.  It’s like getting a manicure and them rifling through my purse while they do it.  Ultimately, it doesn’t matter how sparkly my nails turn out...",
            "count": 1
           },
           {
            "name": "290 others",
            "count": 290
           },
           {
            "name": "Missing",
            "count": 3
           }
          ]
         }
        },
        {
         "name": "_deepnote_index_column",
         "dtype": "int64"
        }
       ],
       "rows_top": [
        {
         "Title": "read their privacy policy they are intrusive",
         "Review": "Have you checked out their ‘Privacy Policy’?They can (will?):“Collect and store” information on “yo…",
         "_deepnote_index_column": 0
        },
        {
         "Title": "great hardware but software does not work  do not buy unless you want to project from hdmi source o…",
         "Review": "I very rarely write reviews on Amazon, but I feel compelled to write a review for this product beca…",
         "_deepnote_index_column": 1
        },
        {
         "Title": "i am keeping it but",
         "Review": "The stripped-down version of Android is a real bummer, I must say. Kills the potential of this proj…",
         "_deepnote_index_column": 2
        },
        {
         "Title": "lies",
         "Review": "Who reviewed this POS and gave it 5 stars?1. Bluetooth doesn’t stay pair to outside speakers.2. Sou…",
         "_deepnote_index_column": 3
        },
        {
         "Title": "it does not work on most formats",
         "Review": "The projector will play Netflix off it’s native application using your phone as a hotspot.The proje…",
         "_deepnote_index_column": 4
        },
        {
         "Title": "needs to be brighter",
         "Review": "I got this projector due to being compact and having built in speaker.  The con is that you can onl…",
         "_deepnote_index_column": 5
        },
        {
         "Title": "2 weeks 7 etc support calls and  76 worth of hdmi cables and connectors but still does not work",
         "Review": "Mine had a ton of problems. I called customer support about 5 times and ultimately couldn’t get it …",
         "_deepnote_index_column": 6
        },
        {
         "Title": "a good attempt but needs improvement",
         "Review": "I purchased the Nebula Capsule Smart Mini Projector as a gift so I can not review it for long term …",
         "_deepnote_index_column": 7
        },
        {
         "Title": "lovely outside but the guts on this unit leaves something to be desired",
         "Review": "Out of the box the unit itself is a solid piece of hardware, well constructed, metal grill over the…",
         "_deepnote_index_column": 8
        },
        {
         "Title": "no longevity sporadic functionality",
         "Review": "It's been about a month since purchase. My intent with this device was for long usages. Not just a …",
         "_deepnote_index_column": 9
        },
        {
         "Title": "it must be unlocked",
         "Review": "It is locked so none of the apps work. You can not even sign into Youtube. Lol!  You can not even s…",
         "_deepnote_index_column": 10
        },
        {
         "Title": "almost love it not worth the price",
         "Review": "This was so expensive, $300. So I was hoping it would be everything I was hoping for. i mean, its d…",
         "_deepnote_index_column": 11
        },
        {
         "Title": "terrible software and barely usable",
         "Review": "I was really excited for this to show up with the NFL Championship games coming up this weekend. I …",
         "_deepnote_index_column": 12
        },
        {
         "Title": "mala resolucion en salas iluminadas",
         "Review": "Mala resolucion en salas iluminadasLa resolucion en salas iluminadas es mala, no se ve practicament…",
         "_deepnote_index_column": 13
        },
        {
         "Title": "it does not work",
         "Review": "Horrible product. Doesn't connect to Netflix. It started out playing Netflix and was great, then su…",
         "_deepnote_index_column": 14
        },
        {
         "Title": "does not work well with airplay for ipad",
         "Review": "I bought this projector because I wanted to use it in my classroom to airplay from my iPad. I thoug…",
         "_deepnote_index_column": 15
        },
        {
         "Title": "not what you think",
         "Review": "If you’re a teacher or a businessman then this will be just fineBut if you just want to connect to …",
         "_deepnote_index_column": 16
        },
        {
         "Title": "was probably a great purchase in 2018 but there are better options for price in 2021",
         "Review": "This projector is really cool looking. It's really easy to use and connect via HDMI or the app. It'…",
         "_deepnote_index_column": 17
        },
        {
         "Title": "just ok not great",
         "Review": "I wanted to like this mini projector so much but i just can't. So first of all you can't mirror mov…",
         "_deepnote_index_column": 18
        },
        {
         "Title": "not worth the money",
         "Review": "1. They’ve lowered the price on this item the day I received it in the mail. Since Amazon won’t do …",
         "_deepnote_index_column": 19
        },
        {
         "Title": "look elsewhere not very bright and blurry edges",
         "Review": "The picture is horrible at 100 inches. You either get clean edges and horrible center picture or ho…",
         "_deepnote_index_column": 20
        },
        {
         "Title": "disappointed and underwhelmed",
         "Review": "I wanted to like it and keep it, I really did. I kept trying to convince myself that the picture qu…",
         "_deepnote_index_column": 21
        },
        {
         "Title": "expensive bad navigation no display resizing",
         "Review": "It’s packaged and looks great. However, the remote navigation (or app) is horrible. For the price w…",
         "_deepnote_index_column": 22
        },
        {
         "Title": "over priced and poor quality",
         "Review": "It has its pros and cons. I like the portable easy to use feel. Easy charging. It works well. I was…",
         "_deepnote_index_column": 23
        },
        {
         "Title": "great small projector",
         "Review": "I don’t even know where to start. I’ve read a lot of reviews in this and other products like it. So…",
         "_deepnote_index_column": 24
        },
        {
         "Title": "utter disappointment and waste of money buy a cheap one this one runs like it",
         "Review": "Spent nearly $300 hoping for a smart protector with Bluetooth capabilities that can play streaming …",
         "_deepnote_index_column": 25
        },
        {
         "Title": "brightness and windows projection not great",
         "Review": "I bought this last year more as a gadget at a reasonable price than a real need.  Form factor, oper…",
         "_deepnote_index_column": 26
        },
        {
         "Title": "no audio out",
         "Review": "This is the nicest picture I’ve ever seen from a small projector. Virtually everything about its fu…",
         "_deepnote_index_column": 27
        },
        {
         "Title": "youtube sign in tiptrick",
         "Review": "I was absolutely shocked at the top tier quality of this product. The fact that I can use this in a…",
         "_deepnote_index_column": 28
        },
        {
         "Title": "do not do it misleading reviews",
         "Review": "Its honesty so bad. I never leave reviews but I am so bothered by the amount of good reviews I had …",
         "_deepnote_index_column": 29
        },
        {
         "Title": "video is not that sharp 420p but rest is good",
         "Review": "Things I dislike about it1. The video isn't that sharp - this is probably the main reason why I wou…",
         "_deepnote_index_column": 30
        },
        {
         "Title": "does the job but was expecting more",
         "Review": "I don't know, but for the money I spent on this unit was expecting more. My main complain is the so…",
         "_deepnote_index_column": 31
        },
        {
         "Title": "compared to others at the same price point disappointed",
         "Review": "I had high hopes for this as it is such a cool concept. But the brightness and the clarity is not w…",
         "_deepnote_index_column": 32
        },
        {
         "Title": "does not really screen mirror",
         "Review": "I cant screen mirror anything....its so dumb, I can watch it on my phone becasue I have netflix, Am…",
         "_deepnote_index_column": 33
        },
        {
         "Title": "many many reasons to move on  this sucks",
         "Review": "This totally sucks.1) it’s dim as heck2) you can’t opt to leave the cord in charging - you have to …",
         "_deepnote_index_column": 34
        },
        {
         "Title": "be prepared to never actually watch anything on it",
         "Review": "Be prepared to never be able to watch anything on it. As a device it’s awesome; quiet, portable etc…",
         "_deepnote_index_column": 35
        },
        {
         "Title": "awful device that does not work",
         "Review": "This is a complete waste of money. If I could return it I would.The sound quality is awful, but I c…",
         "_deepnote_index_column": 36
        },
        {
         "Title": "low quality item died after 22 months with very light usage",
         "Review": "It was great while it lasted but clearly not a quality item as it shouldn't have stopped working in…",
         "_deepnote_index_column": 37
        },
        {
         "Title": "more looks than longevity buy the extended warranty",
         "Review": "I had and was well entertained by this projector for 1 yr 8 months, then it went haywire it stays o…",
         "_deepnote_index_column": 38
        },
        {
         "Title": "great video but very disappointing",
         "Review": "At first this little projector impressed me so much. It has android built into so you can stream Ne…",
         "_deepnote_index_column": 39
        },
        {
         "Title": "the product picture quality is bad",
         "Review": "The sound quality is good but The picture quality is very bad as the images projected images are no…",
         "_deepnote_index_column": 40
        },
        {
         "Title": "expensive toy not much application for it",
         "Review": "It's not a terrible product, but for the price, I just feel like it's a waste of money. The image t…",
         "_deepnote_index_column": 41
        },
        {
         "Title": "a complete mess filled with issues not worth price",
         "Review": "Product has a ton of issues. Many of the apps on the store have a lot of bugs & issues that are nev…",
         "_deepnote_index_column": 42
        },
        {
         "Title": "disappointed by selling used item",
         "Review": "I will be returning this item. Although i love ankers products, they sent me a refurbished or used …",
         "_deepnote_index_column": 43
        },
        {
         "Title": "well manufactured disappointing audio",
         "Review": "The Capsule is an impressive product straight out of the box, in fact the packaging is very impress…",
         "_deepnote_index_column": 44
        },
        {
         "Title": "i got original version and not the capsule ii",
         "Review": "I was expecting the Nebula Capsule II since I ordered it January 2019. What I got is the original v…",
         "_deepnote_index_column": 45
        },
        {
         "Title": "apple compatibility lacking",
         "Review": "Bought and read the reviews dating is android based but really hoped for more.Can access some apps …",
         "_deepnote_index_column": 46
        },
        {
         "Title": "dont buy this product",
         "Review": "Do not buy this. You will not get what is showcased in the ad. In my case 3 items were missing and …",
         "_deepnote_index_column": 47
        },
        {
         "Title": "cool idea great design bad execution",
         "Review": "We debated keeping the device, it looked cool, solid, great design, picture quality was great but t…",
         "_deepnote_index_column": 48
        },
        {
         "Title": "garbage",
         "Review": "I will be returning this tomorrow. It’s bad enough that it is too dim to watch outside at dusk, and…",
         "_deepnote_index_column": 49
        },
        {
         "Title": "great size terrible software and connection ports lacking",
         "Review": "This seems like the perfect projector size and price, but the software bus terrible. You end up hav…",
         "_deepnote_index_column": 50
        },
        {
         "Title": "send me my money back please",
         "Review": "It was cool...did everything I needed until it didnt. Delivered to me on March 18th, stopped workin…",
         "_deepnote_index_column": 51
        },
        {
         "Title": "save your money do not buy this junk",
         "Review": "I like the item itself but the one huge problem for me is the same that many users complained about…",
         "_deepnote_index_column": 52
        },
        {
         "Title": "not as described",
         "Review": "I bought this product because for a outside viewing of movies for my kids and there friends. the sc…",
         "_deepnote_index_column": 53
        },
        {
         "Title": "it is is a toy",
         "Review": "Think of this more a novelty toy. I bought this for my basement and even in the pitch black the ima…",
         "_deepnote_index_column": 54
        },
        {
         "Title": "very dim",
         "Review": "Some pros:- built in wifi and smart functions- variety of options- auto keystone (only vertical tho…",
         "_deepnote_index_column": 55
        },
        {
         "Title": "stops working after about a year",
         "Review": "Worked fine for about a year, but started getting power issues until it just kept turning off and d…",
         "_deepnote_index_column": 56
        },
        {
         "Title": "not very bright but good in dark room",
         "Review": "I was a little disappointed in this projector, but I will keep it.Cons:1) Picture isn't very bright…",
         "_deepnote_index_column": 57
        },
        {
         "Title": "high hopes but disappointed limiting hardware and software",
         "Review": "What’s the point of “portable” if you need wifi to watch Netflix? I was hoping to take it camping, …",
         "_deepnote_index_column": 58
        },
        {
         "Title": "not good enough",
         "Review": "- Remote control doesn’t work.- The software is uber clunky.- Arrived already opened, battery and l…",
         "_deepnote_index_column": 59
        },
        {
         "Title": "solid performance limited apps",
         "Review": "Limited options in terms of apps. Projector performs well, but it would it would be better if it su…",
         "_deepnote_index_column": 60
        },
        {
         "Title": "limited capabilities",
         "Review": "I can't get it to connect to any HDMI I plug into it. I really want to use it for my Switch. I knew…",
         "_deepnote_index_column": 61
        },
        {
         "Title": "not happy",
         "Review": "Couple things:1. This is NOT bright enough to be used outside.2. I cannot get the APP to work on my…",
         "_deepnote_index_column": 62
        },
        {
         "Title": "okaybut photos are deceiving",
         "Review": "So we tried the Nebula Capsule...first off, the picture on the box shows the projector being used o…",
         "_deepnote_index_column": 63
        },
        {
         "Title": "bad picture quality not bright grainy at times",
         "Review": "The only thing this gets to stars for is the size it literally is the size of a soda can. The remot…",
         "_deepnote_index_column": 64
        },
        {
         "Title": "really expensive for what it doesplus no way to fix a crooked projection",
         "Review": "I liked the convenience of this device, but I think it's pretty pricey for something that I have to…",
         "_deepnote_index_column": 65
        },
        {
         "Title": "it is perfect and disappointing",
         "Review": "Quality is great, but screen play does not work. Screen mirror does not work. And the hdmi adapter …",
         "_deepnote_index_column": 66
        },
        {
         "Title": "picture function and small size is impressive",
         "Review": "Loved the size and quality of the picture.  I wanted to massively like this projector but the remot…",
         "_deepnote_index_column": 67
        },
        {
         "Title": "mediocre purchase",
         "Review": "I like it so far. Surprised it auto adjusted when the angle changed. Hard remote didnt work for Net…",
         "_deepnote_index_column": 68
        },
        {
         "Title": "the advertising page was misleading",
         "Review": "According to the advertising pages, this device should be able to be a wireless display for a Windo…",
         "_deepnote_index_column": 69
        },
        {
         "Title": "limited streaming",
         "Review": "It's... ok. I wasn't looking for just ok, though. The portability is great, but that is the best pa…",
         "_deepnote_index_column": 70
        },
        {
         "Title": "it is shocking what a mess this is",
         "Review": "I will update and list the ways in which this thing is terrible but most of all the nebular app is …",
         "_deepnote_index_column": 71
        },
        {
         "Title": "terrible for netflix",
         "Review": "I bought this thing for netflix and was very disappointed you cannot screen mirror with anything ex…",
         "_deepnote_index_column": 72
        },
        {
         "Title": "poor quality broken in four months",
         "Review": "Within the first month of use, whenever a darker scene was being displayed, the picture went black …",
         "_deepnote_index_column": 73
        },
        {
         "Title": "just okay better spend little more buy good one",
         "Review": "The quality of picture is just okay/not bad ( i am not saying it is good). The brightness is bad. B…",
         "_deepnote_index_column": 74
        },
        {
         "Title": "time to return this junk not iphone friendly",
         "Review": "What good is it to list out the Pros and Cons, if the #1 reason why I purchased the Capsule was to …",
         "_deepnote_index_column": 75
        },
        {
         "Title": "it is not bright enough for use",
         "Review": "This product does not live up to its hype. They have changed the description concerning the lumens …",
         "_deepnote_index_column": 76
        },
        {
         "Title": "me gusta pero",
         "Review": "Me gusta bastante, tiene buena calidad la proyección, buen volumen del parlante incorporado, pero l…",
         "_deepnote_index_column": 77
        },
        {
         "Title": "seriously",
         "Review": "It’s awesome that it’s small and has built in speakers...But it won’t support any apps- not even Ne…",
         "_deepnote_index_column": 78
        },
        {
         "Title": "great idea but not carried out to its fullest potential by far",
         "Review": "I was very excited to finally get this product because I expected to be able to use it more easily …",
         "_deepnote_index_column": 79
        },
        {
         "Title": "disappointed beyond words",
         "Review": "Worst nightmare realized through this projector.  Purchased this to watch a video I made for my mom…",
         "_deepnote_index_column": 80
        },
        {
         "Title": "does not work with iphone",
         "Review": "Even if you have subscriptions to streaming platforms, this projector wont let you play them. I tri…",
         "_deepnote_index_column": 81
        },
        {
         "Title": "this product needs to be cheapier",
         "Review": "This product would have been good at a below $100 dollar price tag. It was functional but as soon a…",
         "_deepnote_index_column": 82
        },
        {
         "Title": "was a fan of anker until purchasing this piece of junk",
         "Review": "Charged the battery to full, went to login to wifi, it instantly launches a browser. Well... you ca…",
         "_deepnote_index_column": 83
        },
        {
         "Title": "difficult to navigate in any mode",
         "Review": "This is my first projector but I found it very difficult navigation.  Some areas like YouTube for e…",
         "_deepnote_index_column": 84
        },
        {
         "Title": "very loud",
         "Review": "I liked it from the first minute but was disappointed later. The image is ok, Sound is good. The fo…",
         "_deepnote_index_column": 85
        },
        {
         "Title": "works well as a projector app is pretty bad for an otherwise polished product",
         "Review": "the projector feels solid and has a good quality out of the box. The picture quaility is good to gr…",
         "_deepnote_index_column": 86
        },
        {
         "Title": "speaker is not good",
         "Review": "I was pleasantly surprised when I came across this little speaker/projector. I had been looking for…",
         "_deepnote_index_column": 87
        },
        {
         "Title": "compact disappointment",
         "Review": "The projector is compact and simple to connect (hard wire) to a Blu-ray or DVD.It cannot be used wh…",
         "_deepnote_index_column": 88
        },
        {
         "Title": "need complete darkness",
         "Review": "I bought this as a teaching device to show power point presentations to my class. It is now one of …",
         "_deepnote_index_column": 89
        },
        {
         "Title": "just ok",
         "Review": "Wanted to love this product however we have had a really hard time with it. The lumens aren’t enoug…",
         "_deepnote_index_column": 90
        },
        {
         "Title": "problem with overheating within minutes of turning on",
         "Review": "This product worked well and about a month ago I keep getting a message that says it must be turned…",
         "_deepnote_index_column": 91
        },
        {
         "Title": "over all great product looking into why it glitches so much",
         "Review": "I love how this is mobile, small and can be used without being plugged in. Small fan not too loud. …",
         "_deepnote_index_column": 92
        },
        {
         "Title": "mini projector mini issues",
         "Review": "I like it, the issues I have are 1.) It seems to keep cutting off after playing for a bit, before a…",
         "_deepnote_index_column": 93
        },
        {
         "Title": "does not work",
         "Review": "I bought this over a year ago and never was able to use it wirelessly. The OS just never worked and…",
         "_deepnote_index_column": 94
        },
        {
         "Title": "missing pieces",
         "Review": "No remote... came with box for it but was empty",
         "_deepnote_index_column": 95
        },
        {
         "Title": "defective unit",
         "Review": "Received a defective unit. Mine doesn’t charge while powered on, and I’ve tried improved power cord…",
         "_deepnote_index_column": 96
        },
        {
         "Title": "do not waste your time if this is a family purchase",
         "Review": "Barely workable as a media projector for the family.  The remote doesn’t work with many of the apps…",
         "_deepnote_index_column": 97
        },
        {
         "Title": "too dark",
         "Review": "Handy dandy cute invention. Quite portable but not bright enough. Fan noise in the unit as expected…",
         "_deepnote_index_column": 98
        },
        {
         "Title": "not worth the expensive price",
         "Review": "This projector is decent,  but for the price I paid I expected more. For the most part it worked fi…",
         "_deepnote_index_column": 99
        },
        {
         "Title": "received repackaged item still connected to previous users accounts returning",
         "Review": "Purchased new from Amazon. Wasn’t new. Item was out of original packaging. When I powered it up, it…",
         "_deepnote_index_column": 100
        },
        {
         "Title": "portable but not highest sound or image quality",
         "Review": "not very bright, hard to see when light is already dimmed, speaker on the projector is pretty bad q…",
         "_deepnote_index_column": 101
        },
        {
         "Title": "the update that  could not wait",
         "Review": "So, you have some friends over to watch a movie.  Right in the middle of it a message pops up telli…",
         "_deepnote_index_column": 102
        },
        {
         "Title": "it is alright",
         "Review": "I was looking for a device that did not have to be centered but this one most definitely does, I ha…",
         "_deepnote_index_column": 103
        },
        {
         "Title": "its alright",
         "Review": "It's a good starter projector.  It's easy to use and set up. But if you're tech saavy - this really…",
         "_deepnote_index_column": 104
        },
        {
         "Title": "amazing and nifty but its always tilted",
         "Review": "Think this is a amazing concept, great for travel, amazing picture and can be used in many differen…",
         "_deepnote_index_column": 105
        },
        {
         "Title": "ok for poolside but obviously needs complete dark to be enjoyable",
         "Review": "It's ok. The fact that it's portable and have good speakers make it a great niche product, but that…",
         "_deepnote_index_column": 106
        },
        {
         "Title": "crashes  draw of the luck",
         "Review": "So I read a review saying when they received their projector, it crashed every 10-30 minutes. Mine …",
         "_deepnote_index_column": 107
        },
        {
         "Title": "it was okay",
         "Review": "It was an alright projector and now it won’t even charge or turn on anymore, it just tries to power…",
         "_deepnote_index_column": 108
        },
        {
         "Title": "not worth the money just novel",
         "Review": "It’s unintuitive to use, dim, and the battery life is nowhere near 4 hours. Closer to 1.5 if you ac…",
         "_deepnote_index_column": 109
        },
        {
         "Title": "battery drains while off more so",
         "Review": "Battery drains while off, more so than expected.  Battery life is so so while in use.  But the pros…",
         "_deepnote_index_column": 110
        },
        {
         "Title": "this would be great if it was not so terrible",
         "Review": "It would be so perfect if it wasn’t so useless. If you are looking for a beautiful picture, a simpl…",
         "_deepnote_index_column": 111
        },
        {
         "Title": "would not recommend did not work out of box",
         "Review": "nan",
         "_deepnote_index_column": 112
        },
        {
         "Title": "too dim",
         "Review": "Returned item. Would be great if you were in a really dark room and using it as about a 20 inch tv.…",
         "_deepnote_index_column": 113
        },
        {
         "Title": "very disappointed",
         "Review": "Really wanted to love it. But I can’t actually use it. Won’t screen play from my iPhone. I’ve conne…",
         "_deepnote_index_column": 114
        },
        {
         "Title": "amazing product i think i got a used product or the product was damaged on the way to me",
         "Review": "Amazing product!I think I got a used product or the product was damaged on the way to me.Certain pa…",
         "_deepnote_index_column": 115
        },
        {
         "Title": "lack quality features for gamers",
         "Review": "The projector is great and very compact. But for specifically having a home Theater it isn’t the be…",
         "_deepnote_index_column": 116
        },
        {
         "Title": "not worth it",
         "Review": "Not worth the price. Quality was very dark and hard to focus. Even in completely dark room. Will be…",
         "_deepnote_index_column": 117
        },
        {
         "Title": "short life span",
         "Review": "I can’t believe I bought this two years ago, used it maybe 3 dozen times and now the damn thing won…",
         "_deepnote_index_column": 118
        },
        {
         "Title": "crooked screen",
         "Review": "Unfortunately, my nebula showed up with a crooked screen placement. It’s as if it slipped and got s…",
         "_deepnote_index_column": 119
        },
        {
         "Title": "mixed feelings on it",
         "Review": "I like this device a lit but it sometimes is awkward hooking the thing to iOS and other devices. Ta…",
         "_deepnote_index_column": 120
        },
        {
         "Title": "need to have certain conditions",
         "Review": "The sound and focus / crispness of the pictures are great- its very hard to see the projection if t…",
         "_deepnote_index_column": 121
        },
        {
         "Title": "useless for streaming while using external bluetooth speaker  anything sort of see update",
         "Review": "Update II:I exchanged the unit in the hope that the new one would behave better with respect to sim…",
         "_deepnote_index_column": 122
        },
        {
         "Title": "not very bright",
         "Review": "Not as good as the reviews and ad says, can't see it in a day lit room",
         "_deepnote_index_column": 123
        },
        {
         "Title": "inside of projector screen came with a scratch",
         "Review": "Inside of projector screen came with a scratch, no longer in stock so my only option is return or k…",
         "_deepnote_index_column": 124
        },
        {
         "Title": "not for iphone",
         "Review": "Could have mentioned the item is meant for Android devices and doesn’t really work with iPhone or i…",
         "_deepnote_index_column": 125
        },
        {
         "Title": "not compatible with android or windows",
         "Review": "Is this worth the price? No.The device has instructions top connect with windows and android phones…",
         "_deepnote_index_column": 126
        },
        {
         "Title": "good picture quality but hard to use with phone",
         "Review": "This is such a disappointment. It already comes equipped to play Netflix and that works fine and th…",
         "_deepnote_index_column": 127
        },
        {
         "Title": "do not waste your money on this projector",
         "Review": "Poor sound and quality image. You can get a 10 times better product for this price. It's very annoy…",
         "_deepnote_index_column": 128
        },
        {
         "Title": "ca not stream without wifi",
         "Review": "Why have a portable projector you can’t use unless you’re connected to a wifi network? It would be …",
         "_deepnote_index_column": 129
        },
        {
         "Title": "nothing works",
         "Review": "Remote doesn't work. Does not project onto a ceiling as the picture shows, you need to buy a specia…",
         "_deepnote_index_column": 130
        },
        {
         "Title": "heading in the right direction but still needs improvement",
         "Review": "Pro: Excellent product design. High quality materials. Light weight  & portability.  High screen vi…",
         "_deepnote_index_column": 131
        },
        {
         "Title": "seems tiny and simple but is fussy and meh",
         "Review": "My coworker got one of these. Really talked it up. I bought one and was disappointed. It was fussy …",
         "_deepnote_index_column": 132
        },
        {
         "Title": "ca not watch youtube nor prime",
         "Review": "The UI is terrible. The remote app is also terrible. I can’t watch Youtube nor Prime Video.Projecto…",
         "_deepnote_index_column": 133
        },
        {
         "Title": "no lo recomiendo",
         "Review": "No se por que tiene buenas reputaciones, la verdad compre por las reputaciones pero no me gusto par…",
         "_deepnote_index_column": 134
        },
        {
         "Title": "maybe good for home not for business though",
         "Review": "Not bright enough for our commercial use.  Returned and bought a different one, larger and brighter…",
         "_deepnote_index_column": 135
        },
        {
         "Title": "just not as good as expected",
         "Review": "The interface of the system is not user friendly. The picture quality is truly lackluster. It’s cut…",
         "_deepnote_index_column": 136
        },
        {
         "Title": "brightness sucks and apps are meh",
         "Review": "The concept is cool as in its portable and convenient but for the price, it’s not really worth it. …",
         "_deepnote_index_column": 137
        },
        {
         "Title": "just did not work",
         "Review": "Couldn’t get YouTube to work.Hdmi didn’t workUpdated firmware and I kept getting a window that read…",
         "_deepnote_index_column": 138
        },
        {
         "Title": "very cool concept and works amazingly well in a dark room",
         "Review": "Very cool concept and works amazingly well in a dark room.  Extremely easy to use also.  I ultimate…",
         "_deepnote_index_column": 139
        },
        {
         "Title": "small movie projector",
         "Review": "Pros: Small enough to take it any where with youCons: Low video quality and poor sound quality of s…",
         "_deepnote_index_column": 140
        },
        {
         "Title": "os was terrible",
         "Review": "Great size and brightness (which is the reason for 2 stars instead of 1) but I had incredible troub…",
         "_deepnote_index_column": 141
        },
        {
         "Title": "does not last long",
         "Review": "This stopped working 13 months into use so I would not recommend buying.  While it worked, the soun…",
         "_deepnote_index_column": 142
        },
        {
         "Title": "movie apps constantly crash",
         "Review": "The picture and sound are very good. The issue is the apps constantly crashes with the majority of …",
         "_deepnote_index_column": 143
        },
        {
         "Title": "terrible",
         "Review": "I am so upset, I noticed I revived a used/ return one because the remote is missing and the lens is…",
         "_deepnote_index_column": 144
        },
        {
         "Title": "projector only works with apps that come with projector",
         "Review": "This projector will only work with the apps that it comes with which means you have to subscribe to…",
         "_deepnote_index_column": 145
        },
        {
         "Title": "good projector and battery life but mirror cast would not work",
         "Review": "The projector was great and very easy to use.  Returned it after 3 weeks, was in talks with the com…",
         "_deepnote_index_column": 146
        },
        {
         "Title": "three stars",
         "Review": "CPU fan or the inside fan is too loud. Also, it does not support Google Play...",
         "_deepnote_index_column": 147
        },
        {
         "Title": "good but eh",
         "Review": "Works very well but doesn’t hold charge very long, you can’t charge it while you’re using it, and h…",
         "_deepnote_index_column": 148
        },
        {
         "Title": "good product not excellent",
         "Review": "It’s an okay product for how expensive it is. I wish it could be brighter, the pixelation was bette…",
         "_deepnote_index_column": 149
        },
        {
         "Title": "item broke after a few months",
         "Review": "Quality of image not too sharp. Acceptable. Price is not competitive either. It stopped working aft…",
         "_deepnote_index_column": 150
        },
        {
         "Title": "dont buy it",
         "Review": "This this is TRASH - the batter sucks. Doesn’t charge while in use. Also doesn’t charge while plugg…",
         "_deepnote_index_column": 151
        },
        {
         "Title": "still it is not bright enough if you are not in a complete dark room",
         "Review": "I do not recommend to purchase this product yet till they develope the brightness more than 600 ANS…",
         "_deepnote_index_column": 152
        },
        {
         "Title": "not good",
         "Review": "Bought this to use for senior management meetings and various other things.  What a waste of money.…",
         "_deepnote_index_column": 153
        },
        {
         "Title": "poor on brightly lit rooms",
         "Review": "Great Concept. I bought and used on darker rooms.  It was good.  Later on, I had to use to on light…",
         "_deepnote_index_column": 154
        },
        {
         "Title": "still not ready for prime time",
         "Review": "For its size and cost, brightness and picture quality are excellent. The remote and apps however ar…",
         "_deepnote_index_column": 155
        },
        {
         "Title": "poor picture quality",
         "Review": "Not that great picture quality.",
         "_deepnote_index_column": 156
        },
        {
         "Title": "not worth the hype or the money",
         "Review": "Remote doesn't work, picture doesn't focus fully and one side of the picture is bigger. Not worth t…",
         "_deepnote_index_column": 157
        },
        {
         "Title": "it did not recognize hdmi input",
         "Review": "Tried three different HDMI cords. Projector would not recognize the HDMI input. Returned product an…",
         "_deepnote_index_column": 158
        },
        {
         "Title": "the bluetooth has a delay with speaker",
         "Review": "The bluetooth has a delay with speaker. The sound is delayed behind the movie. It's a waste of mone…",
         "_deepnote_index_column": 159
        },
        {
         "Title": "not a sturdy product",
         "Review": "After less than a year, the project screen cracked for no reason",
         "_deepnote_index_column": 160
        },
        {
         "Title": "not good",
         "Review": "It is joke product  maybe because it is not expensive",
         "_deepnote_index_column": 161
        },
        {
         "Title": "disappointed in nebula",
         "Review": "So disappointed. I didn’t use it til the return period was over. Remote control was a D. Picture bl…",
         "_deepnote_index_column": 162
        },
        {
         "Title": "streaming apps do not work",
         "Review": "I love it, BUT none of the streaming apps work. They let me log in but then never show movies or an…",
         "_deepnote_index_column": 163
        },
        {
         "Title": "nebula",
         "Review": "The nebula is supposed to be work without WiFi.  It is not working alone with the HDMI chord and I …",
         "_deepnote_index_column": 164
        },
        {
         "Title": "remote control issue",
         "Review": "I've been using the product for the past 4 weeks. At first, everything worked fine, but about one o…",
         "_deepnote_index_column": 165
        },
        {
         "Title": "iphone user be aware  softwares wo not work",
         "Review": "I bought this to pair w my iPhone to watch Crunchyroll, YouTube, Netflix Hulu, etc...  The software…",
         "_deepnote_index_column": 166
        },
        {
         "Title": "avoid",
         "Review": "Broken remote, app crashes. Doesn’t have any options for YouTube tv, hbo, etc",
         "_deepnote_index_column": 167
        },
        {
         "Title": "awesome except it is breaking 8 months in",
         "Review": "I really love how portable and accessible this is. It’s awesome. However, it’s been 8 months since …",
         "_deepnote_index_column": 168
        },
        {
         "Title": "sound output volume is its biggest issue  not loud enough for outdoor usage",
         "Review": "The Nebula is a very nice projector but I ended up sending it back. I have owned a regular projecto…",
         "_deepnote_index_column": 169
        },
        {
         "Title": "not bright enough",
         "Review": "It did not have light power or brightness for a moderately lit room at about 6 feet from screen.",
         "_deepnote_index_column": 170
        },
        {
         "Title": "it can do everything but is not good at anything",
         "Review": "It is an all in one package. I purchased on sale for 250 and returned. The speakers are poor, the d…",
         "_deepnote_index_column": 171
        },
        {
         "Title": "not able to login to youtube",
         "Review": "I am giving 3 stars because I am not able to login to YouTube and I dont find HBO app to download. …",
         "_deepnote_index_column": 172
        },
        {
         "Title": "bad quality picture",
         "Review": "Surprised to have such a low quality for that price.",
         "_deepnote_index_column": 173
        },
        {
         "Title": "horrible experience",
         "Review": "It doesn't support many apps, has trouble connecting to devices via bluetooth let alone their app. …",
         "_deepnote_index_column": 174
        },
        {
         "Title": "constant troubleshooting is annoying",
         "Review": "Don't waste your money.1. The display is only bright enough after dark.2. We get constant error mes…",
         "_deepnote_index_column": 175
        },
        {
         "Title": "anyway i can project my iphone",
         "Review": "I cannot seem to mirror screen my iPhone when outside without wifi.  Both phone and projector need …",
         "_deepnote_index_column": 176
        },
        {
         "Title": "bad image quality and brightness",
         "Review": "Just received the productBrightness is very bad and it is hard to see anything when I use it even a…",
         "_deepnote_index_column": 177
        },
        {
         "Title": "small but dull",
         "Review": "Yes it's small, but it's.brightness makes it useless in 80% of situations. Way too dull. Don't both…",
         "_deepnote_index_column": 178
        },
        {
         "Title": "product default shows up after 1 month",
         "Review": "The product has had issues after the first month. The image switches colorspace time to time with a…",
         "_deepnote_index_column": 179
        },
        {
         "Title": "it could be better",
         "Review": "The positives: small, decent picture qualityNegatives: loud fan running the entire time.  Useless r…",
         "_deepnote_index_column": 180
        },
        {
         "Title": "just get the nebula ii this one is a waste of money",
         "Review": "I purchased this one and regret I did. Its collecting dust now because I bought the Nebula II which…",
         "_deepnote_index_column": 181
        },
        {
         "Title": "cant screen share netflix or amazon ect",
         "Review": "I bought this for camping but it seems pointless if you dont have internet and want to screen share…",
         "_deepnote_index_column": 182
        },
        {
         "Title": "good in the dark",
         "Review": "The idea is great, but maybe need to go with the more upgrade model. Sound is pretty quiet and the …",
         "_deepnote_index_column": 183
        },
        {
         "Title": "poor quality",
         "Review": "Battery doesn't charge to 100 and doesn't last the time described in the description. Do no buy!",
         "_deepnote_index_column": 184
        },
        {
         "Title": "tilted screen",
         "Review": "I got this but picture quality is not that gt and the picture is titled. I Tried to reset and did l…",
         "_deepnote_index_column": 185
        },
        {
         "Title": "quality is not there",
         "Review": "Too expensive for the quality, if you want better quality their other products are even more expens…",
         "_deepnote_index_column": 186
        },
        {
         "Title": "lost sound",
         "Review": "The sound went scratchy and quiet. Unfortunate.",
         "_deepnote_index_column": 187
        },
        {
         "Title": "good for a cute pillow fort date or camping",
         "Review": "I loved it as a temporary situation when my girlfriend didn’t have a TV but now we don’t use it...b…",
         "_deepnote_index_column": 188
        },
        {
         "Title": "is hard to perfect match dostan and high fot screen size there is no other way to adjust screen",
         "Review": "Resulution is not clear, the adjustment knob it doesn't change much , the battery drainage quick , …",
         "_deepnote_index_column": 189
        },
        {
         "Title": "cannot cast to projector",
         "Review": "Had to return device because you cannot cast from samsung phone. Disney+, Netflix or Prime video wo…",
         "_deepnote_index_column": 190
        },
        {
         "Title": "not worth the hype",
         "Review": "Low lumen output sucks.  White background of windows explorer washes out text.  Finicky focus wheel…",
         "_deepnote_index_column": 191
        },
        {
         "Title": "impossible to adjust menu is garbage",
         "Review": "unless it's pointing straight at the wall, you're not going to be able to frame it right. The keyst…",
         "_deepnote_index_column": 192
        },
        {
         "Title": "too bad！do not buy！！",
         "Review": "nan",
         "_deepnote_index_column": 193
        },
        {
         "Title": "read this before you buy",
         "Review": "I bought this projector to stream movies I bought on YouTube or just off my computer. I am not allo…",
         "_deepnote_index_column": 194
        },
        {
         "Title": "overall solid product",
         "Review": "Solid product for the price. Other reviews are a bit overhyped. I don’t find the picture quality or…",
         "_deepnote_index_column": 195
        },
        {
         "Title": "too many glitches",
         "Review": "Cuts out every 15 minutes",
         "_deepnote_index_column": 196
        },
        {
         "Title": "expected more",
         "Review": "Picture quality and sound quality is bellow average. But concept is solid. Have to return",
         "_deepnote_index_column": 197
        },
        {
         "Title": "without support this thing is useless",
         "Review": "Instructions were terrible. Still have not been successful at making it work",
         "_deepnote_index_column": 198
        },
        {
         "Title": "100 ansi lumens is not upto the expectations",
         "Review": "100 ansi lumens is not that quality enough. And It is a bit disappointing that Netflix / Amazon pri…",
         "_deepnote_index_column": 199
        },
        {
         "Title": "crooked lens",
         "Review": "Lens is crooked so video is always slanted. Decent speaker, although fan or whatever is the backgro…",
         "_deepnote_index_column": 200
        },
        {
         "Title": "terrible unit",
         "Review": "Dark picture, hdmi connection glitches, remote doesn’t work everything... returning the product",
         "_deepnote_index_column": 201
        },
        {
         "Title": "doe not last long anymore",
         "Review": "I bought this around 3 years ago, and this dies less than an hour now even it's plugged.",
         "_deepnote_index_column": 202
        },
        {
         "Title": "difficult period",
         "Review": "Unfortunately this is very difficult to use. Can't easily stream from apps.",
         "_deepnote_index_column": 203
        },
        {
         "Title": "superb device  extremely bad keyboard",
         "Review": "Superb device - very bad remote - BT keyboards non-compatible - wifi direct non-compatible",
         "_deepnote_index_column": 204
        },
        {
         "Title": "not quite as advertised",
         "Review": "Must purchase the extra appropriate cords for your phone and have internet to work correctly. After…",
         "_deepnote_index_column": 205
        },
        {
         "Title": "stop working after like 5 used",
         "Review": "I only used this item 5 times and it stop working. It's dead, like no power at all!🤬",
         "_deepnote_index_column": 206
        },
        {
         "Title": "a little disappointing if you have an iphone do not get",
         "Review": "I think mine was defective because it take more than two tries to try and turn on",
         "_deepnote_index_column": 207
        },
        {
         "Title": "nice compact mini projector with great speaker",
         "Review": "We returned it because it did not have auto focus. Also, the resolution wasn’t the best.",
         "_deepnote_index_column": 208
        },
        {
         "Title": "two stars",
         "Review": "Not what's I though it will be",
         "_deepnote_index_column": 209
        },
        {
         "Title": "does not do what basic projectors are supposed to",
         "Review": "Cannot cast or mirror from Android phones. No access to play store, and the third party app store i…",
         "_deepnote_index_column": 210
        },
        {
         "Title": "slow difficult to connect wifi is broken",
         "Review": "Can only connect to widi maybe 20% of the time, most of the apps don't allow you to sign in due to …",
         "_deepnote_index_column": 211
        },
        {
         "Title": "used unit with missing accessories",
         "Review": "Box wasn’t sealed, charger and cable weren’t in the box, remote control is not working and there wa…",
         "_deepnote_index_column": 212
        },
        {
         "Title": "price is hig",
         "Review": "goodBut the price is hig",
         "_deepnote_index_column": 213
        },
        {
         "Title": "to be able to use the projector",
         "Review": "The product doesn't have the ability to connect without wifi. I wanted to take it camping and it tu…",
         "_deepnote_index_column": 214
        },
        {
         "Title": "video quality ok but need more improvement",
         "Review": "video quality OK but need more improvement",
         "_deepnote_index_column": 215
        },
        {
         "Title": "not a pleasant product",
         "Review": "A little sad about bought this product, hope they can make improvements.",
         "_deepnote_index_column": 216
        },
        {
         "Title": "i have seen better and cheaper",
         "Review": "Beside being noisy, I was expecting a better experience with this projector. Even though colors are…",
         "_deepnote_index_column": 217
        },
        {
         "Title": "okay",
         "Review": "Remote battery backside falls out fast it feels loose. Certain apps do not work",
         "_deepnote_index_column": 218
        },
        {
         "Title": "not good",
         "Review": "The picture quality was very poor. If it wasn’t on a perfect blank white wall with no texture you c…",
         "_deepnote_index_column": 219
        },
        {
         "Title": "does not charge",
         "Review": "Dims really quickly.",
         "_deepnote_index_column": 220
        },
        {
         "Title": "setup and usage is impossible",
         "Review": "after numerous failures and video instruction I threw in towel did not work for camping.",
         "_deepnote_index_column": 221
        },
        {
         "Title": "no hbo max",
         "Review": "No hbo max.",
         "_deepnote_index_column": 222
        },
        {
         "Title": "fan is loud",
         "Review": "Fan is very loud. Ruins the experience.",
         "_deepnote_index_column": 223
        },
        {
         "Title": "picture quality is not so good",
         "Review": "Picture quality is not good for this price range.",
         "_deepnote_index_column": 224
        },
        {
         "Title": "the sounds quality is terrible and picture quality is fair",
         "Review": "Did not like it.",
         "_deepnote_index_column": 225
        },
        {
         "Title": "two stars",
         "Review": "I am not able install Apps like Youtube., Netflix,. Airplay is very slow & stuck forever.",
         "_deepnote_index_column": 226
        },
        {
         "Title": "wo not turn on for more than 5 minutes",
         "Review": "Had for 6 months and will no longer hold charge or turn on. Plugged in for days and still at 3%.",
         "_deepnote_index_column": 227
        },
        {
         "Title": "picture quality",
         "Review": "the projected picture is not aligned straight. It slopes.",
         "_deepnote_index_column": 228
        },
        {
         "Title": "not my favorite projector",
         "Review": "It said Bluetooth and it clearly wasn’t had to download apps and the ones I needed it wouldn’t let …",
         "_deepnote_index_column": 229
        },
        {
         "Title": "decent",
         "Review": "It’s not bad. But wish I could return it.",
         "_deepnote_index_column": 230
        },
        {
         "Title": "too noice",
         "Review": "too noice，brightness not good in day time，",
         "_deepnote_index_column": 231
        },
        {
         "Title": "it is not doing what is advertises",
         "Review": "i called them and they even admitted to it not projecting up how it is pictured in the advertisemen…",
         "_deepnote_index_column": 232
        },
        {
         "Title": "great image quality poor sound",
         "Review": "Fan is too loud to use in a small space like my bedroom",
         "_deepnote_index_column": 233
        },
        {
         "Title": "loud fan is no fun",
         "Review": "I love that it’s all-in-one so it’s powered and doesn't need an external video source but I do not …",
         "_deepnote_index_column": 234
        },
        {
         "Title": "picure quality is not sharp its not usable at all during day time",
         "Review": "picture quality is not sharp",
         "_deepnote_index_column": 235
        },
        {
         "Title": "no support",
         "Review": "No support",
         "_deepnote_index_column": 236
        },
        {
         "Title": "what can i do",
         "Review": "The remote control of my device does not work",
         "_deepnote_index_column": 237
        },
        {
         "Title": "i really wanted keep this projector but it has a ",
         "Review": "I really wanted keep  this projector but it has a huge design flaw ... #1. No included micro sd car…",
         "_deepnote_index_column": 238
        },
        {
         "Title": "very low light lumens",
         "Review": "The light is not strong enough to see anything",
         "_deepnote_index_column": 239
        },
        {
         "Title": "horrible sound",
         "Review": "Sounds sucks. Brightness is horrible.",
         "_deepnote_index_column": 240
        },
        {
         "Title": "bad experience with mini projector",
         "Review": "It’s been an bad experience with Sound quality is too bad , picture quality is Like okay.  For the …",
         "_deepnote_index_column": 241
        },
        {
         "Title": "just ok",
         "Review": "OK.",
         "_deepnote_index_column": 242
        },
        {
         "Title": "poorly written manual great tech support from kevin",
         "Review": "The users manual is awful for this product but tech support from Kevin was awesome and quick.",
         "_deepnote_index_column": 243
        },
        {
         "Title": "pricey paperweight",
         "Review": "It doesn’t work. I called tech support and it will not actually play anything. My phone communicate…",
         "_deepnote_index_column": 244
        },
        {
         "Title": "poor quality",
         "Review": "Poor quality, could not view picture well at all.  Extremely disappointed",
         "_deepnote_index_column": 245
        },
        {
         "Title": "moderate good",
         "Review": "soso.",
         "_deepnote_index_column": 246
        },
        {
         "Title": "waste of money",
         "Review": "It’s not working good at all",
         "_deepnote_index_column": 247
        },
        {
         "Title": "lumens needs more output",
         "Review": "Lumen brightness to dim",
         "_deepnote_index_column": 248
        },
        {
         "Title": "",
         "Review": "Good",
         "_deepnote_index_column": 249
        },
        {
         "Title": "terrible",
         "Review": "Despite the representations made by seller, the sealed package arrived MISSING a couple of key comp…",
         "_deepnote_index_column": 250
        },
        {
         "Title": "two stars",
         "Review": "😍good",
         "_deepnote_index_column": 251
        },
        {
         "Title": "only got 2 uses ot if the device",
         "Review": "I bought this as a gift for my new roommate.  We were able to use it twice and it wont power on aga…",
         "_deepnote_index_column": 252
        },
        {
         "Title": "losses focused constantly",
         "Review": "Because it sucks. The remote doesn't work. You have to download an app that sucks. Etc",
         "_deepnote_index_column": 253
        },
        {
         "Title": "also the capsule control app is poor difficult to control the mouse function",
         "Review": "when connected to the digital set top box, the picture has a blue hue to it. Also the Capsule Contr…",
         "_deepnote_index_column": 254
        },
        {
         "Title": "sadly dissappointed yet simultaneously awed",
         "Review": "I would have loved to say that I'm happy with this product and that it is what I expected.....but I…",
         "_deepnote_index_column": 255
        },
        {
         "Title": "software ruins the product",
         "Review": "Cool little device but it is completely ruined by the cripled software.  If they had made the bootl…",
         "_deepnote_index_column": 256
        },
        {
         "Title": "screencast not compatible with google pixel phones",
         "Review": "I wanted to write and warn anyone who is thinking about purchasing this with a Google Pixel phone, …",
         "_deepnote_index_column": 257
        },
        {
         "Title": "nebula capsule review updated",
         "Review": "My original review was based on receiving a used product.After speaking with Anker customer service…",
         "_deepnote_index_column": 258
        },
        {
         "Title": "not impressed  welcome to dongle life",
         "Review": "I wanted to like the Nebula Capsule projector.  I really did ... the size and the speakers are deli…",
         "_deepnote_index_column": 259
        },
        {
         "Title": "biggest problem is low brightness",
         "Review": "This is a cool product - works well as advertised.  the BIGGEST problem, which made me give it a th…",
         "_deepnote_index_column": 260
        },
        {
         "Title": "with this cost you can get something better and higher quality",
         "Review": "very dim,with this cost you can get something better and higher quality,received with netflix subsc…",
         "_deepnote_index_column": 261
        },
        {
         "Title": "do not buy scam fake trash",
         "Review": "I'd give it negative 5 stars! The projection is upside down. If and when you get past the home scre…",
         "_deepnote_index_column": 262
        },
        {
         "Title": "totally waste product",
         "Review": "Waste of money",
         "_deepnote_index_column": 263
        },
        {
         "Title": "an under baked device",
         "Review": "Yes, this is a projector the size of a soda can and that is impressive, but there are several major…",
         "_deepnote_index_column": 264
        },
        {
         "Title": "really wanted to like it but",
         "Review": "Where to start, had bought the red one they were having a “deal” on last week.  When I got it, felt…",
         "_deepnote_index_column": 265
        },
        {
         "Title": "terrible software on pleasant hardware",
         "Review": "Hardware wise this little device is impressive.  It's not without it's shortcomings, notably bright…",
         "_deepnote_index_column": 266
        },
        {
         "Title": "not compatible with disney plus and app is horrible",
         "Review": "I received this as a gift and loved it until my app needed to be updated. The remote from my phone …",
         "_deepnote_index_column": 267
        },
        {
         "Title": "second one since november",
         "Review": "Anker’s customer service is top notch, but sadly the product is full of issues, first one lost all …",
         "_deepnote_index_column": 268
        },
        {
         "Title": "cool just wish it were brighter",
         "Review": "I love the size of this thing, it's great!  And I don't mind keeping it plugged up when I'm binge w…",
         "_deepnote_index_column": 269
        },
        {
         "Title": "chromecast",
         "Review": "I connected them directly before making any final decision (considering the price) and they told me…",
         "_deepnote_index_column": 270
        },
        {
         "Title": "need help to run netflix",
         "Review": "I have tried on numerous occasions to look at Netflix, unfortunately the projector keeps going to s…",
         "_deepnote_index_column": 271
        },
        {
         "Title": "missing important integrations",
         "Review": "Very limited until USB supports modern file systems, supports DLNA home streaming, and supports Sam…",
         "_deepnote_index_column": 272
        },
        {
         "Title": "on the fence",
         "Review": "This thing is amazing. Super easy to use. It’s a little noisy with the fan. The sound is meh but it…",
         "_deepnote_index_column": 273
        },
        {
         "Title": "proyector muy mediocre",
         "Review": "Imagen horrible en el día y en la noche, totalmente opaca y sin brillo. La batería se descarga muy …",
         "_deepnote_index_column": 274
        },
        {
         "Title": "over priced",
         "Review": "Ankers products are great they are built to last and most importantly what separates them from thei…",
         "_deepnote_index_column": 275
        },
        {
         "Title": "expect better for anker ruined my fathers day",
         "Review": "this crappy thing is the opposite of user friendly.  don't say it works with IOS when it clearly do…",
         "_deepnote_index_column": 276
        },
        {
         "Title": "disposable projector no repair centers in usa",
         "Review": "Had received my capsule as a gift for about 8 months used it about maybe 40 hours of use and the pr…",
         "_deepnote_index_column": 277
        },
        {
         "Title": "one star",
         "Review": "It didn’t work with me 😕",
         "_deepnote_index_column": 278
        },
        {
         "Title": "disappointed",
         "Review": "Am disappointed. Picture is very dim/dark. Hard to focus. Blurry at best. The app/remote is just we…",
         "_deepnote_index_column": 279
        },
        {
         "Title": "not working with apps that i am watching on tv ",
         "Review": "not working with apps that I am watching on TV except Amazon Prime or Youtube. so now I have to wat…",
         "_deepnote_index_column": 280
        },
        {
         "Title": "thats a pretty big deal breaker for me",
         "Review": "Doesn't support Chromecast. That's a pretty big deal breaker for me. Projection quality is mediocre.",
         "_deepnote_index_column": 281
        },
        {
         "Title": "three stars",
         "Review": "Doesn’t project as vivid as it could but makes up for it in the sound quality",
         "_deepnote_index_column": 282
        },
        {
         "Title": "two stars",
         "Review": "Android version does not include Google Play, so forget about installing most apps.",
         "_deepnote_index_column": 283
        },
        {
         "Title": "really amazing",
         "Review": "Wow.its a awesome product.i can make my room as home theatre",
         "_deepnote_index_column": 284
        },
        {
         "Title": "surely its wonderful and all",
         "Review": "I DONT OWN THIS ''THING'', BUT 350 HARD-EARNED DOLLARS INSTEAD OF GETTING A YG-300?????SURELY IT'S …",
         "_deepnote_index_column": 285
        },
        {
         "Title": "lack flexibility",
         "Review": "As a projector it is solid. The picture is good and I can’t argue with that.  But it’s portability …",
         "_deepnote_index_column": 286
        },
        {
         "Title": "two defective units right out of the box not good odds skip this product",
         "Review": "It's neat, it works, the kids love movies outside. The user interface is clunky, and it's ridiculou…",
         "_deepnote_index_column": 287
        },
        {
         "Title": "low res",
         "Review": "Only 480p so very blurry, was not acceptable for me. The customer service was nice and quick though…",
         "_deepnote_index_column": 288
        },
        {
         "Title": "not worth the price",
         "Review": "Easy to use, but it’s dark. It takes me a while to adjust the projector angle every time. The speak…",
         "_deepnote_index_column": 289
        },
        {
         "Title": "not working with its own twitch app",
         "Review": "Upset, not working with its own Twitch app. useless for me.",
         "_deepnote_index_column": 290
        },
        {
         "Title": "poco brillo y baja resolución",
         "Review": "No tiene buen brillo, no sirve para jugar play station, porque se nota aunque leve un retraso en la…",
         "_deepnote_index_column": 291
        },
        {
         "Title": "badluck",
         "Review": "One day the nebula get heated more and suddenly the bad odour smell is coming and switched off i lo…",
         "_deepnote_index_column": 292
        },
        {
         "Title": "wont last long",
         "Review": "nan",
         "_deepnote_index_column": 293
        }
       ],
       "rows_bottom": null
      },
      "text/plain": "                                                 Title  \\\n0         read their privacy policy they are intrusive   \n1    great hardware but software does not work  do ...   \n2                                  i am keeping it but   \n3                                                 lies   \n4                     it does not work on most formats   \n..                                                 ...   \n289                                not worth the price   \n290                not working with its own twitch app   \n291                      poco brillo y baja resolución   \n292                                            badluck   \n293                                     wont last long   \n\n                                                Review  \n0    Have you checked out their ‘Privacy Policy’?Th...  \n1    I very rarely write reviews on Amazon, but I f...  \n2    The stripped-down version of Android is a real...  \n3    Who reviewed this POS and gave it 5 stars?1. B...  \n4    The projector will play Netflix off it’s nativ...  \n..                                                 ...  \n289  Easy to use, but it’s dark. It takes me a whil...  \n290  Upset, not working with its own Twitch app. us...  \n291  No tiene buen brillo, no sirve para jugar play...  \n292  One day the nebula get heated more and suddenl...  \n293                                                NaN  \n\n[294 rows x 2 columns]",
      "text/html": "<div>\n<style scoped>\n    .dataframe tbody tr th:only-of-type {\n        vertical-align: middle;\n    }\n\n    .dataframe tbody tr th {\n        vertical-align: top;\n    }\n\n    .dataframe thead th {\n        text-align: right;\n    }\n</style>\n<table border=\"1\" class=\"dataframe\">\n  <thead>\n    <tr style=\"text-align: right;\">\n      <th></th>\n      <th>Title</th>\n      <th>Review</th>\n    </tr>\n  </thead>\n  <tbody>\n    <tr>\n      <th>0</th>\n      <td>read their privacy policy they are intrusive</td>\n      <td>Have you checked out their ‘Privacy Policy’?Th...</td>\n    </tr>\n    <tr>\n      <th>1</th>\n      <td>great hardware but software does not work  do ...</td>\n      <td>I very rarely write reviews on Amazon, but I f...</td>\n    </tr>\n    <tr>\n      <th>2</th>\n      <td>i am keeping it but</td>\n      <td>The stripped-down version of Android is a real...</td>\n    </tr>\n    <tr>\n      <th>3</th>\n      <td>lies</td>\n      <td>Who reviewed this POS and gave it 5 stars?1. B...</td>\n    </tr>\n    <tr>\n      <th>4</th>\n      <td>it does not work on most formats</td>\n      <td>The projector will play Netflix off it’s nativ...</td>\n    </tr>\n    <tr>\n      <th>...</th>\n      <td>...</td>\n      <td>...</td>\n    </tr>\n    <tr>\n      <th>289</th>\n      <td>not worth the price</td>\n      <td>Easy to use, but it’s dark. It takes me a whil...</td>\n    </tr>\n    <tr>\n      <th>290</th>\n      <td>not working with its own twitch app</td>\n      <td>Upset, not working with its own Twitch app. us...</td>\n    </tr>\n    <tr>\n      <th>291</th>\n      <td>poco brillo y baja resolución</td>\n      <td>No tiene buen brillo, no sirve para jugar play...</td>\n    </tr>\n    <tr>\n      <th>292</th>\n      <td>badluck</td>\n      <td>One day the nebula get heated more and suddenl...</td>\n    </tr>\n    <tr>\n      <th>293</th>\n      <td>wont last long</td>\n      <td>NaN</td>\n    </tr>\n  </tbody>\n</table>\n<p>294 rows × 2 columns</p>\n</div>"
     },
     "metadata": {}
    }
   ],
   "execution_count": null
  },
  {
   "cell_type": "markdown",
   "source": "## 4. Reset the Index (TBD)",
   "metadata": {
    "tags": [],
    "cell_id": "00011-c135a2e3-a685-4ba2-94e3-8cfe533ccd44",
    "deepnote_cell_type": "markdown"
   }
  },
  {
   "cell_type": "code",
   "metadata": {
    "colab": {
     "base_uri": "https://localhost:8080/",
     "height": 419
    },
    "id": "vbVARe_wLsqs",
    "outputId": "7506d150-2faa-4b66-816d-75ee805de5d7",
    "cell_id": "00006-a1385c80-4cfb-4477-8c0b-ea3c25235543",
    "deepnote_to_be_reexecuted": false,
    "source_hash": "25366db6",
    "execution_start": 1633236478370,
    "execution_millis": 97,
    "deepnote_cell_type": "code"
   },
   "source": "df.index = np.arange(1, len(df)+1)\ndf['ID'] = df.index\ndf",
   "outputs": [
    {
     "output_type": "execute_result",
     "execution_count": 6,
     "data": {
      "application/vnd.deepnote.dataframe.v2+json": {
       "row_count": 294,
       "column_count": 3,
       "columns": [
        {
         "name": "Title",
         "dtype": "object",
         "stats": {
          "unique_count": 285,
          "nan_count": 0,
          "categories": [
           {
            "name": "two stars",
            "count": 4
           },
           {
            "name": "not good",
            "count": 3
           },
           {
            "name": "283 others",
            "count": 287
           }
          ]
         }
        },
        {
         "name": "Review",
         "dtype": "object",
         "stats": {
          "unique_count": 291,
          "nan_count": 3,
          "categories": [
           {
            "name": "Have you checked out their ‘Privacy Policy’?They can (will?):“Collect and store” information on “your search queries, IP addresses, hardware settings, browser type, browser language, the date and time of your request, referral URL, and certain cookies that identify your browser or Account.”Imbedded web beacons allow their servers certain types of information from your Phone/computer/tablet and to read “when you opened an email message”Their cookies “May contain information about Device (Device is your phone/computer/tablet) , including “user settings, browsing history, and activities conducted while using the Services.”And, if you live in California like me they also “do not commit to honoring \"Do Not Track\" signals in your browser.”Their definition of Content means any “information, text, graphics, written posts, executive files..,” and “other information matetials generated, provided, uploaded, downloaded, appearing or otherwise accessible on or through Nebula”.  So, everything?Their Privacy Policy also contradicts their Terms in places.Their Terms indicate:They’ll collect “the counts of opening certain application”. Not theirs, ‘certain’.They’ll collect information on your phone/computer/tablet such as hardware and software versions and ‘so on’”.  So on?It’s s great product - super cool packaging, great display, solid interface.  But I’m going to return it.  It’s like getting a manicure and them rifling through my purse while they do it.  Ultimately, it doesn’t matter how sparkly my nails turn out...",
            "count": 1
           },
           {
            "name": "290 others",
            "count": 290
           },
           {
            "name": "Missing",
            "count": 3
           }
          ]
         }
        },
        {
         "name": "ID",
         "dtype": "int64",
         "stats": {
          "unique_count": 294,
          "nan_count": 0,
          "min": "1",
          "max": "294",
          "histogram": [
           {
            "bin_start": 1,
            "bin_end": 30.3,
            "count": 30
           },
           {
            "bin_start": 30.3,
            "bin_end": 59.6,
            "count": 29
           },
           {
            "bin_start": 59.6,
            "bin_end": 88.9,
            "count": 29
           },
           {
            "bin_start": 88.9,
            "bin_end": 118.2,
            "count": 30
           },
           {
            "bin_start": 118.2,
            "bin_end": 147.5,
            "count": 29
           },
           {
            "bin_start": 147.5,
            "bin_end": 176.8,
            "count": 29
           },
           {
            "bin_start": 176.8,
            "bin_end": 206.1,
            "count": 30
           },
           {
            "bin_start": 206.1,
            "bin_end": 235.4,
            "count": 29
           },
           {
            "bin_start": 235.4,
            "bin_end": 264.7,
            "count": 29
           },
           {
            "bin_start": 264.7,
            "bin_end": 294,
            "count": 30
           }
          ]
         }
        },
        {
         "name": "_deepnote_index_column",
         "dtype": "int64"
        }
       ],
       "rows_top": [
        {
         "Title": "read their privacy policy they are intrusive",
         "Review": "Have you checked out their ‘Privacy Policy’?They can (will?):“Collect and store” information on “yo…",
         "ID": 1,
         "_deepnote_index_column": 1
        },
        {
         "Title": "great hardware but software does not work  do not buy unless you want to project from hdmi source o…",
         "Review": "I very rarely write reviews on Amazon, but I feel compelled to write a review for this product beca…",
         "ID": 2,
         "_deepnote_index_column": 2
        },
        {
         "Title": "i am keeping it but",
         "Review": "The stripped-down version of Android is a real bummer, I must say. Kills the potential of this proj…",
         "ID": 3,
         "_deepnote_index_column": 3
        },
        {
         "Title": "lies",
         "Review": "Who reviewed this POS and gave it 5 stars?1. Bluetooth doesn’t stay pair to outside speakers.2. Sou…",
         "ID": 4,
         "_deepnote_index_column": 4
        },
        {
         "Title": "it does not work on most formats",
         "Review": "The projector will play Netflix off it’s native application using your phone as a hotspot.The proje…",
         "ID": 5,
         "_deepnote_index_column": 5
        },
        {
         "Title": "needs to be brighter",
         "Review": "I got this projector due to being compact and having built in speaker.  The con is that you can onl…",
         "ID": 6,
         "_deepnote_index_column": 6
        },
        {
         "Title": "2 weeks 7 etc support calls and  76 worth of hdmi cables and connectors but still does not work",
         "Review": "Mine had a ton of problems. I called customer support about 5 times and ultimately couldn’t get it …",
         "ID": 7,
         "_deepnote_index_column": 7
        },
        {
         "Title": "a good attempt but needs improvement",
         "Review": "I purchased the Nebula Capsule Smart Mini Projector as a gift so I can not review it for long term …",
         "ID": 8,
         "_deepnote_index_column": 8
        },
        {
         "Title": "lovely outside but the guts on this unit leaves something to be desired",
         "Review": "Out of the box the unit itself is a solid piece of hardware, well constructed, metal grill over the…",
         "ID": 9,
         "_deepnote_index_column": 9
        },
        {
         "Title": "no longevity sporadic functionality",
         "Review": "It's been about a month since purchase. My intent with this device was for long usages. Not just a …",
         "ID": 10,
         "_deepnote_index_column": 10
        },
        {
         "Title": "it must be unlocked",
         "Review": "It is locked so none of the apps work. You can not even sign into Youtube. Lol!  You can not even s…",
         "ID": 11,
         "_deepnote_index_column": 11
        },
        {
         "Title": "almost love it not worth the price",
         "Review": "This was so expensive, $300. So I was hoping it would be everything I was hoping for. i mean, its d…",
         "ID": 12,
         "_deepnote_index_column": 12
        },
        {
         "Title": "terrible software and barely usable",
         "Review": "I was really excited for this to show up with the NFL Championship games coming up this weekend. I …",
         "ID": 13,
         "_deepnote_index_column": 13
        },
        {
         "Title": "mala resolucion en salas iluminadas",
         "Review": "Mala resolucion en salas iluminadasLa resolucion en salas iluminadas es mala, no se ve practicament…",
         "ID": 14,
         "_deepnote_index_column": 14
        },
        {
         "Title": "it does not work",
         "Review": "Horrible product. Doesn't connect to Netflix. It started out playing Netflix and was great, then su…",
         "ID": 15,
         "_deepnote_index_column": 15
        },
        {
         "Title": "does not work well with airplay for ipad",
         "Review": "I bought this projector because I wanted to use it in my classroom to airplay from my iPad. I thoug…",
         "ID": 16,
         "_deepnote_index_column": 16
        },
        {
         "Title": "not what you think",
         "Review": "If you’re a teacher or a businessman then this will be just fineBut if you just want to connect to …",
         "ID": 17,
         "_deepnote_index_column": 17
        },
        {
         "Title": "was probably a great purchase in 2018 but there are better options for price in 2021",
         "Review": "This projector is really cool looking. It's really easy to use and connect via HDMI or the app. It'…",
         "ID": 18,
         "_deepnote_index_column": 18
        },
        {
         "Title": "just ok not great",
         "Review": "I wanted to like this mini projector so much but i just can't. So first of all you can't mirror mov…",
         "ID": 19,
         "_deepnote_index_column": 19
        },
        {
         "Title": "not worth the money",
         "Review": "1. They’ve lowered the price on this item the day I received it in the mail. Since Amazon won’t do …",
         "ID": 20,
         "_deepnote_index_column": 20
        },
        {
         "Title": "look elsewhere not very bright and blurry edges",
         "Review": "The picture is horrible at 100 inches. You either get clean edges and horrible center picture or ho…",
         "ID": 21,
         "_deepnote_index_column": 21
        },
        {
         "Title": "disappointed and underwhelmed",
         "Review": "I wanted to like it and keep it, I really did. I kept trying to convince myself that the picture qu…",
         "ID": 22,
         "_deepnote_index_column": 22
        },
        {
         "Title": "expensive bad navigation no display resizing",
         "Review": "It’s packaged and looks great. However, the remote navigation (or app) is horrible. For the price w…",
         "ID": 23,
         "_deepnote_index_column": 23
        },
        {
         "Title": "over priced and poor quality",
         "Review": "It has its pros and cons. I like the portable easy to use feel. Easy charging. It works well. I was…",
         "ID": 24,
         "_deepnote_index_column": 24
        },
        {
         "Title": "great small projector",
         "Review": "I don’t even know where to start. I’ve read a lot of reviews in this and other products like it. So…",
         "ID": 25,
         "_deepnote_index_column": 25
        },
        {
         "Title": "utter disappointment and waste of money buy a cheap one this one runs like it",
         "Review": "Spent nearly $300 hoping for a smart protector with Bluetooth capabilities that can play streaming …",
         "ID": 26,
         "_deepnote_index_column": 26
        },
        {
         "Title": "brightness and windows projection not great",
         "Review": "I bought this last year more as a gadget at a reasonable price than a real need.  Form factor, oper…",
         "ID": 27,
         "_deepnote_index_column": 27
        },
        {
         "Title": "no audio out",
         "Review": "This is the nicest picture I’ve ever seen from a small projector. Virtually everything about its fu…",
         "ID": 28,
         "_deepnote_index_column": 28
        },
        {
         "Title": "youtube sign in tiptrick",
         "Review": "I was absolutely shocked at the top tier quality of this product. The fact that I can use this in a…",
         "ID": 29,
         "_deepnote_index_column": 29
        },
        {
         "Title": "do not do it misleading reviews",
         "Review": "Its honesty so bad. I never leave reviews but I am so bothered by the amount of good reviews I had …",
         "ID": 30,
         "_deepnote_index_column": 30
        },
        {
         "Title": "video is not that sharp 420p but rest is good",
         "Review": "Things I dislike about it1. The video isn't that sharp - this is probably the main reason why I wou…",
         "ID": 31,
         "_deepnote_index_column": 31
        },
        {
         "Title": "does the job but was expecting more",
         "Review": "I don't know, but for the money I spent on this unit was expecting more. My main complain is the so…",
         "ID": 32,
         "_deepnote_index_column": 32
        },
        {
         "Title": "compared to others at the same price point disappointed",
         "Review": "I had high hopes for this as it is such a cool concept. But the brightness and the clarity is not w…",
         "ID": 33,
         "_deepnote_index_column": 33
        },
        {
         "Title": "does not really screen mirror",
         "Review": "I cant screen mirror anything....its so dumb, I can watch it on my phone becasue I have netflix, Am…",
         "ID": 34,
         "_deepnote_index_column": 34
        },
        {
         "Title": "many many reasons to move on  this sucks",
         "Review": "This totally sucks.1) it’s dim as heck2) you can’t opt to leave the cord in charging - you have to …",
         "ID": 35,
         "_deepnote_index_column": 35
        },
        {
         "Title": "be prepared to never actually watch anything on it",
         "Review": "Be prepared to never be able to watch anything on it. As a device it’s awesome; quiet, portable etc…",
         "ID": 36,
         "_deepnote_index_column": 36
        },
        {
         "Title": "awful device that does not work",
         "Review": "This is a complete waste of money. If I could return it I would.The sound quality is awful, but I c…",
         "ID": 37,
         "_deepnote_index_column": 37
        },
        {
         "Title": "low quality item died after 22 months with very light usage",
         "Review": "It was great while it lasted but clearly not a quality item as it shouldn't have stopped working in…",
         "ID": 38,
         "_deepnote_index_column": 38
        },
        {
         "Title": "more looks than longevity buy the extended warranty",
         "Review": "I had and was well entertained by this projector for 1 yr 8 months, then it went haywire it stays o…",
         "ID": 39,
         "_deepnote_index_column": 39
        },
        {
         "Title": "great video but very disappointing",
         "Review": "At first this little projector impressed me so much. It has android built into so you can stream Ne…",
         "ID": 40,
         "_deepnote_index_column": 40
        },
        {
         "Title": "the product picture quality is bad",
         "Review": "The sound quality is good but The picture quality is very bad as the images projected images are no…",
         "ID": 41,
         "_deepnote_index_column": 41
        },
        {
         "Title": "expensive toy not much application for it",
         "Review": "It's not a terrible product, but for the price, I just feel like it's a waste of money. The image t…",
         "ID": 42,
         "_deepnote_index_column": 42
        },
        {
         "Title": "a complete mess filled with issues not worth price",
         "Review": "Product has a ton of issues. Many of the apps on the store have a lot of bugs & issues that are nev…",
         "ID": 43,
         "_deepnote_index_column": 43
        },
        {
         "Title": "disappointed by selling used item",
         "Review": "I will be returning this item. Although i love ankers products, they sent me a refurbished or used …",
         "ID": 44,
         "_deepnote_index_column": 44
        },
        {
         "Title": "well manufactured disappointing audio",
         "Review": "The Capsule is an impressive product straight out of the box, in fact the packaging is very impress…",
         "ID": 45,
         "_deepnote_index_column": 45
        },
        {
         "Title": "i got original version and not the capsule ii",
         "Review": "I was expecting the Nebula Capsule II since I ordered it January 2019. What I got is the original v…",
         "ID": 46,
         "_deepnote_index_column": 46
        },
        {
         "Title": "apple compatibility lacking",
         "Review": "Bought and read the reviews dating is android based but really hoped for more.Can access some apps …",
         "ID": 47,
         "_deepnote_index_column": 47
        },
        {
         "Title": "dont buy this product",
         "Review": "Do not buy this. You will not get what is showcased in the ad. In my case 3 items were missing and …",
         "ID": 48,
         "_deepnote_index_column": 48
        },
        {
         "Title": "cool idea great design bad execution",
         "Review": "We debated keeping the device, it looked cool, solid, great design, picture quality was great but t…",
         "ID": 49,
         "_deepnote_index_column": 49
        },
        {
         "Title": "garbage",
         "Review": "I will be returning this tomorrow. It’s bad enough that it is too dim to watch outside at dusk, and…",
         "ID": 50,
         "_deepnote_index_column": 50
        },
        {
         "Title": "great size terrible software and connection ports lacking",
         "Review": "This seems like the perfect projector size and price, but the software bus terrible. You end up hav…",
         "ID": 51,
         "_deepnote_index_column": 51
        },
        {
         "Title": "send me my money back please",
         "Review": "It was cool...did everything I needed until it didnt. Delivered to me on March 18th, stopped workin…",
         "ID": 52,
         "_deepnote_index_column": 52
        },
        {
         "Title": "save your money do not buy this junk",
         "Review": "I like the item itself but the one huge problem for me is the same that many users complained about…",
         "ID": 53,
         "_deepnote_index_column": 53
        },
        {
         "Title": "not as described",
         "Review": "I bought this product because for a outside viewing of movies for my kids and there friends. the sc…",
         "ID": 54,
         "_deepnote_index_column": 54
        },
        {
         "Title": "it is is a toy",
         "Review": "Think of this more a novelty toy. I bought this for my basement and even in the pitch black the ima…",
         "ID": 55,
         "_deepnote_index_column": 55
        },
        {
         "Title": "very dim",
         "Review": "Some pros:- built in wifi and smart functions- variety of options- auto keystone (only vertical tho…",
         "ID": 56,
         "_deepnote_index_column": 56
        },
        {
         "Title": "stops working after about a year",
         "Review": "Worked fine for about a year, but started getting power issues until it just kept turning off and d…",
         "ID": 57,
         "_deepnote_index_column": 57
        },
        {
         "Title": "not very bright but good in dark room",
         "Review": "I was a little disappointed in this projector, but I will keep it.Cons:1) Picture isn't very bright…",
         "ID": 58,
         "_deepnote_index_column": 58
        },
        {
         "Title": "high hopes but disappointed limiting hardware and software",
         "Review": "What’s the point of “portable” if you need wifi to watch Netflix? I was hoping to take it camping, …",
         "ID": 59,
         "_deepnote_index_column": 59
        },
        {
         "Title": "not good enough",
         "Review": "- Remote control doesn’t work.- The software is uber clunky.- Arrived already opened, battery and l…",
         "ID": 60,
         "_deepnote_index_column": 60
        },
        {
         "Title": "solid performance limited apps",
         "Review": "Limited options in terms of apps. Projector performs well, but it would it would be better if it su…",
         "ID": 61,
         "_deepnote_index_column": 61
        },
        {
         "Title": "limited capabilities",
         "Review": "I can't get it to connect to any HDMI I plug into it. I really want to use it for my Switch. I knew…",
         "ID": 62,
         "_deepnote_index_column": 62
        },
        {
         "Title": "not happy",
         "Review": "Couple things:1. This is NOT bright enough to be used outside.2. I cannot get the APP to work on my…",
         "ID": 63,
         "_deepnote_index_column": 63
        },
        {
         "Title": "okaybut photos are deceiving",
         "Review": "So we tried the Nebula Capsule...first off, the picture on the box shows the projector being used o…",
         "ID": 64,
         "_deepnote_index_column": 64
        },
        {
         "Title": "bad picture quality not bright grainy at times",
         "Review": "The only thing this gets to stars for is the size it literally is the size of a soda can. The remot…",
         "ID": 65,
         "_deepnote_index_column": 65
        },
        {
         "Title": "really expensive for what it doesplus no way to fix a crooked projection",
         "Review": "I liked the convenience of this device, but I think it's pretty pricey for something that I have to…",
         "ID": 66,
         "_deepnote_index_column": 66
        },
        {
         "Title": "it is perfect and disappointing",
         "Review": "Quality is great, but screen play does not work. Screen mirror does not work. And the hdmi adapter …",
         "ID": 67,
         "_deepnote_index_column": 67
        },
        {
         "Title": "picture function and small size is impressive",
         "Review": "Loved the size and quality of the picture.  I wanted to massively like this projector but the remot…",
         "ID": 68,
         "_deepnote_index_column": 68
        },
        {
         "Title": "mediocre purchase",
         "Review": "I like it so far. Surprised it auto adjusted when the angle changed. Hard remote didnt work for Net…",
         "ID": 69,
         "_deepnote_index_column": 69
        },
        {
         "Title": "the advertising page was misleading",
         "Review": "According to the advertising pages, this device should be able to be a wireless display for a Windo…",
         "ID": 70,
         "_deepnote_index_column": 70
        },
        {
         "Title": "limited streaming",
         "Review": "It's... ok. I wasn't looking for just ok, though. The portability is great, but that is the best pa…",
         "ID": 71,
         "_deepnote_index_column": 71
        },
        {
         "Title": "it is shocking what a mess this is",
         "Review": "I will update and list the ways in which this thing is terrible but most of all the nebular app is …",
         "ID": 72,
         "_deepnote_index_column": 72
        },
        {
         "Title": "terrible for netflix",
         "Review": "I bought this thing for netflix and was very disappointed you cannot screen mirror with anything ex…",
         "ID": 73,
         "_deepnote_index_column": 73
        },
        {
         "Title": "poor quality broken in four months",
         "Review": "Within the first month of use, whenever a darker scene was being displayed, the picture went black …",
         "ID": 74,
         "_deepnote_index_column": 74
        },
        {
         "Title": "just okay better spend little more buy good one",
         "Review": "The quality of picture is just okay/not bad ( i am not saying it is good). The brightness is bad. B…",
         "ID": 75,
         "_deepnote_index_column": 75
        },
        {
         "Title": "time to return this junk not iphone friendly",
         "Review": "What good is it to list out the Pros and Cons, if the #1 reason why I purchased the Capsule was to …",
         "ID": 76,
         "_deepnote_index_column": 76
        },
        {
         "Title": "it is not bright enough for use",
         "Review": "This product does not live up to its hype. They have changed the description concerning the lumens …",
         "ID": 77,
         "_deepnote_index_column": 77
        },
        {
         "Title": "me gusta pero",
         "Review": "Me gusta bastante, tiene buena calidad la proyección, buen volumen del parlante incorporado, pero l…",
         "ID": 78,
         "_deepnote_index_column": 78
        },
        {
         "Title": "seriously",
         "Review": "It’s awesome that it’s small and has built in speakers...But it won’t support any apps- not even Ne…",
         "ID": 79,
         "_deepnote_index_column": 79
        },
        {
         "Title": "great idea but not carried out to its fullest potential by far",
         "Review": "I was very excited to finally get this product because I expected to be able to use it more easily …",
         "ID": 80,
         "_deepnote_index_column": 80
        },
        {
         "Title": "disappointed beyond words",
         "Review": "Worst nightmare realized through this projector.  Purchased this to watch a video I made for my mom…",
         "ID": 81,
         "_deepnote_index_column": 81
        },
        {
         "Title": "does not work with iphone",
         "Review": "Even if you have subscriptions to streaming platforms, this projector wont let you play them. I tri…",
         "ID": 82,
         "_deepnote_index_column": 82
        },
        {
         "Title": "this product needs to be cheapier",
         "Review": "This product would have been good at a below $100 dollar price tag. It was functional but as soon a…",
         "ID": 83,
         "_deepnote_index_column": 83
        },
        {
         "Title": "was a fan of anker until purchasing this piece of junk",
         "Review": "Charged the battery to full, went to login to wifi, it instantly launches a browser. Well... you ca…",
         "ID": 84,
         "_deepnote_index_column": 84
        },
        {
         "Title": "difficult to navigate in any mode",
         "Review": "This is my first projector but I found it very difficult navigation.  Some areas like YouTube for e…",
         "ID": 85,
         "_deepnote_index_column": 85
        },
        {
         "Title": "very loud",
         "Review": "I liked it from the first minute but was disappointed later. The image is ok, Sound is good. The fo…",
         "ID": 86,
         "_deepnote_index_column": 86
        },
        {
         "Title": "works well as a projector app is pretty bad for an otherwise polished product",
         "Review": "the projector feels solid and has a good quality out of the box. The picture quaility is good to gr…",
         "ID": 87,
         "_deepnote_index_column": 87
        },
        {
         "Title": "speaker is not good",
         "Review": "I was pleasantly surprised when I came across this little speaker/projector. I had been looking for…",
         "ID": 88,
         "_deepnote_index_column": 88
        },
        {
         "Title": "compact disappointment",
         "Review": "The projector is compact and simple to connect (hard wire) to a Blu-ray or DVD.It cannot be used wh…",
         "ID": 89,
         "_deepnote_index_column": 89
        },
        {
         "Title": "need complete darkness",
         "Review": "I bought this as a teaching device to show power point presentations to my class. It is now one of …",
         "ID": 90,
         "_deepnote_index_column": 90
        },
        {
         "Title": "just ok",
         "Review": "Wanted to love this product however we have had a really hard time with it. The lumens aren’t enoug…",
         "ID": 91,
         "_deepnote_index_column": 91
        },
        {
         "Title": "problem with overheating within minutes of turning on",
         "Review": "This product worked well and about a month ago I keep getting a message that says it must be turned…",
         "ID": 92,
         "_deepnote_index_column": 92
        },
        {
         "Title": "over all great product looking into why it glitches so much",
         "Review": "I love how this is mobile, small and can be used without being plugged in. Small fan not too loud. …",
         "ID": 93,
         "_deepnote_index_column": 93
        },
        {
         "Title": "mini projector mini issues",
         "Review": "I like it, the issues I have are 1.) It seems to keep cutting off after playing for a bit, before a…",
         "ID": 94,
         "_deepnote_index_column": 94
        },
        {
         "Title": "does not work",
         "Review": "I bought this over a year ago and never was able to use it wirelessly. The OS just never worked and…",
         "ID": 95,
         "_deepnote_index_column": 95
        },
        {
         "Title": "missing pieces",
         "Review": "No remote... came with box for it but was empty",
         "ID": 96,
         "_deepnote_index_column": 96
        },
        {
         "Title": "defective unit",
         "Review": "Received a defective unit. Mine doesn’t charge while powered on, and I’ve tried improved power cord…",
         "ID": 97,
         "_deepnote_index_column": 97
        },
        {
         "Title": "do not waste your time if this is a family purchase",
         "Review": "Barely workable as a media projector for the family.  The remote doesn’t work with many of the apps…",
         "ID": 98,
         "_deepnote_index_column": 98
        },
        {
         "Title": "too dark",
         "Review": "Handy dandy cute invention. Quite portable but not bright enough. Fan noise in the unit as expected…",
         "ID": 99,
         "_deepnote_index_column": 99
        },
        {
         "Title": "not worth the expensive price",
         "Review": "This projector is decent,  but for the price I paid I expected more. For the most part it worked fi…",
         "ID": 100,
         "_deepnote_index_column": 100
        },
        {
         "Title": "received repackaged item still connected to previous users accounts returning",
         "Review": "Purchased new from Amazon. Wasn’t new. Item was out of original packaging. When I powered it up, it…",
         "ID": 101,
         "_deepnote_index_column": 101
        },
        {
         "Title": "portable but not highest sound or image quality",
         "Review": "not very bright, hard to see when light is already dimmed, speaker on the projector is pretty bad q…",
         "ID": 102,
         "_deepnote_index_column": 102
        },
        {
         "Title": "the update that  could not wait",
         "Review": "So, you have some friends over to watch a movie.  Right in the middle of it a message pops up telli…",
         "ID": 103,
         "_deepnote_index_column": 103
        },
        {
         "Title": "it is alright",
         "Review": "I was looking for a device that did not have to be centered but this one most definitely does, I ha…",
         "ID": 104,
         "_deepnote_index_column": 104
        },
        {
         "Title": "its alright",
         "Review": "It's a good starter projector.  It's easy to use and set up. But if you're tech saavy - this really…",
         "ID": 105,
         "_deepnote_index_column": 105
        },
        {
         "Title": "amazing and nifty but its always tilted",
         "Review": "Think this is a amazing concept, great for travel, amazing picture and can be used in many differen…",
         "ID": 106,
         "_deepnote_index_column": 106
        },
        {
         "Title": "ok for poolside but obviously needs complete dark to be enjoyable",
         "Review": "It's ok. The fact that it's portable and have good speakers make it a great niche product, but that…",
         "ID": 107,
         "_deepnote_index_column": 107
        },
        {
         "Title": "crashes  draw of the luck",
         "Review": "So I read a review saying when they received their projector, it crashed every 10-30 minutes. Mine …",
         "ID": 108,
         "_deepnote_index_column": 108
        },
        {
         "Title": "it was okay",
         "Review": "It was an alright projector and now it won’t even charge or turn on anymore, it just tries to power…",
         "ID": 109,
         "_deepnote_index_column": 109
        },
        {
         "Title": "not worth the money just novel",
         "Review": "It’s unintuitive to use, dim, and the battery life is nowhere near 4 hours. Closer to 1.5 if you ac…",
         "ID": 110,
         "_deepnote_index_column": 110
        },
        {
         "Title": "battery drains while off more so",
         "Review": "Battery drains while off, more so than expected.  Battery life is so so while in use.  But the pros…",
         "ID": 111,
         "_deepnote_index_column": 111
        },
        {
         "Title": "this would be great if it was not so terrible",
         "Review": "It would be so perfect if it wasn’t so useless. If you are looking for a beautiful picture, a simpl…",
         "ID": 112,
         "_deepnote_index_column": 112
        },
        {
         "Title": "would not recommend did not work out of box",
         "Review": "nan",
         "ID": 113,
         "_deepnote_index_column": 113
        },
        {
         "Title": "too dim",
         "Review": "Returned item. Would be great if you were in a really dark room and using it as about a 20 inch tv.…",
         "ID": 114,
         "_deepnote_index_column": 114
        },
        {
         "Title": "very disappointed",
         "Review": "Really wanted to love it. But I can’t actually use it. Won’t screen play from my iPhone. I’ve conne…",
         "ID": 115,
         "_deepnote_index_column": 115
        },
        {
         "Title": "amazing product i think i got a used product or the product was damaged on the way to me",
         "Review": "Amazing product!I think I got a used product or the product was damaged on the way to me.Certain pa…",
         "ID": 116,
         "_deepnote_index_column": 116
        },
        {
         "Title": "lack quality features for gamers",
         "Review": "The projector is great and very compact. But for specifically having a home Theater it isn’t the be…",
         "ID": 117,
         "_deepnote_index_column": 117
        },
        {
         "Title": "not worth it",
         "Review": "Not worth the price. Quality was very dark and hard to focus. Even in completely dark room. Will be…",
         "ID": 118,
         "_deepnote_index_column": 118
        },
        {
         "Title": "short life span",
         "Review": "I can’t believe I bought this two years ago, used it maybe 3 dozen times and now the damn thing won…",
         "ID": 119,
         "_deepnote_index_column": 119
        },
        {
         "Title": "crooked screen",
         "Review": "Unfortunately, my nebula showed up with a crooked screen placement. It’s as if it slipped and got s…",
         "ID": 120,
         "_deepnote_index_column": 120
        },
        {
         "Title": "mixed feelings on it",
         "Review": "I like this device a lit but it sometimes is awkward hooking the thing to iOS and other devices. Ta…",
         "ID": 121,
         "_deepnote_index_column": 121
        },
        {
         "Title": "need to have certain conditions",
         "Review": "The sound and focus / crispness of the pictures are great- its very hard to see the projection if t…",
         "ID": 122,
         "_deepnote_index_column": 122
        },
        {
         "Title": "useless for streaming while using external bluetooth speaker  anything sort of see update",
         "Review": "Update II:I exchanged the unit in the hope that the new one would behave better with respect to sim…",
         "ID": 123,
         "_deepnote_index_column": 123
        },
        {
         "Title": "not very bright",
         "Review": "Not as good as the reviews and ad says, can't see it in a day lit room",
         "ID": 124,
         "_deepnote_index_column": 124
        },
        {
         "Title": "inside of projector screen came with a scratch",
         "Review": "Inside of projector screen came with a scratch, no longer in stock so my only option is return or k…",
         "ID": 125,
         "_deepnote_index_column": 125
        },
        {
         "Title": "not for iphone",
         "Review": "Could have mentioned the item is meant for Android devices and doesn’t really work with iPhone or i…",
         "ID": 126,
         "_deepnote_index_column": 126
        },
        {
         "Title": "not compatible with android or windows",
         "Review": "Is this worth the price? No.The device has instructions top connect with windows and android phones…",
         "ID": 127,
         "_deepnote_index_column": 127
        },
        {
         "Title": "good picture quality but hard to use with phone",
         "Review": "This is such a disappointment. It already comes equipped to play Netflix and that works fine and th…",
         "ID": 128,
         "_deepnote_index_column": 128
        },
        {
         "Title": "do not waste your money on this projector",
         "Review": "Poor sound and quality image. You can get a 10 times better product for this price. It's very annoy…",
         "ID": 129,
         "_deepnote_index_column": 129
        },
        {
         "Title": "ca not stream without wifi",
         "Review": "Why have a portable projector you can’t use unless you’re connected to a wifi network? It would be …",
         "ID": 130,
         "_deepnote_index_column": 130
        },
        {
         "Title": "nothing works",
         "Review": "Remote doesn't work. Does not project onto a ceiling as the picture shows, you need to buy a specia…",
         "ID": 131,
         "_deepnote_index_column": 131
        },
        {
         "Title": "heading in the right direction but still needs improvement",
         "Review": "Pro: Excellent product design. High quality materials. Light weight  & portability.  High screen vi…",
         "ID": 132,
         "_deepnote_index_column": 132
        },
        {
         "Title": "seems tiny and simple but is fussy and meh",
         "Review": "My coworker got one of these. Really talked it up. I bought one and was disappointed. It was fussy …",
         "ID": 133,
         "_deepnote_index_column": 133
        },
        {
         "Title": "ca not watch youtube nor prime",
         "Review": "The UI is terrible. The remote app is also terrible. I can’t watch Youtube nor Prime Video.Projecto…",
         "ID": 134,
         "_deepnote_index_column": 134
        },
        {
         "Title": "no lo recomiendo",
         "Review": "No se por que tiene buenas reputaciones, la verdad compre por las reputaciones pero no me gusto par…",
         "ID": 135,
         "_deepnote_index_column": 135
        },
        {
         "Title": "maybe good for home not for business though",
         "Review": "Not bright enough for our commercial use.  Returned and bought a different one, larger and brighter…",
         "ID": 136,
         "_deepnote_index_column": 136
        },
        {
         "Title": "just not as good as expected",
         "Review": "The interface of the system is not user friendly. The picture quality is truly lackluster. It’s cut…",
         "ID": 137,
         "_deepnote_index_column": 137
        },
        {
         "Title": "brightness sucks and apps are meh",
         "Review": "The concept is cool as in its portable and convenient but for the price, it’s not really worth it. …",
         "ID": 138,
         "_deepnote_index_column": 138
        },
        {
         "Title": "just did not work",
         "Review": "Couldn’t get YouTube to work.Hdmi didn’t workUpdated firmware and I kept getting a window that read…",
         "ID": 139,
         "_deepnote_index_column": 139
        },
        {
         "Title": "very cool concept and works amazingly well in a dark room",
         "Review": "Very cool concept and works amazingly well in a dark room.  Extremely easy to use also.  I ultimate…",
         "ID": 140,
         "_deepnote_index_column": 140
        },
        {
         "Title": "small movie projector",
         "Review": "Pros: Small enough to take it any where with youCons: Low video quality and poor sound quality of s…",
         "ID": 141,
         "_deepnote_index_column": 141
        },
        {
         "Title": "os was terrible",
         "Review": "Great size and brightness (which is the reason for 2 stars instead of 1) but I had incredible troub…",
         "ID": 142,
         "_deepnote_index_column": 142
        },
        {
         "Title": "does not last long",
         "Review": "This stopped working 13 months into use so I would not recommend buying.  While it worked, the soun…",
         "ID": 143,
         "_deepnote_index_column": 143
        },
        {
         "Title": "movie apps constantly crash",
         "Review": "The picture and sound are very good. The issue is the apps constantly crashes with the majority of …",
         "ID": 144,
         "_deepnote_index_column": 144
        },
        {
         "Title": "terrible",
         "Review": "I am so upset, I noticed I revived a used/ return one because the remote is missing and the lens is…",
         "ID": 145,
         "_deepnote_index_column": 145
        },
        {
         "Title": "projector only works with apps that come with projector",
         "Review": "This projector will only work with the apps that it comes with which means you have to subscribe to…",
         "ID": 146,
         "_deepnote_index_column": 146
        },
        {
         "Title": "good projector and battery life but mirror cast would not work",
         "Review": "The projector was great and very easy to use.  Returned it after 3 weeks, was in talks with the com…",
         "ID": 147,
         "_deepnote_index_column": 147
        },
        {
         "Title": "three stars",
         "Review": "CPU fan or the inside fan is too loud. Also, it does not support Google Play...",
         "ID": 148,
         "_deepnote_index_column": 148
        },
        {
         "Title": "good but eh",
         "Review": "Works very well but doesn’t hold charge very long, you can’t charge it while you’re using it, and h…",
         "ID": 149,
         "_deepnote_index_column": 149
        },
        {
         "Title": "good product not excellent",
         "Review": "It’s an okay product for how expensive it is. I wish it could be brighter, the pixelation was bette…",
         "ID": 150,
         "_deepnote_index_column": 150
        },
        {
         "Title": "item broke after a few months",
         "Review": "Quality of image not too sharp. Acceptable. Price is not competitive either. It stopped working aft…",
         "ID": 151,
         "_deepnote_index_column": 151
        },
        {
         "Title": "dont buy it",
         "Review": "This this is TRASH - the batter sucks. Doesn’t charge while in use. Also doesn’t charge while plugg…",
         "ID": 152,
         "_deepnote_index_column": 152
        },
        {
         "Title": "still it is not bright enough if you are not in a complete dark room",
         "Review": "I do not recommend to purchase this product yet till they develope the brightness more than 600 ANS…",
         "ID": 153,
         "_deepnote_index_column": 153
        },
        {
         "Title": "not good",
         "Review": "Bought this to use for senior management meetings and various other things.  What a waste of money.…",
         "ID": 154,
         "_deepnote_index_column": 154
        },
        {
         "Title": "poor on brightly lit rooms",
         "Review": "Great Concept. I bought and used on darker rooms.  It was good.  Later on, I had to use to on light…",
         "ID": 155,
         "_deepnote_index_column": 155
        },
        {
         "Title": "still not ready for prime time",
         "Review": "For its size and cost, brightness and picture quality are excellent. The remote and apps however ar…",
         "ID": 156,
         "_deepnote_index_column": 156
        },
        {
         "Title": "poor picture quality",
         "Review": "Not that great picture quality.",
         "ID": 157,
         "_deepnote_index_column": 157
        },
        {
         "Title": "not worth the hype or the money",
         "Review": "Remote doesn't work, picture doesn't focus fully and one side of the picture is bigger. Not worth t…",
         "ID": 158,
         "_deepnote_index_column": 158
        },
        {
         "Title": "it did not recognize hdmi input",
         "Review": "Tried three different HDMI cords. Projector would not recognize the HDMI input. Returned product an…",
         "ID": 159,
         "_deepnote_index_column": 159
        },
        {
         "Title": "the bluetooth has a delay with speaker",
         "Review": "The bluetooth has a delay with speaker. The sound is delayed behind the movie. It's a waste of mone…",
         "ID": 160,
         "_deepnote_index_column": 160
        },
        {
         "Title": "not a sturdy product",
         "Review": "After less than a year, the project screen cracked for no reason",
         "ID": 161,
         "_deepnote_index_column": 161
        },
        {
         "Title": "not good",
         "Review": "It is joke product  maybe because it is not expensive",
         "ID": 162,
         "_deepnote_index_column": 162
        },
        {
         "Title": "disappointed in nebula",
         "Review": "So disappointed. I didn’t use it til the return period was over. Remote control was a D. Picture bl…",
         "ID": 163,
         "_deepnote_index_column": 163
        },
        {
         "Title": "streaming apps do not work",
         "Review": "I love it, BUT none of the streaming apps work. They let me log in but then never show movies or an…",
         "ID": 164,
         "_deepnote_index_column": 164
        },
        {
         "Title": "nebula",
         "Review": "The nebula is supposed to be work without WiFi.  It is not working alone with the HDMI chord and I …",
         "ID": 165,
         "_deepnote_index_column": 165
        },
        {
         "Title": "remote control issue",
         "Review": "I've been using the product for the past 4 weeks. At first, everything worked fine, but about one o…",
         "ID": 166,
         "_deepnote_index_column": 166
        },
        {
         "Title": "iphone user be aware  softwares wo not work",
         "Review": "I bought this to pair w my iPhone to watch Crunchyroll, YouTube, Netflix Hulu, etc...  The software…",
         "ID": 167,
         "_deepnote_index_column": 167
        },
        {
         "Title": "avoid",
         "Review": "Broken remote, app crashes. Doesn’t have any options for YouTube tv, hbo, etc",
         "ID": 168,
         "_deepnote_index_column": 168
        },
        {
         "Title": "awesome except it is breaking 8 months in",
         "Review": "I really love how portable and accessible this is. It’s awesome. However, it’s been 8 months since …",
         "ID": 169,
         "_deepnote_index_column": 169
        },
        {
         "Title": "sound output volume is its biggest issue  not loud enough for outdoor usage",
         "Review": "The Nebula is a very nice projector but I ended up sending it back. I have owned a regular projecto…",
         "ID": 170,
         "_deepnote_index_column": 170
        },
        {
         "Title": "not bright enough",
         "Review": "It did not have light power or brightness for a moderately lit room at about 6 feet from screen.",
         "ID": 171,
         "_deepnote_index_column": 171
        },
        {
         "Title": "it can do everything but is not good at anything",
         "Review": "It is an all in one package. I purchased on sale for 250 and returned. The speakers are poor, the d…",
         "ID": 172,
         "_deepnote_index_column": 172
        },
        {
         "Title": "not able to login to youtube",
         "Review": "I am giving 3 stars because I am not able to login to YouTube and I dont find HBO app to download. …",
         "ID": 173,
         "_deepnote_index_column": 173
        },
        {
         "Title": "bad quality picture",
         "Review": "Surprised to have such a low quality for that price.",
         "ID": 174,
         "_deepnote_index_column": 174
        },
        {
         "Title": "horrible experience",
         "Review": "It doesn't support many apps, has trouble connecting to devices via bluetooth let alone their app. …",
         "ID": 175,
         "_deepnote_index_column": 175
        },
        {
         "Title": "constant troubleshooting is annoying",
         "Review": "Don't waste your money.1. The display is only bright enough after dark.2. We get constant error mes…",
         "ID": 176,
         "_deepnote_index_column": 176
        },
        {
         "Title": "anyway i can project my iphone",
         "Review": "I cannot seem to mirror screen my iPhone when outside without wifi.  Both phone and projector need …",
         "ID": 177,
         "_deepnote_index_column": 177
        },
        {
         "Title": "bad image quality and brightness",
         "Review": "Just received the productBrightness is very bad and it is hard to see anything when I use it even a…",
         "ID": 178,
         "_deepnote_index_column": 178
        },
        {
         "Title": "small but dull",
         "Review": "Yes it's small, but it's.brightness makes it useless in 80% of situations. Way too dull. Don't both…",
         "ID": 179,
         "_deepnote_index_column": 179
        },
        {
         "Title": "product default shows up after 1 month",
         "Review": "The product has had issues after the first month. The image switches colorspace time to time with a…",
         "ID": 180,
         "_deepnote_index_column": 180
        },
        {
         "Title": "it could be better",
         "Review": "The positives: small, decent picture qualityNegatives: loud fan running the entire time.  Useless r…",
         "ID": 181,
         "_deepnote_index_column": 181
        },
        {
         "Title": "just get the nebula ii this one is a waste of money",
         "Review": "I purchased this one and regret I did. Its collecting dust now because I bought the Nebula II which…",
         "ID": 182,
         "_deepnote_index_column": 182
        },
        {
         "Title": "cant screen share netflix or amazon ect",
         "Review": "I bought this for camping but it seems pointless if you dont have internet and want to screen share…",
         "ID": 183,
         "_deepnote_index_column": 183
        },
        {
         "Title": "good in the dark",
         "Review": "The idea is great, but maybe need to go with the more upgrade model. Sound is pretty quiet and the …",
         "ID": 184,
         "_deepnote_index_column": 184
        },
        {
         "Title": "poor quality",
         "Review": "Battery doesn't charge to 100 and doesn't last the time described in the description. Do no buy!",
         "ID": 185,
         "_deepnote_index_column": 185
        },
        {
         "Title": "tilted screen",
         "Review": "I got this but picture quality is not that gt and the picture is titled. I Tried to reset and did l…",
         "ID": 186,
         "_deepnote_index_column": 186
        },
        {
         "Title": "quality is not there",
         "Review": "Too expensive for the quality, if you want better quality their other products are even more expens…",
         "ID": 187,
         "_deepnote_index_column": 187
        },
        {
         "Title": "lost sound",
         "Review": "The sound went scratchy and quiet. Unfortunate.",
         "ID": 188,
         "_deepnote_index_column": 188
        },
        {
         "Title": "good for a cute pillow fort date or camping",
         "Review": "I loved it as a temporary situation when my girlfriend didn’t have a TV but now we don’t use it...b…",
         "ID": 189,
         "_deepnote_index_column": 189
        },
        {
         "Title": "is hard to perfect match dostan and high fot screen size there is no other way to adjust screen",
         "Review": "Resulution is not clear, the adjustment knob it doesn't change much , the battery drainage quick , …",
         "ID": 190,
         "_deepnote_index_column": 190
        },
        {
         "Title": "cannot cast to projector",
         "Review": "Had to return device because you cannot cast from samsung phone. Disney+, Netflix or Prime video wo…",
         "ID": 191,
         "_deepnote_index_column": 191
        },
        {
         "Title": "not worth the hype",
         "Review": "Low lumen output sucks.  White background of windows explorer washes out text.  Finicky focus wheel…",
         "ID": 192,
         "_deepnote_index_column": 192
        },
        {
         "Title": "impossible to adjust menu is garbage",
         "Review": "unless it's pointing straight at the wall, you're not going to be able to frame it right. The keyst…",
         "ID": 193,
         "_deepnote_index_column": 193
        },
        {
         "Title": "too bad！do not buy！！",
         "Review": "nan",
         "ID": 194,
         "_deepnote_index_column": 194
        },
        {
         "Title": "read this before you buy",
         "Review": "I bought this projector to stream movies I bought on YouTube or just off my computer. I am not allo…",
         "ID": 195,
         "_deepnote_index_column": 195
        },
        {
         "Title": "overall solid product",
         "Review": "Solid product for the price. Other reviews are a bit overhyped. I don’t find the picture quality or…",
         "ID": 196,
         "_deepnote_index_column": 196
        },
        {
         "Title": "too many glitches",
         "Review": "Cuts out every 15 minutes",
         "ID": 197,
         "_deepnote_index_column": 197
        },
        {
         "Title": "expected more",
         "Review": "Picture quality and sound quality is bellow average. But concept is solid. Have to return",
         "ID": 198,
         "_deepnote_index_column": 198
        },
        {
         "Title": "without support this thing is useless",
         "Review": "Instructions were terrible. Still have not been successful at making it work",
         "ID": 199,
         "_deepnote_index_column": 199
        },
        {
         "Title": "100 ansi lumens is not upto the expectations",
         "Review": "100 ansi lumens is not that quality enough. And It is a bit disappointing that Netflix / Amazon pri…",
         "ID": 200,
         "_deepnote_index_column": 200
        },
        {
         "Title": "crooked lens",
         "Review": "Lens is crooked so video is always slanted. Decent speaker, although fan or whatever is the backgro…",
         "ID": 201,
         "_deepnote_index_column": 201
        },
        {
         "Title": "terrible unit",
         "Review": "Dark picture, hdmi connection glitches, remote doesn’t work everything... returning the product",
         "ID": 202,
         "_deepnote_index_column": 202
        },
        {
         "Title": "doe not last long anymore",
         "Review": "I bought this around 3 years ago, and this dies less than an hour now even it's plugged.",
         "ID": 203,
         "_deepnote_index_column": 203
        },
        {
         "Title": "difficult period",
         "Review": "Unfortunately this is very difficult to use. Can't easily stream from apps.",
         "ID": 204,
         "_deepnote_index_column": 204
        },
        {
         "Title": "superb device  extremely bad keyboard",
         "Review": "Superb device - very bad remote - BT keyboards non-compatible - wifi direct non-compatible",
         "ID": 205,
         "_deepnote_index_column": 205
        },
        {
         "Title": "not quite as advertised",
         "Review": "Must purchase the extra appropriate cords for your phone and have internet to work correctly. After…",
         "ID": 206,
         "_deepnote_index_column": 206
        },
        {
         "Title": "stop working after like 5 used",
         "Review": "I only used this item 5 times and it stop working. It's dead, like no power at all!🤬",
         "ID": 207,
         "_deepnote_index_column": 207
        },
        {
         "Title": "a little disappointing if you have an iphone do not get",
         "Review": "I think mine was defective because it take more than two tries to try and turn on",
         "ID": 208,
         "_deepnote_index_column": 208
        },
        {
         "Title": "nice compact mini projector with great speaker",
         "Review": "We returned it because it did not have auto focus. Also, the resolution wasn’t the best.",
         "ID": 209,
         "_deepnote_index_column": 209
        },
        {
         "Title": "two stars",
         "Review": "Not what's I though it will be",
         "ID": 210,
         "_deepnote_index_column": 210
        },
        {
         "Title": "does not do what basic projectors are supposed to",
         "Review": "Cannot cast or mirror from Android phones. No access to play store, and the third party app store i…",
         "ID": 211,
         "_deepnote_index_column": 211
        },
        {
         "Title": "slow difficult to connect wifi is broken",
         "Review": "Can only connect to widi maybe 20% of the time, most of the apps don't allow you to sign in due to …",
         "ID": 212,
         "_deepnote_index_column": 212
        },
        {
         "Title": "used unit with missing accessories",
         "Review": "Box wasn’t sealed, charger and cable weren’t in the box, remote control is not working and there wa…",
         "ID": 213,
         "_deepnote_index_column": 213
        },
        {
         "Title": "price is hig",
         "Review": "goodBut the price is hig",
         "ID": 214,
         "_deepnote_index_column": 214
        },
        {
         "Title": "to be able to use the projector",
         "Review": "The product doesn't have the ability to connect without wifi. I wanted to take it camping and it tu…",
         "ID": 215,
         "_deepnote_index_column": 215
        },
        {
         "Title": "video quality ok but need more improvement",
         "Review": "video quality OK but need more improvement",
         "ID": 216,
         "_deepnote_index_column": 216
        },
        {
         "Title": "not a pleasant product",
         "Review": "A little sad about bought this product, hope they can make improvements.",
         "ID": 217,
         "_deepnote_index_column": 217
        },
        {
         "Title": "i have seen better and cheaper",
         "Review": "Beside being noisy, I was expecting a better experience with this projector. Even though colors are…",
         "ID": 218,
         "_deepnote_index_column": 218
        },
        {
         "Title": "okay",
         "Review": "Remote battery backside falls out fast it feels loose. Certain apps do not work",
         "ID": 219,
         "_deepnote_index_column": 219
        },
        {
         "Title": "not good",
         "Review": "The picture quality was very poor. If it wasn’t on a perfect blank white wall with no texture you c…",
         "ID": 220,
         "_deepnote_index_column": 220
        },
        {
         "Title": "does not charge",
         "Review": "Dims really quickly.",
         "ID": 221,
         "_deepnote_index_column": 221
        },
        {
         "Title": "setup and usage is impossible",
         "Review": "after numerous failures and video instruction I threw in towel did not work for camping.",
         "ID": 222,
         "_deepnote_index_column": 222
        },
        {
         "Title": "no hbo max",
         "Review": "No hbo max.",
         "ID": 223,
         "_deepnote_index_column": 223
        },
        {
         "Title": "fan is loud",
         "Review": "Fan is very loud. Ruins the experience.",
         "ID": 224,
         "_deepnote_index_column": 224
        },
        {
         "Title": "picture quality is not so good",
         "Review": "Picture quality is not good for this price range.",
         "ID": 225,
         "_deepnote_index_column": 225
        },
        {
         "Title": "the sounds quality is terrible and picture quality is fair",
         "Review": "Did not like it.",
         "ID": 226,
         "_deepnote_index_column": 226
        },
        {
         "Title": "two stars",
         "Review": "I am not able install Apps like Youtube., Netflix,. Airplay is very slow & stuck forever.",
         "ID": 227,
         "_deepnote_index_column": 227
        },
        {
         "Title": "wo not turn on for more than 5 minutes",
         "Review": "Had for 6 months and will no longer hold charge or turn on. Plugged in for days and still at 3%.",
         "ID": 228,
         "_deepnote_index_column": 228
        },
        {
         "Title": "picture quality",
         "Review": "the projected picture is not aligned straight. It slopes.",
         "ID": 229,
         "_deepnote_index_column": 229
        },
        {
         "Title": "not my favorite projector",
         "Review": "It said Bluetooth and it clearly wasn’t had to download apps and the ones I needed it wouldn’t let …",
         "ID": 230,
         "_deepnote_index_column": 230
        },
        {
         "Title": "decent",
         "Review": "It’s not bad. But wish I could return it.",
         "ID": 231,
         "_deepnote_index_column": 231
        },
        {
         "Title": "too noice",
         "Review": "too noice，brightness not good in day time，",
         "ID": 232,
         "_deepnote_index_column": 232
        },
        {
         "Title": "it is not doing what is advertises",
         "Review": "i called them and they even admitted to it not projecting up how it is pictured in the advertisemen…",
         "ID": 233,
         "_deepnote_index_column": 233
        },
        {
         "Title": "great image quality poor sound",
         "Review": "Fan is too loud to use in a small space like my bedroom",
         "ID": 234,
         "_deepnote_index_column": 234
        },
        {
         "Title": "loud fan is no fun",
         "Review": "I love that it’s all-in-one so it’s powered and doesn't need an external video source but I do not …",
         "ID": 235,
         "_deepnote_index_column": 235
        },
        {
         "Title": "picure quality is not sharp its not usable at all during day time",
         "Review": "picture quality is not sharp",
         "ID": 236,
         "_deepnote_index_column": 236
        },
        {
         "Title": "no support",
         "Review": "No support",
         "ID": 237,
         "_deepnote_index_column": 237
        },
        {
         "Title": "what can i do",
         "Review": "The remote control of my device does not work",
         "ID": 238,
         "_deepnote_index_column": 238
        },
        {
         "Title": "i really wanted keep this projector but it has a ",
         "Review": "I really wanted keep  this projector but it has a huge design flaw ... #1. No included micro sd car…",
         "ID": 239,
         "_deepnote_index_column": 239
        },
        {
         "Title": "very low light lumens",
         "Review": "The light is not strong enough to see anything",
         "ID": 240,
         "_deepnote_index_column": 240
        },
        {
         "Title": "horrible sound",
         "Review": "Sounds sucks. Brightness is horrible.",
         "ID": 241,
         "_deepnote_index_column": 241
        },
        {
         "Title": "bad experience with mini projector",
         "Review": "It’s been an bad experience with Sound quality is too bad , picture quality is Like okay.  For the …",
         "ID": 242,
         "_deepnote_index_column": 242
        },
        {
         "Title": "just ok",
         "Review": "OK.",
         "ID": 243,
         "_deepnote_index_column": 243
        },
        {
         "Title": "poorly written manual great tech support from kevin",
         "Review": "The users manual is awful for this product but tech support from Kevin was awesome and quick.",
         "ID": 244,
         "_deepnote_index_column": 244
        },
        {
         "Title": "pricey paperweight",
         "Review": "It doesn’t work. I called tech support and it will not actually play anything. My phone communicate…",
         "ID": 245,
         "_deepnote_index_column": 245
        },
        {
         "Title": "poor quality",
         "Review": "Poor quality, could not view picture well at all.  Extremely disappointed",
         "ID": 246,
         "_deepnote_index_column": 246
        },
        {
         "Title": "moderate good",
         "Review": "soso.",
         "ID": 247,
         "_deepnote_index_column": 247
        },
        {
         "Title": "waste of money",
         "Review": "It’s not working good at all",
         "ID": 248,
         "_deepnote_index_column": 248
        },
        {
         "Title": "lumens needs more output",
         "Review": "Lumen brightness to dim",
         "ID": 249,
         "_deepnote_index_column": 249
        },
        {
         "Title": "",
         "Review": "Good",
         "ID": 250,
         "_deepnote_index_column": 250
        },
        {
         "Title": "terrible",
         "Review": "Despite the representations made by seller, the sealed package arrived MISSING a couple of key comp…",
         "ID": 251,
         "_deepnote_index_column": 251
        },
        {
         "Title": "two stars",
         "Review": "😍good",
         "ID": 252,
         "_deepnote_index_column": 252
        },
        {
         "Title": "only got 2 uses ot if the device",
         "Review": "I bought this as a gift for my new roommate.  We were able to use it twice and it wont power on aga…",
         "ID": 253,
         "_deepnote_index_column": 253
        },
        {
         "Title": "losses focused constantly",
         "Review": "Because it sucks. The remote doesn't work. You have to download an app that sucks. Etc",
         "ID": 254,
         "_deepnote_index_column": 254
        },
        {
         "Title": "also the capsule control app is poor difficult to control the mouse function",
         "Review": "when connected to the digital set top box, the picture has a blue hue to it. Also the Capsule Contr…",
         "ID": 255,
         "_deepnote_index_column": 255
        },
        {
         "Title": "sadly dissappointed yet simultaneously awed",
         "Review": "I would have loved to say that I'm happy with this product and that it is what I expected.....but I…",
         "ID": 256,
         "_deepnote_index_column": 256
        },
        {
         "Title": "software ruins the product",
         "Review": "Cool little device but it is completely ruined by the cripled software.  If they had made the bootl…",
         "ID": 257,
         "_deepnote_index_column": 257
        },
        {
         "Title": "screencast not compatible with google pixel phones",
         "Review": "I wanted to write and warn anyone who is thinking about purchasing this with a Google Pixel phone, …",
         "ID": 258,
         "_deepnote_index_column": 258
        },
        {
         "Title": "nebula capsule review updated",
         "Review": "My original review was based on receiving a used product.After speaking with Anker customer service…",
         "ID": 259,
         "_deepnote_index_column": 259
        },
        {
         "Title": "not impressed  welcome to dongle life",
         "Review": "I wanted to like the Nebula Capsule projector.  I really did ... the size and the speakers are deli…",
         "ID": 260,
         "_deepnote_index_column": 260
        },
        {
         "Title": "biggest problem is low brightness",
         "Review": "This is a cool product - works well as advertised.  the BIGGEST problem, which made me give it a th…",
         "ID": 261,
         "_deepnote_index_column": 261
        },
        {
         "Title": "with this cost you can get something better and higher quality",
         "Review": "very dim,with this cost you can get something better and higher quality,received with netflix subsc…",
         "ID": 262,
         "_deepnote_index_column": 262
        },
        {
         "Title": "do not buy scam fake trash",
         "Review": "I'd give it negative 5 stars! The projection is upside down. If and when you get past the home scre…",
         "ID": 263,
         "_deepnote_index_column": 263
        },
        {
         "Title": "totally waste product",
         "Review": "Waste of money",
         "ID": 264,
         "_deepnote_index_column": 264
        },
        {
         "Title": "an under baked device",
         "Review": "Yes, this is a projector the size of a soda can and that is impressive, but there are several major…",
         "ID": 265,
         "_deepnote_index_column": 265
        },
        {
         "Title": "really wanted to like it but",
         "Review": "Where to start, had bought the red one they were having a “deal” on last week.  When I got it, felt…",
         "ID": 266,
         "_deepnote_index_column": 266
        },
        {
         "Title": "terrible software on pleasant hardware",
         "Review": "Hardware wise this little device is impressive.  It's not without it's shortcomings, notably bright…",
         "ID": 267,
         "_deepnote_index_column": 267
        },
        {
         "Title": "not compatible with disney plus and app is horrible",
         "Review": "I received this as a gift and loved it until my app needed to be updated. The remote from my phone …",
         "ID": 268,
         "_deepnote_index_column": 268
        },
        {
         "Title": "second one since november",
         "Review": "Anker’s customer service is top notch, but sadly the product is full of issues, first one lost all …",
         "ID": 269,
         "_deepnote_index_column": 269
        },
        {
         "Title": "cool just wish it were brighter",
         "Review": "I love the size of this thing, it's great!  And I don't mind keeping it plugged up when I'm binge w…",
         "ID": 270,
         "_deepnote_index_column": 270
        },
        {
         "Title": "chromecast",
         "Review": "I connected them directly before making any final decision (considering the price) and they told me…",
         "ID": 271,
         "_deepnote_index_column": 271
        },
        {
         "Title": "need help to run netflix",
         "Review": "I have tried on numerous occasions to look at Netflix, unfortunately the projector keeps going to s…",
         "ID": 272,
         "_deepnote_index_column": 272
        },
        {
         "Title": "missing important integrations",
         "Review": "Very limited until USB supports modern file systems, supports DLNA home streaming, and supports Sam…",
         "ID": 273,
         "_deepnote_index_column": 273
        },
        {
         "Title": "on the fence",
         "Review": "This thing is amazing. Super easy to use. It’s a little noisy with the fan. The sound is meh but it…",
         "ID": 274,
         "_deepnote_index_column": 274
        },
        {
         "Title": "proyector muy mediocre",
         "Review": "Imagen horrible en el día y en la noche, totalmente opaca y sin brillo. La batería se descarga muy …",
         "ID": 275,
         "_deepnote_index_column": 275
        },
        {
         "Title": "over priced",
         "Review": "Ankers products are great they are built to last and most importantly what separates them from thei…",
         "ID": 276,
         "_deepnote_index_column": 276
        },
        {
         "Title": "expect better for anker ruined my fathers day",
         "Review": "this crappy thing is the opposite of user friendly.  don't say it works with IOS when it clearly do…",
         "ID": 277,
         "_deepnote_index_column": 277
        },
        {
         "Title": "disposable projector no repair centers in usa",
         "Review": "Had received my capsule as a gift for about 8 months used it about maybe 40 hours of use and the pr…",
         "ID": 278,
         "_deepnote_index_column": 278
        },
        {
         "Title": "one star",
         "Review": "It didn’t work with me 😕",
         "ID": 279,
         "_deepnote_index_column": 279
        },
        {
         "Title": "disappointed",
         "Review": "Am disappointed. Picture is very dim/dark. Hard to focus. Blurry at best. The app/remote is just we…",
         "ID": 280,
         "_deepnote_index_column": 280
        },
        {
         "Title": "not working with apps that i am watching on tv ",
         "Review": "not working with apps that I am watching on TV except Amazon Prime or Youtube. so now I have to wat…",
         "ID": 281,
         "_deepnote_index_column": 281
        },
        {
         "Title": "thats a pretty big deal breaker for me",
         "Review": "Doesn't support Chromecast. That's a pretty big deal breaker for me. Projection quality is mediocre.",
         "ID": 282,
         "_deepnote_index_column": 282
        },
        {
         "Title": "three stars",
         "Review": "Doesn’t project as vivid as it could but makes up for it in the sound quality",
         "ID": 283,
         "_deepnote_index_column": 283
        },
        {
         "Title": "two stars",
         "Review": "Android version does not include Google Play, so forget about installing most apps.",
         "ID": 284,
         "_deepnote_index_column": 284
        },
        {
         "Title": "really amazing",
         "Review": "Wow.its a awesome product.i can make my room as home theatre",
         "ID": 285,
         "_deepnote_index_column": 285
        },
        {
         "Title": "surely its wonderful and all",
         "Review": "I DONT OWN THIS ''THING'', BUT 350 HARD-EARNED DOLLARS INSTEAD OF GETTING A YG-300?????SURELY IT'S …",
         "ID": 286,
         "_deepnote_index_column": 286
        },
        {
         "Title": "lack flexibility",
         "Review": "As a projector it is solid. The picture is good and I can’t argue with that.  But it’s portability …",
         "ID": 287,
         "_deepnote_index_column": 287
        },
        {
         "Title": "two defective units right out of the box not good odds skip this product",
         "Review": "It's neat, it works, the kids love movies outside. The user interface is clunky, and it's ridiculou…",
         "ID": 288,
         "_deepnote_index_column": 288
        },
        {
         "Title": "low res",
         "Review": "Only 480p so very blurry, was not acceptable for me. The customer service was nice and quick though…",
         "ID": 289,
         "_deepnote_index_column": 289
        },
        {
         "Title": "not worth the price",
         "Review": "Easy to use, but it’s dark. It takes me a while to adjust the projector angle every time. The speak…",
         "ID": 290,
         "_deepnote_index_column": 290
        },
        {
         "Title": "not working with its own twitch app",
         "Review": "Upset, not working with its own Twitch app. useless for me.",
         "ID": 291,
         "_deepnote_index_column": 291
        },
        {
         "Title": "poco brillo y baja resolución",
         "Review": "No tiene buen brillo, no sirve para jugar play station, porque se nota aunque leve un retraso en la…",
         "ID": 292,
         "_deepnote_index_column": 292
        },
        {
         "Title": "badluck",
         "Review": "One day the nebula get heated more and suddenly the bad odour smell is coming and switched off i lo…",
         "ID": 293,
         "_deepnote_index_column": 293
        },
        {
         "Title": "wont last long",
         "Review": "nan",
         "ID": 294,
         "_deepnote_index_column": 294
        }
       ],
       "rows_bottom": null
      },
      "text/plain": "                                                 Title  \\\n1         read their privacy policy they are intrusive   \n2    great hardware but software does not work  do ...   \n3                                  i am keeping it but   \n4                                                 lies   \n5                     it does not work on most formats   \n..                                                 ...   \n290                                not worth the price   \n291                not working with its own twitch app   \n292                      poco brillo y baja resolución   \n293                                            badluck   \n294                                     wont last long   \n\n                                                Review   ID  \n1    Have you checked out their ‘Privacy Policy’?Th...    1  \n2    I very rarely write reviews on Amazon, but I f...    2  \n3    The stripped-down version of Android is a real...    3  \n4    Who reviewed this POS and gave it 5 stars?1. B...    4  \n5    The projector will play Netflix off it’s nativ...    5  \n..                                                 ...  ...  \n290  Easy to use, but it’s dark. It takes me a whil...  290  \n291  Upset, not working with its own Twitch app. us...  291  \n292  No tiene buen brillo, no sirve para jugar play...  292  \n293  One day the nebula get heated more and suddenl...  293  \n294                                                NaN  294  \n\n[294 rows x 3 columns]",
      "text/html": "<div>\n<style scoped>\n    .dataframe tbody tr th:only-of-type {\n        vertical-align: middle;\n    }\n\n    .dataframe tbody tr th {\n        vertical-align: top;\n    }\n\n    .dataframe thead th {\n        text-align: right;\n    }\n</style>\n<table border=\"1\" class=\"dataframe\">\n  <thead>\n    <tr style=\"text-align: right;\">\n      <th></th>\n      <th>Title</th>\n      <th>Review</th>\n      <th>ID</th>\n    </tr>\n  </thead>\n  <tbody>\n    <tr>\n      <th>1</th>\n      <td>read their privacy policy they are intrusive</td>\n      <td>Have you checked out their ‘Privacy Policy’?Th...</td>\n      <td>1</td>\n    </tr>\n    <tr>\n      <th>2</th>\n      <td>great hardware but software does not work  do ...</td>\n      <td>I very rarely write reviews on Amazon, but I f...</td>\n      <td>2</td>\n    </tr>\n    <tr>\n      <th>3</th>\n      <td>i am keeping it but</td>\n      <td>The stripped-down version of Android is a real...</td>\n      <td>3</td>\n    </tr>\n    <tr>\n      <th>4</th>\n      <td>lies</td>\n      <td>Who reviewed this POS and gave it 5 stars?1. B...</td>\n      <td>4</td>\n    </tr>\n    <tr>\n      <th>5</th>\n      <td>it does not work on most formats</td>\n      <td>The projector will play Netflix off it’s nativ...</td>\n      <td>5</td>\n    </tr>\n    <tr>\n      <th>...</th>\n      <td>...</td>\n      <td>...</td>\n      <td>...</td>\n    </tr>\n    <tr>\n      <th>290</th>\n      <td>not worth the price</td>\n      <td>Easy to use, but it’s dark. It takes me a whil...</td>\n      <td>290</td>\n    </tr>\n    <tr>\n      <th>291</th>\n      <td>not working with its own twitch app</td>\n      <td>Upset, not working with its own Twitch app. us...</td>\n      <td>291</td>\n    </tr>\n    <tr>\n      <th>292</th>\n      <td>poco brillo y baja resolución</td>\n      <td>No tiene buen brillo, no sirve para jugar play...</td>\n      <td>292</td>\n    </tr>\n    <tr>\n      <th>293</th>\n      <td>badluck</td>\n      <td>One day the nebula get heated more and suddenl...</td>\n      <td>293</td>\n    </tr>\n    <tr>\n      <th>294</th>\n      <td>wont last long</td>\n      <td>NaN</td>\n      <td>294</td>\n    </tr>\n  </tbody>\n</table>\n<p>294 rows × 3 columns</p>\n</div>"
     },
     "metadata": {}
    }
   ],
   "execution_count": null
  },
  {
   "cell_type": "code",
   "metadata": {
    "colab": {
     "base_uri": "https://localhost:8080/"
    },
    "id": "VxBOKRxeLsqt",
    "outputId": "9f44b718-ac55-44af-9687-58655f0d730f",
    "cell_id": "00007-def3da3b-b9e4-4441-973d-763159bda156",
    "deepnote_to_be_reexecuted": false,
    "source_hash": "86a696e",
    "execution_start": 1633236478407,
    "execution_millis": 78,
    "deepnote_cell_type": "code"
   },
   "source": "#Splitting each review into 1 word per row & keeping ID to the right review\nnew_df = pd.DataFrame(df['Title'].str.split(' ').tolist(), index=df['ID']).stack()\nnew_df",
   "outputs": [
    {
     "output_type": "execute_result",
     "execution_count": 7,
     "data": {
      "text/plain": "ID    \n1    0          read\n     1         their\n     2       privacy\n     3        policy\n     4          they\n             ...    \n292  4    resolución\n293  0       badluck\n294  0          wont\n     1          last\n     2          long\nLength: 1626, dtype: object"
     },
     "metadata": {}
    }
   ],
   "execution_count": null
  },
  {
   "cell_type": "code",
   "metadata": {
    "colab": {
     "base_uri": "https://localhost:8080/",
     "height": 419
    },
    "id": "U_SB11rPLsqu",
    "outputId": "d32fa397-3187-4106-99ab-076e77a3b268",
    "cell_id": "00008-0da0709d-9e77-45d1-ba6d-68cf8ed30f01",
    "deepnote_to_be_reexecuted": false,
    "source_hash": "a11b0c78",
    "execution_start": 1633236478430,
    "execution_millis": 149,
    "deepnote_cell_type": "code"
   },
   "source": "#Reset index\nnew_df = new_df.reset_index([0, 'ID'])\nnew_df",
   "outputs": [
    {
     "output_type": "execute_result",
     "execution_count": 8,
     "data": {
      "application/vnd.deepnote.dataframe.v2+json": {
       "row_count": 1626,
       "column_count": 2,
       "columns": [
        {
         "name": "ID",
         "dtype": "int64",
         "stats": {
          "unique_count": 294,
          "nan_count": 0,
          "min": "1",
          "max": "294",
          "histogram": [
           {
            "bin_start": 1,
            "bin_end": 30.3,
            "count": 207
           },
           {
            "bin_start": 30.3,
            "bin_end": 59.6,
            "count": 187
           },
           {
            "bin_start": 59.6,
            "bin_end": 88.9,
            "count": 165
           },
           {
            "bin_start": 88.9,
            "bin_end": 118.2,
            "count": 174
           },
           {
            "bin_start": 118.2,
            "bin_end": 147.5,
            "count": 169
           },
           {
            "bin_start": 147.5,
            "bin_end": 176.8,
            "count": 147
           },
           {
            "bin_start": 176.8,
            "bin_end": 206.1,
            "count": 152
           },
           {
            "bin_start": 206.1,
            "bin_end": 235.4,
            "count": 144
           },
           {
            "bin_start": 235.4,
            "bin_end": 264.7,
            "count": 144
           },
           {
            "bin_start": 264.7,
            "bin_end": 294,
            "count": 137
           }
          ]
         }
        },
        {
         "name": 0,
         "dtype": "object",
         "stats": {
          "unique_count": 603,
          "nan_count": 0,
          "categories": [
           {
            "name": "not",
            "count": 91
           },
           {
            "name": "is",
            "count": 41
           },
           {
            "name": "601 others",
            "count": 1494
           }
          ]
         }
        },
        {
         "name": "_deepnote_index_column",
         "dtype": "int64"
        }
       ],
       "rows_top": [
        {
         "0": "read",
         "ID": 1,
         "_deepnote_index_column": 0
        },
        {
         "0": "their",
         "ID": 1,
         "_deepnote_index_column": 1
        },
        {
         "0": "privacy",
         "ID": 1,
         "_deepnote_index_column": 2
        },
        {
         "0": "policy",
         "ID": 1,
         "_deepnote_index_column": 3
        },
        {
         "0": "they",
         "ID": 1,
         "_deepnote_index_column": 4
        },
        {
         "0": "are",
         "ID": 1,
         "_deepnote_index_column": 5
        },
        {
         "0": "intrusive",
         "ID": 1,
         "_deepnote_index_column": 6
        },
        {
         "0": "great",
         "ID": 2,
         "_deepnote_index_column": 7
        },
        {
         "0": "hardware",
         "ID": 2,
         "_deepnote_index_column": 8
        },
        {
         "0": "but",
         "ID": 2,
         "_deepnote_index_column": 9
        },
        {
         "0": "software",
         "ID": 2,
         "_deepnote_index_column": 10
        },
        {
         "0": "does",
         "ID": 2,
         "_deepnote_index_column": 11
        },
        {
         "0": "not",
         "ID": 2,
         "_deepnote_index_column": 12
        },
        {
         "0": "work",
         "ID": 2,
         "_deepnote_index_column": 13
        },
        {
         "0": "",
         "ID": 2,
         "_deepnote_index_column": 14
        },
        {
         "0": "do",
         "ID": 2,
         "_deepnote_index_column": 15
        },
        {
         "0": "not",
         "ID": 2,
         "_deepnote_index_column": 16
        },
        {
         "0": "buy",
         "ID": 2,
         "_deepnote_index_column": 17
        },
        {
         "0": "unless",
         "ID": 2,
         "_deepnote_index_column": 18
        },
        {
         "0": "you",
         "ID": 2,
         "_deepnote_index_column": 19
        },
        {
         "0": "want",
         "ID": 2,
         "_deepnote_index_column": 20
        },
        {
         "0": "to",
         "ID": 2,
         "_deepnote_index_column": 21
        },
        {
         "0": "project",
         "ID": 2,
         "_deepnote_index_column": 22
        },
        {
         "0": "from",
         "ID": 2,
         "_deepnote_index_column": 23
        },
        {
         "0": "hdmi",
         "ID": 2,
         "_deepnote_index_column": 24
        },
        {
         "0": "source",
         "ID": 2,
         "_deepnote_index_column": 25
        },
        {
         "0": "only",
         "ID": 2,
         "_deepnote_index_column": 26
        },
        {
         "0": "i",
         "ID": 3,
         "_deepnote_index_column": 27
        },
        {
         "0": "am",
         "ID": 3,
         "_deepnote_index_column": 28
        },
        {
         "0": "keeping",
         "ID": 3,
         "_deepnote_index_column": 29
        },
        {
         "0": "it",
         "ID": 3,
         "_deepnote_index_column": 30
        },
        {
         "0": "but",
         "ID": 3,
         "_deepnote_index_column": 31
        },
        {
         "0": "lies",
         "ID": 4,
         "_deepnote_index_column": 32
        },
        {
         "0": "it",
         "ID": 5,
         "_deepnote_index_column": 33
        },
        {
         "0": "does",
         "ID": 5,
         "_deepnote_index_column": 34
        },
        {
         "0": "not",
         "ID": 5,
         "_deepnote_index_column": 35
        },
        {
         "0": "work",
         "ID": 5,
         "_deepnote_index_column": 36
        },
        {
         "0": "on",
         "ID": 5,
         "_deepnote_index_column": 37
        },
        {
         "0": "most",
         "ID": 5,
         "_deepnote_index_column": 38
        },
        {
         "0": "formats",
         "ID": 5,
         "_deepnote_index_column": 39
        },
        {
         "0": "needs",
         "ID": 6,
         "_deepnote_index_column": 40
        },
        {
         "0": "to",
         "ID": 6,
         "_deepnote_index_column": 41
        },
        {
         "0": "be",
         "ID": 6,
         "_deepnote_index_column": 42
        },
        {
         "0": "brighter",
         "ID": 6,
         "_deepnote_index_column": 43
        },
        {
         "0": "2",
         "ID": 7,
         "_deepnote_index_column": 44
        },
        {
         "0": "weeks",
         "ID": 7,
         "_deepnote_index_column": 45
        },
        {
         "0": "7",
         "ID": 7,
         "_deepnote_index_column": 46
        },
        {
         "0": "etc",
         "ID": 7,
         "_deepnote_index_column": 47
        },
        {
         "0": "support",
         "ID": 7,
         "_deepnote_index_column": 48
        },
        {
         "0": "calls",
         "ID": 7,
         "_deepnote_index_column": 49
        },
        {
         "0": "and",
         "ID": 7,
         "_deepnote_index_column": 50
        },
        {
         "0": "",
         "ID": 7,
         "_deepnote_index_column": 51
        },
        {
         "0": "76",
         "ID": 7,
         "_deepnote_index_column": 52
        },
        {
         "0": "worth",
         "ID": 7,
         "_deepnote_index_column": 53
        },
        {
         "0": "of",
         "ID": 7,
         "_deepnote_index_column": 54
        },
        {
         "0": "hdmi",
         "ID": 7,
         "_deepnote_index_column": 55
        },
        {
         "0": "cables",
         "ID": 7,
         "_deepnote_index_column": 56
        },
        {
         "0": "and",
         "ID": 7,
         "_deepnote_index_column": 57
        },
        {
         "0": "connectors",
         "ID": 7,
         "_deepnote_index_column": 58
        },
        {
         "0": "but",
         "ID": 7,
         "_deepnote_index_column": 59
        },
        {
         "0": "still",
         "ID": 7,
         "_deepnote_index_column": 60
        },
        {
         "0": "does",
         "ID": 7,
         "_deepnote_index_column": 61
        },
        {
         "0": "not",
         "ID": 7,
         "_deepnote_index_column": 62
        },
        {
         "0": "work",
         "ID": 7,
         "_deepnote_index_column": 63
        },
        {
         "0": "a",
         "ID": 8,
         "_deepnote_index_column": 64
        },
        {
         "0": "good",
         "ID": 8,
         "_deepnote_index_column": 65
        },
        {
         "0": "attempt",
         "ID": 8,
         "_deepnote_index_column": 66
        },
        {
         "0": "but",
         "ID": 8,
         "_deepnote_index_column": 67
        },
        {
         "0": "needs",
         "ID": 8,
         "_deepnote_index_column": 68
        },
        {
         "0": "improvement",
         "ID": 8,
         "_deepnote_index_column": 69
        },
        {
         "0": "lovely",
         "ID": 9,
         "_deepnote_index_column": 70
        },
        {
         "0": "outside",
         "ID": 9,
         "_deepnote_index_column": 71
        },
        {
         "0": "but",
         "ID": 9,
         "_deepnote_index_column": 72
        },
        {
         "0": "the",
         "ID": 9,
         "_deepnote_index_column": 73
        },
        {
         "0": "guts",
         "ID": 9,
         "_deepnote_index_column": 74
        },
        {
         "0": "on",
         "ID": 9,
         "_deepnote_index_column": 75
        },
        {
         "0": "this",
         "ID": 9,
         "_deepnote_index_column": 76
        },
        {
         "0": "unit",
         "ID": 9,
         "_deepnote_index_column": 77
        },
        {
         "0": "leaves",
         "ID": 9,
         "_deepnote_index_column": 78
        },
        {
         "0": "something",
         "ID": 9,
         "_deepnote_index_column": 79
        },
        {
         "0": "to",
         "ID": 9,
         "_deepnote_index_column": 80
        },
        {
         "0": "be",
         "ID": 9,
         "_deepnote_index_column": 81
        },
        {
         "0": "desired",
         "ID": 9,
         "_deepnote_index_column": 82
        },
        {
         "0": "no",
         "ID": 10,
         "_deepnote_index_column": 83
        },
        {
         "0": "longevity",
         "ID": 10,
         "_deepnote_index_column": 84
        },
        {
         "0": "sporadic",
         "ID": 10,
         "_deepnote_index_column": 85
        },
        {
         "0": "functionality",
         "ID": 10,
         "_deepnote_index_column": 86
        },
        {
         "0": "it",
         "ID": 11,
         "_deepnote_index_column": 87
        },
        {
         "0": "must",
         "ID": 11,
         "_deepnote_index_column": 88
        },
        {
         "0": "be",
         "ID": 11,
         "_deepnote_index_column": 89
        },
        {
         "0": "unlocked",
         "ID": 11,
         "_deepnote_index_column": 90
        },
        {
         "0": "almost",
         "ID": 12,
         "_deepnote_index_column": 91
        },
        {
         "0": "love",
         "ID": 12,
         "_deepnote_index_column": 92
        },
        {
         "0": "it",
         "ID": 12,
         "_deepnote_index_column": 93
        },
        {
         "0": "not",
         "ID": 12,
         "_deepnote_index_column": 94
        },
        {
         "0": "worth",
         "ID": 12,
         "_deepnote_index_column": 95
        },
        {
         "0": "the",
         "ID": 12,
         "_deepnote_index_column": 96
        },
        {
         "0": "price",
         "ID": 12,
         "_deepnote_index_column": 97
        },
        {
         "0": "terrible",
         "ID": 13,
         "_deepnote_index_column": 98
        },
        {
         "0": "software",
         "ID": 13,
         "_deepnote_index_column": 99
        },
        {
         "0": "and",
         "ID": 13,
         "_deepnote_index_column": 100
        },
        {
         "0": "barely",
         "ID": 13,
         "_deepnote_index_column": 101
        },
        {
         "0": "usable",
         "ID": 13,
         "_deepnote_index_column": 102
        },
        {
         "0": "mala",
         "ID": 14,
         "_deepnote_index_column": 103
        },
        {
         "0": "resolucion",
         "ID": 14,
         "_deepnote_index_column": 104
        },
        {
         "0": "en",
         "ID": 14,
         "_deepnote_index_column": 105
        },
        {
         "0": "salas",
         "ID": 14,
         "_deepnote_index_column": 106
        },
        {
         "0": "iluminadas",
         "ID": 14,
         "_deepnote_index_column": 107
        },
        {
         "0": "it",
         "ID": 15,
         "_deepnote_index_column": 108
        },
        {
         "0": "does",
         "ID": 15,
         "_deepnote_index_column": 109
        },
        {
         "0": "not",
         "ID": 15,
         "_deepnote_index_column": 110
        },
        {
         "0": "work",
         "ID": 15,
         "_deepnote_index_column": 111
        },
        {
         "0": "does",
         "ID": 16,
         "_deepnote_index_column": 112
        },
        {
         "0": "not",
         "ID": 16,
         "_deepnote_index_column": 113
        },
        {
         "0": "work",
         "ID": 16,
         "_deepnote_index_column": 114
        },
        {
         "0": "well",
         "ID": 16,
         "_deepnote_index_column": 115
        },
        {
         "0": "with",
         "ID": 16,
         "_deepnote_index_column": 116
        },
        {
         "0": "airplay",
         "ID": 16,
         "_deepnote_index_column": 117
        },
        {
         "0": "for",
         "ID": 16,
         "_deepnote_index_column": 118
        },
        {
         "0": "ipad",
         "ID": 16,
         "_deepnote_index_column": 119
        },
        {
         "0": "not",
         "ID": 17,
         "_deepnote_index_column": 120
        },
        {
         "0": "what",
         "ID": 17,
         "_deepnote_index_column": 121
        },
        {
         "0": "you",
         "ID": 17,
         "_deepnote_index_column": 122
        },
        {
         "0": "think",
         "ID": 17,
         "_deepnote_index_column": 123
        },
        {
         "0": "was",
         "ID": 18,
         "_deepnote_index_column": 124
        },
        {
         "0": "probably",
         "ID": 18,
         "_deepnote_index_column": 125
        },
        {
         "0": "a",
         "ID": 18,
         "_deepnote_index_column": 126
        },
        {
         "0": "great",
         "ID": 18,
         "_deepnote_index_column": 127
        },
        {
         "0": "purchase",
         "ID": 18,
         "_deepnote_index_column": 128
        },
        {
         "0": "in",
         "ID": 18,
         "_deepnote_index_column": 129
        },
        {
         "0": "2018",
         "ID": 18,
         "_deepnote_index_column": 130
        },
        {
         "0": "but",
         "ID": 18,
         "_deepnote_index_column": 131
        },
        {
         "0": "there",
         "ID": 18,
         "_deepnote_index_column": 132
        },
        {
         "0": "are",
         "ID": 18,
         "_deepnote_index_column": 133
        },
        {
         "0": "better",
         "ID": 18,
         "_deepnote_index_column": 134
        },
        {
         "0": "options",
         "ID": 18,
         "_deepnote_index_column": 135
        },
        {
         "0": "for",
         "ID": 18,
         "_deepnote_index_column": 136
        },
        {
         "0": "price",
         "ID": 18,
         "_deepnote_index_column": 137
        },
        {
         "0": "in",
         "ID": 18,
         "_deepnote_index_column": 138
        },
        {
         "0": "2021",
         "ID": 18,
         "_deepnote_index_column": 139
        },
        {
         "0": "just",
         "ID": 19,
         "_deepnote_index_column": 140
        },
        {
         "0": "ok",
         "ID": 19,
         "_deepnote_index_column": 141
        },
        {
         "0": "not",
         "ID": 19,
         "_deepnote_index_column": 142
        },
        {
         "0": "great",
         "ID": 19,
         "_deepnote_index_column": 143
        },
        {
         "0": "not",
         "ID": 20,
         "_deepnote_index_column": 144
        },
        {
         "0": "worth",
         "ID": 20,
         "_deepnote_index_column": 145
        },
        {
         "0": "the",
         "ID": 20,
         "_deepnote_index_column": 146
        },
        {
         "0": "money",
         "ID": 20,
         "_deepnote_index_column": 147
        },
        {
         "0": "look",
         "ID": 21,
         "_deepnote_index_column": 148
        },
        {
         "0": "elsewhere",
         "ID": 21,
         "_deepnote_index_column": 149
        },
        {
         "0": "not",
         "ID": 21,
         "_deepnote_index_column": 150
        },
        {
         "0": "very",
         "ID": 21,
         "_deepnote_index_column": 151
        },
        {
         "0": "bright",
         "ID": 21,
         "_deepnote_index_column": 152
        },
        {
         "0": "and",
         "ID": 21,
         "_deepnote_index_column": 153
        },
        {
         "0": "blurry",
         "ID": 21,
         "_deepnote_index_column": 154
        },
        {
         "0": "edges",
         "ID": 21,
         "_deepnote_index_column": 155
        },
        {
         "0": "disappointed",
         "ID": 22,
         "_deepnote_index_column": 156
        },
        {
         "0": "and",
         "ID": 22,
         "_deepnote_index_column": 157
        },
        {
         "0": "underwhelmed",
         "ID": 22,
         "_deepnote_index_column": 158
        },
        {
         "0": "expensive",
         "ID": 23,
         "_deepnote_index_column": 159
        },
        {
         "0": "bad",
         "ID": 23,
         "_deepnote_index_column": 160
        },
        {
         "0": "navigation",
         "ID": 23,
         "_deepnote_index_column": 161
        },
        {
         "0": "no",
         "ID": 23,
         "_deepnote_index_column": 162
        },
        {
         "0": "display",
         "ID": 23,
         "_deepnote_index_column": 163
        },
        {
         "0": "resizing",
         "ID": 23,
         "_deepnote_index_column": 164
        },
        {
         "0": "over",
         "ID": 24,
         "_deepnote_index_column": 165
        },
        {
         "0": "priced",
         "ID": 24,
         "_deepnote_index_column": 166
        },
        {
         "0": "and",
         "ID": 24,
         "_deepnote_index_column": 167
        },
        {
         "0": "poor",
         "ID": 24,
         "_deepnote_index_column": 168
        },
        {
         "0": "quality",
         "ID": 24,
         "_deepnote_index_column": 169
        },
        {
         "0": "great",
         "ID": 25,
         "_deepnote_index_column": 170
        },
        {
         "0": "small",
         "ID": 25,
         "_deepnote_index_column": 171
        },
        {
         "0": "projector",
         "ID": 25,
         "_deepnote_index_column": 172
        },
        {
         "0": "utter",
         "ID": 26,
         "_deepnote_index_column": 173
        },
        {
         "0": "disappointment",
         "ID": 26,
         "_deepnote_index_column": 174
        },
        {
         "0": "and",
         "ID": 26,
         "_deepnote_index_column": 175
        },
        {
         "0": "waste",
         "ID": 26,
         "_deepnote_index_column": 176
        },
        {
         "0": "of",
         "ID": 26,
         "_deepnote_index_column": 177
        },
        {
         "0": "money",
         "ID": 26,
         "_deepnote_index_column": 178
        },
        {
         "0": "buy",
         "ID": 26,
         "_deepnote_index_column": 179
        },
        {
         "0": "a",
         "ID": 26,
         "_deepnote_index_column": 180
        },
        {
         "0": "cheap",
         "ID": 26,
         "_deepnote_index_column": 181
        },
        {
         "0": "one",
         "ID": 26,
         "_deepnote_index_column": 182
        },
        {
         "0": "this",
         "ID": 26,
         "_deepnote_index_column": 183
        },
        {
         "0": "one",
         "ID": 26,
         "_deepnote_index_column": 184
        },
        {
         "0": "runs",
         "ID": 26,
         "_deepnote_index_column": 185
        },
        {
         "0": "like",
         "ID": 26,
         "_deepnote_index_column": 186
        },
        {
         "0": "it",
         "ID": 26,
         "_deepnote_index_column": 187
        },
        {
         "0": "brightness",
         "ID": 27,
         "_deepnote_index_column": 188
        },
        {
         "0": "and",
         "ID": 27,
         "_deepnote_index_column": 189
        },
        {
         "0": "windows",
         "ID": 27,
         "_deepnote_index_column": 190
        },
        {
         "0": "projection",
         "ID": 27,
         "_deepnote_index_column": 191
        },
        {
         "0": "not",
         "ID": 27,
         "_deepnote_index_column": 192
        },
        {
         "0": "great",
         "ID": 27,
         "_deepnote_index_column": 193
        },
        {
         "0": "no",
         "ID": 28,
         "_deepnote_index_column": 194
        },
        {
         "0": "audio",
         "ID": 28,
         "_deepnote_index_column": 195
        },
        {
         "0": "out",
         "ID": 28,
         "_deepnote_index_column": 196
        },
        {
         "0": "youtube",
         "ID": 29,
         "_deepnote_index_column": 197
        },
        {
         "0": "sign",
         "ID": 29,
         "_deepnote_index_column": 198
        },
        {
         "0": "in",
         "ID": 29,
         "_deepnote_index_column": 199
        },
        {
         "0": "tiptrick",
         "ID": 29,
         "_deepnote_index_column": 200
        },
        {
         "0": "do",
         "ID": 30,
         "_deepnote_index_column": 201
        },
        {
         "0": "not",
         "ID": 30,
         "_deepnote_index_column": 202
        },
        {
         "0": "do",
         "ID": 30,
         "_deepnote_index_column": 203
        },
        {
         "0": "it",
         "ID": 30,
         "_deepnote_index_column": 204
        },
        {
         "0": "misleading",
         "ID": 30,
         "_deepnote_index_column": 205
        },
        {
         "0": "reviews",
         "ID": 30,
         "_deepnote_index_column": 206
        },
        {
         "0": "video",
         "ID": 31,
         "_deepnote_index_column": 207
        },
        {
         "0": "is",
         "ID": 31,
         "_deepnote_index_column": 208
        },
        {
         "0": "not",
         "ID": 31,
         "_deepnote_index_column": 209
        },
        {
         "0": "that",
         "ID": 31,
         "_deepnote_index_column": 210
        },
        {
         "0": "sharp",
         "ID": 31,
         "_deepnote_index_column": 211
        },
        {
         "0": "420p",
         "ID": 31,
         "_deepnote_index_column": 212
        },
        {
         "0": "but",
         "ID": 31,
         "_deepnote_index_column": 213
        },
        {
         "0": "rest",
         "ID": 31,
         "_deepnote_index_column": 214
        },
        {
         "0": "is",
         "ID": 31,
         "_deepnote_index_column": 215
        },
        {
         "0": "good",
         "ID": 31,
         "_deepnote_index_column": 216
        },
        {
         "0": "does",
         "ID": 32,
         "_deepnote_index_column": 217
        },
        {
         "0": "the",
         "ID": 32,
         "_deepnote_index_column": 218
        },
        {
         "0": "job",
         "ID": 32,
         "_deepnote_index_column": 219
        },
        {
         "0": "but",
         "ID": 32,
         "_deepnote_index_column": 220
        },
        {
         "0": "was",
         "ID": 32,
         "_deepnote_index_column": 221
        },
        {
         "0": "expecting",
         "ID": 32,
         "_deepnote_index_column": 222
        },
        {
         "0": "more",
         "ID": 32,
         "_deepnote_index_column": 223
        },
        {
         "0": "compared",
         "ID": 33,
         "_deepnote_index_column": 224
        },
        {
         "0": "to",
         "ID": 33,
         "_deepnote_index_column": 225
        },
        {
         "0": "others",
         "ID": 33,
         "_deepnote_index_column": 226
        },
        {
         "0": "at",
         "ID": 33,
         "_deepnote_index_column": 227
        },
        {
         "0": "the",
         "ID": 33,
         "_deepnote_index_column": 228
        },
        {
         "0": "same",
         "ID": 33,
         "_deepnote_index_column": 229
        },
        {
         "0": "price",
         "ID": 33,
         "_deepnote_index_column": 230
        },
        {
         "0": "point",
         "ID": 33,
         "_deepnote_index_column": 231
        },
        {
         "0": "disappointed",
         "ID": 33,
         "_deepnote_index_column": 232
        },
        {
         "0": "does",
         "ID": 34,
         "_deepnote_index_column": 233
        },
        {
         "0": "not",
         "ID": 34,
         "_deepnote_index_column": 234
        },
        {
         "0": "really",
         "ID": 34,
         "_deepnote_index_column": 235
        },
        {
         "0": "screen",
         "ID": 34,
         "_deepnote_index_column": 236
        },
        {
         "0": "mirror",
         "ID": 34,
         "_deepnote_index_column": 237
        },
        {
         "0": "many",
         "ID": 35,
         "_deepnote_index_column": 238
        },
        {
         "0": "many",
         "ID": 35,
         "_deepnote_index_column": 239
        },
        {
         "0": "reasons",
         "ID": 35,
         "_deepnote_index_column": 240
        },
        {
         "0": "to",
         "ID": 35,
         "_deepnote_index_column": 241
        },
        {
         "0": "move",
         "ID": 35,
         "_deepnote_index_column": 242
        },
        {
         "0": "on",
         "ID": 35,
         "_deepnote_index_column": 243
        },
        {
         "0": "",
         "ID": 35,
         "_deepnote_index_column": 244
        },
        {
         "0": "this",
         "ID": 35,
         "_deepnote_index_column": 245
        },
        {
         "0": "sucks",
         "ID": 35,
         "_deepnote_index_column": 246
        },
        {
         "0": "be",
         "ID": 36,
         "_deepnote_index_column": 247
        },
        {
         "0": "prepared",
         "ID": 36,
         "_deepnote_index_column": 248
        },
        {
         "0": "to",
         "ID": 36,
         "_deepnote_index_column": 249
        }
       ],
       "rows_bottom": [
        {
         "0": "low",
         "ID": 240,
         "_deepnote_index_column": 1376
        },
        {
         "0": "light",
         "ID": 240,
         "_deepnote_index_column": 1377
        },
        {
         "0": "lumens",
         "ID": 240,
         "_deepnote_index_column": 1378
        },
        {
         "0": "horrible",
         "ID": 241,
         "_deepnote_index_column": 1379
        },
        {
         "0": "sound",
         "ID": 241,
         "_deepnote_index_column": 1380
        },
        {
         "0": "bad",
         "ID": 242,
         "_deepnote_index_column": 1381
        },
        {
         "0": "experience",
         "ID": 242,
         "_deepnote_index_column": 1382
        },
        {
         "0": "with",
         "ID": 242,
         "_deepnote_index_column": 1383
        },
        {
         "0": "mini",
         "ID": 242,
         "_deepnote_index_column": 1384
        },
        {
         "0": "projector",
         "ID": 242,
         "_deepnote_index_column": 1385
        },
        {
         "0": "just",
         "ID": 243,
         "_deepnote_index_column": 1386
        },
        {
         "0": "ok",
         "ID": 243,
         "_deepnote_index_column": 1387
        },
        {
         "0": "poorly",
         "ID": 244,
         "_deepnote_index_column": 1388
        },
        {
         "0": "written",
         "ID": 244,
         "_deepnote_index_column": 1389
        },
        {
         "0": "manual",
         "ID": 244,
         "_deepnote_index_column": 1390
        },
        {
         "0": "great",
         "ID": 244,
         "_deepnote_index_column": 1391
        },
        {
         "0": "tech",
         "ID": 244,
         "_deepnote_index_column": 1392
        },
        {
         "0": "support",
         "ID": 244,
         "_deepnote_index_column": 1393
        },
        {
         "0": "from",
         "ID": 244,
         "_deepnote_index_column": 1394
        },
        {
         "0": "kevin",
         "ID": 244,
         "_deepnote_index_column": 1395
        },
        {
         "0": "pricey",
         "ID": 245,
         "_deepnote_index_column": 1396
        },
        {
         "0": "paperweight",
         "ID": 245,
         "_deepnote_index_column": 1397
        },
        {
         "0": "poor",
         "ID": 246,
         "_deepnote_index_column": 1398
        },
        {
         "0": "quality",
         "ID": 246,
         "_deepnote_index_column": 1399
        },
        {
         "0": "moderate",
         "ID": 247,
         "_deepnote_index_column": 1400
        },
        {
         "0": "good",
         "ID": 247,
         "_deepnote_index_column": 1401
        },
        {
         "0": "waste",
         "ID": 248,
         "_deepnote_index_column": 1402
        },
        {
         "0": "of",
         "ID": 248,
         "_deepnote_index_column": 1403
        },
        {
         "0": "money",
         "ID": 248,
         "_deepnote_index_column": 1404
        },
        {
         "0": "lumens",
         "ID": 249,
         "_deepnote_index_column": 1405
        },
        {
         "0": "needs",
         "ID": 249,
         "_deepnote_index_column": 1406
        },
        {
         "0": "more",
         "ID": 249,
         "_deepnote_index_column": 1407
        },
        {
         "0": "output",
         "ID": 249,
         "_deepnote_index_column": 1408
        },
        {
         "0": "",
         "ID": 250,
         "_deepnote_index_column": 1409
        },
        {
         "0": "terrible",
         "ID": 251,
         "_deepnote_index_column": 1410
        },
        {
         "0": "two",
         "ID": 252,
         "_deepnote_index_column": 1411
        },
        {
         "0": "stars",
         "ID": 252,
         "_deepnote_index_column": 1412
        },
        {
         "0": "only",
         "ID": 253,
         "_deepnote_index_column": 1413
        },
        {
         "0": "got",
         "ID": 253,
         "_deepnote_index_column": 1414
        },
        {
         "0": "2",
         "ID": 253,
         "_deepnote_index_column": 1415
        },
        {
         "0": "uses",
         "ID": 253,
         "_deepnote_index_column": 1416
        },
        {
         "0": "ot",
         "ID": 253,
         "_deepnote_index_column": 1417
        },
        {
         "0": "if",
         "ID": 253,
         "_deepnote_index_column": 1418
        },
        {
         "0": "the",
         "ID": 253,
         "_deepnote_index_column": 1419
        },
        {
         "0": "device",
         "ID": 253,
         "_deepnote_index_column": 1420
        },
        {
         "0": "losses",
         "ID": 254,
         "_deepnote_index_column": 1421
        },
        {
         "0": "focused",
         "ID": 254,
         "_deepnote_index_column": 1422
        },
        {
         "0": "constantly",
         "ID": 254,
         "_deepnote_index_column": 1423
        },
        {
         "0": "also",
         "ID": 255,
         "_deepnote_index_column": 1424
        },
        {
         "0": "the",
         "ID": 255,
         "_deepnote_index_column": 1425
        },
        {
         "0": "capsule",
         "ID": 255,
         "_deepnote_index_column": 1426
        },
        {
         "0": "control",
         "ID": 255,
         "_deepnote_index_column": 1427
        },
        {
         "0": "app",
         "ID": 255,
         "_deepnote_index_column": 1428
        },
        {
         "0": "is",
         "ID": 255,
         "_deepnote_index_column": 1429
        },
        {
         "0": "poor",
         "ID": 255,
         "_deepnote_index_column": 1430
        },
        {
         "0": "difficult",
         "ID": 255,
         "_deepnote_index_column": 1431
        },
        {
         "0": "to",
         "ID": 255,
         "_deepnote_index_column": 1432
        },
        {
         "0": "control",
         "ID": 255,
         "_deepnote_index_column": 1433
        },
        {
         "0": "the",
         "ID": 255,
         "_deepnote_index_column": 1434
        },
        {
         "0": "mouse",
         "ID": 255,
         "_deepnote_index_column": 1435
        },
        {
         "0": "function",
         "ID": 255,
         "_deepnote_index_column": 1436
        },
        {
         "0": "sadly",
         "ID": 256,
         "_deepnote_index_column": 1437
        },
        {
         "0": "dissappointed",
         "ID": 256,
         "_deepnote_index_column": 1438
        },
        {
         "0": "yet",
         "ID": 256,
         "_deepnote_index_column": 1439
        },
        {
         "0": "simultaneously",
         "ID": 256,
         "_deepnote_index_column": 1440
        },
        {
         "0": "awed",
         "ID": 256,
         "_deepnote_index_column": 1441
        },
        {
         "0": "software",
         "ID": 257,
         "_deepnote_index_column": 1442
        },
        {
         "0": "ruins",
         "ID": 257,
         "_deepnote_index_column": 1443
        },
        {
         "0": "the",
         "ID": 257,
         "_deepnote_index_column": 1444
        },
        {
         "0": "product",
         "ID": 257,
         "_deepnote_index_column": 1445
        },
        {
         "0": "screencast",
         "ID": 258,
         "_deepnote_index_column": 1446
        },
        {
         "0": "not",
         "ID": 258,
         "_deepnote_index_column": 1447
        },
        {
         "0": "compatible",
         "ID": 258,
         "_deepnote_index_column": 1448
        },
        {
         "0": "with",
         "ID": 258,
         "_deepnote_index_column": 1449
        },
        {
         "0": "google",
         "ID": 258,
         "_deepnote_index_column": 1450
        },
        {
         "0": "pixel",
         "ID": 258,
         "_deepnote_index_column": 1451
        },
        {
         "0": "phones",
         "ID": 258,
         "_deepnote_index_column": 1452
        },
        {
         "0": "nebula",
         "ID": 259,
         "_deepnote_index_column": 1453
        },
        {
         "0": "capsule",
         "ID": 259,
         "_deepnote_index_column": 1454
        },
        {
         "0": "review",
         "ID": 259,
         "_deepnote_index_column": 1455
        },
        {
         "0": "updated",
         "ID": 259,
         "_deepnote_index_column": 1456
        },
        {
         "0": "not",
         "ID": 260,
         "_deepnote_index_column": 1457
        },
        {
         "0": "impressed",
         "ID": 260,
         "_deepnote_index_column": 1458
        },
        {
         "0": "",
         "ID": 260,
         "_deepnote_index_column": 1459
        },
        {
         "0": "welcome",
         "ID": 260,
         "_deepnote_index_column": 1460
        },
        {
         "0": "to",
         "ID": 260,
         "_deepnote_index_column": 1461
        },
        {
         "0": "dongle",
         "ID": 260,
         "_deepnote_index_column": 1462
        },
        {
         "0": "life",
         "ID": 260,
         "_deepnote_index_column": 1463
        },
        {
         "0": "biggest",
         "ID": 261,
         "_deepnote_index_column": 1464
        },
        {
         "0": "problem",
         "ID": 261,
         "_deepnote_index_column": 1465
        },
        {
         "0": "is",
         "ID": 261,
         "_deepnote_index_column": 1466
        },
        {
         "0": "low",
         "ID": 261,
         "_deepnote_index_column": 1467
        },
        {
         "0": "brightness",
         "ID": 261,
         "_deepnote_index_column": 1468
        },
        {
         "0": "with",
         "ID": 262,
         "_deepnote_index_column": 1469
        },
        {
         "0": "this",
         "ID": 262,
         "_deepnote_index_column": 1470
        },
        {
         "0": "cost",
         "ID": 262,
         "_deepnote_index_column": 1471
        },
        {
         "0": "you",
         "ID": 262,
         "_deepnote_index_column": 1472
        },
        {
         "0": "can",
         "ID": 262,
         "_deepnote_index_column": 1473
        },
        {
         "0": "get",
         "ID": 262,
         "_deepnote_index_column": 1474
        },
        {
         "0": "something",
         "ID": 262,
         "_deepnote_index_column": 1475
        },
        {
         "0": "better",
         "ID": 262,
         "_deepnote_index_column": 1476
        },
        {
         "0": "and",
         "ID": 262,
         "_deepnote_index_column": 1477
        },
        {
         "0": "higher",
         "ID": 262,
         "_deepnote_index_column": 1478
        },
        {
         "0": "quality",
         "ID": 262,
         "_deepnote_index_column": 1479
        },
        {
         "0": "do",
         "ID": 263,
         "_deepnote_index_column": 1480
        },
        {
         "0": "not",
         "ID": 263,
         "_deepnote_index_column": 1481
        },
        {
         "0": "buy",
         "ID": 263,
         "_deepnote_index_column": 1482
        },
        {
         "0": "scam",
         "ID": 263,
         "_deepnote_index_column": 1483
        },
        {
         "0": "fake",
         "ID": 263,
         "_deepnote_index_column": 1484
        },
        {
         "0": "trash",
         "ID": 263,
         "_deepnote_index_column": 1485
        },
        {
         "0": "totally",
         "ID": 264,
         "_deepnote_index_column": 1486
        },
        {
         "0": "waste",
         "ID": 264,
         "_deepnote_index_column": 1487
        },
        {
         "0": "product",
         "ID": 264,
         "_deepnote_index_column": 1488
        },
        {
         "0": "an",
         "ID": 265,
         "_deepnote_index_column": 1489
        },
        {
         "0": "under",
         "ID": 265,
         "_deepnote_index_column": 1490
        },
        {
         "0": "baked",
         "ID": 265,
         "_deepnote_index_column": 1491
        },
        {
         "0": "device",
         "ID": 265,
         "_deepnote_index_column": 1492
        },
        {
         "0": "really",
         "ID": 266,
         "_deepnote_index_column": 1493
        },
        {
         "0": "wanted",
         "ID": 266,
         "_deepnote_index_column": 1494
        },
        {
         "0": "to",
         "ID": 266,
         "_deepnote_index_column": 1495
        },
        {
         "0": "like",
         "ID": 266,
         "_deepnote_index_column": 1496
        },
        {
         "0": "it",
         "ID": 266,
         "_deepnote_index_column": 1497
        },
        {
         "0": "but",
         "ID": 266,
         "_deepnote_index_column": 1498
        },
        {
         "0": "terrible",
         "ID": 267,
         "_deepnote_index_column": 1499
        },
        {
         "0": "software",
         "ID": 267,
         "_deepnote_index_column": 1500
        },
        {
         "0": "on",
         "ID": 267,
         "_deepnote_index_column": 1501
        },
        {
         "0": "pleasant",
         "ID": 267,
         "_deepnote_index_column": 1502
        },
        {
         "0": "hardware",
         "ID": 267,
         "_deepnote_index_column": 1503
        },
        {
         "0": "not",
         "ID": 268,
         "_deepnote_index_column": 1504
        },
        {
         "0": "compatible",
         "ID": 268,
         "_deepnote_index_column": 1505
        },
        {
         "0": "with",
         "ID": 268,
         "_deepnote_index_column": 1506
        },
        {
         "0": "disney",
         "ID": 268,
         "_deepnote_index_column": 1507
        },
        {
         "0": "plus",
         "ID": 268,
         "_deepnote_index_column": 1508
        },
        {
         "0": "and",
         "ID": 268,
         "_deepnote_index_column": 1509
        },
        {
         "0": "app",
         "ID": 268,
         "_deepnote_index_column": 1510
        },
        {
         "0": "is",
         "ID": 268,
         "_deepnote_index_column": 1511
        },
        {
         "0": "horrible",
         "ID": 268,
         "_deepnote_index_column": 1512
        },
        {
         "0": "second",
         "ID": 269,
         "_deepnote_index_column": 1513
        },
        {
         "0": "one",
         "ID": 269,
         "_deepnote_index_column": 1514
        },
        {
         "0": "since",
         "ID": 269,
         "_deepnote_index_column": 1515
        },
        {
         "0": "november",
         "ID": 269,
         "_deepnote_index_column": 1516
        },
        {
         "0": "cool",
         "ID": 270,
         "_deepnote_index_column": 1517
        },
        {
         "0": "just",
         "ID": 270,
         "_deepnote_index_column": 1518
        },
        {
         "0": "wish",
         "ID": 270,
         "_deepnote_index_column": 1519
        },
        {
         "0": "it",
         "ID": 270,
         "_deepnote_index_column": 1520
        },
        {
         "0": "were",
         "ID": 270,
         "_deepnote_index_column": 1521
        },
        {
         "0": "brighter",
         "ID": 270,
         "_deepnote_index_column": 1522
        },
        {
         "0": "chromecast",
         "ID": 271,
         "_deepnote_index_column": 1523
        },
        {
         "0": "need",
         "ID": 272,
         "_deepnote_index_column": 1524
        },
        {
         "0": "help",
         "ID": 272,
         "_deepnote_index_column": 1525
        },
        {
         "0": "to",
         "ID": 272,
         "_deepnote_index_column": 1526
        },
        {
         "0": "run",
         "ID": 272,
         "_deepnote_index_column": 1527
        },
        {
         "0": "netflix",
         "ID": 272,
         "_deepnote_index_column": 1528
        },
        {
         "0": "missing",
         "ID": 273,
         "_deepnote_index_column": 1529
        },
        {
         "0": "important",
         "ID": 273,
         "_deepnote_index_column": 1530
        },
        {
         "0": "integrations",
         "ID": 273,
         "_deepnote_index_column": 1531
        },
        {
         "0": "on",
         "ID": 274,
         "_deepnote_index_column": 1532
        },
        {
         "0": "the",
         "ID": 274,
         "_deepnote_index_column": 1533
        },
        {
         "0": "fence",
         "ID": 274,
         "_deepnote_index_column": 1534
        },
        {
         "0": "proyector",
         "ID": 275,
         "_deepnote_index_column": 1535
        },
        {
         "0": "muy",
         "ID": 275,
         "_deepnote_index_column": 1536
        },
        {
         "0": "mediocre",
         "ID": 275,
         "_deepnote_index_column": 1537
        },
        {
         "0": "over",
         "ID": 276,
         "_deepnote_index_column": 1538
        },
        {
         "0": "priced",
         "ID": 276,
         "_deepnote_index_column": 1539
        },
        {
         "0": "expect",
         "ID": 277,
         "_deepnote_index_column": 1540
        },
        {
         "0": "better",
         "ID": 277,
         "_deepnote_index_column": 1541
        },
        {
         "0": "for",
         "ID": 277,
         "_deepnote_index_column": 1542
        },
        {
         "0": "anker",
         "ID": 277,
         "_deepnote_index_column": 1543
        },
        {
         "0": "ruined",
         "ID": 277,
         "_deepnote_index_column": 1544
        },
        {
         "0": "my",
         "ID": 277,
         "_deepnote_index_column": 1545
        },
        {
         "0": "fathers",
         "ID": 277,
         "_deepnote_index_column": 1546
        },
        {
         "0": "day",
         "ID": 277,
         "_deepnote_index_column": 1547
        },
        {
         "0": "disposable",
         "ID": 278,
         "_deepnote_index_column": 1548
        },
        {
         "0": "projector",
         "ID": 278,
         "_deepnote_index_column": 1549
        },
        {
         "0": "no",
         "ID": 278,
         "_deepnote_index_column": 1550
        },
        {
         "0": "repair",
         "ID": 278,
         "_deepnote_index_column": 1551
        },
        {
         "0": "centers",
         "ID": 278,
         "_deepnote_index_column": 1552
        },
        {
         "0": "in",
         "ID": 278,
         "_deepnote_index_column": 1553
        },
        {
         "0": "usa",
         "ID": 278,
         "_deepnote_index_column": 1554
        },
        {
         "0": "one",
         "ID": 279,
         "_deepnote_index_column": 1555
        },
        {
         "0": "star",
         "ID": 279,
         "_deepnote_index_column": 1556
        },
        {
         "0": "disappointed",
         "ID": 280,
         "_deepnote_index_column": 1557
        },
        {
         "0": "not",
         "ID": 281,
         "_deepnote_index_column": 1558
        },
        {
         "0": "working",
         "ID": 281,
         "_deepnote_index_column": 1559
        },
        {
         "0": "with",
         "ID": 281,
         "_deepnote_index_column": 1560
        },
        {
         "0": "apps",
         "ID": 281,
         "_deepnote_index_column": 1561
        },
        {
         "0": "that",
         "ID": 281,
         "_deepnote_index_column": 1562
        },
        {
         "0": "i",
         "ID": 281,
         "_deepnote_index_column": 1563
        },
        {
         "0": "am",
         "ID": 281,
         "_deepnote_index_column": 1564
        },
        {
         "0": "watching",
         "ID": 281,
         "_deepnote_index_column": 1565
        },
        {
         "0": "on",
         "ID": 281,
         "_deepnote_index_column": 1566
        },
        {
         "0": "tv",
         "ID": 281,
         "_deepnote_index_column": 1567
        },
        {
         "0": "",
         "ID": 281,
         "_deepnote_index_column": 1568
        },
        {
         "0": "thats",
         "ID": 282,
         "_deepnote_index_column": 1569
        },
        {
         "0": "a",
         "ID": 282,
         "_deepnote_index_column": 1570
        },
        {
         "0": "pretty",
         "ID": 282,
         "_deepnote_index_column": 1571
        },
        {
         "0": "big",
         "ID": 282,
         "_deepnote_index_column": 1572
        },
        {
         "0": "deal",
         "ID": 282,
         "_deepnote_index_column": 1573
        },
        {
         "0": "breaker",
         "ID": 282,
         "_deepnote_index_column": 1574
        },
        {
         "0": "for",
         "ID": 282,
         "_deepnote_index_column": 1575
        },
        {
         "0": "me",
         "ID": 282,
         "_deepnote_index_column": 1576
        },
        {
         "0": "three",
         "ID": 283,
         "_deepnote_index_column": 1577
        },
        {
         "0": "stars",
         "ID": 283,
         "_deepnote_index_column": 1578
        },
        {
         "0": "two",
         "ID": 284,
         "_deepnote_index_column": 1579
        },
        {
         "0": "stars",
         "ID": 284,
         "_deepnote_index_column": 1580
        },
        {
         "0": "really",
         "ID": 285,
         "_deepnote_index_column": 1581
        },
        {
         "0": "amazing",
         "ID": 285,
         "_deepnote_index_column": 1582
        },
        {
         "0": "surely",
         "ID": 286,
         "_deepnote_index_column": 1583
        },
        {
         "0": "its",
         "ID": 286,
         "_deepnote_index_column": 1584
        },
        {
         "0": "wonderful",
         "ID": 286,
         "_deepnote_index_column": 1585
        },
        {
         "0": "and",
         "ID": 286,
         "_deepnote_index_column": 1586
        },
        {
         "0": "all",
         "ID": 286,
         "_deepnote_index_column": 1587
        },
        {
         "0": "lack",
         "ID": 287,
         "_deepnote_index_column": 1588
        },
        {
         "0": "flexibility",
         "ID": 287,
         "_deepnote_index_column": 1589
        },
        {
         "0": "two",
         "ID": 288,
         "_deepnote_index_column": 1590
        },
        {
         "0": "defective",
         "ID": 288,
         "_deepnote_index_column": 1591
        },
        {
         "0": "units",
         "ID": 288,
         "_deepnote_index_column": 1592
        },
        {
         "0": "right",
         "ID": 288,
         "_deepnote_index_column": 1593
        },
        {
         "0": "out",
         "ID": 288,
         "_deepnote_index_column": 1594
        },
        {
         "0": "of",
         "ID": 288,
         "_deepnote_index_column": 1595
        },
        {
         "0": "the",
         "ID": 288,
         "_deepnote_index_column": 1596
        },
        {
         "0": "box",
         "ID": 288,
         "_deepnote_index_column": 1597
        },
        {
         "0": "not",
         "ID": 288,
         "_deepnote_index_column": 1598
        },
        {
         "0": "good",
         "ID": 288,
         "_deepnote_index_column": 1599
        },
        {
         "0": "odds",
         "ID": 288,
         "_deepnote_index_column": 1600
        },
        {
         "0": "skip",
         "ID": 288,
         "_deepnote_index_column": 1601
        },
        {
         "0": "this",
         "ID": 288,
         "_deepnote_index_column": 1602
        },
        {
         "0": "product",
         "ID": 288,
         "_deepnote_index_column": 1603
        },
        {
         "0": "low",
         "ID": 289,
         "_deepnote_index_column": 1604
        },
        {
         "0": "res",
         "ID": 289,
         "_deepnote_index_column": 1605
        },
        {
         "0": "not",
         "ID": 290,
         "_deepnote_index_column": 1606
        },
        {
         "0": "worth",
         "ID": 290,
         "_deepnote_index_column": 1607
        },
        {
         "0": "the",
         "ID": 290,
         "_deepnote_index_column": 1608
        },
        {
         "0": "price",
         "ID": 290,
         "_deepnote_index_column": 1609
        },
        {
         "0": "not",
         "ID": 291,
         "_deepnote_index_column": 1610
        },
        {
         "0": "working",
         "ID": 291,
         "_deepnote_index_column": 1611
        },
        {
         "0": "with",
         "ID": 291,
         "_deepnote_index_column": 1612
        },
        {
         "0": "its",
         "ID": 291,
         "_deepnote_index_column": 1613
        },
        {
         "0": "own",
         "ID": 291,
         "_deepnote_index_column": 1614
        },
        {
         "0": "twitch",
         "ID": 291,
         "_deepnote_index_column": 1615
        },
        {
         "0": "app",
         "ID": 291,
         "_deepnote_index_column": 1616
        },
        {
         "0": "poco",
         "ID": 292,
         "_deepnote_index_column": 1617
        },
        {
         "0": "brillo",
         "ID": 292,
         "_deepnote_index_column": 1618
        },
        {
         "0": "y",
         "ID": 292,
         "_deepnote_index_column": 1619
        },
        {
         "0": "baja",
         "ID": 292,
         "_deepnote_index_column": 1620
        },
        {
         "0": "resolución",
         "ID": 292,
         "_deepnote_index_column": 1621
        },
        {
         "0": "badluck",
         "ID": 293,
         "_deepnote_index_column": 1622
        },
        {
         "0": "wont",
         "ID": 294,
         "_deepnote_index_column": 1623
        },
        {
         "0": "last",
         "ID": 294,
         "_deepnote_index_column": 1624
        },
        {
         "0": "long",
         "ID": 294,
         "_deepnote_index_column": 1625
        }
       ]
      },
      "text/plain": "       ID           0\n0       1        read\n1       1       their\n2       1     privacy\n3       1      policy\n4       1        they\n...   ...         ...\n1621  292  resolución\n1622  293     badluck\n1623  294        wont\n1624  294        last\n1625  294        long\n\n[1626 rows x 2 columns]",
      "text/html": "<div>\n<style scoped>\n    .dataframe tbody tr th:only-of-type {\n        vertical-align: middle;\n    }\n\n    .dataframe tbody tr th {\n        vertical-align: top;\n    }\n\n    .dataframe thead th {\n        text-align: right;\n    }\n</style>\n<table border=\"1\" class=\"dataframe\">\n  <thead>\n    <tr style=\"text-align: right;\">\n      <th></th>\n      <th>ID</th>\n      <th>0</th>\n    </tr>\n  </thead>\n  <tbody>\n    <tr>\n      <th>0</th>\n      <td>1</td>\n      <td>read</td>\n    </tr>\n    <tr>\n      <th>1</th>\n      <td>1</td>\n      <td>their</td>\n    </tr>\n    <tr>\n      <th>2</th>\n      <td>1</td>\n      <td>privacy</td>\n    </tr>\n    <tr>\n      <th>3</th>\n      <td>1</td>\n      <td>policy</td>\n    </tr>\n    <tr>\n      <th>4</th>\n      <td>1</td>\n      <td>they</td>\n    </tr>\n    <tr>\n      <th>...</th>\n      <td>...</td>\n      <td>...</td>\n    </tr>\n    <tr>\n      <th>1621</th>\n      <td>292</td>\n      <td>resolución</td>\n    </tr>\n    <tr>\n      <th>1622</th>\n      <td>293</td>\n      <td>badluck</td>\n    </tr>\n    <tr>\n      <th>1623</th>\n      <td>294</td>\n      <td>wont</td>\n    </tr>\n    <tr>\n      <th>1624</th>\n      <td>294</td>\n      <td>last</td>\n    </tr>\n    <tr>\n      <th>1625</th>\n      <td>294</td>\n      <td>long</td>\n    </tr>\n  </tbody>\n</table>\n<p>1626 rows × 2 columns</p>\n</div>"
     },
     "metadata": {}
    }
   ],
   "execution_count": null
  },
  {
   "cell_type": "code",
   "metadata": {
    "colab": {
     "base_uri": "https://localhost:8080/",
     "height": 419
    },
    "id": "g0q2YhoiLsqv",
    "outputId": "c7fa7e32-a612-4298-b382-fc4048e0de11",
    "cell_id": "00009-e1401fec-8333-47d5-90de-3ef6769c6090",
    "deepnote_to_be_reexecuted": false,
    "source_hash": "fda69f70",
    "execution_start": 1633236478506,
    "execution_millis": 90,
    "deepnote_cell_type": "code"
   },
   "source": "#Renaming columns\nnew_df.columns = ['ID', 'Word']\nnew_df",
   "outputs": [
    {
     "output_type": "execute_result",
     "execution_count": 9,
     "data": {
      "application/vnd.deepnote.dataframe.v2+json": {
       "row_count": 1626,
       "column_count": 2,
       "columns": [
        {
         "name": "ID",
         "dtype": "int64",
         "stats": {
          "unique_count": 294,
          "nan_count": 0,
          "min": "1",
          "max": "294",
          "histogram": [
           {
            "bin_start": 1,
            "bin_end": 30.3,
            "count": 207
           },
           {
            "bin_start": 30.3,
            "bin_end": 59.6,
            "count": 187
           },
           {
            "bin_start": 59.6,
            "bin_end": 88.9,
            "count": 165
           },
           {
            "bin_start": 88.9,
            "bin_end": 118.2,
            "count": 174
           },
           {
            "bin_start": 118.2,
            "bin_end": 147.5,
            "count": 169
           },
           {
            "bin_start": 147.5,
            "bin_end": 176.8,
            "count": 147
           },
           {
            "bin_start": 176.8,
            "bin_end": 206.1,
            "count": 152
           },
           {
            "bin_start": 206.1,
            "bin_end": 235.4,
            "count": 144
           },
           {
            "bin_start": 235.4,
            "bin_end": 264.7,
            "count": 144
           },
           {
            "bin_start": 264.7,
            "bin_end": 294,
            "count": 137
           }
          ]
         }
        },
        {
         "name": "Word",
         "dtype": "object",
         "stats": {
          "unique_count": 603,
          "nan_count": 0,
          "categories": [
           {
            "name": "not",
            "count": 91
           },
           {
            "name": "is",
            "count": 41
           },
           {
            "name": "601 others",
            "count": 1494
           }
          ]
         }
        },
        {
         "name": "_deepnote_index_column",
         "dtype": "int64"
        }
       ],
       "rows_top": [
        {
         "ID": 1,
         "Word": "read",
         "_deepnote_index_column": 0
        },
        {
         "ID": 1,
         "Word": "their",
         "_deepnote_index_column": 1
        },
        {
         "ID": 1,
         "Word": "privacy",
         "_deepnote_index_column": 2
        },
        {
         "ID": 1,
         "Word": "policy",
         "_deepnote_index_column": 3
        },
        {
         "ID": 1,
         "Word": "they",
         "_deepnote_index_column": 4
        },
        {
         "ID": 1,
         "Word": "are",
         "_deepnote_index_column": 5
        },
        {
         "ID": 1,
         "Word": "intrusive",
         "_deepnote_index_column": 6
        },
        {
         "ID": 2,
         "Word": "great",
         "_deepnote_index_column": 7
        },
        {
         "ID": 2,
         "Word": "hardware",
         "_deepnote_index_column": 8
        },
        {
         "ID": 2,
         "Word": "but",
         "_deepnote_index_column": 9
        },
        {
         "ID": 2,
         "Word": "software",
         "_deepnote_index_column": 10
        },
        {
         "ID": 2,
         "Word": "does",
         "_deepnote_index_column": 11
        },
        {
         "ID": 2,
         "Word": "not",
         "_deepnote_index_column": 12
        },
        {
         "ID": 2,
         "Word": "work",
         "_deepnote_index_column": 13
        },
        {
         "ID": 2,
         "Word": "",
         "_deepnote_index_column": 14
        },
        {
         "ID": 2,
         "Word": "do",
         "_deepnote_index_column": 15
        },
        {
         "ID": 2,
         "Word": "not",
         "_deepnote_index_column": 16
        },
        {
         "ID": 2,
         "Word": "buy",
         "_deepnote_index_column": 17
        },
        {
         "ID": 2,
         "Word": "unless",
         "_deepnote_index_column": 18
        },
        {
         "ID": 2,
         "Word": "you",
         "_deepnote_index_column": 19
        },
        {
         "ID": 2,
         "Word": "want",
         "_deepnote_index_column": 20
        },
        {
         "ID": 2,
         "Word": "to",
         "_deepnote_index_column": 21
        },
        {
         "ID": 2,
         "Word": "project",
         "_deepnote_index_column": 22
        },
        {
         "ID": 2,
         "Word": "from",
         "_deepnote_index_column": 23
        },
        {
         "ID": 2,
         "Word": "hdmi",
         "_deepnote_index_column": 24
        },
        {
         "ID": 2,
         "Word": "source",
         "_deepnote_index_column": 25
        },
        {
         "ID": 2,
         "Word": "only",
         "_deepnote_index_column": 26
        },
        {
         "ID": 3,
         "Word": "i",
         "_deepnote_index_column": 27
        },
        {
         "ID": 3,
         "Word": "am",
         "_deepnote_index_column": 28
        },
        {
         "ID": 3,
         "Word": "keeping",
         "_deepnote_index_column": 29
        },
        {
         "ID": 3,
         "Word": "it",
         "_deepnote_index_column": 30
        },
        {
         "ID": 3,
         "Word": "but",
         "_deepnote_index_column": 31
        },
        {
         "ID": 4,
         "Word": "lies",
         "_deepnote_index_column": 32
        },
        {
         "ID": 5,
         "Word": "it",
         "_deepnote_index_column": 33
        },
        {
         "ID": 5,
         "Word": "does",
         "_deepnote_index_column": 34
        },
        {
         "ID": 5,
         "Word": "not",
         "_deepnote_index_column": 35
        },
        {
         "ID": 5,
         "Word": "work",
         "_deepnote_index_column": 36
        },
        {
         "ID": 5,
         "Word": "on",
         "_deepnote_index_column": 37
        },
        {
         "ID": 5,
         "Word": "most",
         "_deepnote_index_column": 38
        },
        {
         "ID": 5,
         "Word": "formats",
         "_deepnote_index_column": 39
        },
        {
         "ID": 6,
         "Word": "needs",
         "_deepnote_index_column": 40
        },
        {
         "ID": 6,
         "Word": "to",
         "_deepnote_index_column": 41
        },
        {
         "ID": 6,
         "Word": "be",
         "_deepnote_index_column": 42
        },
        {
         "ID": 6,
         "Word": "brighter",
         "_deepnote_index_column": 43
        },
        {
         "ID": 7,
         "Word": "2",
         "_deepnote_index_column": 44
        },
        {
         "ID": 7,
         "Word": "weeks",
         "_deepnote_index_column": 45
        },
        {
         "ID": 7,
         "Word": "7",
         "_deepnote_index_column": 46
        },
        {
         "ID": 7,
         "Word": "etc",
         "_deepnote_index_column": 47
        },
        {
         "ID": 7,
         "Word": "support",
         "_deepnote_index_column": 48
        },
        {
         "ID": 7,
         "Word": "calls",
         "_deepnote_index_column": 49
        },
        {
         "ID": 7,
         "Word": "and",
         "_deepnote_index_column": 50
        },
        {
         "ID": 7,
         "Word": "",
         "_deepnote_index_column": 51
        },
        {
         "ID": 7,
         "Word": "76",
         "_deepnote_index_column": 52
        },
        {
         "ID": 7,
         "Word": "worth",
         "_deepnote_index_column": 53
        },
        {
         "ID": 7,
         "Word": "of",
         "_deepnote_index_column": 54
        },
        {
         "ID": 7,
         "Word": "hdmi",
         "_deepnote_index_column": 55
        },
        {
         "ID": 7,
         "Word": "cables",
         "_deepnote_index_column": 56
        },
        {
         "ID": 7,
         "Word": "and",
         "_deepnote_index_column": 57
        },
        {
         "ID": 7,
         "Word": "connectors",
         "_deepnote_index_column": 58
        },
        {
         "ID": 7,
         "Word": "but",
         "_deepnote_index_column": 59
        },
        {
         "ID": 7,
         "Word": "still",
         "_deepnote_index_column": 60
        },
        {
         "ID": 7,
         "Word": "does",
         "_deepnote_index_column": 61
        },
        {
         "ID": 7,
         "Word": "not",
         "_deepnote_index_column": 62
        },
        {
         "ID": 7,
         "Word": "work",
         "_deepnote_index_column": 63
        },
        {
         "ID": 8,
         "Word": "a",
         "_deepnote_index_column": 64
        },
        {
         "ID": 8,
         "Word": "good",
         "_deepnote_index_column": 65
        },
        {
         "ID": 8,
         "Word": "attempt",
         "_deepnote_index_column": 66
        },
        {
         "ID": 8,
         "Word": "but",
         "_deepnote_index_column": 67
        },
        {
         "ID": 8,
         "Word": "needs",
         "_deepnote_index_column": 68
        },
        {
         "ID": 8,
         "Word": "improvement",
         "_deepnote_index_column": 69
        },
        {
         "ID": 9,
         "Word": "lovely",
         "_deepnote_index_column": 70
        },
        {
         "ID": 9,
         "Word": "outside",
         "_deepnote_index_column": 71
        },
        {
         "ID": 9,
         "Word": "but",
         "_deepnote_index_column": 72
        },
        {
         "ID": 9,
         "Word": "the",
         "_deepnote_index_column": 73
        },
        {
         "ID": 9,
         "Word": "guts",
         "_deepnote_index_column": 74
        },
        {
         "ID": 9,
         "Word": "on",
         "_deepnote_index_column": 75
        },
        {
         "ID": 9,
         "Word": "this",
         "_deepnote_index_column": 76
        },
        {
         "ID": 9,
         "Word": "unit",
         "_deepnote_index_column": 77
        },
        {
         "ID": 9,
         "Word": "leaves",
         "_deepnote_index_column": 78
        },
        {
         "ID": 9,
         "Word": "something",
         "_deepnote_index_column": 79
        },
        {
         "ID": 9,
         "Word": "to",
         "_deepnote_index_column": 80
        },
        {
         "ID": 9,
         "Word": "be",
         "_deepnote_index_column": 81
        },
        {
         "ID": 9,
         "Word": "desired",
         "_deepnote_index_column": 82
        },
        {
         "ID": 10,
         "Word": "no",
         "_deepnote_index_column": 83
        },
        {
         "ID": 10,
         "Word": "longevity",
         "_deepnote_index_column": 84
        },
        {
         "ID": 10,
         "Word": "sporadic",
         "_deepnote_index_column": 85
        },
        {
         "ID": 10,
         "Word": "functionality",
         "_deepnote_index_column": 86
        },
        {
         "ID": 11,
         "Word": "it",
         "_deepnote_index_column": 87
        },
        {
         "ID": 11,
         "Word": "must",
         "_deepnote_index_column": 88
        },
        {
         "ID": 11,
         "Word": "be",
         "_deepnote_index_column": 89
        },
        {
         "ID": 11,
         "Word": "unlocked",
         "_deepnote_index_column": 90
        },
        {
         "ID": 12,
         "Word": "almost",
         "_deepnote_index_column": 91
        },
        {
         "ID": 12,
         "Word": "love",
         "_deepnote_index_column": 92
        },
        {
         "ID": 12,
         "Word": "it",
         "_deepnote_index_column": 93
        },
        {
         "ID": 12,
         "Word": "not",
         "_deepnote_index_column": 94
        },
        {
         "ID": 12,
         "Word": "worth",
         "_deepnote_index_column": 95
        },
        {
         "ID": 12,
         "Word": "the",
         "_deepnote_index_column": 96
        },
        {
         "ID": 12,
         "Word": "price",
         "_deepnote_index_column": 97
        },
        {
         "ID": 13,
         "Word": "terrible",
         "_deepnote_index_column": 98
        },
        {
         "ID": 13,
         "Word": "software",
         "_deepnote_index_column": 99
        },
        {
         "ID": 13,
         "Word": "and",
         "_deepnote_index_column": 100
        },
        {
         "ID": 13,
         "Word": "barely",
         "_deepnote_index_column": 101
        },
        {
         "ID": 13,
         "Word": "usable",
         "_deepnote_index_column": 102
        },
        {
         "ID": 14,
         "Word": "mala",
         "_deepnote_index_column": 103
        },
        {
         "ID": 14,
         "Word": "resolucion",
         "_deepnote_index_column": 104
        },
        {
         "ID": 14,
         "Word": "en",
         "_deepnote_index_column": 105
        },
        {
         "ID": 14,
         "Word": "salas",
         "_deepnote_index_column": 106
        },
        {
         "ID": 14,
         "Word": "iluminadas",
         "_deepnote_index_column": 107
        },
        {
         "ID": 15,
         "Word": "it",
         "_deepnote_index_column": 108
        },
        {
         "ID": 15,
         "Word": "does",
         "_deepnote_index_column": 109
        },
        {
         "ID": 15,
         "Word": "not",
         "_deepnote_index_column": 110
        },
        {
         "ID": 15,
         "Word": "work",
         "_deepnote_index_column": 111
        },
        {
         "ID": 16,
         "Word": "does",
         "_deepnote_index_column": 112
        },
        {
         "ID": 16,
         "Word": "not",
         "_deepnote_index_column": 113
        },
        {
         "ID": 16,
         "Word": "work",
         "_deepnote_index_column": 114
        },
        {
         "ID": 16,
         "Word": "well",
         "_deepnote_index_column": 115
        },
        {
         "ID": 16,
         "Word": "with",
         "_deepnote_index_column": 116
        },
        {
         "ID": 16,
         "Word": "airplay",
         "_deepnote_index_column": 117
        },
        {
         "ID": 16,
         "Word": "for",
         "_deepnote_index_column": 118
        },
        {
         "ID": 16,
         "Word": "ipad",
         "_deepnote_index_column": 119
        },
        {
         "ID": 17,
         "Word": "not",
         "_deepnote_index_column": 120
        },
        {
         "ID": 17,
         "Word": "what",
         "_deepnote_index_column": 121
        },
        {
         "ID": 17,
         "Word": "you",
         "_deepnote_index_column": 122
        },
        {
         "ID": 17,
         "Word": "think",
         "_deepnote_index_column": 123
        },
        {
         "ID": 18,
         "Word": "was",
         "_deepnote_index_column": 124
        },
        {
         "ID": 18,
         "Word": "probably",
         "_deepnote_index_column": 125
        },
        {
         "ID": 18,
         "Word": "a",
         "_deepnote_index_column": 126
        },
        {
         "ID": 18,
         "Word": "great",
         "_deepnote_index_column": 127
        },
        {
         "ID": 18,
         "Word": "purchase",
         "_deepnote_index_column": 128
        },
        {
         "ID": 18,
         "Word": "in",
         "_deepnote_index_column": 129
        },
        {
         "ID": 18,
         "Word": "2018",
         "_deepnote_index_column": 130
        },
        {
         "ID": 18,
         "Word": "but",
         "_deepnote_index_column": 131
        },
        {
         "ID": 18,
         "Word": "there",
         "_deepnote_index_column": 132
        },
        {
         "ID": 18,
         "Word": "are",
         "_deepnote_index_column": 133
        },
        {
         "ID": 18,
         "Word": "better",
         "_deepnote_index_column": 134
        },
        {
         "ID": 18,
         "Word": "options",
         "_deepnote_index_column": 135
        },
        {
         "ID": 18,
         "Word": "for",
         "_deepnote_index_column": 136
        },
        {
         "ID": 18,
         "Word": "price",
         "_deepnote_index_column": 137
        },
        {
         "ID": 18,
         "Word": "in",
         "_deepnote_index_column": 138
        },
        {
         "ID": 18,
         "Word": "2021",
         "_deepnote_index_column": 139
        },
        {
         "ID": 19,
         "Word": "just",
         "_deepnote_index_column": 140
        },
        {
         "ID": 19,
         "Word": "ok",
         "_deepnote_index_column": 141
        },
        {
         "ID": 19,
         "Word": "not",
         "_deepnote_index_column": 142
        },
        {
         "ID": 19,
         "Word": "great",
         "_deepnote_index_column": 143
        },
        {
         "ID": 20,
         "Word": "not",
         "_deepnote_index_column": 144
        },
        {
         "ID": 20,
         "Word": "worth",
         "_deepnote_index_column": 145
        },
        {
         "ID": 20,
         "Word": "the",
         "_deepnote_index_column": 146
        },
        {
         "ID": 20,
         "Word": "money",
         "_deepnote_index_column": 147
        },
        {
         "ID": 21,
         "Word": "look",
         "_deepnote_index_column": 148
        },
        {
         "ID": 21,
         "Word": "elsewhere",
         "_deepnote_index_column": 149
        },
        {
         "ID": 21,
         "Word": "not",
         "_deepnote_index_column": 150
        },
        {
         "ID": 21,
         "Word": "very",
         "_deepnote_index_column": 151
        },
        {
         "ID": 21,
         "Word": "bright",
         "_deepnote_index_column": 152
        },
        {
         "ID": 21,
         "Word": "and",
         "_deepnote_index_column": 153
        },
        {
         "ID": 21,
         "Word": "blurry",
         "_deepnote_index_column": 154
        },
        {
         "ID": 21,
         "Word": "edges",
         "_deepnote_index_column": 155
        },
        {
         "ID": 22,
         "Word": "disappointed",
         "_deepnote_index_column": 156
        },
        {
         "ID": 22,
         "Word": "and",
         "_deepnote_index_column": 157
        },
        {
         "ID": 22,
         "Word": "underwhelmed",
         "_deepnote_index_column": 158
        },
        {
         "ID": 23,
         "Word": "expensive",
         "_deepnote_index_column": 159
        },
        {
         "ID": 23,
         "Word": "bad",
         "_deepnote_index_column": 160
        },
        {
         "ID": 23,
         "Word": "navigation",
         "_deepnote_index_column": 161
        },
        {
         "ID": 23,
         "Word": "no",
         "_deepnote_index_column": 162
        },
        {
         "ID": 23,
         "Word": "display",
         "_deepnote_index_column": 163
        },
        {
         "ID": 23,
         "Word": "resizing",
         "_deepnote_index_column": 164
        },
        {
         "ID": 24,
         "Word": "over",
         "_deepnote_index_column": 165
        },
        {
         "ID": 24,
         "Word": "priced",
         "_deepnote_index_column": 166
        },
        {
         "ID": 24,
         "Word": "and",
         "_deepnote_index_column": 167
        },
        {
         "ID": 24,
         "Word": "poor",
         "_deepnote_index_column": 168
        },
        {
         "ID": 24,
         "Word": "quality",
         "_deepnote_index_column": 169
        },
        {
         "ID": 25,
         "Word": "great",
         "_deepnote_index_column": 170
        },
        {
         "ID": 25,
         "Word": "small",
         "_deepnote_index_column": 171
        },
        {
         "ID": 25,
         "Word": "projector",
         "_deepnote_index_column": 172
        },
        {
         "ID": 26,
         "Word": "utter",
         "_deepnote_index_column": 173
        },
        {
         "ID": 26,
         "Word": "disappointment",
         "_deepnote_index_column": 174
        },
        {
         "ID": 26,
         "Word": "and",
         "_deepnote_index_column": 175
        },
        {
         "ID": 26,
         "Word": "waste",
         "_deepnote_index_column": 176
        },
        {
         "ID": 26,
         "Word": "of",
         "_deepnote_index_column": 177
        },
        {
         "ID": 26,
         "Word": "money",
         "_deepnote_index_column": 178
        },
        {
         "ID": 26,
         "Word": "buy",
         "_deepnote_index_column": 179
        },
        {
         "ID": 26,
         "Word": "a",
         "_deepnote_index_column": 180
        },
        {
         "ID": 26,
         "Word": "cheap",
         "_deepnote_index_column": 181
        },
        {
         "ID": 26,
         "Word": "one",
         "_deepnote_index_column": 182
        },
        {
         "ID": 26,
         "Word": "this",
         "_deepnote_index_column": 183
        },
        {
         "ID": 26,
         "Word": "one",
         "_deepnote_index_column": 184
        },
        {
         "ID": 26,
         "Word": "runs",
         "_deepnote_index_column": 185
        },
        {
         "ID": 26,
         "Word": "like",
         "_deepnote_index_column": 186
        },
        {
         "ID": 26,
         "Word": "it",
         "_deepnote_index_column": 187
        },
        {
         "ID": 27,
         "Word": "brightness",
         "_deepnote_index_column": 188
        },
        {
         "ID": 27,
         "Word": "and",
         "_deepnote_index_column": 189
        },
        {
         "ID": 27,
         "Word": "windows",
         "_deepnote_index_column": 190
        },
        {
         "ID": 27,
         "Word": "projection",
         "_deepnote_index_column": 191
        },
        {
         "ID": 27,
         "Word": "not",
         "_deepnote_index_column": 192
        },
        {
         "ID": 27,
         "Word": "great",
         "_deepnote_index_column": 193
        },
        {
         "ID": 28,
         "Word": "no",
         "_deepnote_index_column": 194
        },
        {
         "ID": 28,
         "Word": "audio",
         "_deepnote_index_column": 195
        },
        {
         "ID": 28,
         "Word": "out",
         "_deepnote_index_column": 196
        },
        {
         "ID": 29,
         "Word": "youtube",
         "_deepnote_index_column": 197
        },
        {
         "ID": 29,
         "Word": "sign",
         "_deepnote_index_column": 198
        },
        {
         "ID": 29,
         "Word": "in",
         "_deepnote_index_column": 199
        },
        {
         "ID": 29,
         "Word": "tiptrick",
         "_deepnote_index_column": 200
        },
        {
         "ID": 30,
         "Word": "do",
         "_deepnote_index_column": 201
        },
        {
         "ID": 30,
         "Word": "not",
         "_deepnote_index_column": 202
        },
        {
         "ID": 30,
         "Word": "do",
         "_deepnote_index_column": 203
        },
        {
         "ID": 30,
         "Word": "it",
         "_deepnote_index_column": 204
        },
        {
         "ID": 30,
         "Word": "misleading",
         "_deepnote_index_column": 205
        },
        {
         "ID": 30,
         "Word": "reviews",
         "_deepnote_index_column": 206
        },
        {
         "ID": 31,
         "Word": "video",
         "_deepnote_index_column": 207
        },
        {
         "ID": 31,
         "Word": "is",
         "_deepnote_index_column": 208
        },
        {
         "ID": 31,
         "Word": "not",
         "_deepnote_index_column": 209
        },
        {
         "ID": 31,
         "Word": "that",
         "_deepnote_index_column": 210
        },
        {
         "ID": 31,
         "Word": "sharp",
         "_deepnote_index_column": 211
        },
        {
         "ID": 31,
         "Word": "420p",
         "_deepnote_index_column": 212
        },
        {
         "ID": 31,
         "Word": "but",
         "_deepnote_index_column": 213
        },
        {
         "ID": 31,
         "Word": "rest",
         "_deepnote_index_column": 214
        },
        {
         "ID": 31,
         "Word": "is",
         "_deepnote_index_column": 215
        },
        {
         "ID": 31,
         "Word": "good",
         "_deepnote_index_column": 216
        },
        {
         "ID": 32,
         "Word": "does",
         "_deepnote_index_column": 217
        },
        {
         "ID": 32,
         "Word": "the",
         "_deepnote_index_column": 218
        },
        {
         "ID": 32,
         "Word": "job",
         "_deepnote_index_column": 219
        },
        {
         "ID": 32,
         "Word": "but",
         "_deepnote_index_column": 220
        },
        {
         "ID": 32,
         "Word": "was",
         "_deepnote_index_column": 221
        },
        {
         "ID": 32,
         "Word": "expecting",
         "_deepnote_index_column": 222
        },
        {
         "ID": 32,
         "Word": "more",
         "_deepnote_index_column": 223
        },
        {
         "ID": 33,
         "Word": "compared",
         "_deepnote_index_column": 224
        },
        {
         "ID": 33,
         "Word": "to",
         "_deepnote_index_column": 225
        },
        {
         "ID": 33,
         "Word": "others",
         "_deepnote_index_column": 226
        },
        {
         "ID": 33,
         "Word": "at",
         "_deepnote_index_column": 227
        },
        {
         "ID": 33,
         "Word": "the",
         "_deepnote_index_column": 228
        },
        {
         "ID": 33,
         "Word": "same",
         "_deepnote_index_column": 229
        },
        {
         "ID": 33,
         "Word": "price",
         "_deepnote_index_column": 230
        },
        {
         "ID": 33,
         "Word": "point",
         "_deepnote_index_column": 231
        },
        {
         "ID": 33,
         "Word": "disappointed",
         "_deepnote_index_column": 232
        },
        {
         "ID": 34,
         "Word": "does",
         "_deepnote_index_column": 233
        },
        {
         "ID": 34,
         "Word": "not",
         "_deepnote_index_column": 234
        },
        {
         "ID": 34,
         "Word": "really",
         "_deepnote_index_column": 235
        },
        {
         "ID": 34,
         "Word": "screen",
         "_deepnote_index_column": 236
        },
        {
         "ID": 34,
         "Word": "mirror",
         "_deepnote_index_column": 237
        },
        {
         "ID": 35,
         "Word": "many",
         "_deepnote_index_column": 238
        },
        {
         "ID": 35,
         "Word": "many",
         "_deepnote_index_column": 239
        },
        {
         "ID": 35,
         "Word": "reasons",
         "_deepnote_index_column": 240
        },
        {
         "ID": 35,
         "Word": "to",
         "_deepnote_index_column": 241
        },
        {
         "ID": 35,
         "Word": "move",
         "_deepnote_index_column": 242
        },
        {
         "ID": 35,
         "Word": "on",
         "_deepnote_index_column": 243
        },
        {
         "ID": 35,
         "Word": "",
         "_deepnote_index_column": 244
        },
        {
         "ID": 35,
         "Word": "this",
         "_deepnote_index_column": 245
        },
        {
         "ID": 35,
         "Word": "sucks",
         "_deepnote_index_column": 246
        },
        {
         "ID": 36,
         "Word": "be",
         "_deepnote_index_column": 247
        },
        {
         "ID": 36,
         "Word": "prepared",
         "_deepnote_index_column": 248
        },
        {
         "ID": 36,
         "Word": "to",
         "_deepnote_index_column": 249
        }
       ],
       "rows_bottom": [
        {
         "ID": 240,
         "Word": "low",
         "_deepnote_index_column": 1376
        },
        {
         "ID": 240,
         "Word": "light",
         "_deepnote_index_column": 1377
        },
        {
         "ID": 240,
         "Word": "lumens",
         "_deepnote_index_column": 1378
        },
        {
         "ID": 241,
         "Word": "horrible",
         "_deepnote_index_column": 1379
        },
        {
         "ID": 241,
         "Word": "sound",
         "_deepnote_index_column": 1380
        },
        {
         "ID": 242,
         "Word": "bad",
         "_deepnote_index_column": 1381
        },
        {
         "ID": 242,
         "Word": "experience",
         "_deepnote_index_column": 1382
        },
        {
         "ID": 242,
         "Word": "with",
         "_deepnote_index_column": 1383
        },
        {
         "ID": 242,
         "Word": "mini",
         "_deepnote_index_column": 1384
        },
        {
         "ID": 242,
         "Word": "projector",
         "_deepnote_index_column": 1385
        },
        {
         "ID": 243,
         "Word": "just",
         "_deepnote_index_column": 1386
        },
        {
         "ID": 243,
         "Word": "ok",
         "_deepnote_index_column": 1387
        },
        {
         "ID": 244,
         "Word": "poorly",
         "_deepnote_index_column": 1388
        },
        {
         "ID": 244,
         "Word": "written",
         "_deepnote_index_column": 1389
        },
        {
         "ID": 244,
         "Word": "manual",
         "_deepnote_index_column": 1390
        },
        {
         "ID": 244,
         "Word": "great",
         "_deepnote_index_column": 1391
        },
        {
         "ID": 244,
         "Word": "tech",
         "_deepnote_index_column": 1392
        },
        {
         "ID": 244,
         "Word": "support",
         "_deepnote_index_column": 1393
        },
        {
         "ID": 244,
         "Word": "from",
         "_deepnote_index_column": 1394
        },
        {
         "ID": 244,
         "Word": "kevin",
         "_deepnote_index_column": 1395
        },
        {
         "ID": 245,
         "Word": "pricey",
         "_deepnote_index_column": 1396
        },
        {
         "ID": 245,
         "Word": "paperweight",
         "_deepnote_index_column": 1397
        },
        {
         "ID": 246,
         "Word": "poor",
         "_deepnote_index_column": 1398
        },
        {
         "ID": 246,
         "Word": "quality",
         "_deepnote_index_column": 1399
        },
        {
         "ID": 247,
         "Word": "moderate",
         "_deepnote_index_column": 1400
        },
        {
         "ID": 247,
         "Word": "good",
         "_deepnote_index_column": 1401
        },
        {
         "ID": 248,
         "Word": "waste",
         "_deepnote_index_column": 1402
        },
        {
         "ID": 248,
         "Word": "of",
         "_deepnote_index_column": 1403
        },
        {
         "ID": 248,
         "Word": "money",
         "_deepnote_index_column": 1404
        },
        {
         "ID": 249,
         "Word": "lumens",
         "_deepnote_index_column": 1405
        },
        {
         "ID": 249,
         "Word": "needs",
         "_deepnote_index_column": 1406
        },
        {
         "ID": 249,
         "Word": "more",
         "_deepnote_index_column": 1407
        },
        {
         "ID": 249,
         "Word": "output",
         "_deepnote_index_column": 1408
        },
        {
         "ID": 250,
         "Word": "",
         "_deepnote_index_column": 1409
        },
        {
         "ID": 251,
         "Word": "terrible",
         "_deepnote_index_column": 1410
        },
        {
         "ID": 252,
         "Word": "two",
         "_deepnote_index_column": 1411
        },
        {
         "ID": 252,
         "Word": "stars",
         "_deepnote_index_column": 1412
        },
        {
         "ID": 253,
         "Word": "only",
         "_deepnote_index_column": 1413
        },
        {
         "ID": 253,
         "Word": "got",
         "_deepnote_index_column": 1414
        },
        {
         "ID": 253,
         "Word": "2",
         "_deepnote_index_column": 1415
        },
        {
         "ID": 253,
         "Word": "uses",
         "_deepnote_index_column": 1416
        },
        {
         "ID": 253,
         "Word": "ot",
         "_deepnote_index_column": 1417
        },
        {
         "ID": 253,
         "Word": "if",
         "_deepnote_index_column": 1418
        },
        {
         "ID": 253,
         "Word": "the",
         "_deepnote_index_column": 1419
        },
        {
         "ID": 253,
         "Word": "device",
         "_deepnote_index_column": 1420
        },
        {
         "ID": 254,
         "Word": "losses",
         "_deepnote_index_column": 1421
        },
        {
         "ID": 254,
         "Word": "focused",
         "_deepnote_index_column": 1422
        },
        {
         "ID": 254,
         "Word": "constantly",
         "_deepnote_index_column": 1423
        },
        {
         "ID": 255,
         "Word": "also",
         "_deepnote_index_column": 1424
        },
        {
         "ID": 255,
         "Word": "the",
         "_deepnote_index_column": 1425
        },
        {
         "ID": 255,
         "Word": "capsule",
         "_deepnote_index_column": 1426
        },
        {
         "ID": 255,
         "Word": "control",
         "_deepnote_index_column": 1427
        },
        {
         "ID": 255,
         "Word": "app",
         "_deepnote_index_column": 1428
        },
        {
         "ID": 255,
         "Word": "is",
         "_deepnote_index_column": 1429
        },
        {
         "ID": 255,
         "Word": "poor",
         "_deepnote_index_column": 1430
        },
        {
         "ID": 255,
         "Word": "difficult",
         "_deepnote_index_column": 1431
        },
        {
         "ID": 255,
         "Word": "to",
         "_deepnote_index_column": 1432
        },
        {
         "ID": 255,
         "Word": "control",
         "_deepnote_index_column": 1433
        },
        {
         "ID": 255,
         "Word": "the",
         "_deepnote_index_column": 1434
        },
        {
         "ID": 255,
         "Word": "mouse",
         "_deepnote_index_column": 1435
        },
        {
         "ID": 255,
         "Word": "function",
         "_deepnote_index_column": 1436
        },
        {
         "ID": 256,
         "Word": "sadly",
         "_deepnote_index_column": 1437
        },
        {
         "ID": 256,
         "Word": "dissappointed",
         "_deepnote_index_column": 1438
        },
        {
         "ID": 256,
         "Word": "yet",
         "_deepnote_index_column": 1439
        },
        {
         "ID": 256,
         "Word": "simultaneously",
         "_deepnote_index_column": 1440
        },
        {
         "ID": 256,
         "Word": "awed",
         "_deepnote_index_column": 1441
        },
        {
         "ID": 257,
         "Word": "software",
         "_deepnote_index_column": 1442
        },
        {
         "ID": 257,
         "Word": "ruins",
         "_deepnote_index_column": 1443
        },
        {
         "ID": 257,
         "Word": "the",
         "_deepnote_index_column": 1444
        },
        {
         "ID": 257,
         "Word": "product",
         "_deepnote_index_column": 1445
        },
        {
         "ID": 258,
         "Word": "screencast",
         "_deepnote_index_column": 1446
        },
        {
         "ID": 258,
         "Word": "not",
         "_deepnote_index_column": 1447
        },
        {
         "ID": 258,
         "Word": "compatible",
         "_deepnote_index_column": 1448
        },
        {
         "ID": 258,
         "Word": "with",
         "_deepnote_index_column": 1449
        },
        {
         "ID": 258,
         "Word": "google",
         "_deepnote_index_column": 1450
        },
        {
         "ID": 258,
         "Word": "pixel",
         "_deepnote_index_column": 1451
        },
        {
         "ID": 258,
         "Word": "phones",
         "_deepnote_index_column": 1452
        },
        {
         "ID": 259,
         "Word": "nebula",
         "_deepnote_index_column": 1453
        },
        {
         "ID": 259,
         "Word": "capsule",
         "_deepnote_index_column": 1454
        },
        {
         "ID": 259,
         "Word": "review",
         "_deepnote_index_column": 1455
        },
        {
         "ID": 259,
         "Word": "updated",
         "_deepnote_index_column": 1456
        },
        {
         "ID": 260,
         "Word": "not",
         "_deepnote_index_column": 1457
        },
        {
         "ID": 260,
         "Word": "impressed",
         "_deepnote_index_column": 1458
        },
        {
         "ID": 260,
         "Word": "",
         "_deepnote_index_column": 1459
        },
        {
         "ID": 260,
         "Word": "welcome",
         "_deepnote_index_column": 1460
        },
        {
         "ID": 260,
         "Word": "to",
         "_deepnote_index_column": 1461
        },
        {
         "ID": 260,
         "Word": "dongle",
         "_deepnote_index_column": 1462
        },
        {
         "ID": 260,
         "Word": "life",
         "_deepnote_index_column": 1463
        },
        {
         "ID": 261,
         "Word": "biggest",
         "_deepnote_index_column": 1464
        },
        {
         "ID": 261,
         "Word": "problem",
         "_deepnote_index_column": 1465
        },
        {
         "ID": 261,
         "Word": "is",
         "_deepnote_index_column": 1466
        },
        {
         "ID": 261,
         "Word": "low",
         "_deepnote_index_column": 1467
        },
        {
         "ID": 261,
         "Word": "brightness",
         "_deepnote_index_column": 1468
        },
        {
         "ID": 262,
         "Word": "with",
         "_deepnote_index_column": 1469
        },
        {
         "ID": 262,
         "Word": "this",
         "_deepnote_index_column": 1470
        },
        {
         "ID": 262,
         "Word": "cost",
         "_deepnote_index_column": 1471
        },
        {
         "ID": 262,
         "Word": "you",
         "_deepnote_index_column": 1472
        },
        {
         "ID": 262,
         "Word": "can",
         "_deepnote_index_column": 1473
        },
        {
         "ID": 262,
         "Word": "get",
         "_deepnote_index_column": 1474
        },
        {
         "ID": 262,
         "Word": "something",
         "_deepnote_index_column": 1475
        },
        {
         "ID": 262,
         "Word": "better",
         "_deepnote_index_column": 1476
        },
        {
         "ID": 262,
         "Word": "and",
         "_deepnote_index_column": 1477
        },
        {
         "ID": 262,
         "Word": "higher",
         "_deepnote_index_column": 1478
        },
        {
         "ID": 262,
         "Word": "quality",
         "_deepnote_index_column": 1479
        },
        {
         "ID": 263,
         "Word": "do",
         "_deepnote_index_column": 1480
        },
        {
         "ID": 263,
         "Word": "not",
         "_deepnote_index_column": 1481
        },
        {
         "ID": 263,
         "Word": "buy",
         "_deepnote_index_column": 1482
        },
        {
         "ID": 263,
         "Word": "scam",
         "_deepnote_index_column": 1483
        },
        {
         "ID": 263,
         "Word": "fake",
         "_deepnote_index_column": 1484
        },
        {
         "ID": 263,
         "Word": "trash",
         "_deepnote_index_column": 1485
        },
        {
         "ID": 264,
         "Word": "totally",
         "_deepnote_index_column": 1486
        },
        {
         "ID": 264,
         "Word": "waste",
         "_deepnote_index_column": 1487
        },
        {
         "ID": 264,
         "Word": "product",
         "_deepnote_index_column": 1488
        },
        {
         "ID": 265,
         "Word": "an",
         "_deepnote_index_column": 1489
        },
        {
         "ID": 265,
         "Word": "under",
         "_deepnote_index_column": 1490
        },
        {
         "ID": 265,
         "Word": "baked",
         "_deepnote_index_column": 1491
        },
        {
         "ID": 265,
         "Word": "device",
         "_deepnote_index_column": 1492
        },
        {
         "ID": 266,
         "Word": "really",
         "_deepnote_index_column": 1493
        },
        {
         "ID": 266,
         "Word": "wanted",
         "_deepnote_index_column": 1494
        },
        {
         "ID": 266,
         "Word": "to",
         "_deepnote_index_column": 1495
        },
        {
         "ID": 266,
         "Word": "like",
         "_deepnote_index_column": 1496
        },
        {
         "ID": 266,
         "Word": "it",
         "_deepnote_index_column": 1497
        },
        {
         "ID": 266,
         "Word": "but",
         "_deepnote_index_column": 1498
        },
        {
         "ID": 267,
         "Word": "terrible",
         "_deepnote_index_column": 1499
        },
        {
         "ID": 267,
         "Word": "software",
         "_deepnote_index_column": 1500
        },
        {
         "ID": 267,
         "Word": "on",
         "_deepnote_index_column": 1501
        },
        {
         "ID": 267,
         "Word": "pleasant",
         "_deepnote_index_column": 1502
        },
        {
         "ID": 267,
         "Word": "hardware",
         "_deepnote_index_column": 1503
        },
        {
         "ID": 268,
         "Word": "not",
         "_deepnote_index_column": 1504
        },
        {
         "ID": 268,
         "Word": "compatible",
         "_deepnote_index_column": 1505
        },
        {
         "ID": 268,
         "Word": "with",
         "_deepnote_index_column": 1506
        },
        {
         "ID": 268,
         "Word": "disney",
         "_deepnote_index_column": 1507
        },
        {
         "ID": 268,
         "Word": "plus",
         "_deepnote_index_column": 1508
        },
        {
         "ID": 268,
         "Word": "and",
         "_deepnote_index_column": 1509
        },
        {
         "ID": 268,
         "Word": "app",
         "_deepnote_index_column": 1510
        },
        {
         "ID": 268,
         "Word": "is",
         "_deepnote_index_column": 1511
        },
        {
         "ID": 268,
         "Word": "horrible",
         "_deepnote_index_column": 1512
        },
        {
         "ID": 269,
         "Word": "second",
         "_deepnote_index_column": 1513
        },
        {
         "ID": 269,
         "Word": "one",
         "_deepnote_index_column": 1514
        },
        {
         "ID": 269,
         "Word": "since",
         "_deepnote_index_column": 1515
        },
        {
         "ID": 269,
         "Word": "november",
         "_deepnote_index_column": 1516
        },
        {
         "ID": 270,
         "Word": "cool",
         "_deepnote_index_column": 1517
        },
        {
         "ID": 270,
         "Word": "just",
         "_deepnote_index_column": 1518
        },
        {
         "ID": 270,
         "Word": "wish",
         "_deepnote_index_column": 1519
        },
        {
         "ID": 270,
         "Word": "it",
         "_deepnote_index_column": 1520
        },
        {
         "ID": 270,
         "Word": "were",
         "_deepnote_index_column": 1521
        },
        {
         "ID": 270,
         "Word": "brighter",
         "_deepnote_index_column": 1522
        },
        {
         "ID": 271,
         "Word": "chromecast",
         "_deepnote_index_column": 1523
        },
        {
         "ID": 272,
         "Word": "need",
         "_deepnote_index_column": 1524
        },
        {
         "ID": 272,
         "Word": "help",
         "_deepnote_index_column": 1525
        },
        {
         "ID": 272,
         "Word": "to",
         "_deepnote_index_column": 1526
        },
        {
         "ID": 272,
         "Word": "run",
         "_deepnote_index_column": 1527
        },
        {
         "ID": 272,
         "Word": "netflix",
         "_deepnote_index_column": 1528
        },
        {
         "ID": 273,
         "Word": "missing",
         "_deepnote_index_column": 1529
        },
        {
         "ID": 273,
         "Word": "important",
         "_deepnote_index_column": 1530
        },
        {
         "ID": 273,
         "Word": "integrations",
         "_deepnote_index_column": 1531
        },
        {
         "ID": 274,
         "Word": "on",
         "_deepnote_index_column": 1532
        },
        {
         "ID": 274,
         "Word": "the",
         "_deepnote_index_column": 1533
        },
        {
         "ID": 274,
         "Word": "fence",
         "_deepnote_index_column": 1534
        },
        {
         "ID": 275,
         "Word": "proyector",
         "_deepnote_index_column": 1535
        },
        {
         "ID": 275,
         "Word": "muy",
         "_deepnote_index_column": 1536
        },
        {
         "ID": 275,
         "Word": "mediocre",
         "_deepnote_index_column": 1537
        },
        {
         "ID": 276,
         "Word": "over",
         "_deepnote_index_column": 1538
        },
        {
         "ID": 276,
         "Word": "priced",
         "_deepnote_index_column": 1539
        },
        {
         "ID": 277,
         "Word": "expect",
         "_deepnote_index_column": 1540
        },
        {
         "ID": 277,
         "Word": "better",
         "_deepnote_index_column": 1541
        },
        {
         "ID": 277,
         "Word": "for",
         "_deepnote_index_column": 1542
        },
        {
         "ID": 277,
         "Word": "anker",
         "_deepnote_index_column": 1543
        },
        {
         "ID": 277,
         "Word": "ruined",
         "_deepnote_index_column": 1544
        },
        {
         "ID": 277,
         "Word": "my",
         "_deepnote_index_column": 1545
        },
        {
         "ID": 277,
         "Word": "fathers",
         "_deepnote_index_column": 1546
        },
        {
         "ID": 277,
         "Word": "day",
         "_deepnote_index_column": 1547
        },
        {
         "ID": 278,
         "Word": "disposable",
         "_deepnote_index_column": 1548
        },
        {
         "ID": 278,
         "Word": "projector",
         "_deepnote_index_column": 1549
        },
        {
         "ID": 278,
         "Word": "no",
         "_deepnote_index_column": 1550
        },
        {
         "ID": 278,
         "Word": "repair",
         "_deepnote_index_column": 1551
        },
        {
         "ID": 278,
         "Word": "centers",
         "_deepnote_index_column": 1552
        },
        {
         "ID": 278,
         "Word": "in",
         "_deepnote_index_column": 1553
        },
        {
         "ID": 278,
         "Word": "usa",
         "_deepnote_index_column": 1554
        },
        {
         "ID": 279,
         "Word": "one",
         "_deepnote_index_column": 1555
        },
        {
         "ID": 279,
         "Word": "star",
         "_deepnote_index_column": 1556
        },
        {
         "ID": 280,
         "Word": "disappointed",
         "_deepnote_index_column": 1557
        },
        {
         "ID": 281,
         "Word": "not",
         "_deepnote_index_column": 1558
        },
        {
         "ID": 281,
         "Word": "working",
         "_deepnote_index_column": 1559
        },
        {
         "ID": 281,
         "Word": "with",
         "_deepnote_index_column": 1560
        },
        {
         "ID": 281,
         "Word": "apps",
         "_deepnote_index_column": 1561
        },
        {
         "ID": 281,
         "Word": "that",
         "_deepnote_index_column": 1562
        },
        {
         "ID": 281,
         "Word": "i",
         "_deepnote_index_column": 1563
        },
        {
         "ID": 281,
         "Word": "am",
         "_deepnote_index_column": 1564
        },
        {
         "ID": 281,
         "Word": "watching",
         "_deepnote_index_column": 1565
        },
        {
         "ID": 281,
         "Word": "on",
         "_deepnote_index_column": 1566
        },
        {
         "ID": 281,
         "Word": "tv",
         "_deepnote_index_column": 1567
        },
        {
         "ID": 281,
         "Word": "",
         "_deepnote_index_column": 1568
        },
        {
         "ID": 282,
         "Word": "thats",
         "_deepnote_index_column": 1569
        },
        {
         "ID": 282,
         "Word": "a",
         "_deepnote_index_column": 1570
        },
        {
         "ID": 282,
         "Word": "pretty",
         "_deepnote_index_column": 1571
        },
        {
         "ID": 282,
         "Word": "big",
         "_deepnote_index_column": 1572
        },
        {
         "ID": 282,
         "Word": "deal",
         "_deepnote_index_column": 1573
        },
        {
         "ID": 282,
         "Word": "breaker",
         "_deepnote_index_column": 1574
        },
        {
         "ID": 282,
         "Word": "for",
         "_deepnote_index_column": 1575
        },
        {
         "ID": 282,
         "Word": "me",
         "_deepnote_index_column": 1576
        },
        {
         "ID": 283,
         "Word": "three",
         "_deepnote_index_column": 1577
        },
        {
         "ID": 283,
         "Word": "stars",
         "_deepnote_index_column": 1578
        },
        {
         "ID": 284,
         "Word": "two",
         "_deepnote_index_column": 1579
        },
        {
         "ID": 284,
         "Word": "stars",
         "_deepnote_index_column": 1580
        },
        {
         "ID": 285,
         "Word": "really",
         "_deepnote_index_column": 1581
        },
        {
         "ID": 285,
         "Word": "amazing",
         "_deepnote_index_column": 1582
        },
        {
         "ID": 286,
         "Word": "surely",
         "_deepnote_index_column": 1583
        },
        {
         "ID": 286,
         "Word": "its",
         "_deepnote_index_column": 1584
        },
        {
         "ID": 286,
         "Word": "wonderful",
         "_deepnote_index_column": 1585
        },
        {
         "ID": 286,
         "Word": "and",
         "_deepnote_index_column": 1586
        },
        {
         "ID": 286,
         "Word": "all",
         "_deepnote_index_column": 1587
        },
        {
         "ID": 287,
         "Word": "lack",
         "_deepnote_index_column": 1588
        },
        {
         "ID": 287,
         "Word": "flexibility",
         "_deepnote_index_column": 1589
        },
        {
         "ID": 288,
         "Word": "two",
         "_deepnote_index_column": 1590
        },
        {
         "ID": 288,
         "Word": "defective",
         "_deepnote_index_column": 1591
        },
        {
         "ID": 288,
         "Word": "units",
         "_deepnote_index_column": 1592
        },
        {
         "ID": 288,
         "Word": "right",
         "_deepnote_index_column": 1593
        },
        {
         "ID": 288,
         "Word": "out",
         "_deepnote_index_column": 1594
        },
        {
         "ID": 288,
         "Word": "of",
         "_deepnote_index_column": 1595
        },
        {
         "ID": 288,
         "Word": "the",
         "_deepnote_index_column": 1596
        },
        {
         "ID": 288,
         "Word": "box",
         "_deepnote_index_column": 1597
        },
        {
         "ID": 288,
         "Word": "not",
         "_deepnote_index_column": 1598
        },
        {
         "ID": 288,
         "Word": "good",
         "_deepnote_index_column": 1599
        },
        {
         "ID": 288,
         "Word": "odds",
         "_deepnote_index_column": 1600
        },
        {
         "ID": 288,
         "Word": "skip",
         "_deepnote_index_column": 1601
        },
        {
         "ID": 288,
         "Word": "this",
         "_deepnote_index_column": 1602
        },
        {
         "ID": 288,
         "Word": "product",
         "_deepnote_index_column": 1603
        },
        {
         "ID": 289,
         "Word": "low",
         "_deepnote_index_column": 1604
        },
        {
         "ID": 289,
         "Word": "res",
         "_deepnote_index_column": 1605
        },
        {
         "ID": 290,
         "Word": "not",
         "_deepnote_index_column": 1606
        },
        {
         "ID": 290,
         "Word": "worth",
         "_deepnote_index_column": 1607
        },
        {
         "ID": 290,
         "Word": "the",
         "_deepnote_index_column": 1608
        },
        {
         "ID": 290,
         "Word": "price",
         "_deepnote_index_column": 1609
        },
        {
         "ID": 291,
         "Word": "not",
         "_deepnote_index_column": 1610
        },
        {
         "ID": 291,
         "Word": "working",
         "_deepnote_index_column": 1611
        },
        {
         "ID": 291,
         "Word": "with",
         "_deepnote_index_column": 1612
        },
        {
         "ID": 291,
         "Word": "its",
         "_deepnote_index_column": 1613
        },
        {
         "ID": 291,
         "Word": "own",
         "_deepnote_index_column": 1614
        },
        {
         "ID": 291,
         "Word": "twitch",
         "_deepnote_index_column": 1615
        },
        {
         "ID": 291,
         "Word": "app",
         "_deepnote_index_column": 1616
        },
        {
         "ID": 292,
         "Word": "poco",
         "_deepnote_index_column": 1617
        },
        {
         "ID": 292,
         "Word": "brillo",
         "_deepnote_index_column": 1618
        },
        {
         "ID": 292,
         "Word": "y",
         "_deepnote_index_column": 1619
        },
        {
         "ID": 292,
         "Word": "baja",
         "_deepnote_index_column": 1620
        },
        {
         "ID": 292,
         "Word": "resolución",
         "_deepnote_index_column": 1621
        },
        {
         "ID": 293,
         "Word": "badluck",
         "_deepnote_index_column": 1622
        },
        {
         "ID": 294,
         "Word": "wont",
         "_deepnote_index_column": 1623
        },
        {
         "ID": 294,
         "Word": "last",
         "_deepnote_index_column": 1624
        },
        {
         "ID": 294,
         "Word": "long",
         "_deepnote_index_column": 1625
        }
       ]
      },
      "text/plain": "       ID        Word\n0       1        read\n1       1       their\n2       1     privacy\n3       1      policy\n4       1        they\n...   ...         ...\n1621  292  resolución\n1622  293     badluck\n1623  294        wont\n1624  294        last\n1625  294        long\n\n[1626 rows x 2 columns]",
      "text/html": "<div>\n<style scoped>\n    .dataframe tbody tr th:only-of-type {\n        vertical-align: middle;\n    }\n\n    .dataframe tbody tr th {\n        vertical-align: top;\n    }\n\n    .dataframe thead th {\n        text-align: right;\n    }\n</style>\n<table border=\"1\" class=\"dataframe\">\n  <thead>\n    <tr style=\"text-align: right;\">\n      <th></th>\n      <th>ID</th>\n      <th>Word</th>\n    </tr>\n  </thead>\n  <tbody>\n    <tr>\n      <th>0</th>\n      <td>1</td>\n      <td>read</td>\n    </tr>\n    <tr>\n      <th>1</th>\n      <td>1</td>\n      <td>their</td>\n    </tr>\n    <tr>\n      <th>2</th>\n      <td>1</td>\n      <td>privacy</td>\n    </tr>\n    <tr>\n      <th>3</th>\n      <td>1</td>\n      <td>policy</td>\n    </tr>\n    <tr>\n      <th>4</th>\n      <td>1</td>\n      <td>they</td>\n    </tr>\n    <tr>\n      <th>...</th>\n      <td>...</td>\n      <td>...</td>\n    </tr>\n    <tr>\n      <th>1621</th>\n      <td>292</td>\n      <td>resolución</td>\n    </tr>\n    <tr>\n      <th>1622</th>\n      <td>293</td>\n      <td>badluck</td>\n    </tr>\n    <tr>\n      <th>1623</th>\n      <td>294</td>\n      <td>wont</td>\n    </tr>\n    <tr>\n      <th>1624</th>\n      <td>294</td>\n      <td>last</td>\n    </tr>\n    <tr>\n      <th>1625</th>\n      <td>294</td>\n      <td>long</td>\n    </tr>\n  </tbody>\n</table>\n<p>1626 rows × 2 columns</p>\n</div>"
     },
     "metadata": {}
    }
   ],
   "execution_count": null
  },
  {
   "cell_type": "code",
   "metadata": {
    "colab": {
     "base_uri": "https://localhost:8080/",
     "height": 419
    },
    "id": "LKEqXM5FLsqv",
    "outputId": "43f8f100-73fe-4772-8f2f-123ab0594b19",
    "cell_id": "00010-4308e2fa-7c92-40f6-8d72-5037140687c2",
    "deepnote_to_be_reexecuted": false,
    "source_hash": "9269ad3a",
    "execution_start": 1633236478560,
    "execution_millis": 240,
    "deepnote_cell_type": "code"
   },
   "source": "#Text cleaning\n\ndef text_cleaning(text):\n    \n    text = text.lower()\n#    text = re.sub('\\[.*?\\]', '', str(text))\n#    text = re.sub(\"\\\\W\",\" \",text) # remove special chars\n#    text = re.sub('https?://\\S+|www\\.\\S+', '', str(text))\n#    text = re.sub('<.*?>+', '', str(text))\n    text = re.sub('\\n', '', str(text))\n#    text = re.sub('\\w*\\d\\w*', '', str(text))\n\n    text = re.sub(r\"n\\'t\", \" not\", text)\n    text = re.sub(r\"n\\’t\", \" not\", text)\n    text = re.sub(r\"\\’re\", \" are\", text)\n    text = re.sub(r\"\\’s\", \" is\", text)\n    text = re.sub(r\"\\’d\", \" would\", text)\n    text = re.sub(r\"\\’ll\", \" will\", text)\n    text = re.sub(r\"\\’t\", \" not\", text)\n    text = re.sub(r\"\\’ve\", \" have\", text)\n    text = re.sub(r\"\\’m\", \" am\", text)\n    text = re.sub('[%s]' % re.escape(string.punctuation), '', str(text))\n    return text\n\ndf_text=new_df['Word'].apply(text_cleaning)\n\nnew_df['Word']=df_text.apply (lambda x:''.join(x)).apply(text_cleaning)\nnew_df",
   "outputs": [
    {
     "output_type": "execute_result",
     "execution_count": 10,
     "data": {
      "application/vnd.deepnote.dataframe.v2+json": {
       "row_count": 1626,
       "column_count": 2,
       "columns": [
        {
         "name": "ID",
         "dtype": "int64",
         "stats": {
          "unique_count": 294,
          "nan_count": 0,
          "min": "1",
          "max": "294",
          "histogram": [
           {
            "bin_start": 1,
            "bin_end": 30.3,
            "count": 207
           },
           {
            "bin_start": 30.3,
            "bin_end": 59.6,
            "count": 187
           },
           {
            "bin_start": 59.6,
            "bin_end": 88.9,
            "count": 165
           },
           {
            "bin_start": 88.9,
            "bin_end": 118.2,
            "count": 174
           },
           {
            "bin_start": 118.2,
            "bin_end": 147.5,
            "count": 169
           },
           {
            "bin_start": 147.5,
            "bin_end": 176.8,
            "count": 147
           },
           {
            "bin_start": 176.8,
            "bin_end": 206.1,
            "count": 152
           },
           {
            "bin_start": 206.1,
            "bin_end": 235.4,
            "count": 144
           },
           {
            "bin_start": 235.4,
            "bin_end": 264.7,
            "count": 144
           },
           {
            "bin_start": 264.7,
            "bin_end": 294,
            "count": 137
           }
          ]
         }
        },
        {
         "name": "Word",
         "dtype": "object",
         "stats": {
          "unique_count": 603,
          "nan_count": 0,
          "categories": [
           {
            "name": "not",
            "count": 91
           },
           {
            "name": "is",
            "count": 41
           },
           {
            "name": "601 others",
            "count": 1494
           }
          ]
         }
        },
        {
         "name": "_deepnote_index_column",
         "dtype": "int64"
        }
       ],
       "rows_top": [
        {
         "ID": 1,
         "Word": "read",
         "_deepnote_index_column": 0
        },
        {
         "ID": 1,
         "Word": "their",
         "_deepnote_index_column": 1
        },
        {
         "ID": 1,
         "Word": "privacy",
         "_deepnote_index_column": 2
        },
        {
         "ID": 1,
         "Word": "policy",
         "_deepnote_index_column": 3
        },
        {
         "ID": 1,
         "Word": "they",
         "_deepnote_index_column": 4
        },
        {
         "ID": 1,
         "Word": "are",
         "_deepnote_index_column": 5
        },
        {
         "ID": 1,
         "Word": "intrusive",
         "_deepnote_index_column": 6
        },
        {
         "ID": 2,
         "Word": "great",
         "_deepnote_index_column": 7
        },
        {
         "ID": 2,
         "Word": "hardware",
         "_deepnote_index_column": 8
        },
        {
         "ID": 2,
         "Word": "but",
         "_deepnote_index_column": 9
        },
        {
         "ID": 2,
         "Word": "software",
         "_deepnote_index_column": 10
        },
        {
         "ID": 2,
         "Word": "does",
         "_deepnote_index_column": 11
        },
        {
         "ID": 2,
         "Word": "not",
         "_deepnote_index_column": 12
        },
        {
         "ID": 2,
         "Word": "work",
         "_deepnote_index_column": 13
        },
        {
         "ID": 2,
         "Word": "",
         "_deepnote_index_column": 14
        },
        {
         "ID": 2,
         "Word": "do",
         "_deepnote_index_column": 15
        },
        {
         "ID": 2,
         "Word": "not",
         "_deepnote_index_column": 16
        },
        {
         "ID": 2,
         "Word": "buy",
         "_deepnote_index_column": 17
        },
        {
         "ID": 2,
         "Word": "unless",
         "_deepnote_index_column": 18
        },
        {
         "ID": 2,
         "Word": "you",
         "_deepnote_index_column": 19
        },
        {
         "ID": 2,
         "Word": "want",
         "_deepnote_index_column": 20
        },
        {
         "ID": 2,
         "Word": "to",
         "_deepnote_index_column": 21
        },
        {
         "ID": 2,
         "Word": "project",
         "_deepnote_index_column": 22
        },
        {
         "ID": 2,
         "Word": "from",
         "_deepnote_index_column": 23
        },
        {
         "ID": 2,
         "Word": "hdmi",
         "_deepnote_index_column": 24
        },
        {
         "ID": 2,
         "Word": "source",
         "_deepnote_index_column": 25
        },
        {
         "ID": 2,
         "Word": "only",
         "_deepnote_index_column": 26
        },
        {
         "ID": 3,
         "Word": "i",
         "_deepnote_index_column": 27
        },
        {
         "ID": 3,
         "Word": "am",
         "_deepnote_index_column": 28
        },
        {
         "ID": 3,
         "Word": "keeping",
         "_deepnote_index_column": 29
        },
        {
         "ID": 3,
         "Word": "it",
         "_deepnote_index_column": 30
        },
        {
         "ID": 3,
         "Word": "but",
         "_deepnote_index_column": 31
        },
        {
         "ID": 4,
         "Word": "lies",
         "_deepnote_index_column": 32
        },
        {
         "ID": 5,
         "Word": "it",
         "_deepnote_index_column": 33
        },
        {
         "ID": 5,
         "Word": "does",
         "_deepnote_index_column": 34
        },
        {
         "ID": 5,
         "Word": "not",
         "_deepnote_index_column": 35
        },
        {
         "ID": 5,
         "Word": "work",
         "_deepnote_index_column": 36
        },
        {
         "ID": 5,
         "Word": "on",
         "_deepnote_index_column": 37
        },
        {
         "ID": 5,
         "Word": "most",
         "_deepnote_index_column": 38
        },
        {
         "ID": 5,
         "Word": "formats",
         "_deepnote_index_column": 39
        },
        {
         "ID": 6,
         "Word": "needs",
         "_deepnote_index_column": 40
        },
        {
         "ID": 6,
         "Word": "to",
         "_deepnote_index_column": 41
        },
        {
         "ID": 6,
         "Word": "be",
         "_deepnote_index_column": 42
        },
        {
         "ID": 6,
         "Word": "brighter",
         "_deepnote_index_column": 43
        },
        {
         "ID": 7,
         "Word": "2",
         "_deepnote_index_column": 44
        },
        {
         "ID": 7,
         "Word": "weeks",
         "_deepnote_index_column": 45
        },
        {
         "ID": 7,
         "Word": "7",
         "_deepnote_index_column": 46
        },
        {
         "ID": 7,
         "Word": "etc",
         "_deepnote_index_column": 47
        },
        {
         "ID": 7,
         "Word": "support",
         "_deepnote_index_column": 48
        },
        {
         "ID": 7,
         "Word": "calls",
         "_deepnote_index_column": 49
        },
        {
         "ID": 7,
         "Word": "and",
         "_deepnote_index_column": 50
        },
        {
         "ID": 7,
         "Word": "",
         "_deepnote_index_column": 51
        },
        {
         "ID": 7,
         "Word": "76",
         "_deepnote_index_column": 52
        },
        {
         "ID": 7,
         "Word": "worth",
         "_deepnote_index_column": 53
        },
        {
         "ID": 7,
         "Word": "of",
         "_deepnote_index_column": 54
        },
        {
         "ID": 7,
         "Word": "hdmi",
         "_deepnote_index_column": 55
        },
        {
         "ID": 7,
         "Word": "cables",
         "_deepnote_index_column": 56
        },
        {
         "ID": 7,
         "Word": "and",
         "_deepnote_index_column": 57
        },
        {
         "ID": 7,
         "Word": "connectors",
         "_deepnote_index_column": 58
        },
        {
         "ID": 7,
         "Word": "but",
         "_deepnote_index_column": 59
        },
        {
         "ID": 7,
         "Word": "still",
         "_deepnote_index_column": 60
        },
        {
         "ID": 7,
         "Word": "does",
         "_deepnote_index_column": 61
        },
        {
         "ID": 7,
         "Word": "not",
         "_deepnote_index_column": 62
        },
        {
         "ID": 7,
         "Word": "work",
         "_deepnote_index_column": 63
        },
        {
         "ID": 8,
         "Word": "a",
         "_deepnote_index_column": 64
        },
        {
         "ID": 8,
         "Word": "good",
         "_deepnote_index_column": 65
        },
        {
         "ID": 8,
         "Word": "attempt",
         "_deepnote_index_column": 66
        },
        {
         "ID": 8,
         "Word": "but",
         "_deepnote_index_column": 67
        },
        {
         "ID": 8,
         "Word": "needs",
         "_deepnote_index_column": 68
        },
        {
         "ID": 8,
         "Word": "improvement",
         "_deepnote_index_column": 69
        },
        {
         "ID": 9,
         "Word": "lovely",
         "_deepnote_index_column": 70
        },
        {
         "ID": 9,
         "Word": "outside",
         "_deepnote_index_column": 71
        },
        {
         "ID": 9,
         "Word": "but",
         "_deepnote_index_column": 72
        },
        {
         "ID": 9,
         "Word": "the",
         "_deepnote_index_column": 73
        },
        {
         "ID": 9,
         "Word": "guts",
         "_deepnote_index_column": 74
        },
        {
         "ID": 9,
         "Word": "on",
         "_deepnote_index_column": 75
        },
        {
         "ID": 9,
         "Word": "this",
         "_deepnote_index_column": 76
        },
        {
         "ID": 9,
         "Word": "unit",
         "_deepnote_index_column": 77
        },
        {
         "ID": 9,
         "Word": "leaves",
         "_deepnote_index_column": 78
        },
        {
         "ID": 9,
         "Word": "something",
         "_deepnote_index_column": 79
        },
        {
         "ID": 9,
         "Word": "to",
         "_deepnote_index_column": 80
        },
        {
         "ID": 9,
         "Word": "be",
         "_deepnote_index_column": 81
        },
        {
         "ID": 9,
         "Word": "desired",
         "_deepnote_index_column": 82
        },
        {
         "ID": 10,
         "Word": "no",
         "_deepnote_index_column": 83
        },
        {
         "ID": 10,
         "Word": "longevity",
         "_deepnote_index_column": 84
        },
        {
         "ID": 10,
         "Word": "sporadic",
         "_deepnote_index_column": 85
        },
        {
         "ID": 10,
         "Word": "functionality",
         "_deepnote_index_column": 86
        },
        {
         "ID": 11,
         "Word": "it",
         "_deepnote_index_column": 87
        },
        {
         "ID": 11,
         "Word": "must",
         "_deepnote_index_column": 88
        },
        {
         "ID": 11,
         "Word": "be",
         "_deepnote_index_column": 89
        },
        {
         "ID": 11,
         "Word": "unlocked",
         "_deepnote_index_column": 90
        },
        {
         "ID": 12,
         "Word": "almost",
         "_deepnote_index_column": 91
        },
        {
         "ID": 12,
         "Word": "love",
         "_deepnote_index_column": 92
        },
        {
         "ID": 12,
         "Word": "it",
         "_deepnote_index_column": 93
        },
        {
         "ID": 12,
         "Word": "not",
         "_deepnote_index_column": 94
        },
        {
         "ID": 12,
         "Word": "worth",
         "_deepnote_index_column": 95
        },
        {
         "ID": 12,
         "Word": "the",
         "_deepnote_index_column": 96
        },
        {
         "ID": 12,
         "Word": "price",
         "_deepnote_index_column": 97
        },
        {
         "ID": 13,
         "Word": "terrible",
         "_deepnote_index_column": 98
        },
        {
         "ID": 13,
         "Word": "software",
         "_deepnote_index_column": 99
        },
        {
         "ID": 13,
         "Word": "and",
         "_deepnote_index_column": 100
        },
        {
         "ID": 13,
         "Word": "barely",
         "_deepnote_index_column": 101
        },
        {
         "ID": 13,
         "Word": "usable",
         "_deepnote_index_column": 102
        },
        {
         "ID": 14,
         "Word": "mala",
         "_deepnote_index_column": 103
        },
        {
         "ID": 14,
         "Word": "resolucion",
         "_deepnote_index_column": 104
        },
        {
         "ID": 14,
         "Word": "en",
         "_deepnote_index_column": 105
        },
        {
         "ID": 14,
         "Word": "salas",
         "_deepnote_index_column": 106
        },
        {
         "ID": 14,
         "Word": "iluminadas",
         "_deepnote_index_column": 107
        },
        {
         "ID": 15,
         "Word": "it",
         "_deepnote_index_column": 108
        },
        {
         "ID": 15,
         "Word": "does",
         "_deepnote_index_column": 109
        },
        {
         "ID": 15,
         "Word": "not",
         "_deepnote_index_column": 110
        },
        {
         "ID": 15,
         "Word": "work",
         "_deepnote_index_column": 111
        },
        {
         "ID": 16,
         "Word": "does",
         "_deepnote_index_column": 112
        },
        {
         "ID": 16,
         "Word": "not",
         "_deepnote_index_column": 113
        },
        {
         "ID": 16,
         "Word": "work",
         "_deepnote_index_column": 114
        },
        {
         "ID": 16,
         "Word": "well",
         "_deepnote_index_column": 115
        },
        {
         "ID": 16,
         "Word": "with",
         "_deepnote_index_column": 116
        },
        {
         "ID": 16,
         "Word": "airplay",
         "_deepnote_index_column": 117
        },
        {
         "ID": 16,
         "Word": "for",
         "_deepnote_index_column": 118
        },
        {
         "ID": 16,
         "Word": "ipad",
         "_deepnote_index_column": 119
        },
        {
         "ID": 17,
         "Word": "not",
         "_deepnote_index_column": 120
        },
        {
         "ID": 17,
         "Word": "what",
         "_deepnote_index_column": 121
        },
        {
         "ID": 17,
         "Word": "you",
         "_deepnote_index_column": 122
        },
        {
         "ID": 17,
         "Word": "think",
         "_deepnote_index_column": 123
        },
        {
         "ID": 18,
         "Word": "was",
         "_deepnote_index_column": 124
        },
        {
         "ID": 18,
         "Word": "probably",
         "_deepnote_index_column": 125
        },
        {
         "ID": 18,
         "Word": "a",
         "_deepnote_index_column": 126
        },
        {
         "ID": 18,
         "Word": "great",
         "_deepnote_index_column": 127
        },
        {
         "ID": 18,
         "Word": "purchase",
         "_deepnote_index_column": 128
        },
        {
         "ID": 18,
         "Word": "in",
         "_deepnote_index_column": 129
        },
        {
         "ID": 18,
         "Word": "2018",
         "_deepnote_index_column": 130
        },
        {
         "ID": 18,
         "Word": "but",
         "_deepnote_index_column": 131
        },
        {
         "ID": 18,
         "Word": "there",
         "_deepnote_index_column": 132
        },
        {
         "ID": 18,
         "Word": "are",
         "_deepnote_index_column": 133
        },
        {
         "ID": 18,
         "Word": "better",
         "_deepnote_index_column": 134
        },
        {
         "ID": 18,
         "Word": "options",
         "_deepnote_index_column": 135
        },
        {
         "ID": 18,
         "Word": "for",
         "_deepnote_index_column": 136
        },
        {
         "ID": 18,
         "Word": "price",
         "_deepnote_index_column": 137
        },
        {
         "ID": 18,
         "Word": "in",
         "_deepnote_index_column": 138
        },
        {
         "ID": 18,
         "Word": "2021",
         "_deepnote_index_column": 139
        },
        {
         "ID": 19,
         "Word": "just",
         "_deepnote_index_column": 140
        },
        {
         "ID": 19,
         "Word": "ok",
         "_deepnote_index_column": 141
        },
        {
         "ID": 19,
         "Word": "not",
         "_deepnote_index_column": 142
        },
        {
         "ID": 19,
         "Word": "great",
         "_deepnote_index_column": 143
        },
        {
         "ID": 20,
         "Word": "not",
         "_deepnote_index_column": 144
        },
        {
         "ID": 20,
         "Word": "worth",
         "_deepnote_index_column": 145
        },
        {
         "ID": 20,
         "Word": "the",
         "_deepnote_index_column": 146
        },
        {
         "ID": 20,
         "Word": "money",
         "_deepnote_index_column": 147
        },
        {
         "ID": 21,
         "Word": "look",
         "_deepnote_index_column": 148
        },
        {
         "ID": 21,
         "Word": "elsewhere",
         "_deepnote_index_column": 149
        },
        {
         "ID": 21,
         "Word": "not",
         "_deepnote_index_column": 150
        },
        {
         "ID": 21,
         "Word": "very",
         "_deepnote_index_column": 151
        },
        {
         "ID": 21,
         "Word": "bright",
         "_deepnote_index_column": 152
        },
        {
         "ID": 21,
         "Word": "and",
         "_deepnote_index_column": 153
        },
        {
         "ID": 21,
         "Word": "blurry",
         "_deepnote_index_column": 154
        },
        {
         "ID": 21,
         "Word": "edges",
         "_deepnote_index_column": 155
        },
        {
         "ID": 22,
         "Word": "disappointed",
         "_deepnote_index_column": 156
        },
        {
         "ID": 22,
         "Word": "and",
         "_deepnote_index_column": 157
        },
        {
         "ID": 22,
         "Word": "underwhelmed",
         "_deepnote_index_column": 158
        },
        {
         "ID": 23,
         "Word": "expensive",
         "_deepnote_index_column": 159
        },
        {
         "ID": 23,
         "Word": "bad",
         "_deepnote_index_column": 160
        },
        {
         "ID": 23,
         "Word": "navigation",
         "_deepnote_index_column": 161
        },
        {
         "ID": 23,
         "Word": "no",
         "_deepnote_index_column": 162
        },
        {
         "ID": 23,
         "Word": "display",
         "_deepnote_index_column": 163
        },
        {
         "ID": 23,
         "Word": "resizing",
         "_deepnote_index_column": 164
        },
        {
         "ID": 24,
         "Word": "over",
         "_deepnote_index_column": 165
        },
        {
         "ID": 24,
         "Word": "priced",
         "_deepnote_index_column": 166
        },
        {
         "ID": 24,
         "Word": "and",
         "_deepnote_index_column": 167
        },
        {
         "ID": 24,
         "Word": "poor",
         "_deepnote_index_column": 168
        },
        {
         "ID": 24,
         "Word": "quality",
         "_deepnote_index_column": 169
        },
        {
         "ID": 25,
         "Word": "great",
         "_deepnote_index_column": 170
        },
        {
         "ID": 25,
         "Word": "small",
         "_deepnote_index_column": 171
        },
        {
         "ID": 25,
         "Word": "projector",
         "_deepnote_index_column": 172
        },
        {
         "ID": 26,
         "Word": "utter",
         "_deepnote_index_column": 173
        },
        {
         "ID": 26,
         "Word": "disappointment",
         "_deepnote_index_column": 174
        },
        {
         "ID": 26,
         "Word": "and",
         "_deepnote_index_column": 175
        },
        {
         "ID": 26,
         "Word": "waste",
         "_deepnote_index_column": 176
        },
        {
         "ID": 26,
         "Word": "of",
         "_deepnote_index_column": 177
        },
        {
         "ID": 26,
         "Word": "money",
         "_deepnote_index_column": 178
        },
        {
         "ID": 26,
         "Word": "buy",
         "_deepnote_index_column": 179
        },
        {
         "ID": 26,
         "Word": "a",
         "_deepnote_index_column": 180
        },
        {
         "ID": 26,
         "Word": "cheap",
         "_deepnote_index_column": 181
        },
        {
         "ID": 26,
         "Word": "one",
         "_deepnote_index_column": 182
        },
        {
         "ID": 26,
         "Word": "this",
         "_deepnote_index_column": 183
        },
        {
         "ID": 26,
         "Word": "one",
         "_deepnote_index_column": 184
        },
        {
         "ID": 26,
         "Word": "runs",
         "_deepnote_index_column": 185
        },
        {
         "ID": 26,
         "Word": "like",
         "_deepnote_index_column": 186
        },
        {
         "ID": 26,
         "Word": "it",
         "_deepnote_index_column": 187
        },
        {
         "ID": 27,
         "Word": "brightness",
         "_deepnote_index_column": 188
        },
        {
         "ID": 27,
         "Word": "and",
         "_deepnote_index_column": 189
        },
        {
         "ID": 27,
         "Word": "windows",
         "_deepnote_index_column": 190
        },
        {
         "ID": 27,
         "Word": "projection",
         "_deepnote_index_column": 191
        },
        {
         "ID": 27,
         "Word": "not",
         "_deepnote_index_column": 192
        },
        {
         "ID": 27,
         "Word": "great",
         "_deepnote_index_column": 193
        },
        {
         "ID": 28,
         "Word": "no",
         "_deepnote_index_column": 194
        },
        {
         "ID": 28,
         "Word": "audio",
         "_deepnote_index_column": 195
        },
        {
         "ID": 28,
         "Word": "out",
         "_deepnote_index_column": 196
        },
        {
         "ID": 29,
         "Word": "youtube",
         "_deepnote_index_column": 197
        },
        {
         "ID": 29,
         "Word": "sign",
         "_deepnote_index_column": 198
        },
        {
         "ID": 29,
         "Word": "in",
         "_deepnote_index_column": 199
        },
        {
         "ID": 29,
         "Word": "tiptrick",
         "_deepnote_index_column": 200
        },
        {
         "ID": 30,
         "Word": "do",
         "_deepnote_index_column": 201
        },
        {
         "ID": 30,
         "Word": "not",
         "_deepnote_index_column": 202
        },
        {
         "ID": 30,
         "Word": "do",
         "_deepnote_index_column": 203
        },
        {
         "ID": 30,
         "Word": "it",
         "_deepnote_index_column": 204
        },
        {
         "ID": 30,
         "Word": "misleading",
         "_deepnote_index_column": 205
        },
        {
         "ID": 30,
         "Word": "reviews",
         "_deepnote_index_column": 206
        },
        {
         "ID": 31,
         "Word": "video",
         "_deepnote_index_column": 207
        },
        {
         "ID": 31,
         "Word": "is",
         "_deepnote_index_column": 208
        },
        {
         "ID": 31,
         "Word": "not",
         "_deepnote_index_column": 209
        },
        {
         "ID": 31,
         "Word": "that",
         "_deepnote_index_column": 210
        },
        {
         "ID": 31,
         "Word": "sharp",
         "_deepnote_index_column": 211
        },
        {
         "ID": 31,
         "Word": "420p",
         "_deepnote_index_column": 212
        },
        {
         "ID": 31,
         "Word": "but",
         "_deepnote_index_column": 213
        },
        {
         "ID": 31,
         "Word": "rest",
         "_deepnote_index_column": 214
        },
        {
         "ID": 31,
         "Word": "is",
         "_deepnote_index_column": 215
        },
        {
         "ID": 31,
         "Word": "good",
         "_deepnote_index_column": 216
        },
        {
         "ID": 32,
         "Word": "does",
         "_deepnote_index_column": 217
        },
        {
         "ID": 32,
         "Word": "the",
         "_deepnote_index_column": 218
        },
        {
         "ID": 32,
         "Word": "job",
         "_deepnote_index_column": 219
        },
        {
         "ID": 32,
         "Word": "but",
         "_deepnote_index_column": 220
        },
        {
         "ID": 32,
         "Word": "was",
         "_deepnote_index_column": 221
        },
        {
         "ID": 32,
         "Word": "expecting",
         "_deepnote_index_column": 222
        },
        {
         "ID": 32,
         "Word": "more",
         "_deepnote_index_column": 223
        },
        {
         "ID": 33,
         "Word": "compared",
         "_deepnote_index_column": 224
        },
        {
         "ID": 33,
         "Word": "to",
         "_deepnote_index_column": 225
        },
        {
         "ID": 33,
         "Word": "others",
         "_deepnote_index_column": 226
        },
        {
         "ID": 33,
         "Word": "at",
         "_deepnote_index_column": 227
        },
        {
         "ID": 33,
         "Word": "the",
         "_deepnote_index_column": 228
        },
        {
         "ID": 33,
         "Word": "same",
         "_deepnote_index_column": 229
        },
        {
         "ID": 33,
         "Word": "price",
         "_deepnote_index_column": 230
        },
        {
         "ID": 33,
         "Word": "point",
         "_deepnote_index_column": 231
        },
        {
         "ID": 33,
         "Word": "disappointed",
         "_deepnote_index_column": 232
        },
        {
         "ID": 34,
         "Word": "does",
         "_deepnote_index_column": 233
        },
        {
         "ID": 34,
         "Word": "not",
         "_deepnote_index_column": 234
        },
        {
         "ID": 34,
         "Word": "really",
         "_deepnote_index_column": 235
        },
        {
         "ID": 34,
         "Word": "screen",
         "_deepnote_index_column": 236
        },
        {
         "ID": 34,
         "Word": "mirror",
         "_deepnote_index_column": 237
        },
        {
         "ID": 35,
         "Word": "many",
         "_deepnote_index_column": 238
        },
        {
         "ID": 35,
         "Word": "many",
         "_deepnote_index_column": 239
        },
        {
         "ID": 35,
         "Word": "reasons",
         "_deepnote_index_column": 240
        },
        {
         "ID": 35,
         "Word": "to",
         "_deepnote_index_column": 241
        },
        {
         "ID": 35,
         "Word": "move",
         "_deepnote_index_column": 242
        },
        {
         "ID": 35,
         "Word": "on",
         "_deepnote_index_column": 243
        },
        {
         "ID": 35,
         "Word": "",
         "_deepnote_index_column": 244
        },
        {
         "ID": 35,
         "Word": "this",
         "_deepnote_index_column": 245
        },
        {
         "ID": 35,
         "Word": "sucks",
         "_deepnote_index_column": 246
        },
        {
         "ID": 36,
         "Word": "be",
         "_deepnote_index_column": 247
        },
        {
         "ID": 36,
         "Word": "prepared",
         "_deepnote_index_column": 248
        },
        {
         "ID": 36,
         "Word": "to",
         "_deepnote_index_column": 249
        }
       ],
       "rows_bottom": [
        {
         "ID": 240,
         "Word": "low",
         "_deepnote_index_column": 1376
        },
        {
         "ID": 240,
         "Word": "light",
         "_deepnote_index_column": 1377
        },
        {
         "ID": 240,
         "Word": "lumens",
         "_deepnote_index_column": 1378
        },
        {
         "ID": 241,
         "Word": "horrible",
         "_deepnote_index_column": 1379
        },
        {
         "ID": 241,
         "Word": "sound",
         "_deepnote_index_column": 1380
        },
        {
         "ID": 242,
         "Word": "bad",
         "_deepnote_index_column": 1381
        },
        {
         "ID": 242,
         "Word": "experience",
         "_deepnote_index_column": 1382
        },
        {
         "ID": 242,
         "Word": "with",
         "_deepnote_index_column": 1383
        },
        {
         "ID": 242,
         "Word": "mini",
         "_deepnote_index_column": 1384
        },
        {
         "ID": 242,
         "Word": "projector",
         "_deepnote_index_column": 1385
        },
        {
         "ID": 243,
         "Word": "just",
         "_deepnote_index_column": 1386
        },
        {
         "ID": 243,
         "Word": "ok",
         "_deepnote_index_column": 1387
        },
        {
         "ID": 244,
         "Word": "poorly",
         "_deepnote_index_column": 1388
        },
        {
         "ID": 244,
         "Word": "written",
         "_deepnote_index_column": 1389
        },
        {
         "ID": 244,
         "Word": "manual",
         "_deepnote_index_column": 1390
        },
        {
         "ID": 244,
         "Word": "great",
         "_deepnote_index_column": 1391
        },
        {
         "ID": 244,
         "Word": "tech",
         "_deepnote_index_column": 1392
        },
        {
         "ID": 244,
         "Word": "support",
         "_deepnote_index_column": 1393
        },
        {
         "ID": 244,
         "Word": "from",
         "_deepnote_index_column": 1394
        },
        {
         "ID": 244,
         "Word": "kevin",
         "_deepnote_index_column": 1395
        },
        {
         "ID": 245,
         "Word": "pricey",
         "_deepnote_index_column": 1396
        },
        {
         "ID": 245,
         "Word": "paperweight",
         "_deepnote_index_column": 1397
        },
        {
         "ID": 246,
         "Word": "poor",
         "_deepnote_index_column": 1398
        },
        {
         "ID": 246,
         "Word": "quality",
         "_deepnote_index_column": 1399
        },
        {
         "ID": 247,
         "Word": "moderate",
         "_deepnote_index_column": 1400
        },
        {
         "ID": 247,
         "Word": "good",
         "_deepnote_index_column": 1401
        },
        {
         "ID": 248,
         "Word": "waste",
         "_deepnote_index_column": 1402
        },
        {
         "ID": 248,
         "Word": "of",
         "_deepnote_index_column": 1403
        },
        {
         "ID": 248,
         "Word": "money",
         "_deepnote_index_column": 1404
        },
        {
         "ID": 249,
         "Word": "lumens",
         "_deepnote_index_column": 1405
        },
        {
         "ID": 249,
         "Word": "needs",
         "_deepnote_index_column": 1406
        },
        {
         "ID": 249,
         "Word": "more",
         "_deepnote_index_column": 1407
        },
        {
         "ID": 249,
         "Word": "output",
         "_deepnote_index_column": 1408
        },
        {
         "ID": 250,
         "Word": "",
         "_deepnote_index_column": 1409
        },
        {
         "ID": 251,
         "Word": "terrible",
         "_deepnote_index_column": 1410
        },
        {
         "ID": 252,
         "Word": "two",
         "_deepnote_index_column": 1411
        },
        {
         "ID": 252,
         "Word": "stars",
         "_deepnote_index_column": 1412
        },
        {
         "ID": 253,
         "Word": "only",
         "_deepnote_index_column": 1413
        },
        {
         "ID": 253,
         "Word": "got",
         "_deepnote_index_column": 1414
        },
        {
         "ID": 253,
         "Word": "2",
         "_deepnote_index_column": 1415
        },
        {
         "ID": 253,
         "Word": "uses",
         "_deepnote_index_column": 1416
        },
        {
         "ID": 253,
         "Word": "ot",
         "_deepnote_index_column": 1417
        },
        {
         "ID": 253,
         "Word": "if",
         "_deepnote_index_column": 1418
        },
        {
         "ID": 253,
         "Word": "the",
         "_deepnote_index_column": 1419
        },
        {
         "ID": 253,
         "Word": "device",
         "_deepnote_index_column": 1420
        },
        {
         "ID": 254,
         "Word": "losses",
         "_deepnote_index_column": 1421
        },
        {
         "ID": 254,
         "Word": "focused",
         "_deepnote_index_column": 1422
        },
        {
         "ID": 254,
         "Word": "constantly",
         "_deepnote_index_column": 1423
        },
        {
         "ID": 255,
         "Word": "also",
         "_deepnote_index_column": 1424
        },
        {
         "ID": 255,
         "Word": "the",
         "_deepnote_index_column": 1425
        },
        {
         "ID": 255,
         "Word": "capsule",
         "_deepnote_index_column": 1426
        },
        {
         "ID": 255,
         "Word": "control",
         "_deepnote_index_column": 1427
        },
        {
         "ID": 255,
         "Word": "app",
         "_deepnote_index_column": 1428
        },
        {
         "ID": 255,
         "Word": "is",
         "_deepnote_index_column": 1429
        },
        {
         "ID": 255,
         "Word": "poor",
         "_deepnote_index_column": 1430
        },
        {
         "ID": 255,
         "Word": "difficult",
         "_deepnote_index_column": 1431
        },
        {
         "ID": 255,
         "Word": "to",
         "_deepnote_index_column": 1432
        },
        {
         "ID": 255,
         "Word": "control",
         "_deepnote_index_column": 1433
        },
        {
         "ID": 255,
         "Word": "the",
         "_deepnote_index_column": 1434
        },
        {
         "ID": 255,
         "Word": "mouse",
         "_deepnote_index_column": 1435
        },
        {
         "ID": 255,
         "Word": "function",
         "_deepnote_index_column": 1436
        },
        {
         "ID": 256,
         "Word": "sadly",
         "_deepnote_index_column": 1437
        },
        {
         "ID": 256,
         "Word": "dissappointed",
         "_deepnote_index_column": 1438
        },
        {
         "ID": 256,
         "Word": "yet",
         "_deepnote_index_column": 1439
        },
        {
         "ID": 256,
         "Word": "simultaneously",
         "_deepnote_index_column": 1440
        },
        {
         "ID": 256,
         "Word": "awed",
         "_deepnote_index_column": 1441
        },
        {
         "ID": 257,
         "Word": "software",
         "_deepnote_index_column": 1442
        },
        {
         "ID": 257,
         "Word": "ruins",
         "_deepnote_index_column": 1443
        },
        {
         "ID": 257,
         "Word": "the",
         "_deepnote_index_column": 1444
        },
        {
         "ID": 257,
         "Word": "product",
         "_deepnote_index_column": 1445
        },
        {
         "ID": 258,
         "Word": "screencast",
         "_deepnote_index_column": 1446
        },
        {
         "ID": 258,
         "Word": "not",
         "_deepnote_index_column": 1447
        },
        {
         "ID": 258,
         "Word": "compatible",
         "_deepnote_index_column": 1448
        },
        {
         "ID": 258,
         "Word": "with",
         "_deepnote_index_column": 1449
        },
        {
         "ID": 258,
         "Word": "google",
         "_deepnote_index_column": 1450
        },
        {
         "ID": 258,
         "Word": "pixel",
         "_deepnote_index_column": 1451
        },
        {
         "ID": 258,
         "Word": "phones",
         "_deepnote_index_column": 1452
        },
        {
         "ID": 259,
         "Word": "nebula",
         "_deepnote_index_column": 1453
        },
        {
         "ID": 259,
         "Word": "capsule",
         "_deepnote_index_column": 1454
        },
        {
         "ID": 259,
         "Word": "review",
         "_deepnote_index_column": 1455
        },
        {
         "ID": 259,
         "Word": "updated",
         "_deepnote_index_column": 1456
        },
        {
         "ID": 260,
         "Word": "not",
         "_deepnote_index_column": 1457
        },
        {
         "ID": 260,
         "Word": "impressed",
         "_deepnote_index_column": 1458
        },
        {
         "ID": 260,
         "Word": "",
         "_deepnote_index_column": 1459
        },
        {
         "ID": 260,
         "Word": "welcome",
         "_deepnote_index_column": 1460
        },
        {
         "ID": 260,
         "Word": "to",
         "_deepnote_index_column": 1461
        },
        {
         "ID": 260,
         "Word": "dongle",
         "_deepnote_index_column": 1462
        },
        {
         "ID": 260,
         "Word": "life",
         "_deepnote_index_column": 1463
        },
        {
         "ID": 261,
         "Word": "biggest",
         "_deepnote_index_column": 1464
        },
        {
         "ID": 261,
         "Word": "problem",
         "_deepnote_index_column": 1465
        },
        {
         "ID": 261,
         "Word": "is",
         "_deepnote_index_column": 1466
        },
        {
         "ID": 261,
         "Word": "low",
         "_deepnote_index_column": 1467
        },
        {
         "ID": 261,
         "Word": "brightness",
         "_deepnote_index_column": 1468
        },
        {
         "ID": 262,
         "Word": "with",
         "_deepnote_index_column": 1469
        },
        {
         "ID": 262,
         "Word": "this",
         "_deepnote_index_column": 1470
        },
        {
         "ID": 262,
         "Word": "cost",
         "_deepnote_index_column": 1471
        },
        {
         "ID": 262,
         "Word": "you",
         "_deepnote_index_column": 1472
        },
        {
         "ID": 262,
         "Word": "can",
         "_deepnote_index_column": 1473
        },
        {
         "ID": 262,
         "Word": "get",
         "_deepnote_index_column": 1474
        },
        {
         "ID": 262,
         "Word": "something",
         "_deepnote_index_column": 1475
        },
        {
         "ID": 262,
         "Word": "better",
         "_deepnote_index_column": 1476
        },
        {
         "ID": 262,
         "Word": "and",
         "_deepnote_index_column": 1477
        },
        {
         "ID": 262,
         "Word": "higher",
         "_deepnote_index_column": 1478
        },
        {
         "ID": 262,
         "Word": "quality",
         "_deepnote_index_column": 1479
        },
        {
         "ID": 263,
         "Word": "do",
         "_deepnote_index_column": 1480
        },
        {
         "ID": 263,
         "Word": "not",
         "_deepnote_index_column": 1481
        },
        {
         "ID": 263,
         "Word": "buy",
         "_deepnote_index_column": 1482
        },
        {
         "ID": 263,
         "Word": "scam",
         "_deepnote_index_column": 1483
        },
        {
         "ID": 263,
         "Word": "fake",
         "_deepnote_index_column": 1484
        },
        {
         "ID": 263,
         "Word": "trash",
         "_deepnote_index_column": 1485
        },
        {
         "ID": 264,
         "Word": "totally",
         "_deepnote_index_column": 1486
        },
        {
         "ID": 264,
         "Word": "waste",
         "_deepnote_index_column": 1487
        },
        {
         "ID": 264,
         "Word": "product",
         "_deepnote_index_column": 1488
        },
        {
         "ID": 265,
         "Word": "an",
         "_deepnote_index_column": 1489
        },
        {
         "ID": 265,
         "Word": "under",
         "_deepnote_index_column": 1490
        },
        {
         "ID": 265,
         "Word": "baked",
         "_deepnote_index_column": 1491
        },
        {
         "ID": 265,
         "Word": "device",
         "_deepnote_index_column": 1492
        },
        {
         "ID": 266,
         "Word": "really",
         "_deepnote_index_column": 1493
        },
        {
         "ID": 266,
         "Word": "wanted",
         "_deepnote_index_column": 1494
        },
        {
         "ID": 266,
         "Word": "to",
         "_deepnote_index_column": 1495
        },
        {
         "ID": 266,
         "Word": "like",
         "_deepnote_index_column": 1496
        },
        {
         "ID": 266,
         "Word": "it",
         "_deepnote_index_column": 1497
        },
        {
         "ID": 266,
         "Word": "but",
         "_deepnote_index_column": 1498
        },
        {
         "ID": 267,
         "Word": "terrible",
         "_deepnote_index_column": 1499
        },
        {
         "ID": 267,
         "Word": "software",
         "_deepnote_index_column": 1500
        },
        {
         "ID": 267,
         "Word": "on",
         "_deepnote_index_column": 1501
        },
        {
         "ID": 267,
         "Word": "pleasant",
         "_deepnote_index_column": 1502
        },
        {
         "ID": 267,
         "Word": "hardware",
         "_deepnote_index_column": 1503
        },
        {
         "ID": 268,
         "Word": "not",
         "_deepnote_index_column": 1504
        },
        {
         "ID": 268,
         "Word": "compatible",
         "_deepnote_index_column": 1505
        },
        {
         "ID": 268,
         "Word": "with",
         "_deepnote_index_column": 1506
        },
        {
         "ID": 268,
         "Word": "disney",
         "_deepnote_index_column": 1507
        },
        {
         "ID": 268,
         "Word": "plus",
         "_deepnote_index_column": 1508
        },
        {
         "ID": 268,
         "Word": "and",
         "_deepnote_index_column": 1509
        },
        {
         "ID": 268,
         "Word": "app",
         "_deepnote_index_column": 1510
        },
        {
         "ID": 268,
         "Word": "is",
         "_deepnote_index_column": 1511
        },
        {
         "ID": 268,
         "Word": "horrible",
         "_deepnote_index_column": 1512
        },
        {
         "ID": 269,
         "Word": "second",
         "_deepnote_index_column": 1513
        },
        {
         "ID": 269,
         "Word": "one",
         "_deepnote_index_column": 1514
        },
        {
         "ID": 269,
         "Word": "since",
         "_deepnote_index_column": 1515
        },
        {
         "ID": 269,
         "Word": "november",
         "_deepnote_index_column": 1516
        },
        {
         "ID": 270,
         "Word": "cool",
         "_deepnote_index_column": 1517
        },
        {
         "ID": 270,
         "Word": "just",
         "_deepnote_index_column": 1518
        },
        {
         "ID": 270,
         "Word": "wish",
         "_deepnote_index_column": 1519
        },
        {
         "ID": 270,
         "Word": "it",
         "_deepnote_index_column": 1520
        },
        {
         "ID": 270,
         "Word": "were",
         "_deepnote_index_column": 1521
        },
        {
         "ID": 270,
         "Word": "brighter",
         "_deepnote_index_column": 1522
        },
        {
         "ID": 271,
         "Word": "chromecast",
         "_deepnote_index_column": 1523
        },
        {
         "ID": 272,
         "Word": "need",
         "_deepnote_index_column": 1524
        },
        {
         "ID": 272,
         "Word": "help",
         "_deepnote_index_column": 1525
        },
        {
         "ID": 272,
         "Word": "to",
         "_deepnote_index_column": 1526
        },
        {
         "ID": 272,
         "Word": "run",
         "_deepnote_index_column": 1527
        },
        {
         "ID": 272,
         "Word": "netflix",
         "_deepnote_index_column": 1528
        },
        {
         "ID": 273,
         "Word": "missing",
         "_deepnote_index_column": 1529
        },
        {
         "ID": 273,
         "Word": "important",
         "_deepnote_index_column": 1530
        },
        {
         "ID": 273,
         "Word": "integrations",
         "_deepnote_index_column": 1531
        },
        {
         "ID": 274,
         "Word": "on",
         "_deepnote_index_column": 1532
        },
        {
         "ID": 274,
         "Word": "the",
         "_deepnote_index_column": 1533
        },
        {
         "ID": 274,
         "Word": "fence",
         "_deepnote_index_column": 1534
        },
        {
         "ID": 275,
         "Word": "proyector",
         "_deepnote_index_column": 1535
        },
        {
         "ID": 275,
         "Word": "muy",
         "_deepnote_index_column": 1536
        },
        {
         "ID": 275,
         "Word": "mediocre",
         "_deepnote_index_column": 1537
        },
        {
         "ID": 276,
         "Word": "over",
         "_deepnote_index_column": 1538
        },
        {
         "ID": 276,
         "Word": "priced",
         "_deepnote_index_column": 1539
        },
        {
         "ID": 277,
         "Word": "expect",
         "_deepnote_index_column": 1540
        },
        {
         "ID": 277,
         "Word": "better",
         "_deepnote_index_column": 1541
        },
        {
         "ID": 277,
         "Word": "for",
         "_deepnote_index_column": 1542
        },
        {
         "ID": 277,
         "Word": "anker",
         "_deepnote_index_column": 1543
        },
        {
         "ID": 277,
         "Word": "ruined",
         "_deepnote_index_column": 1544
        },
        {
         "ID": 277,
         "Word": "my",
         "_deepnote_index_column": 1545
        },
        {
         "ID": 277,
         "Word": "fathers",
         "_deepnote_index_column": 1546
        },
        {
         "ID": 277,
         "Word": "day",
         "_deepnote_index_column": 1547
        },
        {
         "ID": 278,
         "Word": "disposable",
         "_deepnote_index_column": 1548
        },
        {
         "ID": 278,
         "Word": "projector",
         "_deepnote_index_column": 1549
        },
        {
         "ID": 278,
         "Word": "no",
         "_deepnote_index_column": 1550
        },
        {
         "ID": 278,
         "Word": "repair",
         "_deepnote_index_column": 1551
        },
        {
         "ID": 278,
         "Word": "centers",
         "_deepnote_index_column": 1552
        },
        {
         "ID": 278,
         "Word": "in",
         "_deepnote_index_column": 1553
        },
        {
         "ID": 278,
         "Word": "usa",
         "_deepnote_index_column": 1554
        },
        {
         "ID": 279,
         "Word": "one",
         "_deepnote_index_column": 1555
        },
        {
         "ID": 279,
         "Word": "star",
         "_deepnote_index_column": 1556
        },
        {
         "ID": 280,
         "Word": "disappointed",
         "_deepnote_index_column": 1557
        },
        {
         "ID": 281,
         "Word": "not",
         "_deepnote_index_column": 1558
        },
        {
         "ID": 281,
         "Word": "working",
         "_deepnote_index_column": 1559
        },
        {
         "ID": 281,
         "Word": "with",
         "_deepnote_index_column": 1560
        },
        {
         "ID": 281,
         "Word": "apps",
         "_deepnote_index_column": 1561
        },
        {
         "ID": 281,
         "Word": "that",
         "_deepnote_index_column": 1562
        },
        {
         "ID": 281,
         "Word": "i",
         "_deepnote_index_column": 1563
        },
        {
         "ID": 281,
         "Word": "am",
         "_deepnote_index_column": 1564
        },
        {
         "ID": 281,
         "Word": "watching",
         "_deepnote_index_column": 1565
        },
        {
         "ID": 281,
         "Word": "on",
         "_deepnote_index_column": 1566
        },
        {
         "ID": 281,
         "Word": "tv",
         "_deepnote_index_column": 1567
        },
        {
         "ID": 281,
         "Word": "",
         "_deepnote_index_column": 1568
        },
        {
         "ID": 282,
         "Word": "thats",
         "_deepnote_index_column": 1569
        },
        {
         "ID": 282,
         "Word": "a",
         "_deepnote_index_column": 1570
        },
        {
         "ID": 282,
         "Word": "pretty",
         "_deepnote_index_column": 1571
        },
        {
         "ID": 282,
         "Word": "big",
         "_deepnote_index_column": 1572
        },
        {
         "ID": 282,
         "Word": "deal",
         "_deepnote_index_column": 1573
        },
        {
         "ID": 282,
         "Word": "breaker",
         "_deepnote_index_column": 1574
        },
        {
         "ID": 282,
         "Word": "for",
         "_deepnote_index_column": 1575
        },
        {
         "ID": 282,
         "Word": "me",
         "_deepnote_index_column": 1576
        },
        {
         "ID": 283,
         "Word": "three",
         "_deepnote_index_column": 1577
        },
        {
         "ID": 283,
         "Word": "stars",
         "_deepnote_index_column": 1578
        },
        {
         "ID": 284,
         "Word": "two",
         "_deepnote_index_column": 1579
        },
        {
         "ID": 284,
         "Word": "stars",
         "_deepnote_index_column": 1580
        },
        {
         "ID": 285,
         "Word": "really",
         "_deepnote_index_column": 1581
        },
        {
         "ID": 285,
         "Word": "amazing",
         "_deepnote_index_column": 1582
        },
        {
         "ID": 286,
         "Word": "surely",
         "_deepnote_index_column": 1583
        },
        {
         "ID": 286,
         "Word": "its",
         "_deepnote_index_column": 1584
        },
        {
         "ID": 286,
         "Word": "wonderful",
         "_deepnote_index_column": 1585
        },
        {
         "ID": 286,
         "Word": "and",
         "_deepnote_index_column": 1586
        },
        {
         "ID": 286,
         "Word": "all",
         "_deepnote_index_column": 1587
        },
        {
         "ID": 287,
         "Word": "lack",
         "_deepnote_index_column": 1588
        },
        {
         "ID": 287,
         "Word": "flexibility",
         "_deepnote_index_column": 1589
        },
        {
         "ID": 288,
         "Word": "two",
         "_deepnote_index_column": 1590
        },
        {
         "ID": 288,
         "Word": "defective",
         "_deepnote_index_column": 1591
        },
        {
         "ID": 288,
         "Word": "units",
         "_deepnote_index_column": 1592
        },
        {
         "ID": 288,
         "Word": "right",
         "_deepnote_index_column": 1593
        },
        {
         "ID": 288,
         "Word": "out",
         "_deepnote_index_column": 1594
        },
        {
         "ID": 288,
         "Word": "of",
         "_deepnote_index_column": 1595
        },
        {
         "ID": 288,
         "Word": "the",
         "_deepnote_index_column": 1596
        },
        {
         "ID": 288,
         "Word": "box",
         "_deepnote_index_column": 1597
        },
        {
         "ID": 288,
         "Word": "not",
         "_deepnote_index_column": 1598
        },
        {
         "ID": 288,
         "Word": "good",
         "_deepnote_index_column": 1599
        },
        {
         "ID": 288,
         "Word": "odds",
         "_deepnote_index_column": 1600
        },
        {
         "ID": 288,
         "Word": "skip",
         "_deepnote_index_column": 1601
        },
        {
         "ID": 288,
         "Word": "this",
         "_deepnote_index_column": 1602
        },
        {
         "ID": 288,
         "Word": "product",
         "_deepnote_index_column": 1603
        },
        {
         "ID": 289,
         "Word": "low",
         "_deepnote_index_column": 1604
        },
        {
         "ID": 289,
         "Word": "res",
         "_deepnote_index_column": 1605
        },
        {
         "ID": 290,
         "Word": "not",
         "_deepnote_index_column": 1606
        },
        {
         "ID": 290,
         "Word": "worth",
         "_deepnote_index_column": 1607
        },
        {
         "ID": 290,
         "Word": "the",
         "_deepnote_index_column": 1608
        },
        {
         "ID": 290,
         "Word": "price",
         "_deepnote_index_column": 1609
        },
        {
         "ID": 291,
         "Word": "not",
         "_deepnote_index_column": 1610
        },
        {
         "ID": 291,
         "Word": "working",
         "_deepnote_index_column": 1611
        },
        {
         "ID": 291,
         "Word": "with",
         "_deepnote_index_column": 1612
        },
        {
         "ID": 291,
         "Word": "its",
         "_deepnote_index_column": 1613
        },
        {
         "ID": 291,
         "Word": "own",
         "_deepnote_index_column": 1614
        },
        {
         "ID": 291,
         "Word": "twitch",
         "_deepnote_index_column": 1615
        },
        {
         "ID": 291,
         "Word": "app",
         "_deepnote_index_column": 1616
        },
        {
         "ID": 292,
         "Word": "poco",
         "_deepnote_index_column": 1617
        },
        {
         "ID": 292,
         "Word": "brillo",
         "_deepnote_index_column": 1618
        },
        {
         "ID": 292,
         "Word": "y",
         "_deepnote_index_column": 1619
        },
        {
         "ID": 292,
         "Word": "baja",
         "_deepnote_index_column": 1620
        },
        {
         "ID": 292,
         "Word": "resolución",
         "_deepnote_index_column": 1621
        },
        {
         "ID": 293,
         "Word": "badluck",
         "_deepnote_index_column": 1622
        },
        {
         "ID": 294,
         "Word": "wont",
         "_deepnote_index_column": 1623
        },
        {
         "ID": 294,
         "Word": "last",
         "_deepnote_index_column": 1624
        },
        {
         "ID": 294,
         "Word": "long",
         "_deepnote_index_column": 1625
        }
       ]
      },
      "text/plain": "       ID        Word\n0       1        read\n1       1       their\n2       1     privacy\n3       1      policy\n4       1        they\n...   ...         ...\n1621  292  resolución\n1622  293     badluck\n1623  294        wont\n1624  294        last\n1625  294        long\n\n[1626 rows x 2 columns]",
      "text/html": "<div>\n<style scoped>\n    .dataframe tbody tr th:only-of-type {\n        vertical-align: middle;\n    }\n\n    .dataframe tbody tr th {\n        vertical-align: top;\n    }\n\n    .dataframe thead th {\n        text-align: right;\n    }\n</style>\n<table border=\"1\" class=\"dataframe\">\n  <thead>\n    <tr style=\"text-align: right;\">\n      <th></th>\n      <th>ID</th>\n      <th>Word</th>\n    </tr>\n  </thead>\n  <tbody>\n    <tr>\n      <th>0</th>\n      <td>1</td>\n      <td>read</td>\n    </tr>\n    <tr>\n      <th>1</th>\n      <td>1</td>\n      <td>their</td>\n    </tr>\n    <tr>\n      <th>2</th>\n      <td>1</td>\n      <td>privacy</td>\n    </tr>\n    <tr>\n      <th>3</th>\n      <td>1</td>\n      <td>policy</td>\n    </tr>\n    <tr>\n      <th>4</th>\n      <td>1</td>\n      <td>they</td>\n    </tr>\n    <tr>\n      <th>...</th>\n      <td>...</td>\n      <td>...</td>\n    </tr>\n    <tr>\n      <th>1621</th>\n      <td>292</td>\n      <td>resolución</td>\n    </tr>\n    <tr>\n      <th>1622</th>\n      <td>293</td>\n      <td>badluck</td>\n    </tr>\n    <tr>\n      <th>1623</th>\n      <td>294</td>\n      <td>wont</td>\n    </tr>\n    <tr>\n      <th>1624</th>\n      <td>294</td>\n      <td>last</td>\n    </tr>\n    <tr>\n      <th>1625</th>\n      <td>294</td>\n      <td>long</td>\n    </tr>\n  </tbody>\n</table>\n<p>1626 rows × 2 columns</p>\n</div>"
     },
     "metadata": {}
    }
   ],
   "execution_count": null
  },
  {
   "cell_type": "code",
   "metadata": {
    "colab": {
     "base_uri": "https://localhost:8080/"
    },
    "id": "IH1IZoFfLsqw",
    "outputId": "3d7c8e1a-2f2d-466a-9a27-31903d568f15",
    "cell_id": "00011-ea41fd30-d3a8-4dc3-91ba-6d8b606615ce",
    "deepnote_to_be_reexecuted": false,
    "source_hash": "a0b67728",
    "execution_start": 1633236478760,
    "execution_millis": 279,
    "deepnote_cell_type": "code"
   },
   "source": "#Tokenize words\n\nfrom nltk.tokenize import word_tokenize\n\ndef tokenizer(token_text):\n    token_text = word_tokenize(token_text)\n    return token_text\n\ndf_text=df_text.apply(tokenizer)\ndf_text",
   "outputs": [
    {
     "output_type": "execute_result",
     "execution_count": 11,
     "data": {
      "text/plain": "0             [read]\n1            [their]\n2          [privacy]\n3           [policy]\n4             [they]\n            ...     \n1621    [resolución]\n1622       [badluck]\n1623          [wont]\n1624          [last]\n1625          [long]\nName: Word, Length: 1626, dtype: object"
     },
     "metadata": {}
    }
   ],
   "execution_count": null
  },
  {
   "cell_type": "code",
   "metadata": {
    "colab": {
     "base_uri": "https://localhost:8080/"
    },
    "id": "yeXwwF9RLsqx",
    "outputId": "a8492968-bf51-4f45-bc8a-87c36ed8fdb5",
    "cell_id": "00012-e83a87dc-d979-4caf-b3e8-4578446c80ca",
    "deepnote_to_be_reexecuted": false,
    "source_hash": "49c221c",
    "execution_start": 1633236478987,
    "execution_millis": 52,
    "deepnote_cell_type": "code"
   },
   "source": "new_df['Word']",
   "outputs": [
    {
     "output_type": "execute_result",
     "execution_count": 12,
     "data": {
      "text/plain": "0             read\n1            their\n2          privacy\n3           policy\n4             they\n           ...    \n1621    resolución\n1622       badluck\n1623          wont\n1624          last\n1625          long\nName: Word, Length: 1626, dtype: object"
     },
     "metadata": {}
    }
   ],
   "execution_count": null
  },
  {
   "cell_type": "code",
   "metadata": {
    "colab": {
     "base_uri": "https://localhost:8080/"
    },
    "id": "cK-bcp2YLsqy",
    "outputId": "d99dbfe5-e954-4041-a498-134deae4c29b",
    "cell_id": "00013-22511d82-1719-4d35-9f01-8b92974bdab7",
    "deepnote_to_be_reexecuted": false,
    "source_hash": "2d71c711",
    "execution_start": 1633236479003,
    "execution_millis": 54,
    "deepnote_cell_type": "code"
   },
   "source": "new_df_word = new_df['Word'] \nnew_df_word",
   "outputs": [
    {
     "output_type": "execute_result",
     "execution_count": 13,
     "data": {
      "text/plain": "0             read\n1            their\n2          privacy\n3           policy\n4             they\n           ...    \n1621    resolución\n1622       badluck\n1623          wont\n1624          last\n1625          long\nName: Word, Length: 1626, dtype: object"
     },
     "metadata": {}
    }
   ],
   "execution_count": null
  },
  {
   "cell_type": "code",
   "metadata": {
    "colab": {
     "base_uri": "https://localhost:8080/",
     "height": 137
    },
    "id": "pryQAHT0Lsqy",
    "outputId": "ae5a4b5d-08a3-435f-836e-b633e3ec00b6",
    "cell_id": "00014-108df132-549c-419c-bc4a-ab0298384dea",
    "deepnote_to_be_reexecuted": false,
    "source_hash": "adc0f5e1",
    "execution_start": 1633236479022,
    "execution_millis": 248,
    "deepnote_cell_type": "code"
   },
   "source": "#Tokenize words\n\nfrom nltk.tokenize import word_tokenize\n\ndef tokenizer(token_text):\n    token_text = word_tokenize(token_text)\n    return token_text\n\ndf_text = new_df_word.apply(tokenizer)\ndf_text1 =\" \".join('%s' %id for id in df_text)\ndf_text1",
   "outputs": [
    {
     "output_type": "execute_result",
     "execution_count": 14,
     "data": {
      "text/plain": "\"['read'] ['their'] ['privacy'] ['policy'] ['they'] ['are'] ['intrusive'] ['great'] ['hardware'] ['but'] ['software'] ['does'] ['not'] ['work'] [] ['do'] ['not'] ['buy'] ['unless'] ['you'] ['want'] ['to'] ['project'] ['from'] ['hdmi'] ['source'] ['only'] ['i'] ['am'] ['keeping'] ['it'] ['but'] ['lies'] ['it'] ['does'] ['not'] ['work'] ['on'] ['most'] ['formats'] ['needs'] ['to'] ['be'] ['brighter'] ['2'] ['weeks'] ['7'] ['etc'] ['support'] ['calls'] ['and'] [] ['76'] ['worth'] ['of'] ['hdmi'] ['cables'] ['and'] ['connectors'] ['but'] ['still'] ['does'] ['not'] ['work'] ['a'] ['good'] ['attempt'] ['but'] ['needs'] ['improvement'] ['lovely'] ['outside'] ['but'] ['the'] ['guts'] ['on'] ['this'] ['unit'] ['leaves'] ['something'] ['to'] ['be'] ['desired'] ['no'] ['longevity'] ['sporadic'] ['functionality'] ['it'] ['must'] ['be'] ['unlocked'] ['almost'] ['love'] ['it'] ['not'] ['worth'] ['the'] ['price'] ['terrible'] ['software'] ['and'] ['barely'] ['usable'] ['mala'] ['resolucion'] ['en'] ['salas'] ['iluminadas'] ['it'] ['does'] ['not'] ['work'] ['does'] ['not'] ['work'] ['well'] ['with'] ['airplay'] ['for'] ['ipad'] ['not'] ['what'] ['you'] ['think'] ['was'] ['probably'] ['a'] ['great'] ['purchase'] ['in'] ['2018'] ['but'] ['there'] ['are'] ['better'] ['options'] ['for'] ['price'] ['in'] ['2021'] ['just'] ['ok'] ['not'] ['great'] ['not'] ['worth'] ['the'] ['money'] ['look'] ['elsewhere'] ['not'] ['very'] ['bright'] ['and'] ['blurry'] ['edges'] ['disappointed'] ['and'] ['underwhelmed'] ['expensive'] ['bad'] ['navigation'] ['no'] ['display'] ['resizing'] ['over'] ['priced'] ['and'] ['poor'] ['quality'] ['great'] ['small'] ['projector'] ['utter'] ['disappointment'] ['and'] ['waste'] ['of'] ['money'] ['buy'] ['a'] ['cheap'] ['one'] ['this'] ['one'] ['runs'] ['like'] ['it'] ['brightness'] ['and'] ['windows'] ['projection'] ['not'] ['great'] ['no'] ['audio'] ['out'] ['youtube'] ['sign'] ['in'] ['tiptrick'] ['do'] ['not'] ['do'] ['it'] ['misleading'] ['reviews'] ['video'] ['is'] ['not'] ['that'] ['sharp'] ['420p'] ['but'] ['rest'] ['is'] ['good'] ['does'] ['the'] ['job'] ['but'] ['was'] ['expecting'] ['more'] ['compared'] ['to'] ['others'] ['at'] ['the'] ['same'] ['price'] ['point'] ['disappointed'] ['does'] ['not'] ['really'] ['screen'] ['mirror'] ['many'] ['many'] ['reasons'] ['to'] ['move'] ['on'] [] ['this'] ['sucks'] ['be'] ['prepared'] ['to'] ['never'] ['actually'] ['watch'] ['anything'] ['on'] ['it'] ['awful'] ['device'] ['that'] ['does'] ['not'] ['work'] ['low'] ['quality'] ['item'] ['died'] ['after'] ['22'] ['months'] ['with'] ['very'] ['light'] ['usage'] ['more'] ['looks'] ['than'] ['longevity'] ['buy'] ['the'] ['extended'] ['warranty'] ['great'] ['video'] ['but'] ['very'] ['disappointing'] ['the'] ['product'] ['picture'] ['quality'] ['is'] ['bad'] ['expensive'] ['toy'] ['not'] ['much'] ['application'] ['for'] ['it'] ['a'] ['complete'] ['mess'] ['filled'] ['with'] ['issues'] ['not'] ['worth'] ['price'] ['disappointed'] ['by'] ['selling'] ['used'] ['item'] ['well'] ['manufactured'] ['disappointing'] ['audio'] ['i'] ['got'] ['original'] ['version'] ['and'] ['not'] ['the'] ['capsule'] ['ii'] ['apple'] ['compatibility'] ['lacking'] ['dont'] ['buy'] ['this'] ['product'] ['cool'] ['idea'] ['great'] ['design'] ['bad'] ['execution'] ['garbage'] ['great'] ['size'] ['terrible'] ['software'] ['and'] ['connection'] ['ports'] ['lacking'] ['send'] ['me'] ['my'] ['money'] ['back'] ['please'] ['save'] ['your'] ['money'] ['do'] ['not'] ['buy'] ['this'] ['junk'] ['not'] ['as'] ['described'] ['it'] ['is'] ['is'] ['a'] ['toy'] ['very'] ['dim'] ['stops'] ['working'] ['after'] ['about'] ['a'] ['year'] ['not'] ['very'] ['bright'] ['but'] ['good'] ['in'] ['dark'] ['room'] ['high'] ['hopes'] ['but'] ['disappointed'] ['limiting'] ['hardware'] ['and'] ['software'] ['not'] ['good'] ['enough'] ['solid'] ['performance'] ['limited'] ['apps'] ['limited'] ['capabilities'] ['not'] ['happy'] ['okaybut'] ['photos'] ['are'] ['deceiving'] ['bad'] ['picture'] ['quality'] ['not'] ['bright'] ['grainy'] ['at'] ['times'] ['really'] ['expensive'] ['for'] ['what'] ['it'] ['doesplus'] ['no'] ['way'] ['to'] ['fix'] ['a'] ['crooked'] ['projection'] ['it'] ['is'] ['perfect'] ['and'] ['disappointing'] ['picture'] ['function'] ['and'] ['small'] ['size'] ['is'] ['impressive'] ['mediocre'] ['purchase'] ['the'] ['advertising'] ['page'] ['was'] ['misleading'] ['limited'] ['streaming'] ['it'] ['is'] ['shocking'] ['what'] ['a'] ['mess'] ['this'] ['is'] ['terrible'] ['for'] ['netflix'] ['poor'] ['quality'] ['broken'] ['in'] ['four'] ['months'] ['just'] ['okay'] ['better'] ['spend'] ['little'] ['more'] ['buy'] ['good'] ['one'] ['time'] ['to'] ['return'] ['this'] ['junk'] ['not'] ['iphone'] ['friendly'] ['it'] ['is'] ['not'] ['bright'] ['enough'] ['for'] ['use'] ['me'] ['gusta'] ['pero'] ['seriously'] ['great'] ['idea'] ['but'] ['not'] ['carried'] ['out'] ['to'] ['its'] ['fullest'] ['potential'] ['by'] ['far'] ['disappointed'] ['beyond'] ['words'] ['does'] ['not'] ['work'] ['with'] ['iphone'] ['this'] ['product'] ['needs'] ['to'] ['be'] ['cheapier'] ['was'] ['a'] ['fan'] ['of'] ['anker'] ['until'] ['purchasing'] ['this'] ['piece'] ['of'] ['junk'] ['difficult'] ['to'] ['navigate'] ['in'] ['any'] ['mode'] ['very'] ['loud'] ['works'] ['well'] ['as'] ['a'] ['projector'] ['app'] ['is'] ['pretty'] ['bad'] ['for'] ['an'] ['otherwise'] ['polished'] ['product'] ['speaker'] ['is'] ['not'] ['good'] ['compact'] ['disappointment'] ['need'] ['complete'] ['darkness'] ['just'] ['ok'] ['problem'] ['with'] ['overheating'] ['within'] ['minutes'] ['of'] ['turning'] ['on'] ['over'] ['all'] ['great'] ['product'] ['looking'] ['into'] ['why'] ['it'] ['glitches'] ['so'] ['much'] ['mini'] ['projector'] ['mini'] ['issues'] ['does'] ['not'] ['work'] ['missing'] ['pieces'] ['defective'] ['unit'] ['do'] ['not'] ['waste'] ['your'] ['time'] ['if'] ['this'] ['is'] ['a'] ['family'] ['purchase'] ['too'] ['dark'] ['not'] ['worth'] ['the'] ['expensive'] ['price'] ['received'] ['repackaged'] ['item'] ['still'] ['connected'] ['to'] ['previous'] ['users'] ['accounts'] ['returning'] ['portable'] ['but'] ['not'] ['highest'] ['sound'] ['or'] ['image'] ['quality'] ['the'] ['update'] ['that'] [] ['could'] ['not'] ['wait'] ['it'] ['is'] ['alright'] ['its'] ['alright'] ['amazing'] ['and'] ['nifty'] ['but'] ['its'] ['always'] ['tilted'] ['ok'] ['for'] ['poolside'] ['but'] ['obviously'] ['needs'] ['complete'] ['dark'] ['to'] ['be'] ['enjoyable'] ['crashes'] [] ['draw'] ['of'] ['the'] ['luck'] ['it'] ['was'] ['okay'] ['not'] ['worth'] ['the'] ['money'] ['just'] ['novel'] ['battery'] ['drains'] ['while'] ['off'] ['more'] ['so'] ['this'] ['would'] ['be'] ['great'] ['if'] ['it'] ['was'] ['not'] ['so'] ['terrible'] ['would'] ['not'] ['recommend'] ['did'] ['not'] ['work'] ['out'] ['of'] ['box'] ['too'] ['dim'] ['very'] ['disappointed'] ['amazing'] ['product'] ['i'] ['think'] ['i'] ['got'] ['a'] ['used'] ['product'] ['or'] ['the'] ['product'] ['was'] ['damaged'] ['on'] ['the'] ['way'] ['to'] ['me'] ['lack'] ['quality'] ['features'] ['for'] ['gamers'] ['not'] ['worth'] ['it'] ['short'] ['life'] ['span'] ['crooked'] ['screen'] ['mixed'] ['feelings'] ['on'] ['it'] ['need'] ['to'] ['have'] ['certain'] ['conditions'] ['useless'] ['for'] ['streaming'] ['while'] ['using'] ['external'] ['bluetooth'] ['speaker'] [] ['anything'] ['sort'] ['of'] ['see'] ['update'] ['not'] ['very'] ['bright'] ['inside'] ['of'] ['projector'] ['screen'] ['came'] ['with'] ['a'] ['scratch'] ['not'] ['for'] ['iphone'] ['not'] ['compatible'] ['with'] ['android'] ['or'] ['windows'] ['good'] ['picture'] ['quality'] ['but'] ['hard'] ['to'] ['use'] ['with'] ['phone'] ['do'] ['not'] ['waste'] ['your'] ['money'] ['on'] ['this'] ['projector'] ['ca'] ['not'] ['stream'] ['without'] ['wifi'] ['nothing'] ['works'] ['heading'] ['in'] ['the'] ['right'] ['direction'] ['but'] ['still'] ['needs'] ['improvement'] ['seems'] ['tiny'] ['and'] ['simple'] ['but'] ['is'] ['fussy'] ['and'] ['meh'] ['ca'] ['not'] ['watch'] ['youtube'] ['nor'] ['prime'] ['no'] ['lo'] ['recomiendo'] ['maybe'] ['good'] ['for'] ['home'] ['not'] ['for'] ['business'] ['though'] ['just'] ['not'] ['as'] ['good'] ['as'] ['expected'] ['brightness'] ['sucks'] ['and'] ['apps'] ['are'] ['meh'] ['just'] ['did'] ['not'] ['work'] ['very'] ['cool'] ['concept'] ['and'] ['works'] ['amazingly'] ['well'] ['in'] ['a'] ['dark'] ['room'] ['small'] ['movie'] ['projector'] ['os'] ['was'] ['terrible'] ['does'] ['not'] ['last'] ['long'] ['movie'] ['apps'] ['constantly'] ['crash'] ['terrible'] ['projector'] ['only'] ['works'] ['with'] ['apps'] ['that'] ['come'] ['with'] ['projector'] ['good'] ['projector'] ['and'] ['battery'] ['life'] ['but'] ['mirror'] ['cast'] ['would'] ['not'] ['work'] ['three'] ['stars'] ['good'] ['but'] ['eh'] ['good'] ['product'] ['not'] ['excellent'] ['item'] ['broke'] ['after'] ['a'] ['few'] ['months'] ['dont'] ['buy'] ['it'] ['still'] ['it'] ['is'] ['not'] ['bright'] ['enough'] ['if'] ['you'] ['are'] ['not'] ['in'] ['a'] ['complete'] ['dark'] ['room'] ['not'] ['good'] ['poor'] ['on'] ['brightly'] ['lit'] ['rooms'] ['still'] ['not'] ['ready'] ['for'] ['prime'] ['time'] ['poor'] ['picture'] ['quality'] ['not'] ['worth'] ['the'] ['hype'] ['or'] ['the'] ['money'] ['it'] ['did'] ['not'] ['recognize'] ['hdmi'] ['input'] ['the'] ['bluetooth'] ['has'] ['a'] ['delay'] ['with'] ['speaker'] ['not'] ['a'] ['sturdy'] ['product'] ['not'] ['good'] ['disappointed'] ['in'] ['nebula'] ['streaming'] ['apps'] ['do'] ['not'] ['work'] ['nebula'] ['remote'] ['control'] ['issue'] ['iphone'] ['user'] ['be'] ['aware'] [] ['softwares'] ['wo'] ['not'] ['work'] ['avoid'] ['awesome'] ['except'] ['it'] ['is'] ['breaking'] ['8'] ['months'] ['in'] ['sound'] ['output'] ['volume'] ['is'] ['its'] ['biggest'] ['issue'] [] ['not'] ['loud'] ['enough'] ['for'] ['outdoor'] ['usage'] ['not'] ['bright'] ['enough'] ['it'] ['can'] ['do'] ['everything'] ['but'] ['is'] ['not'] ['good'] ['at'] ['anything'] ['not'] ['able'] ['to'] ['login'] ['to'] ['youtube'] ['bad'] ['quality'] ['picture'] ['horrible'] ['experience'] ['constant'] ['troubleshooting'] ['is'] ['annoying'] ['anyway'] ['i'] ['can'] ['project'] ['my'] ['iphone'] ['bad'] ['image'] ['quality'] ['and'] ['brightness'] ['small'] ['but'] ['dull'] ['product'] ['default'] ['shows'] ['up'] ['after'] ['1'] ['month'] ['it'] ['could'] ['be'] ['better'] ['just'] ['get'] ['the'] ['nebula'] ['ii'] ['this'] ['one'] ['is'] ['a'] ['waste'] ['of'] ['money'] ['cant'] ['screen'] ['share'] ['netflix'] ['or'] ['amazon'] ['ect'] ['good'] ['in'] ['the'] ['dark'] ['poor'] ['quality'] ['tilted'] ['screen'] ['quality'] ['is'] ['not'] ['there'] ['lost'] ['sound'] ['good'] ['for'] ['a'] ['cute'] ['pillow'] ['fort'] ['date'] ['or'] ['camping'] ['is'] ['hard'] ['to'] ['perfect'] ['match'] ['dostan'] ['and'] ['high'] ['fot'] ['screen'] ['size'] ['there'] ['is'] ['no'] ['other'] ['way'] ['to'] ['adjust'] ['screen'] ['can', 'not'] ['cast'] ['to'] ['projector'] ['not'] ['worth'] ['the'] ['hype'] ['impossible'] ['to'] ['adjust'] ['menu'] ['is'] ['garbage'] ['too'] ['bad！do'] ['not'] ['buy！！'] ['read'] ['this'] ['before'] ['you'] ['buy'] ['overall'] ['solid'] ['product'] ['too'] ['many'] ['glitches'] ['expected'] ['more'] ['without'] ['support'] ['this'] ['thing'] ['is'] ['useless'] ['100'] ['ansi'] ['lumens'] ['is'] ['not'] ['upto'] ['the'] ['expectations'] ['crooked'] ['lens'] ['terrible'] ['unit'] ['doe'] ['not'] ['last'] ['long'] ['anymore'] ['difficult'] ['period'] ['superb'] ['device'] [] ['extremely'] ['bad'] ['keyboard'] ['not'] ['quite'] ['as'] ['advertised'] ['stop'] ['working'] ['after'] ['like'] ['5'] ['used'] ['a'] ['little'] ['disappointing'] ['if'] ['you'] ['have'] ['an'] ['iphone'] ['do'] ['not'] ['get'] ['nice'] ['compact'] ['mini'] ['projector'] ['with'] ['great'] ['speaker'] ['two'] ['stars'] ['does'] ['not'] ['do'] ['what'] ['basic'] ['projectors'] ['are'] ['supposed'] ['to'] ['slow'] ['difficult'] ['to'] ['connect'] ['wifi'] ['is'] ['broken'] ['used'] ['unit'] ['with'] ['missing'] ['accessories'] ['price'] ['is'] ['hig'] ['to'] ['be'] ['able'] ['to'] ['use'] ['the'] ['projector'] ['video'] ['quality'] ['ok'] ['but'] ['need'] ['more'] ['improvement'] ['not'] ['a'] ['pleasant'] ['product'] ['i'] ['have'] ['seen'] ['better'] ['and'] ['cheaper'] ['okay'] ['not'] ['good'] ['does'] ['not'] ['charge'] ['setup'] ['and'] ['usage'] ['is'] ['impossible'] ['no'] ['hbo'] ['max'] ['fan'] ['is'] ['loud'] ['picture'] ['quality'] ['is'] ['not'] ['so'] ['good'] ['the'] ['sounds'] ['quality'] ['is'] ['terrible'] ['and'] ['picture'] ['quality'] ['is'] ['fair'] ['two'] ['stars'] ['wo'] ['not'] ['turn'] ['on'] ['for'] ['more'] ['than'] ['5'] ['minutes'] ['picture'] ['quality'] ['not'] ['my'] ['favorite'] ['projector'] ['decent'] ['too'] ['noice'] ['it'] ['is'] ['not'] ['doing'] ['what'] ['is'] ['advertises'] ['great'] ['image'] ['quality'] ['poor'] ['sound'] ['loud'] ['fan'] ['is'] ['no'] ['fun'] ['picure'] ['quality'] ['is'] ['not'] ['sharp'] ['its'] ['not'] ['usable'] ['at'] ['all'] ['during'] ['day'] ['time'] ['no'] ['support'] ['what'] ['can'] ['i'] ['do'] ['i'] ['really'] ['wanted'] ['keep'] ['this'] ['projector'] ['but'] ['it'] ['has'] ['a'] [] ['very'] ['low'] ['light'] ['lumens'] ['horrible'] ['sound'] ['bad'] ['experience'] ['with'] ['mini'] ['projector'] ['just'] ['ok'] ['poorly'] ['written'] ['manual'] ['great'] ['tech'] ['support'] ['from'] ['kevin'] ['pricey'] ['paperweight'] ['poor'] ['quality'] ['moderate'] ['good'] ['waste'] ['of'] ['money'] ['lumens'] ['needs'] ['more'] ['output'] [] ['terrible'] ['two'] ['stars'] ['only'] ['got'] ['2'] ['uses'] ['ot'] ['if'] ['the'] ['device'] ['losses'] ['focused'] ['constantly'] ['also'] ['the'] ['capsule'] ['control'] ['app'] ['is'] ['poor'] ['difficult'] ['to'] ['control'] ['the'] ['mouse'] ['function'] ['sadly'] ['dissappointed'] ['yet'] ['simultaneously'] ['awed'] ['software'] ['ruins'] ['the'] ['product'] ['screencast'] ['not'] ['compatible'] ['with'] ['google'] ['pixel'] ['phones'] ['nebula'] ['capsule'] ['review'] ['updated'] ['not'] ['impressed'] [] ['welcome'] ['to'] ['dongle'] ['life'] ['biggest'] ['problem'] ['is'] ['low'] ['brightness'] ['with'] ['this'] ['cost'] ['you'] ['can'] ['get'] ['something'] ['better'] ['and'] ['higher'] ['quality'] ['do'] ['not'] ['buy'] ['scam'] ['fake'] ['trash'] ['totally'] ['waste'] ['product'] ['an'] ['under'] ['baked'] ['device'] ['really'] ['wanted'] ['to'] ['like'] ['it'] ['but'] ['terrible'] ['software'] ['on'] ['pleasant'] ['hardware'] ['not'] ['compatible'] ['with'] ['disney'] ['plus'] ['and'] ['app'] ['is'] ['horrible'] ['second'] ['one'] ['since'] ['november'] ['cool'] ['just'] ['wish'] ['it'] ['were'] ['brighter'] ['chromecast'] ['need'] ['help'] ['to'] ['run'] ['netflix'] ['missing'] ['important'] ['integrations'] ['on'] ['the'] ['fence'] ['proyector'] ['muy'] ['mediocre'] ['over'] ['priced'] ['expect'] ['better'] ['for'] ['anker'] ['ruined'] ['my'] ['fathers'] ['day'] ['disposable'] ['projector'] ['no'] ['repair'] ['centers'] ['in'] ['usa'] ['one'] ['star'] ['disappointed'] ['not'] ['working'] ['with'] ['apps'] ['that'] ['i'] ['am'] ['watching'] ['on'] ['tv'] [] ['thats'] ['a'] ['pretty'] ['big'] ['deal'] ['breaker'] ['for'] ['me'] ['three'] ['stars'] ['two'] ['stars'] ['really'] ['amazing'] ['surely'] ['its'] ['wonderful'] ['and'] ['all'] ['lack'] ['flexibility'] ['two'] ['defective'] ['units'] ['right'] ['out'] ['of'] ['the'] ['box'] ['not'] ['good'] ['odds'] ['skip'] ['this'] ['product'] ['low'] ['res'] ['not'] ['worth'] ['the'] ['price'] ['not'] ['working'] ['with'] ['its'] ['own'] ['twitch'] ['app'] ['poco'] ['brillo'] ['y'] ['baja'] ['resolución'] ['badluck'] ['wont'] ['last'] ['long']\""
     },
     "metadata": {}
    }
   ],
   "execution_count": null
  },
  {
   "cell_type": "markdown",
   "source": "## 5.Apply Pos-Tag (TBD)",
   "metadata": {
    "tags": [],
    "cell_id": "00021-9b1480ad-5eaa-4b82-8e0a-e12423954e5e",
    "deepnote_cell_type": "markdown"
   }
  },
  {
   "cell_type": "code",
   "metadata": {
    "colab": {
     "base_uri": "https://localhost:8080/"
    },
    "id": "fbrA1z4OLsqz",
    "outputId": "a06b2d02-b9f1-477d-da82-4abee173d34e",
    "cell_id": "00015-740afe5e-9968-4267-958a-80aa2d522846",
    "deepnote_to_be_reexecuted": false,
    "source_hash": "364c0b09",
    "execution_start": 1633236479249,
    "execution_millis": 941,
    "deepnote_cell_type": "code"
   },
   "source": "from nltk import word_tokenize, pos_tag, pos_tag_sents\n\ntexts = new_df_word.tolist()\n\n\ntagged_texts = pos_tag_sents(map(word_tokenize, texts))\ntagged_texts",
   "outputs": [
    {
     "output_type": "execute_result",
     "execution_count": 15,
     "data": {
      "text/plain": "[[('read', 'NN')],\n [('their', 'PRP$')],\n [('privacy', 'NN')],\n [('policy', 'NN')],\n [('they', 'PRP')],\n [('are', 'VBP')],\n [('intrusive', 'JJ')],\n [('great', 'JJ')],\n [('hardware', 'NN')],\n [('but', 'CC')],\n [('software', 'NN')],\n [('does', 'VBZ')],\n [('not', 'RB')],\n [('work', 'NN')],\n [],\n [('do', 'VB')],\n [('not', 'RB')],\n [('buy', 'VB')],\n [('unless', 'IN')],\n [('you', 'PRP')],\n [('want', 'NN')],\n [('to', 'TO')],\n [('project', 'NN')],\n [('from', 'IN')],\n [('hdmi', 'NN')],\n [('source', 'NN')],\n [('only', 'RB')],\n [('i', 'NN')],\n [('am', 'VBP')],\n [('keeping', 'VBG')],\n [('it', 'PRP')],\n [('but', 'CC')],\n [('lies', 'NNS')],\n [('it', 'PRP')],\n [('does', 'VBZ')],\n [('not', 'RB')],\n [('work', 'NN')],\n [('on', 'IN')],\n [('most', 'JJS')],\n [('formats', 'NNS')],\n [('needs', 'NNS')],\n [('to', 'TO')],\n [('be', 'VB')],\n [('brighter', 'NN')],\n [('2', 'CD')],\n [('weeks', 'NNS')],\n [('7', 'CD')],\n [('etc', 'NN')],\n [('support', 'NN')],\n [('calls', 'NNS')],\n [('and', 'CC')],\n [],\n [('76', 'CD')],\n [('worth', 'NN')],\n [('of', 'IN')],\n [('hdmi', 'NN')],\n [('cables', 'NNS')],\n [('and', 'CC')],\n [('connectors', 'NNS')],\n [('but', 'CC')],\n [('still', 'RB')],\n [('does', 'VBZ')],\n [('not', 'RB')],\n [('work', 'NN')],\n [('a', 'DT')],\n [('good', 'JJ')],\n [('attempt', 'NN')],\n [('but', 'CC')],\n [('needs', 'NNS')],\n [('improvement', 'NN')],\n [('lovely', 'RB')],\n [('outside', 'IN')],\n [('but', 'CC')],\n [('the', 'DT')],\n [('guts', 'NNS')],\n [('on', 'IN')],\n [('this', 'DT')],\n [('unit', 'NN')],\n [('leaves', 'NNS')],\n [('something', 'NN')],\n [('to', 'TO')],\n [('be', 'VB')],\n [('desired', 'VBN')],\n [('no', 'DT')],\n [('longevity', 'NN')],\n [('sporadic', 'NN')],\n [('functionality', 'NN')],\n [('it', 'PRP')],\n [('must', 'MD')],\n [('be', 'VB')],\n [('unlocked', 'JJ')],\n [('almost', 'RB')],\n [('love', 'NN')],\n [('it', 'PRP')],\n [('not', 'RB')],\n [('worth', 'NN')],\n [('the', 'DT')],\n [('price', 'NN')],\n [('terrible', 'JJ')],\n [('software', 'NN')],\n [('and', 'CC')],\n [('barely', 'RB')],\n [('usable', 'JJ')],\n [('mala', 'NN')],\n [('resolucion', 'NN')],\n [('en', 'NN')],\n [('salas', 'NNS')],\n [('iluminadas', 'NNS')],\n [('it', 'PRP')],\n [('does', 'VBZ')],\n [('not', 'RB')],\n [('work', 'NN')],\n [('does', 'VBZ')],\n [('not', 'RB')],\n [('work', 'NN')],\n [('well', 'RB')],\n [('with', 'IN')],\n [('airplay', 'NN')],\n [('for', 'IN')],\n [('ipad', 'NN')],\n [('not', 'RB')],\n [('what', 'WP')],\n [('you', 'PRP')],\n [('think', 'NN')],\n [('was', 'VBD')],\n [('probably', 'RB')],\n [('a', 'DT')],\n [('great', 'JJ')],\n [('purchase', 'NN')],\n [('in', 'IN')],\n [('2018', 'CD')],\n [('but', 'CC')],\n [('there', 'RB')],\n [('are', 'VBP')],\n [('better', 'RBR')],\n [('options', 'NNS')],\n [('for', 'IN')],\n [('price', 'NN')],\n [('in', 'IN')],\n [('2021', 'CD')],\n [('just', 'RB')],\n [('ok', 'NN')],\n [('not', 'RB')],\n [('great', 'JJ')],\n [('not', 'RB')],\n [('worth', 'NN')],\n [('the', 'DT')],\n [('money', 'NN')],\n [('look', 'NN')],\n [('elsewhere', 'RB')],\n [('not', 'RB')],\n [('very', 'RB')],\n [('bright', 'NN')],\n [('and', 'CC')],\n [('blurry', 'NN')],\n [('edges', 'NNS')],\n [('disappointed', 'JJ')],\n [('and', 'CC')],\n [('underwhelmed', 'JJ')],\n [('expensive', 'JJ')],\n [('bad', 'JJ')],\n [('navigation', 'NN')],\n [('no', 'DT')],\n [('display', 'NN')],\n [('resizing', 'VBG')],\n [('over', 'IN')],\n [('priced', 'VBN')],\n [('and', 'CC')],\n [('poor', 'JJ')],\n [('quality', 'NN')],\n [('great', 'JJ')],\n [('small', 'JJ')],\n [('projector', 'NN')],\n [('utter', 'NN')],\n [('disappointment', 'NN')],\n [('and', 'CC')],\n [('waste', 'NN')],\n [('of', 'IN')],\n [('money', 'NN')],\n [('buy', 'VB')],\n [('a', 'DT')],\n [('cheap', 'NN')],\n [('one', 'CD')],\n [('this', 'DT')],\n [('one', 'CD')],\n [('runs', 'NNS')],\n [('like', 'IN')],\n [('it', 'PRP')],\n [('brightness', 'NN')],\n [('and', 'CC')],\n [('windows', 'NNS')],\n [('projection', 'NN')],\n [('not', 'RB')],\n [('great', 'JJ')],\n [('no', 'DT')],\n [('audio', 'NN')],\n [('out', 'IN')],\n [('youtube', 'NN')],\n [('sign', 'NN')],\n [('in', 'IN')],\n [('tiptrick', 'NN')],\n [('do', 'VB')],\n [('not', 'RB')],\n [('do', 'VB')],\n [('it', 'PRP')],\n [('misleading', 'VBG')],\n [('reviews', 'NNS')],\n [('video', 'NN')],\n [('is', 'VBZ')],\n [('not', 'RB')],\n [('that', 'IN')],\n [('sharp', 'JJ')],\n [('420p', 'CD')],\n [('but', 'CC')],\n [('rest', 'NN')],\n [('is', 'VBZ')],\n [('good', 'JJ')],\n [('does', 'VBZ')],\n [('the', 'DT')],\n [('job', 'NN')],\n [('but', 'CC')],\n [('was', 'VBD')],\n [('expecting', 'VBG')],\n [('more', 'RBR')],\n [('compared', 'VBN')],\n [('to', 'TO')],\n [('others', 'NNS')],\n [('at', 'IN')],\n [('the', 'DT')],\n [('same', 'JJ')],\n [('price', 'NN')],\n [('point', 'NN')],\n [('disappointed', 'JJ')],\n [('does', 'VBZ')],\n [('not', 'RB')],\n [('really', 'RB')],\n [('screen', 'NN')],\n [('mirror', 'NN')],\n [('many', 'JJ')],\n [('many', 'JJ')],\n [('reasons', 'NNS')],\n [('to', 'TO')],\n [('move', 'NN')],\n [('on', 'IN')],\n [],\n [('this', 'DT')],\n [('sucks', 'NNS')],\n [('be', 'VB')],\n [('prepared', 'JJ')],\n [('to', 'TO')],\n [('never', 'RB')],\n [('actually', 'RB')],\n [('watch', 'NN')],\n [('anything', 'NN')],\n [('on', 'IN')],\n [('it', 'PRP')],\n [('awful', 'NN')],\n [('device', 'NN')],\n [('that', 'IN')],\n [('does', 'VBZ')],\n [('not', 'RB')],\n [('work', 'NN')],\n [('low', 'JJ')],\n [('quality', 'NN')],\n [('item', 'NN')],\n [('died', 'VBD')],\n [('after', 'IN')],\n [('22', 'CD')],\n [('months', 'NNS')],\n [('with', 'IN')],\n [('very', 'RB')],\n [('light', 'NN')],\n [('usage', 'NN')],\n [('more', 'RBR')],\n [('looks', 'NNS')],\n [('than', 'IN')],\n [('longevity', 'NN')],\n [('buy', 'VB')],\n [('the', 'DT')],\n [('extended', 'VBN')],\n [('warranty', 'NN')],\n [('great', 'JJ')],\n [('video', 'NN')],\n [('but', 'CC')],\n [('very', 'RB')],\n [('disappointing', 'VBG')],\n [('the', 'DT')],\n [('product', 'NN')],\n [('picture', 'NN')],\n [('quality', 'NN')],\n [('is', 'VBZ')],\n [('bad', 'JJ')],\n [('expensive', 'JJ')],\n [('toy', 'NN')],\n [('not', 'RB')],\n [('much', 'JJ')],\n [('application', 'NN')],\n [('for', 'IN')],\n [('it', 'PRP')],\n [('a', 'DT')],\n [('complete', 'JJ')],\n [('mess', 'NN')],\n [('filled', 'VBN')],\n [('with', 'IN')],\n [('issues', 'NNS')],\n [('not', 'RB')],\n [('worth', 'NN')],\n [('price', 'NN')],\n [('disappointed', 'JJ')],\n [('by', 'IN')],\n [('selling', 'VBG')],\n [('used', 'VBN')],\n [('item', 'NN')],\n [('well', 'RB')],\n [('manufactured', 'VBD')],\n [('disappointing', 'VBG')],\n [('audio', 'NN')],\n [('i', 'NN')],\n [('got', 'VBD')],\n [('original', 'JJ')],\n [('version', 'NN')],\n [('and', 'CC')],\n [('not', 'RB')],\n [('the', 'DT')],\n [('capsule', 'NN')],\n [('ii', 'NN')],\n [('apple', 'NN')],\n [('compatibility', 'NN')],\n [('lacking', 'VBG')],\n [('dont', 'NN')],\n [('buy', 'VB')],\n [('this', 'DT')],\n [('product', 'NN')],\n [('cool', 'NN')],\n [('idea', 'NN')],\n [('great', 'JJ')],\n [('design', 'NN')],\n [('bad', 'JJ')],\n [('execution', 'NN')],\n [('garbage', 'NN')],\n [('great', 'JJ')],\n [('size', 'NN')],\n [('terrible', 'JJ')],\n [('software', 'NN')],\n [('and', 'CC')],\n [('connection', 'NN')],\n [('ports', 'NNS')],\n [('lacking', 'VBG')],\n [('send', 'NN')],\n [('me', 'PRP')],\n [('my', 'PRP$')],\n [('money', 'NN')],\n [('back', 'RB')],\n [('please', 'NN')],\n [('save', 'VB')],\n [('your', 'PRP$')],\n [('money', 'NN')],\n [('do', 'VB')],\n [('not', 'RB')],\n [('buy', 'VB')],\n [('this', 'DT')],\n [('junk', 'NN')],\n [('not', 'RB')],\n [('as', 'IN')],\n [('described', 'NN')],\n [('it', 'PRP')],\n [('is', 'VBZ')],\n [('is', 'VBZ')],\n [('a', 'DT')],\n [('toy', 'NN')],\n [('very', 'RB')],\n [('dim', 'NN')],\n [('stops', 'NNS')],\n [('working', 'VBG')],\n [('after', 'IN')],\n [('about', 'IN')],\n [('a', 'DT')],\n [('year', 'NN')],\n [('not', 'RB')],\n [('very', 'RB')],\n [('bright', 'NN')],\n [('but', 'CC')],\n [('good', 'JJ')],\n [('in', 'IN')],\n [('dark', 'NN')],\n [('room', 'NN')],\n [('high', 'JJ')],\n [('hopes', 'NNS')],\n [('but', 'CC')],\n [('disappointed', 'JJ')],\n [('limiting', 'VBG')],\n [('hardware', 'NN')],\n [('and', 'CC')],\n [('software', 'NN')],\n [('not', 'RB')],\n [('good', 'JJ')],\n [('enough', 'RB')],\n [('solid', 'JJ')],\n [('performance', 'NN')],\n [('limited', 'JJ')],\n [('apps', 'NN')],\n [('limited', 'JJ')],\n [('capabilities', 'NNS')],\n [('not', 'RB')],\n [('happy', 'JJ')],\n [('okaybut', 'NN')],\n [('photos', 'NNS')],\n [('are', 'VBP')],\n [('deceiving', 'VBG')],\n [('bad', 'JJ')],\n [('picture', 'NN')],\n [('quality', 'NN')],\n [('not', 'RB')],\n [('bright', 'NN')],\n [('grainy', 'NN')],\n [('at', 'IN')],\n [('times', 'NNS')],\n [('really', 'RB')],\n [('expensive', 'JJ')],\n [('for', 'IN')],\n [('what', 'WP')],\n [('it', 'PRP')],\n [('doesplus', 'NN')],\n [('no', 'DT')],\n [('way', 'NN')],\n [('to', 'TO')],\n [('fix', 'NN')],\n [('a', 'DT')],\n [('crooked', 'NNS')],\n [('projection', 'NN')],\n [('it', 'PRP')],\n [('is', 'VBZ')],\n [('perfect', 'NN')],\n [('and', 'CC')],\n [('disappointing', 'VBG')],\n [('picture', 'NN')],\n [('function', 'NN')],\n [('and', 'CC')],\n [('small', 'JJ')],\n [('size', 'NN')],\n [('is', 'VBZ')],\n [('impressive', 'JJ')],\n [('mediocre', 'NN')],\n [('purchase', 'NN')],\n [('the', 'DT')],\n [('advertising', 'NN')],\n [('page', 'NN')],\n [('was', 'VBD')],\n [('misleading', 'VBG')],\n [('limited', 'JJ')],\n [('streaming', 'VBG')],\n [('it', 'PRP')],\n [('is', 'VBZ')],\n [('shocking', 'VBG')],\n [('what', 'WP')],\n [('a', 'DT')],\n [('mess', 'NN')],\n [('this', 'DT')],\n [('is', 'VBZ')],\n [('terrible', 'JJ')],\n [('for', 'IN')],\n [('netflix', 'NN')],\n [('poor', 'JJ')],\n [('quality', 'NN')],\n [('broken', 'NN')],\n [('in', 'IN')],\n [('four', 'CD')],\n [('months', 'NNS')],\n [('just', 'RB')],\n [('okay', 'NN')],\n [('better', 'RBR')],\n [('spend', 'NN')],\n [('little', 'JJ')],\n [('more', 'RBR')],\n [('buy', 'VB')],\n [('good', 'JJ')],\n [('one', 'CD')],\n [('time', 'NN')],\n [('to', 'TO')],\n [('return', 'NN')],\n [('this', 'DT')],\n [('junk', 'NN')],\n [('not', 'RB')],\n [('iphone', 'NN')],\n [('friendly', 'RB')],\n [('it', 'PRP')],\n [('is', 'VBZ')],\n [('not', 'RB')],\n [('bright', 'NN')],\n [('enough', 'RB')],\n [('for', 'IN')],\n [('use', 'NN')],\n [('me', 'PRP')],\n [('gusta', 'NN')],\n [('pero', 'NN')],\n [('seriously', 'RB')],\n [('great', 'JJ')],\n [('idea', 'NN')],\n [('but', 'CC')],\n [('not', 'RB')],\n [('carried', 'VBN')],\n [('out', 'IN')],\n [('to', 'TO')],\n [('its', 'PRP$')],\n [('fullest', 'JJS')],\n [('potential', 'JJ')],\n [('by', 'IN')],\n [('far', 'RB')],\n [('disappointed', 'JJ')],\n [('beyond', 'IN')],\n [('words', 'NNS')],\n [('does', 'VBZ')],\n [('not', 'RB')],\n [('work', 'NN')],\n [('with', 'IN')],\n [('iphone', 'NN')],\n [('this', 'DT')],\n [('product', 'NN')],\n [('needs', 'NNS')],\n [('to', 'TO')],\n [('be', 'VB')],\n [('cheapier', 'NN')],\n [('was', 'VBD')],\n [('a', 'DT')],\n [('fan', 'NN')],\n [('of', 'IN')],\n [('anker', 'NN')],\n [('until', 'IN')],\n [('purchasing', 'NN')],\n [('this', 'DT')],\n [('piece', 'NN')],\n [('of', 'IN')],\n [('junk', 'NN')],\n [('difficult', 'JJ')],\n [('to', 'TO')],\n [('navigate', 'NN')],\n [('in', 'IN')],\n [('any', 'DT')],\n [('mode', 'NN')],\n [('very', 'RB')],\n [('loud', 'NN')],\n [('works', 'NNS')],\n [('well', 'RB')],\n [('as', 'IN')],\n [('a', 'DT')],\n [('projector', 'NN')],\n [('app', 'NN')],\n [('is', 'VBZ')],\n [('pretty', 'RB')],\n [('bad', 'JJ')],\n [('for', 'IN')],\n [('an', 'DT')],\n [('otherwise', 'RB')],\n [('polished', 'NNS')],\n [('product', 'NN')],\n [('speaker', 'NN')],\n [('is', 'VBZ')],\n [('not', 'RB')],\n [('good', 'JJ')],\n [('compact', 'NN')],\n [('disappointment', 'NN')],\n [('need', 'NN')],\n [('complete', 'JJ')],\n [('darkness', 'NN')],\n [('just', 'RB')],\n [('ok', 'NN')],\n [('problem', 'NN')],\n [('with', 'IN')],\n [('overheating', 'VBG')],\n [('within', 'IN')],\n [('minutes', 'NNS')],\n [('of', 'IN')],\n [('turning', 'VBG')],\n [('on', 'IN')],\n [('over', 'IN')],\n [('all', 'DT')],\n [('great', 'JJ')],\n [('product', 'NN')],\n [('looking', 'VBG')],\n [('into', 'IN')],\n [('why', 'WRB')],\n [('it', 'PRP')],\n [('glitches', 'NNS')],\n [('so', 'RB')],\n [('much', 'JJ')],\n [('mini', 'NN')],\n [('projector', 'NN')],\n [('mini', 'NN')],\n [('issues', 'NNS')],\n [('does', 'VBZ')],\n [('not', 'RB')],\n [('work', 'NN')],\n [('missing', 'VBG')],\n [('pieces', 'NNS')],\n [('defective', 'JJ')],\n [('unit', 'NN')],\n [('do', 'VB')],\n [('not', 'RB')],\n [('waste', 'NN')],\n [('your', 'PRP$')],\n [('time', 'NN')],\n [('if', 'IN')],\n [('this', 'DT')],\n [('is', 'VBZ')],\n [('a', 'DT')],\n [('family', 'NN')],\n [('purchase', 'NN')],\n [('too', 'RB')],\n [('dark', 'NN')],\n [('not', 'RB')],\n [('worth', 'NN')],\n [('the', 'DT')],\n [('expensive', 'JJ')],\n [('price', 'NN')],\n [('received', 'VBN')],\n [('repackaged', 'VBN')],\n [('item', 'NN')],\n [('still', 'RB')],\n [('connected', 'VBN')],\n [('to', 'TO')],\n [('previous', 'JJ')],\n [('users', 'NNS')],\n [('accounts', 'NNS')],\n [('returning', 'VBG')],\n [('portable', 'JJ')],\n [('but', 'CC')],\n [('not', 'RB')],\n [('highest', 'JJS')],\n [('sound', 'NN')],\n [('or', 'CC')],\n [('image', 'NN')],\n [('quality', 'NN')],\n [('the', 'DT')],\n [('update', 'NN')],\n [('that', 'IN')],\n [],\n [('could', 'MD')],\n [('not', 'RB')],\n [('wait', 'NN')],\n [('it', 'PRP')],\n [('is', 'VBZ')],\n [('alright', 'NN')],\n [('its', 'PRP$')],\n [('alright', 'NN')],\n [('amazing', 'VBG')],\n [('and', 'CC')],\n [('nifty', 'NN')],\n [('but', 'CC')],\n [('its', 'PRP$')],\n [('always', 'RB')],\n [('tilted', 'VBN')],\n [('ok', 'NN')],\n [('for', 'IN')],\n [('poolside', 'NN')],\n [('but', 'CC')],\n [('obviously', 'RB')],\n [('needs', 'NNS')],\n [('complete', 'JJ')],\n [('dark', 'NN')],\n [('to', 'TO')],\n [('be', 'VB')],\n [('enjoyable', 'JJ')],\n [('crashes', 'NNS')],\n [],\n [('draw', 'NN')],\n [('of', 'IN')],\n [('the', 'DT')],\n [('luck', 'NN')],\n [('it', 'PRP')],\n [('was', 'VBD')],\n [('okay', 'NN')],\n [('not', 'RB')],\n [('worth', 'NN')],\n [('the', 'DT')],\n [('money', 'NN')],\n [('just', 'RB')],\n [('novel', 'NN')],\n [('battery', 'NN')],\n [('drains', 'NNS')],\n [('while', 'IN')],\n [('off', 'IN')],\n [('more', 'RBR')],\n [('so', 'RB')],\n [('this', 'DT')],\n [('would', 'MD')],\n [('be', 'VB')],\n [('great', 'JJ')],\n [('if', 'IN')],\n [('it', 'PRP')],\n [('was', 'VBD')],\n [('not', 'RB')],\n [('so', 'RB')],\n [('terrible', 'JJ')],\n [('would', 'MD')],\n [('not', 'RB')],\n [('recommend', 'NN')],\n [('did', 'VBD')],\n [('not', 'RB')],\n [('work', 'NN')],\n [('out', 'IN')],\n [('of', 'IN')],\n [('box', 'NN')],\n [('too', 'RB')],\n [('dim', 'NN')],\n [('very', 'RB')],\n [('disappointed', 'JJ')],\n [('amazing', 'VBG')],\n [('product', 'NN')],\n [('i', 'NN')],\n [('think', 'NN')],\n [('i', 'NN')],\n [('got', 'VBD')],\n [('a', 'DT')],\n [('used', 'VBN')],\n [('product', 'NN')],\n [('or', 'CC')],\n [('the', 'DT')],\n [('product', 'NN')],\n [('was', 'VBD')],\n [('damaged', 'VBN')],\n [('on', 'IN')],\n [('the', 'DT')],\n [('way', 'NN')],\n [('to', 'TO')],\n [('me', 'PRP')],\n [('lack', 'NN')],\n [('quality', 'NN')],\n [('features', 'NNS')],\n [('for', 'IN')],\n [('gamers', 'NNS')],\n [('not', 'RB')],\n [('worth', 'NN')],\n [('it', 'PRP')],\n [('short', 'JJ')],\n [('life', 'NN')],\n [('span', 'NN')],\n [('crooked', 'NNS')],\n [('screen', 'NN')],\n [('mixed', 'JJ')],\n [('feelings', 'NNS')],\n [('on', 'IN')],\n [('it', 'PRP')],\n [('need', 'NN')],\n [('to', 'TO')],\n [('have', 'VB')],\n [('certain', 'JJ')],\n [('conditions', 'NNS')],\n [('useless', 'NN')],\n [('for', 'IN')],\n [('streaming', 'VBG')],\n [('while', 'IN')],\n [('using', 'VBG')],\n [('external', 'JJ')],\n [('bluetooth', 'NN')],\n [('speaker', 'NN')],\n [],\n [('anything', 'NN')],\n [('sort', 'NN')],\n [('of', 'IN')],\n [('see', 'VB')],\n [('update', 'NN')],\n [('not', 'RB')],\n [('very', 'RB')],\n [('bright', 'NN')],\n [('inside', 'IN')],\n [('of', 'IN')],\n [('projector', 'NN')],\n [('screen', 'NN')],\n [('came', 'VBD')],\n [('with', 'IN')],\n [('a', 'DT')],\n [('scratch', 'NN')],\n [('not', 'RB')],\n [('for', 'IN')],\n [('iphone', 'NN')],\n [('not', 'RB')],\n [('compatible', 'JJ')],\n [('with', 'IN')],\n [('android', 'NN')],\n [('or', 'CC')],\n [('windows', 'NNS')],\n [('good', 'JJ')],\n [('picture', 'NN')],\n [('quality', 'NN')],\n [('but', 'CC')],\n [('hard', 'JJ')],\n [('to', 'TO')],\n [('use', 'NN')],\n [('with', 'IN')],\n [('phone', 'NN')],\n [('do', 'VB')],\n [('not', 'RB')],\n [('waste', 'NN')],\n [('your', 'PRP$')],\n [('money', 'NN')],\n [('on', 'IN')],\n [('this', 'DT')],\n [('projector', 'NN')],\n [('ca', 'MD')],\n [('not', 'RB')],\n [('stream', 'NN')],\n [('without', 'IN')],\n [('wifi', 'NN')],\n [('nothing', 'NN')],\n [('works', 'NNS')],\n [('heading', 'VBG')],\n [('in', 'IN')],\n [('the', 'DT')],\n [('right', 'NN')],\n [('direction', 'NN')],\n [('but', 'CC')],\n [('still', 'RB')],\n [('needs', 'NNS')],\n [('improvement', 'NN')],\n [('seems', 'VBZ')],\n [('tiny', 'JJ')],\n [('and', 'CC')],\n [('simple', 'NN')],\n [('but', 'CC')],\n [('is', 'VBZ')],\n [('fussy', 'NN')],\n [('and', 'CC')],\n [('meh', 'NN')],\n [('ca', 'MD')],\n [('not', 'RB')],\n [('watch', 'NN')],\n [('youtube', 'NN')],\n [('nor', 'CC')],\n [('prime', 'NN')],\n [('no', 'DT')],\n [('lo', 'NN')],\n [('recomiendo', 'NN')],\n [('maybe', 'RB')],\n [('good', 'JJ')],\n [('for', 'IN')],\n [('home', 'NN')],\n [('not', 'RB')],\n [('for', 'IN')],\n [('business', 'NN')],\n [('though', 'IN')],\n [('just', 'RB')],\n [('not', 'RB')],\n [('as', 'IN')],\n [('good', 'JJ')],\n [('as', 'IN')],\n [('expected', 'VBN')],\n [('brightness', 'NN')],\n [('sucks', 'NNS')],\n [('and', 'CC')],\n [('apps', 'NN')],\n [('are', 'VBP')],\n [('meh', 'NN')],\n [('just', 'RB')],\n [('did', 'VBD')],\n [('not', 'RB')],\n [('work', 'NN')],\n [('very', 'RB')],\n [('cool', 'NN')],\n [('concept', 'NN')],\n [('and', 'CC')],\n [('works', 'NNS')],\n [('amazingly', 'RB')],\n [('well', 'RB')],\n [('in', 'IN')],\n [('a', 'DT')],\n [('dark', 'NN')],\n [('room', 'NN')],\n [('small', 'JJ')],\n [('movie', 'NN')],\n [('projector', 'NN')],\n [('os', 'NN')],\n [('was', 'VBD')],\n [('terrible', 'JJ')],\n [('does', 'VBZ')],\n [('not', 'RB')],\n [('last', 'JJ')],\n [('long', 'RB')],\n [('movie', 'NN')],\n [('apps', 'NN')],\n [('constantly', 'RB')],\n [('crash', 'NN')],\n [('terrible', 'JJ')],\n [('projector', 'NN')],\n [('only', 'RB')],\n [('works', 'NNS')],\n [('with', 'IN')],\n [('apps', 'NN')],\n [('that', 'IN')],\n [('come', 'VB')],\n [('with', 'IN')],\n [('projector', 'NN')],\n [('good', 'JJ')],\n [('projector', 'NN')],\n [('and', 'CC')],\n [('battery', 'NN')],\n [('life', 'NN')],\n [('but', 'CC')],\n [('mirror', 'NN')],\n [('cast', 'NN')],\n [('would', 'MD')],\n [('not', 'RB')],\n [('work', 'NN')],\n [('three', 'CD')],\n [('stars', 'NNS')],\n [('good', 'JJ')],\n [('but', 'CC')],\n [('eh', 'NN')],\n [('good', 'JJ')],\n [('product', 'NN')],\n [('not', 'RB')],\n [('excellent', 'NN')],\n [('item', 'NN')],\n [('broke', 'NN')],\n [('after', 'IN')],\n [('a', 'DT')],\n [('few', 'JJ')],\n [('months', 'NNS')],\n [('dont', 'NN')],\n [('buy', 'VB')],\n [('it', 'PRP')],\n [('still', 'RB')],\n [('it', 'PRP')],\n [('is', 'VBZ')],\n [('not', 'RB')],\n [('bright', 'NN')],\n [('enough', 'RB')],\n [('if', 'IN')],\n [('you', 'PRP')],\n [('are', 'VBP')],\n [('not', 'RB')],\n [('in', 'IN')],\n [('a', 'DT')],\n [('complete', 'JJ')],\n [('dark', 'NN')],\n [('room', 'NN')],\n [('not', 'RB')],\n [('good', 'JJ')],\n [('poor', 'JJ')],\n [('on', 'IN')],\n [('brightly', 'RB')],\n [('lit', 'NN')],\n [('rooms', 'NNS')],\n [('still', 'RB')],\n [('not', 'RB')],\n [('ready', 'JJ')],\n [('for', 'IN')],\n [('prime', 'NN')],\n [('time', 'NN')],\n [('poor', 'JJ')],\n [('picture', 'NN')],\n [('quality', 'NN')],\n [('not', 'RB')],\n [('worth', 'NN')],\n [('the', 'DT')],\n [('hype', 'NN')],\n [('or', 'CC')],\n [('the', 'DT')],\n [('money', 'NN')],\n [('it', 'PRP')],\n [('did', 'VBD')],\n [('not', 'RB')],\n [('recognize', 'VB')],\n [('hdmi', 'NN')],\n [('input', 'NN')],\n [('the', 'DT')],\n [('bluetooth', 'NN')],\n [('has', 'VBZ')],\n [('a', 'DT')],\n [('delay', 'NN')],\n [('with', 'IN')],\n [('speaker', 'NN')],\n [('not', 'RB')],\n [('a', 'DT')],\n [('sturdy', 'NN')],\n [('product', 'NN')],\n [('not', 'RB')],\n [('good', 'JJ')],\n [('disappointed', 'JJ')],\n [('in', 'IN')],\n [('nebula', 'NN')],\n [('streaming', 'VBG')],\n [('apps', 'NN')],\n [('do', 'VB')],\n [('not', 'RB')],\n [('work', 'NN')],\n [('nebula', 'NN')],\n [('remote', 'NN')],\n [('control', 'NN')],\n [('issue', 'NN')],\n [('iphone', 'NN')],\n [('user', 'NN')],\n [('be', 'VB')],\n [('aware', 'JJ')],\n [],\n [('softwares', 'NNS')],\n [('wo', 'MD')],\n [('not', 'RB')],\n [('work', 'NN')],\n [('avoid', 'NN')],\n [('awesome', 'NN')],\n ...]"
     },
     "metadata": {}
    }
   ],
   "execution_count": null
  },
  {
   "cell_type": "code",
   "metadata": {
    "colab": {
     "base_uri": "https://localhost:8080/"
    },
    "id": "9VHvGPMqLsqz",
    "outputId": "e1f68314-7564-4450-fff1-af1d90dde6e0",
    "cell_id": "00016-0a02bf78-332f-47d3-b97a-f1e0f7b2fe11",
    "deepnote_to_be_reexecuted": false,
    "source_hash": "21266fa0",
    "execution_start": 1633236480029,
    "execution_millis": 0,
    "deepnote_cell_type": "code"
   },
   "source": "new_df['pos_tag'] = tagged_texts\nnew_df['pos_tag']",
   "outputs": [
    {
     "output_type": "execute_result",
     "execution_count": 16,
     "data": {
      "text/plain": "0             [(read, NN)]\n1          [(their, PRP$)]\n2          [(privacy, NN)]\n3           [(policy, NN)]\n4            [(they, PRP)]\n               ...        \n1621    [(resolución, NN)]\n1622       [(badluck, NN)]\n1623          [(wont, NN)]\n1624          [(last, JJ)]\n1625          [(long, RB)]\nName: pos_tag, Length: 1626, dtype: object"
     },
     "metadata": {}
    }
   ],
   "execution_count": null
  },
  {
   "cell_type": "code",
   "metadata": {
    "colab": {
     "base_uri": "https://localhost:8080/",
     "height": 35
    },
    "id": "Qm5Ash_sLsqz",
    "outputId": "c9a534dc-344f-43b9-a747-4c8ecf5da883",
    "cell_id": "00017-5292b533-4fdf-47f0-8120-6353e8b8c931",
    "deepnote_to_be_reexecuted": false,
    "source_hash": "c07b66e2",
    "execution_start": 1633236480064,
    "execution_millis": 3,
    "deepnote_cell_type": "code"
   },
   "source": "new_df['pos_tag'].str.get(0)[20][1]",
   "outputs": [
    {
     "output_type": "execute_result",
     "execution_count": 17,
     "data": {
      "text/plain": "'NN'"
     },
     "metadata": {}
    }
   ],
   "execution_count": null
  },
  {
   "cell_type": "code",
   "metadata": {
    "id": "-_1C_mVdLsqz",
    "cell_id": "00018-97fe3427-41a3-4456-a789-6c3dab1c197e",
    "deepnote_to_be_reexecuted": false,
    "source_hash": "502e70d0",
    "execution_start": 1633236480081,
    "execution_millis": 25,
    "deepnote_cell_type": "code"
   },
   "source": "new_df['pos_tag'] = new_df['pos_tag'].astype(str)\nL = new_df['pos_tag'].str.get(-6)+new_df['pos_tag'].str.get(-5)+new_df['pos_tag'].str.get(-4)",
   "outputs": [],
   "execution_count": null
  },
  {
   "cell_type": "code",
   "metadata": {
    "id": "IOxtmufyLsq0",
    "cell_id": "00019-e8a5e596-27f8-420a-98d5-7fbd4f30c5c7",
    "deepnote_to_be_reexecuted": false,
    "source_hash": "cd6ec30d",
    "execution_start": 1633236480141,
    "execution_millis": 1,
    "deepnote_cell_type": "code"
   },
   "source": "new_df['tag'] = L",
   "outputs": [],
   "execution_count": null
  },
  {
   "cell_type": "code",
   "metadata": {
    "colab": {
     "base_uri": "https://localhost:8080/",
     "height": 419
    },
    "id": "Tf3Ef76kLsq0",
    "outputId": "6c9dc567-f56e-4a3a-a5c9-add55603f118",
    "cell_id": "00020-79afab85-9433-440c-a235-fad03fab26d3",
    "deepnote_to_be_reexecuted": false,
    "source_hash": "f037af9c",
    "execution_start": 1633236480142,
    "execution_millis": 100,
    "deepnote_cell_type": "code"
   },
   "source": "new_df[['ID', 'Word', 'tag']]",
   "outputs": [
    {
     "output_type": "execute_result",
     "execution_count": 20,
     "data": {
      "application/vnd.deepnote.dataframe.v2+json": {
       "row_count": 1626,
       "column_count": 3,
       "columns": [
        {
         "name": "ID",
         "dtype": "int64",
         "stats": {
          "unique_count": 294,
          "nan_count": 0,
          "min": "1",
          "max": "294",
          "histogram": [
           {
            "bin_start": 1,
            "bin_end": 30.3,
            "count": 207
           },
           {
            "bin_start": 30.3,
            "bin_end": 59.6,
            "count": 187
           },
           {
            "bin_start": 59.6,
            "bin_end": 88.9,
            "count": 165
           },
           {
            "bin_start": 88.9,
            "bin_end": 118.2,
            "count": 174
           },
           {
            "bin_start": 118.2,
            "bin_end": 147.5,
            "count": 169
           },
           {
            "bin_start": 147.5,
            "bin_end": 176.8,
            "count": 147
           },
           {
            "bin_start": 176.8,
            "bin_end": 206.1,
            "count": 152
           },
           {
            "bin_start": 206.1,
            "bin_end": 235.4,
            "count": 144
           },
           {
            "bin_start": 235.4,
            "bin_end": 264.7,
            "count": 144
           },
           {
            "bin_start": 264.7,
            "bin_end": 294,
            "count": 137
           }
          ]
         }
        },
        {
         "name": "Word",
         "dtype": "object",
         "stats": {
          "unique_count": 603,
          "nan_count": 0,
          "categories": [
           {
            "name": "not",
            "count": 91
           },
           {
            "name": "is",
            "count": 41
           },
           {
            "name": "601 others",
            "count": 1494
           }
          ]
         }
        },
        {
         "name": "tag",
         "dtype": "object",
         "stats": {
          "unique_count": 23,
          "nan_count": 13,
          "categories": [
           {
            "name": "'NN",
            "count": 545
           },
           {
            "name": "22 others",
            "count": 1068
           },
           {
            "name": "Missing",
            "count": 13
           }
          ]
         }
        },
        {
         "name": "_deepnote_index_column",
         "dtype": "int64"
        }
       ],
       "rows_top": [
        {
         "ID": 1,
         "Word": "read",
         "tag": "'NN",
         "_deepnote_index_column": 0
        },
        {
         "ID": 1,
         "Word": "their",
         "tag": "RP$",
         "_deepnote_index_column": 1
        },
        {
         "ID": 1,
         "Word": "privacy",
         "tag": "'NN",
         "_deepnote_index_column": 2
        },
        {
         "ID": 1,
         "Word": "policy",
         "tag": "'NN",
         "_deepnote_index_column": 3
        },
        {
         "ID": 1,
         "Word": "they",
         "tag": "PRP",
         "_deepnote_index_column": 4
        },
        {
         "ID": 1,
         "Word": "are",
         "tag": "VBP",
         "_deepnote_index_column": 5
        },
        {
         "ID": 1,
         "Word": "intrusive",
         "tag": "'JJ",
         "_deepnote_index_column": 6
        },
        {
         "ID": 2,
         "Word": "great",
         "tag": "'JJ",
         "_deepnote_index_column": 7
        },
        {
         "ID": 2,
         "Word": "hardware",
         "tag": "'NN",
         "_deepnote_index_column": 8
        },
        {
         "ID": 2,
         "Word": "but",
         "tag": "'CC",
         "_deepnote_index_column": 9
        },
        {
         "ID": 2,
         "Word": "software",
         "tag": "'NN",
         "_deepnote_index_column": 10
        },
        {
         "ID": 2,
         "Word": "does",
         "tag": "VBZ",
         "_deepnote_index_column": 11
        },
        {
         "ID": 2,
         "Word": "not",
         "tag": "'RB",
         "_deepnote_index_column": 12
        },
        {
         "ID": 2,
         "Word": "work",
         "tag": "'NN",
         "_deepnote_index_column": 13
        },
        {
         "ID": 2,
         "Word": "",
         "tag": "nan",
         "_deepnote_index_column": 14
        },
        {
         "ID": 2,
         "Word": "do",
         "tag": "'VB",
         "_deepnote_index_column": 15
        },
        {
         "ID": 2,
         "Word": "not",
         "tag": "'RB",
         "_deepnote_index_column": 16
        },
        {
         "ID": 2,
         "Word": "buy",
         "tag": "'VB",
         "_deepnote_index_column": 17
        },
        {
         "ID": 2,
         "Word": "unless",
         "tag": "'IN",
         "_deepnote_index_column": 18
        },
        {
         "ID": 2,
         "Word": "you",
         "tag": "PRP",
         "_deepnote_index_column": 19
        },
        {
         "ID": 2,
         "Word": "want",
         "tag": "'NN",
         "_deepnote_index_column": 20
        },
        {
         "ID": 2,
         "Word": "to",
         "tag": "'TO",
         "_deepnote_index_column": 21
        },
        {
         "ID": 2,
         "Word": "project",
         "tag": "'NN",
         "_deepnote_index_column": 22
        },
        {
         "ID": 2,
         "Word": "from",
         "tag": "'IN",
         "_deepnote_index_column": 23
        },
        {
         "ID": 2,
         "Word": "hdmi",
         "tag": "'NN",
         "_deepnote_index_column": 24
        },
        {
         "ID": 2,
         "Word": "source",
         "tag": "'NN",
         "_deepnote_index_column": 25
        },
        {
         "ID": 2,
         "Word": "only",
         "tag": "'RB",
         "_deepnote_index_column": 26
        },
        {
         "ID": 3,
         "Word": "i",
         "tag": "'NN",
         "_deepnote_index_column": 27
        },
        {
         "ID": 3,
         "Word": "am",
         "tag": "VBP",
         "_deepnote_index_column": 28
        },
        {
         "ID": 3,
         "Word": "keeping",
         "tag": "VBG",
         "_deepnote_index_column": 29
        },
        {
         "ID": 3,
         "Word": "it",
         "tag": "PRP",
         "_deepnote_index_column": 30
        },
        {
         "ID": 3,
         "Word": "but",
         "tag": "'CC",
         "_deepnote_index_column": 31
        },
        {
         "ID": 4,
         "Word": "lies",
         "tag": "NNS",
         "_deepnote_index_column": 32
        },
        {
         "ID": 5,
         "Word": "it",
         "tag": "PRP",
         "_deepnote_index_column": 33
        },
        {
         "ID": 5,
         "Word": "does",
         "tag": "VBZ",
         "_deepnote_index_column": 34
        },
        {
         "ID": 5,
         "Word": "not",
         "tag": "'RB",
         "_deepnote_index_column": 35
        },
        {
         "ID": 5,
         "Word": "work",
         "tag": "'NN",
         "_deepnote_index_column": 36
        },
        {
         "ID": 5,
         "Word": "on",
         "tag": "'IN",
         "_deepnote_index_column": 37
        },
        {
         "ID": 5,
         "Word": "most",
         "tag": "JJS",
         "_deepnote_index_column": 38
        },
        {
         "ID": 5,
         "Word": "formats",
         "tag": "NNS",
         "_deepnote_index_column": 39
        },
        {
         "ID": 6,
         "Word": "needs",
         "tag": "NNS",
         "_deepnote_index_column": 40
        },
        {
         "ID": 6,
         "Word": "to",
         "tag": "'TO",
         "_deepnote_index_column": 41
        },
        {
         "ID": 6,
         "Word": "be",
         "tag": "'VB",
         "_deepnote_index_column": 42
        },
        {
         "ID": 6,
         "Word": "brighter",
         "tag": "'NN",
         "_deepnote_index_column": 43
        },
        {
         "ID": 7,
         "Word": "2",
         "tag": "'CD",
         "_deepnote_index_column": 44
        },
        {
         "ID": 7,
         "Word": "weeks",
         "tag": "NNS",
         "_deepnote_index_column": 45
        },
        {
         "ID": 7,
         "Word": "7",
         "tag": "'CD",
         "_deepnote_index_column": 46
        },
        {
         "ID": 7,
         "Word": "etc",
         "tag": "'NN",
         "_deepnote_index_column": 47
        },
        {
         "ID": 7,
         "Word": "support",
         "tag": "'NN",
         "_deepnote_index_column": 48
        },
        {
         "ID": 7,
         "Word": "calls",
         "tag": "NNS",
         "_deepnote_index_column": 49
        },
        {
         "ID": 7,
         "Word": "and",
         "tag": "'CC",
         "_deepnote_index_column": 50
        },
        {
         "ID": 7,
         "Word": "",
         "tag": "nan",
         "_deepnote_index_column": 51
        },
        {
         "ID": 7,
         "Word": "76",
         "tag": "'CD",
         "_deepnote_index_column": 52
        },
        {
         "ID": 7,
         "Word": "worth",
         "tag": "'NN",
         "_deepnote_index_column": 53
        },
        {
         "ID": 7,
         "Word": "of",
         "tag": "'IN",
         "_deepnote_index_column": 54
        },
        {
         "ID": 7,
         "Word": "hdmi",
         "tag": "'NN",
         "_deepnote_index_column": 55
        },
        {
         "ID": 7,
         "Word": "cables",
         "tag": "NNS",
         "_deepnote_index_column": 56
        },
        {
         "ID": 7,
         "Word": "and",
         "tag": "'CC",
         "_deepnote_index_column": 57
        },
        {
         "ID": 7,
         "Word": "connectors",
         "tag": "NNS",
         "_deepnote_index_column": 58
        },
        {
         "ID": 7,
         "Word": "but",
         "tag": "'CC",
         "_deepnote_index_column": 59
        },
        {
         "ID": 7,
         "Word": "still",
         "tag": "'RB",
         "_deepnote_index_column": 60
        },
        {
         "ID": 7,
         "Word": "does",
         "tag": "VBZ",
         "_deepnote_index_column": 61
        },
        {
         "ID": 7,
         "Word": "not",
         "tag": "'RB",
         "_deepnote_index_column": 62
        },
        {
         "ID": 7,
         "Word": "work",
         "tag": "'NN",
         "_deepnote_index_column": 63
        },
        {
         "ID": 8,
         "Word": "a",
         "tag": "'DT",
         "_deepnote_index_column": 64
        },
        {
         "ID": 8,
         "Word": "good",
         "tag": "'JJ",
         "_deepnote_index_column": 65
        },
        {
         "ID": 8,
         "Word": "attempt",
         "tag": "'NN",
         "_deepnote_index_column": 66
        },
        {
         "ID": 8,
         "Word": "but",
         "tag": "'CC",
         "_deepnote_index_column": 67
        },
        {
         "ID": 8,
         "Word": "needs",
         "tag": "NNS",
         "_deepnote_index_column": 68
        },
        {
         "ID": 8,
         "Word": "improvement",
         "tag": "'NN",
         "_deepnote_index_column": 69
        },
        {
         "ID": 9,
         "Word": "lovely",
         "tag": "'RB",
         "_deepnote_index_column": 70
        },
        {
         "ID": 9,
         "Word": "outside",
         "tag": "'IN",
         "_deepnote_index_column": 71
        },
        {
         "ID": 9,
         "Word": "but",
         "tag": "'CC",
         "_deepnote_index_column": 72
        },
        {
         "ID": 9,
         "Word": "the",
         "tag": "'DT",
         "_deepnote_index_column": 73
        },
        {
         "ID": 9,
         "Word": "guts",
         "tag": "NNS",
         "_deepnote_index_column": 74
        },
        {
         "ID": 9,
         "Word": "on",
         "tag": "'IN",
         "_deepnote_index_column": 75
        },
        {
         "ID": 9,
         "Word": "this",
         "tag": "'DT",
         "_deepnote_index_column": 76
        },
        {
         "ID": 9,
         "Word": "unit",
         "tag": "'NN",
         "_deepnote_index_column": 77
        },
        {
         "ID": 9,
         "Word": "leaves",
         "tag": "NNS",
         "_deepnote_index_column": 78
        },
        {
         "ID": 9,
         "Word": "something",
         "tag": "'NN",
         "_deepnote_index_column": 79
        },
        {
         "ID": 9,
         "Word": "to",
         "tag": "'TO",
         "_deepnote_index_column": 80
        },
        {
         "ID": 9,
         "Word": "be",
         "tag": "'VB",
         "_deepnote_index_column": 81
        },
        {
         "ID": 9,
         "Word": "desired",
         "tag": "VBN",
         "_deepnote_index_column": 82
        },
        {
         "ID": 10,
         "Word": "no",
         "tag": "'DT",
         "_deepnote_index_column": 83
        },
        {
         "ID": 10,
         "Word": "longevity",
         "tag": "'NN",
         "_deepnote_index_column": 84
        },
        {
         "ID": 10,
         "Word": "sporadic",
         "tag": "'NN",
         "_deepnote_index_column": 85
        },
        {
         "ID": 10,
         "Word": "functionality",
         "tag": "'NN",
         "_deepnote_index_column": 86
        },
        {
         "ID": 11,
         "Word": "it",
         "tag": "PRP",
         "_deepnote_index_column": 87
        },
        {
         "ID": 11,
         "Word": "must",
         "tag": "'MD",
         "_deepnote_index_column": 88
        },
        {
         "ID": 11,
         "Word": "be",
         "tag": "'VB",
         "_deepnote_index_column": 89
        },
        {
         "ID": 11,
         "Word": "unlocked",
         "tag": "'JJ",
         "_deepnote_index_column": 90
        },
        {
         "ID": 12,
         "Word": "almost",
         "tag": "'RB",
         "_deepnote_index_column": 91
        },
        {
         "ID": 12,
         "Word": "love",
         "tag": "'NN",
         "_deepnote_index_column": 92
        },
        {
         "ID": 12,
         "Word": "it",
         "tag": "PRP",
         "_deepnote_index_column": 93
        },
        {
         "ID": 12,
         "Word": "not",
         "tag": "'RB",
         "_deepnote_index_column": 94
        },
        {
         "ID": 12,
         "Word": "worth",
         "tag": "'NN",
         "_deepnote_index_column": 95
        },
        {
         "ID": 12,
         "Word": "the",
         "tag": "'DT",
         "_deepnote_index_column": 96
        },
        {
         "ID": 12,
         "Word": "price",
         "tag": "'NN",
         "_deepnote_index_column": 97
        },
        {
         "ID": 13,
         "Word": "terrible",
         "tag": "'JJ",
         "_deepnote_index_column": 98
        },
        {
         "ID": 13,
         "Word": "software",
         "tag": "'NN",
         "_deepnote_index_column": 99
        },
        {
         "ID": 13,
         "Word": "and",
         "tag": "'CC",
         "_deepnote_index_column": 100
        },
        {
         "ID": 13,
         "Word": "barely",
         "tag": "'RB",
         "_deepnote_index_column": 101
        },
        {
         "ID": 13,
         "Word": "usable",
         "tag": "'JJ",
         "_deepnote_index_column": 102
        },
        {
         "ID": 14,
         "Word": "mala",
         "tag": "'NN",
         "_deepnote_index_column": 103
        },
        {
         "ID": 14,
         "Word": "resolucion",
         "tag": "'NN",
         "_deepnote_index_column": 104
        },
        {
         "ID": 14,
         "Word": "en",
         "tag": "'NN",
         "_deepnote_index_column": 105
        },
        {
         "ID": 14,
         "Word": "salas",
         "tag": "NNS",
         "_deepnote_index_column": 106
        },
        {
         "ID": 14,
         "Word": "iluminadas",
         "tag": "NNS",
         "_deepnote_index_column": 107
        },
        {
         "ID": 15,
         "Word": "it",
         "tag": "PRP",
         "_deepnote_index_column": 108
        },
        {
         "ID": 15,
         "Word": "does",
         "tag": "VBZ",
         "_deepnote_index_column": 109
        },
        {
         "ID": 15,
         "Word": "not",
         "tag": "'RB",
         "_deepnote_index_column": 110
        },
        {
         "ID": 15,
         "Word": "work",
         "tag": "'NN",
         "_deepnote_index_column": 111
        },
        {
         "ID": 16,
         "Word": "does",
         "tag": "VBZ",
         "_deepnote_index_column": 112
        },
        {
         "ID": 16,
         "Word": "not",
         "tag": "'RB",
         "_deepnote_index_column": 113
        },
        {
         "ID": 16,
         "Word": "work",
         "tag": "'NN",
         "_deepnote_index_column": 114
        },
        {
         "ID": 16,
         "Word": "well",
         "tag": "'RB",
         "_deepnote_index_column": 115
        },
        {
         "ID": 16,
         "Word": "with",
         "tag": "'IN",
         "_deepnote_index_column": 116
        },
        {
         "ID": 16,
         "Word": "airplay",
         "tag": "'NN",
         "_deepnote_index_column": 117
        },
        {
         "ID": 16,
         "Word": "for",
         "tag": "'IN",
         "_deepnote_index_column": 118
        },
        {
         "ID": 16,
         "Word": "ipad",
         "tag": "'NN",
         "_deepnote_index_column": 119
        },
        {
         "ID": 17,
         "Word": "not",
         "tag": "'RB",
         "_deepnote_index_column": 120
        },
        {
         "ID": 17,
         "Word": "what",
         "tag": "'WP",
         "_deepnote_index_column": 121
        },
        {
         "ID": 17,
         "Word": "you",
         "tag": "PRP",
         "_deepnote_index_column": 122
        },
        {
         "ID": 17,
         "Word": "think",
         "tag": "'NN",
         "_deepnote_index_column": 123
        },
        {
         "ID": 18,
         "Word": "was",
         "tag": "VBD",
         "_deepnote_index_column": 124
        },
        {
         "ID": 18,
         "Word": "probably",
         "tag": "'RB",
         "_deepnote_index_column": 125
        },
        {
         "ID": 18,
         "Word": "a",
         "tag": "'DT",
         "_deepnote_index_column": 126
        },
        {
         "ID": 18,
         "Word": "great",
         "tag": "'JJ",
         "_deepnote_index_column": 127
        },
        {
         "ID": 18,
         "Word": "purchase",
         "tag": "'NN",
         "_deepnote_index_column": 128
        },
        {
         "ID": 18,
         "Word": "in",
         "tag": "'IN",
         "_deepnote_index_column": 129
        },
        {
         "ID": 18,
         "Word": "2018",
         "tag": "'CD",
         "_deepnote_index_column": 130
        },
        {
         "ID": 18,
         "Word": "but",
         "tag": "'CC",
         "_deepnote_index_column": 131
        },
        {
         "ID": 18,
         "Word": "there",
         "tag": "'RB",
         "_deepnote_index_column": 132
        },
        {
         "ID": 18,
         "Word": "are",
         "tag": "VBP",
         "_deepnote_index_column": 133
        },
        {
         "ID": 18,
         "Word": "better",
         "tag": "RBR",
         "_deepnote_index_column": 134
        },
        {
         "ID": 18,
         "Word": "options",
         "tag": "NNS",
         "_deepnote_index_column": 135
        },
        {
         "ID": 18,
         "Word": "for",
         "tag": "'IN",
         "_deepnote_index_column": 136
        },
        {
         "ID": 18,
         "Word": "price",
         "tag": "'NN",
         "_deepnote_index_column": 137
        },
        {
         "ID": 18,
         "Word": "in",
         "tag": "'IN",
         "_deepnote_index_column": 138
        },
        {
         "ID": 18,
         "Word": "2021",
         "tag": "'CD",
         "_deepnote_index_column": 139
        },
        {
         "ID": 19,
         "Word": "just",
         "tag": "'RB",
         "_deepnote_index_column": 140
        },
        {
         "ID": 19,
         "Word": "ok",
         "tag": "'NN",
         "_deepnote_index_column": 141
        },
        {
         "ID": 19,
         "Word": "not",
         "tag": "'RB",
         "_deepnote_index_column": 142
        },
        {
         "ID": 19,
         "Word": "great",
         "tag": "'JJ",
         "_deepnote_index_column": 143
        },
        {
         "ID": 20,
         "Word": "not",
         "tag": "'RB",
         "_deepnote_index_column": 144
        },
        {
         "ID": 20,
         "Word": "worth",
         "tag": "'NN",
         "_deepnote_index_column": 145
        },
        {
         "ID": 20,
         "Word": "the",
         "tag": "'DT",
         "_deepnote_index_column": 146
        },
        {
         "ID": 20,
         "Word": "money",
         "tag": "'NN",
         "_deepnote_index_column": 147
        },
        {
         "ID": 21,
         "Word": "look",
         "tag": "'NN",
         "_deepnote_index_column": 148
        },
        {
         "ID": 21,
         "Word": "elsewhere",
         "tag": "'RB",
         "_deepnote_index_column": 149
        },
        {
         "ID": 21,
         "Word": "not",
         "tag": "'RB",
         "_deepnote_index_column": 150
        },
        {
         "ID": 21,
         "Word": "very",
         "tag": "'RB",
         "_deepnote_index_column": 151
        },
        {
         "ID": 21,
         "Word": "bright",
         "tag": "'NN",
         "_deepnote_index_column": 152
        },
        {
         "ID": 21,
         "Word": "and",
         "tag": "'CC",
         "_deepnote_index_column": 153
        },
        {
         "ID": 21,
         "Word": "blurry",
         "tag": "'NN",
         "_deepnote_index_column": 154
        },
        {
         "ID": 21,
         "Word": "edges",
         "tag": "NNS",
         "_deepnote_index_column": 155
        },
        {
         "ID": 22,
         "Word": "disappointed",
         "tag": "'JJ",
         "_deepnote_index_column": 156
        },
        {
         "ID": 22,
         "Word": "and",
         "tag": "'CC",
         "_deepnote_index_column": 157
        },
        {
         "ID": 22,
         "Word": "underwhelmed",
         "tag": "'JJ",
         "_deepnote_index_column": 158
        },
        {
         "ID": 23,
         "Word": "expensive",
         "tag": "'JJ",
         "_deepnote_index_column": 159
        },
        {
         "ID": 23,
         "Word": "bad",
         "tag": "'JJ",
         "_deepnote_index_column": 160
        },
        {
         "ID": 23,
         "Word": "navigation",
         "tag": "'NN",
         "_deepnote_index_column": 161
        },
        {
         "ID": 23,
         "Word": "no",
         "tag": "'DT",
         "_deepnote_index_column": 162
        },
        {
         "ID": 23,
         "Word": "display",
         "tag": "'NN",
         "_deepnote_index_column": 163
        },
        {
         "ID": 23,
         "Word": "resizing",
         "tag": "VBG",
         "_deepnote_index_column": 164
        },
        {
         "ID": 24,
         "Word": "over",
         "tag": "'IN",
         "_deepnote_index_column": 165
        }
       ],
       "rows_bottom": [
        {
         "ID": 260,
         "Word": "",
         "tag": "nan",
         "_deepnote_index_column": 1459
        },
        {
         "ID": 260,
         "Word": "welcome",
         "tag": "'NN",
         "_deepnote_index_column": 1460
        },
        {
         "ID": 260,
         "Word": "to",
         "tag": "'TO",
         "_deepnote_index_column": 1461
        },
        {
         "ID": 260,
         "Word": "dongle",
         "tag": "'NN",
         "_deepnote_index_column": 1462
        },
        {
         "ID": 260,
         "Word": "life",
         "tag": "'NN",
         "_deepnote_index_column": 1463
        },
        {
         "ID": 261,
         "Word": "biggest",
         "tag": "JJS",
         "_deepnote_index_column": 1464
        },
        {
         "ID": 261,
         "Word": "problem",
         "tag": "'NN",
         "_deepnote_index_column": 1465
        },
        {
         "ID": 261,
         "Word": "is",
         "tag": "VBZ",
         "_deepnote_index_column": 1466
        },
        {
         "ID": 261,
         "Word": "low",
         "tag": "'JJ",
         "_deepnote_index_column": 1467
        },
        {
         "ID": 261,
         "Word": "brightness",
         "tag": "'NN",
         "_deepnote_index_column": 1468
        },
        {
         "ID": 262,
         "Word": "with",
         "tag": "'IN",
         "_deepnote_index_column": 1469
        },
        {
         "ID": 262,
         "Word": "this",
         "tag": "'DT",
         "_deepnote_index_column": 1470
        },
        {
         "ID": 262,
         "Word": "cost",
         "tag": "'NN",
         "_deepnote_index_column": 1471
        },
        {
         "ID": 262,
         "Word": "you",
         "tag": "PRP",
         "_deepnote_index_column": 1472
        },
        {
         "ID": 262,
         "Word": "can",
         "tag": "'MD",
         "_deepnote_index_column": 1473
        },
        {
         "ID": 262,
         "Word": "get",
         "tag": "'VB",
         "_deepnote_index_column": 1474
        },
        {
         "ID": 262,
         "Word": "something",
         "tag": "'NN",
         "_deepnote_index_column": 1475
        },
        {
         "ID": 262,
         "Word": "better",
         "tag": "RBR",
         "_deepnote_index_column": 1476
        },
        {
         "ID": 262,
         "Word": "and",
         "tag": "'CC",
         "_deepnote_index_column": 1477
        },
        {
         "ID": 262,
         "Word": "higher",
         "tag": "JJR",
         "_deepnote_index_column": 1478
        },
        {
         "ID": 262,
         "Word": "quality",
         "tag": "'NN",
         "_deepnote_index_column": 1479
        },
        {
         "ID": 263,
         "Word": "do",
         "tag": "'VB",
         "_deepnote_index_column": 1480
        },
        {
         "ID": 263,
         "Word": "not",
         "tag": "'RB",
         "_deepnote_index_column": 1481
        },
        {
         "ID": 263,
         "Word": "buy",
         "tag": "'VB",
         "_deepnote_index_column": 1482
        },
        {
         "ID": 263,
         "Word": "scam",
         "tag": "'NN",
         "_deepnote_index_column": 1483
        },
        {
         "ID": 263,
         "Word": "fake",
         "tag": "'NN",
         "_deepnote_index_column": 1484
        },
        {
         "ID": 263,
         "Word": "trash",
         "tag": "'NN",
         "_deepnote_index_column": 1485
        },
        {
         "ID": 264,
         "Word": "totally",
         "tag": "'RB",
         "_deepnote_index_column": 1486
        },
        {
         "ID": 264,
         "Word": "waste",
         "tag": "'NN",
         "_deepnote_index_column": 1487
        },
        {
         "ID": 264,
         "Word": "product",
         "tag": "'NN",
         "_deepnote_index_column": 1488
        },
        {
         "ID": 265,
         "Word": "an",
         "tag": "'DT",
         "_deepnote_index_column": 1489
        },
        {
         "ID": 265,
         "Word": "under",
         "tag": "'IN",
         "_deepnote_index_column": 1490
        },
        {
         "ID": 265,
         "Word": "baked",
         "tag": "VBN",
         "_deepnote_index_column": 1491
        },
        {
         "ID": 265,
         "Word": "device",
         "tag": "'NN",
         "_deepnote_index_column": 1492
        },
        {
         "ID": 266,
         "Word": "really",
         "tag": "'RB",
         "_deepnote_index_column": 1493
        },
        {
         "ID": 266,
         "Word": "wanted",
         "tag": "VBD",
         "_deepnote_index_column": 1494
        },
        {
         "ID": 266,
         "Word": "to",
         "tag": "'TO",
         "_deepnote_index_column": 1495
        },
        {
         "ID": 266,
         "Word": "like",
         "tag": "'IN",
         "_deepnote_index_column": 1496
        },
        {
         "ID": 266,
         "Word": "it",
         "tag": "PRP",
         "_deepnote_index_column": 1497
        },
        {
         "ID": 266,
         "Word": "but",
         "tag": "'CC",
         "_deepnote_index_column": 1498
        },
        {
         "ID": 267,
         "Word": "terrible",
         "tag": "'JJ",
         "_deepnote_index_column": 1499
        },
        {
         "ID": 267,
         "Word": "software",
         "tag": "'NN",
         "_deepnote_index_column": 1500
        },
        {
         "ID": 267,
         "Word": "on",
         "tag": "'IN",
         "_deepnote_index_column": 1501
        },
        {
         "ID": 267,
         "Word": "pleasant",
         "tag": "'NN",
         "_deepnote_index_column": 1502
        },
        {
         "ID": 267,
         "Word": "hardware",
         "tag": "'NN",
         "_deepnote_index_column": 1503
        },
        {
         "ID": 268,
         "Word": "not",
         "tag": "'RB",
         "_deepnote_index_column": 1504
        },
        {
         "ID": 268,
         "Word": "compatible",
         "tag": "'JJ",
         "_deepnote_index_column": 1505
        },
        {
         "ID": 268,
         "Word": "with",
         "tag": "'IN",
         "_deepnote_index_column": 1506
        },
        {
         "ID": 268,
         "Word": "disney",
         "tag": "'NN",
         "_deepnote_index_column": 1507
        },
        {
         "ID": 268,
         "Word": "plus",
         "tag": "'CC",
         "_deepnote_index_column": 1508
        },
        {
         "ID": 268,
         "Word": "and",
         "tag": "'CC",
         "_deepnote_index_column": 1509
        },
        {
         "ID": 268,
         "Word": "app",
         "tag": "'NN",
         "_deepnote_index_column": 1510
        },
        {
         "ID": 268,
         "Word": "is",
         "tag": "VBZ",
         "_deepnote_index_column": 1511
        },
        {
         "ID": 268,
         "Word": "horrible",
         "tag": "'JJ",
         "_deepnote_index_column": 1512
        },
        {
         "ID": 269,
         "Word": "second",
         "tag": "'JJ",
         "_deepnote_index_column": 1513
        },
        {
         "ID": 269,
         "Word": "one",
         "tag": "'CD",
         "_deepnote_index_column": 1514
        },
        {
         "ID": 269,
         "Word": "since",
         "tag": "'IN",
         "_deepnote_index_column": 1515
        },
        {
         "ID": 269,
         "Word": "november",
         "tag": "'NN",
         "_deepnote_index_column": 1516
        },
        {
         "ID": 270,
         "Word": "cool",
         "tag": "'NN",
         "_deepnote_index_column": 1517
        },
        {
         "ID": 270,
         "Word": "just",
         "tag": "'RB",
         "_deepnote_index_column": 1518
        },
        {
         "ID": 270,
         "Word": "wish",
         "tag": "'NN",
         "_deepnote_index_column": 1519
        },
        {
         "ID": 270,
         "Word": "it",
         "tag": "PRP",
         "_deepnote_index_column": 1520
        },
        {
         "ID": 270,
         "Word": "were",
         "tag": "VBD",
         "_deepnote_index_column": 1521
        },
        {
         "ID": 270,
         "Word": "brighter",
         "tag": "'NN",
         "_deepnote_index_column": 1522
        },
        {
         "ID": 271,
         "Word": "chromecast",
         "tag": "'NN",
         "_deepnote_index_column": 1523
        },
        {
         "ID": 272,
         "Word": "need",
         "tag": "'NN",
         "_deepnote_index_column": 1524
        },
        {
         "ID": 272,
         "Word": "help",
         "tag": "'NN",
         "_deepnote_index_column": 1525
        },
        {
         "ID": 272,
         "Word": "to",
         "tag": "'TO",
         "_deepnote_index_column": 1526
        },
        {
         "ID": 272,
         "Word": "run",
         "tag": "'VB",
         "_deepnote_index_column": 1527
        },
        {
         "ID": 272,
         "Word": "netflix",
         "tag": "'NN",
         "_deepnote_index_column": 1528
        },
        {
         "ID": 273,
         "Word": "missing",
         "tag": "VBG",
         "_deepnote_index_column": 1529
        },
        {
         "ID": 273,
         "Word": "important",
         "tag": "'JJ",
         "_deepnote_index_column": 1530
        },
        {
         "ID": 273,
         "Word": "integrations",
         "tag": "NNS",
         "_deepnote_index_column": 1531
        },
        {
         "ID": 274,
         "Word": "on",
         "tag": "'IN",
         "_deepnote_index_column": 1532
        },
        {
         "ID": 274,
         "Word": "the",
         "tag": "'DT",
         "_deepnote_index_column": 1533
        },
        {
         "ID": 274,
         "Word": "fence",
         "tag": "'NN",
         "_deepnote_index_column": 1534
        },
        {
         "ID": 275,
         "Word": "proyector",
         "tag": "'NN",
         "_deepnote_index_column": 1535
        },
        {
         "ID": 275,
         "Word": "muy",
         "tag": "'NN",
         "_deepnote_index_column": 1536
        },
        {
         "ID": 275,
         "Word": "mediocre",
         "tag": "'NN",
         "_deepnote_index_column": 1537
        },
        {
         "ID": 276,
         "Word": "over",
         "tag": "'IN",
         "_deepnote_index_column": 1538
        },
        {
         "ID": 276,
         "Word": "priced",
         "tag": "VBN",
         "_deepnote_index_column": 1539
        },
        {
         "ID": 277,
         "Word": "expect",
         "tag": "'VB",
         "_deepnote_index_column": 1540
        },
        {
         "ID": 277,
         "Word": "better",
         "tag": "RBR",
         "_deepnote_index_column": 1541
        },
        {
         "ID": 277,
         "Word": "for",
         "tag": "'IN",
         "_deepnote_index_column": 1542
        },
        {
         "ID": 277,
         "Word": "anker",
         "tag": "'NN",
         "_deepnote_index_column": 1543
        },
        {
         "ID": 277,
         "Word": "ruined",
         "tag": "VBN",
         "_deepnote_index_column": 1544
        },
        {
         "ID": 277,
         "Word": "my",
         "tag": "RP$",
         "_deepnote_index_column": 1545
        },
        {
         "ID": 277,
         "Word": "fathers",
         "tag": "NNS",
         "_deepnote_index_column": 1546
        },
        {
         "ID": 277,
         "Word": "day",
         "tag": "'NN",
         "_deepnote_index_column": 1547
        },
        {
         "ID": 278,
         "Word": "disposable",
         "tag": "'JJ",
         "_deepnote_index_column": 1548
        },
        {
         "ID": 278,
         "Word": "projector",
         "tag": "'NN",
         "_deepnote_index_column": 1549
        },
        {
         "ID": 278,
         "Word": "no",
         "tag": "'DT",
         "_deepnote_index_column": 1550
        },
        {
         "ID": 278,
         "Word": "repair",
         "tag": "'NN",
         "_deepnote_index_column": 1551
        },
        {
         "ID": 278,
         "Word": "centers",
         "tag": "NNS",
         "_deepnote_index_column": 1552
        },
        {
         "ID": 278,
         "Word": "in",
         "tag": "'IN",
         "_deepnote_index_column": 1553
        },
        {
         "ID": 278,
         "Word": "usa",
         "tag": "'NN",
         "_deepnote_index_column": 1554
        },
        {
         "ID": 279,
         "Word": "one",
         "tag": "'CD",
         "_deepnote_index_column": 1555
        },
        {
         "ID": 279,
         "Word": "star",
         "tag": "'NN",
         "_deepnote_index_column": 1556
        },
        {
         "ID": 280,
         "Word": "disappointed",
         "tag": "'JJ",
         "_deepnote_index_column": 1557
        },
        {
         "ID": 281,
         "Word": "not",
         "tag": "'RB",
         "_deepnote_index_column": 1558
        },
        {
         "ID": 281,
         "Word": "working",
         "tag": "VBG",
         "_deepnote_index_column": 1559
        },
        {
         "ID": 281,
         "Word": "with",
         "tag": "'IN",
         "_deepnote_index_column": 1560
        },
        {
         "ID": 281,
         "Word": "apps",
         "tag": "'NN",
         "_deepnote_index_column": 1561
        },
        {
         "ID": 281,
         "Word": "that",
         "tag": "'IN",
         "_deepnote_index_column": 1562
        },
        {
         "ID": 281,
         "Word": "i",
         "tag": "'NN",
         "_deepnote_index_column": 1563
        },
        {
         "ID": 281,
         "Word": "am",
         "tag": "VBP",
         "_deepnote_index_column": 1564
        },
        {
         "ID": 281,
         "Word": "watching",
         "tag": "VBG",
         "_deepnote_index_column": 1565
        },
        {
         "ID": 281,
         "Word": "on",
         "tag": "'IN",
         "_deepnote_index_column": 1566
        },
        {
         "ID": 281,
         "Word": "tv",
         "tag": "'NN",
         "_deepnote_index_column": 1567
        },
        {
         "ID": 281,
         "Word": "",
         "tag": "nan",
         "_deepnote_index_column": 1568
        },
        {
         "ID": 282,
         "Word": "thats",
         "tag": "NNS",
         "_deepnote_index_column": 1569
        },
        {
         "ID": 282,
         "Word": "a",
         "tag": "'DT",
         "_deepnote_index_column": 1570
        },
        {
         "ID": 282,
         "Word": "pretty",
         "tag": "'RB",
         "_deepnote_index_column": 1571
        },
        {
         "ID": 282,
         "Word": "big",
         "tag": "'JJ",
         "_deepnote_index_column": 1572
        },
        {
         "ID": 282,
         "Word": "deal",
         "tag": "'NN",
         "_deepnote_index_column": 1573
        },
        {
         "ID": 282,
         "Word": "breaker",
         "tag": "'NN",
         "_deepnote_index_column": 1574
        },
        {
         "ID": 282,
         "Word": "for",
         "tag": "'IN",
         "_deepnote_index_column": 1575
        },
        {
         "ID": 282,
         "Word": "me",
         "tag": "PRP",
         "_deepnote_index_column": 1576
        },
        {
         "ID": 283,
         "Word": "three",
         "tag": "'CD",
         "_deepnote_index_column": 1577
        },
        {
         "ID": 283,
         "Word": "stars",
         "tag": "NNS",
         "_deepnote_index_column": 1578
        },
        {
         "ID": 284,
         "Word": "two",
         "tag": "'CD",
         "_deepnote_index_column": 1579
        },
        {
         "ID": 284,
         "Word": "stars",
         "tag": "NNS",
         "_deepnote_index_column": 1580
        },
        {
         "ID": 285,
         "Word": "really",
         "tag": "'RB",
         "_deepnote_index_column": 1581
        },
        {
         "ID": 285,
         "Word": "amazing",
         "tag": "VBG",
         "_deepnote_index_column": 1582
        },
        {
         "ID": 286,
         "Word": "surely",
         "tag": "'RB",
         "_deepnote_index_column": 1583
        },
        {
         "ID": 286,
         "Word": "its",
         "tag": "RP$",
         "_deepnote_index_column": 1584
        },
        {
         "ID": 286,
         "Word": "wonderful",
         "tag": "'NN",
         "_deepnote_index_column": 1585
        },
        {
         "ID": 286,
         "Word": "and",
         "tag": "'CC",
         "_deepnote_index_column": 1586
        },
        {
         "ID": 286,
         "Word": "all",
         "tag": "'DT",
         "_deepnote_index_column": 1587
        },
        {
         "ID": 287,
         "Word": "lack",
         "tag": "'NN",
         "_deepnote_index_column": 1588
        },
        {
         "ID": 287,
         "Word": "flexibility",
         "tag": "'NN",
         "_deepnote_index_column": 1589
        },
        {
         "ID": 288,
         "Word": "two",
         "tag": "'CD",
         "_deepnote_index_column": 1590
        },
        {
         "ID": 288,
         "Word": "defective",
         "tag": "'JJ",
         "_deepnote_index_column": 1591
        },
        {
         "ID": 288,
         "Word": "units",
         "tag": "NNS",
         "_deepnote_index_column": 1592
        },
        {
         "ID": 288,
         "Word": "right",
         "tag": "'NN",
         "_deepnote_index_column": 1593
        },
        {
         "ID": 288,
         "Word": "out",
         "tag": "'IN",
         "_deepnote_index_column": 1594
        },
        {
         "ID": 288,
         "Word": "of",
         "tag": "'IN",
         "_deepnote_index_column": 1595
        },
        {
         "ID": 288,
         "Word": "the",
         "tag": "'DT",
         "_deepnote_index_column": 1596
        },
        {
         "ID": 288,
         "Word": "box",
         "tag": "'NN",
         "_deepnote_index_column": 1597
        },
        {
         "ID": 288,
         "Word": "not",
         "tag": "'RB",
         "_deepnote_index_column": 1598
        },
        {
         "ID": 288,
         "Word": "good",
         "tag": "'JJ",
         "_deepnote_index_column": 1599
        },
        {
         "ID": 288,
         "Word": "odds",
         "tag": "NNS",
         "_deepnote_index_column": 1600
        },
        {
         "ID": 288,
         "Word": "skip",
         "tag": "'NN",
         "_deepnote_index_column": 1601
        },
        {
         "ID": 288,
         "Word": "this",
         "tag": "'DT",
         "_deepnote_index_column": 1602
        },
        {
         "ID": 288,
         "Word": "product",
         "tag": "'NN",
         "_deepnote_index_column": 1603
        },
        {
         "ID": 289,
         "Word": "low",
         "tag": "'JJ",
         "_deepnote_index_column": 1604
        },
        {
         "ID": 289,
         "Word": "res",
         "tag": "NNS",
         "_deepnote_index_column": 1605
        },
        {
         "ID": 290,
         "Word": "not",
         "tag": "'RB",
         "_deepnote_index_column": 1606
        },
        {
         "ID": 290,
         "Word": "worth",
         "tag": "'NN",
         "_deepnote_index_column": 1607
        },
        {
         "ID": 290,
         "Word": "the",
         "tag": "'DT",
         "_deepnote_index_column": 1608
        },
        {
         "ID": 290,
         "Word": "price",
         "tag": "'NN",
         "_deepnote_index_column": 1609
        },
        {
         "ID": 291,
         "Word": "not",
         "tag": "'RB",
         "_deepnote_index_column": 1610
        },
        {
         "ID": 291,
         "Word": "working",
         "tag": "VBG",
         "_deepnote_index_column": 1611
        },
        {
         "ID": 291,
         "Word": "with",
         "tag": "'IN",
         "_deepnote_index_column": 1612
        },
        {
         "ID": 291,
         "Word": "its",
         "tag": "RP$",
         "_deepnote_index_column": 1613
        },
        {
         "ID": 291,
         "Word": "own",
         "tag": "'JJ",
         "_deepnote_index_column": 1614
        },
        {
         "ID": 291,
         "Word": "twitch",
         "tag": "'NN",
         "_deepnote_index_column": 1615
        },
        {
         "ID": 291,
         "Word": "app",
         "tag": "'NN",
         "_deepnote_index_column": 1616
        },
        {
         "ID": 292,
         "Word": "poco",
         "tag": "'NN",
         "_deepnote_index_column": 1617
        },
        {
         "ID": 292,
         "Word": "brillo",
         "tag": "'NN",
         "_deepnote_index_column": 1618
        },
        {
         "ID": 292,
         "Word": "y",
         "tag": "'NN",
         "_deepnote_index_column": 1619
        },
        {
         "ID": 292,
         "Word": "baja",
         "tag": "'NN",
         "_deepnote_index_column": 1620
        },
        {
         "ID": 292,
         "Word": "resolución",
         "tag": "'NN",
         "_deepnote_index_column": 1621
        },
        {
         "ID": 293,
         "Word": "badluck",
         "tag": "'NN",
         "_deepnote_index_column": 1622
        },
        {
         "ID": 294,
         "Word": "wont",
         "tag": "'NN",
         "_deepnote_index_column": 1623
        },
        {
         "ID": 294,
         "Word": "last",
         "tag": "'JJ",
         "_deepnote_index_column": 1624
        },
        {
         "ID": 294,
         "Word": "long",
         "tag": "'RB",
         "_deepnote_index_column": 1625
        }
       ]
      },
      "text/plain": "       ID        Word  tag\n0       1        read  'NN\n1       1       their  RP$\n2       1     privacy  'NN\n3       1      policy  'NN\n4       1        they  PRP\n...   ...         ...  ...\n1621  292  resolución  'NN\n1622  293     badluck  'NN\n1623  294        wont  'NN\n1624  294        last  'JJ\n1625  294        long  'RB\n\n[1626 rows x 3 columns]",
      "text/html": "<div>\n<style scoped>\n    .dataframe tbody tr th:only-of-type {\n        vertical-align: middle;\n    }\n\n    .dataframe tbody tr th {\n        vertical-align: top;\n    }\n\n    .dataframe thead th {\n        text-align: right;\n    }\n</style>\n<table border=\"1\" class=\"dataframe\">\n  <thead>\n    <tr style=\"text-align: right;\">\n      <th></th>\n      <th>ID</th>\n      <th>Word</th>\n      <th>tag</th>\n    </tr>\n  </thead>\n  <tbody>\n    <tr>\n      <th>0</th>\n      <td>1</td>\n      <td>read</td>\n      <td>'NN</td>\n    </tr>\n    <tr>\n      <th>1</th>\n      <td>1</td>\n      <td>their</td>\n      <td>RP$</td>\n    </tr>\n    <tr>\n      <th>2</th>\n      <td>1</td>\n      <td>privacy</td>\n      <td>'NN</td>\n    </tr>\n    <tr>\n      <th>3</th>\n      <td>1</td>\n      <td>policy</td>\n      <td>'NN</td>\n    </tr>\n    <tr>\n      <th>4</th>\n      <td>1</td>\n      <td>they</td>\n      <td>PRP</td>\n    </tr>\n    <tr>\n      <th>...</th>\n      <td>...</td>\n      <td>...</td>\n      <td>...</td>\n    </tr>\n    <tr>\n      <th>1621</th>\n      <td>292</td>\n      <td>resolución</td>\n      <td>'NN</td>\n    </tr>\n    <tr>\n      <th>1622</th>\n      <td>293</td>\n      <td>badluck</td>\n      <td>'NN</td>\n    </tr>\n    <tr>\n      <th>1623</th>\n      <td>294</td>\n      <td>wont</td>\n      <td>'NN</td>\n    </tr>\n    <tr>\n      <th>1624</th>\n      <td>294</td>\n      <td>last</td>\n      <td>'JJ</td>\n    </tr>\n    <tr>\n      <th>1625</th>\n      <td>294</td>\n      <td>long</td>\n      <td>'RB</td>\n    </tr>\n  </tbody>\n</table>\n<p>1626 rows × 3 columns</p>\n</div>"
     },
     "metadata": {}
    }
   ],
   "execution_count": null
  },
  {
   "cell_type": "code",
   "source": "_deepnote_run_altair(new_df, \"\"\"{\"$schema\":\"https://vega.github.io/schema/vega-lite/v4.json\",\"mark\":{\"type\":\"bar\",\"tooltip\":{\"content\":\"data\"}},\"height\":220,\"autosize\":{\"type\":\"fit\"},\"data\":{\"name\":\"placeholder\"},\"encoding\":{\"x\":{\"field\":\"Word\",\"type\":\"nominal\",\"sort\":{\"field\":\"COUNT(*)\",\"op\":\"count\",\"order\":\"descending\"},\"scale\":{\"type\":\"linear\",\"zero\":false}},\"y\":{\"field\":\"COUNT(*)\",\"type\":\"quantitative\",\"sort\":{\"field\":\"COUNT(*)\",\"op\":\"count\",\"order\":\"descending\"},\"aggregate\":\"count\",\"scale\":{\"type\":\"linear\",\"zero\":true}},\"color\":{\"field\":\"\",\"type\":\"nominal\",\"sort\":null,\"scale\":{\"type\":\"linear\",\"zero\":false}}}}\"\"\")",
   "metadata": {
    "cell_id": "00022-3c4883f8-4c4b-4805-b199-03aa9f98db43",
    "deepnote_variable_name": "new_df",
    "deepnote_visualization_spec": {
     "$schema": "https://vega.github.io/schema/vega-lite/v4.json",
     "mark": {
      "type": "bar",
      "tooltip": {
       "content": "data"
      }
     },
     "height": 220,
     "autosize": {
      "type": "fit"
     },
     "data": {
      "name": "placeholder"
     },
     "encoding": {
      "x": {
       "field": "Word",
       "type": "nominal",
       "sort": {
        "field": "COUNT(*)",
        "op": "count",
        "order": "descending"
       },
       "scale": {
        "type": "linear",
        "zero": false
       }
      },
      "y": {
       "field": "COUNT(*)",
       "type": "quantitative",
       "sort": {
        "field": "COUNT(*)",
        "op": "count",
        "order": "descending"
       },
       "aggregate": "count",
       "scale": {
        "type": "linear",
        "zero": true
       }
      },
      "color": {
       "field": "",
       "type": "nominal",
       "sort": null,
       "scale": {
        "type": "linear",
        "zero": false
       }
      }
     }
    },
    "deepnote_to_be_reexecuted": false,
    "source_hash": "effa23bc",
    "allow_embed": false,
    "execution_start": 1633236480208,
    "execution_millis": 876,
    "deepnote_cell_type": "visualization"
   },
   "outputs": [
    {
     "output_type": "execute_result",
     "execution_count": 21,
     "data": {
      "text/html": "\n<div id=\"altair-viz-6760e6c11a714c6799557200521c78aa\"></div>\n<script type=\"text/javascript\">\n  (function(spec, embedOpt){\n    let outputDiv = document.currentScript.previousElementSibling;\n    if (outputDiv.id !== \"altair-viz-6760e6c11a714c6799557200521c78aa\") {\n      outputDiv = document.getElementById(\"altair-viz-6760e6c11a714c6799557200521c78aa\");\n    }\n    const paths = {\n      \"vega\": \"https://cdn.jsdelivr.net/npm//vega@5?noext\",\n      \"vega-lib\": \"https://cdn.jsdelivr.net/npm//vega-lib?noext\",\n      \"vega-lite\": \"https://cdn.jsdelivr.net/npm//vega-lite@4.8.1?noext\",\n      \"vega-embed\": \"https://cdn.jsdelivr.net/npm//vega-embed@6?noext\",\n    };\n\n    function loadScript(lib) {\n      return new Promise(function(resolve, reject) {\n        var s = document.createElement('script');\n        s.src = paths[lib];\n        s.async = true;\n        s.onload = () => resolve(paths[lib]);\n        s.onerror = () => reject(`Error loading script: ${paths[lib]}`);\n        document.getElementsByTagName(\"head\")[0].appendChild(s);\n      });\n    }\n\n    function showError(err) {\n      outputDiv.innerHTML = `<div class=\"error\" style=\"color:red;\">${err}</div>`;\n      throw err;\n    }\n\n    function displayChart(vegaEmbed) {\n      vegaEmbed(outputDiv, spec, embedOpt)\n        .catch(err => showError(`Javascript Error: ${err.message}<br>This usually means there's a typo in your chart specification. See the javascript console for the full traceback.`));\n    }\n\n    if(typeof define === \"function\" && define.amd) {\n      requirejs.config({paths});\n      require([\"vega-embed\"], displayChart, err => showError(`Error loading script: ${err.message}`));\n    } else if (typeof vegaEmbed === \"function\") {\n      displayChart(vegaEmbed);\n    } else {\n      loadScript(\"vega\")\n        .then(() => loadScript(\"vega-lite\"))\n        .then(() => loadScript(\"vega-embed\"))\n        .catch(showError)\n        .then(() => displayChart(vegaEmbed));\n    }\n  })({\"config\": {\"view\": {\"continuousWidth\": 400, \"continuousHeight\": 300}, \"area\": {\"fill\": \"#51C0E9\"}, \"axis\": {\"labelFont\": \"Inter, sans-serif\", \"labelFontSize\": 12, \"labelFontWeight\": \"normal\", \"labelLimit\": 60, \"labelOverlap\": \"greedy\", \"titleFont\": \"Inter, sans-serif\", \"titleFontSize\": 12, \"titleFontWeight\": \"bold\"}, \"background\": \"#ffffff\", \"legend\": {\"labelFont\": \"Inter, sans-serif\", \"labelFontSize\": 12, \"titleFont\": \"Inter, sans-serif\", \"titleFontSize\": 12, \"titleFontWeight\": \"bold\"}, \"line\": {\"stroke\": \"#51C0E9\", \"strokeWidth\": 2}, \"rect\": {\"fill\": \"#51C0E9\"}, \"title\": {\"anchor\": \"start\", \"color\": \"#000000\", \"font\": \"Inter, sans-serif\", \"fontSize\": 22, \"fontWeight\": \"normal\"}}, \"data\": {\"name\": \"data-ffd42d34b2e907753f7d4489b368b2ee\"}, \"mark\": {\"type\": \"bar\", \"tooltip\": {\"content\": \"data\"}}, \"autosize\": {\"type\": \"fit\"}, \"encoding\": {\"color\": {\"type\": \"nominal\", \"field\": \"\", \"scale\": {\"type\": \"linear\", \"zero\": false}, \"sort\": null}, \"x\": {\"type\": \"nominal\", \"field\": \"Word\", \"scale\": {\"type\": \"linear\", \"zero\": false}, \"sort\": {\"field\": \"COUNT(*)\", \"op\": \"count\", \"order\": \"descending\"}}, \"y\": {\"type\": \"quantitative\", \"aggregate\": \"count\", \"field\": \"COUNT(*)\", \"scale\": {\"type\": \"linear\", \"zero\": true}, \"sort\": {\"field\": \"COUNT(*)\", \"op\": \"count\", \"order\": \"descending\"}}}, \"height\": 300, \"width\": \"container\", \"$schema\": \"https://vega.github.io/schema/vega-lite/v4.json\", \"datasets\": {\"data-ffd42d34b2e907753f7d4489b368b2ee\": [{\"ID\": 1, \"Word\": \"read\", \"pos_tag\": \"[('read', 'NN')]\", \"tag\": \"'NN\"}, {\"ID\": 1, \"Word\": \"their\", \"pos_tag\": \"[('their', 'PRP$')]\", \"tag\": \"RP$\"}, {\"ID\": 1, \"Word\": \"privacy\", \"pos_tag\": \"[('privacy', 'NN')]\", \"tag\": \"'NN\"}, {\"ID\": 1, \"Word\": \"policy\", \"pos_tag\": \"[('policy', 'NN')]\", \"tag\": \"'NN\"}, {\"ID\": 1, \"Word\": \"they\", \"pos_tag\": \"[('they', 'PRP')]\", \"tag\": \"PRP\"}, {\"ID\": 1, \"Word\": \"are\", \"pos_tag\": \"[('are', 'VBP')]\", \"tag\": \"VBP\"}, {\"ID\": 1, \"Word\": \"intrusive\", \"pos_tag\": \"[('intrusive', 'JJ')]\", \"tag\": \"'JJ\"}, {\"ID\": 2, \"Word\": \"great\", \"pos_tag\": \"[('great', 'JJ')]\", \"tag\": \"'JJ\"}, {\"ID\": 2, \"Word\": \"hardware\", \"pos_tag\": \"[('hardware', 'NN')]\", \"tag\": \"'NN\"}, {\"ID\": 2, \"Word\": \"but\", \"pos_tag\": \"[('but', 'CC')]\", \"tag\": \"'CC\"}, {\"ID\": 2, \"Word\": \"software\", \"pos_tag\": \"[('software', 'NN')]\", \"tag\": \"'NN\"}, {\"ID\": 2, \"Word\": \"does\", \"pos_tag\": \"[('does', 'VBZ')]\", \"tag\": \"VBZ\"}, {\"ID\": 2, \"Word\": \"not\", \"pos_tag\": \"[('not', 'RB')]\", \"tag\": \"'RB\"}, {\"ID\": 2, \"Word\": \"work\", \"pos_tag\": \"[('work', 'NN')]\", \"tag\": \"'NN\"}, {\"ID\": 2, \"Word\": \"\", \"pos_tag\": \"[]\", \"tag\": null}, {\"ID\": 2, \"Word\": \"do\", \"pos_tag\": \"[('do', 'VB')]\", \"tag\": \"'VB\"}, {\"ID\": 2, \"Word\": \"not\", \"pos_tag\": \"[('not', 'RB')]\", \"tag\": \"'RB\"}, {\"ID\": 2, \"Word\": \"buy\", \"pos_tag\": \"[('buy', 'VB')]\", \"tag\": \"'VB\"}, {\"ID\": 2, \"Word\": \"unless\", \"pos_tag\": \"[('unless', 'IN')]\", \"tag\": \"'IN\"}, {\"ID\": 2, \"Word\": \"you\", \"pos_tag\": \"[('you', 'PRP')]\", \"tag\": \"PRP\"}, {\"ID\": 2, \"Word\": \"want\", \"pos_tag\": \"[('want', 'NN')]\", \"tag\": \"'NN\"}, {\"ID\": 2, \"Word\": \"to\", \"pos_tag\": \"[('to', 'TO')]\", \"tag\": \"'TO\"}, {\"ID\": 2, \"Word\": \"project\", \"pos_tag\": \"[('project', 'NN')]\", \"tag\": \"'NN\"}, {\"ID\": 2, \"Word\": \"from\", \"pos_tag\": \"[('from', 'IN')]\", \"tag\": \"'IN\"}, {\"ID\": 2, \"Word\": \"hdmi\", \"pos_tag\": \"[('hdmi', 'NN')]\", \"tag\": \"'NN\"}, {\"ID\": 2, \"Word\": \"source\", \"pos_tag\": \"[('source', 'NN')]\", \"tag\": \"'NN\"}, {\"ID\": 2, \"Word\": \"only\", \"pos_tag\": \"[('only', 'RB')]\", \"tag\": \"'RB\"}, {\"ID\": 3, \"Word\": \"i\", \"pos_tag\": \"[('i', 'NN')]\", \"tag\": \"'NN\"}, {\"ID\": 3, \"Word\": \"am\", \"pos_tag\": \"[('am', 'VBP')]\", \"tag\": \"VBP\"}, {\"ID\": 3, \"Word\": \"keeping\", \"pos_tag\": \"[('keeping', 'VBG')]\", \"tag\": \"VBG\"}, {\"ID\": 3, \"Word\": \"it\", \"pos_tag\": \"[('it', 'PRP')]\", \"tag\": \"PRP\"}, {\"ID\": 3, \"Word\": \"but\", \"pos_tag\": \"[('but', 'CC')]\", \"tag\": \"'CC\"}, {\"ID\": 4, \"Word\": \"lies\", \"pos_tag\": \"[('lies', 'NNS')]\", \"tag\": \"NNS\"}, {\"ID\": 5, \"Word\": \"it\", \"pos_tag\": \"[('it', 'PRP')]\", \"tag\": \"PRP\"}, {\"ID\": 5, \"Word\": \"does\", \"pos_tag\": \"[('does', 'VBZ')]\", \"tag\": \"VBZ\"}, {\"ID\": 5, \"Word\": \"not\", \"pos_tag\": \"[('not', 'RB')]\", \"tag\": \"'RB\"}, {\"ID\": 5, \"Word\": \"work\", \"pos_tag\": \"[('work', 'NN')]\", \"tag\": \"'NN\"}, {\"ID\": 5, \"Word\": \"on\", \"pos_tag\": \"[('on', 'IN')]\", \"tag\": \"'IN\"}, {\"ID\": 5, \"Word\": \"most\", \"pos_tag\": \"[('most', 'JJS')]\", \"tag\": \"JJS\"}, {\"ID\": 5, \"Word\": \"formats\", \"pos_tag\": \"[('formats', 'NNS')]\", \"tag\": \"NNS\"}, {\"ID\": 6, \"Word\": \"needs\", \"pos_tag\": \"[('needs', 'NNS')]\", \"tag\": \"NNS\"}, {\"ID\": 6, \"Word\": \"to\", \"pos_tag\": \"[('to', 'TO')]\", \"tag\": \"'TO\"}, {\"ID\": 6, \"Word\": \"be\", \"pos_tag\": \"[('be', 'VB')]\", \"tag\": \"'VB\"}, {\"ID\": 6, \"Word\": \"brighter\", \"pos_tag\": \"[('brighter', 'NN')]\", \"tag\": \"'NN\"}, {\"ID\": 7, \"Word\": \"2\", \"pos_tag\": \"[('2', 'CD')]\", \"tag\": \"'CD\"}, {\"ID\": 7, \"Word\": \"weeks\", \"pos_tag\": \"[('weeks', 'NNS')]\", \"tag\": \"NNS\"}, {\"ID\": 7, \"Word\": \"7\", \"pos_tag\": \"[('7', 'CD')]\", \"tag\": \"'CD\"}, {\"ID\": 7, \"Word\": \"etc\", \"pos_tag\": \"[('etc', 'NN')]\", \"tag\": \"'NN\"}, {\"ID\": 7, \"Word\": \"support\", \"pos_tag\": \"[('support', 'NN')]\", \"tag\": \"'NN\"}, {\"ID\": 7, \"Word\": \"calls\", \"pos_tag\": \"[('calls', 'NNS')]\", \"tag\": \"NNS\"}, {\"ID\": 7, \"Word\": \"and\", \"pos_tag\": \"[('and', 'CC')]\", \"tag\": \"'CC\"}, {\"ID\": 7, \"Word\": \"\", \"pos_tag\": \"[]\", \"tag\": null}, {\"ID\": 7, \"Word\": \"76\", \"pos_tag\": \"[('76', 'CD')]\", \"tag\": \"'CD\"}, {\"ID\": 7, \"Word\": \"worth\", \"pos_tag\": \"[('worth', 'NN')]\", \"tag\": \"'NN\"}, {\"ID\": 7, \"Word\": \"of\", \"pos_tag\": \"[('of', 'IN')]\", \"tag\": \"'IN\"}, {\"ID\": 7, \"Word\": \"hdmi\", \"pos_tag\": \"[('hdmi', 'NN')]\", \"tag\": \"'NN\"}, {\"ID\": 7, \"Word\": \"cables\", \"pos_tag\": \"[('cables', 'NNS')]\", \"tag\": \"NNS\"}, {\"ID\": 7, \"Word\": \"and\", \"pos_tag\": \"[('and', 'CC')]\", \"tag\": \"'CC\"}, {\"ID\": 7, \"Word\": \"connectors\", \"pos_tag\": \"[('connectors', 'NNS')]\", \"tag\": \"NNS\"}, {\"ID\": 7, \"Word\": \"but\", \"pos_tag\": \"[('but', 'CC')]\", \"tag\": \"'CC\"}, {\"ID\": 7, \"Word\": \"still\", \"pos_tag\": \"[('still', 'RB')]\", \"tag\": \"'RB\"}, {\"ID\": 7, \"Word\": \"does\", \"pos_tag\": \"[('does', 'VBZ')]\", \"tag\": \"VBZ\"}, {\"ID\": 7, \"Word\": \"not\", \"pos_tag\": \"[('not', 'RB')]\", \"tag\": \"'RB\"}, {\"ID\": 7, \"Word\": \"work\", \"pos_tag\": \"[('work', 'NN')]\", \"tag\": \"'NN\"}, {\"ID\": 8, \"Word\": \"a\", \"pos_tag\": \"[('a', 'DT')]\", \"tag\": \"'DT\"}, {\"ID\": 8, \"Word\": \"good\", \"pos_tag\": \"[('good', 'JJ')]\", \"tag\": \"'JJ\"}, {\"ID\": 8, \"Word\": \"attempt\", \"pos_tag\": \"[('attempt', 'NN')]\", \"tag\": \"'NN\"}, {\"ID\": 8, \"Word\": \"but\", \"pos_tag\": \"[('but', 'CC')]\", \"tag\": \"'CC\"}, {\"ID\": 8, \"Word\": \"needs\", \"pos_tag\": \"[('needs', 'NNS')]\", \"tag\": \"NNS\"}, {\"ID\": 8, \"Word\": \"improvement\", \"pos_tag\": \"[('improvement', 'NN')]\", \"tag\": \"'NN\"}, {\"ID\": 9, \"Word\": \"lovely\", \"pos_tag\": \"[('lovely', 'RB')]\", \"tag\": \"'RB\"}, {\"ID\": 9, \"Word\": \"outside\", \"pos_tag\": \"[('outside', 'IN')]\", \"tag\": \"'IN\"}, {\"ID\": 9, \"Word\": \"but\", \"pos_tag\": \"[('but', 'CC')]\", \"tag\": \"'CC\"}, {\"ID\": 9, \"Word\": \"the\", \"pos_tag\": \"[('the', 'DT')]\", \"tag\": \"'DT\"}, {\"ID\": 9, \"Word\": \"guts\", \"pos_tag\": \"[('guts', 'NNS')]\", \"tag\": \"NNS\"}, {\"ID\": 9, \"Word\": \"on\", \"pos_tag\": \"[('on', 'IN')]\", \"tag\": \"'IN\"}, {\"ID\": 9, \"Word\": \"this\", \"pos_tag\": \"[('this', 'DT')]\", \"tag\": \"'DT\"}, {\"ID\": 9, \"Word\": \"unit\", \"pos_tag\": \"[('unit', 'NN')]\", \"tag\": \"'NN\"}, {\"ID\": 9, \"Word\": \"leaves\", \"pos_tag\": \"[('leaves', 'NNS')]\", \"tag\": \"NNS\"}, {\"ID\": 9, \"Word\": \"something\", \"pos_tag\": \"[('something', 'NN')]\", \"tag\": \"'NN\"}, {\"ID\": 9, \"Word\": \"to\", \"pos_tag\": \"[('to', 'TO')]\", \"tag\": \"'TO\"}, {\"ID\": 9, \"Word\": \"be\", \"pos_tag\": \"[('be', 'VB')]\", \"tag\": \"'VB\"}, {\"ID\": 9, \"Word\": \"desired\", \"pos_tag\": \"[('desired', 'VBN')]\", \"tag\": \"VBN\"}, {\"ID\": 10, \"Word\": \"no\", \"pos_tag\": \"[('no', 'DT')]\", \"tag\": \"'DT\"}, {\"ID\": 10, \"Word\": \"longevity\", \"pos_tag\": \"[('longevity', 'NN')]\", \"tag\": \"'NN\"}, {\"ID\": 10, \"Word\": \"sporadic\", \"pos_tag\": \"[('sporadic', 'NN')]\", \"tag\": \"'NN\"}, {\"ID\": 10, \"Word\": \"functionality\", \"pos_tag\": \"[('functionality', 'NN')]\", \"tag\": \"'NN\"}, {\"ID\": 11, \"Word\": \"it\", \"pos_tag\": \"[('it', 'PRP')]\", \"tag\": \"PRP\"}, {\"ID\": 11, \"Word\": \"must\", \"pos_tag\": \"[('must', 'MD')]\", \"tag\": \"'MD\"}, {\"ID\": 11, \"Word\": \"be\", \"pos_tag\": \"[('be', 'VB')]\", \"tag\": \"'VB\"}, {\"ID\": 11, \"Word\": \"unlocked\", \"pos_tag\": \"[('unlocked', 'JJ')]\", \"tag\": \"'JJ\"}, {\"ID\": 12, \"Word\": \"almost\", \"pos_tag\": \"[('almost', 'RB')]\", \"tag\": \"'RB\"}, {\"ID\": 12, \"Word\": \"love\", \"pos_tag\": \"[('love', 'NN')]\", \"tag\": \"'NN\"}, {\"ID\": 12, \"Word\": \"it\", \"pos_tag\": \"[('it', 'PRP')]\", \"tag\": \"PRP\"}, {\"ID\": 12, \"Word\": \"not\", \"pos_tag\": \"[('not', 'RB')]\", \"tag\": \"'RB\"}, {\"ID\": 12, \"Word\": \"worth\", \"pos_tag\": \"[('worth', 'NN')]\", \"tag\": \"'NN\"}, {\"ID\": 12, \"Word\": \"the\", \"pos_tag\": \"[('the', 'DT')]\", \"tag\": \"'DT\"}, {\"ID\": 12, \"Word\": \"price\", \"pos_tag\": \"[('price', 'NN')]\", \"tag\": \"'NN\"}, {\"ID\": 13, \"Word\": \"terrible\", \"pos_tag\": \"[('terrible', 'JJ')]\", \"tag\": \"'JJ\"}, {\"ID\": 13, \"Word\": \"software\", \"pos_tag\": \"[('software', 'NN')]\", \"tag\": \"'NN\"}, {\"ID\": 13, \"Word\": \"and\", \"pos_tag\": \"[('and', 'CC')]\", \"tag\": \"'CC\"}, {\"ID\": 13, \"Word\": \"barely\", \"pos_tag\": \"[('barely', 'RB')]\", \"tag\": \"'RB\"}, {\"ID\": 13, \"Word\": \"usable\", \"pos_tag\": \"[('usable', 'JJ')]\", \"tag\": \"'JJ\"}, {\"ID\": 14, \"Word\": \"mala\", \"pos_tag\": \"[('mala', 'NN')]\", \"tag\": \"'NN\"}, {\"ID\": 14, \"Word\": \"resolucion\", \"pos_tag\": \"[('resolucion', 'NN')]\", \"tag\": \"'NN\"}, {\"ID\": 14, \"Word\": \"en\", \"pos_tag\": \"[('en', 'NN')]\", \"tag\": \"'NN\"}, {\"ID\": 14, \"Word\": \"salas\", \"pos_tag\": \"[('salas', 'NNS')]\", \"tag\": \"NNS\"}, {\"ID\": 14, \"Word\": \"iluminadas\", \"pos_tag\": \"[('iluminadas', 'NNS')]\", \"tag\": \"NNS\"}, {\"ID\": 15, \"Word\": \"it\", \"pos_tag\": \"[('it', 'PRP')]\", \"tag\": \"PRP\"}, {\"ID\": 15, \"Word\": \"does\", \"pos_tag\": \"[('does', 'VBZ')]\", \"tag\": \"VBZ\"}, {\"ID\": 15, \"Word\": \"not\", \"pos_tag\": \"[('not', 'RB')]\", \"tag\": \"'RB\"}, {\"ID\": 15, \"Word\": \"work\", \"pos_tag\": \"[('work', 'NN')]\", \"tag\": \"'NN\"}, {\"ID\": 16, \"Word\": \"does\", \"pos_tag\": \"[('does', 'VBZ')]\", \"tag\": \"VBZ\"}, {\"ID\": 16, \"Word\": \"not\", \"pos_tag\": \"[('not', 'RB')]\", \"tag\": \"'RB\"}, {\"ID\": 16, \"Word\": \"work\", \"pos_tag\": \"[('work', 'NN')]\", \"tag\": \"'NN\"}, {\"ID\": 16, \"Word\": \"well\", \"pos_tag\": \"[('well', 'RB')]\", \"tag\": \"'RB\"}, {\"ID\": 16, \"Word\": \"with\", \"pos_tag\": \"[('with', 'IN')]\", \"tag\": \"'IN\"}, {\"ID\": 16, \"Word\": \"airplay\", \"pos_tag\": \"[('airplay', 'NN')]\", \"tag\": \"'NN\"}, {\"ID\": 16, \"Word\": \"for\", \"pos_tag\": \"[('for', 'IN')]\", \"tag\": \"'IN\"}, {\"ID\": 16, \"Word\": \"ipad\", \"pos_tag\": \"[('ipad', 'NN')]\", \"tag\": \"'NN\"}, {\"ID\": 17, \"Word\": \"not\", \"pos_tag\": \"[('not', 'RB')]\", \"tag\": \"'RB\"}, {\"ID\": 17, \"Word\": \"what\", \"pos_tag\": \"[('what', 'WP')]\", \"tag\": \"'WP\"}, {\"ID\": 17, \"Word\": \"you\", \"pos_tag\": \"[('you', 'PRP')]\", \"tag\": \"PRP\"}, {\"ID\": 17, \"Word\": \"think\", \"pos_tag\": \"[('think', 'NN')]\", \"tag\": \"'NN\"}, {\"ID\": 18, \"Word\": \"was\", \"pos_tag\": \"[('was', 'VBD')]\", \"tag\": \"VBD\"}, {\"ID\": 18, \"Word\": \"probably\", \"pos_tag\": \"[('probably', 'RB')]\", \"tag\": \"'RB\"}, {\"ID\": 18, \"Word\": \"a\", \"pos_tag\": \"[('a', 'DT')]\", \"tag\": \"'DT\"}, {\"ID\": 18, \"Word\": \"great\", \"pos_tag\": \"[('great', 'JJ')]\", \"tag\": \"'JJ\"}, {\"ID\": 18, \"Word\": \"purchase\", \"pos_tag\": \"[('purchase', 'NN')]\", \"tag\": \"'NN\"}, {\"ID\": 18, \"Word\": \"in\", \"pos_tag\": \"[('in', 'IN')]\", \"tag\": \"'IN\"}, {\"ID\": 18, \"Word\": \"2018\", \"pos_tag\": \"[('2018', 'CD')]\", \"tag\": \"'CD\"}, {\"ID\": 18, \"Word\": \"but\", \"pos_tag\": \"[('but', 'CC')]\", \"tag\": \"'CC\"}, {\"ID\": 18, \"Word\": \"there\", \"pos_tag\": \"[('there', 'RB')]\", \"tag\": \"'RB\"}, {\"ID\": 18, \"Word\": \"are\", \"pos_tag\": \"[('are', 'VBP')]\", \"tag\": \"VBP\"}, {\"ID\": 18, \"Word\": \"better\", \"pos_tag\": \"[('better', 'RBR')]\", \"tag\": \"RBR\"}, {\"ID\": 18, \"Word\": \"options\", \"pos_tag\": \"[('options', 'NNS')]\", \"tag\": \"NNS\"}, {\"ID\": 18, \"Word\": \"for\", \"pos_tag\": \"[('for', 'IN')]\", \"tag\": \"'IN\"}, {\"ID\": 18, \"Word\": \"price\", \"pos_tag\": \"[('price', 'NN')]\", \"tag\": \"'NN\"}, {\"ID\": 18, \"Word\": \"in\", \"pos_tag\": \"[('in', 'IN')]\", \"tag\": \"'IN\"}, {\"ID\": 18, \"Word\": \"2021\", \"pos_tag\": \"[('2021', 'CD')]\", \"tag\": \"'CD\"}, {\"ID\": 19, \"Word\": \"just\", \"pos_tag\": \"[('just', 'RB')]\", \"tag\": \"'RB\"}, {\"ID\": 19, \"Word\": \"ok\", \"pos_tag\": \"[('ok', 'NN')]\", \"tag\": \"'NN\"}, {\"ID\": 19, \"Word\": \"not\", \"pos_tag\": \"[('not', 'RB')]\", \"tag\": \"'RB\"}, {\"ID\": 19, \"Word\": \"great\", \"pos_tag\": \"[('great', 'JJ')]\", \"tag\": \"'JJ\"}, {\"ID\": 20, \"Word\": \"not\", \"pos_tag\": \"[('not', 'RB')]\", \"tag\": \"'RB\"}, {\"ID\": 20, \"Word\": \"worth\", \"pos_tag\": \"[('worth', 'NN')]\", \"tag\": \"'NN\"}, {\"ID\": 20, \"Word\": \"the\", \"pos_tag\": \"[('the', 'DT')]\", \"tag\": \"'DT\"}, {\"ID\": 20, \"Word\": \"money\", \"pos_tag\": \"[('money', 'NN')]\", \"tag\": \"'NN\"}, {\"ID\": 21, \"Word\": \"look\", \"pos_tag\": \"[('look', 'NN')]\", \"tag\": \"'NN\"}, {\"ID\": 21, \"Word\": \"elsewhere\", \"pos_tag\": \"[('elsewhere', 'RB')]\", \"tag\": \"'RB\"}, {\"ID\": 21, \"Word\": \"not\", \"pos_tag\": \"[('not', 'RB')]\", \"tag\": \"'RB\"}, {\"ID\": 21, \"Word\": \"very\", \"pos_tag\": \"[('very', 'RB')]\", \"tag\": \"'RB\"}, {\"ID\": 21, \"Word\": \"bright\", \"pos_tag\": \"[('bright', 'NN')]\", \"tag\": \"'NN\"}, {\"ID\": 21, \"Word\": \"and\", \"pos_tag\": \"[('and', 'CC')]\", \"tag\": \"'CC\"}, {\"ID\": 21, \"Word\": \"blurry\", \"pos_tag\": \"[('blurry', 'NN')]\", \"tag\": \"'NN\"}, {\"ID\": 21, \"Word\": \"edges\", \"pos_tag\": \"[('edges', 'NNS')]\", \"tag\": \"NNS\"}, {\"ID\": 22, \"Word\": \"disappointed\", \"pos_tag\": \"[('disappointed', 'JJ')]\", \"tag\": \"'JJ\"}, {\"ID\": 22, \"Word\": \"and\", \"pos_tag\": \"[('and', 'CC')]\", \"tag\": \"'CC\"}, {\"ID\": 22, \"Word\": \"underwhelmed\", \"pos_tag\": \"[('underwhelmed', 'JJ')]\", \"tag\": \"'JJ\"}, {\"ID\": 23, \"Word\": \"expensive\", \"pos_tag\": \"[('expensive', 'JJ')]\", \"tag\": \"'JJ\"}, {\"ID\": 23, \"Word\": \"bad\", \"pos_tag\": \"[('bad', 'JJ')]\", \"tag\": \"'JJ\"}, {\"ID\": 23, \"Word\": \"navigation\", \"pos_tag\": \"[('navigation', 'NN')]\", \"tag\": \"'NN\"}, {\"ID\": 23, \"Word\": \"no\", \"pos_tag\": \"[('no', 'DT')]\", \"tag\": \"'DT\"}, {\"ID\": 23, \"Word\": \"display\", \"pos_tag\": \"[('display', 'NN')]\", \"tag\": \"'NN\"}, {\"ID\": 23, \"Word\": \"resizing\", \"pos_tag\": \"[('resizing', 'VBG')]\", \"tag\": \"VBG\"}, {\"ID\": 24, \"Word\": \"over\", \"pos_tag\": \"[('over', 'IN')]\", \"tag\": \"'IN\"}, {\"ID\": 24, \"Word\": \"priced\", \"pos_tag\": \"[('priced', 'VBN')]\", \"tag\": \"VBN\"}, {\"ID\": 24, \"Word\": \"and\", \"pos_tag\": \"[('and', 'CC')]\", \"tag\": \"'CC\"}, {\"ID\": 24, \"Word\": \"poor\", \"pos_tag\": \"[('poor', 'JJ')]\", \"tag\": \"'JJ\"}, {\"ID\": 24, \"Word\": \"quality\", \"pos_tag\": \"[('quality', 'NN')]\", \"tag\": \"'NN\"}, {\"ID\": 25, \"Word\": \"great\", \"pos_tag\": \"[('great', 'JJ')]\", \"tag\": \"'JJ\"}, {\"ID\": 25, \"Word\": \"small\", \"pos_tag\": \"[('small', 'JJ')]\", \"tag\": \"'JJ\"}, {\"ID\": 25, \"Word\": \"projector\", \"pos_tag\": \"[('projector', 'NN')]\", \"tag\": \"'NN\"}, {\"ID\": 26, \"Word\": \"utter\", \"pos_tag\": \"[('utter', 'NN')]\", \"tag\": \"'NN\"}, {\"ID\": 26, \"Word\": \"disappointment\", \"pos_tag\": \"[('disappointment', 'NN')]\", \"tag\": \"'NN\"}, {\"ID\": 26, \"Word\": \"and\", \"pos_tag\": \"[('and', 'CC')]\", \"tag\": \"'CC\"}, {\"ID\": 26, \"Word\": \"waste\", \"pos_tag\": \"[('waste', 'NN')]\", \"tag\": \"'NN\"}, {\"ID\": 26, \"Word\": \"of\", \"pos_tag\": \"[('of', 'IN')]\", \"tag\": \"'IN\"}, {\"ID\": 26, \"Word\": \"money\", \"pos_tag\": \"[('money', 'NN')]\", \"tag\": \"'NN\"}, {\"ID\": 26, \"Word\": \"buy\", \"pos_tag\": \"[('buy', 'VB')]\", \"tag\": \"'VB\"}, {\"ID\": 26, \"Word\": \"a\", \"pos_tag\": \"[('a', 'DT')]\", \"tag\": \"'DT\"}, {\"ID\": 26, \"Word\": \"cheap\", \"pos_tag\": \"[('cheap', 'NN')]\", \"tag\": \"'NN\"}, {\"ID\": 26, \"Word\": \"one\", \"pos_tag\": \"[('one', 'CD')]\", \"tag\": \"'CD\"}, {\"ID\": 26, \"Word\": \"this\", \"pos_tag\": \"[('this', 'DT')]\", \"tag\": \"'DT\"}, {\"ID\": 26, \"Word\": \"one\", \"pos_tag\": \"[('one', 'CD')]\", \"tag\": \"'CD\"}, {\"ID\": 26, \"Word\": \"runs\", \"pos_tag\": \"[('runs', 'NNS')]\", \"tag\": \"NNS\"}, {\"ID\": 26, \"Word\": \"like\", \"pos_tag\": \"[('like', 'IN')]\", \"tag\": \"'IN\"}, {\"ID\": 26, \"Word\": \"it\", \"pos_tag\": \"[('it', 'PRP')]\", \"tag\": \"PRP\"}, {\"ID\": 27, \"Word\": \"brightness\", \"pos_tag\": \"[('brightness', 'NN')]\", \"tag\": \"'NN\"}, {\"ID\": 27, \"Word\": \"and\", \"pos_tag\": \"[('and', 'CC')]\", \"tag\": \"'CC\"}, {\"ID\": 27, \"Word\": \"windows\", \"pos_tag\": \"[('windows', 'NNS')]\", \"tag\": \"NNS\"}, {\"ID\": 27, \"Word\": \"projection\", \"pos_tag\": \"[('projection', 'NN')]\", \"tag\": \"'NN\"}, {\"ID\": 27, \"Word\": \"not\", \"pos_tag\": \"[('not', 'RB')]\", \"tag\": \"'RB\"}, {\"ID\": 27, \"Word\": \"great\", \"pos_tag\": \"[('great', 'JJ')]\", \"tag\": \"'JJ\"}, {\"ID\": 28, \"Word\": \"no\", \"pos_tag\": \"[('no', 'DT')]\", \"tag\": \"'DT\"}, {\"ID\": 28, \"Word\": \"audio\", \"pos_tag\": \"[('audio', 'NN')]\", \"tag\": \"'NN\"}, {\"ID\": 28, \"Word\": \"out\", \"pos_tag\": \"[('out', 'IN')]\", \"tag\": \"'IN\"}, {\"ID\": 29, \"Word\": \"youtube\", \"pos_tag\": \"[('youtube', 'NN')]\", \"tag\": \"'NN\"}, {\"ID\": 29, \"Word\": \"sign\", \"pos_tag\": \"[('sign', 'NN')]\", \"tag\": \"'NN\"}, {\"ID\": 29, \"Word\": \"in\", \"pos_tag\": \"[('in', 'IN')]\", \"tag\": \"'IN\"}, {\"ID\": 29, \"Word\": \"tiptrick\", \"pos_tag\": \"[('tiptrick', 'NN')]\", \"tag\": \"'NN\"}, {\"ID\": 30, \"Word\": \"do\", \"pos_tag\": \"[('do', 'VB')]\", \"tag\": \"'VB\"}, {\"ID\": 30, \"Word\": \"not\", \"pos_tag\": \"[('not', 'RB')]\", \"tag\": \"'RB\"}, {\"ID\": 30, \"Word\": \"do\", \"pos_tag\": \"[('do', 'VB')]\", \"tag\": \"'VB\"}, {\"ID\": 30, \"Word\": \"it\", \"pos_tag\": \"[('it', 'PRP')]\", \"tag\": \"PRP\"}, {\"ID\": 30, \"Word\": \"misleading\", \"pos_tag\": \"[('misleading', 'VBG')]\", \"tag\": \"VBG\"}, {\"ID\": 30, \"Word\": \"reviews\", \"pos_tag\": \"[('reviews', 'NNS')]\", \"tag\": \"NNS\"}, {\"ID\": 31, \"Word\": \"video\", \"pos_tag\": \"[('video', 'NN')]\", \"tag\": \"'NN\"}, {\"ID\": 31, \"Word\": \"is\", \"pos_tag\": \"[('is', 'VBZ')]\", \"tag\": \"VBZ\"}, {\"ID\": 31, \"Word\": \"not\", \"pos_tag\": \"[('not', 'RB')]\", \"tag\": \"'RB\"}, {\"ID\": 31, \"Word\": \"that\", \"pos_tag\": \"[('that', 'IN')]\", \"tag\": \"'IN\"}, {\"ID\": 31, \"Word\": \"sharp\", \"pos_tag\": \"[('sharp', 'JJ')]\", \"tag\": \"'JJ\"}, {\"ID\": 31, \"Word\": \"420p\", \"pos_tag\": \"[('420p', 'CD')]\", \"tag\": \"'CD\"}, {\"ID\": 31, \"Word\": \"but\", \"pos_tag\": \"[('but', 'CC')]\", \"tag\": \"'CC\"}, {\"ID\": 31, \"Word\": \"rest\", \"pos_tag\": \"[('rest', 'NN')]\", \"tag\": \"'NN\"}, {\"ID\": 31, \"Word\": \"is\", \"pos_tag\": \"[('is', 'VBZ')]\", \"tag\": \"VBZ\"}, {\"ID\": 31, \"Word\": \"good\", \"pos_tag\": \"[('good', 'JJ')]\", \"tag\": \"'JJ\"}, {\"ID\": 32, \"Word\": \"does\", \"pos_tag\": \"[('does', 'VBZ')]\", \"tag\": \"VBZ\"}, {\"ID\": 32, \"Word\": \"the\", \"pos_tag\": \"[('the', 'DT')]\", \"tag\": \"'DT\"}, {\"ID\": 32, \"Word\": \"job\", \"pos_tag\": \"[('job', 'NN')]\", \"tag\": \"'NN\"}, {\"ID\": 32, \"Word\": \"but\", \"pos_tag\": \"[('but', 'CC')]\", \"tag\": \"'CC\"}, {\"ID\": 32, \"Word\": \"was\", \"pos_tag\": \"[('was', 'VBD')]\", \"tag\": \"VBD\"}, {\"ID\": 32, \"Word\": \"expecting\", \"pos_tag\": \"[('expecting', 'VBG')]\", \"tag\": \"VBG\"}, {\"ID\": 32, \"Word\": \"more\", \"pos_tag\": \"[('more', 'RBR')]\", \"tag\": \"RBR\"}, {\"ID\": 33, \"Word\": \"compared\", \"pos_tag\": \"[('compared', 'VBN')]\", \"tag\": \"VBN\"}, {\"ID\": 33, \"Word\": \"to\", \"pos_tag\": \"[('to', 'TO')]\", \"tag\": \"'TO\"}, {\"ID\": 33, \"Word\": \"others\", \"pos_tag\": \"[('others', 'NNS')]\", \"tag\": \"NNS\"}, {\"ID\": 33, \"Word\": \"at\", \"pos_tag\": \"[('at', 'IN')]\", \"tag\": \"'IN\"}, {\"ID\": 33, \"Word\": \"the\", \"pos_tag\": \"[('the', 'DT')]\", \"tag\": \"'DT\"}, {\"ID\": 33, \"Word\": \"same\", \"pos_tag\": \"[('same', 'JJ')]\", \"tag\": \"'JJ\"}, {\"ID\": 33, \"Word\": \"price\", \"pos_tag\": \"[('price', 'NN')]\", \"tag\": \"'NN\"}, {\"ID\": 33, \"Word\": \"point\", \"pos_tag\": \"[('point', 'NN')]\", \"tag\": \"'NN\"}, {\"ID\": 33, \"Word\": \"disappointed\", \"pos_tag\": \"[('disappointed', 'JJ')]\", \"tag\": \"'JJ\"}, {\"ID\": 34, \"Word\": \"does\", \"pos_tag\": \"[('does', 'VBZ')]\", \"tag\": \"VBZ\"}, {\"ID\": 34, \"Word\": \"not\", \"pos_tag\": \"[('not', 'RB')]\", \"tag\": \"'RB\"}, {\"ID\": 34, \"Word\": \"really\", \"pos_tag\": \"[('really', 'RB')]\", \"tag\": \"'RB\"}, {\"ID\": 34, \"Word\": \"screen\", \"pos_tag\": \"[('screen', 'NN')]\", \"tag\": \"'NN\"}, {\"ID\": 34, \"Word\": \"mirror\", \"pos_tag\": \"[('mirror', 'NN')]\", \"tag\": \"'NN\"}, {\"ID\": 35, \"Word\": \"many\", \"pos_tag\": \"[('many', 'JJ')]\", \"tag\": \"'JJ\"}, {\"ID\": 35, \"Word\": \"many\", \"pos_tag\": \"[('many', 'JJ')]\", \"tag\": \"'JJ\"}, {\"ID\": 35, \"Word\": \"reasons\", \"pos_tag\": \"[('reasons', 'NNS')]\", \"tag\": \"NNS\"}, {\"ID\": 35, \"Word\": \"to\", \"pos_tag\": \"[('to', 'TO')]\", \"tag\": \"'TO\"}, {\"ID\": 35, \"Word\": \"move\", \"pos_tag\": \"[('move', 'NN')]\", \"tag\": \"'NN\"}, {\"ID\": 35, \"Word\": \"on\", \"pos_tag\": \"[('on', 'IN')]\", \"tag\": \"'IN\"}, {\"ID\": 35, \"Word\": \"\", \"pos_tag\": \"[]\", \"tag\": null}, {\"ID\": 35, \"Word\": \"this\", \"pos_tag\": \"[('this', 'DT')]\", \"tag\": \"'DT\"}, {\"ID\": 35, \"Word\": \"sucks\", \"pos_tag\": \"[('sucks', 'NNS')]\", \"tag\": \"NNS\"}, {\"ID\": 36, \"Word\": \"be\", \"pos_tag\": \"[('be', 'VB')]\", \"tag\": \"'VB\"}, {\"ID\": 36, \"Word\": \"prepared\", \"pos_tag\": \"[('prepared', 'JJ')]\", \"tag\": \"'JJ\"}, {\"ID\": 36, \"Word\": \"to\", \"pos_tag\": \"[('to', 'TO')]\", \"tag\": \"'TO\"}, {\"ID\": 36, \"Word\": \"never\", \"pos_tag\": \"[('never', 'RB')]\", \"tag\": \"'RB\"}, {\"ID\": 36, \"Word\": \"actually\", \"pos_tag\": \"[('actually', 'RB')]\", \"tag\": \"'RB\"}, {\"ID\": 36, \"Word\": \"watch\", \"pos_tag\": \"[('watch', 'NN')]\", \"tag\": \"'NN\"}, {\"ID\": 36, \"Word\": \"anything\", \"pos_tag\": \"[('anything', 'NN')]\", \"tag\": \"'NN\"}, {\"ID\": 36, \"Word\": \"on\", \"pos_tag\": \"[('on', 'IN')]\", \"tag\": \"'IN\"}, {\"ID\": 36, \"Word\": \"it\", \"pos_tag\": \"[('it', 'PRP')]\", \"tag\": \"PRP\"}, {\"ID\": 37, \"Word\": \"awful\", \"pos_tag\": \"[('awful', 'NN')]\", \"tag\": \"'NN\"}, {\"ID\": 37, \"Word\": \"device\", \"pos_tag\": \"[('device', 'NN')]\", \"tag\": \"'NN\"}, {\"ID\": 37, \"Word\": \"that\", \"pos_tag\": \"[('that', 'IN')]\", \"tag\": \"'IN\"}, {\"ID\": 37, \"Word\": \"does\", \"pos_tag\": \"[('does', 'VBZ')]\", \"tag\": \"VBZ\"}, {\"ID\": 37, \"Word\": \"not\", \"pos_tag\": \"[('not', 'RB')]\", \"tag\": \"'RB\"}, {\"ID\": 37, \"Word\": \"work\", \"pos_tag\": \"[('work', 'NN')]\", \"tag\": \"'NN\"}, {\"ID\": 38, \"Word\": \"low\", \"pos_tag\": \"[('low', 'JJ')]\", \"tag\": \"'JJ\"}, {\"ID\": 38, \"Word\": \"quality\", \"pos_tag\": \"[('quality', 'NN')]\", \"tag\": \"'NN\"}, {\"ID\": 38, \"Word\": \"item\", \"pos_tag\": \"[('item', 'NN')]\", \"tag\": \"'NN\"}, {\"ID\": 38, \"Word\": \"died\", \"pos_tag\": \"[('died', 'VBD')]\", \"tag\": \"VBD\"}, {\"ID\": 38, \"Word\": \"after\", \"pos_tag\": \"[('after', 'IN')]\", \"tag\": \"'IN\"}, {\"ID\": 38, \"Word\": \"22\", \"pos_tag\": \"[('22', 'CD')]\", \"tag\": \"'CD\"}, {\"ID\": 38, \"Word\": \"months\", \"pos_tag\": \"[('months', 'NNS')]\", \"tag\": \"NNS\"}, {\"ID\": 38, \"Word\": \"with\", \"pos_tag\": \"[('with', 'IN')]\", \"tag\": \"'IN\"}, {\"ID\": 38, \"Word\": \"very\", \"pos_tag\": \"[('very', 'RB')]\", \"tag\": \"'RB\"}, {\"ID\": 38, \"Word\": \"light\", \"pos_tag\": \"[('light', 'NN')]\", \"tag\": \"'NN\"}, {\"ID\": 38, \"Word\": \"usage\", \"pos_tag\": \"[('usage', 'NN')]\", \"tag\": \"'NN\"}, {\"ID\": 39, \"Word\": \"more\", \"pos_tag\": \"[('more', 'RBR')]\", \"tag\": \"RBR\"}, {\"ID\": 39, \"Word\": \"looks\", \"pos_tag\": \"[('looks', 'NNS')]\", \"tag\": \"NNS\"}, {\"ID\": 39, \"Word\": \"than\", \"pos_tag\": \"[('than', 'IN')]\", \"tag\": \"'IN\"}, {\"ID\": 39, \"Word\": \"longevity\", \"pos_tag\": \"[('longevity', 'NN')]\", \"tag\": \"'NN\"}, {\"ID\": 39, \"Word\": \"buy\", \"pos_tag\": \"[('buy', 'VB')]\", \"tag\": \"'VB\"}, {\"ID\": 39, \"Word\": \"the\", \"pos_tag\": \"[('the', 'DT')]\", \"tag\": \"'DT\"}, {\"ID\": 39, \"Word\": \"extended\", \"pos_tag\": \"[('extended', 'VBN')]\", \"tag\": \"VBN\"}, {\"ID\": 39, \"Word\": \"warranty\", \"pos_tag\": \"[('warranty', 'NN')]\", \"tag\": \"'NN\"}, {\"ID\": 40, \"Word\": \"great\", \"pos_tag\": \"[('great', 'JJ')]\", \"tag\": \"'JJ\"}, {\"ID\": 40, \"Word\": \"video\", \"pos_tag\": \"[('video', 'NN')]\", \"tag\": \"'NN\"}, {\"ID\": 40, \"Word\": \"but\", \"pos_tag\": \"[('but', 'CC')]\", \"tag\": \"'CC\"}, {\"ID\": 40, \"Word\": \"very\", \"pos_tag\": \"[('very', 'RB')]\", \"tag\": \"'RB\"}, {\"ID\": 40, \"Word\": \"disappointing\", \"pos_tag\": \"[('disappointing', 'VBG')]\", \"tag\": \"VBG\"}, {\"ID\": 41, \"Word\": \"the\", \"pos_tag\": \"[('the', 'DT')]\", \"tag\": \"'DT\"}, {\"ID\": 41, \"Word\": \"product\", \"pos_tag\": \"[('product', 'NN')]\", \"tag\": \"'NN\"}, {\"ID\": 41, \"Word\": \"picture\", \"pos_tag\": \"[('picture', 'NN')]\", \"tag\": \"'NN\"}, {\"ID\": 41, \"Word\": \"quality\", \"pos_tag\": \"[('quality', 'NN')]\", \"tag\": \"'NN\"}, {\"ID\": 41, \"Word\": \"is\", \"pos_tag\": \"[('is', 'VBZ')]\", \"tag\": \"VBZ\"}, {\"ID\": 41, \"Word\": \"bad\", \"pos_tag\": \"[('bad', 'JJ')]\", \"tag\": \"'JJ\"}, {\"ID\": 42, \"Word\": \"expensive\", \"pos_tag\": \"[('expensive', 'JJ')]\", \"tag\": \"'JJ\"}, {\"ID\": 42, \"Word\": \"toy\", \"pos_tag\": \"[('toy', 'NN')]\", \"tag\": \"'NN\"}, {\"ID\": 42, \"Word\": \"not\", \"pos_tag\": \"[('not', 'RB')]\", \"tag\": \"'RB\"}, {\"ID\": 42, \"Word\": \"much\", \"pos_tag\": \"[('much', 'JJ')]\", \"tag\": \"'JJ\"}, {\"ID\": 42, \"Word\": \"application\", \"pos_tag\": \"[('application', 'NN')]\", \"tag\": \"'NN\"}, {\"ID\": 42, \"Word\": \"for\", \"pos_tag\": \"[('for', 'IN')]\", \"tag\": \"'IN\"}, {\"ID\": 42, \"Word\": \"it\", \"pos_tag\": \"[('it', 'PRP')]\", \"tag\": \"PRP\"}, {\"ID\": 43, \"Word\": \"a\", \"pos_tag\": \"[('a', 'DT')]\", \"tag\": \"'DT\"}, {\"ID\": 43, \"Word\": \"complete\", \"pos_tag\": \"[('complete', 'JJ')]\", \"tag\": \"'JJ\"}, {\"ID\": 43, \"Word\": \"mess\", \"pos_tag\": \"[('mess', 'NN')]\", \"tag\": \"'NN\"}, {\"ID\": 43, \"Word\": \"filled\", \"pos_tag\": \"[('filled', 'VBN')]\", \"tag\": \"VBN\"}, {\"ID\": 43, \"Word\": \"with\", \"pos_tag\": \"[('with', 'IN')]\", \"tag\": \"'IN\"}, {\"ID\": 43, \"Word\": \"issues\", \"pos_tag\": \"[('issues', 'NNS')]\", \"tag\": \"NNS\"}, {\"ID\": 43, \"Word\": \"not\", \"pos_tag\": \"[('not', 'RB')]\", \"tag\": \"'RB\"}, {\"ID\": 43, \"Word\": \"worth\", \"pos_tag\": \"[('worth', 'NN')]\", \"tag\": \"'NN\"}, {\"ID\": 43, \"Word\": \"price\", \"pos_tag\": \"[('price', 'NN')]\", \"tag\": \"'NN\"}, {\"ID\": 44, \"Word\": \"disappointed\", \"pos_tag\": \"[('disappointed', 'JJ')]\", \"tag\": \"'JJ\"}, {\"ID\": 44, \"Word\": \"by\", \"pos_tag\": \"[('by', 'IN')]\", \"tag\": \"'IN\"}, {\"ID\": 44, \"Word\": \"selling\", \"pos_tag\": \"[('selling', 'VBG')]\", \"tag\": \"VBG\"}, {\"ID\": 44, \"Word\": \"used\", \"pos_tag\": \"[('used', 'VBN')]\", \"tag\": \"VBN\"}, {\"ID\": 44, \"Word\": \"item\", \"pos_tag\": \"[('item', 'NN')]\", \"tag\": \"'NN\"}, {\"ID\": 45, \"Word\": \"well\", \"pos_tag\": \"[('well', 'RB')]\", \"tag\": \"'RB\"}, {\"ID\": 45, \"Word\": \"manufactured\", \"pos_tag\": \"[('manufactured', 'VBD')]\", \"tag\": \"VBD\"}, {\"ID\": 45, \"Word\": \"disappointing\", \"pos_tag\": \"[('disappointing', 'VBG')]\", \"tag\": \"VBG\"}, {\"ID\": 45, \"Word\": \"audio\", \"pos_tag\": \"[('audio', 'NN')]\", \"tag\": \"'NN\"}, {\"ID\": 46, \"Word\": \"i\", \"pos_tag\": \"[('i', 'NN')]\", \"tag\": \"'NN\"}, {\"ID\": 46, \"Word\": \"got\", \"pos_tag\": \"[('got', 'VBD')]\", \"tag\": \"VBD\"}, {\"ID\": 46, \"Word\": \"original\", \"pos_tag\": \"[('original', 'JJ')]\", \"tag\": \"'JJ\"}, {\"ID\": 46, \"Word\": \"version\", \"pos_tag\": \"[('version', 'NN')]\", \"tag\": \"'NN\"}, {\"ID\": 46, \"Word\": \"and\", \"pos_tag\": \"[('and', 'CC')]\", \"tag\": \"'CC\"}, {\"ID\": 46, \"Word\": \"not\", \"pos_tag\": \"[('not', 'RB')]\", \"tag\": \"'RB\"}, {\"ID\": 46, \"Word\": \"the\", \"pos_tag\": \"[('the', 'DT')]\", \"tag\": \"'DT\"}, {\"ID\": 46, \"Word\": \"capsule\", \"pos_tag\": \"[('capsule', 'NN')]\", \"tag\": \"'NN\"}, {\"ID\": 46, \"Word\": \"ii\", \"pos_tag\": \"[('ii', 'NN')]\", \"tag\": \"'NN\"}, {\"ID\": 47, \"Word\": \"apple\", \"pos_tag\": \"[('apple', 'NN')]\", \"tag\": \"'NN\"}, {\"ID\": 47, \"Word\": \"compatibility\", \"pos_tag\": \"[('compatibility', 'NN')]\", \"tag\": \"'NN\"}, {\"ID\": 47, \"Word\": \"lacking\", \"pos_tag\": \"[('lacking', 'VBG')]\", \"tag\": \"VBG\"}, {\"ID\": 48, \"Word\": \"dont\", \"pos_tag\": \"[('dont', 'NN')]\", \"tag\": \"'NN\"}, {\"ID\": 48, \"Word\": \"buy\", \"pos_tag\": \"[('buy', 'VB')]\", \"tag\": \"'VB\"}, {\"ID\": 48, \"Word\": \"this\", \"pos_tag\": \"[('this', 'DT')]\", \"tag\": \"'DT\"}, {\"ID\": 48, \"Word\": \"product\", \"pos_tag\": \"[('product', 'NN')]\", \"tag\": \"'NN\"}, {\"ID\": 49, \"Word\": \"cool\", \"pos_tag\": \"[('cool', 'NN')]\", \"tag\": \"'NN\"}, {\"ID\": 49, \"Word\": \"idea\", \"pos_tag\": \"[('idea', 'NN')]\", \"tag\": \"'NN\"}, {\"ID\": 49, \"Word\": \"great\", \"pos_tag\": \"[('great', 'JJ')]\", \"tag\": \"'JJ\"}, {\"ID\": 49, \"Word\": \"design\", \"pos_tag\": \"[('design', 'NN')]\", \"tag\": \"'NN\"}, {\"ID\": 49, \"Word\": \"bad\", \"pos_tag\": \"[('bad', 'JJ')]\", \"tag\": \"'JJ\"}, {\"ID\": 49, \"Word\": \"execution\", \"pos_tag\": \"[('execution', 'NN')]\", \"tag\": \"'NN\"}, {\"ID\": 50, \"Word\": \"garbage\", \"pos_tag\": \"[('garbage', 'NN')]\", \"tag\": \"'NN\"}, {\"ID\": 51, \"Word\": \"great\", \"pos_tag\": \"[('great', 'JJ')]\", \"tag\": \"'JJ\"}, {\"ID\": 51, \"Word\": \"size\", \"pos_tag\": \"[('size', 'NN')]\", \"tag\": \"'NN\"}, {\"ID\": 51, \"Word\": \"terrible\", \"pos_tag\": \"[('terrible', 'JJ')]\", \"tag\": \"'JJ\"}, {\"ID\": 51, \"Word\": \"software\", \"pos_tag\": \"[('software', 'NN')]\", \"tag\": \"'NN\"}, {\"ID\": 51, \"Word\": \"and\", \"pos_tag\": \"[('and', 'CC')]\", \"tag\": \"'CC\"}, {\"ID\": 51, \"Word\": \"connection\", \"pos_tag\": \"[('connection', 'NN')]\", \"tag\": \"'NN\"}, {\"ID\": 51, \"Word\": \"ports\", \"pos_tag\": \"[('ports', 'NNS')]\", \"tag\": \"NNS\"}, {\"ID\": 51, \"Word\": \"lacking\", \"pos_tag\": \"[('lacking', 'VBG')]\", \"tag\": \"VBG\"}, {\"ID\": 52, \"Word\": \"send\", \"pos_tag\": \"[('send', 'NN')]\", \"tag\": \"'NN\"}, {\"ID\": 52, \"Word\": \"me\", \"pos_tag\": \"[('me', 'PRP')]\", \"tag\": \"PRP\"}, {\"ID\": 52, \"Word\": \"my\", \"pos_tag\": \"[('my', 'PRP$')]\", \"tag\": \"RP$\"}, {\"ID\": 52, \"Word\": \"money\", \"pos_tag\": \"[('money', 'NN')]\", \"tag\": \"'NN\"}, {\"ID\": 52, \"Word\": \"back\", \"pos_tag\": \"[('back', 'RB')]\", \"tag\": \"'RB\"}, {\"ID\": 52, \"Word\": \"please\", \"pos_tag\": \"[('please', 'NN')]\", \"tag\": \"'NN\"}, {\"ID\": 53, \"Word\": \"save\", \"pos_tag\": \"[('save', 'VB')]\", \"tag\": \"'VB\"}, {\"ID\": 53, \"Word\": \"your\", \"pos_tag\": \"[('your', 'PRP$')]\", \"tag\": \"RP$\"}, {\"ID\": 53, \"Word\": \"money\", \"pos_tag\": \"[('money', 'NN')]\", \"tag\": \"'NN\"}, {\"ID\": 53, \"Word\": \"do\", \"pos_tag\": \"[('do', 'VB')]\", \"tag\": \"'VB\"}, {\"ID\": 53, \"Word\": \"not\", \"pos_tag\": \"[('not', 'RB')]\", \"tag\": \"'RB\"}, {\"ID\": 53, \"Word\": \"buy\", \"pos_tag\": \"[('buy', 'VB')]\", \"tag\": \"'VB\"}, {\"ID\": 53, \"Word\": \"this\", \"pos_tag\": \"[('this', 'DT')]\", \"tag\": \"'DT\"}, {\"ID\": 53, \"Word\": \"junk\", \"pos_tag\": \"[('junk', 'NN')]\", \"tag\": \"'NN\"}, {\"ID\": 54, \"Word\": \"not\", \"pos_tag\": \"[('not', 'RB')]\", \"tag\": \"'RB\"}, {\"ID\": 54, \"Word\": \"as\", \"pos_tag\": \"[('as', 'IN')]\", \"tag\": \"'IN\"}, {\"ID\": 54, \"Word\": \"described\", \"pos_tag\": \"[('described', 'NN')]\", \"tag\": \"'NN\"}, {\"ID\": 55, \"Word\": \"it\", \"pos_tag\": \"[('it', 'PRP')]\", \"tag\": \"PRP\"}, {\"ID\": 55, \"Word\": \"is\", \"pos_tag\": \"[('is', 'VBZ')]\", \"tag\": \"VBZ\"}, {\"ID\": 55, \"Word\": \"is\", \"pos_tag\": \"[('is', 'VBZ')]\", \"tag\": \"VBZ\"}, {\"ID\": 55, \"Word\": \"a\", \"pos_tag\": \"[('a', 'DT')]\", \"tag\": \"'DT\"}, {\"ID\": 55, \"Word\": \"toy\", \"pos_tag\": \"[('toy', 'NN')]\", \"tag\": \"'NN\"}, {\"ID\": 56, \"Word\": \"very\", \"pos_tag\": \"[('very', 'RB')]\", \"tag\": \"'RB\"}, {\"ID\": 56, \"Word\": \"dim\", \"pos_tag\": \"[('dim', 'NN')]\", \"tag\": \"'NN\"}, {\"ID\": 57, \"Word\": \"stops\", \"pos_tag\": \"[('stops', 'NNS')]\", \"tag\": \"NNS\"}, {\"ID\": 57, \"Word\": \"working\", \"pos_tag\": \"[('working', 'VBG')]\", \"tag\": \"VBG\"}, {\"ID\": 57, \"Word\": \"after\", \"pos_tag\": \"[('after', 'IN')]\", \"tag\": \"'IN\"}, {\"ID\": 57, \"Word\": \"about\", \"pos_tag\": \"[('about', 'IN')]\", \"tag\": \"'IN\"}, {\"ID\": 57, \"Word\": \"a\", \"pos_tag\": \"[('a', 'DT')]\", \"tag\": \"'DT\"}, {\"ID\": 57, \"Word\": \"year\", \"pos_tag\": \"[('year', 'NN')]\", \"tag\": \"'NN\"}, {\"ID\": 58, \"Word\": \"not\", \"pos_tag\": \"[('not', 'RB')]\", \"tag\": \"'RB\"}, {\"ID\": 58, \"Word\": \"very\", \"pos_tag\": \"[('very', 'RB')]\", \"tag\": \"'RB\"}, {\"ID\": 58, \"Word\": \"bright\", \"pos_tag\": \"[('bright', 'NN')]\", \"tag\": \"'NN\"}, {\"ID\": 58, \"Word\": \"but\", \"pos_tag\": \"[('but', 'CC')]\", \"tag\": \"'CC\"}, {\"ID\": 58, \"Word\": \"good\", \"pos_tag\": \"[('good', 'JJ')]\", \"tag\": \"'JJ\"}, {\"ID\": 58, \"Word\": \"in\", \"pos_tag\": \"[('in', 'IN')]\", \"tag\": \"'IN\"}, {\"ID\": 58, \"Word\": \"dark\", \"pos_tag\": \"[('dark', 'NN')]\", \"tag\": \"'NN\"}, {\"ID\": 58, \"Word\": \"room\", \"pos_tag\": \"[('room', 'NN')]\", \"tag\": \"'NN\"}, {\"ID\": 59, \"Word\": \"high\", \"pos_tag\": \"[('high', 'JJ')]\", \"tag\": \"'JJ\"}, {\"ID\": 59, \"Word\": \"hopes\", \"pos_tag\": \"[('hopes', 'NNS')]\", \"tag\": \"NNS\"}, {\"ID\": 59, \"Word\": \"but\", \"pos_tag\": \"[('but', 'CC')]\", \"tag\": \"'CC\"}, {\"ID\": 59, \"Word\": \"disappointed\", \"pos_tag\": \"[('disappointed', 'JJ')]\", \"tag\": \"'JJ\"}, {\"ID\": 59, \"Word\": \"limiting\", \"pos_tag\": \"[('limiting', 'VBG')]\", \"tag\": \"VBG\"}, {\"ID\": 59, \"Word\": \"hardware\", \"pos_tag\": \"[('hardware', 'NN')]\", \"tag\": \"'NN\"}, {\"ID\": 59, \"Word\": \"and\", \"pos_tag\": \"[('and', 'CC')]\", \"tag\": \"'CC\"}, {\"ID\": 59, \"Word\": \"software\", \"pos_tag\": \"[('software', 'NN')]\", \"tag\": \"'NN\"}, {\"ID\": 60, \"Word\": \"not\", \"pos_tag\": \"[('not', 'RB')]\", \"tag\": \"'RB\"}, {\"ID\": 60, \"Word\": \"good\", \"pos_tag\": \"[('good', 'JJ')]\", \"tag\": \"'JJ\"}, {\"ID\": 60, \"Word\": \"enough\", \"pos_tag\": \"[('enough', 'RB')]\", \"tag\": \"'RB\"}, {\"ID\": 61, \"Word\": \"solid\", \"pos_tag\": \"[('solid', 'JJ')]\", \"tag\": \"'JJ\"}, {\"ID\": 61, \"Word\": \"performance\", \"pos_tag\": \"[('performance', 'NN')]\", \"tag\": \"'NN\"}, {\"ID\": 61, \"Word\": \"limited\", \"pos_tag\": \"[('limited', 'JJ')]\", \"tag\": \"'JJ\"}, {\"ID\": 61, \"Word\": \"apps\", \"pos_tag\": \"[('apps', 'NN')]\", \"tag\": \"'NN\"}, {\"ID\": 62, \"Word\": \"limited\", \"pos_tag\": \"[('limited', 'JJ')]\", \"tag\": \"'JJ\"}, {\"ID\": 62, \"Word\": \"capabilities\", \"pos_tag\": \"[('capabilities', 'NNS')]\", \"tag\": \"NNS\"}, {\"ID\": 63, \"Word\": \"not\", \"pos_tag\": \"[('not', 'RB')]\", \"tag\": \"'RB\"}, {\"ID\": 63, \"Word\": \"happy\", \"pos_tag\": \"[('happy', 'JJ')]\", \"tag\": \"'JJ\"}, {\"ID\": 64, \"Word\": \"okaybut\", \"pos_tag\": \"[('okaybut', 'NN')]\", \"tag\": \"'NN\"}, {\"ID\": 64, \"Word\": \"photos\", \"pos_tag\": \"[('photos', 'NNS')]\", \"tag\": \"NNS\"}, {\"ID\": 64, \"Word\": \"are\", \"pos_tag\": \"[('are', 'VBP')]\", \"tag\": \"VBP\"}, {\"ID\": 64, \"Word\": \"deceiving\", \"pos_tag\": \"[('deceiving', 'VBG')]\", \"tag\": \"VBG\"}, {\"ID\": 65, \"Word\": \"bad\", \"pos_tag\": \"[('bad', 'JJ')]\", \"tag\": \"'JJ\"}, {\"ID\": 65, \"Word\": \"picture\", \"pos_tag\": \"[('picture', 'NN')]\", \"tag\": \"'NN\"}, {\"ID\": 65, \"Word\": \"quality\", \"pos_tag\": \"[('quality', 'NN')]\", \"tag\": \"'NN\"}, {\"ID\": 65, \"Word\": \"not\", \"pos_tag\": \"[('not', 'RB')]\", \"tag\": \"'RB\"}, {\"ID\": 65, \"Word\": \"bright\", \"pos_tag\": \"[('bright', 'NN')]\", \"tag\": \"'NN\"}, {\"ID\": 65, \"Word\": \"grainy\", \"pos_tag\": \"[('grainy', 'NN')]\", \"tag\": \"'NN\"}, {\"ID\": 65, \"Word\": \"at\", \"pos_tag\": \"[('at', 'IN')]\", \"tag\": \"'IN\"}, {\"ID\": 65, \"Word\": \"times\", \"pos_tag\": \"[('times', 'NNS')]\", \"tag\": \"NNS\"}, {\"ID\": 66, \"Word\": \"really\", \"pos_tag\": \"[('really', 'RB')]\", \"tag\": \"'RB\"}, {\"ID\": 66, \"Word\": \"expensive\", \"pos_tag\": \"[('expensive', 'JJ')]\", \"tag\": \"'JJ\"}, {\"ID\": 66, \"Word\": \"for\", \"pos_tag\": \"[('for', 'IN')]\", \"tag\": \"'IN\"}, {\"ID\": 66, \"Word\": \"what\", \"pos_tag\": \"[('what', 'WP')]\", \"tag\": \"'WP\"}, {\"ID\": 66, \"Word\": \"it\", \"pos_tag\": \"[('it', 'PRP')]\", \"tag\": \"PRP\"}, {\"ID\": 66, \"Word\": \"doesplus\", \"pos_tag\": \"[('doesplus', 'NN')]\", \"tag\": \"'NN\"}, {\"ID\": 66, \"Word\": \"no\", \"pos_tag\": \"[('no', 'DT')]\", \"tag\": \"'DT\"}, {\"ID\": 66, \"Word\": \"way\", \"pos_tag\": \"[('way', 'NN')]\", \"tag\": \"'NN\"}, {\"ID\": 66, \"Word\": \"to\", \"pos_tag\": \"[('to', 'TO')]\", \"tag\": \"'TO\"}, {\"ID\": 66, \"Word\": \"fix\", \"pos_tag\": \"[('fix', 'NN')]\", \"tag\": \"'NN\"}, {\"ID\": 66, \"Word\": \"a\", \"pos_tag\": \"[('a', 'DT')]\", \"tag\": \"'DT\"}, {\"ID\": 66, \"Word\": \"crooked\", \"pos_tag\": \"[('crooked', 'NNS')]\", \"tag\": \"NNS\"}, {\"ID\": 66, \"Word\": \"projection\", \"pos_tag\": \"[('projection', 'NN')]\", \"tag\": \"'NN\"}, {\"ID\": 67, \"Word\": \"it\", \"pos_tag\": \"[('it', 'PRP')]\", \"tag\": \"PRP\"}, {\"ID\": 67, \"Word\": \"is\", \"pos_tag\": \"[('is', 'VBZ')]\", \"tag\": \"VBZ\"}, {\"ID\": 67, \"Word\": \"perfect\", \"pos_tag\": \"[('perfect', 'NN')]\", \"tag\": \"'NN\"}, {\"ID\": 67, \"Word\": \"and\", \"pos_tag\": \"[('and', 'CC')]\", \"tag\": \"'CC\"}, {\"ID\": 67, \"Word\": \"disappointing\", \"pos_tag\": \"[('disappointing', 'VBG')]\", \"tag\": \"VBG\"}, {\"ID\": 68, \"Word\": \"picture\", \"pos_tag\": \"[('picture', 'NN')]\", \"tag\": \"'NN\"}, {\"ID\": 68, \"Word\": \"function\", \"pos_tag\": \"[('function', 'NN')]\", \"tag\": \"'NN\"}, {\"ID\": 68, \"Word\": \"and\", \"pos_tag\": \"[('and', 'CC')]\", \"tag\": \"'CC\"}, {\"ID\": 68, \"Word\": \"small\", \"pos_tag\": \"[('small', 'JJ')]\", \"tag\": \"'JJ\"}, {\"ID\": 68, \"Word\": \"size\", \"pos_tag\": \"[('size', 'NN')]\", \"tag\": \"'NN\"}, {\"ID\": 68, \"Word\": \"is\", \"pos_tag\": \"[('is', 'VBZ')]\", \"tag\": \"VBZ\"}, {\"ID\": 68, \"Word\": \"impressive\", \"pos_tag\": \"[('impressive', 'JJ')]\", \"tag\": \"'JJ\"}, {\"ID\": 69, \"Word\": \"mediocre\", \"pos_tag\": \"[('mediocre', 'NN')]\", \"tag\": \"'NN\"}, {\"ID\": 69, \"Word\": \"purchase\", \"pos_tag\": \"[('purchase', 'NN')]\", \"tag\": \"'NN\"}, {\"ID\": 70, \"Word\": \"the\", \"pos_tag\": \"[('the', 'DT')]\", \"tag\": \"'DT\"}, {\"ID\": 70, \"Word\": \"advertising\", \"pos_tag\": \"[('advertising', 'NN')]\", \"tag\": \"'NN\"}, {\"ID\": 70, \"Word\": \"page\", \"pos_tag\": \"[('page', 'NN')]\", \"tag\": \"'NN\"}, {\"ID\": 70, \"Word\": \"was\", \"pos_tag\": \"[('was', 'VBD')]\", \"tag\": \"VBD\"}, {\"ID\": 70, \"Word\": \"misleading\", \"pos_tag\": \"[('misleading', 'VBG')]\", \"tag\": \"VBG\"}, {\"ID\": 71, \"Word\": \"limited\", \"pos_tag\": \"[('limited', 'JJ')]\", \"tag\": \"'JJ\"}, {\"ID\": 71, \"Word\": \"streaming\", \"pos_tag\": \"[('streaming', 'VBG')]\", \"tag\": \"VBG\"}, {\"ID\": 72, \"Word\": \"it\", \"pos_tag\": \"[('it', 'PRP')]\", \"tag\": \"PRP\"}, {\"ID\": 72, \"Word\": \"is\", \"pos_tag\": \"[('is', 'VBZ')]\", \"tag\": \"VBZ\"}, {\"ID\": 72, \"Word\": \"shocking\", \"pos_tag\": \"[('shocking', 'VBG')]\", \"tag\": \"VBG\"}, {\"ID\": 72, \"Word\": \"what\", \"pos_tag\": \"[('what', 'WP')]\", \"tag\": \"'WP\"}, {\"ID\": 72, \"Word\": \"a\", \"pos_tag\": \"[('a', 'DT')]\", \"tag\": \"'DT\"}, {\"ID\": 72, \"Word\": \"mess\", \"pos_tag\": \"[('mess', 'NN')]\", \"tag\": \"'NN\"}, {\"ID\": 72, \"Word\": \"this\", \"pos_tag\": \"[('this', 'DT')]\", \"tag\": \"'DT\"}, {\"ID\": 72, \"Word\": \"is\", \"pos_tag\": \"[('is', 'VBZ')]\", \"tag\": \"VBZ\"}, {\"ID\": 73, \"Word\": \"terrible\", \"pos_tag\": \"[('terrible', 'JJ')]\", \"tag\": \"'JJ\"}, {\"ID\": 73, \"Word\": \"for\", \"pos_tag\": \"[('for', 'IN')]\", \"tag\": \"'IN\"}, {\"ID\": 73, \"Word\": \"netflix\", \"pos_tag\": \"[('netflix', 'NN')]\", \"tag\": \"'NN\"}, {\"ID\": 74, \"Word\": \"poor\", \"pos_tag\": \"[('poor', 'JJ')]\", \"tag\": \"'JJ\"}, {\"ID\": 74, \"Word\": \"quality\", \"pos_tag\": \"[('quality', 'NN')]\", \"tag\": \"'NN\"}, {\"ID\": 74, \"Word\": \"broken\", \"pos_tag\": \"[('broken', 'NN')]\", \"tag\": \"'NN\"}, {\"ID\": 74, \"Word\": \"in\", \"pos_tag\": \"[('in', 'IN')]\", \"tag\": \"'IN\"}, {\"ID\": 74, \"Word\": \"four\", \"pos_tag\": \"[('four', 'CD')]\", \"tag\": \"'CD\"}, {\"ID\": 74, \"Word\": \"months\", \"pos_tag\": \"[('months', 'NNS')]\", \"tag\": \"NNS\"}, {\"ID\": 75, \"Word\": \"just\", \"pos_tag\": \"[('just', 'RB')]\", \"tag\": \"'RB\"}, {\"ID\": 75, \"Word\": \"okay\", \"pos_tag\": \"[('okay', 'NN')]\", \"tag\": \"'NN\"}, {\"ID\": 75, \"Word\": \"better\", \"pos_tag\": \"[('better', 'RBR')]\", \"tag\": \"RBR\"}, {\"ID\": 75, \"Word\": \"spend\", \"pos_tag\": \"[('spend', 'NN')]\", \"tag\": \"'NN\"}, {\"ID\": 75, \"Word\": \"little\", \"pos_tag\": \"[('little', 'JJ')]\", \"tag\": \"'JJ\"}, {\"ID\": 75, \"Word\": \"more\", \"pos_tag\": \"[('more', 'RBR')]\", \"tag\": \"RBR\"}, {\"ID\": 75, \"Word\": \"buy\", \"pos_tag\": \"[('buy', 'VB')]\", \"tag\": \"'VB\"}, {\"ID\": 75, \"Word\": \"good\", \"pos_tag\": \"[('good', 'JJ')]\", \"tag\": \"'JJ\"}, {\"ID\": 75, \"Word\": \"one\", \"pos_tag\": \"[('one', 'CD')]\", \"tag\": \"'CD\"}, {\"ID\": 76, \"Word\": \"time\", \"pos_tag\": \"[('time', 'NN')]\", \"tag\": \"'NN\"}, {\"ID\": 76, \"Word\": \"to\", \"pos_tag\": \"[('to', 'TO')]\", \"tag\": \"'TO\"}, {\"ID\": 76, \"Word\": \"return\", \"pos_tag\": \"[('return', 'NN')]\", \"tag\": \"'NN\"}, {\"ID\": 76, \"Word\": \"this\", \"pos_tag\": \"[('this', 'DT')]\", \"tag\": \"'DT\"}, {\"ID\": 76, \"Word\": \"junk\", \"pos_tag\": \"[('junk', 'NN')]\", \"tag\": \"'NN\"}, {\"ID\": 76, \"Word\": \"not\", \"pos_tag\": \"[('not', 'RB')]\", \"tag\": \"'RB\"}, {\"ID\": 76, \"Word\": \"iphone\", \"pos_tag\": \"[('iphone', 'NN')]\", \"tag\": \"'NN\"}, {\"ID\": 76, \"Word\": \"friendly\", \"pos_tag\": \"[('friendly', 'RB')]\", \"tag\": \"'RB\"}, {\"ID\": 77, \"Word\": \"it\", \"pos_tag\": \"[('it', 'PRP')]\", \"tag\": \"PRP\"}, {\"ID\": 77, \"Word\": \"is\", \"pos_tag\": \"[('is', 'VBZ')]\", \"tag\": \"VBZ\"}, {\"ID\": 77, \"Word\": \"not\", \"pos_tag\": \"[('not', 'RB')]\", \"tag\": \"'RB\"}, {\"ID\": 77, \"Word\": \"bright\", \"pos_tag\": \"[('bright', 'NN')]\", \"tag\": \"'NN\"}, {\"ID\": 77, \"Word\": \"enough\", \"pos_tag\": \"[('enough', 'RB')]\", \"tag\": \"'RB\"}, {\"ID\": 77, \"Word\": \"for\", \"pos_tag\": \"[('for', 'IN')]\", \"tag\": \"'IN\"}, {\"ID\": 77, \"Word\": \"use\", \"pos_tag\": \"[('use', 'NN')]\", \"tag\": \"'NN\"}, {\"ID\": 78, \"Word\": \"me\", \"pos_tag\": \"[('me', 'PRP')]\", \"tag\": \"PRP\"}, {\"ID\": 78, \"Word\": \"gusta\", \"pos_tag\": \"[('gusta', 'NN')]\", \"tag\": \"'NN\"}, {\"ID\": 78, \"Word\": \"pero\", \"pos_tag\": \"[('pero', 'NN')]\", \"tag\": \"'NN\"}, {\"ID\": 79, \"Word\": \"seriously\", \"pos_tag\": \"[('seriously', 'RB')]\", \"tag\": \"'RB\"}, {\"ID\": 80, \"Word\": \"great\", \"pos_tag\": \"[('great', 'JJ')]\", \"tag\": \"'JJ\"}, {\"ID\": 80, \"Word\": \"idea\", \"pos_tag\": \"[('idea', 'NN')]\", \"tag\": \"'NN\"}, {\"ID\": 80, \"Word\": \"but\", \"pos_tag\": \"[('but', 'CC')]\", \"tag\": \"'CC\"}, {\"ID\": 80, \"Word\": \"not\", \"pos_tag\": \"[('not', 'RB')]\", \"tag\": \"'RB\"}, {\"ID\": 80, \"Word\": \"carried\", \"pos_tag\": \"[('carried', 'VBN')]\", \"tag\": \"VBN\"}, {\"ID\": 80, \"Word\": \"out\", \"pos_tag\": \"[('out', 'IN')]\", \"tag\": \"'IN\"}, {\"ID\": 80, \"Word\": \"to\", \"pos_tag\": \"[('to', 'TO')]\", \"tag\": \"'TO\"}, {\"ID\": 80, \"Word\": \"its\", \"pos_tag\": \"[('its', 'PRP$')]\", \"tag\": \"RP$\"}, {\"ID\": 80, \"Word\": \"fullest\", \"pos_tag\": \"[('fullest', 'JJS')]\", \"tag\": \"JJS\"}, {\"ID\": 80, \"Word\": \"potential\", \"pos_tag\": \"[('potential', 'JJ')]\", \"tag\": \"'JJ\"}, {\"ID\": 80, \"Word\": \"by\", \"pos_tag\": \"[('by', 'IN')]\", \"tag\": \"'IN\"}, {\"ID\": 80, \"Word\": \"far\", \"pos_tag\": \"[('far', 'RB')]\", \"tag\": \"'RB\"}, {\"ID\": 81, \"Word\": \"disappointed\", \"pos_tag\": \"[('disappointed', 'JJ')]\", \"tag\": \"'JJ\"}, {\"ID\": 81, \"Word\": \"beyond\", \"pos_tag\": \"[('beyond', 'IN')]\", \"tag\": \"'IN\"}, {\"ID\": 81, \"Word\": \"words\", \"pos_tag\": \"[('words', 'NNS')]\", \"tag\": \"NNS\"}, {\"ID\": 82, \"Word\": \"does\", \"pos_tag\": \"[('does', 'VBZ')]\", \"tag\": \"VBZ\"}, {\"ID\": 82, \"Word\": \"not\", \"pos_tag\": \"[('not', 'RB')]\", \"tag\": \"'RB\"}, {\"ID\": 82, \"Word\": \"work\", \"pos_tag\": \"[('work', 'NN')]\", \"tag\": \"'NN\"}, {\"ID\": 82, \"Word\": \"with\", \"pos_tag\": \"[('with', 'IN')]\", \"tag\": \"'IN\"}, {\"ID\": 82, \"Word\": \"iphone\", \"pos_tag\": \"[('iphone', 'NN')]\", \"tag\": \"'NN\"}, {\"ID\": 83, \"Word\": \"this\", \"pos_tag\": \"[('this', 'DT')]\", \"tag\": \"'DT\"}, {\"ID\": 83, \"Word\": \"product\", \"pos_tag\": \"[('product', 'NN')]\", \"tag\": \"'NN\"}, {\"ID\": 83, \"Word\": \"needs\", \"pos_tag\": \"[('needs', 'NNS')]\", \"tag\": \"NNS\"}, {\"ID\": 83, \"Word\": \"to\", \"pos_tag\": \"[('to', 'TO')]\", \"tag\": \"'TO\"}, {\"ID\": 83, \"Word\": \"be\", \"pos_tag\": \"[('be', 'VB')]\", \"tag\": \"'VB\"}, {\"ID\": 83, \"Word\": \"cheapier\", \"pos_tag\": \"[('cheapier', 'NN')]\", \"tag\": \"'NN\"}, {\"ID\": 84, \"Word\": \"was\", \"pos_tag\": \"[('was', 'VBD')]\", \"tag\": \"VBD\"}, {\"ID\": 84, \"Word\": \"a\", \"pos_tag\": \"[('a', 'DT')]\", \"tag\": \"'DT\"}, {\"ID\": 84, \"Word\": \"fan\", \"pos_tag\": \"[('fan', 'NN')]\", \"tag\": \"'NN\"}, {\"ID\": 84, \"Word\": \"of\", \"pos_tag\": \"[('of', 'IN')]\", \"tag\": \"'IN\"}, {\"ID\": 84, \"Word\": \"anker\", \"pos_tag\": \"[('anker', 'NN')]\", \"tag\": \"'NN\"}, {\"ID\": 84, \"Word\": \"until\", \"pos_tag\": \"[('until', 'IN')]\", \"tag\": \"'IN\"}, {\"ID\": 84, \"Word\": \"purchasing\", \"pos_tag\": \"[('purchasing', 'NN')]\", \"tag\": \"'NN\"}, {\"ID\": 84, \"Word\": \"this\", \"pos_tag\": \"[('this', 'DT')]\", \"tag\": \"'DT\"}, {\"ID\": 84, \"Word\": \"piece\", \"pos_tag\": \"[('piece', 'NN')]\", \"tag\": \"'NN\"}, {\"ID\": 84, \"Word\": \"of\", \"pos_tag\": \"[('of', 'IN')]\", \"tag\": \"'IN\"}, {\"ID\": 84, \"Word\": \"junk\", \"pos_tag\": \"[('junk', 'NN')]\", \"tag\": \"'NN\"}, {\"ID\": 85, \"Word\": \"difficult\", \"pos_tag\": \"[('difficult', 'JJ')]\", \"tag\": \"'JJ\"}, {\"ID\": 85, \"Word\": \"to\", \"pos_tag\": \"[('to', 'TO')]\", \"tag\": \"'TO\"}, {\"ID\": 85, \"Word\": \"navigate\", \"pos_tag\": \"[('navigate', 'NN')]\", \"tag\": \"'NN\"}, {\"ID\": 85, \"Word\": \"in\", \"pos_tag\": \"[('in', 'IN')]\", \"tag\": \"'IN\"}, {\"ID\": 85, \"Word\": \"any\", \"pos_tag\": \"[('any', 'DT')]\", \"tag\": \"'DT\"}, {\"ID\": 85, \"Word\": \"mode\", \"pos_tag\": \"[('mode', 'NN')]\", \"tag\": \"'NN\"}, {\"ID\": 86, \"Word\": \"very\", \"pos_tag\": \"[('very', 'RB')]\", \"tag\": \"'RB\"}, {\"ID\": 86, \"Word\": \"loud\", \"pos_tag\": \"[('loud', 'NN')]\", \"tag\": \"'NN\"}, {\"ID\": 87, \"Word\": \"works\", \"pos_tag\": \"[('works', 'NNS')]\", \"tag\": \"NNS\"}, {\"ID\": 87, \"Word\": \"well\", \"pos_tag\": \"[('well', 'RB')]\", \"tag\": \"'RB\"}, {\"ID\": 87, \"Word\": \"as\", \"pos_tag\": \"[('as', 'IN')]\", \"tag\": \"'IN\"}, {\"ID\": 87, \"Word\": \"a\", \"pos_tag\": \"[('a', 'DT')]\", \"tag\": \"'DT\"}, {\"ID\": 87, \"Word\": \"projector\", \"pos_tag\": \"[('projector', 'NN')]\", \"tag\": \"'NN\"}, {\"ID\": 87, \"Word\": \"app\", \"pos_tag\": \"[('app', 'NN')]\", \"tag\": \"'NN\"}, {\"ID\": 87, \"Word\": \"is\", \"pos_tag\": \"[('is', 'VBZ')]\", \"tag\": \"VBZ\"}, {\"ID\": 87, \"Word\": \"pretty\", \"pos_tag\": \"[('pretty', 'RB')]\", \"tag\": \"'RB\"}, {\"ID\": 87, \"Word\": \"bad\", \"pos_tag\": \"[('bad', 'JJ')]\", \"tag\": \"'JJ\"}, {\"ID\": 87, \"Word\": \"for\", \"pos_tag\": \"[('for', 'IN')]\", \"tag\": \"'IN\"}, {\"ID\": 87, \"Word\": \"an\", \"pos_tag\": \"[('an', 'DT')]\", \"tag\": \"'DT\"}, {\"ID\": 87, \"Word\": \"otherwise\", \"pos_tag\": \"[('otherwise', 'RB')]\", \"tag\": \"'RB\"}, {\"ID\": 87, \"Word\": \"polished\", \"pos_tag\": \"[('polished', 'NNS')]\", \"tag\": \"NNS\"}, {\"ID\": 87, \"Word\": \"product\", \"pos_tag\": \"[('product', 'NN')]\", \"tag\": \"'NN\"}, {\"ID\": 88, \"Word\": \"speaker\", \"pos_tag\": \"[('speaker', 'NN')]\", \"tag\": \"'NN\"}, {\"ID\": 88, \"Word\": \"is\", \"pos_tag\": \"[('is', 'VBZ')]\", \"tag\": \"VBZ\"}, {\"ID\": 88, \"Word\": \"not\", \"pos_tag\": \"[('not', 'RB')]\", \"tag\": \"'RB\"}, {\"ID\": 88, \"Word\": \"good\", \"pos_tag\": \"[('good', 'JJ')]\", \"tag\": \"'JJ\"}, {\"ID\": 89, \"Word\": \"compact\", \"pos_tag\": \"[('compact', 'NN')]\", \"tag\": \"'NN\"}, {\"ID\": 89, \"Word\": \"disappointment\", \"pos_tag\": \"[('disappointment', 'NN')]\", \"tag\": \"'NN\"}, {\"ID\": 90, \"Word\": \"need\", \"pos_tag\": \"[('need', 'NN')]\", \"tag\": \"'NN\"}, {\"ID\": 90, \"Word\": \"complete\", \"pos_tag\": \"[('complete', 'JJ')]\", \"tag\": \"'JJ\"}, {\"ID\": 90, \"Word\": \"darkness\", \"pos_tag\": \"[('darkness', 'NN')]\", \"tag\": \"'NN\"}, {\"ID\": 91, \"Word\": \"just\", \"pos_tag\": \"[('just', 'RB')]\", \"tag\": \"'RB\"}, {\"ID\": 91, \"Word\": \"ok\", \"pos_tag\": \"[('ok', 'NN')]\", \"tag\": \"'NN\"}, {\"ID\": 92, \"Word\": \"problem\", \"pos_tag\": \"[('problem', 'NN')]\", \"tag\": \"'NN\"}, {\"ID\": 92, \"Word\": \"with\", \"pos_tag\": \"[('with', 'IN')]\", \"tag\": \"'IN\"}, {\"ID\": 92, \"Word\": \"overheating\", \"pos_tag\": \"[('overheating', 'VBG')]\", \"tag\": \"VBG\"}, {\"ID\": 92, \"Word\": \"within\", \"pos_tag\": \"[('within', 'IN')]\", \"tag\": \"'IN\"}, {\"ID\": 92, \"Word\": \"minutes\", \"pos_tag\": \"[('minutes', 'NNS')]\", \"tag\": \"NNS\"}, {\"ID\": 92, \"Word\": \"of\", \"pos_tag\": \"[('of', 'IN')]\", \"tag\": \"'IN\"}, {\"ID\": 92, \"Word\": \"turning\", \"pos_tag\": \"[('turning', 'VBG')]\", \"tag\": \"VBG\"}, {\"ID\": 92, \"Word\": \"on\", \"pos_tag\": \"[('on', 'IN')]\", \"tag\": \"'IN\"}, {\"ID\": 93, \"Word\": \"over\", \"pos_tag\": \"[('over', 'IN')]\", \"tag\": \"'IN\"}, {\"ID\": 93, \"Word\": \"all\", \"pos_tag\": \"[('all', 'DT')]\", \"tag\": \"'DT\"}, {\"ID\": 93, \"Word\": \"great\", \"pos_tag\": \"[('great', 'JJ')]\", \"tag\": \"'JJ\"}, {\"ID\": 93, \"Word\": \"product\", \"pos_tag\": \"[('product', 'NN')]\", \"tag\": \"'NN\"}, {\"ID\": 93, \"Word\": \"looking\", \"pos_tag\": \"[('looking', 'VBG')]\", \"tag\": \"VBG\"}, {\"ID\": 93, \"Word\": \"into\", \"pos_tag\": \"[('into', 'IN')]\", \"tag\": \"'IN\"}, {\"ID\": 93, \"Word\": \"why\", \"pos_tag\": \"[('why', 'WRB')]\", \"tag\": \"WRB\"}, {\"ID\": 93, \"Word\": \"it\", \"pos_tag\": \"[('it', 'PRP')]\", \"tag\": \"PRP\"}, {\"ID\": 93, \"Word\": \"glitches\", \"pos_tag\": \"[('glitches', 'NNS')]\", \"tag\": \"NNS\"}, {\"ID\": 93, \"Word\": \"so\", \"pos_tag\": \"[('so', 'RB')]\", \"tag\": \"'RB\"}, {\"ID\": 93, \"Word\": \"much\", \"pos_tag\": \"[('much', 'JJ')]\", \"tag\": \"'JJ\"}, {\"ID\": 94, \"Word\": \"mini\", \"pos_tag\": \"[('mini', 'NN')]\", \"tag\": \"'NN\"}, {\"ID\": 94, \"Word\": \"projector\", \"pos_tag\": \"[('projector', 'NN')]\", \"tag\": \"'NN\"}, {\"ID\": 94, \"Word\": \"mini\", \"pos_tag\": \"[('mini', 'NN')]\", \"tag\": \"'NN\"}, {\"ID\": 94, \"Word\": \"issues\", \"pos_tag\": \"[('issues', 'NNS')]\", \"tag\": \"NNS\"}, {\"ID\": 95, \"Word\": \"does\", \"pos_tag\": \"[('does', 'VBZ')]\", \"tag\": \"VBZ\"}, {\"ID\": 95, \"Word\": \"not\", \"pos_tag\": \"[('not', 'RB')]\", \"tag\": \"'RB\"}, {\"ID\": 95, \"Word\": \"work\", \"pos_tag\": \"[('work', 'NN')]\", \"tag\": \"'NN\"}, {\"ID\": 96, \"Word\": \"missing\", \"pos_tag\": \"[('missing', 'VBG')]\", \"tag\": \"VBG\"}, {\"ID\": 96, \"Word\": \"pieces\", \"pos_tag\": \"[('pieces', 'NNS')]\", \"tag\": \"NNS\"}, {\"ID\": 97, \"Word\": \"defective\", \"pos_tag\": \"[('defective', 'JJ')]\", \"tag\": \"'JJ\"}, {\"ID\": 97, \"Word\": \"unit\", \"pos_tag\": \"[('unit', 'NN')]\", \"tag\": \"'NN\"}, {\"ID\": 98, \"Word\": \"do\", \"pos_tag\": \"[('do', 'VB')]\", \"tag\": \"'VB\"}, {\"ID\": 98, \"Word\": \"not\", \"pos_tag\": \"[('not', 'RB')]\", \"tag\": \"'RB\"}, {\"ID\": 98, \"Word\": \"waste\", \"pos_tag\": \"[('waste', 'NN')]\", \"tag\": \"'NN\"}, {\"ID\": 98, \"Word\": \"your\", \"pos_tag\": \"[('your', 'PRP$')]\", \"tag\": \"RP$\"}, {\"ID\": 98, \"Word\": \"time\", \"pos_tag\": \"[('time', 'NN')]\", \"tag\": \"'NN\"}, {\"ID\": 98, \"Word\": \"if\", \"pos_tag\": \"[('if', 'IN')]\", \"tag\": \"'IN\"}, {\"ID\": 98, \"Word\": \"this\", \"pos_tag\": \"[('this', 'DT')]\", \"tag\": \"'DT\"}, {\"ID\": 98, \"Word\": \"is\", \"pos_tag\": \"[('is', 'VBZ')]\", \"tag\": \"VBZ\"}, {\"ID\": 98, \"Word\": \"a\", \"pos_tag\": \"[('a', 'DT')]\", \"tag\": \"'DT\"}, {\"ID\": 98, \"Word\": \"family\", \"pos_tag\": \"[('family', 'NN')]\", \"tag\": \"'NN\"}, {\"ID\": 98, \"Word\": \"purchase\", \"pos_tag\": \"[('purchase', 'NN')]\", \"tag\": \"'NN\"}, {\"ID\": 99, \"Word\": \"too\", \"pos_tag\": \"[('too', 'RB')]\", \"tag\": \"'RB\"}, {\"ID\": 99, \"Word\": \"dark\", \"pos_tag\": \"[('dark', 'NN')]\", \"tag\": \"'NN\"}, {\"ID\": 100, \"Word\": \"not\", \"pos_tag\": \"[('not', 'RB')]\", \"tag\": \"'RB\"}, {\"ID\": 100, \"Word\": \"worth\", \"pos_tag\": \"[('worth', 'NN')]\", \"tag\": \"'NN\"}, {\"ID\": 100, \"Word\": \"the\", \"pos_tag\": \"[('the', 'DT')]\", \"tag\": \"'DT\"}, {\"ID\": 100, \"Word\": \"expensive\", \"pos_tag\": \"[('expensive', 'JJ')]\", \"tag\": \"'JJ\"}, {\"ID\": 100, \"Word\": \"price\", \"pos_tag\": \"[('price', 'NN')]\", \"tag\": \"'NN\"}, {\"ID\": 101, \"Word\": \"received\", \"pos_tag\": \"[('received', 'VBN')]\", \"tag\": \"VBN\"}, {\"ID\": 101, \"Word\": \"repackaged\", \"pos_tag\": \"[('repackaged', 'VBN')]\", \"tag\": \"VBN\"}, {\"ID\": 101, \"Word\": \"item\", \"pos_tag\": \"[('item', 'NN')]\", \"tag\": \"'NN\"}, {\"ID\": 101, \"Word\": \"still\", \"pos_tag\": \"[('still', 'RB')]\", \"tag\": \"'RB\"}, {\"ID\": 101, \"Word\": \"connected\", \"pos_tag\": \"[('connected', 'VBN')]\", \"tag\": \"VBN\"}, {\"ID\": 101, \"Word\": \"to\", \"pos_tag\": \"[('to', 'TO')]\", \"tag\": \"'TO\"}, {\"ID\": 101, \"Word\": \"previous\", \"pos_tag\": \"[('previous', 'JJ')]\", \"tag\": \"'JJ\"}, {\"ID\": 101, \"Word\": \"users\", \"pos_tag\": \"[('users', 'NNS')]\", \"tag\": \"NNS\"}, {\"ID\": 101, \"Word\": \"accounts\", \"pos_tag\": \"[('accounts', 'NNS')]\", \"tag\": \"NNS\"}, {\"ID\": 101, \"Word\": \"returning\", \"pos_tag\": \"[('returning', 'VBG')]\", \"tag\": \"VBG\"}, {\"ID\": 102, \"Word\": \"portable\", \"pos_tag\": \"[('portable', 'JJ')]\", \"tag\": \"'JJ\"}, {\"ID\": 102, \"Word\": \"but\", \"pos_tag\": \"[('but', 'CC')]\", \"tag\": \"'CC\"}, {\"ID\": 102, \"Word\": \"not\", \"pos_tag\": \"[('not', 'RB')]\", \"tag\": \"'RB\"}, {\"ID\": 102, \"Word\": \"highest\", \"pos_tag\": \"[('highest', 'JJS')]\", \"tag\": \"JJS\"}, {\"ID\": 102, \"Word\": \"sound\", \"pos_tag\": \"[('sound', 'NN')]\", \"tag\": \"'NN\"}, {\"ID\": 102, \"Word\": \"or\", \"pos_tag\": \"[('or', 'CC')]\", \"tag\": \"'CC\"}, {\"ID\": 102, \"Word\": \"image\", \"pos_tag\": \"[('image', 'NN')]\", \"tag\": \"'NN\"}, {\"ID\": 102, \"Word\": \"quality\", \"pos_tag\": \"[('quality', 'NN')]\", \"tag\": \"'NN\"}, {\"ID\": 103, \"Word\": \"the\", \"pos_tag\": \"[('the', 'DT')]\", \"tag\": \"'DT\"}, {\"ID\": 103, \"Word\": \"update\", \"pos_tag\": \"[('update', 'NN')]\", \"tag\": \"'NN\"}, {\"ID\": 103, \"Word\": \"that\", \"pos_tag\": \"[('that', 'IN')]\", \"tag\": \"'IN\"}, {\"ID\": 103, \"Word\": \"\", \"pos_tag\": \"[]\", \"tag\": null}, {\"ID\": 103, \"Word\": \"could\", \"pos_tag\": \"[('could', 'MD')]\", \"tag\": \"'MD\"}, {\"ID\": 103, \"Word\": \"not\", \"pos_tag\": \"[('not', 'RB')]\", \"tag\": \"'RB\"}, {\"ID\": 103, \"Word\": \"wait\", \"pos_tag\": \"[('wait', 'NN')]\", \"tag\": \"'NN\"}, {\"ID\": 104, \"Word\": \"it\", \"pos_tag\": \"[('it', 'PRP')]\", \"tag\": \"PRP\"}, {\"ID\": 104, \"Word\": \"is\", \"pos_tag\": \"[('is', 'VBZ')]\", \"tag\": \"VBZ\"}, {\"ID\": 104, \"Word\": \"alright\", \"pos_tag\": \"[('alright', 'NN')]\", \"tag\": \"'NN\"}, {\"ID\": 105, \"Word\": \"its\", \"pos_tag\": \"[('its', 'PRP$')]\", \"tag\": \"RP$\"}, {\"ID\": 105, \"Word\": \"alright\", \"pos_tag\": \"[('alright', 'NN')]\", \"tag\": \"'NN\"}, {\"ID\": 106, \"Word\": \"amazing\", \"pos_tag\": \"[('amazing', 'VBG')]\", \"tag\": \"VBG\"}, {\"ID\": 106, \"Word\": \"and\", \"pos_tag\": \"[('and', 'CC')]\", \"tag\": \"'CC\"}, {\"ID\": 106, \"Word\": \"nifty\", \"pos_tag\": \"[('nifty', 'NN')]\", \"tag\": \"'NN\"}, {\"ID\": 106, \"Word\": \"but\", \"pos_tag\": \"[('but', 'CC')]\", \"tag\": \"'CC\"}, {\"ID\": 106, \"Word\": \"its\", \"pos_tag\": \"[('its', 'PRP$')]\", \"tag\": \"RP$\"}, {\"ID\": 106, \"Word\": \"always\", \"pos_tag\": \"[('always', 'RB')]\", \"tag\": \"'RB\"}, {\"ID\": 106, \"Word\": \"tilted\", \"pos_tag\": \"[('tilted', 'VBN')]\", \"tag\": \"VBN\"}, {\"ID\": 107, \"Word\": \"ok\", \"pos_tag\": \"[('ok', 'NN')]\", \"tag\": \"'NN\"}, {\"ID\": 107, \"Word\": \"for\", \"pos_tag\": \"[('for', 'IN')]\", \"tag\": \"'IN\"}, {\"ID\": 107, \"Word\": \"poolside\", \"pos_tag\": \"[('poolside', 'NN')]\", \"tag\": \"'NN\"}, {\"ID\": 107, \"Word\": \"but\", \"pos_tag\": \"[('but', 'CC')]\", \"tag\": \"'CC\"}, {\"ID\": 107, \"Word\": \"obviously\", \"pos_tag\": \"[('obviously', 'RB')]\", \"tag\": \"'RB\"}, {\"ID\": 107, \"Word\": \"needs\", \"pos_tag\": \"[('needs', 'NNS')]\", \"tag\": \"NNS\"}, {\"ID\": 107, \"Word\": \"complete\", \"pos_tag\": \"[('complete', 'JJ')]\", \"tag\": \"'JJ\"}, {\"ID\": 107, \"Word\": \"dark\", \"pos_tag\": \"[('dark', 'NN')]\", \"tag\": \"'NN\"}, {\"ID\": 107, \"Word\": \"to\", \"pos_tag\": \"[('to', 'TO')]\", \"tag\": \"'TO\"}, {\"ID\": 107, \"Word\": \"be\", \"pos_tag\": \"[('be', 'VB')]\", \"tag\": \"'VB\"}, {\"ID\": 107, \"Word\": \"enjoyable\", \"pos_tag\": \"[('enjoyable', 'JJ')]\", \"tag\": \"'JJ\"}, {\"ID\": 108, \"Word\": \"crashes\", \"pos_tag\": \"[('crashes', 'NNS')]\", \"tag\": \"NNS\"}, {\"ID\": 108, \"Word\": \"\", \"pos_tag\": \"[]\", \"tag\": null}, {\"ID\": 108, \"Word\": \"draw\", \"pos_tag\": \"[('draw', 'NN')]\", \"tag\": \"'NN\"}, {\"ID\": 108, \"Word\": \"of\", \"pos_tag\": \"[('of', 'IN')]\", \"tag\": \"'IN\"}, {\"ID\": 108, \"Word\": \"the\", \"pos_tag\": \"[('the', 'DT')]\", \"tag\": \"'DT\"}, {\"ID\": 108, \"Word\": \"luck\", \"pos_tag\": \"[('luck', 'NN')]\", \"tag\": \"'NN\"}, {\"ID\": 109, \"Word\": \"it\", \"pos_tag\": \"[('it', 'PRP')]\", \"tag\": \"PRP\"}, {\"ID\": 109, \"Word\": \"was\", \"pos_tag\": \"[('was', 'VBD')]\", \"tag\": \"VBD\"}, {\"ID\": 109, \"Word\": \"okay\", \"pos_tag\": \"[('okay', 'NN')]\", \"tag\": \"'NN\"}, {\"ID\": 110, \"Word\": \"not\", \"pos_tag\": \"[('not', 'RB')]\", \"tag\": \"'RB\"}, {\"ID\": 110, \"Word\": \"worth\", \"pos_tag\": \"[('worth', 'NN')]\", \"tag\": \"'NN\"}, {\"ID\": 110, \"Word\": \"the\", \"pos_tag\": \"[('the', 'DT')]\", \"tag\": \"'DT\"}, {\"ID\": 110, \"Word\": \"money\", \"pos_tag\": \"[('money', 'NN')]\", \"tag\": \"'NN\"}, {\"ID\": 110, \"Word\": \"just\", \"pos_tag\": \"[('just', 'RB')]\", \"tag\": \"'RB\"}, {\"ID\": 110, \"Word\": \"novel\", \"pos_tag\": \"[('novel', 'NN')]\", \"tag\": \"'NN\"}, {\"ID\": 111, \"Word\": \"battery\", \"pos_tag\": \"[('battery', 'NN')]\", \"tag\": \"'NN\"}, {\"ID\": 111, \"Word\": \"drains\", \"pos_tag\": \"[('drains', 'NNS')]\", \"tag\": \"NNS\"}, {\"ID\": 111, \"Word\": \"while\", \"pos_tag\": \"[('while', 'IN')]\", \"tag\": \"'IN\"}, {\"ID\": 111, \"Word\": \"off\", \"pos_tag\": \"[('off', 'IN')]\", \"tag\": \"'IN\"}, {\"ID\": 111, \"Word\": \"more\", \"pos_tag\": \"[('more', 'RBR')]\", \"tag\": \"RBR\"}, {\"ID\": 111, \"Word\": \"so\", \"pos_tag\": \"[('so', 'RB')]\", \"tag\": \"'RB\"}, {\"ID\": 112, \"Word\": \"this\", \"pos_tag\": \"[('this', 'DT')]\", \"tag\": \"'DT\"}, {\"ID\": 112, \"Word\": \"would\", \"pos_tag\": \"[('would', 'MD')]\", \"tag\": \"'MD\"}, {\"ID\": 112, \"Word\": \"be\", \"pos_tag\": \"[('be', 'VB')]\", \"tag\": \"'VB\"}, {\"ID\": 112, \"Word\": \"great\", \"pos_tag\": \"[('great', 'JJ')]\", \"tag\": \"'JJ\"}, {\"ID\": 112, \"Word\": \"if\", \"pos_tag\": \"[('if', 'IN')]\", \"tag\": \"'IN\"}, {\"ID\": 112, \"Word\": \"it\", \"pos_tag\": \"[('it', 'PRP')]\", \"tag\": \"PRP\"}, {\"ID\": 112, \"Word\": \"was\", \"pos_tag\": \"[('was', 'VBD')]\", \"tag\": \"VBD\"}, {\"ID\": 112, \"Word\": \"not\", \"pos_tag\": \"[('not', 'RB')]\", \"tag\": \"'RB\"}, {\"ID\": 112, \"Word\": \"so\", \"pos_tag\": \"[('so', 'RB')]\", \"tag\": \"'RB\"}, {\"ID\": 112, \"Word\": \"terrible\", \"pos_tag\": \"[('terrible', 'JJ')]\", \"tag\": \"'JJ\"}, {\"ID\": 113, \"Word\": \"would\", \"pos_tag\": \"[('would', 'MD')]\", \"tag\": \"'MD\"}, {\"ID\": 113, \"Word\": \"not\", \"pos_tag\": \"[('not', 'RB')]\", \"tag\": \"'RB\"}, {\"ID\": 113, \"Word\": \"recommend\", \"pos_tag\": \"[('recommend', 'NN')]\", \"tag\": \"'NN\"}, {\"ID\": 113, \"Word\": \"did\", \"pos_tag\": \"[('did', 'VBD')]\", \"tag\": \"VBD\"}, {\"ID\": 113, \"Word\": \"not\", \"pos_tag\": \"[('not', 'RB')]\", \"tag\": \"'RB\"}, {\"ID\": 113, \"Word\": \"work\", \"pos_tag\": \"[('work', 'NN')]\", \"tag\": \"'NN\"}, {\"ID\": 113, \"Word\": \"out\", \"pos_tag\": \"[('out', 'IN')]\", \"tag\": \"'IN\"}, {\"ID\": 113, \"Word\": \"of\", \"pos_tag\": \"[('of', 'IN')]\", \"tag\": \"'IN\"}, {\"ID\": 113, \"Word\": \"box\", \"pos_tag\": \"[('box', 'NN')]\", \"tag\": \"'NN\"}, {\"ID\": 114, \"Word\": \"too\", \"pos_tag\": \"[('too', 'RB')]\", \"tag\": \"'RB\"}, {\"ID\": 114, \"Word\": \"dim\", \"pos_tag\": \"[('dim', 'NN')]\", \"tag\": \"'NN\"}, {\"ID\": 115, \"Word\": \"very\", \"pos_tag\": \"[('very', 'RB')]\", \"tag\": \"'RB\"}, {\"ID\": 115, \"Word\": \"disappointed\", \"pos_tag\": \"[('disappointed', 'JJ')]\", \"tag\": \"'JJ\"}, {\"ID\": 116, \"Word\": \"amazing\", \"pos_tag\": \"[('amazing', 'VBG')]\", \"tag\": \"VBG\"}, {\"ID\": 116, \"Word\": \"product\", \"pos_tag\": \"[('product', 'NN')]\", \"tag\": \"'NN\"}, {\"ID\": 116, \"Word\": \"i\", \"pos_tag\": \"[('i', 'NN')]\", \"tag\": \"'NN\"}, {\"ID\": 116, \"Word\": \"think\", \"pos_tag\": \"[('think', 'NN')]\", \"tag\": \"'NN\"}, {\"ID\": 116, \"Word\": \"i\", \"pos_tag\": \"[('i', 'NN')]\", \"tag\": \"'NN\"}, {\"ID\": 116, \"Word\": \"got\", \"pos_tag\": \"[('got', 'VBD')]\", \"tag\": \"VBD\"}, {\"ID\": 116, \"Word\": \"a\", \"pos_tag\": \"[('a', 'DT')]\", \"tag\": \"'DT\"}, {\"ID\": 116, \"Word\": \"used\", \"pos_tag\": \"[('used', 'VBN')]\", \"tag\": \"VBN\"}, {\"ID\": 116, \"Word\": \"product\", \"pos_tag\": \"[('product', 'NN')]\", \"tag\": \"'NN\"}, {\"ID\": 116, \"Word\": \"or\", \"pos_tag\": \"[('or', 'CC')]\", \"tag\": \"'CC\"}, {\"ID\": 116, \"Word\": \"the\", \"pos_tag\": \"[('the', 'DT')]\", \"tag\": \"'DT\"}, {\"ID\": 116, \"Word\": \"product\", \"pos_tag\": \"[('product', 'NN')]\", \"tag\": \"'NN\"}, {\"ID\": 116, \"Word\": \"was\", \"pos_tag\": \"[('was', 'VBD')]\", \"tag\": \"VBD\"}, {\"ID\": 116, \"Word\": \"damaged\", \"pos_tag\": \"[('damaged', 'VBN')]\", \"tag\": \"VBN\"}, {\"ID\": 116, \"Word\": \"on\", \"pos_tag\": \"[('on', 'IN')]\", \"tag\": \"'IN\"}, {\"ID\": 116, \"Word\": \"the\", \"pos_tag\": \"[('the', 'DT')]\", \"tag\": \"'DT\"}, {\"ID\": 116, \"Word\": \"way\", \"pos_tag\": \"[('way', 'NN')]\", \"tag\": \"'NN\"}, {\"ID\": 116, \"Word\": \"to\", \"pos_tag\": \"[('to', 'TO')]\", \"tag\": \"'TO\"}, {\"ID\": 116, \"Word\": \"me\", \"pos_tag\": \"[('me', 'PRP')]\", \"tag\": \"PRP\"}, {\"ID\": 117, \"Word\": \"lack\", \"pos_tag\": \"[('lack', 'NN')]\", \"tag\": \"'NN\"}, {\"ID\": 117, \"Word\": \"quality\", \"pos_tag\": \"[('quality', 'NN')]\", \"tag\": \"'NN\"}, {\"ID\": 117, \"Word\": \"features\", \"pos_tag\": \"[('features', 'NNS')]\", \"tag\": \"NNS\"}, {\"ID\": 117, \"Word\": \"for\", \"pos_tag\": \"[('for', 'IN')]\", \"tag\": \"'IN\"}, {\"ID\": 117, \"Word\": \"gamers\", \"pos_tag\": \"[('gamers', 'NNS')]\", \"tag\": \"NNS\"}, {\"ID\": 118, \"Word\": \"not\", \"pos_tag\": \"[('not', 'RB')]\", \"tag\": \"'RB\"}, {\"ID\": 118, \"Word\": \"worth\", \"pos_tag\": \"[('worth', 'NN')]\", \"tag\": \"'NN\"}, {\"ID\": 118, \"Word\": \"it\", \"pos_tag\": \"[('it', 'PRP')]\", \"tag\": \"PRP\"}, {\"ID\": 119, \"Word\": \"short\", \"pos_tag\": \"[('short', 'JJ')]\", \"tag\": \"'JJ\"}, {\"ID\": 119, \"Word\": \"life\", \"pos_tag\": \"[('life', 'NN')]\", \"tag\": \"'NN\"}, {\"ID\": 119, \"Word\": \"span\", \"pos_tag\": \"[('span', 'NN')]\", \"tag\": \"'NN\"}, {\"ID\": 120, \"Word\": \"crooked\", \"pos_tag\": \"[('crooked', 'NNS')]\", \"tag\": \"NNS\"}, {\"ID\": 120, \"Word\": \"screen\", \"pos_tag\": \"[('screen', 'NN')]\", \"tag\": \"'NN\"}, {\"ID\": 121, \"Word\": \"mixed\", \"pos_tag\": \"[('mixed', 'JJ')]\", \"tag\": \"'JJ\"}, {\"ID\": 121, \"Word\": \"feelings\", \"pos_tag\": \"[('feelings', 'NNS')]\", \"tag\": \"NNS\"}, {\"ID\": 121, \"Word\": \"on\", \"pos_tag\": \"[('on', 'IN')]\", \"tag\": \"'IN\"}, {\"ID\": 121, \"Word\": \"it\", \"pos_tag\": \"[('it', 'PRP')]\", \"tag\": \"PRP\"}, {\"ID\": 122, \"Word\": \"need\", \"pos_tag\": \"[('need', 'NN')]\", \"tag\": \"'NN\"}, {\"ID\": 122, \"Word\": \"to\", \"pos_tag\": \"[('to', 'TO')]\", \"tag\": \"'TO\"}, {\"ID\": 122, \"Word\": \"have\", \"pos_tag\": \"[('have', 'VB')]\", \"tag\": \"'VB\"}, {\"ID\": 122, \"Word\": \"certain\", \"pos_tag\": \"[('certain', 'JJ')]\", \"tag\": \"'JJ\"}, {\"ID\": 122, \"Word\": \"conditions\", \"pos_tag\": \"[('conditions', 'NNS')]\", \"tag\": \"NNS\"}, {\"ID\": 123, \"Word\": \"useless\", \"pos_tag\": \"[('useless', 'NN')]\", \"tag\": \"'NN\"}, {\"ID\": 123, \"Word\": \"for\", \"pos_tag\": \"[('for', 'IN')]\", \"tag\": \"'IN\"}, {\"ID\": 123, \"Word\": \"streaming\", \"pos_tag\": \"[('streaming', 'VBG')]\", \"tag\": \"VBG\"}, {\"ID\": 123, \"Word\": \"while\", \"pos_tag\": \"[('while', 'IN')]\", \"tag\": \"'IN\"}, {\"ID\": 123, \"Word\": \"using\", \"pos_tag\": \"[('using', 'VBG')]\", \"tag\": \"VBG\"}, {\"ID\": 123, \"Word\": \"external\", \"pos_tag\": \"[('external', 'JJ')]\", \"tag\": \"'JJ\"}, {\"ID\": 123, \"Word\": \"bluetooth\", \"pos_tag\": \"[('bluetooth', 'NN')]\", \"tag\": \"'NN\"}, {\"ID\": 123, \"Word\": \"speaker\", \"pos_tag\": \"[('speaker', 'NN')]\", \"tag\": \"'NN\"}, {\"ID\": 123, \"Word\": \"\", \"pos_tag\": \"[]\", \"tag\": null}, {\"ID\": 123, \"Word\": \"anything\", \"pos_tag\": \"[('anything', 'NN')]\", \"tag\": \"'NN\"}, {\"ID\": 123, \"Word\": \"sort\", \"pos_tag\": \"[('sort', 'NN')]\", \"tag\": \"'NN\"}, {\"ID\": 123, \"Word\": \"of\", \"pos_tag\": \"[('of', 'IN')]\", \"tag\": \"'IN\"}, {\"ID\": 123, \"Word\": \"see\", \"pos_tag\": \"[('see', 'VB')]\", \"tag\": \"'VB\"}, {\"ID\": 123, \"Word\": \"update\", \"pos_tag\": \"[('update', 'NN')]\", \"tag\": \"'NN\"}, {\"ID\": 124, \"Word\": \"not\", \"pos_tag\": \"[('not', 'RB')]\", \"tag\": \"'RB\"}, {\"ID\": 124, \"Word\": \"very\", \"pos_tag\": \"[('very', 'RB')]\", \"tag\": \"'RB\"}, {\"ID\": 124, \"Word\": \"bright\", \"pos_tag\": \"[('bright', 'NN')]\", \"tag\": \"'NN\"}, {\"ID\": 125, \"Word\": \"inside\", \"pos_tag\": \"[('inside', 'IN')]\", \"tag\": \"'IN\"}, {\"ID\": 125, \"Word\": \"of\", \"pos_tag\": \"[('of', 'IN')]\", \"tag\": \"'IN\"}, {\"ID\": 125, \"Word\": \"projector\", \"pos_tag\": \"[('projector', 'NN')]\", \"tag\": \"'NN\"}, {\"ID\": 125, \"Word\": \"screen\", \"pos_tag\": \"[('screen', 'NN')]\", \"tag\": \"'NN\"}, {\"ID\": 125, \"Word\": \"came\", \"pos_tag\": \"[('came', 'VBD')]\", \"tag\": \"VBD\"}, {\"ID\": 125, \"Word\": \"with\", \"pos_tag\": \"[('with', 'IN')]\", \"tag\": \"'IN\"}, {\"ID\": 125, \"Word\": \"a\", \"pos_tag\": \"[('a', 'DT')]\", \"tag\": \"'DT\"}, {\"ID\": 125, \"Word\": \"scratch\", \"pos_tag\": \"[('scratch', 'NN')]\", \"tag\": \"'NN\"}, {\"ID\": 126, \"Word\": \"not\", \"pos_tag\": \"[('not', 'RB')]\", \"tag\": \"'RB\"}, {\"ID\": 126, \"Word\": \"for\", \"pos_tag\": \"[('for', 'IN')]\", \"tag\": \"'IN\"}, {\"ID\": 126, \"Word\": \"iphone\", \"pos_tag\": \"[('iphone', 'NN')]\", \"tag\": \"'NN\"}, {\"ID\": 127, \"Word\": \"not\", \"pos_tag\": \"[('not', 'RB')]\", \"tag\": \"'RB\"}, {\"ID\": 127, \"Word\": \"compatible\", \"pos_tag\": \"[('compatible', 'JJ')]\", \"tag\": \"'JJ\"}, {\"ID\": 127, \"Word\": \"with\", \"pos_tag\": \"[('with', 'IN')]\", \"tag\": \"'IN\"}, {\"ID\": 127, \"Word\": \"android\", \"pos_tag\": \"[('android', 'NN')]\", \"tag\": \"'NN\"}, {\"ID\": 127, \"Word\": \"or\", \"pos_tag\": \"[('or', 'CC')]\", \"tag\": \"'CC\"}, {\"ID\": 127, \"Word\": \"windows\", \"pos_tag\": \"[('windows', 'NNS')]\", \"tag\": \"NNS\"}, {\"ID\": 128, \"Word\": \"good\", \"pos_tag\": \"[('good', 'JJ')]\", \"tag\": \"'JJ\"}, {\"ID\": 128, \"Word\": \"picture\", \"pos_tag\": \"[('picture', 'NN')]\", \"tag\": \"'NN\"}, {\"ID\": 128, \"Word\": \"quality\", \"pos_tag\": \"[('quality', 'NN')]\", \"tag\": \"'NN\"}, {\"ID\": 128, \"Word\": \"but\", \"pos_tag\": \"[('but', 'CC')]\", \"tag\": \"'CC\"}, {\"ID\": 128, \"Word\": \"hard\", \"pos_tag\": \"[('hard', 'JJ')]\", \"tag\": \"'JJ\"}, {\"ID\": 128, \"Word\": \"to\", \"pos_tag\": \"[('to', 'TO')]\", \"tag\": \"'TO\"}, {\"ID\": 128, \"Word\": \"use\", \"pos_tag\": \"[('use', 'NN')]\", \"tag\": \"'NN\"}, {\"ID\": 128, \"Word\": \"with\", \"pos_tag\": \"[('with', 'IN')]\", \"tag\": \"'IN\"}, {\"ID\": 128, \"Word\": \"phone\", \"pos_tag\": \"[('phone', 'NN')]\", \"tag\": \"'NN\"}, {\"ID\": 129, \"Word\": \"do\", \"pos_tag\": \"[('do', 'VB')]\", \"tag\": \"'VB\"}, {\"ID\": 129, \"Word\": \"not\", \"pos_tag\": \"[('not', 'RB')]\", \"tag\": \"'RB\"}, {\"ID\": 129, \"Word\": \"waste\", \"pos_tag\": \"[('waste', 'NN')]\", \"tag\": \"'NN\"}, {\"ID\": 129, \"Word\": \"your\", \"pos_tag\": \"[('your', 'PRP$')]\", \"tag\": \"RP$\"}, {\"ID\": 129, \"Word\": \"money\", \"pos_tag\": \"[('money', 'NN')]\", \"tag\": \"'NN\"}, {\"ID\": 129, \"Word\": \"on\", \"pos_tag\": \"[('on', 'IN')]\", \"tag\": \"'IN\"}, {\"ID\": 129, \"Word\": \"this\", \"pos_tag\": \"[('this', 'DT')]\", \"tag\": \"'DT\"}, {\"ID\": 129, \"Word\": \"projector\", \"pos_tag\": \"[('projector', 'NN')]\", \"tag\": \"'NN\"}, {\"ID\": 130, \"Word\": \"ca\", \"pos_tag\": \"[('ca', 'MD')]\", \"tag\": \"'MD\"}, {\"ID\": 130, \"Word\": \"not\", \"pos_tag\": \"[('not', 'RB')]\", \"tag\": \"'RB\"}, {\"ID\": 130, \"Word\": \"stream\", \"pos_tag\": \"[('stream', 'NN')]\", \"tag\": \"'NN\"}, {\"ID\": 130, \"Word\": \"without\", \"pos_tag\": \"[('without', 'IN')]\", \"tag\": \"'IN\"}, {\"ID\": 130, \"Word\": \"wifi\", \"pos_tag\": \"[('wifi', 'NN')]\", \"tag\": \"'NN\"}, {\"ID\": 131, \"Word\": \"nothing\", \"pos_tag\": \"[('nothing', 'NN')]\", \"tag\": \"'NN\"}, {\"ID\": 131, \"Word\": \"works\", \"pos_tag\": \"[('works', 'NNS')]\", \"tag\": \"NNS\"}, {\"ID\": 132, \"Word\": \"heading\", \"pos_tag\": \"[('heading', 'VBG')]\", \"tag\": \"VBG\"}, {\"ID\": 132, \"Word\": \"in\", \"pos_tag\": \"[('in', 'IN')]\", \"tag\": \"'IN\"}, {\"ID\": 132, \"Word\": \"the\", \"pos_tag\": \"[('the', 'DT')]\", \"tag\": \"'DT\"}, {\"ID\": 132, \"Word\": \"right\", \"pos_tag\": \"[('right', 'NN')]\", \"tag\": \"'NN\"}, {\"ID\": 132, \"Word\": \"direction\", \"pos_tag\": \"[('direction', 'NN')]\", \"tag\": \"'NN\"}, {\"ID\": 132, \"Word\": \"but\", \"pos_tag\": \"[('but', 'CC')]\", \"tag\": \"'CC\"}, {\"ID\": 132, \"Word\": \"still\", \"pos_tag\": \"[('still', 'RB')]\", \"tag\": \"'RB\"}, {\"ID\": 132, \"Word\": \"needs\", \"pos_tag\": \"[('needs', 'NNS')]\", \"tag\": \"NNS\"}, {\"ID\": 132, \"Word\": \"improvement\", \"pos_tag\": \"[('improvement', 'NN')]\", \"tag\": \"'NN\"}, {\"ID\": 133, \"Word\": \"seems\", \"pos_tag\": \"[('seems', 'VBZ')]\", \"tag\": \"VBZ\"}, {\"ID\": 133, \"Word\": \"tiny\", \"pos_tag\": \"[('tiny', 'JJ')]\", \"tag\": \"'JJ\"}, {\"ID\": 133, \"Word\": \"and\", \"pos_tag\": \"[('and', 'CC')]\", \"tag\": \"'CC\"}, {\"ID\": 133, \"Word\": \"simple\", \"pos_tag\": \"[('simple', 'NN')]\", \"tag\": \"'NN\"}, {\"ID\": 133, \"Word\": \"but\", \"pos_tag\": \"[('but', 'CC')]\", \"tag\": \"'CC\"}, {\"ID\": 133, \"Word\": \"is\", \"pos_tag\": \"[('is', 'VBZ')]\", \"tag\": \"VBZ\"}, {\"ID\": 133, \"Word\": \"fussy\", \"pos_tag\": \"[('fussy', 'NN')]\", \"tag\": \"'NN\"}, {\"ID\": 133, \"Word\": \"and\", \"pos_tag\": \"[('and', 'CC')]\", \"tag\": \"'CC\"}, {\"ID\": 133, \"Word\": \"meh\", \"pos_tag\": \"[('meh', 'NN')]\", \"tag\": \"'NN\"}, {\"ID\": 134, \"Word\": \"ca\", \"pos_tag\": \"[('ca', 'MD')]\", \"tag\": \"'MD\"}, {\"ID\": 134, \"Word\": \"not\", \"pos_tag\": \"[('not', 'RB')]\", \"tag\": \"'RB\"}, {\"ID\": 134, \"Word\": \"watch\", \"pos_tag\": \"[('watch', 'NN')]\", \"tag\": \"'NN\"}, {\"ID\": 134, \"Word\": \"youtube\", \"pos_tag\": \"[('youtube', 'NN')]\", \"tag\": \"'NN\"}, {\"ID\": 134, \"Word\": \"nor\", \"pos_tag\": \"[('nor', 'CC')]\", \"tag\": \"'CC\"}, {\"ID\": 134, \"Word\": \"prime\", \"pos_tag\": \"[('prime', 'NN')]\", \"tag\": \"'NN\"}, {\"ID\": 135, \"Word\": \"no\", \"pos_tag\": \"[('no', 'DT')]\", \"tag\": \"'DT\"}, {\"ID\": 135, \"Word\": \"lo\", \"pos_tag\": \"[('lo', 'NN')]\", \"tag\": \"'NN\"}, {\"ID\": 135, \"Word\": \"recomiendo\", \"pos_tag\": \"[('recomiendo', 'NN')]\", \"tag\": \"'NN\"}, {\"ID\": 136, \"Word\": \"maybe\", \"pos_tag\": \"[('maybe', 'RB')]\", \"tag\": \"'RB\"}, {\"ID\": 136, \"Word\": \"good\", \"pos_tag\": \"[('good', 'JJ')]\", \"tag\": \"'JJ\"}, {\"ID\": 136, \"Word\": \"for\", \"pos_tag\": \"[('for', 'IN')]\", \"tag\": \"'IN\"}, {\"ID\": 136, \"Word\": \"home\", \"pos_tag\": \"[('home', 'NN')]\", \"tag\": \"'NN\"}, {\"ID\": 136, \"Word\": \"not\", \"pos_tag\": \"[('not', 'RB')]\", \"tag\": \"'RB\"}, {\"ID\": 136, \"Word\": \"for\", \"pos_tag\": \"[('for', 'IN')]\", \"tag\": \"'IN\"}, {\"ID\": 136, \"Word\": \"business\", \"pos_tag\": \"[('business', 'NN')]\", \"tag\": \"'NN\"}, {\"ID\": 136, \"Word\": \"though\", \"pos_tag\": \"[('though', 'IN')]\", \"tag\": \"'IN\"}, {\"ID\": 137, \"Word\": \"just\", \"pos_tag\": \"[('just', 'RB')]\", \"tag\": \"'RB\"}, {\"ID\": 137, \"Word\": \"not\", \"pos_tag\": \"[('not', 'RB')]\", \"tag\": \"'RB\"}, {\"ID\": 137, \"Word\": \"as\", \"pos_tag\": \"[('as', 'IN')]\", \"tag\": \"'IN\"}, {\"ID\": 137, \"Word\": \"good\", \"pos_tag\": \"[('good', 'JJ')]\", \"tag\": \"'JJ\"}, {\"ID\": 137, \"Word\": \"as\", \"pos_tag\": \"[('as', 'IN')]\", \"tag\": \"'IN\"}, {\"ID\": 137, \"Word\": \"expected\", \"pos_tag\": \"[('expected', 'VBN')]\", \"tag\": \"VBN\"}, {\"ID\": 138, \"Word\": \"brightness\", \"pos_tag\": \"[('brightness', 'NN')]\", \"tag\": \"'NN\"}, {\"ID\": 138, \"Word\": \"sucks\", \"pos_tag\": \"[('sucks', 'NNS')]\", \"tag\": \"NNS\"}, {\"ID\": 138, \"Word\": \"and\", \"pos_tag\": \"[('and', 'CC')]\", \"tag\": \"'CC\"}, {\"ID\": 138, \"Word\": \"apps\", \"pos_tag\": \"[('apps', 'NN')]\", \"tag\": \"'NN\"}, {\"ID\": 138, \"Word\": \"are\", \"pos_tag\": \"[('are', 'VBP')]\", \"tag\": \"VBP\"}, {\"ID\": 138, \"Word\": \"meh\", \"pos_tag\": \"[('meh', 'NN')]\", \"tag\": \"'NN\"}, {\"ID\": 139, \"Word\": \"just\", \"pos_tag\": \"[('just', 'RB')]\", \"tag\": \"'RB\"}, {\"ID\": 139, \"Word\": \"did\", \"pos_tag\": \"[('did', 'VBD')]\", \"tag\": \"VBD\"}, {\"ID\": 139, \"Word\": \"not\", \"pos_tag\": \"[('not', 'RB')]\", \"tag\": \"'RB\"}, {\"ID\": 139, \"Word\": \"work\", \"pos_tag\": \"[('work', 'NN')]\", \"tag\": \"'NN\"}, {\"ID\": 140, \"Word\": \"very\", \"pos_tag\": \"[('very', 'RB')]\", \"tag\": \"'RB\"}, {\"ID\": 140, \"Word\": \"cool\", \"pos_tag\": \"[('cool', 'NN')]\", \"tag\": \"'NN\"}, {\"ID\": 140, \"Word\": \"concept\", \"pos_tag\": \"[('concept', 'NN')]\", \"tag\": \"'NN\"}, {\"ID\": 140, \"Word\": \"and\", \"pos_tag\": \"[('and', 'CC')]\", \"tag\": \"'CC\"}, {\"ID\": 140, \"Word\": \"works\", \"pos_tag\": \"[('works', 'NNS')]\", \"tag\": \"NNS\"}, {\"ID\": 140, \"Word\": \"amazingly\", \"pos_tag\": \"[('amazingly', 'RB')]\", \"tag\": \"'RB\"}, {\"ID\": 140, \"Word\": \"well\", \"pos_tag\": \"[('well', 'RB')]\", \"tag\": \"'RB\"}, {\"ID\": 140, \"Word\": \"in\", \"pos_tag\": \"[('in', 'IN')]\", \"tag\": \"'IN\"}, {\"ID\": 140, \"Word\": \"a\", \"pos_tag\": \"[('a', 'DT')]\", \"tag\": \"'DT\"}, {\"ID\": 140, \"Word\": \"dark\", \"pos_tag\": \"[('dark', 'NN')]\", \"tag\": \"'NN\"}, {\"ID\": 140, \"Word\": \"room\", \"pos_tag\": \"[('room', 'NN')]\", \"tag\": \"'NN\"}, {\"ID\": 141, \"Word\": \"small\", \"pos_tag\": \"[('small', 'JJ')]\", \"tag\": \"'JJ\"}, {\"ID\": 141, \"Word\": \"movie\", \"pos_tag\": \"[('movie', 'NN')]\", \"tag\": \"'NN\"}, {\"ID\": 141, \"Word\": \"projector\", \"pos_tag\": \"[('projector', 'NN')]\", \"tag\": \"'NN\"}, {\"ID\": 142, \"Word\": \"os\", \"pos_tag\": \"[('os', 'NN')]\", \"tag\": \"'NN\"}, {\"ID\": 142, \"Word\": \"was\", \"pos_tag\": \"[('was', 'VBD')]\", \"tag\": \"VBD\"}, {\"ID\": 142, \"Word\": \"terrible\", \"pos_tag\": \"[('terrible', 'JJ')]\", \"tag\": \"'JJ\"}, {\"ID\": 143, \"Word\": \"does\", \"pos_tag\": \"[('does', 'VBZ')]\", \"tag\": \"VBZ\"}, {\"ID\": 143, \"Word\": \"not\", \"pos_tag\": \"[('not', 'RB')]\", \"tag\": \"'RB\"}, {\"ID\": 143, \"Word\": \"last\", \"pos_tag\": \"[('last', 'JJ')]\", \"tag\": \"'JJ\"}, {\"ID\": 143, \"Word\": \"long\", \"pos_tag\": \"[('long', 'RB')]\", \"tag\": \"'RB\"}, {\"ID\": 144, \"Word\": \"movie\", \"pos_tag\": \"[('movie', 'NN')]\", \"tag\": \"'NN\"}, {\"ID\": 144, \"Word\": \"apps\", \"pos_tag\": \"[('apps', 'NN')]\", \"tag\": \"'NN\"}, {\"ID\": 144, \"Word\": \"constantly\", \"pos_tag\": \"[('constantly', 'RB')]\", \"tag\": \"'RB\"}, {\"ID\": 144, \"Word\": \"crash\", \"pos_tag\": \"[('crash', 'NN')]\", \"tag\": \"'NN\"}, {\"ID\": 145, \"Word\": \"terrible\", \"pos_tag\": \"[('terrible', 'JJ')]\", \"tag\": \"'JJ\"}, {\"ID\": 146, \"Word\": \"projector\", \"pos_tag\": \"[('projector', 'NN')]\", \"tag\": \"'NN\"}, {\"ID\": 146, \"Word\": \"only\", \"pos_tag\": \"[('only', 'RB')]\", \"tag\": \"'RB\"}, {\"ID\": 146, \"Word\": \"works\", \"pos_tag\": \"[('works', 'NNS')]\", \"tag\": \"NNS\"}, {\"ID\": 146, \"Word\": \"with\", \"pos_tag\": \"[('with', 'IN')]\", \"tag\": \"'IN\"}, {\"ID\": 146, \"Word\": \"apps\", \"pos_tag\": \"[('apps', 'NN')]\", \"tag\": \"'NN\"}, {\"ID\": 146, \"Word\": \"that\", \"pos_tag\": \"[('that', 'IN')]\", \"tag\": \"'IN\"}, {\"ID\": 146, \"Word\": \"come\", \"pos_tag\": \"[('come', 'VB')]\", \"tag\": \"'VB\"}, {\"ID\": 146, \"Word\": \"with\", \"pos_tag\": \"[('with', 'IN')]\", \"tag\": \"'IN\"}, {\"ID\": 146, \"Word\": \"projector\", \"pos_tag\": \"[('projector', 'NN')]\", \"tag\": \"'NN\"}, {\"ID\": 147, \"Word\": \"good\", \"pos_tag\": \"[('good', 'JJ')]\", \"tag\": \"'JJ\"}, {\"ID\": 147, \"Word\": \"projector\", \"pos_tag\": \"[('projector', 'NN')]\", \"tag\": \"'NN\"}, {\"ID\": 147, \"Word\": \"and\", \"pos_tag\": \"[('and', 'CC')]\", \"tag\": \"'CC\"}, {\"ID\": 147, \"Word\": \"battery\", \"pos_tag\": \"[('battery', 'NN')]\", \"tag\": \"'NN\"}, {\"ID\": 147, \"Word\": \"life\", \"pos_tag\": \"[('life', 'NN')]\", \"tag\": \"'NN\"}, {\"ID\": 147, \"Word\": \"but\", \"pos_tag\": \"[('but', 'CC')]\", \"tag\": \"'CC\"}, {\"ID\": 147, \"Word\": \"mirror\", \"pos_tag\": \"[('mirror', 'NN')]\", \"tag\": \"'NN\"}, {\"ID\": 147, \"Word\": \"cast\", \"pos_tag\": \"[('cast', 'NN')]\", \"tag\": \"'NN\"}, {\"ID\": 147, \"Word\": \"would\", \"pos_tag\": \"[('would', 'MD')]\", \"tag\": \"'MD\"}, {\"ID\": 147, \"Word\": \"not\", \"pos_tag\": \"[('not', 'RB')]\", \"tag\": \"'RB\"}, {\"ID\": 147, \"Word\": \"work\", \"pos_tag\": \"[('work', 'NN')]\", \"tag\": \"'NN\"}, {\"ID\": 148, \"Word\": \"three\", \"pos_tag\": \"[('three', 'CD')]\", \"tag\": \"'CD\"}, {\"ID\": 148, \"Word\": \"stars\", \"pos_tag\": \"[('stars', 'NNS')]\", \"tag\": \"NNS\"}, {\"ID\": 149, \"Word\": \"good\", \"pos_tag\": \"[('good', 'JJ')]\", \"tag\": \"'JJ\"}, {\"ID\": 149, \"Word\": \"but\", \"pos_tag\": \"[('but', 'CC')]\", \"tag\": \"'CC\"}, {\"ID\": 149, \"Word\": \"eh\", \"pos_tag\": \"[('eh', 'NN')]\", \"tag\": \"'NN\"}, {\"ID\": 150, \"Word\": \"good\", \"pos_tag\": \"[('good', 'JJ')]\", \"tag\": \"'JJ\"}, {\"ID\": 150, \"Word\": \"product\", \"pos_tag\": \"[('product', 'NN')]\", \"tag\": \"'NN\"}, {\"ID\": 150, \"Word\": \"not\", \"pos_tag\": \"[('not', 'RB')]\", \"tag\": \"'RB\"}, {\"ID\": 150, \"Word\": \"excellent\", \"pos_tag\": \"[('excellent', 'NN')]\", \"tag\": \"'NN\"}, {\"ID\": 151, \"Word\": \"item\", \"pos_tag\": \"[('item', 'NN')]\", \"tag\": \"'NN\"}, {\"ID\": 151, \"Word\": \"broke\", \"pos_tag\": \"[('broke', 'NN')]\", \"tag\": \"'NN\"}, {\"ID\": 151, \"Word\": \"after\", \"pos_tag\": \"[('after', 'IN')]\", \"tag\": \"'IN\"}, {\"ID\": 151, \"Word\": \"a\", \"pos_tag\": \"[('a', 'DT')]\", \"tag\": \"'DT\"}, {\"ID\": 151, \"Word\": \"few\", \"pos_tag\": \"[('few', 'JJ')]\", \"tag\": \"'JJ\"}, {\"ID\": 151, \"Word\": \"months\", \"pos_tag\": \"[('months', 'NNS')]\", \"tag\": \"NNS\"}, {\"ID\": 152, \"Word\": \"dont\", \"pos_tag\": \"[('dont', 'NN')]\", \"tag\": \"'NN\"}, {\"ID\": 152, \"Word\": \"buy\", \"pos_tag\": \"[('buy', 'VB')]\", \"tag\": \"'VB\"}, {\"ID\": 152, \"Word\": \"it\", \"pos_tag\": \"[('it', 'PRP')]\", \"tag\": \"PRP\"}, {\"ID\": 153, \"Word\": \"still\", \"pos_tag\": \"[('still', 'RB')]\", \"tag\": \"'RB\"}, {\"ID\": 153, \"Word\": \"it\", \"pos_tag\": \"[('it', 'PRP')]\", \"tag\": \"PRP\"}, {\"ID\": 153, \"Word\": \"is\", \"pos_tag\": \"[('is', 'VBZ')]\", \"tag\": \"VBZ\"}, {\"ID\": 153, \"Word\": \"not\", \"pos_tag\": \"[('not', 'RB')]\", \"tag\": \"'RB\"}, {\"ID\": 153, \"Word\": \"bright\", \"pos_tag\": \"[('bright', 'NN')]\", \"tag\": \"'NN\"}, {\"ID\": 153, \"Word\": \"enough\", \"pos_tag\": \"[('enough', 'RB')]\", \"tag\": \"'RB\"}, {\"ID\": 153, \"Word\": \"if\", \"pos_tag\": \"[('if', 'IN')]\", \"tag\": \"'IN\"}, {\"ID\": 153, \"Word\": \"you\", \"pos_tag\": \"[('you', 'PRP')]\", \"tag\": \"PRP\"}, {\"ID\": 153, \"Word\": \"are\", \"pos_tag\": \"[('are', 'VBP')]\", \"tag\": \"VBP\"}, {\"ID\": 153, \"Word\": \"not\", \"pos_tag\": \"[('not', 'RB')]\", \"tag\": \"'RB\"}, {\"ID\": 153, \"Word\": \"in\", \"pos_tag\": \"[('in', 'IN')]\", \"tag\": \"'IN\"}, {\"ID\": 153, \"Word\": \"a\", \"pos_tag\": \"[('a', 'DT')]\", \"tag\": \"'DT\"}, {\"ID\": 153, \"Word\": \"complete\", \"pos_tag\": \"[('complete', 'JJ')]\", \"tag\": \"'JJ\"}, {\"ID\": 153, \"Word\": \"dark\", \"pos_tag\": \"[('dark', 'NN')]\", \"tag\": \"'NN\"}, {\"ID\": 153, \"Word\": \"room\", \"pos_tag\": \"[('room', 'NN')]\", \"tag\": \"'NN\"}, {\"ID\": 154, \"Word\": \"not\", \"pos_tag\": \"[('not', 'RB')]\", \"tag\": \"'RB\"}, {\"ID\": 154, \"Word\": \"good\", \"pos_tag\": \"[('good', 'JJ')]\", \"tag\": \"'JJ\"}, {\"ID\": 155, \"Word\": \"poor\", \"pos_tag\": \"[('poor', 'JJ')]\", \"tag\": \"'JJ\"}, {\"ID\": 155, \"Word\": \"on\", \"pos_tag\": \"[('on', 'IN')]\", \"tag\": \"'IN\"}, {\"ID\": 155, \"Word\": \"brightly\", \"pos_tag\": \"[('brightly', 'RB')]\", \"tag\": \"'RB\"}, {\"ID\": 155, \"Word\": \"lit\", \"pos_tag\": \"[('lit', 'NN')]\", \"tag\": \"'NN\"}, {\"ID\": 155, \"Word\": \"rooms\", \"pos_tag\": \"[('rooms', 'NNS')]\", \"tag\": \"NNS\"}, {\"ID\": 156, \"Word\": \"still\", \"pos_tag\": \"[('still', 'RB')]\", \"tag\": \"'RB\"}, {\"ID\": 156, \"Word\": \"not\", \"pos_tag\": \"[('not', 'RB')]\", \"tag\": \"'RB\"}, {\"ID\": 156, \"Word\": \"ready\", \"pos_tag\": \"[('ready', 'JJ')]\", \"tag\": \"'JJ\"}, {\"ID\": 156, \"Word\": \"for\", \"pos_tag\": \"[('for', 'IN')]\", \"tag\": \"'IN\"}, {\"ID\": 156, \"Word\": \"prime\", \"pos_tag\": \"[('prime', 'NN')]\", \"tag\": \"'NN\"}, {\"ID\": 156, \"Word\": \"time\", \"pos_tag\": \"[('time', 'NN')]\", \"tag\": \"'NN\"}, {\"ID\": 157, \"Word\": \"poor\", \"pos_tag\": \"[('poor', 'JJ')]\", \"tag\": \"'JJ\"}, {\"ID\": 157, \"Word\": \"picture\", \"pos_tag\": \"[('picture', 'NN')]\", \"tag\": \"'NN\"}, {\"ID\": 157, \"Word\": \"quality\", \"pos_tag\": \"[('quality', 'NN')]\", \"tag\": \"'NN\"}, {\"ID\": 158, \"Word\": \"not\", \"pos_tag\": \"[('not', 'RB')]\", \"tag\": \"'RB\"}, {\"ID\": 158, \"Word\": \"worth\", \"pos_tag\": \"[('worth', 'NN')]\", \"tag\": \"'NN\"}, {\"ID\": 158, \"Word\": \"the\", \"pos_tag\": \"[('the', 'DT')]\", \"tag\": \"'DT\"}, {\"ID\": 158, \"Word\": \"hype\", \"pos_tag\": \"[('hype', 'NN')]\", \"tag\": \"'NN\"}, {\"ID\": 158, \"Word\": \"or\", \"pos_tag\": \"[('or', 'CC')]\", \"tag\": \"'CC\"}, {\"ID\": 158, \"Word\": \"the\", \"pos_tag\": \"[('the', 'DT')]\", \"tag\": \"'DT\"}, {\"ID\": 158, \"Word\": \"money\", \"pos_tag\": \"[('money', 'NN')]\", \"tag\": \"'NN\"}, {\"ID\": 159, \"Word\": \"it\", \"pos_tag\": \"[('it', 'PRP')]\", \"tag\": \"PRP\"}, {\"ID\": 159, \"Word\": \"did\", \"pos_tag\": \"[('did', 'VBD')]\", \"tag\": \"VBD\"}, {\"ID\": 159, \"Word\": \"not\", \"pos_tag\": \"[('not', 'RB')]\", \"tag\": \"'RB\"}, {\"ID\": 159, \"Word\": \"recognize\", \"pos_tag\": \"[('recognize', 'VB')]\", \"tag\": \"'VB\"}, {\"ID\": 159, \"Word\": \"hdmi\", \"pos_tag\": \"[('hdmi', 'NN')]\", \"tag\": \"'NN\"}, {\"ID\": 159, \"Word\": \"input\", \"pos_tag\": \"[('input', 'NN')]\", \"tag\": \"'NN\"}, {\"ID\": 160, \"Word\": \"the\", \"pos_tag\": \"[('the', 'DT')]\", \"tag\": \"'DT\"}, {\"ID\": 160, \"Word\": \"bluetooth\", \"pos_tag\": \"[('bluetooth', 'NN')]\", \"tag\": \"'NN\"}, {\"ID\": 160, \"Word\": \"has\", \"pos_tag\": \"[('has', 'VBZ')]\", \"tag\": \"VBZ\"}, {\"ID\": 160, \"Word\": \"a\", \"pos_tag\": \"[('a', 'DT')]\", \"tag\": \"'DT\"}, {\"ID\": 160, \"Word\": \"delay\", \"pos_tag\": \"[('delay', 'NN')]\", \"tag\": \"'NN\"}, {\"ID\": 160, \"Word\": \"with\", \"pos_tag\": \"[('with', 'IN')]\", \"tag\": \"'IN\"}, {\"ID\": 160, \"Word\": \"speaker\", \"pos_tag\": \"[('speaker', 'NN')]\", \"tag\": \"'NN\"}, {\"ID\": 161, \"Word\": \"not\", \"pos_tag\": \"[('not', 'RB')]\", \"tag\": \"'RB\"}, {\"ID\": 161, \"Word\": \"a\", \"pos_tag\": \"[('a', 'DT')]\", \"tag\": \"'DT\"}, {\"ID\": 161, \"Word\": \"sturdy\", \"pos_tag\": \"[('sturdy', 'NN')]\", \"tag\": \"'NN\"}, {\"ID\": 161, \"Word\": \"product\", \"pos_tag\": \"[('product', 'NN')]\", \"tag\": \"'NN\"}, {\"ID\": 162, \"Word\": \"not\", \"pos_tag\": \"[('not', 'RB')]\", \"tag\": \"'RB\"}, {\"ID\": 162, \"Word\": \"good\", \"pos_tag\": \"[('good', 'JJ')]\", \"tag\": \"'JJ\"}, {\"ID\": 163, \"Word\": \"disappointed\", \"pos_tag\": \"[('disappointed', 'JJ')]\", \"tag\": \"'JJ\"}, {\"ID\": 163, \"Word\": \"in\", \"pos_tag\": \"[('in', 'IN')]\", \"tag\": \"'IN\"}, {\"ID\": 163, \"Word\": \"nebula\", \"pos_tag\": \"[('nebula', 'NN')]\", \"tag\": \"'NN\"}, {\"ID\": 164, \"Word\": \"streaming\", \"pos_tag\": \"[('streaming', 'VBG')]\", \"tag\": \"VBG\"}, {\"ID\": 164, \"Word\": \"apps\", \"pos_tag\": \"[('apps', 'NN')]\", \"tag\": \"'NN\"}, {\"ID\": 164, \"Word\": \"do\", \"pos_tag\": \"[('do', 'VB')]\", \"tag\": \"'VB\"}, {\"ID\": 164, \"Word\": \"not\", \"pos_tag\": \"[('not', 'RB')]\", \"tag\": \"'RB\"}, {\"ID\": 164, \"Word\": \"work\", \"pos_tag\": \"[('work', 'NN')]\", \"tag\": \"'NN\"}, {\"ID\": 165, \"Word\": \"nebula\", \"pos_tag\": \"[('nebula', 'NN')]\", \"tag\": \"'NN\"}, {\"ID\": 166, \"Word\": \"remote\", \"pos_tag\": \"[('remote', 'NN')]\", \"tag\": \"'NN\"}, {\"ID\": 166, \"Word\": \"control\", \"pos_tag\": \"[('control', 'NN')]\", \"tag\": \"'NN\"}, {\"ID\": 166, \"Word\": \"issue\", \"pos_tag\": \"[('issue', 'NN')]\", \"tag\": \"'NN\"}, {\"ID\": 167, \"Word\": \"iphone\", \"pos_tag\": \"[('iphone', 'NN')]\", \"tag\": \"'NN\"}, {\"ID\": 167, \"Word\": \"user\", \"pos_tag\": \"[('user', 'NN')]\", \"tag\": \"'NN\"}, {\"ID\": 167, \"Word\": \"be\", \"pos_tag\": \"[('be', 'VB')]\", \"tag\": \"'VB\"}, {\"ID\": 167, \"Word\": \"aware\", \"pos_tag\": \"[('aware', 'JJ')]\", \"tag\": \"'JJ\"}, {\"ID\": 167, \"Word\": \"\", \"pos_tag\": \"[]\", \"tag\": null}, {\"ID\": 167, \"Word\": \"softwares\", \"pos_tag\": \"[('softwares', 'NNS')]\", \"tag\": \"NNS\"}, {\"ID\": 167, \"Word\": \"wo\", \"pos_tag\": \"[('wo', 'MD')]\", \"tag\": \"'MD\"}, {\"ID\": 167, \"Word\": \"not\", \"pos_tag\": \"[('not', 'RB')]\", \"tag\": \"'RB\"}, {\"ID\": 167, \"Word\": \"work\", \"pos_tag\": \"[('work', 'NN')]\", \"tag\": \"'NN\"}, {\"ID\": 168, \"Word\": \"avoid\", \"pos_tag\": \"[('avoid', 'NN')]\", \"tag\": \"'NN\"}, {\"ID\": 169, \"Word\": \"awesome\", \"pos_tag\": \"[('awesome', 'NN')]\", \"tag\": \"'NN\"}, {\"ID\": 169, \"Word\": \"except\", \"pos_tag\": \"[('except', 'IN')]\", \"tag\": \"'IN\"}, {\"ID\": 169, \"Word\": \"it\", \"pos_tag\": \"[('it', 'PRP')]\", \"tag\": \"PRP\"}, {\"ID\": 169, \"Word\": \"is\", \"pos_tag\": \"[('is', 'VBZ')]\", \"tag\": \"VBZ\"}, {\"ID\": 169, \"Word\": \"breaking\", \"pos_tag\": \"[('breaking', 'VBG')]\", \"tag\": \"VBG\"}, {\"ID\": 169, \"Word\": \"8\", \"pos_tag\": \"[('8', 'CD')]\", \"tag\": \"'CD\"}, {\"ID\": 169, \"Word\": \"months\", \"pos_tag\": \"[('months', 'NNS')]\", \"tag\": \"NNS\"}, {\"ID\": 169, \"Word\": \"in\", \"pos_tag\": \"[('in', 'IN')]\", \"tag\": \"'IN\"}, {\"ID\": 170, \"Word\": \"sound\", \"pos_tag\": \"[('sound', 'NN')]\", \"tag\": \"'NN\"}, {\"ID\": 170, \"Word\": \"output\", \"pos_tag\": \"[('output', 'NN')]\", \"tag\": \"'NN\"}, {\"ID\": 170, \"Word\": \"volume\", \"pos_tag\": \"[('volume', 'NN')]\", \"tag\": \"'NN\"}, {\"ID\": 170, \"Word\": \"is\", \"pos_tag\": \"[('is', 'VBZ')]\", \"tag\": \"VBZ\"}, {\"ID\": 170, \"Word\": \"its\", \"pos_tag\": \"[('its', 'PRP$')]\", \"tag\": \"RP$\"}, {\"ID\": 170, \"Word\": \"biggest\", \"pos_tag\": \"[('biggest', 'JJS')]\", \"tag\": \"JJS\"}, {\"ID\": 170, \"Word\": \"issue\", \"pos_tag\": \"[('issue', 'NN')]\", \"tag\": \"'NN\"}, {\"ID\": 170, \"Word\": \"\", \"pos_tag\": \"[]\", \"tag\": null}, {\"ID\": 170, \"Word\": \"not\", \"pos_tag\": \"[('not', 'RB')]\", \"tag\": \"'RB\"}, {\"ID\": 170, \"Word\": \"loud\", \"pos_tag\": \"[('loud', 'NN')]\", \"tag\": \"'NN\"}, {\"ID\": 170, \"Word\": \"enough\", \"pos_tag\": \"[('enough', 'RB')]\", \"tag\": \"'RB\"}, {\"ID\": 170, \"Word\": \"for\", \"pos_tag\": \"[('for', 'IN')]\", \"tag\": \"'IN\"}, {\"ID\": 170, \"Word\": \"outdoor\", \"pos_tag\": \"[('outdoor', 'NN')]\", \"tag\": \"'NN\"}, {\"ID\": 170, \"Word\": \"usage\", \"pos_tag\": \"[('usage', 'NN')]\", \"tag\": \"'NN\"}, {\"ID\": 171, \"Word\": \"not\", \"pos_tag\": \"[('not', 'RB')]\", \"tag\": \"'RB\"}, {\"ID\": 171, \"Word\": \"bright\", \"pos_tag\": \"[('bright', 'NN')]\", \"tag\": \"'NN\"}, {\"ID\": 171, \"Word\": \"enough\", \"pos_tag\": \"[('enough', 'RB')]\", \"tag\": \"'RB\"}, {\"ID\": 172, \"Word\": \"it\", \"pos_tag\": \"[('it', 'PRP')]\", \"tag\": \"PRP\"}, {\"ID\": 172, \"Word\": \"can\", \"pos_tag\": \"[('can', 'MD')]\", \"tag\": \"'MD\"}, {\"ID\": 172, \"Word\": \"do\", \"pos_tag\": \"[('do', 'VB')]\", \"tag\": \"'VB\"}, {\"ID\": 172, \"Word\": \"everything\", \"pos_tag\": \"[('everything', 'NN')]\", \"tag\": \"'NN\"}, {\"ID\": 172, \"Word\": \"but\", \"pos_tag\": \"[('but', 'CC')]\", \"tag\": \"'CC\"}, {\"ID\": 172, \"Word\": \"is\", \"pos_tag\": \"[('is', 'VBZ')]\", \"tag\": \"VBZ\"}, {\"ID\": 172, \"Word\": \"not\", \"pos_tag\": \"[('not', 'RB')]\", \"tag\": \"'RB\"}, {\"ID\": 172, \"Word\": \"good\", \"pos_tag\": \"[('good', 'JJ')]\", \"tag\": \"'JJ\"}, {\"ID\": 172, \"Word\": \"at\", \"pos_tag\": \"[('at', 'IN')]\", \"tag\": \"'IN\"}, {\"ID\": 172, \"Word\": \"anything\", \"pos_tag\": \"[('anything', 'NN')]\", \"tag\": \"'NN\"}, {\"ID\": 173, \"Word\": \"not\", \"pos_tag\": \"[('not', 'RB')]\", \"tag\": \"'RB\"}, {\"ID\": 173, \"Word\": \"able\", \"pos_tag\": \"[('able', 'JJ')]\", \"tag\": \"'JJ\"}, {\"ID\": 173, \"Word\": \"to\", \"pos_tag\": \"[('to', 'TO')]\", \"tag\": \"'TO\"}, {\"ID\": 173, \"Word\": \"login\", \"pos_tag\": \"[('login', 'NN')]\", \"tag\": \"'NN\"}, {\"ID\": 173, \"Word\": \"to\", \"pos_tag\": \"[('to', 'TO')]\", \"tag\": \"'TO\"}, {\"ID\": 173, \"Word\": \"youtube\", \"pos_tag\": \"[('youtube', 'NN')]\", \"tag\": \"'NN\"}, {\"ID\": 174, \"Word\": \"bad\", \"pos_tag\": \"[('bad', 'JJ')]\", \"tag\": \"'JJ\"}, {\"ID\": 174, \"Word\": \"quality\", \"pos_tag\": \"[('quality', 'NN')]\", \"tag\": \"'NN\"}, {\"ID\": 174, \"Word\": \"picture\", \"pos_tag\": \"[('picture', 'NN')]\", \"tag\": \"'NN\"}, {\"ID\": 175, \"Word\": \"horrible\", \"pos_tag\": \"[('horrible', 'JJ')]\", \"tag\": \"'JJ\"}, {\"ID\": 175, \"Word\": \"experience\", \"pos_tag\": \"[('experience', 'NN')]\", \"tag\": \"'NN\"}, {\"ID\": 176, \"Word\": \"constant\", \"pos_tag\": \"[('constant', 'JJ')]\", \"tag\": \"'JJ\"}, {\"ID\": 176, \"Word\": \"troubleshooting\", \"pos_tag\": \"[('troubleshooting', 'VBG')]\", \"tag\": \"VBG\"}, {\"ID\": 176, \"Word\": \"is\", \"pos_tag\": \"[('is', 'VBZ')]\", \"tag\": \"VBZ\"}, {\"ID\": 176, \"Word\": \"annoying\", \"pos_tag\": \"[('annoying', 'VBG')]\", \"tag\": \"VBG\"}, {\"ID\": 177, \"Word\": \"anyway\", \"pos_tag\": \"[('anyway', 'RB')]\", \"tag\": \"'RB\"}, {\"ID\": 177, \"Word\": \"i\", \"pos_tag\": \"[('i', 'NN')]\", \"tag\": \"'NN\"}, {\"ID\": 177, \"Word\": \"can\", \"pos_tag\": \"[('can', 'MD')]\", \"tag\": \"'MD\"}, {\"ID\": 177, \"Word\": \"project\", \"pos_tag\": \"[('project', 'NN')]\", \"tag\": \"'NN\"}, {\"ID\": 177, \"Word\": \"my\", \"pos_tag\": \"[('my', 'PRP$')]\", \"tag\": \"RP$\"}, {\"ID\": 177, \"Word\": \"iphone\", \"pos_tag\": \"[('iphone', 'NN')]\", \"tag\": \"'NN\"}, {\"ID\": 178, \"Word\": \"bad\", \"pos_tag\": \"[('bad', 'JJ')]\", \"tag\": \"'JJ\"}, {\"ID\": 178, \"Word\": \"image\", \"pos_tag\": \"[('image', 'NN')]\", \"tag\": \"'NN\"}, {\"ID\": 178, \"Word\": \"quality\", \"pos_tag\": \"[('quality', 'NN')]\", \"tag\": \"'NN\"}, {\"ID\": 178, \"Word\": \"and\", \"pos_tag\": \"[('and', 'CC')]\", \"tag\": \"'CC\"}, {\"ID\": 178, \"Word\": \"brightness\", \"pos_tag\": \"[('brightness', 'NN')]\", \"tag\": \"'NN\"}, {\"ID\": 179, \"Word\": \"small\", \"pos_tag\": \"[('small', 'JJ')]\", \"tag\": \"'JJ\"}, {\"ID\": 179, \"Word\": \"but\", \"pos_tag\": \"[('but', 'CC')]\", \"tag\": \"'CC\"}, {\"ID\": 179, \"Word\": \"dull\", \"pos_tag\": \"[('dull', 'NN')]\", \"tag\": \"'NN\"}, {\"ID\": 180, \"Word\": \"product\", \"pos_tag\": \"[('product', 'NN')]\", \"tag\": \"'NN\"}, {\"ID\": 180, \"Word\": \"default\", \"pos_tag\": \"[('default', 'NN')]\", \"tag\": \"'NN\"}, {\"ID\": 180, \"Word\": \"shows\", \"pos_tag\": \"[('shows', 'NNS')]\", \"tag\": \"NNS\"}, {\"ID\": 180, \"Word\": \"up\", \"pos_tag\": \"[('up', 'RB')]\", \"tag\": \"'RB\"}, {\"ID\": 180, \"Word\": \"after\", \"pos_tag\": \"[('after', 'IN')]\", \"tag\": \"'IN\"}, {\"ID\": 180, \"Word\": \"1\", \"pos_tag\": \"[('1', 'CD')]\", \"tag\": \"'CD\"}, {\"ID\": 180, \"Word\": \"month\", \"pos_tag\": \"[('month', 'NN')]\", \"tag\": \"'NN\"}, {\"ID\": 181, \"Word\": \"it\", \"pos_tag\": \"[('it', 'PRP')]\", \"tag\": \"PRP\"}, {\"ID\": 181, \"Word\": \"could\", \"pos_tag\": \"[('could', 'MD')]\", \"tag\": \"'MD\"}, {\"ID\": 181, \"Word\": \"be\", \"pos_tag\": \"[('be', 'VB')]\", \"tag\": \"'VB\"}, {\"ID\": 181, \"Word\": \"better\", \"pos_tag\": \"[('better', 'RBR')]\", \"tag\": \"RBR\"}, {\"ID\": 182, \"Word\": \"just\", \"pos_tag\": \"[('just', 'RB')]\", \"tag\": \"'RB\"}, {\"ID\": 182, \"Word\": \"get\", \"pos_tag\": \"[('get', 'VB')]\", \"tag\": \"'VB\"}, {\"ID\": 182, \"Word\": \"the\", \"pos_tag\": \"[('the', 'DT')]\", \"tag\": \"'DT\"}, {\"ID\": 182, \"Word\": \"nebula\", \"pos_tag\": \"[('nebula', 'NN')]\", \"tag\": \"'NN\"}, {\"ID\": 182, \"Word\": \"ii\", \"pos_tag\": \"[('ii', 'NN')]\", \"tag\": \"'NN\"}, {\"ID\": 182, \"Word\": \"this\", \"pos_tag\": \"[('this', 'DT')]\", \"tag\": \"'DT\"}, {\"ID\": 182, \"Word\": \"one\", \"pos_tag\": \"[('one', 'CD')]\", \"tag\": \"'CD\"}, {\"ID\": 182, \"Word\": \"is\", \"pos_tag\": \"[('is', 'VBZ')]\", \"tag\": \"VBZ\"}, {\"ID\": 182, \"Word\": \"a\", \"pos_tag\": \"[('a', 'DT')]\", \"tag\": \"'DT\"}, {\"ID\": 182, \"Word\": \"waste\", \"pos_tag\": \"[('waste', 'NN')]\", \"tag\": \"'NN\"}, {\"ID\": 182, \"Word\": \"of\", \"pos_tag\": \"[('of', 'IN')]\", \"tag\": \"'IN\"}, {\"ID\": 182, \"Word\": \"money\", \"pos_tag\": \"[('money', 'NN')]\", \"tag\": \"'NN\"}, {\"ID\": 183, \"Word\": \"cant\", \"pos_tag\": \"[('cant', 'NN')]\", \"tag\": \"'NN\"}, {\"ID\": 183, \"Word\": \"screen\", \"pos_tag\": \"[('screen', 'NN')]\", \"tag\": \"'NN\"}, {\"ID\": 183, \"Word\": \"share\", \"pos_tag\": \"[('share', 'NN')]\", \"tag\": \"'NN\"}, {\"ID\": 183, \"Word\": \"netflix\", \"pos_tag\": \"[('netflix', 'NN')]\", \"tag\": \"'NN\"}, {\"ID\": 183, \"Word\": \"or\", \"pos_tag\": \"[('or', 'CC')]\", \"tag\": \"'CC\"}, {\"ID\": 183, \"Word\": \"amazon\", \"pos_tag\": \"[('amazon', 'NN')]\", \"tag\": \"'NN\"}, {\"ID\": 183, \"Word\": \"ect\", \"pos_tag\": \"[('ect', 'NN')]\", \"tag\": \"'NN\"}, {\"ID\": 184, \"Word\": \"good\", \"pos_tag\": \"[('good', 'JJ')]\", \"tag\": \"'JJ\"}, {\"ID\": 184, \"Word\": \"in\", \"pos_tag\": \"[('in', 'IN')]\", \"tag\": \"'IN\"}, {\"ID\": 184, \"Word\": \"the\", \"pos_tag\": \"[('the', 'DT')]\", \"tag\": \"'DT\"}, {\"ID\": 184, \"Word\": \"dark\", \"pos_tag\": \"[('dark', 'NN')]\", \"tag\": \"'NN\"}, {\"ID\": 185, \"Word\": \"poor\", \"pos_tag\": \"[('poor', 'JJ')]\", \"tag\": \"'JJ\"}, {\"ID\": 185, \"Word\": \"quality\", \"pos_tag\": \"[('quality', 'NN')]\", \"tag\": \"'NN\"}, {\"ID\": 186, \"Word\": \"tilted\", \"pos_tag\": \"[('tilted', 'VBN')]\", \"tag\": \"VBN\"}, {\"ID\": 186, \"Word\": \"screen\", \"pos_tag\": \"[('screen', 'NN')]\", \"tag\": \"'NN\"}, {\"ID\": 187, \"Word\": \"quality\", \"pos_tag\": \"[('quality', 'NN')]\", \"tag\": \"'NN\"}, {\"ID\": 187, \"Word\": \"is\", \"pos_tag\": \"[('is', 'VBZ')]\", \"tag\": \"VBZ\"}, {\"ID\": 187, \"Word\": \"not\", \"pos_tag\": \"[('not', 'RB')]\", \"tag\": \"'RB\"}, {\"ID\": 187, \"Word\": \"there\", \"pos_tag\": \"[('there', 'RB')]\", \"tag\": \"'RB\"}, {\"ID\": 188, \"Word\": \"lost\", \"pos_tag\": \"[('lost', 'VBN')]\", \"tag\": \"VBN\"}, {\"ID\": 188, \"Word\": \"sound\", \"pos_tag\": \"[('sound', 'NN')]\", \"tag\": \"'NN\"}, {\"ID\": 189, \"Word\": \"good\", \"pos_tag\": \"[('good', 'JJ')]\", \"tag\": \"'JJ\"}, {\"ID\": 189, \"Word\": \"for\", \"pos_tag\": \"[('for', 'IN')]\", \"tag\": \"'IN\"}, {\"ID\": 189, \"Word\": \"a\", \"pos_tag\": \"[('a', 'DT')]\", \"tag\": \"'DT\"}, {\"ID\": 189, \"Word\": \"cute\", \"pos_tag\": \"[('cute', 'NN')]\", \"tag\": \"'NN\"}, {\"ID\": 189, \"Word\": \"pillow\", \"pos_tag\": \"[('pillow', 'NN')]\", \"tag\": \"'NN\"}, {\"ID\": 189, \"Word\": \"fort\", \"pos_tag\": \"[('fort', 'NN')]\", \"tag\": \"'NN\"}, {\"ID\": 189, \"Word\": \"date\", \"pos_tag\": \"[('date', 'NN')]\", \"tag\": \"'NN\"}, {\"ID\": 189, \"Word\": \"or\", \"pos_tag\": \"[('or', 'CC')]\", \"tag\": \"'CC\"}, {\"ID\": 189, \"Word\": \"camping\", \"pos_tag\": \"[('camping', 'VBG')]\", \"tag\": \"VBG\"}, {\"ID\": 190, \"Word\": \"is\", \"pos_tag\": \"[('is', 'VBZ')]\", \"tag\": \"VBZ\"}, {\"ID\": 190, \"Word\": \"hard\", \"pos_tag\": \"[('hard', 'JJ')]\", \"tag\": \"'JJ\"}, {\"ID\": 190, \"Word\": \"to\", \"pos_tag\": \"[('to', 'TO')]\", \"tag\": \"'TO\"}, {\"ID\": 190, \"Word\": \"perfect\", \"pos_tag\": \"[('perfect', 'NN')]\", \"tag\": \"'NN\"}, {\"ID\": 190, \"Word\": \"match\", \"pos_tag\": \"[('match', 'NN')]\", \"tag\": \"'NN\"}, {\"ID\": 190, \"Word\": \"dostan\", \"pos_tag\": \"[('dostan', 'NN')]\", \"tag\": \"'NN\"}, {\"ID\": 190, \"Word\": \"and\", \"pos_tag\": \"[('and', 'CC')]\", \"tag\": \"'CC\"}, {\"ID\": 190, \"Word\": \"high\", \"pos_tag\": \"[('high', 'JJ')]\", \"tag\": \"'JJ\"}, {\"ID\": 190, \"Word\": \"fot\", \"pos_tag\": \"[('fot', 'NN')]\", \"tag\": \"'NN\"}, {\"ID\": 190, \"Word\": \"screen\", \"pos_tag\": \"[('screen', 'NN')]\", \"tag\": \"'NN\"}, {\"ID\": 190, \"Word\": \"size\", \"pos_tag\": \"[('size', 'NN')]\", \"tag\": \"'NN\"}, {\"ID\": 190, \"Word\": \"there\", \"pos_tag\": \"[('there', 'RB')]\", \"tag\": \"'RB\"}, {\"ID\": 190, \"Word\": \"is\", \"pos_tag\": \"[('is', 'VBZ')]\", \"tag\": \"VBZ\"}, {\"ID\": 190, \"Word\": \"no\", \"pos_tag\": \"[('no', 'DT')]\", \"tag\": \"'DT\"}, {\"ID\": 190, \"Word\": \"other\", \"pos_tag\": \"[('other', 'JJ')]\", \"tag\": \"'JJ\"}, {\"ID\": 190, \"Word\": \"way\", \"pos_tag\": \"[('way', 'NN')]\", \"tag\": \"'NN\"}, {\"ID\": 190, \"Word\": \"to\", \"pos_tag\": \"[('to', 'TO')]\", \"tag\": \"'TO\"}, {\"ID\": 190, \"Word\": \"adjust\", \"pos_tag\": \"[('adjust', 'NN')]\", \"tag\": \"'NN\"}, {\"ID\": 190, \"Word\": \"screen\", \"pos_tag\": \"[('screen', 'NN')]\", \"tag\": \"'NN\"}, {\"ID\": 191, \"Word\": \"cannot\", \"pos_tag\": \"[('can', 'MD'), ('not', 'RB')]\", \"tag\": \"'RB\"}, {\"ID\": 191, \"Word\": \"cast\", \"pos_tag\": \"[('cast', 'NN')]\", \"tag\": \"'NN\"}, {\"ID\": 191, \"Word\": \"to\", \"pos_tag\": \"[('to', 'TO')]\", \"tag\": \"'TO\"}, {\"ID\": 191, \"Word\": \"projector\", \"pos_tag\": \"[('projector', 'NN')]\", \"tag\": \"'NN\"}, {\"ID\": 192, \"Word\": \"not\", \"pos_tag\": \"[('not', 'RB')]\", \"tag\": \"'RB\"}, {\"ID\": 192, \"Word\": \"worth\", \"pos_tag\": \"[('worth', 'NN')]\", \"tag\": \"'NN\"}, {\"ID\": 192, \"Word\": \"the\", \"pos_tag\": \"[('the', 'DT')]\", \"tag\": \"'DT\"}, {\"ID\": 192, \"Word\": \"hype\", \"pos_tag\": \"[('hype', 'NN')]\", \"tag\": \"'NN\"}, {\"ID\": 193, \"Word\": \"impossible\", \"pos_tag\": \"[('impossible', 'JJ')]\", \"tag\": \"'JJ\"}, {\"ID\": 193, \"Word\": \"to\", \"pos_tag\": \"[('to', 'TO')]\", \"tag\": \"'TO\"}, {\"ID\": 193, \"Word\": \"adjust\", \"pos_tag\": \"[('adjust', 'NN')]\", \"tag\": \"'NN\"}, {\"ID\": 193, \"Word\": \"menu\", \"pos_tag\": \"[('menu', 'NN')]\", \"tag\": \"'NN\"}, {\"ID\": 193, \"Word\": \"is\", \"pos_tag\": \"[('is', 'VBZ')]\", \"tag\": \"VBZ\"}, {\"ID\": 193, \"Word\": \"garbage\", \"pos_tag\": \"[('garbage', 'NN')]\", \"tag\": \"'NN\"}, {\"ID\": 194, \"Word\": \"too\", \"pos_tag\": \"[('too', 'RB')]\", \"tag\": \"'RB\"}, {\"ID\": 194, \"Word\": \"bad\\uff01do\", \"pos_tag\": \"[('bad\\uff01do', 'NN')]\", \"tag\": \"'NN\"}, {\"ID\": 194, \"Word\": \"not\", \"pos_tag\": \"[('not', 'RB')]\", \"tag\": \"'RB\"}, {\"ID\": 194, \"Word\": \"buy\\uff01\\uff01\", \"pos_tag\": \"[('buy\\uff01\\uff01', 'NN')]\", \"tag\": \"'NN\"}, {\"ID\": 195, \"Word\": \"read\", \"pos_tag\": \"[('read', 'NN')]\", \"tag\": \"'NN\"}, {\"ID\": 195, \"Word\": \"this\", \"pos_tag\": \"[('this', 'DT')]\", \"tag\": \"'DT\"}, {\"ID\": 195, \"Word\": \"before\", \"pos_tag\": \"[('before', 'IN')]\", \"tag\": \"'IN\"}, {\"ID\": 195, \"Word\": \"you\", \"pos_tag\": \"[('you', 'PRP')]\", \"tag\": \"PRP\"}, {\"ID\": 195, \"Word\": \"buy\", \"pos_tag\": \"[('buy', 'VB')]\", \"tag\": \"'VB\"}, {\"ID\": 196, \"Word\": \"overall\", \"pos_tag\": \"[('overall', 'JJ')]\", \"tag\": \"'JJ\"}, {\"ID\": 196, \"Word\": \"solid\", \"pos_tag\": \"[('solid', 'JJ')]\", \"tag\": \"'JJ\"}, {\"ID\": 196, \"Word\": \"product\", \"pos_tag\": \"[('product', 'NN')]\", \"tag\": \"'NN\"}, {\"ID\": 197, \"Word\": \"too\", \"pos_tag\": \"[('too', 'RB')]\", \"tag\": \"'RB\"}, {\"ID\": 197, \"Word\": \"many\", \"pos_tag\": \"[('many', 'JJ')]\", \"tag\": \"'JJ\"}, {\"ID\": 197, \"Word\": \"glitches\", \"pos_tag\": \"[('glitches', 'NNS')]\", \"tag\": \"NNS\"}, {\"ID\": 198, \"Word\": \"expected\", \"pos_tag\": \"[('expected', 'VBN')]\", \"tag\": \"VBN\"}, {\"ID\": 198, \"Word\": \"more\", \"pos_tag\": \"[('more', 'RBR')]\", \"tag\": \"RBR\"}, {\"ID\": 199, \"Word\": \"without\", \"pos_tag\": \"[('without', 'IN')]\", \"tag\": \"'IN\"}, {\"ID\": 199, \"Word\": \"support\", \"pos_tag\": \"[('support', 'NN')]\", \"tag\": \"'NN\"}, {\"ID\": 199, \"Word\": \"this\", \"pos_tag\": \"[('this', 'DT')]\", \"tag\": \"'DT\"}, {\"ID\": 199, \"Word\": \"thing\", \"pos_tag\": \"[('thing', 'NN')]\", \"tag\": \"'NN\"}, {\"ID\": 199, \"Word\": \"is\", \"pos_tag\": \"[('is', 'VBZ')]\", \"tag\": \"VBZ\"}, {\"ID\": 199, \"Word\": \"useless\", \"pos_tag\": \"[('useless', 'NN')]\", \"tag\": \"'NN\"}, {\"ID\": 200, \"Word\": \"100\", \"pos_tag\": \"[('100', 'CD')]\", \"tag\": \"'CD\"}, {\"ID\": 200, \"Word\": \"ansi\", \"pos_tag\": \"[('ansi', 'NN')]\", \"tag\": \"'NN\"}, {\"ID\": 200, \"Word\": \"lumens\", \"pos_tag\": \"[('lumens', 'NNS')]\", \"tag\": \"NNS\"}, {\"ID\": 200, \"Word\": \"is\", \"pos_tag\": \"[('is', 'VBZ')]\", \"tag\": \"VBZ\"}, {\"ID\": 200, \"Word\": \"not\", \"pos_tag\": \"[('not', 'RB')]\", \"tag\": \"'RB\"}, {\"ID\": 200, \"Word\": \"upto\", \"pos_tag\": \"[('upto', 'NN')]\", \"tag\": \"'NN\"}, {\"ID\": 200, \"Word\": \"the\", \"pos_tag\": \"[('the', 'DT')]\", \"tag\": \"'DT\"}, {\"ID\": 200, \"Word\": \"expectations\", \"pos_tag\": \"[('expectations', 'NNS')]\", \"tag\": \"NNS\"}, {\"ID\": 201, \"Word\": \"crooked\", \"pos_tag\": \"[('crooked', 'NNS')]\", \"tag\": \"NNS\"}, {\"ID\": 201, \"Word\": \"lens\", \"pos_tag\": \"[('lens', 'NNS')]\", \"tag\": \"NNS\"}, {\"ID\": 202, \"Word\": \"terrible\", \"pos_tag\": \"[('terrible', 'JJ')]\", \"tag\": \"'JJ\"}, {\"ID\": 202, \"Word\": \"unit\", \"pos_tag\": \"[('unit', 'NN')]\", \"tag\": \"'NN\"}, {\"ID\": 203, \"Word\": \"doe\", \"pos_tag\": \"[('doe', 'NN')]\", \"tag\": \"'NN\"}, {\"ID\": 203, \"Word\": \"not\", \"pos_tag\": \"[('not', 'RB')]\", \"tag\": \"'RB\"}, {\"ID\": 203, \"Word\": \"last\", \"pos_tag\": \"[('last', 'JJ')]\", \"tag\": \"'JJ\"}, {\"ID\": 203, \"Word\": \"long\", \"pos_tag\": \"[('long', 'RB')]\", \"tag\": \"'RB\"}, {\"ID\": 203, \"Word\": \"anymore\", \"pos_tag\": \"[('anymore', 'RB')]\", \"tag\": \"'RB\"}, {\"ID\": 204, \"Word\": \"difficult\", \"pos_tag\": \"[('difficult', 'JJ')]\", \"tag\": \"'JJ\"}, {\"ID\": 204, \"Word\": \"period\", \"pos_tag\": \"[('period', 'NN')]\", \"tag\": \"'NN\"}, {\"ID\": 205, \"Word\": \"superb\", \"pos_tag\": \"[('superb', 'NN')]\", \"tag\": \"'NN\"}, {\"ID\": 205, \"Word\": \"device\", \"pos_tag\": \"[('device', 'NN')]\", \"tag\": \"'NN\"}, {\"ID\": 205, \"Word\": \"\", \"pos_tag\": \"[]\", \"tag\": null}, {\"ID\": 205, \"Word\": \"extremely\", \"pos_tag\": \"[('extremely', 'RB')]\", \"tag\": \"'RB\"}, {\"ID\": 205, \"Word\": \"bad\", \"pos_tag\": \"[('bad', 'JJ')]\", \"tag\": \"'JJ\"}, {\"ID\": 205, \"Word\": \"keyboard\", \"pos_tag\": \"[('keyboard', 'NN')]\", \"tag\": \"'NN\"}, {\"ID\": 206, \"Word\": \"not\", \"pos_tag\": \"[('not', 'RB')]\", \"tag\": \"'RB\"}, {\"ID\": 206, \"Word\": \"quite\", \"pos_tag\": \"[('quite', 'RB')]\", \"tag\": \"'RB\"}, {\"ID\": 206, \"Word\": \"as\", \"pos_tag\": \"[('as', 'IN')]\", \"tag\": \"'IN\"}, {\"ID\": 206, \"Word\": \"advertised\", \"pos_tag\": \"[('advertised', 'JJ')]\", \"tag\": \"'JJ\"}, {\"ID\": 207, \"Word\": \"stop\", \"pos_tag\": \"[('stop', 'NN')]\", \"tag\": \"'NN\"}, {\"ID\": 207, \"Word\": \"working\", \"pos_tag\": \"[('working', 'VBG')]\", \"tag\": \"VBG\"}, {\"ID\": 207, \"Word\": \"after\", \"pos_tag\": \"[('after', 'IN')]\", \"tag\": \"'IN\"}, {\"ID\": 207, \"Word\": \"like\", \"pos_tag\": \"[('like', 'IN')]\", \"tag\": \"'IN\"}, {\"ID\": 207, \"Word\": \"5\", \"pos_tag\": \"[('5', 'CD')]\", \"tag\": \"'CD\"}, {\"ID\": 207, \"Word\": \"used\", \"pos_tag\": \"[('used', 'VBN')]\", \"tag\": \"VBN\"}, {\"ID\": 208, \"Word\": \"a\", \"pos_tag\": \"[('a', 'DT')]\", \"tag\": \"'DT\"}, {\"ID\": 208, \"Word\": \"little\", \"pos_tag\": \"[('little', 'JJ')]\", \"tag\": \"'JJ\"}, {\"ID\": 208, \"Word\": \"disappointing\", \"pos_tag\": \"[('disappointing', 'VBG')]\", \"tag\": \"VBG\"}, {\"ID\": 208, \"Word\": \"if\", \"pos_tag\": \"[('if', 'IN')]\", \"tag\": \"'IN\"}, {\"ID\": 208, \"Word\": \"you\", \"pos_tag\": \"[('you', 'PRP')]\", \"tag\": \"PRP\"}, {\"ID\": 208, \"Word\": \"have\", \"pos_tag\": \"[('have', 'VB')]\", \"tag\": \"'VB\"}, {\"ID\": 208, \"Word\": \"an\", \"pos_tag\": \"[('an', 'DT')]\", \"tag\": \"'DT\"}, {\"ID\": 208, \"Word\": \"iphone\", \"pos_tag\": \"[('iphone', 'NN')]\", \"tag\": \"'NN\"}, {\"ID\": 208, \"Word\": \"do\", \"pos_tag\": \"[('do', 'VB')]\", \"tag\": \"'VB\"}, {\"ID\": 208, \"Word\": \"not\", \"pos_tag\": \"[('not', 'RB')]\", \"tag\": \"'RB\"}, {\"ID\": 208, \"Word\": \"get\", \"pos_tag\": \"[('get', 'VB')]\", \"tag\": \"'VB\"}, {\"ID\": 209, \"Word\": \"nice\", \"pos_tag\": \"[('nice', 'JJ')]\", \"tag\": \"'JJ\"}, {\"ID\": 209, \"Word\": \"compact\", \"pos_tag\": \"[('compact', 'NN')]\", \"tag\": \"'NN\"}, {\"ID\": 209, \"Word\": \"mini\", \"pos_tag\": \"[('mini', 'NN')]\", \"tag\": \"'NN\"}, {\"ID\": 209, \"Word\": \"projector\", \"pos_tag\": \"[('projector', 'NN')]\", \"tag\": \"'NN\"}, {\"ID\": 209, \"Word\": \"with\", \"pos_tag\": \"[('with', 'IN')]\", \"tag\": \"'IN\"}, {\"ID\": 209, \"Word\": \"great\", \"pos_tag\": \"[('great', 'JJ')]\", \"tag\": \"'JJ\"}, {\"ID\": 209, \"Word\": \"speaker\", \"pos_tag\": \"[('speaker', 'NN')]\", \"tag\": \"'NN\"}, {\"ID\": 210, \"Word\": \"two\", \"pos_tag\": \"[('two', 'CD')]\", \"tag\": \"'CD\"}, {\"ID\": 210, \"Word\": \"stars\", \"pos_tag\": \"[('stars', 'NNS')]\", \"tag\": \"NNS\"}, {\"ID\": 211, \"Word\": \"does\", \"pos_tag\": \"[('does', 'VBZ')]\", \"tag\": \"VBZ\"}, {\"ID\": 211, \"Word\": \"not\", \"pos_tag\": \"[('not', 'RB')]\", \"tag\": \"'RB\"}, {\"ID\": 211, \"Word\": \"do\", \"pos_tag\": \"[('do', 'VB')]\", \"tag\": \"'VB\"}, {\"ID\": 211, \"Word\": \"what\", \"pos_tag\": \"[('what', 'WP')]\", \"tag\": \"'WP\"}, {\"ID\": 211, \"Word\": \"basic\", \"pos_tag\": \"[('basic', 'JJ')]\", \"tag\": \"'JJ\"}, {\"ID\": 211, \"Word\": \"projectors\", \"pos_tag\": \"[('projectors', 'NNS')]\", \"tag\": \"NNS\"}, {\"ID\": 211, \"Word\": \"are\", \"pos_tag\": \"[('are', 'VBP')]\", \"tag\": \"VBP\"}, {\"ID\": 211, \"Word\": \"supposed\", \"pos_tag\": \"[('supposed', 'VBN')]\", \"tag\": \"VBN\"}, {\"ID\": 211, \"Word\": \"to\", \"pos_tag\": \"[('to', 'TO')]\", \"tag\": \"'TO\"}, {\"ID\": 212, \"Word\": \"slow\", \"pos_tag\": \"[('slow', 'VB')]\", \"tag\": \"'VB\"}, {\"ID\": 212, \"Word\": \"difficult\", \"pos_tag\": \"[('difficult', 'JJ')]\", \"tag\": \"'JJ\"}, {\"ID\": 212, \"Word\": \"to\", \"pos_tag\": \"[('to', 'TO')]\", \"tag\": \"'TO\"}, {\"ID\": 212, \"Word\": \"connect\", \"pos_tag\": \"[('connect', 'NN')]\", \"tag\": \"'NN\"}, {\"ID\": 212, \"Word\": \"wifi\", \"pos_tag\": \"[('wifi', 'NN')]\", \"tag\": \"'NN\"}, {\"ID\": 212, \"Word\": \"is\", \"pos_tag\": \"[('is', 'VBZ')]\", \"tag\": \"VBZ\"}, {\"ID\": 212, \"Word\": \"broken\", \"pos_tag\": \"[('broken', 'NN')]\", \"tag\": \"'NN\"}, {\"ID\": 213, \"Word\": \"used\", \"pos_tag\": \"[('used', 'VBN')]\", \"tag\": \"VBN\"}, {\"ID\": 213, \"Word\": \"unit\", \"pos_tag\": \"[('unit', 'NN')]\", \"tag\": \"'NN\"}, {\"ID\": 213, \"Word\": \"with\", \"pos_tag\": \"[('with', 'IN')]\", \"tag\": \"'IN\"}, {\"ID\": 213, \"Word\": \"missing\", \"pos_tag\": \"[('missing', 'VBG')]\", \"tag\": \"VBG\"}, {\"ID\": 213, \"Word\": \"accessories\", \"pos_tag\": \"[('accessories', 'NNS')]\", \"tag\": \"NNS\"}, {\"ID\": 214, \"Word\": \"price\", \"pos_tag\": \"[('price', 'NN')]\", \"tag\": \"'NN\"}, {\"ID\": 214, \"Word\": \"is\", \"pos_tag\": \"[('is', 'VBZ')]\", \"tag\": \"VBZ\"}, {\"ID\": 214, \"Word\": \"hig\", \"pos_tag\": \"[('hig', 'NN')]\", \"tag\": \"'NN\"}, {\"ID\": 215, \"Word\": \"to\", \"pos_tag\": \"[('to', 'TO')]\", \"tag\": \"'TO\"}, {\"ID\": 215, \"Word\": \"be\", \"pos_tag\": \"[('be', 'VB')]\", \"tag\": \"'VB\"}, {\"ID\": 215, \"Word\": \"able\", \"pos_tag\": \"[('able', 'JJ')]\", \"tag\": \"'JJ\"}, {\"ID\": 215, \"Word\": \"to\", \"pos_tag\": \"[('to', 'TO')]\", \"tag\": \"'TO\"}, {\"ID\": 215, \"Word\": \"use\", \"pos_tag\": \"[('use', 'NN')]\", \"tag\": \"'NN\"}, {\"ID\": 215, \"Word\": \"the\", \"pos_tag\": \"[('the', 'DT')]\", \"tag\": \"'DT\"}, {\"ID\": 215, \"Word\": \"projector\", \"pos_tag\": \"[('projector', 'NN')]\", \"tag\": \"'NN\"}, {\"ID\": 216, \"Word\": \"video\", \"pos_tag\": \"[('video', 'NN')]\", \"tag\": \"'NN\"}, {\"ID\": 216, \"Word\": \"quality\", \"pos_tag\": \"[('quality', 'NN')]\", \"tag\": \"'NN\"}, {\"ID\": 216, \"Word\": \"ok\", \"pos_tag\": \"[('ok', 'NN')]\", \"tag\": \"'NN\"}, {\"ID\": 216, \"Word\": \"but\", \"pos_tag\": \"[('but', 'CC')]\", \"tag\": \"'CC\"}, {\"ID\": 216, \"Word\": \"need\", \"pos_tag\": \"[('need', 'NN')]\", \"tag\": \"'NN\"}, {\"ID\": 216, \"Word\": \"more\", \"pos_tag\": \"[('more', 'RBR')]\", \"tag\": \"RBR\"}, {\"ID\": 216, \"Word\": \"improvement\", \"pos_tag\": \"[('improvement', 'NN')]\", \"tag\": \"'NN\"}, {\"ID\": 217, \"Word\": \"not\", \"pos_tag\": \"[('not', 'RB')]\", \"tag\": \"'RB\"}, {\"ID\": 217, \"Word\": \"a\", \"pos_tag\": \"[('a', 'DT')]\", \"tag\": \"'DT\"}, {\"ID\": 217, \"Word\": \"pleasant\", \"pos_tag\": \"[('pleasant', 'NN')]\", \"tag\": \"'NN\"}, {\"ID\": 217, \"Word\": \"product\", \"pos_tag\": \"[('product', 'NN')]\", \"tag\": \"'NN\"}, {\"ID\": 218, \"Word\": \"i\", \"pos_tag\": \"[('i', 'NN')]\", \"tag\": \"'NN\"}, {\"ID\": 218, \"Word\": \"have\", \"pos_tag\": \"[('have', 'VB')]\", \"tag\": \"'VB\"}, {\"ID\": 218, \"Word\": \"seen\", \"pos_tag\": \"[('seen', 'VBN')]\", \"tag\": \"VBN\"}, {\"ID\": 218, \"Word\": \"better\", \"pos_tag\": \"[('better', 'RBR')]\", \"tag\": \"RBR\"}, {\"ID\": 218, \"Word\": \"and\", \"pos_tag\": \"[('and', 'CC')]\", \"tag\": \"'CC\"}, {\"ID\": 218, \"Word\": \"cheaper\", \"pos_tag\": \"[('cheaper', 'NN')]\", \"tag\": \"'NN\"}, {\"ID\": 219, \"Word\": \"okay\", \"pos_tag\": \"[('okay', 'NN')]\", \"tag\": \"'NN\"}, {\"ID\": 220, \"Word\": \"not\", \"pos_tag\": \"[('not', 'RB')]\", \"tag\": \"'RB\"}, {\"ID\": 220, \"Word\": \"good\", \"pos_tag\": \"[('good', 'JJ')]\", \"tag\": \"'JJ\"}, {\"ID\": 221, \"Word\": \"does\", \"pos_tag\": \"[('does', 'VBZ')]\", \"tag\": \"VBZ\"}, {\"ID\": 221, \"Word\": \"not\", \"pos_tag\": \"[('not', 'RB')]\", \"tag\": \"'RB\"}, {\"ID\": 221, \"Word\": \"charge\", \"pos_tag\": \"[('charge', 'NN')]\", \"tag\": \"'NN\"}, {\"ID\": 222, \"Word\": \"setup\", \"pos_tag\": \"[('setup', 'NN')]\", \"tag\": \"'NN\"}, {\"ID\": 222, \"Word\": \"and\", \"pos_tag\": \"[('and', 'CC')]\", \"tag\": \"'CC\"}, {\"ID\": 222, \"Word\": \"usage\", \"pos_tag\": \"[('usage', 'NN')]\", \"tag\": \"'NN\"}, {\"ID\": 222, \"Word\": \"is\", \"pos_tag\": \"[('is', 'VBZ')]\", \"tag\": \"VBZ\"}, {\"ID\": 222, \"Word\": \"impossible\", \"pos_tag\": \"[('impossible', 'JJ')]\", \"tag\": \"'JJ\"}, {\"ID\": 223, \"Word\": \"no\", \"pos_tag\": \"[('no', 'DT')]\", \"tag\": \"'DT\"}, {\"ID\": 223, \"Word\": \"hbo\", \"pos_tag\": \"[('hbo', 'NN')]\", \"tag\": \"'NN\"}, {\"ID\": 223, \"Word\": \"max\", \"pos_tag\": \"[('max', 'NN')]\", \"tag\": \"'NN\"}, {\"ID\": 224, \"Word\": \"fan\", \"pos_tag\": \"[('fan', 'NN')]\", \"tag\": \"'NN\"}, {\"ID\": 224, \"Word\": \"is\", \"pos_tag\": \"[('is', 'VBZ')]\", \"tag\": \"VBZ\"}, {\"ID\": 224, \"Word\": \"loud\", \"pos_tag\": \"[('loud', 'NN')]\", \"tag\": \"'NN\"}, {\"ID\": 225, \"Word\": \"picture\", \"pos_tag\": \"[('picture', 'NN')]\", \"tag\": \"'NN\"}, {\"ID\": 225, \"Word\": \"quality\", \"pos_tag\": \"[('quality', 'NN')]\", \"tag\": \"'NN\"}, {\"ID\": 225, \"Word\": \"is\", \"pos_tag\": \"[('is', 'VBZ')]\", \"tag\": \"VBZ\"}, {\"ID\": 225, \"Word\": \"not\", \"pos_tag\": \"[('not', 'RB')]\", \"tag\": \"'RB\"}, {\"ID\": 225, \"Word\": \"so\", \"pos_tag\": \"[('so', 'RB')]\", \"tag\": \"'RB\"}, {\"ID\": 225, \"Word\": \"good\", \"pos_tag\": \"[('good', 'JJ')]\", \"tag\": \"'JJ\"}, {\"ID\": 226, \"Word\": \"the\", \"pos_tag\": \"[('the', 'DT')]\", \"tag\": \"'DT\"}, {\"ID\": 226, \"Word\": \"sounds\", \"pos_tag\": \"[('sounds', 'NNS')]\", \"tag\": \"NNS\"}, {\"ID\": 226, \"Word\": \"quality\", \"pos_tag\": \"[('quality', 'NN')]\", \"tag\": \"'NN\"}, {\"ID\": 226, \"Word\": \"is\", \"pos_tag\": \"[('is', 'VBZ')]\", \"tag\": \"VBZ\"}, {\"ID\": 226, \"Word\": \"terrible\", \"pos_tag\": \"[('terrible', 'JJ')]\", \"tag\": \"'JJ\"}, {\"ID\": 226, \"Word\": \"and\", \"pos_tag\": \"[('and', 'CC')]\", \"tag\": \"'CC\"}, {\"ID\": 226, \"Word\": \"picture\", \"pos_tag\": \"[('picture', 'NN')]\", \"tag\": \"'NN\"}, {\"ID\": 226, \"Word\": \"quality\", \"pos_tag\": \"[('quality', 'NN')]\", \"tag\": \"'NN\"}, {\"ID\": 226, \"Word\": \"is\", \"pos_tag\": \"[('is', 'VBZ')]\", \"tag\": \"VBZ\"}, {\"ID\": 226, \"Word\": \"fair\", \"pos_tag\": \"[('fair', 'NN')]\", \"tag\": \"'NN\"}, {\"ID\": 227, \"Word\": \"two\", \"pos_tag\": \"[('two', 'CD')]\", \"tag\": \"'CD\"}, {\"ID\": 227, \"Word\": \"stars\", \"pos_tag\": \"[('stars', 'NNS')]\", \"tag\": \"NNS\"}, {\"ID\": 228, \"Word\": \"wo\", \"pos_tag\": \"[('wo', 'MD')]\", \"tag\": \"'MD\"}, {\"ID\": 228, \"Word\": \"not\", \"pos_tag\": \"[('not', 'RB')]\", \"tag\": \"'RB\"}, {\"ID\": 228, \"Word\": \"turn\", \"pos_tag\": \"[('turn', 'NN')]\", \"tag\": \"'NN\"}, {\"ID\": 228, \"Word\": \"on\", \"pos_tag\": \"[('on', 'IN')]\", \"tag\": \"'IN\"}, {\"ID\": 228, \"Word\": \"for\", \"pos_tag\": \"[('for', 'IN')]\", \"tag\": \"'IN\"}, {\"ID\": 228, \"Word\": \"more\", \"pos_tag\": \"[('more', 'RBR')]\", \"tag\": \"RBR\"}, {\"ID\": 228, \"Word\": \"than\", \"pos_tag\": \"[('than', 'IN')]\", \"tag\": \"'IN\"}, {\"ID\": 228, \"Word\": \"5\", \"pos_tag\": \"[('5', 'CD')]\", \"tag\": \"'CD\"}, {\"ID\": 228, \"Word\": \"minutes\", \"pos_tag\": \"[('minutes', 'NNS')]\", \"tag\": \"NNS\"}, {\"ID\": 229, \"Word\": \"picture\", \"pos_tag\": \"[('picture', 'NN')]\", \"tag\": \"'NN\"}, {\"ID\": 229, \"Word\": \"quality\", \"pos_tag\": \"[('quality', 'NN')]\", \"tag\": \"'NN\"}, {\"ID\": 230, \"Word\": \"not\", \"pos_tag\": \"[('not', 'RB')]\", \"tag\": \"'RB\"}, {\"ID\": 230, \"Word\": \"my\", \"pos_tag\": \"[('my', 'PRP$')]\", \"tag\": \"RP$\"}, {\"ID\": 230, \"Word\": \"favorite\", \"pos_tag\": \"[('favorite', 'NN')]\", \"tag\": \"'NN\"}, {\"ID\": 230, \"Word\": \"projector\", \"pos_tag\": \"[('projector', 'NN')]\", \"tag\": \"'NN\"}, {\"ID\": 231, \"Word\": \"decent\", \"pos_tag\": \"[('decent', 'NN')]\", \"tag\": \"'NN\"}, {\"ID\": 232, \"Word\": \"too\", \"pos_tag\": \"[('too', 'RB')]\", \"tag\": \"'RB\"}, {\"ID\": 232, \"Word\": \"noice\", \"pos_tag\": \"[('noice', 'NN')]\", \"tag\": \"'NN\"}, {\"ID\": 233, \"Word\": \"it\", \"pos_tag\": \"[('it', 'PRP')]\", \"tag\": \"PRP\"}, {\"ID\": 233, \"Word\": \"is\", \"pos_tag\": \"[('is', 'VBZ')]\", \"tag\": \"VBZ\"}, {\"ID\": 233, \"Word\": \"not\", \"pos_tag\": \"[('not', 'RB')]\", \"tag\": \"'RB\"}, {\"ID\": 233, \"Word\": \"doing\", \"pos_tag\": \"[('doing', 'VBG')]\", \"tag\": \"VBG\"}, {\"ID\": 233, \"Word\": \"what\", \"pos_tag\": \"[('what', 'WP')]\", \"tag\": \"'WP\"}, {\"ID\": 233, \"Word\": \"is\", \"pos_tag\": \"[('is', 'VBZ')]\", \"tag\": \"VBZ\"}, {\"ID\": 233, \"Word\": \"advertises\", \"pos_tag\": \"[('advertises', 'NNS')]\", \"tag\": \"NNS\"}, {\"ID\": 234, \"Word\": \"great\", \"pos_tag\": \"[('great', 'JJ')]\", \"tag\": \"'JJ\"}, {\"ID\": 234, \"Word\": \"image\", \"pos_tag\": \"[('image', 'NN')]\", \"tag\": \"'NN\"}, {\"ID\": 234, \"Word\": \"quality\", \"pos_tag\": \"[('quality', 'NN')]\", \"tag\": \"'NN\"}, {\"ID\": 234, \"Word\": \"poor\", \"pos_tag\": \"[('poor', 'JJ')]\", \"tag\": \"'JJ\"}, {\"ID\": 234, \"Word\": \"sound\", \"pos_tag\": \"[('sound', 'NN')]\", \"tag\": \"'NN\"}, {\"ID\": 235, \"Word\": \"loud\", \"pos_tag\": \"[('loud', 'NN')]\", \"tag\": \"'NN\"}, {\"ID\": 235, \"Word\": \"fan\", \"pos_tag\": \"[('fan', 'NN')]\", \"tag\": \"'NN\"}, {\"ID\": 235, \"Word\": \"is\", \"pos_tag\": \"[('is', 'VBZ')]\", \"tag\": \"VBZ\"}, {\"ID\": 235, \"Word\": \"no\", \"pos_tag\": \"[('no', 'DT')]\", \"tag\": \"'DT\"}, {\"ID\": 235, \"Word\": \"fun\", \"pos_tag\": \"[('fun', 'NN')]\", \"tag\": \"'NN\"}, {\"ID\": 236, \"Word\": \"picure\", \"pos_tag\": \"[('picure', 'NN')]\", \"tag\": \"'NN\"}, {\"ID\": 236, \"Word\": \"quality\", \"pos_tag\": \"[('quality', 'NN')]\", \"tag\": \"'NN\"}, {\"ID\": 236, \"Word\": \"is\", \"pos_tag\": \"[('is', 'VBZ')]\", \"tag\": \"VBZ\"}, {\"ID\": 236, \"Word\": \"not\", \"pos_tag\": \"[('not', 'RB')]\", \"tag\": \"'RB\"}, {\"ID\": 236, \"Word\": \"sharp\", \"pos_tag\": \"[('sharp', 'JJ')]\", \"tag\": \"'JJ\"}, {\"ID\": 236, \"Word\": \"its\", \"pos_tag\": \"[('its', 'PRP$')]\", \"tag\": \"RP$\"}, {\"ID\": 236, \"Word\": \"not\", \"pos_tag\": \"[('not', 'RB')]\", \"tag\": \"'RB\"}, {\"ID\": 236, \"Word\": \"usable\", \"pos_tag\": \"[('usable', 'JJ')]\", \"tag\": \"'JJ\"}, {\"ID\": 236, \"Word\": \"at\", \"pos_tag\": \"[('at', 'IN')]\", \"tag\": \"'IN\"}, {\"ID\": 236, \"Word\": \"all\", \"pos_tag\": \"[('all', 'DT')]\", \"tag\": \"'DT\"}, {\"ID\": 236, \"Word\": \"during\", \"pos_tag\": \"[('during', 'IN')]\", \"tag\": \"'IN\"}, {\"ID\": 236, \"Word\": \"day\", \"pos_tag\": \"[('day', 'NN')]\", \"tag\": \"'NN\"}, {\"ID\": 236, \"Word\": \"time\", \"pos_tag\": \"[('time', 'NN')]\", \"tag\": \"'NN\"}, {\"ID\": 237, \"Word\": \"no\", \"pos_tag\": \"[('no', 'DT')]\", \"tag\": \"'DT\"}, {\"ID\": 237, \"Word\": \"support\", \"pos_tag\": \"[('support', 'NN')]\", \"tag\": \"'NN\"}, {\"ID\": 238, \"Word\": \"what\", \"pos_tag\": \"[('what', 'WP')]\", \"tag\": \"'WP\"}, {\"ID\": 238, \"Word\": \"can\", \"pos_tag\": \"[('can', 'MD')]\", \"tag\": \"'MD\"}, {\"ID\": 238, \"Word\": \"i\", \"pos_tag\": \"[('i', 'NN')]\", \"tag\": \"'NN\"}, {\"ID\": 238, \"Word\": \"do\", \"pos_tag\": \"[('do', 'VB')]\", \"tag\": \"'VB\"}, {\"ID\": 239, \"Word\": \"i\", \"pos_tag\": \"[('i', 'NN')]\", \"tag\": \"'NN\"}, {\"ID\": 239, \"Word\": \"really\", \"pos_tag\": \"[('really', 'RB')]\", \"tag\": \"'RB\"}, {\"ID\": 239, \"Word\": \"wanted\", \"pos_tag\": \"[('wanted', 'VBD')]\", \"tag\": \"VBD\"}, {\"ID\": 239, \"Word\": \"keep\", \"pos_tag\": \"[('keep', 'VB')]\", \"tag\": \"'VB\"}, {\"ID\": 239, \"Word\": \"this\", \"pos_tag\": \"[('this', 'DT')]\", \"tag\": \"'DT\"}, {\"ID\": 239, \"Word\": \"projector\", \"pos_tag\": \"[('projector', 'NN')]\", \"tag\": \"'NN\"}, {\"ID\": 239, \"Word\": \"but\", \"pos_tag\": \"[('but', 'CC')]\", \"tag\": \"'CC\"}, {\"ID\": 239, \"Word\": \"it\", \"pos_tag\": \"[('it', 'PRP')]\", \"tag\": \"PRP\"}, {\"ID\": 239, \"Word\": \"has\", \"pos_tag\": \"[('has', 'VBZ')]\", \"tag\": \"VBZ\"}, {\"ID\": 239, \"Word\": \"a\", \"pos_tag\": \"[('a', 'DT')]\", \"tag\": \"'DT\"}, {\"ID\": 239, \"Word\": \"\", \"pos_tag\": \"[]\", \"tag\": null}, {\"ID\": 240, \"Word\": \"very\", \"pos_tag\": \"[('very', 'RB')]\", \"tag\": \"'RB\"}, {\"ID\": 240, \"Word\": \"low\", \"pos_tag\": \"[('low', 'JJ')]\", \"tag\": \"'JJ\"}, {\"ID\": 240, \"Word\": \"light\", \"pos_tag\": \"[('light', 'NN')]\", \"tag\": \"'NN\"}, {\"ID\": 240, \"Word\": \"lumens\", \"pos_tag\": \"[('lumens', 'NNS')]\", \"tag\": \"NNS\"}, {\"ID\": 241, \"Word\": \"horrible\", \"pos_tag\": \"[('horrible', 'JJ')]\", \"tag\": \"'JJ\"}, {\"ID\": 241, \"Word\": \"sound\", \"pos_tag\": \"[('sound', 'NN')]\", \"tag\": \"'NN\"}, {\"ID\": 242, \"Word\": \"bad\", \"pos_tag\": \"[('bad', 'JJ')]\", \"tag\": \"'JJ\"}, {\"ID\": 242, \"Word\": \"experience\", \"pos_tag\": \"[('experience', 'NN')]\", \"tag\": \"'NN\"}, {\"ID\": 242, \"Word\": \"with\", \"pos_tag\": \"[('with', 'IN')]\", \"tag\": \"'IN\"}, {\"ID\": 242, \"Word\": \"mini\", \"pos_tag\": \"[('mini', 'NN')]\", \"tag\": \"'NN\"}, {\"ID\": 242, \"Word\": \"projector\", \"pos_tag\": \"[('projector', 'NN')]\", \"tag\": \"'NN\"}, {\"ID\": 243, \"Word\": \"just\", \"pos_tag\": \"[('just', 'RB')]\", \"tag\": \"'RB\"}, {\"ID\": 243, \"Word\": \"ok\", \"pos_tag\": \"[('ok', 'NN')]\", \"tag\": \"'NN\"}, {\"ID\": 244, \"Word\": \"poorly\", \"pos_tag\": \"[('poorly', 'RB')]\", \"tag\": \"'RB\"}, {\"ID\": 244, \"Word\": \"written\", \"pos_tag\": \"[('written', 'VBN')]\", \"tag\": \"VBN\"}, {\"ID\": 244, \"Word\": \"manual\", \"pos_tag\": \"[('manual', 'JJ')]\", \"tag\": \"'JJ\"}, {\"ID\": 244, \"Word\": \"great\", \"pos_tag\": \"[('great', 'JJ')]\", \"tag\": \"'JJ\"}, {\"ID\": 244, \"Word\": \"tech\", \"pos_tag\": \"[('tech', 'NN')]\", \"tag\": \"'NN\"}, {\"ID\": 244, \"Word\": \"support\", \"pos_tag\": \"[('support', 'NN')]\", \"tag\": \"'NN\"}, {\"ID\": 244, \"Word\": \"from\", \"pos_tag\": \"[('from', 'IN')]\", \"tag\": \"'IN\"}, {\"ID\": 244, \"Word\": \"kevin\", \"pos_tag\": \"[('kevin', 'NN')]\", \"tag\": \"'NN\"}, {\"ID\": 245, \"Word\": \"pricey\", \"pos_tag\": \"[('pricey', 'NN')]\", \"tag\": \"'NN\"}, {\"ID\": 245, \"Word\": \"paperweight\", \"pos_tag\": \"[('paperweight', 'NN')]\", \"tag\": \"'NN\"}, {\"ID\": 246, \"Word\": \"poor\", \"pos_tag\": \"[('poor', 'JJ')]\", \"tag\": \"'JJ\"}, {\"ID\": 246, \"Word\": \"quality\", \"pos_tag\": \"[('quality', 'NN')]\", \"tag\": \"'NN\"}, {\"ID\": 247, \"Word\": \"moderate\", \"pos_tag\": \"[('moderate', 'NN')]\", \"tag\": \"'NN\"}, {\"ID\": 247, \"Word\": \"good\", \"pos_tag\": \"[('good', 'JJ')]\", \"tag\": \"'JJ\"}, {\"ID\": 248, \"Word\": \"waste\", \"pos_tag\": \"[('waste', 'NN')]\", \"tag\": \"'NN\"}, {\"ID\": 248, \"Word\": \"of\", \"pos_tag\": \"[('of', 'IN')]\", \"tag\": \"'IN\"}, {\"ID\": 248, \"Word\": \"money\", \"pos_tag\": \"[('money', 'NN')]\", \"tag\": \"'NN\"}, {\"ID\": 249, \"Word\": \"lumens\", \"pos_tag\": \"[('lumens', 'NNS')]\", \"tag\": \"NNS\"}, {\"ID\": 249, \"Word\": \"needs\", \"pos_tag\": \"[('needs', 'NNS')]\", \"tag\": \"NNS\"}, {\"ID\": 249, \"Word\": \"more\", \"pos_tag\": \"[('more', 'RBR')]\", \"tag\": \"RBR\"}, {\"ID\": 249, \"Word\": \"output\", \"pos_tag\": \"[('output', 'NN')]\", \"tag\": \"'NN\"}, {\"ID\": 250, \"Word\": \"\", \"pos_tag\": \"[]\", \"tag\": null}, {\"ID\": 251, \"Word\": \"terrible\", \"pos_tag\": \"[('terrible', 'JJ')]\", \"tag\": \"'JJ\"}, {\"ID\": 252, \"Word\": \"two\", \"pos_tag\": \"[('two', 'CD')]\", \"tag\": \"'CD\"}, {\"ID\": 252, \"Word\": \"stars\", \"pos_tag\": \"[('stars', 'NNS')]\", \"tag\": \"NNS\"}, {\"ID\": 253, \"Word\": \"only\", \"pos_tag\": \"[('only', 'RB')]\", \"tag\": \"'RB\"}, {\"ID\": 253, \"Word\": \"got\", \"pos_tag\": \"[('got', 'VBD')]\", \"tag\": \"VBD\"}, {\"ID\": 253, \"Word\": \"2\", \"pos_tag\": \"[('2', 'CD')]\", \"tag\": \"'CD\"}, {\"ID\": 253, \"Word\": \"uses\", \"pos_tag\": \"[('uses', 'NNS')]\", \"tag\": \"NNS\"}, {\"ID\": 253, \"Word\": \"ot\", \"pos_tag\": \"[('ot', 'NN')]\", \"tag\": \"'NN\"}, {\"ID\": 253, \"Word\": \"if\", \"pos_tag\": \"[('if', 'IN')]\", \"tag\": \"'IN\"}, {\"ID\": 253, \"Word\": \"the\", \"pos_tag\": \"[('the', 'DT')]\", \"tag\": \"'DT\"}, {\"ID\": 253, \"Word\": \"device\", \"pos_tag\": \"[('device', 'NN')]\", \"tag\": \"'NN\"}, {\"ID\": 254, \"Word\": \"losses\", \"pos_tag\": \"[('losses', 'NNS')]\", \"tag\": \"NNS\"}, {\"ID\": 254, \"Word\": \"focused\", \"pos_tag\": \"[('focused', 'VBN')]\", \"tag\": \"VBN\"}, {\"ID\": 254, \"Word\": \"constantly\", \"pos_tag\": \"[('constantly', 'RB')]\", \"tag\": \"'RB\"}, {\"ID\": 255, \"Word\": \"also\", \"pos_tag\": \"[('also', 'RB')]\", \"tag\": \"'RB\"}, {\"ID\": 255, \"Word\": \"the\", \"pos_tag\": \"[('the', 'DT')]\", \"tag\": \"'DT\"}, {\"ID\": 255, \"Word\": \"capsule\", \"pos_tag\": \"[('capsule', 'NN')]\", \"tag\": \"'NN\"}, {\"ID\": 255, \"Word\": \"control\", \"pos_tag\": \"[('control', 'NN')]\", \"tag\": \"'NN\"}, {\"ID\": 255, \"Word\": \"app\", \"pos_tag\": \"[('app', 'NN')]\", \"tag\": \"'NN\"}, {\"ID\": 255, \"Word\": \"is\", \"pos_tag\": \"[('is', 'VBZ')]\", \"tag\": \"VBZ\"}, {\"ID\": 255, \"Word\": \"poor\", \"pos_tag\": \"[('poor', 'JJ')]\", \"tag\": \"'JJ\"}, {\"ID\": 255, \"Word\": \"difficult\", \"pos_tag\": \"[('difficult', 'JJ')]\", \"tag\": \"'JJ\"}, {\"ID\": 255, \"Word\": \"to\", \"pos_tag\": \"[('to', 'TO')]\", \"tag\": \"'TO\"}, {\"ID\": 255, \"Word\": \"control\", \"pos_tag\": \"[('control', 'NN')]\", \"tag\": \"'NN\"}, {\"ID\": 255, \"Word\": \"the\", \"pos_tag\": \"[('the', 'DT')]\", \"tag\": \"'DT\"}, {\"ID\": 255, \"Word\": \"mouse\", \"pos_tag\": \"[('mouse', 'NN')]\", \"tag\": \"'NN\"}, {\"ID\": 255, \"Word\": \"function\", \"pos_tag\": \"[('function', 'NN')]\", \"tag\": \"'NN\"}, {\"ID\": 256, \"Word\": \"sadly\", \"pos_tag\": \"[('sadly', 'RB')]\", \"tag\": \"'RB\"}, {\"ID\": 256, \"Word\": \"dissappointed\", \"pos_tag\": \"[('dissappointed', 'VBN')]\", \"tag\": \"VBN\"}, {\"ID\": 256, \"Word\": \"yet\", \"pos_tag\": \"[('yet', 'RB')]\", \"tag\": \"'RB\"}, {\"ID\": 256, \"Word\": \"simultaneously\", \"pos_tag\": \"[('simultaneously', 'RB')]\", \"tag\": \"'RB\"}, {\"ID\": 256, \"Word\": \"awed\", \"pos_tag\": \"[('awed', 'NNS')]\", \"tag\": \"NNS\"}, {\"ID\": 257, \"Word\": \"software\", \"pos_tag\": \"[('software', 'NN')]\", \"tag\": \"'NN\"}, {\"ID\": 257, \"Word\": \"ruins\", \"pos_tag\": \"[('ruins', 'NNS')]\", \"tag\": \"NNS\"}, {\"ID\": 257, \"Word\": \"the\", \"pos_tag\": \"[('the', 'DT')]\", \"tag\": \"'DT\"}, {\"ID\": 257, \"Word\": \"product\", \"pos_tag\": \"[('product', 'NN')]\", \"tag\": \"'NN\"}, {\"ID\": 258, \"Word\": \"screencast\", \"pos_tag\": \"[('screencast', 'NN')]\", \"tag\": \"'NN\"}, {\"ID\": 258, \"Word\": \"not\", \"pos_tag\": \"[('not', 'RB')]\", \"tag\": \"'RB\"}, {\"ID\": 258, \"Word\": \"compatible\", \"pos_tag\": \"[('compatible', 'JJ')]\", \"tag\": \"'JJ\"}, {\"ID\": 258, \"Word\": \"with\", \"pos_tag\": \"[('with', 'IN')]\", \"tag\": \"'IN\"}, {\"ID\": 258, \"Word\": \"google\", \"pos_tag\": \"[('google', 'NN')]\", \"tag\": \"'NN\"}, {\"ID\": 258, \"Word\": \"pixel\", \"pos_tag\": \"[('pixel', 'NN')]\", \"tag\": \"'NN\"}, {\"ID\": 258, \"Word\": \"phones\", \"pos_tag\": \"[('phones', 'NNS')]\", \"tag\": \"NNS\"}, {\"ID\": 259, \"Word\": \"nebula\", \"pos_tag\": \"[('nebula', 'NN')]\", \"tag\": \"'NN\"}, {\"ID\": 259, \"Word\": \"capsule\", \"pos_tag\": \"[('capsule', 'NN')]\", \"tag\": \"'NN\"}, {\"ID\": 259, \"Word\": \"review\", \"pos_tag\": \"[('review', 'NN')]\", \"tag\": \"'NN\"}, {\"ID\": 259, \"Word\": \"updated\", \"pos_tag\": \"[('updated', 'VBN')]\", \"tag\": \"VBN\"}, {\"ID\": 260, \"Word\": \"not\", \"pos_tag\": \"[('not', 'RB')]\", \"tag\": \"'RB\"}, {\"ID\": 260, \"Word\": \"impressed\", \"pos_tag\": \"[('impressed', 'JJ')]\", \"tag\": \"'JJ\"}, {\"ID\": 260, \"Word\": \"\", \"pos_tag\": \"[]\", \"tag\": null}, {\"ID\": 260, \"Word\": \"welcome\", \"pos_tag\": \"[('welcome', 'NN')]\", \"tag\": \"'NN\"}, {\"ID\": 260, \"Word\": \"to\", \"pos_tag\": \"[('to', 'TO')]\", \"tag\": \"'TO\"}, {\"ID\": 260, \"Word\": \"dongle\", \"pos_tag\": \"[('dongle', 'NN')]\", \"tag\": \"'NN\"}, {\"ID\": 260, \"Word\": \"life\", \"pos_tag\": \"[('life', 'NN')]\", \"tag\": \"'NN\"}, {\"ID\": 261, \"Word\": \"biggest\", \"pos_tag\": \"[('biggest', 'JJS')]\", \"tag\": \"JJS\"}, {\"ID\": 261, \"Word\": \"problem\", \"pos_tag\": \"[('problem', 'NN')]\", \"tag\": \"'NN\"}, {\"ID\": 261, \"Word\": \"is\", \"pos_tag\": \"[('is', 'VBZ')]\", \"tag\": \"VBZ\"}, {\"ID\": 261, \"Word\": \"low\", \"pos_tag\": \"[('low', 'JJ')]\", \"tag\": \"'JJ\"}, {\"ID\": 261, \"Word\": \"brightness\", \"pos_tag\": \"[('brightness', 'NN')]\", \"tag\": \"'NN\"}, {\"ID\": 262, \"Word\": \"with\", \"pos_tag\": \"[('with', 'IN')]\", \"tag\": \"'IN\"}, {\"ID\": 262, \"Word\": \"this\", \"pos_tag\": \"[('this', 'DT')]\", \"tag\": \"'DT\"}, {\"ID\": 262, \"Word\": \"cost\", \"pos_tag\": \"[('cost', 'NN')]\", \"tag\": \"'NN\"}, {\"ID\": 262, \"Word\": \"you\", \"pos_tag\": \"[('you', 'PRP')]\", \"tag\": \"PRP\"}, {\"ID\": 262, \"Word\": \"can\", \"pos_tag\": \"[('can', 'MD')]\", \"tag\": \"'MD\"}, {\"ID\": 262, \"Word\": \"get\", \"pos_tag\": \"[('get', 'VB')]\", \"tag\": \"'VB\"}, {\"ID\": 262, \"Word\": \"something\", \"pos_tag\": \"[('something', 'NN')]\", \"tag\": \"'NN\"}, {\"ID\": 262, \"Word\": \"better\", \"pos_tag\": \"[('better', 'RBR')]\", \"tag\": \"RBR\"}, {\"ID\": 262, \"Word\": \"and\", \"pos_tag\": \"[('and', 'CC')]\", \"tag\": \"'CC\"}, {\"ID\": 262, \"Word\": \"higher\", \"pos_tag\": \"[('higher', 'JJR')]\", \"tag\": \"JJR\"}, {\"ID\": 262, \"Word\": \"quality\", \"pos_tag\": \"[('quality', 'NN')]\", \"tag\": \"'NN\"}, {\"ID\": 263, \"Word\": \"do\", \"pos_tag\": \"[('do', 'VB')]\", \"tag\": \"'VB\"}, {\"ID\": 263, \"Word\": \"not\", \"pos_tag\": \"[('not', 'RB')]\", \"tag\": \"'RB\"}, {\"ID\": 263, \"Word\": \"buy\", \"pos_tag\": \"[('buy', 'VB')]\", \"tag\": \"'VB\"}, {\"ID\": 263, \"Word\": \"scam\", \"pos_tag\": \"[('scam', 'NN')]\", \"tag\": \"'NN\"}, {\"ID\": 263, \"Word\": \"fake\", \"pos_tag\": \"[('fake', 'NN')]\", \"tag\": \"'NN\"}, {\"ID\": 263, \"Word\": \"trash\", \"pos_tag\": \"[('trash', 'NN')]\", \"tag\": \"'NN\"}, {\"ID\": 264, \"Word\": \"totally\", \"pos_tag\": \"[('totally', 'RB')]\", \"tag\": \"'RB\"}, {\"ID\": 264, \"Word\": \"waste\", \"pos_tag\": \"[('waste', 'NN')]\", \"tag\": \"'NN\"}, {\"ID\": 264, \"Word\": \"product\", \"pos_tag\": \"[('product', 'NN')]\", \"tag\": \"'NN\"}, {\"ID\": 265, \"Word\": \"an\", \"pos_tag\": \"[('an', 'DT')]\", \"tag\": \"'DT\"}, {\"ID\": 265, \"Word\": \"under\", \"pos_tag\": \"[('under', 'IN')]\", \"tag\": \"'IN\"}, {\"ID\": 265, \"Word\": \"baked\", \"pos_tag\": \"[('baked', 'VBN')]\", \"tag\": \"VBN\"}, {\"ID\": 265, \"Word\": \"device\", \"pos_tag\": \"[('device', 'NN')]\", \"tag\": \"'NN\"}, {\"ID\": 266, \"Word\": \"really\", \"pos_tag\": \"[('really', 'RB')]\", \"tag\": \"'RB\"}, {\"ID\": 266, \"Word\": \"wanted\", \"pos_tag\": \"[('wanted', 'VBD')]\", \"tag\": \"VBD\"}, {\"ID\": 266, \"Word\": \"to\", \"pos_tag\": \"[('to', 'TO')]\", \"tag\": \"'TO\"}, {\"ID\": 266, \"Word\": \"like\", \"pos_tag\": \"[('like', 'IN')]\", \"tag\": \"'IN\"}, {\"ID\": 266, \"Word\": \"it\", \"pos_tag\": \"[('it', 'PRP')]\", \"tag\": \"PRP\"}, {\"ID\": 266, \"Word\": \"but\", \"pos_tag\": \"[('but', 'CC')]\", \"tag\": \"'CC\"}, {\"ID\": 267, \"Word\": \"terrible\", \"pos_tag\": \"[('terrible', 'JJ')]\", \"tag\": \"'JJ\"}, {\"ID\": 267, \"Word\": \"software\", \"pos_tag\": \"[('software', 'NN')]\", \"tag\": \"'NN\"}, {\"ID\": 267, \"Word\": \"on\", \"pos_tag\": \"[('on', 'IN')]\", \"tag\": \"'IN\"}, {\"ID\": 267, \"Word\": \"pleasant\", \"pos_tag\": \"[('pleasant', 'NN')]\", \"tag\": \"'NN\"}, {\"ID\": 267, \"Word\": \"hardware\", \"pos_tag\": \"[('hardware', 'NN')]\", \"tag\": \"'NN\"}, {\"ID\": 268, \"Word\": \"not\", \"pos_tag\": \"[('not', 'RB')]\", \"tag\": \"'RB\"}, {\"ID\": 268, \"Word\": \"compatible\", \"pos_tag\": \"[('compatible', 'JJ')]\", \"tag\": \"'JJ\"}, {\"ID\": 268, \"Word\": \"with\", \"pos_tag\": \"[('with', 'IN')]\", \"tag\": \"'IN\"}, {\"ID\": 268, \"Word\": \"disney\", \"pos_tag\": \"[('disney', 'NN')]\", \"tag\": \"'NN\"}, {\"ID\": 268, \"Word\": \"plus\", \"pos_tag\": \"[('plus', 'CC')]\", \"tag\": \"'CC\"}, {\"ID\": 268, \"Word\": \"and\", \"pos_tag\": \"[('and', 'CC')]\", \"tag\": \"'CC\"}, {\"ID\": 268, \"Word\": \"app\", \"pos_tag\": \"[('app', 'NN')]\", \"tag\": \"'NN\"}, {\"ID\": 268, \"Word\": \"is\", \"pos_tag\": \"[('is', 'VBZ')]\", \"tag\": \"VBZ\"}, {\"ID\": 268, \"Word\": \"horrible\", \"pos_tag\": \"[('horrible', 'JJ')]\", \"tag\": \"'JJ\"}, {\"ID\": 269, \"Word\": \"second\", \"pos_tag\": \"[('second', 'JJ')]\", \"tag\": \"'JJ\"}, {\"ID\": 269, \"Word\": \"one\", \"pos_tag\": \"[('one', 'CD')]\", \"tag\": \"'CD\"}, {\"ID\": 269, \"Word\": \"since\", \"pos_tag\": \"[('since', 'IN')]\", \"tag\": \"'IN\"}, {\"ID\": 269, \"Word\": \"november\", \"pos_tag\": \"[('november', 'NN')]\", \"tag\": \"'NN\"}, {\"ID\": 270, \"Word\": \"cool\", \"pos_tag\": \"[('cool', 'NN')]\", \"tag\": \"'NN\"}, {\"ID\": 270, \"Word\": \"just\", \"pos_tag\": \"[('just', 'RB')]\", \"tag\": \"'RB\"}, {\"ID\": 270, \"Word\": \"wish\", \"pos_tag\": \"[('wish', 'NN')]\", \"tag\": \"'NN\"}, {\"ID\": 270, \"Word\": \"it\", \"pos_tag\": \"[('it', 'PRP')]\", \"tag\": \"PRP\"}, {\"ID\": 270, \"Word\": \"were\", \"pos_tag\": \"[('were', 'VBD')]\", \"tag\": \"VBD\"}, {\"ID\": 270, \"Word\": \"brighter\", \"pos_tag\": \"[('brighter', 'NN')]\", \"tag\": \"'NN\"}, {\"ID\": 271, \"Word\": \"chromecast\", \"pos_tag\": \"[('chromecast', 'NN')]\", \"tag\": \"'NN\"}, {\"ID\": 272, \"Word\": \"need\", \"pos_tag\": \"[('need', 'NN')]\", \"tag\": \"'NN\"}, {\"ID\": 272, \"Word\": \"help\", \"pos_tag\": \"[('help', 'NN')]\", \"tag\": \"'NN\"}, {\"ID\": 272, \"Word\": \"to\", \"pos_tag\": \"[('to', 'TO')]\", \"tag\": \"'TO\"}, {\"ID\": 272, \"Word\": \"run\", \"pos_tag\": \"[('run', 'VB')]\", \"tag\": \"'VB\"}, {\"ID\": 272, \"Word\": \"netflix\", \"pos_tag\": \"[('netflix', 'NN')]\", \"tag\": \"'NN\"}, {\"ID\": 273, \"Word\": \"missing\", \"pos_tag\": \"[('missing', 'VBG')]\", \"tag\": \"VBG\"}, {\"ID\": 273, \"Word\": \"important\", \"pos_tag\": \"[('important', 'JJ')]\", \"tag\": \"'JJ\"}, {\"ID\": 273, \"Word\": \"integrations\", \"pos_tag\": \"[('integrations', 'NNS')]\", \"tag\": \"NNS\"}, {\"ID\": 274, \"Word\": \"on\", \"pos_tag\": \"[('on', 'IN')]\", \"tag\": \"'IN\"}, {\"ID\": 274, \"Word\": \"the\", \"pos_tag\": \"[('the', 'DT')]\", \"tag\": \"'DT\"}, {\"ID\": 274, \"Word\": \"fence\", \"pos_tag\": \"[('fence', 'NN')]\", \"tag\": \"'NN\"}, {\"ID\": 275, \"Word\": \"proyector\", \"pos_tag\": \"[('proyector', 'NN')]\", \"tag\": \"'NN\"}, {\"ID\": 275, \"Word\": \"muy\", \"pos_tag\": \"[('muy', 'NN')]\", \"tag\": \"'NN\"}, {\"ID\": 275, \"Word\": \"mediocre\", \"pos_tag\": \"[('mediocre', 'NN')]\", \"tag\": \"'NN\"}, {\"ID\": 276, \"Word\": \"over\", \"pos_tag\": \"[('over', 'IN')]\", \"tag\": \"'IN\"}, {\"ID\": 276, \"Word\": \"priced\", \"pos_tag\": \"[('priced', 'VBN')]\", \"tag\": \"VBN\"}, {\"ID\": 277, \"Word\": \"expect\", \"pos_tag\": \"[('expect', 'VB')]\", \"tag\": \"'VB\"}, {\"ID\": 277, \"Word\": \"better\", \"pos_tag\": \"[('better', 'RBR')]\", \"tag\": \"RBR\"}, {\"ID\": 277, \"Word\": \"for\", \"pos_tag\": \"[('for', 'IN')]\", \"tag\": \"'IN\"}, {\"ID\": 277, \"Word\": \"anker\", \"pos_tag\": \"[('anker', 'NN')]\", \"tag\": \"'NN\"}, {\"ID\": 277, \"Word\": \"ruined\", \"pos_tag\": \"[('ruined', 'VBN')]\", \"tag\": \"VBN\"}, {\"ID\": 277, \"Word\": \"my\", \"pos_tag\": \"[('my', 'PRP$')]\", \"tag\": \"RP$\"}, {\"ID\": 277, \"Word\": \"fathers\", \"pos_tag\": \"[('fathers', 'NNS')]\", \"tag\": \"NNS\"}, {\"ID\": 277, \"Word\": \"day\", \"pos_tag\": \"[('day', 'NN')]\", \"tag\": \"'NN\"}, {\"ID\": 278, \"Word\": \"disposable\", \"pos_tag\": \"[('disposable', 'JJ')]\", \"tag\": \"'JJ\"}, {\"ID\": 278, \"Word\": \"projector\", \"pos_tag\": \"[('projector', 'NN')]\", \"tag\": \"'NN\"}, {\"ID\": 278, \"Word\": \"no\", \"pos_tag\": \"[('no', 'DT')]\", \"tag\": \"'DT\"}, {\"ID\": 278, \"Word\": \"repair\", \"pos_tag\": \"[('repair', 'NN')]\", \"tag\": \"'NN\"}, {\"ID\": 278, \"Word\": \"centers\", \"pos_tag\": \"[('centers', 'NNS')]\", \"tag\": \"NNS\"}, {\"ID\": 278, \"Word\": \"in\", \"pos_tag\": \"[('in', 'IN')]\", \"tag\": \"'IN\"}, {\"ID\": 278, \"Word\": \"usa\", \"pos_tag\": \"[('usa', 'NN')]\", \"tag\": \"'NN\"}, {\"ID\": 279, \"Word\": \"one\", \"pos_tag\": \"[('one', 'CD')]\", \"tag\": \"'CD\"}, {\"ID\": 279, \"Word\": \"star\", \"pos_tag\": \"[('star', 'NN')]\", \"tag\": \"'NN\"}, {\"ID\": 280, \"Word\": \"disappointed\", \"pos_tag\": \"[('disappointed', 'JJ')]\", \"tag\": \"'JJ\"}, {\"ID\": 281, \"Word\": \"not\", \"pos_tag\": \"[('not', 'RB')]\", \"tag\": \"'RB\"}, {\"ID\": 281, \"Word\": \"working\", \"pos_tag\": \"[('working', 'VBG')]\", \"tag\": \"VBG\"}, {\"ID\": 281, \"Word\": \"with\", \"pos_tag\": \"[('with', 'IN')]\", \"tag\": \"'IN\"}, {\"ID\": 281, \"Word\": \"apps\", \"pos_tag\": \"[('apps', 'NN')]\", \"tag\": \"'NN\"}, {\"ID\": 281, \"Word\": \"that\", \"pos_tag\": \"[('that', 'IN')]\", \"tag\": \"'IN\"}, {\"ID\": 281, \"Word\": \"i\", \"pos_tag\": \"[('i', 'NN')]\", \"tag\": \"'NN\"}, {\"ID\": 281, \"Word\": \"am\", \"pos_tag\": \"[('am', 'VBP')]\", \"tag\": \"VBP\"}, {\"ID\": 281, \"Word\": \"watching\", \"pos_tag\": \"[('watching', 'VBG')]\", \"tag\": \"VBG\"}, {\"ID\": 281, \"Word\": \"on\", \"pos_tag\": \"[('on', 'IN')]\", \"tag\": \"'IN\"}, {\"ID\": 281, \"Word\": \"tv\", \"pos_tag\": \"[('tv', 'NN')]\", \"tag\": \"'NN\"}, {\"ID\": 281, \"Word\": \"\", \"pos_tag\": \"[]\", \"tag\": null}, {\"ID\": 282, \"Word\": \"thats\", \"pos_tag\": \"[('thats', 'NNS')]\", \"tag\": \"NNS\"}, {\"ID\": 282, \"Word\": \"a\", \"pos_tag\": \"[('a', 'DT')]\", \"tag\": \"'DT\"}, {\"ID\": 282, \"Word\": \"pretty\", \"pos_tag\": \"[('pretty', 'RB')]\", \"tag\": \"'RB\"}, {\"ID\": 282, \"Word\": \"big\", \"pos_tag\": \"[('big', 'JJ')]\", \"tag\": \"'JJ\"}, {\"ID\": 282, \"Word\": \"deal\", \"pos_tag\": \"[('deal', 'NN')]\", \"tag\": \"'NN\"}, {\"ID\": 282, \"Word\": \"breaker\", \"pos_tag\": \"[('breaker', 'NN')]\", \"tag\": \"'NN\"}, {\"ID\": 282, \"Word\": \"for\", \"pos_tag\": \"[('for', 'IN')]\", \"tag\": \"'IN\"}, {\"ID\": 282, \"Word\": \"me\", \"pos_tag\": \"[('me', 'PRP')]\", \"tag\": \"PRP\"}, {\"ID\": 283, \"Word\": \"three\", \"pos_tag\": \"[('three', 'CD')]\", \"tag\": \"'CD\"}, {\"ID\": 283, \"Word\": \"stars\", \"pos_tag\": \"[('stars', 'NNS')]\", \"tag\": \"NNS\"}, {\"ID\": 284, \"Word\": \"two\", \"pos_tag\": \"[('two', 'CD')]\", \"tag\": \"'CD\"}, {\"ID\": 284, \"Word\": \"stars\", \"pos_tag\": \"[('stars', 'NNS')]\", \"tag\": \"NNS\"}, {\"ID\": 285, \"Word\": \"really\", \"pos_tag\": \"[('really', 'RB')]\", \"tag\": \"'RB\"}, {\"ID\": 285, \"Word\": \"amazing\", \"pos_tag\": \"[('amazing', 'VBG')]\", \"tag\": \"VBG\"}, {\"ID\": 286, \"Word\": \"surely\", \"pos_tag\": \"[('surely', 'RB')]\", \"tag\": \"'RB\"}, {\"ID\": 286, \"Word\": \"its\", \"pos_tag\": \"[('its', 'PRP$')]\", \"tag\": \"RP$\"}, {\"ID\": 286, \"Word\": \"wonderful\", \"pos_tag\": \"[('wonderful', 'NN')]\", \"tag\": \"'NN\"}, {\"ID\": 286, \"Word\": \"and\", \"pos_tag\": \"[('and', 'CC')]\", \"tag\": \"'CC\"}, {\"ID\": 286, \"Word\": \"all\", \"pos_tag\": \"[('all', 'DT')]\", \"tag\": \"'DT\"}, {\"ID\": 287, \"Word\": \"lack\", \"pos_tag\": \"[('lack', 'NN')]\", \"tag\": \"'NN\"}, {\"ID\": 287, \"Word\": \"flexibility\", \"pos_tag\": \"[('flexibility', 'NN')]\", \"tag\": \"'NN\"}, {\"ID\": 288, \"Word\": \"two\", \"pos_tag\": \"[('two', 'CD')]\", \"tag\": \"'CD\"}, {\"ID\": 288, \"Word\": \"defective\", \"pos_tag\": \"[('defective', 'JJ')]\", \"tag\": \"'JJ\"}, {\"ID\": 288, \"Word\": \"units\", \"pos_tag\": \"[('units', 'NNS')]\", \"tag\": \"NNS\"}, {\"ID\": 288, \"Word\": \"right\", \"pos_tag\": \"[('right', 'NN')]\", \"tag\": \"'NN\"}, {\"ID\": 288, \"Word\": \"out\", \"pos_tag\": \"[('out', 'IN')]\", \"tag\": \"'IN\"}, {\"ID\": 288, \"Word\": \"of\", \"pos_tag\": \"[('of', 'IN')]\", \"tag\": \"'IN\"}, {\"ID\": 288, \"Word\": \"the\", \"pos_tag\": \"[('the', 'DT')]\", \"tag\": \"'DT\"}, {\"ID\": 288, \"Word\": \"box\", \"pos_tag\": \"[('box', 'NN')]\", \"tag\": \"'NN\"}, {\"ID\": 288, \"Word\": \"not\", \"pos_tag\": \"[('not', 'RB')]\", \"tag\": \"'RB\"}, {\"ID\": 288, \"Word\": \"good\", \"pos_tag\": \"[('good', 'JJ')]\", \"tag\": \"'JJ\"}, {\"ID\": 288, \"Word\": \"odds\", \"pos_tag\": \"[('odds', 'NNS')]\", \"tag\": \"NNS\"}, {\"ID\": 288, \"Word\": \"skip\", \"pos_tag\": \"[('skip', 'NN')]\", \"tag\": \"'NN\"}, {\"ID\": 288, \"Word\": \"this\", \"pos_tag\": \"[('this', 'DT')]\", \"tag\": \"'DT\"}, {\"ID\": 288, \"Word\": \"product\", \"pos_tag\": \"[('product', 'NN')]\", \"tag\": \"'NN\"}, {\"ID\": 289, \"Word\": \"low\", \"pos_tag\": \"[('low', 'JJ')]\", \"tag\": \"'JJ\"}, {\"ID\": 289, \"Word\": \"res\", \"pos_tag\": \"[('res', 'NNS')]\", \"tag\": \"NNS\"}, {\"ID\": 290, \"Word\": \"not\", \"pos_tag\": \"[('not', 'RB')]\", \"tag\": \"'RB\"}, {\"ID\": 290, \"Word\": \"worth\", \"pos_tag\": \"[('worth', 'NN')]\", \"tag\": \"'NN\"}, {\"ID\": 290, \"Word\": \"the\", \"pos_tag\": \"[('the', 'DT')]\", \"tag\": \"'DT\"}, {\"ID\": 290, \"Word\": \"price\", \"pos_tag\": \"[('price', 'NN')]\", \"tag\": \"'NN\"}, {\"ID\": 291, \"Word\": \"not\", \"pos_tag\": \"[('not', 'RB')]\", \"tag\": \"'RB\"}, {\"ID\": 291, \"Word\": \"working\", \"pos_tag\": \"[('working', 'VBG')]\", \"tag\": \"VBG\"}, {\"ID\": 291, \"Word\": \"with\", \"pos_tag\": \"[('with', 'IN')]\", \"tag\": \"'IN\"}, {\"ID\": 291, \"Word\": \"its\", \"pos_tag\": \"[('its', 'PRP$')]\", \"tag\": \"RP$\"}, {\"ID\": 291, \"Word\": \"own\", \"pos_tag\": \"[('own', 'JJ')]\", \"tag\": \"'JJ\"}, {\"ID\": 291, \"Word\": \"twitch\", \"pos_tag\": \"[('twitch', 'NN')]\", \"tag\": \"'NN\"}, {\"ID\": 291, \"Word\": \"app\", \"pos_tag\": \"[('app', 'NN')]\", \"tag\": \"'NN\"}, {\"ID\": 292, \"Word\": \"poco\", \"pos_tag\": \"[('poco', 'NN')]\", \"tag\": \"'NN\"}, {\"ID\": 292, \"Word\": \"brillo\", \"pos_tag\": \"[('brillo', 'NN')]\", \"tag\": \"'NN\"}, {\"ID\": 292, \"Word\": \"y\", \"pos_tag\": \"[('y', 'NN')]\", \"tag\": \"'NN\"}, {\"ID\": 292, \"Word\": \"baja\", \"pos_tag\": \"[('baja', 'NN')]\", \"tag\": \"'NN\"}, {\"ID\": 292, \"Word\": \"resoluci\\u00f3n\", \"pos_tag\": \"[('resoluci\\u00f3n', 'NN')]\", \"tag\": \"'NN\"}, {\"ID\": 293, \"Word\": \"badluck\", \"pos_tag\": \"[('badluck', 'NN')]\", \"tag\": \"'NN\"}, {\"ID\": 294, \"Word\": \"wont\", \"pos_tag\": \"[('wont', 'NN')]\", \"tag\": \"'NN\"}, {\"ID\": 294, \"Word\": \"last\", \"pos_tag\": \"[('last', 'JJ')]\", \"tag\": \"'JJ\"}, {\"ID\": 294, \"Word\": \"long\", \"pos_tag\": \"[('long', 'RB')]\", \"tag\": \"'RB\"}]}}, {\"actions\": false, \"mode\": \"vega-lite\"});\n</script>",
      "text/plain": "alt.Chart(...)"
     },
     "metadata": {}
    }
   ],
   "execution_count": null
  },
  {
   "cell_type": "code",
   "metadata": {
    "colab": {
     "base_uri": "https://localhost:8080/"
    },
    "id": "bnKnm2wyLsq0",
    "outputId": "94306e8c-f69f-4351-ea72-538fbaf59f0f",
    "cell_id": "00021-3ba77424-4809-4769-bd97-a3e4d8884fa0",
    "deepnote_to_be_reexecuted": false,
    "source_hash": "65ebecca",
    "execution_start": 1633236481033,
    "execution_millis": 486729,
    "deepnote_cell_type": "code"
   },
   "source": "new_df['tag'] = new_df['tag'].str.replace(\"'\", '')\nnew_df['tag']",
   "outputs": [
    {
     "output_type": "execute_result",
     "execution_count": 22,
     "data": {
      "text/plain": "0        NN\n1       RP$\n2        NN\n3        NN\n4       PRP\n       ... \n1621     NN\n1622     NN\n1623     NN\n1624     JJ\n1625     RB\nName: tag, Length: 1626, dtype: object"
     },
     "metadata": {}
    }
   ],
   "execution_count": null
  },
  {
   "cell_type": "code",
   "metadata": {
    "colab": {
     "base_uri": "https://localhost:8080/",
     "height": 669
    },
    "id": "N4j_gxdzLsq0",
    "outputId": "5c48f182-620b-4d83-cefe-e2e5b34fd976",
    "cell_id": "00022-ef90b5ce-1b75-475f-8ae8-b24a6157699c",
    "deepnote_to_be_reexecuted": false,
    "source_hash": "a633229a",
    "execution_start": 1633236481102,
    "execution_millis": 129,
    "deepnote_cell_type": "code"
   },
   "source": "new_df[['ID','Word','tag']].head(20)",
   "outputs": [
    {
     "output_type": "execute_result",
     "execution_count": 23,
     "data": {
      "application/vnd.deepnote.dataframe.v2+json": {
       "row_count": 20,
       "column_count": 3,
       "columns": [
        {
         "name": "ID",
         "dtype": "int64",
         "stats": {
          "unique_count": 2,
          "nan_count": 0,
          "min": "1",
          "max": "2",
          "histogram": [
           {
            "bin_start": 1,
            "bin_end": 1.1,
            "count": 7
           },
           {
            "bin_start": 1.1,
            "bin_end": 1.2,
            "count": 0
           },
           {
            "bin_start": 1.2,
            "bin_end": 1.3,
            "count": 0
           },
           {
            "bin_start": 1.3,
            "bin_end": 1.4,
            "count": 0
           },
           {
            "bin_start": 1.4,
            "bin_end": 1.5,
            "count": 0
           },
           {
            "bin_start": 1.5,
            "bin_end": 1.6,
            "count": 0
           },
           {
            "bin_start": 1.6,
            "bin_end": 1.7000000000000002,
            "count": 0
           },
           {
            "bin_start": 1.7000000000000002,
            "bin_end": 1.8,
            "count": 0
           },
           {
            "bin_start": 1.8,
            "bin_end": 1.9,
            "count": 0
           },
           {
            "bin_start": 1.9,
            "bin_end": 2,
            "count": 13
           }
          ]
         }
        },
        {
         "name": "Word",
         "dtype": "object",
         "stats": {
          "unique_count": 19,
          "nan_count": 0,
          "categories": [
           {
            "name": "not",
            "count": 2
           },
           {
            "name": "read",
            "count": 1
           },
           {
            "name": "17 others",
            "count": 17
           }
          ]
         }
        },
        {
         "name": "tag",
         "dtype": "object",
         "stats": {
          "unique_count": 10,
          "nan_count": 1,
          "categories": [
           {
            "name": "NN",
            "count": 6
           },
           {
            "name": "9 others",
            "count": 13
           },
           {
            "name": "Missing",
            "count": 1
           }
          ]
         }
        },
        {
         "name": "_deepnote_index_column",
         "dtype": "int64"
        }
       ],
       "rows_top": [
        {
         "ID": 1,
         "Word": "read",
         "tag": "NN",
         "_deepnote_index_column": 0
        },
        {
         "ID": 1,
         "Word": "their",
         "tag": "RP$",
         "_deepnote_index_column": 1
        },
        {
         "ID": 1,
         "Word": "privacy",
         "tag": "NN",
         "_deepnote_index_column": 2
        },
        {
         "ID": 1,
         "Word": "policy",
         "tag": "NN",
         "_deepnote_index_column": 3
        },
        {
         "ID": 1,
         "Word": "they",
         "tag": "PRP",
         "_deepnote_index_column": 4
        },
        {
         "ID": 1,
         "Word": "are",
         "tag": "VBP",
         "_deepnote_index_column": 5
        },
        {
         "ID": 1,
         "Word": "intrusive",
         "tag": "JJ",
         "_deepnote_index_column": 6
        },
        {
         "ID": 2,
         "Word": "great",
         "tag": "JJ",
         "_deepnote_index_column": 7
        },
        {
         "ID": 2,
         "Word": "hardware",
         "tag": "NN",
         "_deepnote_index_column": 8
        },
        {
         "ID": 2,
         "Word": "but",
         "tag": "CC",
         "_deepnote_index_column": 9
        },
        {
         "ID": 2,
         "Word": "software",
         "tag": "NN",
         "_deepnote_index_column": 10
        },
        {
         "ID": 2,
         "Word": "does",
         "tag": "VBZ",
         "_deepnote_index_column": 11
        },
        {
         "ID": 2,
         "Word": "not",
         "tag": "RB",
         "_deepnote_index_column": 12
        },
        {
         "ID": 2,
         "Word": "work",
         "tag": "NN",
         "_deepnote_index_column": 13
        },
        {
         "ID": 2,
         "Word": "",
         "tag": "nan",
         "_deepnote_index_column": 14
        },
        {
         "ID": 2,
         "Word": "do",
         "tag": "VB",
         "_deepnote_index_column": 15
        },
        {
         "ID": 2,
         "Word": "not",
         "tag": "RB",
         "_deepnote_index_column": 16
        },
        {
         "ID": 2,
         "Word": "buy",
         "tag": "VB",
         "_deepnote_index_column": 17
        },
        {
         "ID": 2,
         "Word": "unless",
         "tag": "IN",
         "_deepnote_index_column": 18
        },
        {
         "ID": 2,
         "Word": "you",
         "tag": "PRP",
         "_deepnote_index_column": 19
        }
       ],
       "rows_bottom": null
      },
      "text/plain": "    ID       Word  tag\n0    1       read   NN\n1    1      their  RP$\n2    1    privacy   NN\n3    1     policy   NN\n4    1       they  PRP\n5    1        are  VBP\n6    1  intrusive   JJ\n7    2      great   JJ\n8    2   hardware   NN\n9    2        but   CC\n10   2   software   NN\n11   2       does  VBZ\n12   2        not   RB\n13   2       work   NN\n14   2             NaN\n15   2         do   VB\n16   2        not   RB\n17   2        buy   VB\n18   2     unless   IN\n19   2        you  PRP",
      "text/html": "<div>\n<style scoped>\n    .dataframe tbody tr th:only-of-type {\n        vertical-align: middle;\n    }\n\n    .dataframe tbody tr th {\n        vertical-align: top;\n    }\n\n    .dataframe thead th {\n        text-align: right;\n    }\n</style>\n<table border=\"1\" class=\"dataframe\">\n  <thead>\n    <tr style=\"text-align: right;\">\n      <th></th>\n      <th>ID</th>\n      <th>Word</th>\n      <th>tag</th>\n    </tr>\n  </thead>\n  <tbody>\n    <tr>\n      <th>0</th>\n      <td>1</td>\n      <td>read</td>\n      <td>NN</td>\n    </tr>\n    <tr>\n      <th>1</th>\n      <td>1</td>\n      <td>their</td>\n      <td>RP$</td>\n    </tr>\n    <tr>\n      <th>2</th>\n      <td>1</td>\n      <td>privacy</td>\n      <td>NN</td>\n    </tr>\n    <tr>\n      <th>3</th>\n      <td>1</td>\n      <td>policy</td>\n      <td>NN</td>\n    </tr>\n    <tr>\n      <th>4</th>\n      <td>1</td>\n      <td>they</td>\n      <td>PRP</td>\n    </tr>\n    <tr>\n      <th>5</th>\n      <td>1</td>\n      <td>are</td>\n      <td>VBP</td>\n    </tr>\n    <tr>\n      <th>6</th>\n      <td>1</td>\n      <td>intrusive</td>\n      <td>JJ</td>\n    </tr>\n    <tr>\n      <th>7</th>\n      <td>2</td>\n      <td>great</td>\n      <td>JJ</td>\n    </tr>\n    <tr>\n      <th>8</th>\n      <td>2</td>\n      <td>hardware</td>\n      <td>NN</td>\n    </tr>\n    <tr>\n      <th>9</th>\n      <td>2</td>\n      <td>but</td>\n      <td>CC</td>\n    </tr>\n    <tr>\n      <th>10</th>\n      <td>2</td>\n      <td>software</td>\n      <td>NN</td>\n    </tr>\n    <tr>\n      <th>11</th>\n      <td>2</td>\n      <td>does</td>\n      <td>VBZ</td>\n    </tr>\n    <tr>\n      <th>12</th>\n      <td>2</td>\n      <td>not</td>\n      <td>RB</td>\n    </tr>\n    <tr>\n      <th>13</th>\n      <td>2</td>\n      <td>work</td>\n      <td>NN</td>\n    </tr>\n    <tr>\n      <th>14</th>\n      <td>2</td>\n      <td></td>\n      <td>NaN</td>\n    </tr>\n    <tr>\n      <th>15</th>\n      <td>2</td>\n      <td>do</td>\n      <td>VB</td>\n    </tr>\n    <tr>\n      <th>16</th>\n      <td>2</td>\n      <td>not</td>\n      <td>RB</td>\n    </tr>\n    <tr>\n      <th>17</th>\n      <td>2</td>\n      <td>buy</td>\n      <td>VB</td>\n    </tr>\n    <tr>\n      <th>18</th>\n      <td>2</td>\n      <td>unless</td>\n      <td>IN</td>\n    </tr>\n    <tr>\n      <th>19</th>\n      <td>2</td>\n      <td>you</td>\n      <td>PRP</td>\n    </tr>\n  </tbody>\n</table>\n</div>"
     },
     "metadata": {}
    }
   ],
   "execution_count": null
  },
  {
   "cell_type": "code",
   "metadata": {
    "colab": {
     "base_uri": "https://localhost:8080/",
     "height": 419
    },
    "id": "WQuOMpdWLsq0",
    "outputId": "d6083704-7986-45ce-c65d-2939f20a3b0a",
    "cell_id": "00023-b01a07d0-18b2-440a-b0db-16bb853bb3b2",
    "deepnote_to_be_reexecuted": false,
    "source_hash": "f0b14c6f",
    "execution_start": 1633236481159,
    "execution_millis": 79,
    "deepnote_cell_type": "code"
   },
   "source": "new_df.dropna()",
   "outputs": [
    {
     "output_type": "execute_result",
     "execution_count": 24,
     "data": {
      "application/vnd.deepnote.dataframe.v2+json": {
       "row_count": 1613,
       "column_count": 4,
       "columns": [
        {
         "name": "ID",
         "dtype": "int64",
         "stats": {
          "unique_count": 293,
          "nan_count": 0,
          "min": "1",
          "max": "294",
          "histogram": [
           {
            "bin_start": 1,
            "bin_end": 30.3,
            "count": 205
           },
           {
            "bin_start": 30.3,
            "bin_end": 59.6,
            "count": 186
           },
           {
            "bin_start": 59.6,
            "bin_end": 88.9,
            "count": 165
           },
           {
            "bin_start": 88.9,
            "bin_end": 118.2,
            "count": 172
           },
           {
            "bin_start": 118.2,
            "bin_end": 147.5,
            "count": 168
           },
           {
            "bin_start": 147.5,
            "bin_end": 176.8,
            "count": 145
           },
           {
            "bin_start": 176.8,
            "bin_end": 206.1,
            "count": 151
           },
           {
            "bin_start": 206.1,
            "bin_end": 235.4,
            "count": 144
           },
           {
            "bin_start": 235.4,
            "bin_end": 264.7,
            "count": 141
           },
           {
            "bin_start": 264.7,
            "bin_end": 294,
            "count": 136
           }
          ]
         }
        },
        {
         "name": "Word",
         "dtype": "object",
         "stats": {
          "unique_count": 602,
          "nan_count": 0,
          "categories": [
           {
            "name": "not",
            "count": 91
           },
           {
            "name": "is",
            "count": 41
           },
           {
            "name": "600 others",
            "count": 1481
           }
          ]
         }
        },
        {
         "name": "pos_tag",
         "dtype": "object",
         "stats": {
          "unique_count": 602,
          "nan_count": 0,
          "categories": [
           {
            "name": "[('not', 'RB')]",
            "count": 91
           },
           {
            "name": "[('is', 'VBZ')]",
            "count": 41
           },
           {
            "name": "600 others",
            "count": 1481
           }
          ]
         }
        },
        {
         "name": "tag",
         "dtype": "object",
         "stats": {
          "unique_count": 23,
          "nan_count": 0,
          "categories": [
           {
            "name": "NN",
            "count": 545
           },
           {
            "name": "RB",
            "count": 181
           },
           {
            "name": "21 others",
            "count": 887
           }
          ]
         }
        },
        {
         "name": "_deepnote_index_column",
         "dtype": "int64"
        }
       ],
       "rows_top": [
        {
         "ID": 1,
         "Word": "read",
         "pos_tag": "[('read', 'NN')]",
         "tag": "NN",
         "_deepnote_index_column": 0
        },
        {
         "ID": 1,
         "Word": "their",
         "pos_tag": "[('their', 'PRP$')]",
         "tag": "RP$",
         "_deepnote_index_column": 1
        },
        {
         "ID": 1,
         "Word": "privacy",
         "pos_tag": "[('privacy', 'NN')]",
         "tag": "NN",
         "_deepnote_index_column": 2
        },
        {
         "ID": 1,
         "Word": "policy",
         "pos_tag": "[('policy', 'NN')]",
         "tag": "NN",
         "_deepnote_index_column": 3
        },
        {
         "ID": 1,
         "Word": "they",
         "pos_tag": "[('they', 'PRP')]",
         "tag": "PRP",
         "_deepnote_index_column": 4
        },
        {
         "ID": 1,
         "Word": "are",
         "pos_tag": "[('are', 'VBP')]",
         "tag": "VBP",
         "_deepnote_index_column": 5
        },
        {
         "ID": 1,
         "Word": "intrusive",
         "pos_tag": "[('intrusive', 'JJ')]",
         "tag": "JJ",
         "_deepnote_index_column": 6
        },
        {
         "ID": 2,
         "Word": "great",
         "pos_tag": "[('great', 'JJ')]",
         "tag": "JJ",
         "_deepnote_index_column": 7
        },
        {
         "ID": 2,
         "Word": "hardware",
         "pos_tag": "[('hardware', 'NN')]",
         "tag": "NN",
         "_deepnote_index_column": 8
        },
        {
         "ID": 2,
         "Word": "but",
         "pos_tag": "[('but', 'CC')]",
         "tag": "CC",
         "_deepnote_index_column": 9
        },
        {
         "ID": 2,
         "Word": "software",
         "pos_tag": "[('software', 'NN')]",
         "tag": "NN",
         "_deepnote_index_column": 10
        },
        {
         "ID": 2,
         "Word": "does",
         "pos_tag": "[('does', 'VBZ')]",
         "tag": "VBZ",
         "_deepnote_index_column": 11
        },
        {
         "ID": 2,
         "Word": "not",
         "pos_tag": "[('not', 'RB')]",
         "tag": "RB",
         "_deepnote_index_column": 12
        },
        {
         "ID": 2,
         "Word": "work",
         "pos_tag": "[('work', 'NN')]",
         "tag": "NN",
         "_deepnote_index_column": 13
        },
        {
         "ID": 2,
         "Word": "do",
         "pos_tag": "[('do', 'VB')]",
         "tag": "VB",
         "_deepnote_index_column": 15
        },
        {
         "ID": 2,
         "Word": "not",
         "pos_tag": "[('not', 'RB')]",
         "tag": "RB",
         "_deepnote_index_column": 16
        },
        {
         "ID": 2,
         "Word": "buy",
         "pos_tag": "[('buy', 'VB')]",
         "tag": "VB",
         "_deepnote_index_column": 17
        },
        {
         "ID": 2,
         "Word": "unless",
         "pos_tag": "[('unless', 'IN')]",
         "tag": "IN",
         "_deepnote_index_column": 18
        },
        {
         "ID": 2,
         "Word": "you",
         "pos_tag": "[('you', 'PRP')]",
         "tag": "PRP",
         "_deepnote_index_column": 19
        },
        {
         "ID": 2,
         "Word": "want",
         "pos_tag": "[('want', 'NN')]",
         "tag": "NN",
         "_deepnote_index_column": 20
        },
        {
         "ID": 2,
         "Word": "to",
         "pos_tag": "[('to', 'TO')]",
         "tag": "TO",
         "_deepnote_index_column": 21
        },
        {
         "ID": 2,
         "Word": "project",
         "pos_tag": "[('project', 'NN')]",
         "tag": "NN",
         "_deepnote_index_column": 22
        },
        {
         "ID": 2,
         "Word": "from",
         "pos_tag": "[('from', 'IN')]",
         "tag": "IN",
         "_deepnote_index_column": 23
        },
        {
         "ID": 2,
         "Word": "hdmi",
         "pos_tag": "[('hdmi', 'NN')]",
         "tag": "NN",
         "_deepnote_index_column": 24
        },
        {
         "ID": 2,
         "Word": "source",
         "pos_tag": "[('source', 'NN')]",
         "tag": "NN",
         "_deepnote_index_column": 25
        },
        {
         "ID": 2,
         "Word": "only",
         "pos_tag": "[('only', 'RB')]",
         "tag": "RB",
         "_deepnote_index_column": 26
        },
        {
         "ID": 3,
         "Word": "i",
         "pos_tag": "[('i', 'NN')]",
         "tag": "NN",
         "_deepnote_index_column": 27
        },
        {
         "ID": 3,
         "Word": "am",
         "pos_tag": "[('am', 'VBP')]",
         "tag": "VBP",
         "_deepnote_index_column": 28
        },
        {
         "ID": 3,
         "Word": "keeping",
         "pos_tag": "[('keeping', 'VBG')]",
         "tag": "VBG",
         "_deepnote_index_column": 29
        },
        {
         "ID": 3,
         "Word": "it",
         "pos_tag": "[('it', 'PRP')]",
         "tag": "PRP",
         "_deepnote_index_column": 30
        },
        {
         "ID": 3,
         "Word": "but",
         "pos_tag": "[('but', 'CC')]",
         "tag": "CC",
         "_deepnote_index_column": 31
        },
        {
         "ID": 4,
         "Word": "lies",
         "pos_tag": "[('lies', 'NNS')]",
         "tag": "NNS",
         "_deepnote_index_column": 32
        },
        {
         "ID": 5,
         "Word": "it",
         "pos_tag": "[('it', 'PRP')]",
         "tag": "PRP",
         "_deepnote_index_column": 33
        },
        {
         "ID": 5,
         "Word": "does",
         "pos_tag": "[('does', 'VBZ')]",
         "tag": "VBZ",
         "_deepnote_index_column": 34
        },
        {
         "ID": 5,
         "Word": "not",
         "pos_tag": "[('not', 'RB')]",
         "tag": "RB",
         "_deepnote_index_column": 35
        },
        {
         "ID": 5,
         "Word": "work",
         "pos_tag": "[('work', 'NN')]",
         "tag": "NN",
         "_deepnote_index_column": 36
        },
        {
         "ID": 5,
         "Word": "on",
         "pos_tag": "[('on', 'IN')]",
         "tag": "IN",
         "_deepnote_index_column": 37
        },
        {
         "ID": 5,
         "Word": "most",
         "pos_tag": "[('most', 'JJS')]",
         "tag": "JJS",
         "_deepnote_index_column": 38
        },
        {
         "ID": 5,
         "Word": "formats",
         "pos_tag": "[('formats', 'NNS')]",
         "tag": "NNS",
         "_deepnote_index_column": 39
        },
        {
         "ID": 6,
         "Word": "needs",
         "pos_tag": "[('needs', 'NNS')]",
         "tag": "NNS",
         "_deepnote_index_column": 40
        },
        {
         "ID": 6,
         "Word": "to",
         "pos_tag": "[('to', 'TO')]",
         "tag": "TO",
         "_deepnote_index_column": 41
        },
        {
         "ID": 6,
         "Word": "be",
         "pos_tag": "[('be', 'VB')]",
         "tag": "VB",
         "_deepnote_index_column": 42
        },
        {
         "ID": 6,
         "Word": "brighter",
         "pos_tag": "[('brighter', 'NN')]",
         "tag": "NN",
         "_deepnote_index_column": 43
        },
        {
         "ID": 7,
         "Word": "2",
         "pos_tag": "[('2', 'CD')]",
         "tag": "CD",
         "_deepnote_index_column": 44
        },
        {
         "ID": 7,
         "Word": "weeks",
         "pos_tag": "[('weeks', 'NNS')]",
         "tag": "NNS",
         "_deepnote_index_column": 45
        },
        {
         "ID": 7,
         "Word": "7",
         "pos_tag": "[('7', 'CD')]",
         "tag": "CD",
         "_deepnote_index_column": 46
        },
        {
         "ID": 7,
         "Word": "etc",
         "pos_tag": "[('etc', 'NN')]",
         "tag": "NN",
         "_deepnote_index_column": 47
        },
        {
         "ID": 7,
         "Word": "support",
         "pos_tag": "[('support', 'NN')]",
         "tag": "NN",
         "_deepnote_index_column": 48
        },
        {
         "ID": 7,
         "Word": "calls",
         "pos_tag": "[('calls', 'NNS')]",
         "tag": "NNS",
         "_deepnote_index_column": 49
        },
        {
         "ID": 7,
         "Word": "and",
         "pos_tag": "[('and', 'CC')]",
         "tag": "CC",
         "_deepnote_index_column": 50
        },
        {
         "ID": 7,
         "Word": "76",
         "pos_tag": "[('76', 'CD')]",
         "tag": "CD",
         "_deepnote_index_column": 52
        },
        {
         "ID": 7,
         "Word": "worth",
         "pos_tag": "[('worth', 'NN')]",
         "tag": "NN",
         "_deepnote_index_column": 53
        },
        {
         "ID": 7,
         "Word": "of",
         "pos_tag": "[('of', 'IN')]",
         "tag": "IN",
         "_deepnote_index_column": 54
        },
        {
         "ID": 7,
         "Word": "hdmi",
         "pos_tag": "[('hdmi', 'NN')]",
         "tag": "NN",
         "_deepnote_index_column": 55
        },
        {
         "ID": 7,
         "Word": "cables",
         "pos_tag": "[('cables', 'NNS')]",
         "tag": "NNS",
         "_deepnote_index_column": 56
        },
        {
         "ID": 7,
         "Word": "and",
         "pos_tag": "[('and', 'CC')]",
         "tag": "CC",
         "_deepnote_index_column": 57
        },
        {
         "ID": 7,
         "Word": "connectors",
         "pos_tag": "[('connectors', 'NNS')]",
         "tag": "NNS",
         "_deepnote_index_column": 58
        },
        {
         "ID": 7,
         "Word": "but",
         "pos_tag": "[('but', 'CC')]",
         "tag": "CC",
         "_deepnote_index_column": 59
        },
        {
         "ID": 7,
         "Word": "still",
         "pos_tag": "[('still', 'RB')]",
         "tag": "RB",
         "_deepnote_index_column": 60
        },
        {
         "ID": 7,
         "Word": "does",
         "pos_tag": "[('does', 'VBZ')]",
         "tag": "VBZ",
         "_deepnote_index_column": 61
        },
        {
         "ID": 7,
         "Word": "not",
         "pos_tag": "[('not', 'RB')]",
         "tag": "RB",
         "_deepnote_index_column": 62
        },
        {
         "ID": 7,
         "Word": "work",
         "pos_tag": "[('work', 'NN')]",
         "tag": "NN",
         "_deepnote_index_column": 63
        },
        {
         "ID": 8,
         "Word": "a",
         "pos_tag": "[('a', 'DT')]",
         "tag": "DT",
         "_deepnote_index_column": 64
        },
        {
         "ID": 8,
         "Word": "good",
         "pos_tag": "[('good', 'JJ')]",
         "tag": "JJ",
         "_deepnote_index_column": 65
        },
        {
         "ID": 8,
         "Word": "attempt",
         "pos_tag": "[('attempt', 'NN')]",
         "tag": "NN",
         "_deepnote_index_column": 66
        },
        {
         "ID": 8,
         "Word": "but",
         "pos_tag": "[('but', 'CC')]",
         "tag": "CC",
         "_deepnote_index_column": 67
        },
        {
         "ID": 8,
         "Word": "needs",
         "pos_tag": "[('needs', 'NNS')]",
         "tag": "NNS",
         "_deepnote_index_column": 68
        },
        {
         "ID": 8,
         "Word": "improvement",
         "pos_tag": "[('improvement', 'NN')]",
         "tag": "NN",
         "_deepnote_index_column": 69
        },
        {
         "ID": 9,
         "Word": "lovely",
         "pos_tag": "[('lovely', 'RB')]",
         "tag": "RB",
         "_deepnote_index_column": 70
        },
        {
         "ID": 9,
         "Word": "outside",
         "pos_tag": "[('outside', 'IN')]",
         "tag": "IN",
         "_deepnote_index_column": 71
        },
        {
         "ID": 9,
         "Word": "but",
         "pos_tag": "[('but', 'CC')]",
         "tag": "CC",
         "_deepnote_index_column": 72
        },
        {
         "ID": 9,
         "Word": "the",
         "pos_tag": "[('the', 'DT')]",
         "tag": "DT",
         "_deepnote_index_column": 73
        },
        {
         "ID": 9,
         "Word": "guts",
         "pos_tag": "[('guts', 'NNS')]",
         "tag": "NNS",
         "_deepnote_index_column": 74
        },
        {
         "ID": 9,
         "Word": "on",
         "pos_tag": "[('on', 'IN')]",
         "tag": "IN",
         "_deepnote_index_column": 75
        },
        {
         "ID": 9,
         "Word": "this",
         "pos_tag": "[('this', 'DT')]",
         "tag": "DT",
         "_deepnote_index_column": 76
        },
        {
         "ID": 9,
         "Word": "unit",
         "pos_tag": "[('unit', 'NN')]",
         "tag": "NN",
         "_deepnote_index_column": 77
        },
        {
         "ID": 9,
         "Word": "leaves",
         "pos_tag": "[('leaves', 'NNS')]",
         "tag": "NNS",
         "_deepnote_index_column": 78
        },
        {
         "ID": 9,
         "Word": "something",
         "pos_tag": "[('something', 'NN')]",
         "tag": "NN",
         "_deepnote_index_column": 79
        },
        {
         "ID": 9,
         "Word": "to",
         "pos_tag": "[('to', 'TO')]",
         "tag": "TO",
         "_deepnote_index_column": 80
        },
        {
         "ID": 9,
         "Word": "be",
         "pos_tag": "[('be', 'VB')]",
         "tag": "VB",
         "_deepnote_index_column": 81
        },
        {
         "ID": 9,
         "Word": "desired",
         "pos_tag": "[('desired', 'VBN')]",
         "tag": "VBN",
         "_deepnote_index_column": 82
        },
        {
         "ID": 10,
         "Word": "no",
         "pos_tag": "[('no', 'DT')]",
         "tag": "DT",
         "_deepnote_index_column": 83
        },
        {
         "ID": 10,
         "Word": "longevity",
         "pos_tag": "[('longevity', 'NN')]",
         "tag": "NN",
         "_deepnote_index_column": 84
        },
        {
         "ID": 10,
         "Word": "sporadic",
         "pos_tag": "[('sporadic', 'NN')]",
         "tag": "NN",
         "_deepnote_index_column": 85
        },
        {
         "ID": 10,
         "Word": "functionality",
         "pos_tag": "[('functionality', 'NN')]",
         "tag": "NN",
         "_deepnote_index_column": 86
        },
        {
         "ID": 11,
         "Word": "it",
         "pos_tag": "[('it', 'PRP')]",
         "tag": "PRP",
         "_deepnote_index_column": 87
        },
        {
         "ID": 11,
         "Word": "must",
         "pos_tag": "[('must', 'MD')]",
         "tag": "MD",
         "_deepnote_index_column": 88
        },
        {
         "ID": 11,
         "Word": "be",
         "pos_tag": "[('be', 'VB')]",
         "tag": "VB",
         "_deepnote_index_column": 89
        },
        {
         "ID": 11,
         "Word": "unlocked",
         "pos_tag": "[('unlocked', 'JJ')]",
         "tag": "JJ",
         "_deepnote_index_column": 90
        },
        {
         "ID": 12,
         "Word": "almost",
         "pos_tag": "[('almost', 'RB')]",
         "tag": "RB",
         "_deepnote_index_column": 91
        },
        {
         "ID": 12,
         "Word": "love",
         "pos_tag": "[('love', 'NN')]",
         "tag": "NN",
         "_deepnote_index_column": 92
        },
        {
         "ID": 12,
         "Word": "it",
         "pos_tag": "[('it', 'PRP')]",
         "tag": "PRP",
         "_deepnote_index_column": 93
        },
        {
         "ID": 12,
         "Word": "not",
         "pos_tag": "[('not', 'RB')]",
         "tag": "RB",
         "_deepnote_index_column": 94
        },
        {
         "ID": 12,
         "Word": "worth",
         "pos_tag": "[('worth', 'NN')]",
         "tag": "NN",
         "_deepnote_index_column": 95
        },
        {
         "ID": 12,
         "Word": "the",
         "pos_tag": "[('the', 'DT')]",
         "tag": "DT",
         "_deepnote_index_column": 96
        },
        {
         "ID": 12,
         "Word": "price",
         "pos_tag": "[('price', 'NN')]",
         "tag": "NN",
         "_deepnote_index_column": 97
        },
        {
         "ID": 13,
         "Word": "terrible",
         "pos_tag": "[('terrible', 'JJ')]",
         "tag": "JJ",
         "_deepnote_index_column": 98
        },
        {
         "ID": 13,
         "Word": "software",
         "pos_tag": "[('software', 'NN')]",
         "tag": "NN",
         "_deepnote_index_column": 99
        },
        {
         "ID": 13,
         "Word": "and",
         "pos_tag": "[('and', 'CC')]",
         "tag": "CC",
         "_deepnote_index_column": 100
        },
        {
         "ID": 13,
         "Word": "barely",
         "pos_tag": "[('barely', 'RB')]",
         "tag": "RB",
         "_deepnote_index_column": 101
        },
        {
         "ID": 13,
         "Word": "usable",
         "pos_tag": "[('usable', 'JJ')]",
         "tag": "JJ",
         "_deepnote_index_column": 102
        },
        {
         "ID": 14,
         "Word": "mala",
         "pos_tag": "[('mala', 'NN')]",
         "tag": "NN",
         "_deepnote_index_column": 103
        },
        {
         "ID": 14,
         "Word": "resolucion",
         "pos_tag": "[('resolucion', 'NN')]",
         "tag": "NN",
         "_deepnote_index_column": 104
        },
        {
         "ID": 14,
         "Word": "en",
         "pos_tag": "[('en', 'NN')]",
         "tag": "NN",
         "_deepnote_index_column": 105
        },
        {
         "ID": 14,
         "Word": "salas",
         "pos_tag": "[('salas', 'NNS')]",
         "tag": "NNS",
         "_deepnote_index_column": 106
        },
        {
         "ID": 14,
         "Word": "iluminadas",
         "pos_tag": "[('iluminadas', 'NNS')]",
         "tag": "NNS",
         "_deepnote_index_column": 107
        },
        {
         "ID": 15,
         "Word": "it",
         "pos_tag": "[('it', 'PRP')]",
         "tag": "PRP",
         "_deepnote_index_column": 108
        },
        {
         "ID": 15,
         "Word": "does",
         "pos_tag": "[('does', 'VBZ')]",
         "tag": "VBZ",
         "_deepnote_index_column": 109
        },
        {
         "ID": 15,
         "Word": "not",
         "pos_tag": "[('not', 'RB')]",
         "tag": "RB",
         "_deepnote_index_column": 110
        },
        {
         "ID": 15,
         "Word": "work",
         "pos_tag": "[('work', 'NN')]",
         "tag": "NN",
         "_deepnote_index_column": 111
        },
        {
         "ID": 16,
         "Word": "does",
         "pos_tag": "[('does', 'VBZ')]",
         "tag": "VBZ",
         "_deepnote_index_column": 112
        },
        {
         "ID": 16,
         "Word": "not",
         "pos_tag": "[('not', 'RB')]",
         "tag": "RB",
         "_deepnote_index_column": 113
        },
        {
         "ID": 16,
         "Word": "work",
         "pos_tag": "[('work', 'NN')]",
         "tag": "NN",
         "_deepnote_index_column": 114
        },
        {
         "ID": 16,
         "Word": "well",
         "pos_tag": "[('well', 'RB')]",
         "tag": "RB",
         "_deepnote_index_column": 115
        },
        {
         "ID": 16,
         "Word": "with",
         "pos_tag": "[('with', 'IN')]",
         "tag": "IN",
         "_deepnote_index_column": 116
        },
        {
         "ID": 16,
         "Word": "airplay",
         "pos_tag": "[('airplay', 'NN')]",
         "tag": "NN",
         "_deepnote_index_column": 117
        },
        {
         "ID": 16,
         "Word": "for",
         "pos_tag": "[('for', 'IN')]",
         "tag": "IN",
         "_deepnote_index_column": 118
        },
        {
         "ID": 16,
         "Word": "ipad",
         "pos_tag": "[('ipad', 'NN')]",
         "tag": "NN",
         "_deepnote_index_column": 119
        },
        {
         "ID": 17,
         "Word": "not",
         "pos_tag": "[('not', 'RB')]",
         "tag": "RB",
         "_deepnote_index_column": 120
        },
        {
         "ID": 17,
         "Word": "what",
         "pos_tag": "[('what', 'WP')]",
         "tag": "WP",
         "_deepnote_index_column": 121
        },
        {
         "ID": 17,
         "Word": "you",
         "pos_tag": "[('you', 'PRP')]",
         "tag": "PRP",
         "_deepnote_index_column": 122
        },
        {
         "ID": 17,
         "Word": "think",
         "pos_tag": "[('think', 'NN')]",
         "tag": "NN",
         "_deepnote_index_column": 123
        },
        {
         "ID": 18,
         "Word": "was",
         "pos_tag": "[('was', 'VBD')]",
         "tag": "VBD",
         "_deepnote_index_column": 124
        },
        {
         "ID": 18,
         "Word": "probably",
         "pos_tag": "[('probably', 'RB')]",
         "tag": "RB",
         "_deepnote_index_column": 125
        },
        {
         "ID": 18,
         "Word": "a",
         "pos_tag": "[('a', 'DT')]",
         "tag": "DT",
         "_deepnote_index_column": 126
        }
       ],
       "rows_bottom": [
        {
         "ID": 267,
         "Word": "software",
         "pos_tag": "[('software', 'NN')]",
         "tag": "NN",
         "_deepnote_index_column": 1500
        },
        {
         "ID": 267,
         "Word": "on",
         "pos_tag": "[('on', 'IN')]",
         "tag": "IN",
         "_deepnote_index_column": 1501
        },
        {
         "ID": 267,
         "Word": "pleasant",
         "pos_tag": "[('pleasant', 'NN')]",
         "tag": "NN",
         "_deepnote_index_column": 1502
        },
        {
         "ID": 267,
         "Word": "hardware",
         "pos_tag": "[('hardware', 'NN')]",
         "tag": "NN",
         "_deepnote_index_column": 1503
        },
        {
         "ID": 268,
         "Word": "not",
         "pos_tag": "[('not', 'RB')]",
         "tag": "RB",
         "_deepnote_index_column": 1504
        },
        {
         "ID": 268,
         "Word": "compatible",
         "pos_tag": "[('compatible', 'JJ')]",
         "tag": "JJ",
         "_deepnote_index_column": 1505
        },
        {
         "ID": 268,
         "Word": "with",
         "pos_tag": "[('with', 'IN')]",
         "tag": "IN",
         "_deepnote_index_column": 1506
        },
        {
         "ID": 268,
         "Word": "disney",
         "pos_tag": "[('disney', 'NN')]",
         "tag": "NN",
         "_deepnote_index_column": 1507
        },
        {
         "ID": 268,
         "Word": "plus",
         "pos_tag": "[('plus', 'CC')]",
         "tag": "CC",
         "_deepnote_index_column": 1508
        },
        {
         "ID": 268,
         "Word": "and",
         "pos_tag": "[('and', 'CC')]",
         "tag": "CC",
         "_deepnote_index_column": 1509
        },
        {
         "ID": 268,
         "Word": "app",
         "pos_tag": "[('app', 'NN')]",
         "tag": "NN",
         "_deepnote_index_column": 1510
        },
        {
         "ID": 268,
         "Word": "is",
         "pos_tag": "[('is', 'VBZ')]",
         "tag": "VBZ",
         "_deepnote_index_column": 1511
        },
        {
         "ID": 268,
         "Word": "horrible",
         "pos_tag": "[('horrible', 'JJ')]",
         "tag": "JJ",
         "_deepnote_index_column": 1512
        },
        {
         "ID": 269,
         "Word": "second",
         "pos_tag": "[('second', 'JJ')]",
         "tag": "JJ",
         "_deepnote_index_column": 1513
        },
        {
         "ID": 269,
         "Word": "one",
         "pos_tag": "[('one', 'CD')]",
         "tag": "CD",
         "_deepnote_index_column": 1514
        },
        {
         "ID": 269,
         "Word": "since",
         "pos_tag": "[('since', 'IN')]",
         "tag": "IN",
         "_deepnote_index_column": 1515
        },
        {
         "ID": 269,
         "Word": "november",
         "pos_tag": "[('november', 'NN')]",
         "tag": "NN",
         "_deepnote_index_column": 1516
        },
        {
         "ID": 270,
         "Word": "cool",
         "pos_tag": "[('cool', 'NN')]",
         "tag": "NN",
         "_deepnote_index_column": 1517
        },
        {
         "ID": 270,
         "Word": "just",
         "pos_tag": "[('just', 'RB')]",
         "tag": "RB",
         "_deepnote_index_column": 1518
        },
        {
         "ID": 270,
         "Word": "wish",
         "pos_tag": "[('wish', 'NN')]",
         "tag": "NN",
         "_deepnote_index_column": 1519
        },
        {
         "ID": 270,
         "Word": "it",
         "pos_tag": "[('it', 'PRP')]",
         "tag": "PRP",
         "_deepnote_index_column": 1520
        },
        {
         "ID": 270,
         "Word": "were",
         "pos_tag": "[('were', 'VBD')]",
         "tag": "VBD",
         "_deepnote_index_column": 1521
        },
        {
         "ID": 270,
         "Word": "brighter",
         "pos_tag": "[('brighter', 'NN')]",
         "tag": "NN",
         "_deepnote_index_column": 1522
        },
        {
         "ID": 271,
         "Word": "chromecast",
         "pos_tag": "[('chromecast', 'NN')]",
         "tag": "NN",
         "_deepnote_index_column": 1523
        },
        {
         "ID": 272,
         "Word": "need",
         "pos_tag": "[('need', 'NN')]",
         "tag": "NN",
         "_deepnote_index_column": 1524
        },
        {
         "ID": 272,
         "Word": "help",
         "pos_tag": "[('help', 'NN')]",
         "tag": "NN",
         "_deepnote_index_column": 1525
        },
        {
         "ID": 272,
         "Word": "to",
         "pos_tag": "[('to', 'TO')]",
         "tag": "TO",
         "_deepnote_index_column": 1526
        },
        {
         "ID": 272,
         "Word": "run",
         "pos_tag": "[('run', 'VB')]",
         "tag": "VB",
         "_deepnote_index_column": 1527
        },
        {
         "ID": 272,
         "Word": "netflix",
         "pos_tag": "[('netflix', 'NN')]",
         "tag": "NN",
         "_deepnote_index_column": 1528
        },
        {
         "ID": 273,
         "Word": "missing",
         "pos_tag": "[('missing', 'VBG')]",
         "tag": "VBG",
         "_deepnote_index_column": 1529
        },
        {
         "ID": 273,
         "Word": "important",
         "pos_tag": "[('important', 'JJ')]",
         "tag": "JJ",
         "_deepnote_index_column": 1530
        },
        {
         "ID": 273,
         "Word": "integrations",
         "pos_tag": "[('integrations', 'NNS')]",
         "tag": "NNS",
         "_deepnote_index_column": 1531
        },
        {
         "ID": 274,
         "Word": "on",
         "pos_tag": "[('on', 'IN')]",
         "tag": "IN",
         "_deepnote_index_column": 1532
        },
        {
         "ID": 274,
         "Word": "the",
         "pos_tag": "[('the', 'DT')]",
         "tag": "DT",
         "_deepnote_index_column": 1533
        },
        {
         "ID": 274,
         "Word": "fence",
         "pos_tag": "[('fence', 'NN')]",
         "tag": "NN",
         "_deepnote_index_column": 1534
        },
        {
         "ID": 275,
         "Word": "proyector",
         "pos_tag": "[('proyector', 'NN')]",
         "tag": "NN",
         "_deepnote_index_column": 1535
        },
        {
         "ID": 275,
         "Word": "muy",
         "pos_tag": "[('muy', 'NN')]",
         "tag": "NN",
         "_deepnote_index_column": 1536
        },
        {
         "ID": 275,
         "Word": "mediocre",
         "pos_tag": "[('mediocre', 'NN')]",
         "tag": "NN",
         "_deepnote_index_column": 1537
        },
        {
         "ID": 276,
         "Word": "over",
         "pos_tag": "[('over', 'IN')]",
         "tag": "IN",
         "_deepnote_index_column": 1538
        },
        {
         "ID": 276,
         "Word": "priced",
         "pos_tag": "[('priced', 'VBN')]",
         "tag": "VBN",
         "_deepnote_index_column": 1539
        },
        {
         "ID": 277,
         "Word": "expect",
         "pos_tag": "[('expect', 'VB')]",
         "tag": "VB",
         "_deepnote_index_column": 1540
        },
        {
         "ID": 277,
         "Word": "better",
         "pos_tag": "[('better', 'RBR')]",
         "tag": "RBR",
         "_deepnote_index_column": 1541
        },
        {
         "ID": 277,
         "Word": "for",
         "pos_tag": "[('for', 'IN')]",
         "tag": "IN",
         "_deepnote_index_column": 1542
        },
        {
         "ID": 277,
         "Word": "anker",
         "pos_tag": "[('anker', 'NN')]",
         "tag": "NN",
         "_deepnote_index_column": 1543
        },
        {
         "ID": 277,
         "Word": "ruined",
         "pos_tag": "[('ruined', 'VBN')]",
         "tag": "VBN",
         "_deepnote_index_column": 1544
        },
        {
         "ID": 277,
         "Word": "my",
         "pos_tag": "[('my', 'PRP$')]",
         "tag": "RP$",
         "_deepnote_index_column": 1545
        },
        {
         "ID": 277,
         "Word": "fathers",
         "pos_tag": "[('fathers', 'NNS')]",
         "tag": "NNS",
         "_deepnote_index_column": 1546
        },
        {
         "ID": 277,
         "Word": "day",
         "pos_tag": "[('day', 'NN')]",
         "tag": "NN",
         "_deepnote_index_column": 1547
        },
        {
         "ID": 278,
         "Word": "disposable",
         "pos_tag": "[('disposable', 'JJ')]",
         "tag": "JJ",
         "_deepnote_index_column": 1548
        },
        {
         "ID": 278,
         "Word": "projector",
         "pos_tag": "[('projector', 'NN')]",
         "tag": "NN",
         "_deepnote_index_column": 1549
        },
        {
         "ID": 278,
         "Word": "no",
         "pos_tag": "[('no', 'DT')]",
         "tag": "DT",
         "_deepnote_index_column": 1550
        },
        {
         "ID": 278,
         "Word": "repair",
         "pos_tag": "[('repair', 'NN')]",
         "tag": "NN",
         "_deepnote_index_column": 1551
        },
        {
         "ID": 278,
         "Word": "centers",
         "pos_tag": "[('centers', 'NNS')]",
         "tag": "NNS",
         "_deepnote_index_column": 1552
        },
        {
         "ID": 278,
         "Word": "in",
         "pos_tag": "[('in', 'IN')]",
         "tag": "IN",
         "_deepnote_index_column": 1553
        },
        {
         "ID": 278,
         "Word": "usa",
         "pos_tag": "[('usa', 'NN')]",
         "tag": "NN",
         "_deepnote_index_column": 1554
        },
        {
         "ID": 279,
         "Word": "one",
         "pos_tag": "[('one', 'CD')]",
         "tag": "CD",
         "_deepnote_index_column": 1555
        },
        {
         "ID": 279,
         "Word": "star",
         "pos_tag": "[('star', 'NN')]",
         "tag": "NN",
         "_deepnote_index_column": 1556
        },
        {
         "ID": 280,
         "Word": "disappointed",
         "pos_tag": "[('disappointed', 'JJ')]",
         "tag": "JJ",
         "_deepnote_index_column": 1557
        },
        {
         "ID": 281,
         "Word": "not",
         "pos_tag": "[('not', 'RB')]",
         "tag": "RB",
         "_deepnote_index_column": 1558
        },
        {
         "ID": 281,
         "Word": "working",
         "pos_tag": "[('working', 'VBG')]",
         "tag": "VBG",
         "_deepnote_index_column": 1559
        },
        {
         "ID": 281,
         "Word": "with",
         "pos_tag": "[('with', 'IN')]",
         "tag": "IN",
         "_deepnote_index_column": 1560
        },
        {
         "ID": 281,
         "Word": "apps",
         "pos_tag": "[('apps', 'NN')]",
         "tag": "NN",
         "_deepnote_index_column": 1561
        },
        {
         "ID": 281,
         "Word": "that",
         "pos_tag": "[('that', 'IN')]",
         "tag": "IN",
         "_deepnote_index_column": 1562
        },
        {
         "ID": 281,
         "Word": "i",
         "pos_tag": "[('i', 'NN')]",
         "tag": "NN",
         "_deepnote_index_column": 1563
        },
        {
         "ID": 281,
         "Word": "am",
         "pos_tag": "[('am', 'VBP')]",
         "tag": "VBP",
         "_deepnote_index_column": 1564
        },
        {
         "ID": 281,
         "Word": "watching",
         "pos_tag": "[('watching', 'VBG')]",
         "tag": "VBG",
         "_deepnote_index_column": 1565
        },
        {
         "ID": 281,
         "Word": "on",
         "pos_tag": "[('on', 'IN')]",
         "tag": "IN",
         "_deepnote_index_column": 1566
        },
        {
         "ID": 281,
         "Word": "tv",
         "pos_tag": "[('tv', 'NN')]",
         "tag": "NN",
         "_deepnote_index_column": 1567
        },
        {
         "ID": 282,
         "Word": "thats",
         "pos_tag": "[('thats', 'NNS')]",
         "tag": "NNS",
         "_deepnote_index_column": 1569
        },
        {
         "ID": 282,
         "Word": "a",
         "pos_tag": "[('a', 'DT')]",
         "tag": "DT",
         "_deepnote_index_column": 1570
        },
        {
         "ID": 282,
         "Word": "pretty",
         "pos_tag": "[('pretty', 'RB')]",
         "tag": "RB",
         "_deepnote_index_column": 1571
        },
        {
         "ID": 282,
         "Word": "big",
         "pos_tag": "[('big', 'JJ')]",
         "tag": "JJ",
         "_deepnote_index_column": 1572
        },
        {
         "ID": 282,
         "Word": "deal",
         "pos_tag": "[('deal', 'NN')]",
         "tag": "NN",
         "_deepnote_index_column": 1573
        },
        {
         "ID": 282,
         "Word": "breaker",
         "pos_tag": "[('breaker', 'NN')]",
         "tag": "NN",
         "_deepnote_index_column": 1574
        },
        {
         "ID": 282,
         "Word": "for",
         "pos_tag": "[('for', 'IN')]",
         "tag": "IN",
         "_deepnote_index_column": 1575
        },
        {
         "ID": 282,
         "Word": "me",
         "pos_tag": "[('me', 'PRP')]",
         "tag": "PRP",
         "_deepnote_index_column": 1576
        },
        {
         "ID": 283,
         "Word": "three",
         "pos_tag": "[('three', 'CD')]",
         "tag": "CD",
         "_deepnote_index_column": 1577
        },
        {
         "ID": 283,
         "Word": "stars",
         "pos_tag": "[('stars', 'NNS')]",
         "tag": "NNS",
         "_deepnote_index_column": 1578
        },
        {
         "ID": 284,
         "Word": "two",
         "pos_tag": "[('two', 'CD')]",
         "tag": "CD",
         "_deepnote_index_column": 1579
        },
        {
         "ID": 284,
         "Word": "stars",
         "pos_tag": "[('stars', 'NNS')]",
         "tag": "NNS",
         "_deepnote_index_column": 1580
        },
        {
         "ID": 285,
         "Word": "really",
         "pos_tag": "[('really', 'RB')]",
         "tag": "RB",
         "_deepnote_index_column": 1581
        },
        {
         "ID": 285,
         "Word": "amazing",
         "pos_tag": "[('amazing', 'VBG')]",
         "tag": "VBG",
         "_deepnote_index_column": 1582
        },
        {
         "ID": 286,
         "Word": "surely",
         "pos_tag": "[('surely', 'RB')]",
         "tag": "RB",
         "_deepnote_index_column": 1583
        },
        {
         "ID": 286,
         "Word": "its",
         "pos_tag": "[('its', 'PRP$')]",
         "tag": "RP$",
         "_deepnote_index_column": 1584
        },
        {
         "ID": 286,
         "Word": "wonderful",
         "pos_tag": "[('wonderful', 'NN')]",
         "tag": "NN",
         "_deepnote_index_column": 1585
        },
        {
         "ID": 286,
         "Word": "and",
         "pos_tag": "[('and', 'CC')]",
         "tag": "CC",
         "_deepnote_index_column": 1586
        },
        {
         "ID": 286,
         "Word": "all",
         "pos_tag": "[('all', 'DT')]",
         "tag": "DT",
         "_deepnote_index_column": 1587
        },
        {
         "ID": 287,
         "Word": "lack",
         "pos_tag": "[('lack', 'NN')]",
         "tag": "NN",
         "_deepnote_index_column": 1588
        },
        {
         "ID": 287,
         "Word": "flexibility",
         "pos_tag": "[('flexibility', 'NN')]",
         "tag": "NN",
         "_deepnote_index_column": 1589
        },
        {
         "ID": 288,
         "Word": "two",
         "pos_tag": "[('two', 'CD')]",
         "tag": "CD",
         "_deepnote_index_column": 1590
        },
        {
         "ID": 288,
         "Word": "defective",
         "pos_tag": "[('defective', 'JJ')]",
         "tag": "JJ",
         "_deepnote_index_column": 1591
        },
        {
         "ID": 288,
         "Word": "units",
         "pos_tag": "[('units', 'NNS')]",
         "tag": "NNS",
         "_deepnote_index_column": 1592
        },
        {
         "ID": 288,
         "Word": "right",
         "pos_tag": "[('right', 'NN')]",
         "tag": "NN",
         "_deepnote_index_column": 1593
        },
        {
         "ID": 288,
         "Word": "out",
         "pos_tag": "[('out', 'IN')]",
         "tag": "IN",
         "_deepnote_index_column": 1594
        },
        {
         "ID": 288,
         "Word": "of",
         "pos_tag": "[('of', 'IN')]",
         "tag": "IN",
         "_deepnote_index_column": 1595
        },
        {
         "ID": 288,
         "Word": "the",
         "pos_tag": "[('the', 'DT')]",
         "tag": "DT",
         "_deepnote_index_column": 1596
        },
        {
         "ID": 288,
         "Word": "box",
         "pos_tag": "[('box', 'NN')]",
         "tag": "NN",
         "_deepnote_index_column": 1597
        },
        {
         "ID": 288,
         "Word": "not",
         "pos_tag": "[('not', 'RB')]",
         "tag": "RB",
         "_deepnote_index_column": 1598
        },
        {
         "ID": 288,
         "Word": "good",
         "pos_tag": "[('good', 'JJ')]",
         "tag": "JJ",
         "_deepnote_index_column": 1599
        },
        {
         "ID": 288,
         "Word": "odds",
         "pos_tag": "[('odds', 'NNS')]",
         "tag": "NNS",
         "_deepnote_index_column": 1600
        },
        {
         "ID": 288,
         "Word": "skip",
         "pos_tag": "[('skip', 'NN')]",
         "tag": "NN",
         "_deepnote_index_column": 1601
        },
        {
         "ID": 288,
         "Word": "this",
         "pos_tag": "[('this', 'DT')]",
         "tag": "DT",
         "_deepnote_index_column": 1602
        },
        {
         "ID": 288,
         "Word": "product",
         "pos_tag": "[('product', 'NN')]",
         "tag": "NN",
         "_deepnote_index_column": 1603
        },
        {
         "ID": 289,
         "Word": "low",
         "pos_tag": "[('low', 'JJ')]",
         "tag": "JJ",
         "_deepnote_index_column": 1604
        },
        {
         "ID": 289,
         "Word": "res",
         "pos_tag": "[('res', 'NNS')]",
         "tag": "NNS",
         "_deepnote_index_column": 1605
        },
        {
         "ID": 290,
         "Word": "not",
         "pos_tag": "[('not', 'RB')]",
         "tag": "RB",
         "_deepnote_index_column": 1606
        },
        {
         "ID": 290,
         "Word": "worth",
         "pos_tag": "[('worth', 'NN')]",
         "tag": "NN",
         "_deepnote_index_column": 1607
        },
        {
         "ID": 290,
         "Word": "the",
         "pos_tag": "[('the', 'DT')]",
         "tag": "DT",
         "_deepnote_index_column": 1608
        },
        {
         "ID": 290,
         "Word": "price",
         "pos_tag": "[('price', 'NN')]",
         "tag": "NN",
         "_deepnote_index_column": 1609
        },
        {
         "ID": 291,
         "Word": "not",
         "pos_tag": "[('not', 'RB')]",
         "tag": "RB",
         "_deepnote_index_column": 1610
        },
        {
         "ID": 291,
         "Word": "working",
         "pos_tag": "[('working', 'VBG')]",
         "tag": "VBG",
         "_deepnote_index_column": 1611
        },
        {
         "ID": 291,
         "Word": "with",
         "pos_tag": "[('with', 'IN')]",
         "tag": "IN",
         "_deepnote_index_column": 1612
        },
        {
         "ID": 291,
         "Word": "its",
         "pos_tag": "[('its', 'PRP$')]",
         "tag": "RP$",
         "_deepnote_index_column": 1613
        },
        {
         "ID": 291,
         "Word": "own",
         "pos_tag": "[('own', 'JJ')]",
         "tag": "JJ",
         "_deepnote_index_column": 1614
        },
        {
         "ID": 291,
         "Word": "twitch",
         "pos_tag": "[('twitch', 'NN')]",
         "tag": "NN",
         "_deepnote_index_column": 1615
        },
        {
         "ID": 291,
         "Word": "app",
         "pos_tag": "[('app', 'NN')]",
         "tag": "NN",
         "_deepnote_index_column": 1616
        },
        {
         "ID": 292,
         "Word": "poco",
         "pos_tag": "[('poco', 'NN')]",
         "tag": "NN",
         "_deepnote_index_column": 1617
        },
        {
         "ID": 292,
         "Word": "brillo",
         "pos_tag": "[('brillo', 'NN')]",
         "tag": "NN",
         "_deepnote_index_column": 1618
        },
        {
         "ID": 292,
         "Word": "y",
         "pos_tag": "[('y', 'NN')]",
         "tag": "NN",
         "_deepnote_index_column": 1619
        },
        {
         "ID": 292,
         "Word": "baja",
         "pos_tag": "[('baja', 'NN')]",
         "tag": "NN",
         "_deepnote_index_column": 1620
        },
        {
         "ID": 292,
         "Word": "resolución",
         "pos_tag": "[('resolución', 'NN')]",
         "tag": "NN",
         "_deepnote_index_column": 1621
        },
        {
         "ID": 293,
         "Word": "badluck",
         "pos_tag": "[('badluck', 'NN')]",
         "tag": "NN",
         "_deepnote_index_column": 1622
        },
        {
         "ID": 294,
         "Word": "wont",
         "pos_tag": "[('wont', 'NN')]",
         "tag": "NN",
         "_deepnote_index_column": 1623
        },
        {
         "ID": 294,
         "Word": "last",
         "pos_tag": "[('last', 'JJ')]",
         "tag": "JJ",
         "_deepnote_index_column": 1624
        },
        {
         "ID": 294,
         "Word": "long",
         "pos_tag": "[('long', 'RB')]",
         "tag": "RB",
         "_deepnote_index_column": 1625
        }
       ]
      },
      "text/plain": "       ID        Word                 pos_tag  tag\n0       1        read        [('read', 'NN')]   NN\n1       1       their     [('their', 'PRP$')]  RP$\n2       1     privacy     [('privacy', 'NN')]   NN\n3       1      policy      [('policy', 'NN')]   NN\n4       1        they       [('they', 'PRP')]  PRP\n...   ...         ...                     ...  ...\n1621  292  resolución  [('resolución', 'NN')]   NN\n1622  293     badluck     [('badluck', 'NN')]   NN\n1623  294        wont        [('wont', 'NN')]   NN\n1624  294        last        [('last', 'JJ')]   JJ\n1625  294        long        [('long', 'RB')]   RB\n\n[1613 rows x 4 columns]",
      "text/html": "<div>\n<style scoped>\n    .dataframe tbody tr th:only-of-type {\n        vertical-align: middle;\n    }\n\n    .dataframe tbody tr th {\n        vertical-align: top;\n    }\n\n    .dataframe thead th {\n        text-align: right;\n    }\n</style>\n<table border=\"1\" class=\"dataframe\">\n  <thead>\n    <tr style=\"text-align: right;\">\n      <th></th>\n      <th>ID</th>\n      <th>Word</th>\n      <th>pos_tag</th>\n      <th>tag</th>\n    </tr>\n  </thead>\n  <tbody>\n    <tr>\n      <th>0</th>\n      <td>1</td>\n      <td>read</td>\n      <td>[('read', 'NN')]</td>\n      <td>NN</td>\n    </tr>\n    <tr>\n      <th>1</th>\n      <td>1</td>\n      <td>their</td>\n      <td>[('their', 'PRP$')]</td>\n      <td>RP$</td>\n    </tr>\n    <tr>\n      <th>2</th>\n      <td>1</td>\n      <td>privacy</td>\n      <td>[('privacy', 'NN')]</td>\n      <td>NN</td>\n    </tr>\n    <tr>\n      <th>3</th>\n      <td>1</td>\n      <td>policy</td>\n      <td>[('policy', 'NN')]</td>\n      <td>NN</td>\n    </tr>\n    <tr>\n      <th>4</th>\n      <td>1</td>\n      <td>they</td>\n      <td>[('they', 'PRP')]</td>\n      <td>PRP</td>\n    </tr>\n    <tr>\n      <th>...</th>\n      <td>...</td>\n      <td>...</td>\n      <td>...</td>\n      <td>...</td>\n    </tr>\n    <tr>\n      <th>1621</th>\n      <td>292</td>\n      <td>resolución</td>\n      <td>[('resolución', 'NN')]</td>\n      <td>NN</td>\n    </tr>\n    <tr>\n      <th>1622</th>\n      <td>293</td>\n      <td>badluck</td>\n      <td>[('badluck', 'NN')]</td>\n      <td>NN</td>\n    </tr>\n    <tr>\n      <th>1623</th>\n      <td>294</td>\n      <td>wont</td>\n      <td>[('wont', 'NN')]</td>\n      <td>NN</td>\n    </tr>\n    <tr>\n      <th>1624</th>\n      <td>294</td>\n      <td>last</td>\n      <td>[('last', 'JJ')]</td>\n      <td>JJ</td>\n    </tr>\n    <tr>\n      <th>1625</th>\n      <td>294</td>\n      <td>long</td>\n      <td>[('long', 'RB')]</td>\n      <td>RB</td>\n    </tr>\n  </tbody>\n</table>\n<p>1613 rows × 4 columns</p>\n</div>"
     },
     "metadata": {}
    }
   ],
   "execution_count": null
  },
  {
   "cell_type": "markdown",
   "source": "Example : \n- it does not work on most format --> not work format\n- This projector has a good hardware but it has also a bad software --> good hardware / bad software\n- 2 weeks 7 supports but still does not work --> not work\n- read their policy, they are intrusive --> policy intrusive\n\nHow do you think you can do it ?\n- Write a loop on all cutomers ID. \n- if pos_tag == NN or NNS or JJ or RB, then append the list\n",
   "metadata": {
    "tags": [],
    "cell_id": "00026-1b412bb9-88aa-4af8-b4ee-631f6ac552f9",
    "deepnote_cell_type": "markdown"
   }
  },
  {
   "cell_type": "code",
   "metadata": {
    "tags": [],
    "cell_id": "00033-4e92c383-1ec3-4733-8c6b-d347822395a1",
    "deepnote_to_be_reexecuted": false,
    "source_hash": "3728019b",
    "execution_start": 1633236481239,
    "execution_millis": 172,
    "deepnote_cell_type": "code"
   },
   "source": "ID_1 = new_df['ID'] ==1\nID_2 = new_df['ID'] ==2\nID_3 = new_df['ID'] ==3\nID_4 = new_df['ID'] ==4\nID_5 = new_df['ID'] ==5\nID_6 = new_df['ID'] ==6\nID_7 = new_df['ID'] ==7\n\nNN = new_df['tag'] =='NN'\nNNS = new_df['tag'] =='NNS'\nPRP = new_df['tag'] =='PRP'\nADJ = new_df['tag'] =='JJ'\nRB = new_df['tag'] =='RB'\n\nnew_df[ID_5]",
   "outputs": [
    {
     "output_type": "execute_result",
     "execution_count": 25,
     "data": {
      "application/vnd.deepnote.dataframe.v2+json": {
       "row_count": 7,
       "column_count": 4,
       "columns": [
        {
         "name": "ID",
         "dtype": "int64",
         "stats": {
          "unique_count": 1,
          "nan_count": 0,
          "min": "5",
          "max": "5",
          "histogram": [
           {
            "bin_start": 4.5,
            "bin_end": 4.6,
            "count": 0
           },
           {
            "bin_start": 4.6,
            "bin_end": 4.7,
            "count": 0
           },
           {
            "bin_start": 4.7,
            "bin_end": 4.8,
            "count": 0
           },
           {
            "bin_start": 4.8,
            "bin_end": 4.9,
            "count": 0
           },
           {
            "bin_start": 4.9,
            "bin_end": 5,
            "count": 0
           },
           {
            "bin_start": 5,
            "bin_end": 5.1,
            "count": 7
           },
           {
            "bin_start": 5.1,
            "bin_end": 5.2,
            "count": 0
           },
           {
            "bin_start": 5.2,
            "bin_end": 5.3,
            "count": 0
           },
           {
            "bin_start": 5.3,
            "bin_end": 5.4,
            "count": 0
           },
           {
            "bin_start": 5.4,
            "bin_end": 5.5,
            "count": 0
           }
          ]
         }
        },
        {
         "name": "Word",
         "dtype": "object",
         "stats": {
          "unique_count": 7,
          "nan_count": 0,
          "categories": [
           {
            "name": "it",
            "count": 1
           },
           {
            "name": "does",
            "count": 1
           },
           {
            "name": "5 others",
            "count": 5
           }
          ]
         }
        },
        {
         "name": "pos_tag",
         "dtype": "object",
         "stats": {
          "unique_count": 7,
          "nan_count": 0,
          "categories": [
           {
            "name": "[('it', 'PRP')]",
            "count": 1
           },
           {
            "name": "[('does', 'VBZ')]",
            "count": 1
           },
           {
            "name": "5 others",
            "count": 5
           }
          ]
         }
        },
        {
         "name": "tag",
         "dtype": "object",
         "stats": {
          "unique_count": 7,
          "nan_count": 0,
          "categories": [
           {
            "name": "PRP",
            "count": 1
           },
           {
            "name": "VBZ",
            "count": 1
           },
           {
            "name": "5 others",
            "count": 5
           }
          ]
         }
        },
        {
         "name": "_deepnote_index_column",
         "dtype": "int64"
        }
       ],
       "rows_top": [
        {
         "ID": 5,
         "Word": "it",
         "pos_tag": "[('it', 'PRP')]",
         "tag": "PRP",
         "_deepnote_index_column": 33
        },
        {
         "ID": 5,
         "Word": "does",
         "pos_tag": "[('does', 'VBZ')]",
         "tag": "VBZ",
         "_deepnote_index_column": 34
        },
        {
         "ID": 5,
         "Word": "not",
         "pos_tag": "[('not', 'RB')]",
         "tag": "RB",
         "_deepnote_index_column": 35
        },
        {
         "ID": 5,
         "Word": "work",
         "pos_tag": "[('work', 'NN')]",
         "tag": "NN",
         "_deepnote_index_column": 36
        },
        {
         "ID": 5,
         "Word": "on",
         "pos_tag": "[('on', 'IN')]",
         "tag": "IN",
         "_deepnote_index_column": 37
        },
        {
         "ID": 5,
         "Word": "most",
         "pos_tag": "[('most', 'JJS')]",
         "tag": "JJS",
         "_deepnote_index_column": 38
        },
        {
         "ID": 5,
         "Word": "formats",
         "pos_tag": "[('formats', 'NNS')]",
         "tag": "NNS",
         "_deepnote_index_column": 39
        }
       ],
       "rows_bottom": null
      },
      "text/plain": "    ID     Word               pos_tag  tag\n33   5       it       [('it', 'PRP')]  PRP\n34   5     does     [('does', 'VBZ')]  VBZ\n35   5      not       [('not', 'RB')]   RB\n36   5     work      [('work', 'NN')]   NN\n37   5       on        [('on', 'IN')]   IN\n38   5     most     [('most', 'JJS')]  JJS\n39   5  formats  [('formats', 'NNS')]  NNS",
      "text/html": "<div>\n<style scoped>\n    .dataframe tbody tr th:only-of-type {\n        vertical-align: middle;\n    }\n\n    .dataframe tbody tr th {\n        vertical-align: top;\n    }\n\n    .dataframe thead th {\n        text-align: right;\n    }\n</style>\n<table border=\"1\" class=\"dataframe\">\n  <thead>\n    <tr style=\"text-align: right;\">\n      <th></th>\n      <th>ID</th>\n      <th>Word</th>\n      <th>pos_tag</th>\n      <th>tag</th>\n    </tr>\n  </thead>\n  <tbody>\n    <tr>\n      <th>33</th>\n      <td>5</td>\n      <td>it</td>\n      <td>[('it', 'PRP')]</td>\n      <td>PRP</td>\n    </tr>\n    <tr>\n      <th>34</th>\n      <td>5</td>\n      <td>does</td>\n      <td>[('does', 'VBZ')]</td>\n      <td>VBZ</td>\n    </tr>\n    <tr>\n      <th>35</th>\n      <td>5</td>\n      <td>not</td>\n      <td>[('not', 'RB')]</td>\n      <td>RB</td>\n    </tr>\n    <tr>\n      <th>36</th>\n      <td>5</td>\n      <td>work</td>\n      <td>[('work', 'NN')]</td>\n      <td>NN</td>\n    </tr>\n    <tr>\n      <th>37</th>\n      <td>5</td>\n      <td>on</td>\n      <td>[('on', 'IN')]</td>\n      <td>IN</td>\n    </tr>\n    <tr>\n      <th>38</th>\n      <td>5</td>\n      <td>most</td>\n      <td>[('most', 'JJS')]</td>\n      <td>JJS</td>\n    </tr>\n    <tr>\n      <th>39</th>\n      <td>5</td>\n      <td>formats</td>\n      <td>[('formats', 'NNS')]</td>\n      <td>NNS</td>\n    </tr>\n  </tbody>\n</table>\n</div>"
     },
     "metadata": {}
    }
   ],
   "execution_count": null
  },
  {
   "cell_type": "code",
   "metadata": {
    "tags": [],
    "cell_id": "00027-0ffffbea-2b47-43a8-803f-89c3cb5abf2f",
    "deepnote_to_be_reexecuted": false,
    "source_hash": "5cd81dd9",
    "execution_start": 1633236481345,
    "execution_millis": 87,
    "deepnote_cell_type": "code"
   },
   "source": "list_tag = [\"NN\", \"NNS\", \"JJ\", \"RB\"]\n\ndf_tmp = new_df[ID_1]\ndf_test = df_tmp[ df_tmp[\"tag\"].isin(list_tag) ]\nprint(' '.join(df_test[\"Word\"].to_list()))\ndf_tmp",
   "outputs": [
    {
     "name": "stdout",
     "text": "read privacy policy intrusive\n",
     "output_type": "stream"
    },
    {
     "output_type": "execute_result",
     "execution_count": 26,
     "data": {
      "application/vnd.deepnote.dataframe.v2+json": {
       "row_count": 7,
       "column_count": 4,
       "columns": [
        {
         "name": "ID",
         "dtype": "int64",
         "stats": {
          "unique_count": 1,
          "nan_count": 0,
          "min": "1",
          "max": "1",
          "histogram": [
           {
            "bin_start": 0.5,
            "bin_end": 0.6,
            "count": 0
           },
           {
            "bin_start": 0.6,
            "bin_end": 0.7,
            "count": 0
           },
           {
            "bin_start": 0.7,
            "bin_end": 0.8,
            "count": 0
           },
           {
            "bin_start": 0.8,
            "bin_end": 0.9,
            "count": 0
           },
           {
            "bin_start": 0.9,
            "bin_end": 1,
            "count": 0
           },
           {
            "bin_start": 1,
            "bin_end": 1.1,
            "count": 7
           },
           {
            "bin_start": 1.1,
            "bin_end": 1.2000000000000002,
            "count": 0
           },
           {
            "bin_start": 1.2000000000000002,
            "bin_end": 1.3,
            "count": 0
           },
           {
            "bin_start": 1.3,
            "bin_end": 1.4,
            "count": 0
           },
           {
            "bin_start": 1.4,
            "bin_end": 1.5,
            "count": 0
           }
          ]
         }
        },
        {
         "name": "Word",
         "dtype": "object",
         "stats": {
          "unique_count": 7,
          "nan_count": 0,
          "categories": [
           {
            "name": "read",
            "count": 1
           },
           {
            "name": "their",
            "count": 1
           },
           {
            "name": "5 others",
            "count": 5
           }
          ]
         }
        },
        {
         "name": "pos_tag",
         "dtype": "object",
         "stats": {
          "unique_count": 7,
          "nan_count": 0,
          "categories": [
           {
            "name": "[('read', 'NN')]",
            "count": 1
           },
           {
            "name": "[('their', 'PRP$')]",
            "count": 1
           },
           {
            "name": "5 others",
            "count": 5
           }
          ]
         }
        },
        {
         "name": "tag",
         "dtype": "object",
         "stats": {
          "unique_count": 5,
          "nan_count": 0,
          "categories": [
           {
            "name": "NN",
            "count": 3
           },
           {
            "name": "RP$",
            "count": 1
           },
           {
            "name": "3 others",
            "count": 3
           }
          ]
         }
        },
        {
         "name": "_deepnote_index_column",
         "dtype": "int64"
        }
       ],
       "rows_top": [
        {
         "ID": 1,
         "Word": "read",
         "pos_tag": "[('read', 'NN')]",
         "tag": "NN",
         "_deepnote_index_column": 0
        },
        {
         "ID": 1,
         "Word": "their",
         "pos_tag": "[('their', 'PRP$')]",
         "tag": "RP$",
         "_deepnote_index_column": 1
        },
        {
         "ID": 1,
         "Word": "privacy",
         "pos_tag": "[('privacy', 'NN')]",
         "tag": "NN",
         "_deepnote_index_column": 2
        },
        {
         "ID": 1,
         "Word": "policy",
         "pos_tag": "[('policy', 'NN')]",
         "tag": "NN",
         "_deepnote_index_column": 3
        },
        {
         "ID": 1,
         "Word": "they",
         "pos_tag": "[('they', 'PRP')]",
         "tag": "PRP",
         "_deepnote_index_column": 4
        },
        {
         "ID": 1,
         "Word": "are",
         "pos_tag": "[('are', 'VBP')]",
         "tag": "VBP",
         "_deepnote_index_column": 5
        },
        {
         "ID": 1,
         "Word": "intrusive",
         "pos_tag": "[('intrusive', 'JJ')]",
         "tag": "JJ",
         "_deepnote_index_column": 6
        }
       ],
       "rows_bottom": null
      },
      "text/plain": "   ID       Word                pos_tag  tag\n0   1       read       [('read', 'NN')]   NN\n1   1      their    [('their', 'PRP$')]  RP$\n2   1    privacy    [('privacy', 'NN')]   NN\n3   1     policy     [('policy', 'NN')]   NN\n4   1       they      [('they', 'PRP')]  PRP\n5   1        are       [('are', 'VBP')]  VBP\n6   1  intrusive  [('intrusive', 'JJ')]   JJ",
      "text/html": "<div>\n<style scoped>\n    .dataframe tbody tr th:only-of-type {\n        vertical-align: middle;\n    }\n\n    .dataframe tbody tr th {\n        vertical-align: top;\n    }\n\n    .dataframe thead th {\n        text-align: right;\n    }\n</style>\n<table border=\"1\" class=\"dataframe\">\n  <thead>\n    <tr style=\"text-align: right;\">\n      <th></th>\n      <th>ID</th>\n      <th>Word</th>\n      <th>pos_tag</th>\n      <th>tag</th>\n    </tr>\n  </thead>\n  <tbody>\n    <tr>\n      <th>0</th>\n      <td>1</td>\n      <td>read</td>\n      <td>[('read', 'NN')]</td>\n      <td>NN</td>\n    </tr>\n    <tr>\n      <th>1</th>\n      <td>1</td>\n      <td>their</td>\n      <td>[('their', 'PRP$')]</td>\n      <td>RP$</td>\n    </tr>\n    <tr>\n      <th>2</th>\n      <td>1</td>\n      <td>privacy</td>\n      <td>[('privacy', 'NN')]</td>\n      <td>NN</td>\n    </tr>\n    <tr>\n      <th>3</th>\n      <td>1</td>\n      <td>policy</td>\n      <td>[('policy', 'NN')]</td>\n      <td>NN</td>\n    </tr>\n    <tr>\n      <th>4</th>\n      <td>1</td>\n      <td>they</td>\n      <td>[('they', 'PRP')]</td>\n      <td>PRP</td>\n    </tr>\n    <tr>\n      <th>5</th>\n      <td>1</td>\n      <td>are</td>\n      <td>[('are', 'VBP')]</td>\n      <td>VBP</td>\n    </tr>\n    <tr>\n      <th>6</th>\n      <td>1</td>\n      <td>intrusive</td>\n      <td>[('intrusive', 'JJ')]</td>\n      <td>JJ</td>\n    </tr>\n  </tbody>\n</table>\n</div>"
     },
     "metadata": {}
    }
   ],
   "execution_count": null
  },
  {
   "cell_type": "markdown",
   "source": "## 6. Apply Cao's package:\n- Seperate the sentence for each subject\nFor example: \"this is a good movie, but the room is too dark.\" -> \"this is a good movie\" & \"but the room is too dark.\"",
   "metadata": {
    "tags": [],
    "cell_id": "00035-858ef015-9576-49c0-9e88-69370764bdf5",
    "deepnote_cell_type": "markdown"
   }
  },
  {
   "cell_type": "code",
   "metadata": {
    "tags": [],
    "cell_id": "00036-c6d04e66-39ac-45f1-b2ad-f195b05b6392",
    "deepnote_to_be_reexecuted": false,
    "source_hash": "b623e53d",
    "execution_start": 1633236481347,
    "deepnote_cell_type": "code"
   },
   "source": "",
   "outputs": [],
   "execution_count": null
  },
  {
   "cell_type": "code",
   "metadata": {
    "tags": [],
    "cell_id": "00036-e6f580e6-be80-4a98-b9a2-ebb05dcc0ecf",
    "deepnote_to_be_reexecuted": false,
    "source_hash": "79b40447",
    "execution_start": 1633236481389,
    "execution_millis": 3559,
    "deepnote_cell_type": "code"
   },
   "source": "\"\"\"\nCreated on Mon Mar 29 14:13:12 2021\n\n@author: Cao Tri DO\n\"\"\"\n\nimport nltk\n\nimport networkx \nfrom networkx.algorithms.components.connected import connected_components\nimport pandas as pd\n\nfrom nltk.corpus import stopwords\nimport stanza\nimport collections\n\n\n#%% subfunctions\n\ndef theme_extraction(txt, stop_words, nlp, threshold = 7):\n    \"\"\"\n    Function to extract theme from a verbatims\n\n    Parameters\n    ----------\n    txt : str\n        verbatim to analyze.\n    stop_words : list\n        list of stop to not considered when extract subject.\n    nlp : stanza object\n        stanza object engine.\n    threshold : int, optional\n        DESCRIPTION. The default is 7.\n\n    Returns\n    -------\n    lst_subject : list\n        list of subject analyzed.\n\n    \"\"\"\n    try:\n        # Lower the text\n        doc = nlp(txt.lower())\n        # Initiate void list\n        lst_subject = []\n        \n        # Loop for all sentences in the verbatims\n        for sent in doc.sentences:\n            # If the sentence if too short, keep all in one subject\n            if len(sent._tokens) <= threshold:          \n                # print(\"Sentence is too short. Keep all words\")\n                finalcluster = [word.text for word in sent.words]\n                lst_subject.append(finalcluster)  \n            # For the sentences that are long enough\n            else:\n                # Extract subject using the POS and xparel method\n                # print(\"Sentence is long. Apply subject extraction\")\n                finalcluster = theme_clustering(sent.text, stop_words, nlp)\n                \n                # Only apply the subject engine if there are extracted subject\n                if len(finalcluster)>0: # case when there are issues e.g., 'PRPBLEME D IMPRESSION?????????????????????????????????'\n                    ##################################################################\n                    # Group first element if there are many of them\n                    ##################################################################\n                    # list of size of element\n                    lst_size = [len(element) for element in finalcluster]\n                    # first element of size 1\n                    try:\n                        first_element = next(x[0] for x in enumerate(lst_size) if x[1] > 1)\n                    except: # if all are equal to 1\n                        first_element = len(lst_size)-1\n                    \n                    finalcluster_first_group = []\n                    tmp_first_element = []\n                    for idx_element in range(0,first_element+1):\n                        element = finalcluster[idx_element]\n                        tmp_first_element.extend(element)\n                    finalcluster_first_group.append(tmp_first_element)\n                    for idx_element in range(first_element+1, len(finalcluster)):\n                        element = finalcluster[idx_element]\n                        finalcluster_first_group.append(element)\n                    \n                    ##################################################################\n                    \n                    finalcluster_clean = []\n                    count = 0\n                    tmp = []\n                    for element_idx in range(0,len(finalcluster_first_group)):\n                        element = finalcluster_first_group[element_idx]\n                        if element_idx == 0 and len(element)== 1:\n                            tmp = element\n                        elif len(tmp)>0 or len(element)>1:\n                            tmp.extend(element)\n                            finalcluster_clean.append(tmp)\n                            tmp = []\n                            count = len(finalcluster_clean)-1\n                        else:\n                            tmp.extend(element)\n                            finalcluster_clean[count].extend(tmp)\n                            tmp = []\n                    \n                    for element in finalcluster_clean:\n                        lst_subject.append(element)    \n    except:\n        print(txt)\n        lst_subject = []\n    \n    return lst_subject\n\n\n#%% utilities functions\n\ndef get_meta_data_nlp(txt, nlp):\n    \"\"\"\n    Function to transform stanza object result to dataframe\n\n    Parameters\n    ----------\n    txt : str\n        verbatim to analyze.\n    nlp : stanza object\n        stanza object engine.\n\n    Returns\n    -------\n    df : dataframe\n        dataframe allowing to analyze the results from Stanza.\n\n    \"\"\"\n    doc = nlp(txt)\n    \n    df = pd.DataFrame()\n    count = 1\n    for sentence in doc.sentences:\n        print(sentence._text)\n        for word in sentence.words:\n            df.loc[count, \"word\"]  = word.text\n            df.loc[count, \"lemma\"] = word.lemma\n            # df.loc[count, \"feats\"] = word.feats \n            df.loc[count, \"pos\"] = word.pos\n            df.loc[count, \"upos\"] = word.upos\n            df.loc[count, \"xpos\"] = word.xpos\n            df.loc[count, \"id head\"] = word.head\n            df.loc[count, \"word root\"] = sentence.words[word.head-1].text if word.head > 0 else \"root\"\n            df.loc[count, \"deprel\"] = word.deprel\n            # print(word.text, \" | \", word.lemma, \" | \", word.pos)\n            count = count +1\n    print(df)\n    \n    return df\n\n\ndef get_monolabel(X_test):\n    \"\"\"\n    Extract monolabel from dataframe\n\n    Parameters\n    ----------\n    X_test : dataframe\n        containing the data.\n\n    Returns\n    -------\n    df_monolabel : dataframe\n        Contains only the monolabel.\n    df_multilabel : dataframe\n        Contains only the multilabel.\n    \"\"\"\n    df_theme = X_test.copy()\n    mask = df_theme[\"id_unique\"].value_counts()\n    lst_unique_idx = list(mask[mask>1].index)\n    df_monolabel = X_test[~X_test['id_unique'].isin(lst_unique_idx)].copy()\n    df_multilabel = X_test[X_test['id_unique'].isin(lst_unique_idx)].copy()\n    return df_monolabel, df_multilabel\n\n\n#%% subfunctions for the code \n\ndef theme_clustering(txt, stop_words, nlp):\n    \"\"\"\n    Main program to cluster the subject\n\n    Parameters\n    ----------\n    txt : str\n        verbatim to analyze.\n    stop_words : list\n        list of stop to not considered when extract subject.\n    nlp : stanza object\n        stanza object engine.\n\n    Returns\n    -------\n    lst_merged_cluster_word_all : list\n        list of subject identified by the algorithm.\n\n    \"\"\"\n    # sentList = clean_txt(txt)\n    sentList = clean_txt(txt, nlp)\n\n\n    # for line in sentList:\n    lst_merged_cluster_word_all = []\n    for line in sentList.sentences:\n        \n        # NLTK POS Tagging\n        # taggedList = nltk_pos_tag(line)\n        # taggedList = stanza_pos_tag(line)\n\n        # join consecutive noun\n        # finaltxt, newwordList, taggedList_new, bool_valid_txt = join_consecutive_noun(taggedList, nlp, noun_tag = \"NOUN\")\n        bool_valid_txt = True\n        \n        if bool_valid_txt:\n            # Create Stanford object model\n            # doc = nlp(txt) # Object of Stanford NLP Pipeleine\n            taggedList_new, taggedList_id_new = stanza_pos_tag(line)\n            \n            # Getting the dependency relations betwwen the words\n            # Coverting it into appropriate format\n            dep_node, dep_node_id = get_dependencies(sentList)\n    \n            # we will select only those sublists from the <dep_node> that could probably contain the features\n            totalfeatureList, featureList, featureList_id, categories = select_potential_features(taggedList_new, taggedList_id_new)\n            \n            # Now using the <dep_node> list and the <featureList> we will determine \n            # to which of the words these features in the feature list are related to.\n            fcluster = create_relation(featureList, dep_node)\n            fcluster_id = create_relation(featureList_id, dep_node_id)\n            \n            # finalcluster_out, finalcluster, dic = select_NN_feature_relation(totalfeatureList, fcluster)\n            \n            # Merge list commonelements\n            lst_merged_cluster_id = merge_list_common_elements(fcluster_id)\n            \n            # Order the id within the list\n            lst_merged_cluster_id_sort1 = sort_list_list(lst_merged_cluster_id)\n            \n            # Order the element by id of 1st element\n            lst_merged_cluster_id_keysort = sort_list_by_key(lst_merged_cluster_id_sort1)\n            \n            # Bug fix : if a list is only of 1 element and is contains within the range of the previous list, put it into it\n            # Do not take into account 1st element 0\n            lst_merged_cluster_id_no_orphelin = combine_orphelin_list(lst_merged_cluster_id_keysort)\n            \n            \n            # lst_merged_cluster_id_sorted = sort_list_list(lst_merged_cluster_id)\n            lst_merged_cluster_id_sorted = sort_list_list(lst_merged_cluster_id_no_orphelin)\n            \n            lst_merged_cluster_word = convert_idx_lst_to_word_lst(lst_merged_cluster_id_sorted, taggedList_new)\n            \n            \n        else:\n            lst_merged_cluster_word = []   \n        \n        for element in lst_merged_cluster_word:\n            lst_merged_cluster_word_all.append(element)\n    \n    return lst_merged_cluster_word_all\n\n\ndef combine_orphelin_list(lst_merged_cluster_id_keysort):\n    \"\"\"\n    Function to combine orphelin list if there are within previous range\n    For example : [[1,3], [2], [4]] will give [[1,2, 3], [4]]\n\n    Parameters\n    ----------\n    lst_merged_cluster_id_keysort : list\n        original list to combine.\n\n    Returns\n    -------\n    lst_merged_cluster_id_no_orphelin : list\n        combined list.\n\n    \"\"\"\n    \n    #♦ Assignaton\n    lst_merged_cluster_id_no_orphelin = []\n    \n    # Make a copy\n    lst_merged_cluster_id_no_orphelin.append(lst_merged_cluster_id_keysort[0].copy())\n    id_to_compare = 0\n    \n    # Loop\n    for i in range(1,len(lst_merged_cluster_id_keysort)):\n        # Only if the list is with 1 element\n        if len(lst_merged_cluster_id_keysort[i])==1:\n            id_element = lst_merged_cluster_id_keysort[i][0]\n            # Meta data of previous list\n            previous_list = lst_merged_cluster_id_no_orphelin[id_to_compare]\n            min_id_previous_list = min(previous_list)\n            max_id_previous_list = max(previous_list)\n            # If new list within the range of previous list, merge with it\n            if id_element>=min_id_previous_list and id_element<=max_id_previous_list:\n                lst_merged_cluster_id_no_orphelin[id_to_compare].extend(lst_merged_cluster_id_keysort[i].copy())\n            else:\n                lst_merged_cluster_id_no_orphelin.append(lst_merged_cluster_id_keysort[i].copy())\n                id_to_compare = len(lst_merged_cluster_id_no_orphelin)-1\n        else:\n            lst_merged_cluster_id_no_orphelin.append(lst_merged_cluster_id_keysort[i].copy())\n            id_to_compare = len(lst_merged_cluster_id_no_orphelin)-1   \n    return lst_merged_cluster_id_no_orphelin\n\ndef sort_list_by_key(lst_merged_cluster_id_sort1):\n    \"\"\"\n    Function to sort a list of list into an ordered list\n    For example : [[2], [1,3], [4]] will give [[1,3], [2], [4]]\n\n    Parameters\n    ----------\n    lst_merged_cluster_id_sort1 : list\n        original list unsorted.\n\n    Returns\n    -------\n    final_list : list\n        sorted list.\n\n    \"\"\"\n    dct_list = {}\n    for i in range(0, len(lst_merged_cluster_id_sort1)):\n        first_id = lst_merged_cluster_id_sort1[i][0]\n        dct_list[first_id] = lst_merged_cluster_id_sort1[i]\n    \n    # sort dict key\n    od = collections.OrderedDict(sorted(dct_list.items()))\n    \n    final_list = []\n    for element in od:\n        final_list.append(od[element])\n    return final_list\n    \n\ndef sort_list_list(lst_merged_cluster_id_no_orphelin):\n    \"\"\"\n    Function to sort the list of list to order the id of the words\n\n    Parameters\n    ----------\n    lst_merged_cluster_id : list\n        DESCRIPTION.\n\n    Returns\n    -------\n    lst_merged_cluster_id_sorted : list\n        DESCRIPTION.\n\n    \"\"\"\n    lst_merged_cluster_id_sorted = lst_merged_cluster_id_no_orphelin.copy()\n    for i in range(0, len(lst_merged_cluster_id_sorted)):\n        lst_merged_cluster_id_sorted[i] = sorted(lst_merged_cluster_id_no_orphelin[i]).copy()\n    # Initiate the void dictionnary\n    # dct_idx = {}\n    # # Loop on all element of the list\n    # for element in lst_merged_cluster_id_no_orphelin:\n    #     count = element[0]\n    #     dct_idx[count] = element\n    # # sort the list\n    # dct_idx_sorted = dict(sorted(dct_idx.items(), key=lambda item: item[1]))\n    # lst_merged_cluster_id_sorted = []\n    # for key_element in dct_idx_sorted:\n    #     lst_merged_cluster_id_sorted.append(dct_idx_sorted[key_element])\n\n    return lst_merged_cluster_id_sorted\n\ndef convert_idx_lst_to_word_lst(lst_merged_cluster_id, taggedList_new):\n    \"\"\"\n    Function to convert the idx to the words\n\n    Parameters\n    ----------\n    lst_merged_cluster_id : list\n        list of index.\n    taggedList_new : str\n        list of words.\n\n    Returns\n    -------\n    lst_merged_cluster_word : list\n        list of words.\n\n    \"\"\"\n    lst_merged_cluster_word = []\n    for lst in lst_merged_cluster_id:\n        lst_word = []\n        for element in lst:\n            word_tmp = taggedList_new[element-1][0]\n            lst_word.append(word_tmp)\n        lst_merged_cluster_word.append(lst_word)\n    return lst_merged_cluster_word\n\ndef clean_txt(txt, nlp):\n    \"\"\"\n    Function to clean the text by lower and separate the sentence using stanza\n\n    Parameters\n    ----------\n    txt : str\n        verbatim to analyze.\n    nlp : stanza object\n        stanza object engine.\n\n    Returns\n    -------\n    sentList : list\n        list of sentences.\n\n    \"\"\"\n    txt = txt.lower() # LowerCasing the given Text\n    sentList = nlp(txt)\n    \n    return sentList\n\ndef clean_txt_nltk(txt):\n    \"\"\"\n    Function to clean the text by lower and separate the sentence using nltk\n\n    Parameters\n    ----------\n    txt : str\n        verbatim to analyze.\n    nlp : stanza object\n        stanza object engine.\n\n    Returns\n    -------\n    sentList : list\n        list of sentences.\n\n    \"\"\"\n    txt = txt.lower() # LowerCasing the given Text\n    sentList = nltk.sent_tokenize(txt) # Splitting the text into sentences\n\n    return sentList\n\n\ndef nltk_pos_tag(line):\n    \"\"\"\n    for each sentence in the <sentList> tokenize it and perform POS Tagging and store it into a Tagged List\n    \"\"\"\n    txt_list = nltk.word_tokenize(line) # Splitting up into words\n    taggedList = nltk.pos_tag(txt_list) # Doing Part-of-Speech Tagging to each word\n    return taggedList\n\ndef stanza_pos_tag(line):\n    taggedList = []\n    taggedList_id = []\n    for word in line.words:\n        taggedList.append((word.text, word.pos))\n        taggedList_id.append((word.id, word.pos))\n        \n    return taggedList, taggedList_id\n\ndef join_consecutive_noun(taggedList, nlp, noun_tag = \"NOUN\"):\n    \"\"\"\n    there are many instances where a feature is represented by multiple words \n    so we need to handle that first by joining multiple words features into a one-word feature\n    \n     noun_tag = \"NOUN\" (stanza) or NN (nltk)\n    \"\"\"\n    newwordList = []\n    flag = 0\n    for i in range(0,len(taggedList)-1):\n        if(taggedList[i][1]==noun_tag and taggedList[i+1][1]==noun_tag): # If two consecutive words are Nouns then they are joined together\n            newwordList.append(taggedList[i][0]+taggedList[i+1][0])\n            flag=1\n        else:\n            if(flag==1):\n                flag=0\n                continue\n            newwordList.append(taggedList[i][0])\n            if(i==len(taggedList)-2):\n                newwordList.append(taggedList[i+1][0])\n\n    finaltxt = ' '.join(word for word in newwordList) \n    \n    # Tokenize and POS Tag the new sentence.\n    # new_txt_list = nltk.word_tokenize(finaltxt)\n    # wordsList = [w for w in new_txt_list if not w in stop_words]\n    # taggedList = nltk.pos_tag(wordsList)\n    # print(wordsList)\n    doc = nlp(finaltxt)\n\n    if len(finaltxt) > 0:\n        taggedList, taggedList_id = stanza_pos_tag(doc.sentences[0])\n        bool_valid_txt = True\n    else:\n        taggedList = []\n        bool_valid_txt = False\n\n    return finaltxt, newwordList, taggedList, bool_valid_txt\n\ndef get_dependencies(doc):\n    \"\"\"\n    Function to extract the dependencies from the analysis from Stanza\n\n    Parameters\n    ----------\n    doc : stanza object\n        stanza object applied to a verbatim.\n\n    Returns\n    -------\n    dep_node : list\n        list to tuple of relationship with the words.\n    dep_node_id : list\n        list to tuple of relationship with the ids.\n\n    \"\"\"\n    # Getting the dependency relations betwwen the words\n    dep_node = []\n    dep_node_id = []\n    for dep_edge in doc.sentences[0].dependencies:\n        dep_node.append([dep_edge[2].text, dep_edge[0].id, dep_edge[1]])\n        dep_node_id.append([dep_edge[2].id, dep_edge[0].id, dep_edge[1]])\n        \n    # Coverting it into appropriate format\n    for i in range(0, len(dep_node)):\n        if (int(dep_node[i][1]) != 0):\n            dep_node[i][1] = dep_node[(int(dep_node[i][1]) - 1)][0]\n            \n    return dep_node, dep_node_id\n\ndef select_potential_features(taggedList_new, taggedList_id_new):\n    \"\"\"\n    Function to extract potential subject from the dep node\n\n    Parameters\n    ----------\n    taggedList_new : TYPE\n        list of words.\n    taggedList_id_new : TYPE\n        list of id words\n\n    Returns\n    -------\n    totalfeatureList : TYPE\n        DESCRIPTION.\n    featureList : TYPE\n        DESCRIPTION.\n    featureList_id : TYPE\n        DESCRIPTION.\n    categories : TYPE\n        DESCRIPTION.\n\n    \"\"\"\n    totalfeatureList = []\n    featureList_id = []\n    featureList = []\n    categories = []\n    count = 1\n    \n    for idx in range(0,len(taggedList_new)):\n        i = taggedList_new[idx]\n        i_idx = taggedList_id_new[idx]\n        # if(i[1]=='JJ' or i[1]=='NN' or i[1]=='JJR' or i[1]=='NNS' or i[1]=='RB'):\n        if(i[1]!='PUNCT'):\n        # if(i[1]=='ADJ' or i[1]=='NOUN' or i[1]=='ADV' or i[1]==\"VERB\" or i[1]==\"PRON\" or i[1]==\"DET\"):\n            featureList.append(list(i)) # For features for each sentence\n            totalfeatureList.append(i) # Stores the features of all the sentences in the text\n            featureList_id.append(list(i_idx))\n            categories.append(i[0])\n        count = count+1\n\n    return totalfeatureList, featureList, featureList_id, categories\n\ndef create_relation(featureList, dep_node):\n    \"\"\"\n    Function to create relationship from the dep_node\n\n    Parameters\n    ----------\n    featureList : list\n        list of potential subjects.\n    dep_node : list\n        tree of dependencies.\n\n    Returns\n    -------\n    fcluster : list\n        list of clusters.\n\n    \"\"\"\n    \n    lst_deprel = [\"nsubj\", \n                  \"acl:relcl\", \n                  \"obj\", \"dobj\", \n                  \"agent\", \n                  \"advmod\", \n                  \"amod\", \n                  \"neg\", \n                  \"prep_of\", \n                  \"acomp\", \n                  \"xcomp\", \n                  \"compound\",\n                  \n                  \"cop\"\n                  ]\n    \n    fcluster = []\n    \n    for i in featureList:\n        filist = []\n        for j in dep_node:\n            if((j[0]==i[0] or j[1]==i[0]) and (j[2] in lst_deprel)):\n                if(j[0]==i[0]):\n                    filist.append(j[1])\n                else:\n                    filist.append(j[0])\n        fcluster.append([i[0], filist])\n    \n    return fcluster\n\ndef select_NN_feature_relation(totalfeatureList, fcluster):\n    \"\"\"\n    Focus the subject on the noun\n\n    Parameters\n    ----------\n    totalfeatureList : list\n        list of potential features for subject.\n    fcluster : list\n        list of extracted potential subjects.\n\n    Returns\n    -------\n    finalcluster_out : list\n        list of extracted potential subjects focus on noun.\n    finalcluster : list\n        list of extracted potential subjects focus on noun.\n    dic : TYPE\n        dic of extracted potential subjects focus on noun..\n\n    \"\"\"\n    finalcluster = []\n    dic = {}\n    \n    for i in totalfeatureList:\n        dic[i[0]] = i[1]\n    \n    for i in fcluster:\n        if(dic[i[0]]==\"NOUN\"):\n            finalcluster.append(i)\n    \n    finalcluster_out = flat_list(finalcluster)\n    \n    return finalcluster_out, finalcluster, dic\n\n\n#%%\n\ndef merge_list_common_elements(fcluster_id):\n    \"\"\"\n    Function to merge list that have common \n\n    Parameters\n    ----------\n    fcluster_id : TYPE\n        DESCRIPTION.\n\n    Returns\n    -------\n    lst_merged_sorted : TYPE\n        DESCRIPTION.\n\n    \"\"\"\n    lst_flat = flat_list(fcluster_id)\n    G = to_graph(lst_flat)\n    set_merged = list(connected_components(G))\n    lst_merged = list(map(list,set_merged))\n    \n    lst_merged_sorted = []\n    for element in lst_merged:\n        lst_merged_sorted.append(sorted(element))\n    \n    return lst_merged_sorted\n\n\ndef flat_list(finalcluster):\n    lst_final = []\n    for lst_tmp in finalcluster:\n        lst_tmp_final = []\n        for element in lst_tmp:\n            if type(element) == list:\n                lst_tmp_final.extend(element)\n            else:\n                lst_tmp_final.append(element)\n        lst_tmp_final = sorted(lst_tmp_final)\n        lst_final.append(lst_tmp_final)\n    \n    # Remove duplicated list\n    set_theme = set(map(tuple,lst_final))\n    lst_theme = list(map(list,set_theme))\n    \n    return lst_theme\n\n\ndef to_graph(l):\n    G = networkx.Graph()\n    for part in l:\n        # each sublist is a bunch of nodes\n        G.add_nodes_from(part)\n        # it also imlies a number of edges:\n        G.add_edges_from(to_edges(part))\n    return G\n\ndef to_edges(l):\n    \"\"\" \n        treat `l` as a Graph and returns it's edges \n        to_edges(['a','b','c','d']) -> [(a,b), (b,c),(c,d)]\n    \"\"\"\n    it = iter(l)\n    last = next(it)\n\n    for current in it:\n        yield last, current\n        last = current    \n",
   "outputs": [],
   "execution_count": null
  },
  {
   "cell_type": "code",
   "metadata": {
    "tags": [],
    "cell_id": "00037-713a1290-4fb0-4268-bcab-0c1f4a13d1fc",
    "deepnote_to_be_reexecuted": false,
    "source_hash": "ee9545b3",
    "execution_start": 1633236484970,
    "execution_millis": 32,
    "deepnote_cell_type": "code"
   },
   "source": "def initialize_stanza():\n    \"\"\"\n    Function to initialize the stanza engine (default parameters for Engie)\n\n    Returns\n    -------\n    nlp : object\n        stanza object.\n\n    \"\"\"\n    nlp = stanza.Pipeline(lang=\"en\", \n                          use_gpu = True, \n                          verbose = False, \n                          processors= {\n                                          'tokenize':'default', \n                                          'pos' :'default',\n                                          'lemma':'default', \n                                          'depparse':'default',\n                                        })\n    return nlp",
   "outputs": [],
   "execution_count": null
  },
  {
   "cell_type": "code",
   "metadata": {
    "tags": [],
    "cell_id": "00038-bae6b4ad-7e73-440f-8046-fdb45ad14777",
    "deepnote_to_be_reexecuted": false,
    "source_hash": "650ae1af",
    "execution_start": 1633236485028,
    "execution_millis": 13437,
    "deepnote_cell_type": "code"
   },
   "source": "# Define the stanza object\nstanza.download('en')\nnlp = initialize_stanza()",
   "outputs": [
    {
     "data": {
      "text/plain": "Downloading https://raw.githubusercontent.com/stanfordnlp/stanza-resources/main/resources_1.2.2.json:   0%|   …",
      "application/vnd.jupyter.widget-view+json": {
       "version_major": 2,
       "version_minor": 0,
       "model_id": "a311cee5504d4eed8fc5b280c6626f35"
      }
     },
     "metadata": {},
     "output_type": "display_data"
    },
    {
     "name": "stderr",
     "text": "2021-10-03 04:48:05 INFO: Downloading default packages for language: en (English)...\n2021-10-03 04:48:09 INFO: File exists: /root/stanza_resources/en/default.zip.\n2021-10-03 04:48:16 INFO: Finished downloading models and saved to /root/stanza_resources.\n",
     "output_type": "stream"
    }
   ],
   "execution_count": null
  },
  {
   "cell_type": "code",
   "metadata": {
    "tags": [],
    "cell_id": "00040-db7663b2-b51f-4821-9488-55e1e955b0ce",
    "deepnote_to_be_reexecuted": false,
    "source_hash": "2c296b0d",
    "execution_start": 1633236498482,
    "execution_millis": 513,
    "deepnote_cell_type": "code"
   },
   "source": "txt = 'the movie is so bad! i will never see it again!'\n# Use our custom phrase extraction code\nresult = theme_extraction(txt = txt, stop_words = [], nlp = nlp, threshold = 7)\n\nfor tmp_text in result:\n    print(tmp_text)",
   "outputs": [
    {
     "name": "stdout",
     "text": "['the', 'movie', 'is', 'so', 'bad', '!']\n['i', 'will', 'never', 'see', 'it', 'again', '!']\n",
     "output_type": "stream"
    }
   ],
   "execution_count": null
  },
  {
   "cell_type": "code",
   "metadata": {
    "tags": [],
    "cell_id": "00036-21a46652-354f-45a9-af9e-e223aeb8d4e5",
    "deepnote_to_be_reexecuted": true,
    "source_hash": "db95ceb1",
    "execution_start": 1633236498928,
    "execution_millis": 0,
    "deepnote_cell_type": "code"
   },
   "source": "def cao_package(text):\n  nlp = initialize_stanza()\n  result = theme_extraction(txt = text, stop_words = [], nlp = nlp, threshold = 7)\n  #extraction = [tmp_text for tmp_text in result]\n  return result",
   "outputs": [],
   "execution_count": null
  },
  {
   "cell_type": "code",
   "metadata": {
    "tags": [],
    "cell_id": "00040-841953b6-f2e5-4e2a-ade8-508dffda7983",
    "deepnote_to_be_reexecuted": false,
    "source_hash": "24ccf82e",
    "execution_start": 1633236498928,
    "execution_millis": 82,
    "deepnote_cell_type": "code"
   },
   "source": "try_df = df.head(5)\ntry_df",
   "outputs": [
    {
     "output_type": "execute_result",
     "execution_count": 32,
     "data": {
      "application/vnd.deepnote.dataframe.v2+json": {
       "row_count": 5,
       "column_count": 3,
       "columns": [
        {
         "name": "Title",
         "dtype": "object",
         "stats": {
          "unique_count": 5,
          "nan_count": 0,
          "categories": [
           {
            "name": "read their privacy policy they are intrusive",
            "count": 1
           },
           {
            "name": "great hardware but software does not work  do not buy unless you want to project from hdmi source only",
            "count": 1
           },
           {
            "name": "3 others",
            "count": 3
           }
          ]
         }
        },
        {
         "name": "Review",
         "dtype": "object",
         "stats": {
          "unique_count": 5,
          "nan_count": 0,
          "categories": [
           {
            "name": "Have you checked out their ‘Privacy Policy’?They can (will?):“Collect and store” information on “your search queries, IP addresses, hardware settings, browser type, browser language, the date and time of your request, referral URL, and certain cookies that identify your browser or Account.”Imbedded web beacons allow their servers certain types of information from your Phone/computer/tablet and to read “when you opened an email message”Their cookies “May contain information about Device (Device is your phone/computer/tablet) , including “user settings, browsing history, and activities conducted while using the Services.”And, if you live in California like me they also “do not commit to honoring \"Do Not Track\" signals in your browser.”Their definition of Content means any “information, text, graphics, written posts, executive files..,” and “other information matetials generated, provided, uploaded, downloaded, appearing or otherwise accessible on or through Nebula”.  So, everything?Their Privacy Policy also contradicts their Terms in places.Their Terms indicate:They’ll collect “the counts of opening certain application”. Not theirs, ‘certain’.They’ll collect information on your phone/computer/tablet such as hardware and software versions and ‘so on’”.  So on?It’s s great product - super cool packaging, great display, solid interface.  But I’m going to return it.  It’s like getting a manicure and them rifling through my purse while they do it.  Ultimately, it doesn’t matter how sparkly my nails turn out...",
            "count": 1
           },
           {
            "name": "I very rarely write reviews on Amazon, but I feel compelled to write a review for this product because there is relatively little public information online about it.  From an engineering perspective, the device is amazing - it's small and powerful, with good brightness for its size.  And if all you want to do is plug in an HDMI cable and project, you'll be happy.  However, to me, the real promise of this device was that it runs Android and should be able to operate entirely wirelessly via apps or casting, and these functions simply do not work.  Here's the deal:The Nebula Capsule does indeed run Android, but it doesn't have Google Play and most apps that you'd want to use are either not available or do not work.  For example, I was trying to watch the Olympics and the NBC Olympics app wouldn't install because Play Services aren't available.  NBC Sports installs ok but doesn't work because it needs the user to log in via a web browser and the Nebula doesn't have a browser.  The story was pretty much the same for all other apps I tried - they are either unavailable in the limited app store provided by the Nebula, they are available but won't install, or they install but don't work.Now, in theory you shouldn't have to install any apps on the Nebula because you should be able to cast from your smartphone to the Nebula.  However, casting is simply not functional from an Android phone - the Nebula doesn't show up in the casting options.  Nebula support says this is because the App isn't yet verified by Google Play, but I'm skeptical because the Nebula does show up in casting options from an iPhone but the casting is super-flaky.  Over the course of about three weeks with the device, I've tried to cast roughly 50 times.  Roughly 50% of the time it simply doesn't cast, and the app on my iPhone just goes blank while the Nebule is also blank.  The other 50% of the time it casts for a random interval of 1-10 minutes and then fails for no obvious reason.Overall, the hardware on this device is amazing, but the software is simply not ready for prime time.  I'll try buying one again in a few months, maybe.",
            "count": 1
           },
           {
            "name": "3 others",
            "count": 3
           }
          ]
         }
        },
        {
         "name": "ID",
         "dtype": "int64",
         "stats": {
          "unique_count": 5,
          "nan_count": 0,
          "min": "1",
          "max": "5",
          "histogram": [
           {
            "bin_start": 1,
            "bin_end": 1.4,
            "count": 1
           },
           {
            "bin_start": 1.4,
            "bin_end": 1.8,
            "count": 0
           },
           {
            "bin_start": 1.8,
            "bin_end": 2.2,
            "count": 1
           },
           {
            "bin_start": 2.2,
            "bin_end": 2.6,
            "count": 0
           },
           {
            "bin_start": 2.6,
            "bin_end": 3,
            "count": 0
           },
           {
            "bin_start": 3,
            "bin_end": 3.4000000000000004,
            "count": 1
           },
           {
            "bin_start": 3.4000000000000004,
            "bin_end": 3.8000000000000003,
            "count": 0
           },
           {
            "bin_start": 3.8000000000000003,
            "bin_end": 4.2,
            "count": 1
           },
           {
            "bin_start": 4.2,
            "bin_end": 4.6,
            "count": 0
           },
           {
            "bin_start": 4.6,
            "bin_end": 5,
            "count": 1
           }
          ]
         }
        },
        {
         "name": "_deepnote_index_column",
         "dtype": "int64"
        }
       ],
       "rows_top": [
        {
         "Title": "read their privacy policy they are intrusive",
         "Review": "Have you checked out their ‘Privacy Policy’?They can (will?):“Collect and store” information on “yo…",
         "ID": 1,
         "_deepnote_index_column": 1
        },
        {
         "Title": "great hardware but software does not work  do not buy unless you want to project from hdmi source o…",
         "Review": "I very rarely write reviews on Amazon, but I feel compelled to write a review for this product beca…",
         "ID": 2,
         "_deepnote_index_column": 2
        },
        {
         "Title": "i am keeping it but",
         "Review": "The stripped-down version of Android is a real bummer, I must say. Kills the potential of this proj…",
         "ID": 3,
         "_deepnote_index_column": 3
        },
        {
         "Title": "lies",
         "Review": "Who reviewed this POS and gave it 5 stars?1. Bluetooth doesn’t stay pair to outside speakers.2. Sou…",
         "ID": 4,
         "_deepnote_index_column": 4
        },
        {
         "Title": "it does not work on most formats",
         "Review": "The projector will play Netflix off it’s native application using your phone as a hotspot.The proje…",
         "ID": 5,
         "_deepnote_index_column": 5
        }
       ],
       "rows_bottom": null
      },
      "text/plain": "                                               Title  \\\n1       read their privacy policy they are intrusive   \n2  great hardware but software does not work  do ...   \n3                                i am keeping it but   \n4                                               lies   \n5                   it does not work on most formats   \n\n                                              Review  ID  \n1  Have you checked out their ‘Privacy Policy’?Th...   1  \n2  I very rarely write reviews on Amazon, but I f...   2  \n3  The stripped-down version of Android is a real...   3  \n4  Who reviewed this POS and gave it 5 stars?1. B...   4  \n5  The projector will play Netflix off it’s nativ...   5  ",
      "text/html": "<div>\n<style scoped>\n    .dataframe tbody tr th:only-of-type {\n        vertical-align: middle;\n    }\n\n    .dataframe tbody tr th {\n        vertical-align: top;\n    }\n\n    .dataframe thead th {\n        text-align: right;\n    }\n</style>\n<table border=\"1\" class=\"dataframe\">\n  <thead>\n    <tr style=\"text-align: right;\">\n      <th></th>\n      <th>Title</th>\n      <th>Review</th>\n      <th>ID</th>\n    </tr>\n  </thead>\n  <tbody>\n    <tr>\n      <th>1</th>\n      <td>read their privacy policy they are intrusive</td>\n      <td>Have you checked out their ‘Privacy Policy’?Th...</td>\n      <td>1</td>\n    </tr>\n    <tr>\n      <th>2</th>\n      <td>great hardware but software does not work  do ...</td>\n      <td>I very rarely write reviews on Amazon, but I f...</td>\n      <td>2</td>\n    </tr>\n    <tr>\n      <th>3</th>\n      <td>i am keeping it but</td>\n      <td>The stripped-down version of Android is a real...</td>\n      <td>3</td>\n    </tr>\n    <tr>\n      <th>4</th>\n      <td>lies</td>\n      <td>Who reviewed this POS and gave it 5 stars?1. B...</td>\n      <td>4</td>\n    </tr>\n    <tr>\n      <th>5</th>\n      <td>it does not work on most formats</td>\n      <td>The projector will play Netflix off it’s nativ...</td>\n      <td>5</td>\n    </tr>\n  </tbody>\n</table>\n</div>"
     },
     "metadata": {}
    }
   ],
   "execution_count": null
  },
  {
   "cell_type": "markdown",
   "source": "## 7. Apply Rake package:\n- For each sentence to extract the key information\nFor example: \"this is a good movie\" & \"but the room is too dark.\" -> \"good movie\" & \"room drak\"",
   "metadata": {
    "tags": [],
    "cell_id": "00036-5f54a15e-6d90-4301-bb8c-582c5ca7222b",
    "deepnote_cell_type": "markdown"
   }
  },
  {
   "cell_type": "code",
   "metadata": {
    "tags": [],
    "cell_id": "00038-8c5f442f-521c-4d3f-aa15-31f492c23687",
    "deepnote_to_be_reexecuted": false,
    "source_hash": "749d343a",
    "execution_start": 1633236511342,
    "execution_millis": 1296,
    "deepnote_cell_type": "code"
   },
   "source": "from rake_nltk import Rake\nfrom nltk.corpus import stopwords ",
   "outputs": [
    {
     "output_type": "error",
     "ename": "ModuleNotFoundError",
     "evalue": "No module named 'rake_nltk'",
     "traceback": [
      "\u001b[0;31m---------------------------------------------------------------------------\u001b[0m",
      "\u001b[0;31mModuleNotFoundError\u001b[0m                       Traceback (most recent call last)",
      "\u001b[0;32m/tmp/ipykernel_434/1260670140.py\u001b[0m in \u001b[0;36m<module>\u001b[0;34m\u001b[0m\n\u001b[0;32m----> 1\u001b[0;31m \u001b[0;32mfrom\u001b[0m \u001b[0mrake_nltk\u001b[0m \u001b[0;32mimport\u001b[0m \u001b[0mRake\u001b[0m\u001b[0;34m\u001b[0m\u001b[0;34m\u001b[0m\u001b[0m\n\u001b[0m\u001b[1;32m      2\u001b[0m \u001b[0;32mfrom\u001b[0m \u001b[0mnltk\u001b[0m\u001b[0;34m.\u001b[0m\u001b[0mcorpus\u001b[0m \u001b[0;32mimport\u001b[0m \u001b[0mstopwords\u001b[0m\u001b[0;34m\u001b[0m\u001b[0;34m\u001b[0m\u001b[0m\n",
      "\u001b[0;31mModuleNotFoundError\u001b[0m: No module named 'rake_nltk'"
     ]
    }
   ],
   "execution_count": null
  },
  {
   "cell_type": "code",
   "metadata": {
    "tags": [],
    "cell_id": "00039-2ce5672e-4400-47ec-90b6-5fb1ddfae505",
    "deepnote_to_be_reexecuted": true,
    "source_hash": "532acd38",
    "execution_start": 1633232324156,
    "execution_millis": 12,
    "deepnote_cell_type": "code"
   },
   "source": "#nltk.download('stopwords')\nstopword = list(stopwords.words('english'))\nstopword.remove('not')",
   "outputs": [],
   "execution_count": null
  },
  {
   "cell_type": "code",
   "metadata": {
    "id": "K7SgLLV5Lsq1",
    "cell_id": "00027-e4e928c5-3455-45a4-9139-b8821d00e49b",
    "deepnote_to_be_reexecuted": true,
    "source_hash": "39290615",
    "execution_start": 1633232327616,
    "execution_millis": 2,
    "deepnote_cell_type": "code"
   },
   "source": "def rake_package(text):\n  r = Rake(stopwords =stopword)\n  a = r.extract_keywords_from_text(text)\n  extraction = r.get_ranked_phrases()\n  return extraction",
   "outputs": [],
   "execution_count": null
  },
  {
   "cell_type": "code",
   "metadata": {
    "tags": [],
    "cell_id": "00038-d93b3daa-3bb4-4876-971d-fc9d18053698",
    "deepnote_to_be_reexecuted": true,
    "source_hash": "c58d82f0",
    "execution_start": 1633232329317,
    "execution_millis": 54,
    "deepnote_cell_type": "code"
   },
   "source": "df['Rake'] = df['Title'].apply(rake_package)\ndf['Rake']",
   "outputs": [
    {
     "output_type": "execute_result",
     "execution_count": 40,
     "data": {
      "application/vnd.deepnote.dataframe.v2+json": {
       "row_count": 294,
       "column_count": 4,
       "columns": [
        {
         "name": "Title",
         "dtype": "object",
         "stats": {
          "unique_count": 285,
          "nan_count": 0,
          "categories": [
           {
            "name": "two stars",
            "count": 4
           },
           {
            "name": "not good",
            "count": 3
           },
           {
            "name": "283 others",
            "count": 287
           }
          ]
         }
        },
        {
         "name": "Review",
         "dtype": "object",
         "stats": {
          "unique_count": 291,
          "nan_count": 3,
          "categories": [
           {
            "name": "Have you checked out their ‘Privacy Policy’?They can (will?):“Collect and store” information on “your search queries, IP addresses, hardware settings, browser type, browser language, the date and time of your request, referral URL, and certain cookies that identify your browser or Account.”Imbedded web beacons allow their servers certain types of information from your Phone/computer/tablet and to read “when you opened an email message”Their cookies “May contain information about Device (Device is your phone/computer/tablet) , including “user settings, browsing history, and activities conducted while using the Services.”And, if you live in California like me they also “do not commit to honoring \"Do Not Track\" signals in your browser.”Their definition of Content means any “information, text, graphics, written posts, executive files..,” and “other information matetials generated, provided, uploaded, downloaded, appearing or otherwise accessible on or through Nebula”.  So, everything?Their Privacy Policy also contradicts their Terms in places.Their Terms indicate:They’ll collect “the counts of opening certain application”. Not theirs, ‘certain’.They’ll collect information on your phone/computer/tablet such as hardware and software versions and ‘so on’”.  So on?It’s s great product - super cool packaging, great display, solid interface.  But I’m going to return it.  It’s like getting a manicure and them rifling through my purse while they do it.  Ultimately, it doesn’t matter how sparkly my nails turn out...",
            "count": 1
           },
           {
            "name": "290 others",
            "count": 290
           },
           {
            "name": "Missing",
            "count": 3
           }
          ]
         }
        },
        {
         "name": "ID",
         "dtype": "int64",
         "stats": {
          "unique_count": 294,
          "nan_count": 0,
          "min": "1",
          "max": "294",
          "histogram": [
           {
            "bin_start": 1,
            "bin_end": 30.3,
            "count": 30
           },
           {
            "bin_start": 30.3,
            "bin_end": 59.6,
            "count": 29
           },
           {
            "bin_start": 59.6,
            "bin_end": 88.9,
            "count": 29
           },
           {
            "bin_start": 88.9,
            "bin_end": 118.2,
            "count": 30
           },
           {
            "bin_start": 118.2,
            "bin_end": 147.5,
            "count": 29
           },
           {
            "bin_start": 147.5,
            "bin_end": 176.8,
            "count": 29
           },
           {
            "bin_start": 176.8,
            "bin_end": 206.1,
            "count": 30
           },
           {
            "bin_start": 206.1,
            "bin_end": 235.4,
            "count": 29
           },
           {
            "bin_start": 235.4,
            "bin_end": 264.7,
            "count": 29
           },
           {
            "bin_start": 264.7,
            "bin_end": 294,
            "count": 30
           }
          ]
         }
        },
        {
         "name": "Rake",
         "dtype": "object",
         "stats": {
          "unique_count": 294,
          "nan_count": 0,
          "categories": [
           {
            "name": "['two stars']",
            "count": 4
           },
           {
            "name": "['not work']",
            "count": 3
           },
           {
            "name": "276 others",
            "count": 287
           }
          ]
         }
        },
        {
         "name": "_deepnote_index_column",
         "dtype": "int64"
        }
       ],
       "rows_top": [
        {
         "Title": "read their privacy policy they are intrusive",
         "Review": "Have you checked out their ‘Privacy Policy’?They can (will?):“Collect and store” information on “yo…",
         "ID": 1,
         "Rake": "['privacy policy', 'read', 'intrusive']",
         "_deepnote_index_column": 1
        },
        {
         "Title": "great hardware but software does not work  do not buy unless you want to project from hdmi source o…",
         "Review": "I very rarely write reviews on Amazon, but I feel compelled to write a review for this product beca…",
         "ID": 2,
         "Rake": "['not buy unless', 'not work', 'hdmi source', 'great hardware', 'want', 'software', 'project']",
         "_deepnote_index_column": 2
        },
        {
         "Title": "i am keeping it but",
         "Review": "The stripped-down version of Android is a real bummer, I must say. Kills the potential of this proj…",
         "ID": 3,
         "Rake": "['keeping']",
         "_deepnote_index_column": 3
        },
        {
         "Title": "lies",
         "Review": "Who reviewed this POS and gave it 5 stars?1. Bluetooth doesn’t stay pair to outside speakers.2. Sou…",
         "ID": 4,
         "Rake": "['lies']",
         "_deepnote_index_column": 4
        },
        {
         "Title": "it does not work on most formats",
         "Review": "The projector will play Netflix off it’s native application using your phone as a hotspot.The proje…",
         "ID": 5,
         "Rake": "['not work', 'formats']",
         "_deepnote_index_column": 5
        },
        {
         "Title": "needs to be brighter",
         "Review": "I got this projector due to being compact and having built in speaker.  The con is that you can onl…",
         "ID": 6,
         "Rake": "['needs', 'brighter']",
         "_deepnote_index_column": 6
        },
        {
         "Title": "2 weeks 7 etc support calls and  76 worth of hdmi cables and connectors but still does not work",
         "Review": "Mine had a ton of problems. I called customer support about 5 times and ultimately couldn’t get it …",
         "ID": 7,
         "Rake": "['2 weeks 7 etc support calls', 'not work', 'hdmi cables', '76 worth', 'still', 'connectors']",
         "_deepnote_index_column": 7
        },
        {
         "Title": "a good attempt but needs improvement",
         "Review": "I purchased the Nebula Capsule Smart Mini Projector as a gift so I can not review it for long term …",
         "ID": 8,
         "Rake": "['needs improvement', 'good attempt']",
         "_deepnote_index_column": 8
        },
        {
         "Title": "lovely outside but the guts on this unit leaves something to be desired",
         "Review": "Out of the box the unit itself is a solid piece of hardware, well constructed, metal grill over the…",
         "ID": 9,
         "Rake": "['unit leaves something', 'lovely outside', 'guts', 'desired']",
         "_deepnote_index_column": 9
        },
        {
         "Title": "no longevity sporadic functionality",
         "Review": "It's been about a month since purchase. My intent with this device was for long usages. Not just a …",
         "ID": 10,
         "Rake": "['longevity sporadic functionality']",
         "_deepnote_index_column": 10
        },
        {
         "Title": "it must be unlocked",
         "Review": "It is locked so none of the apps work. You can not even sign into Youtube. Lol!  You can not even s…",
         "ID": 11,
         "Rake": "['unlocked', 'must']",
         "_deepnote_index_column": 11
        },
        {
         "Title": "almost love it not worth the price",
         "Review": "This was so expensive, $300. So I was hoping it would be everything I was hoping for. i mean, its d…",
         "ID": 12,
         "Rake": "['not worth', 'almost love', 'price']",
         "_deepnote_index_column": 12
        },
        {
         "Title": "terrible software and barely usable",
         "Review": "I was really excited for this to show up with the NFL Championship games coming up this weekend. I …",
         "ID": 13,
         "Rake": "['terrible software', 'barely usable']",
         "_deepnote_index_column": 13
        },
        {
         "Title": "mala resolucion en salas iluminadas",
         "Review": "Mala resolucion en salas iluminadasLa resolucion en salas iluminadas es mala, no se ve practicament…",
         "ID": 14,
         "Rake": "['mala resolucion en salas iluminadas']",
         "_deepnote_index_column": 14
        },
        {
         "Title": "it does not work",
         "Review": "Horrible product. Doesn't connect to Netflix. It started out playing Netflix and was great, then su…",
         "ID": 15,
         "Rake": "['not work']",
         "_deepnote_index_column": 15
        },
        {
         "Title": "does not work well with airplay for ipad",
         "Review": "I bought this projector because I wanted to use it in my classroom to airplay from my iPad. I thoug…",
         "ID": 16,
         "Rake": "['not work well', 'ipad', 'airplay']",
         "_deepnote_index_column": 16
        },
        {
         "Title": "not what you think",
         "Review": "If you’re a teacher or a businessman then this will be just fineBut if you just want to connect to …",
         "ID": 17,
         "Rake": "['think', 'not']",
         "_deepnote_index_column": 17
        },
        {
         "Title": "was probably a great purchase in 2018 but there are better options for price in 2021",
         "Review": "This projector is really cool looking. It's really easy to use and connect via HDMI or the app. It'…",
         "ID": 18,
         "Rake": "['great purchase', 'better options', 'probably', 'price', '2021', '2018']",
         "_deepnote_index_column": 18
        },
        {
         "Title": "just ok not great",
         "Review": "I wanted to like this mini projector so much but i just can't. So first of all you can't mirror mov…",
         "ID": 19,
         "Rake": "['ok not great']",
         "_deepnote_index_column": 19
        },
        {
         "Title": "not worth the money",
         "Review": "1. They’ve lowered the price on this item the day I received it in the mail. Since Amazon won’t do …",
         "ID": 20,
         "Rake": "['not worth', 'money']",
         "_deepnote_index_column": 20
        },
        {
         "Title": "look elsewhere not very bright and blurry edges",
         "Review": "The picture is horrible at 100 inches. You either get clean edges and horrible center picture or ho…",
         "ID": 21,
         "Rake": "['look elsewhere not', 'blurry edges', 'bright']",
         "_deepnote_index_column": 21
        },
        {
         "Title": "disappointed and underwhelmed",
         "Review": "I wanted to like it and keep it, I really did. I kept trying to convince myself that the picture qu…",
         "ID": 22,
         "Rake": "['underwhelmed', 'disappointed']",
         "_deepnote_index_column": 22
        },
        {
         "Title": "expensive bad navigation no display resizing",
         "Review": "It’s packaged and looks great. However, the remote navigation (or app) is horrible. For the price w…",
         "ID": 23,
         "Rake": "['expensive bad navigation', 'display resizing']",
         "_deepnote_index_column": 23
        },
        {
         "Title": "over priced and poor quality",
         "Review": "It has its pros and cons. I like the portable easy to use feel. Easy charging. It works well. I was…",
         "ID": 24,
         "Rake": "['poor quality', 'priced']",
         "_deepnote_index_column": 24
        },
        {
         "Title": "great small projector",
         "Review": "I don’t even know where to start. I’ve read a lot of reviews in this and other products like it. So…",
         "ID": 25,
         "Rake": "['great small projector']",
         "_deepnote_index_column": 25
        },
        {
         "Title": "utter disappointment and waste of money buy a cheap one this one runs like it",
         "Review": "Spent nearly $300 hoping for a smart protector with Bluetooth capabilities that can play streaming …",
         "ID": 26,
         "Rake": "['one runs like', 'cheap one', 'utter disappointment', 'money buy', 'waste']",
         "_deepnote_index_column": 26
        },
        {
         "Title": "brightness and windows projection not great",
         "Review": "I bought this last year more as a gadget at a reasonable price than a real need.  Form factor, oper…",
         "ID": 27,
         "Rake": "['windows projection not great', 'brightness']",
         "_deepnote_index_column": 27
        },
        {
         "Title": "no audio out",
         "Review": "This is the nicest picture I’ve ever seen from a small projector. Virtually everything about its fu…",
         "ID": 28,
         "Rake": "['audio']",
         "_deepnote_index_column": 28
        },
        {
         "Title": "youtube sign in tiptrick",
         "Review": "I was absolutely shocked at the top tier quality of this product. The fact that I can use this in a…",
         "ID": 29,
         "Rake": "['youtube sign', 'tiptrick']",
         "_deepnote_index_column": 29
        },
        {
         "Title": "do not do it misleading reviews",
         "Review": "Its honesty so bad. I never leave reviews but I am so bothered by the amount of good reviews I had …",
         "ID": 30,
         "Rake": "['misleading reviews', 'not']",
         "_deepnote_index_column": 30
        },
        {
         "Title": "video is not that sharp 420p but rest is good",
         "Review": "Things I dislike about it1. The video isn't that sharp - this is probably the main reason why I wou…",
         "ID": 31,
         "Rake": "['sharp 420p', 'video', 'rest', 'not', 'good']",
         "_deepnote_index_column": 31
        },
        {
         "Title": "does the job but was expecting more",
         "Review": "I don't know, but for the money I spent on this unit was expecting more. My main complain is the so…",
         "ID": 32,
         "Rake": "['job', 'expecting']",
         "_deepnote_index_column": 32
        },
        {
         "Title": "compared to others at the same price point disappointed",
         "Review": "I had high hopes for this as it is such a cool concept. But the brightness and the clarity is not w…",
         "ID": 33,
         "Rake": "['price point disappointed', 'others', 'compared']",
         "_deepnote_index_column": 33
        },
        {
         "Title": "does not really screen mirror",
         "Review": "I cant screen mirror anything....its so dumb, I can watch it on my phone becasue I have netflix, Am…",
         "ID": 34,
         "Rake": "['not really screen mirror']",
         "_deepnote_index_column": 34
        },
        {
         "Title": "many many reasons to move on  this sucks",
         "Review": "This totally sucks.1) it’s dim as heck2) you can’t opt to leave the cord in charging - you have to …",
         "ID": 35,
         "Rake": "['many many reasons', 'sucks', 'move']",
         "_deepnote_index_column": 35
        },
        {
         "Title": "be prepared to never actually watch anything on it",
         "Review": "Be prepared to never be able to watch anything on it. As a device it’s awesome; quiet, portable etc…",
         "ID": 36,
         "Rake": "['never actually watch anything', 'prepared']",
         "_deepnote_index_column": 36
        },
        {
         "Title": "awful device that does not work",
         "Review": "This is a complete waste of money. If I could return it I would.The sound quality is awful, but I c…",
         "ID": 37,
         "Rake": "['not work', 'awful device']",
         "_deepnote_index_column": 37
        },
        {
         "Title": "low quality item died after 22 months with very light usage",
         "Review": "It was great while it lasted but clearly not a quality item as it shouldn't have stopped working in…",
         "ID": 38,
         "Rake": "['low quality item died', 'light usage', '22 months']",
         "_deepnote_index_column": 38
        },
        {
         "Title": "more looks than longevity buy the extended warranty",
         "Review": "I had and was well entertained by this projector for 1 yr 8 months, then it went haywire it stays o…",
         "ID": 39,
         "Rake": "['longevity buy', 'extended warranty', 'looks']",
         "_deepnote_index_column": 39
        },
        {
         "Title": "great video but very disappointing",
         "Review": "At first this little projector impressed me so much. It has android built into so you can stream Ne…",
         "ID": 40,
         "Rake": "['great video', 'disappointing']",
         "_deepnote_index_column": 40
        },
        {
         "Title": "the product picture quality is bad",
         "Review": "The sound quality is good but The picture quality is very bad as the images projected images are no…",
         "ID": 41,
         "Rake": "['product picture quality', 'bad']",
         "_deepnote_index_column": 41
        },
        {
         "Title": "expensive toy not much application for it",
         "Review": "It's not a terrible product, but for the price, I just feel like it's a waste of money. The image t…",
         "ID": 42,
         "Rake": "['expensive toy not much application']",
         "_deepnote_index_column": 42
        },
        {
         "Title": "a complete mess filled with issues not worth price",
         "Review": "Product has a ton of issues. Many of the apps on the store have a lot of bugs & issues that are nev…",
         "ID": 43,
         "Rake": "['issues not worth price', 'complete mess filled']",
         "_deepnote_index_column": 43
        },
        {
         "Title": "disappointed by selling used item",
         "Review": "I will be returning this item. Although i love ankers products, they sent me a refurbished or used …",
         "ID": 44,
         "Rake": "['selling used item', 'disappointed']",
         "_deepnote_index_column": 44
        },
        {
         "Title": "well manufactured disappointing audio",
         "Review": "The Capsule is an impressive product straight out of the box, in fact the packaging is very impress…",
         "ID": 45,
         "Rake": "['well manufactured disappointing audio']",
         "_deepnote_index_column": 45
        },
        {
         "Title": "i got original version and not the capsule ii",
         "Review": "I was expecting the Nebula Capsule II since I ordered it January 2019. What I got is the original v…",
         "ID": 46,
         "Rake": "['got original version', 'capsule ii', 'not']",
         "_deepnote_index_column": 46
        },
        {
         "Title": "apple compatibility lacking",
         "Review": "Bought and read the reviews dating is android based but really hoped for more.Can access some apps …",
         "ID": 47,
         "Rake": "['apple compatibility lacking']",
         "_deepnote_index_column": 47
        },
        {
         "Title": "dont buy this product",
         "Review": "Do not buy this. You will not get what is showcased in the ad. In my case 3 items were missing and …",
         "ID": 48,
         "Rake": "['dont buy', 'product']",
         "_deepnote_index_column": 48
        },
        {
         "Title": "cool idea great design bad execution",
         "Review": "We debated keeping the device, it looked cool, solid, great design, picture quality was great but t…",
         "ID": 49,
         "Rake": "['cool idea great design bad execution']",
         "_deepnote_index_column": 49
        },
        {
         "Title": "garbage",
         "Review": "I will be returning this tomorrow. It’s bad enough that it is too dim to watch outside at dusk, and…",
         "ID": 50,
         "Rake": "['garbage']",
         "_deepnote_index_column": 50
        },
        {
         "Title": "great size terrible software and connection ports lacking",
         "Review": "This seems like the perfect projector size and price, but the software bus terrible. You end up hav…",
         "ID": 51,
         "Rake": "['great size terrible software', 'connection ports lacking']",
         "_deepnote_index_column": 51
        },
        {
         "Title": "send me my money back please",
         "Review": "It was cool...did everything I needed until it didnt. Delivered to me on March 18th, stopped workin…",
         "ID": 52,
         "Rake": "['money back please', 'send']",
         "_deepnote_index_column": 52
        },
        {
         "Title": "save your money do not buy this junk",
         "Review": "I like the item itself but the one huge problem for me is the same that many users complained about…",
         "ID": 53,
         "Rake": "['not buy', 'save', 'money', 'junk']",
         "_deepnote_index_column": 53
        },
        {
         "Title": "not as described",
         "Review": "I bought this product because for a outside viewing of movies for my kids and there friends. the sc…",
         "ID": 54,
         "Rake": "['not', 'described']",
         "_deepnote_index_column": 54
        },
        {
         "Title": "it is is a toy",
         "Review": "Think of this more a novelty toy. I bought this for my basement and even in the pitch black the ima…",
         "ID": 55,
         "Rake": "['toy']",
         "_deepnote_index_column": 55
        },
        {
         "Title": "very dim",
         "Review": "Some pros:- built in wifi and smart functions- variety of options- auto keystone (only vertical tho…",
         "ID": 56,
         "Rake": "['dim']",
         "_deepnote_index_column": 56
        },
        {
         "Title": "stops working after about a year",
         "Review": "Worked fine for about a year, but started getting power issues until it just kept turning off and d…",
         "ID": 57,
         "Rake": "['stops working', 'year']",
         "_deepnote_index_column": 57
        },
        {
         "Title": "not very bright but good in dark room",
         "Review": "I was a little disappointed in this projector, but I will keep it.Cons:1) Picture isn't very bright…",
         "ID": 58,
         "Rake": "['dark room', 'not', 'good', 'bright']",
         "_deepnote_index_column": 58
        },
        {
         "Title": "high hopes but disappointed limiting hardware and software",
         "Review": "What’s the point of “portable” if you need wifi to watch Netflix? I was hoping to take it camping, …",
         "ID": 59,
         "Rake": "['disappointed limiting hardware', 'high hopes', 'software']",
         "_deepnote_index_column": 59
        },
        {
         "Title": "not good enough",
         "Review": "- Remote control doesn’t work.- The software is uber clunky.- Arrived already opened, battery and l…",
         "ID": 60,
         "Rake": "['not good enough']",
         "_deepnote_index_column": 60
        },
        {
         "Title": "solid performance limited apps",
         "Review": "Limited options in terms of apps. Projector performs well, but it would it would be better if it su…",
         "ID": 61,
         "Rake": "['solid performance limited apps']",
         "_deepnote_index_column": 61
        },
        {
         "Title": "limited capabilities",
         "Review": "I can't get it to connect to any HDMI I plug into it. I really want to use it for my Switch. I knew…",
         "ID": 62,
         "Rake": "['limited capabilities']",
         "_deepnote_index_column": 62
        },
        {
         "Title": "not happy",
         "Review": "Couple things:1. This is NOT bright enough to be used outside.2. I cannot get the APP to work on my…",
         "ID": 63,
         "Rake": "['not happy']",
         "_deepnote_index_column": 63
        },
        {
         "Title": "okaybut photos are deceiving",
         "Review": "So we tried the Nebula Capsule...first off, the picture on the box shows the projector being used o…",
         "ID": 64,
         "Rake": "['okaybut photos', 'deceiving']",
         "_deepnote_index_column": 64
        },
        {
         "Title": "bad picture quality not bright grainy at times",
         "Review": "The only thing this gets to stars for is the size it literally is the size of a soda can. The remot…",
         "ID": 65,
         "Rake": "['bad picture quality not bright grainy', 'times']",
         "_deepnote_index_column": 65
        },
        {
         "Title": "really expensive for what it doesplus no way to fix a crooked projection",
         "Review": "I liked the convenience of this device, but I think it's pretty pricey for something that I have to…",
         "ID": 66,
         "Rake": "['really expensive', 'crooked projection', 'way', 'fix', 'doesplus']",
         "_deepnote_index_column": 66
        },
        {
         "Title": "it is perfect and disappointing",
         "Review": "Quality is great, but screen play does not work. Screen mirror does not work. And the hdmi adapter …",
         "ID": 67,
         "Rake": "['perfect', 'disappointing']",
         "_deepnote_index_column": 67
        },
        {
         "Title": "picture function and small size is impressive",
         "Review": "Loved the size and quality of the picture.  I wanted to massively like this projector but the remot…",
         "ID": 68,
         "Rake": "['small size', 'picture function', 'impressive']",
         "_deepnote_index_column": 68
        },
        {
         "Title": "mediocre purchase",
         "Review": "I like it so far. Surprised it auto adjusted when the angle changed. Hard remote didnt work for Net…",
         "ID": 69,
         "Rake": "['mediocre purchase']",
         "_deepnote_index_column": 69
        },
        {
         "Title": "the advertising page was misleading",
         "Review": "According to the advertising pages, this device should be able to be a wireless display for a Windo…",
         "ID": 70,
         "Rake": "['advertising page', 'misleading']",
         "_deepnote_index_column": 70
        },
        {
         "Title": "limited streaming",
         "Review": "It's... ok. I wasn't looking for just ok, though. The portability is great, but that is the best pa…",
         "ID": 71,
         "Rake": "['limited streaming']",
         "_deepnote_index_column": 71
        },
        {
         "Title": "it is shocking what a mess this is",
         "Review": "I will update and list the ways in which this thing is terrible but most of all the nebular app is …",
         "ID": 72,
         "Rake": "['shocking', 'mess']",
         "_deepnote_index_column": 72
        },
        {
         "Title": "terrible for netflix",
         "Review": "I bought this thing for netflix and was very disappointed you cannot screen mirror with anything ex…",
         "ID": 73,
         "Rake": "['terrible', 'netflix']",
         "_deepnote_index_column": 73
        },
        {
         "Title": "poor quality broken in four months",
         "Review": "Within the first month of use, whenever a darker scene was being displayed, the picture went black …",
         "ID": 74,
         "Rake": "['poor quality broken', 'four months']",
         "_deepnote_index_column": 74
        },
        {
         "Title": "just okay better spend little more buy good one",
         "Review": "The quality of picture is just okay/not bad ( i am not saying it is good). The brightness is bad. B…",
         "ID": 75,
         "Rake": "['okay better spend little', 'buy good one']",
         "_deepnote_index_column": 75
        },
        {
         "Title": "time to return this junk not iphone friendly",
         "Review": "What good is it to list out the Pros and Cons, if the #1 reason why I purchased the Capsule was to …",
         "ID": 76,
         "Rake": "['junk not iphone friendly', 'time', 'return']",
         "_deepnote_index_column": 76
        },
        {
         "Title": "it is not bright enough for use",
         "Review": "This product does not live up to its hype. They have changed the description concerning the lumens …",
         "ID": 77,
         "Rake": "['not bright enough', 'use']",
         "_deepnote_index_column": 77
        },
        {
         "Title": "me gusta pero",
         "Review": "Me gusta bastante, tiene buena calidad la proyección, buen volumen del parlante incorporado, pero l…",
         "ID": 78,
         "Rake": "['gusta pero']",
         "_deepnote_index_column": 78
        },
        {
         "Title": "seriously",
         "Review": "It’s awesome that it’s small and has built in speakers...But it won’t support any apps- not even Ne…",
         "ID": 79,
         "Rake": "['seriously']",
         "_deepnote_index_column": 79
        },
        {
         "Title": "great idea but not carried out to its fullest potential by far",
         "Review": "I was very excited to finally get this product because I expected to be able to use it more easily …",
         "ID": 80,
         "Rake": "['not carried', 'great idea', 'fullest potential', 'far']",
         "_deepnote_index_column": 80
        },
        {
         "Title": "disappointed beyond words",
         "Review": "Worst nightmare realized through this projector.  Purchased this to watch a video I made for my mom…",
         "ID": 81,
         "Rake": "['disappointed beyond words']",
         "_deepnote_index_column": 81
        },
        {
         "Title": "does not work with iphone",
         "Review": "Even if you have subscriptions to streaming platforms, this projector wont let you play them. I tri…",
         "ID": 82,
         "Rake": "['not work', 'iphone']",
         "_deepnote_index_column": 82
        },
        {
         "Title": "this product needs to be cheapier",
         "Review": "This product would have been good at a below $100 dollar price tag. It was functional but as soon a…",
         "ID": 83,
         "Rake": "['product needs', 'cheapier']",
         "_deepnote_index_column": 83
        },
        {
         "Title": "was a fan of anker until purchasing this piece of junk",
         "Review": "Charged the battery to full, went to login to wifi, it instantly launches a browser. Well... you ca…",
         "ID": 84,
         "Rake": "['purchasing', 'piece', 'junk', 'fan', 'anker']",
         "_deepnote_index_column": 84
        },
        {
         "Title": "difficult to navigate in any mode",
         "Review": "This is my first projector but I found it very difficult navigation.  Some areas like YouTube for e…",
         "ID": 85,
         "Rake": "['navigate', 'mode', 'difficult']",
         "_deepnote_index_column": 85
        },
        {
         "Title": "very loud",
         "Review": "I liked it from the first minute but was disappointed later. The image is ok, Sound is good. The fo…",
         "ID": 86,
         "Rake": "['loud']",
         "_deepnote_index_column": 86
        },
        {
         "Title": "works well as a projector app is pretty bad for an otherwise polished product",
         "Review": "the projector feels solid and has a good quality out of the box. The picture quaility is good to gr…",
         "ID": 87,
         "Rake": "['otherwise polished product', 'works well', 'projector app', 'pretty bad']",
         "_deepnote_index_column": 87
        },
        {
         "Title": "speaker is not good",
         "Review": "I was pleasantly surprised when I came across this little speaker/projector. I had been looking for…",
         "ID": 88,
         "Rake": "['not good', 'speaker']",
         "_deepnote_index_column": 88
        },
        {
         "Title": "compact disappointment",
         "Review": "The projector is compact and simple to connect (hard wire) to a Blu-ray or DVD.It cannot be used wh…",
         "ID": 89,
         "Rake": "['compact disappointment']",
         "_deepnote_index_column": 89
        },
        {
         "Title": "need complete darkness",
         "Review": "I bought this as a teaching device to show power point presentations to my class. It is now one of …",
         "ID": 90,
         "Rake": "['need complete darkness']",
         "_deepnote_index_column": 90
        },
        {
         "Title": "just ok",
         "Review": "Wanted to love this product however we have had a really hard time with it. The lumens aren’t enoug…",
         "ID": 91,
         "Rake": "['ok']",
         "_deepnote_index_column": 91
        },
        {
         "Title": "problem with overheating within minutes of turning on",
         "Review": "This product worked well and about a month ago I keep getting a message that says it must be turned…",
         "ID": 92,
         "Rake": "['overheating within minutes', 'turning', 'problem']",
         "_deepnote_index_column": 92
        },
        {
         "Title": "over all great product looking into why it glitches so much",
         "Review": "I love how this is mobile, small and can be used without being plugged in. Small fan not too loud. …",
         "ID": 93,
         "Rake": "['great product looking', 'much', 'glitches']",
         "_deepnote_index_column": 93
        },
        {
         "Title": "mini projector mini issues",
         "Review": "I like it, the issues I have are 1.) It seems to keep cutting off after playing for a bit, before a…",
         "ID": 94,
         "Rake": "['mini projector mini issues']",
         "_deepnote_index_column": 94
        },
        {
         "Title": "does not work",
         "Review": "I bought this over a year ago and never was able to use it wirelessly. The OS just never worked and…",
         "ID": 95,
         "Rake": "['not work']",
         "_deepnote_index_column": 95
        },
        {
         "Title": "missing pieces",
         "Review": "No remote... came with box for it but was empty",
         "ID": 96,
         "Rake": "['missing pieces']",
         "_deepnote_index_column": 96
        },
        {
         "Title": "defective unit",
         "Review": "Received a defective unit. Mine doesn’t charge while powered on, and I’ve tried improved power cord…",
         "ID": 97,
         "Rake": "['defective unit']",
         "_deepnote_index_column": 97
        },
        {
         "Title": "do not waste your time if this is a family purchase",
         "Review": "Barely workable as a media projector for the family.  The remote doesn’t work with many of the apps…",
         "ID": 98,
         "Rake": "['not waste', 'family purchase', 'time']",
         "_deepnote_index_column": 98
        },
        {
         "Title": "too dark",
         "Review": "Handy dandy cute invention. Quite portable but not bright enough. Fan noise in the unit as expected…",
         "ID": 99,
         "Rake": "['dark']",
         "_deepnote_index_column": 99
        },
        {
         "Title": "not worth the expensive price",
         "Review": "This projector is decent,  but for the price I paid I expected more. For the most part it worked fi…",
         "ID": 100,
         "Rake": "['not worth', 'expensive price']",
         "_deepnote_index_column": 100
        },
        {
         "Title": "received repackaged item still connected to previous users accounts returning",
         "Review": "Purchased new from Amazon. Wasn’t new. Item was out of original packaging. When I powered it up, it…",
         "ID": 101,
         "Rake": "['received repackaged item still connected', 'previous users accounts returning']",
         "_deepnote_index_column": 101
        },
        {
         "Title": "portable but not highest sound or image quality",
         "Review": "not very bright, hard to see when light is already dimmed, speaker on the projector is pretty bad q…",
         "ID": 102,
         "Rake": "['not highest sound', 'image quality', 'portable']",
         "_deepnote_index_column": 102
        },
        {
         "Title": "the update that  could not wait",
         "Review": "So, you have some friends over to watch a movie.  Right in the middle of it a message pops up telli…",
         "ID": 103,
         "Rake": "['could not wait', 'update']",
         "_deepnote_index_column": 103
        },
        {
         "Title": "it is alright",
         "Review": "I was looking for a device that did not have to be centered but this one most definitely does, I ha…",
         "ID": 104,
         "Rake": "['alright']",
         "_deepnote_index_column": 104
        },
        {
         "Title": "its alright",
         "Review": "It's a good starter projector.  It's easy to use and set up. But if you're tech saavy - this really…",
         "ID": 105,
         "Rake": "['alright']",
         "_deepnote_index_column": 105
        },
        {
         "Title": "amazing and nifty but its always tilted",
         "Review": "Think this is a amazing concept, great for travel, amazing picture and can be used in many differen…",
         "ID": 106,
         "Rake": "['always tilted', 'nifty', 'amazing']",
         "_deepnote_index_column": 106
        },
        {
         "Title": "ok for poolside but obviously needs complete dark to be enjoyable",
         "Review": "It's ok. The fact that it's portable and have good speakers make it a great niche product, but that…",
         "ID": 107,
         "Rake": "['obviously needs complete dark', 'poolside', 'ok', 'enjoyable']",
         "_deepnote_index_column": 107
        },
        {
         "Title": "crashes  draw of the luck",
         "Review": "So I read a review saying when they received their projector, it crashed every 10-30 minutes. Mine …",
         "ID": 108,
         "Rake": "['crashes draw', 'luck']",
         "_deepnote_index_column": 108
        },
        {
         "Title": "it was okay",
         "Review": "It was an alright projector and now it won’t even charge or turn on anymore, it just tries to power…",
         "ID": 109,
         "Rake": "['okay']",
         "_deepnote_index_column": 109
        },
        {
         "Title": "not worth the money just novel",
         "Review": "It’s unintuitive to use, dim, and the battery life is nowhere near 4 hours. Closer to 1.5 if you ac…",
         "ID": 110,
         "Rake": "['not worth', 'novel', 'money']",
         "_deepnote_index_column": 110
        },
        {
         "Title": "battery drains while off more so",
         "Review": "Battery drains while off, more so than expected.  Battery life is so so while in use.  But the pros…",
         "ID": 111,
         "Rake": "['battery drains']",
         "_deepnote_index_column": 111
        },
        {
         "Title": "this would be great if it was not so terrible",
         "Review": "It would be so perfect if it wasn’t so useless. If you are looking for a beautiful picture, a simpl…",
         "ID": 112,
         "Rake": "['would', 'terrible', 'not', 'great']",
         "_deepnote_index_column": 112
        },
        {
         "Title": "would not recommend did not work out of box",
         "Review": "nan",
         "ID": 113,
         "Rake": "['would not recommend', 'not work', 'box']",
         "_deepnote_index_column": 113
        },
        {
         "Title": "too dim",
         "Review": "Returned item. Would be great if you were in a really dark room and using it as about a 20 inch tv.…",
         "ID": 114,
         "Rake": "['dim']",
         "_deepnote_index_column": 114
        },
        {
         "Title": "very disappointed",
         "Review": "Really wanted to love it. But I can’t actually use it. Won’t screen play from my iPhone. I’ve conne…",
         "ID": 115,
         "Rake": "['disappointed']",
         "_deepnote_index_column": 115
        },
        {
         "Title": "amazing product i think i got a used product or the product was damaged on the way to me",
         "Review": "Amazing product!I think I got a used product or the product was damaged on the way to me.Certain pa…",
         "ID": 116,
         "Rake": "['used product', 'amazing product', 'product', 'way', 'think', 'got', 'damaged']",
         "_deepnote_index_column": 116
        },
        {
         "Title": "lack quality features for gamers",
         "Review": "The projector is great and very compact. But for specifically having a home Theater it isn’t the be…",
         "ID": 117,
         "Rake": "['lack quality features', 'gamers']",
         "_deepnote_index_column": 117
        },
        {
         "Title": "not worth it",
         "Review": "Not worth the price. Quality was very dark and hard to focus. Even in completely dark room. Will be…",
         "ID": 118,
         "Rake": "['not worth']",
         "_deepnote_index_column": 118
        },
        {
         "Title": "short life span",
         "Review": "I can’t believe I bought this two years ago, used it maybe 3 dozen times and now the damn thing won…",
         "ID": 119,
         "Rake": "['short life span']",
         "_deepnote_index_column": 119
        },
        {
         "Title": "crooked screen",
         "Review": "Unfortunately, my nebula showed up with a crooked screen placement. It’s as if it slipped and got s…",
         "ID": 120,
         "Rake": "['crooked screen']",
         "_deepnote_index_column": 120
        },
        {
         "Title": "mixed feelings on it",
         "Review": "I like this device a lit but it sometimes is awkward hooking the thing to iOS and other devices. Ta…",
         "ID": 121,
         "Rake": "['mixed feelings']",
         "_deepnote_index_column": 121
        },
        {
         "Title": "need to have certain conditions",
         "Review": "The sound and focus / crispness of the pictures are great- its very hard to see the projection if t…",
         "ID": 122,
         "Rake": "['certain conditions', 'need']",
         "_deepnote_index_column": 122
        },
        {
         "Title": "useless for streaming while using external bluetooth speaker  anything sort of see update",
         "Review": "Update II:I exchanged the unit in the hope that the new one would behave better with respect to sim…",
         "ID": 123,
         "Rake": "['using external bluetooth speaker anything sort', 'see update', 'useless', 'streaming']",
         "_deepnote_index_column": 123
        },
        {
         "Title": "not very bright",
         "Review": "Not as good as the reviews and ad says, can't see it in a day lit room",
         "ID": 124,
         "Rake": "['not', 'bright']",
         "_deepnote_index_column": 124
        },
        {
         "Title": "inside of projector screen came with a scratch",
         "Review": "Inside of projector screen came with a scratch, no longer in stock so my only option is return or k…",
         "ID": 125,
         "Rake": "['projector screen came', 'scratch', 'inside']",
         "_deepnote_index_column": 125
        }
       ],
       "rows_bottom": [
        {
         "Title": "sound output volume is its biggest issue  not loud enough for outdoor usage",
         "Review": "The Nebula is a very nice projector but I ended up sending it back. I have owned a regular projecto…",
         "ID": 170,
         "Rake": "['biggest issue not loud enough', 'sound output volume', 'outdoor usage']",
         "_deepnote_index_column": 170
        },
        {
         "Title": "not bright enough",
         "Review": "It did not have light power or brightness for a moderately lit room at about 6 feet from screen.",
         "ID": 171,
         "Rake": "['not bright enough']",
         "_deepnote_index_column": 171
        },
        {
         "Title": "it can do everything but is not good at anything",
         "Review": "It is an all in one package. I purchased on sale for 250 and returned. The speakers are poor, the d…",
         "ID": 172,
         "Rake": "['not good', 'everything', 'anything']",
         "_deepnote_index_column": 172
        },
        {
         "Title": "not able to login to youtube",
         "Review": "I am giving 3 stars because I am not able to login to YouTube and I dont find HBO app to download. …",
         "ID": 173,
         "Rake": "['not able', 'youtube', 'login']",
         "_deepnote_index_column": 173
        },
        {
         "Title": "bad quality picture",
         "Review": "Surprised to have such a low quality for that price.",
         "ID": 174,
         "Rake": "['bad quality picture']",
         "_deepnote_index_column": 174
        },
        {
         "Title": "horrible experience",
         "Review": "It doesn't support many apps, has trouble connecting to devices via bluetooth let alone their app. …",
         "ID": 175,
         "Rake": "['horrible experience']",
         "_deepnote_index_column": 175
        },
        {
         "Title": "constant troubleshooting is annoying",
         "Review": "Don't waste your money.1. The display is only bright enough after dark.2. We get constant error mes…",
         "ID": 176,
         "Rake": "['constant troubleshooting', 'annoying']",
         "_deepnote_index_column": 176
        },
        {
         "Title": "anyway i can project my iphone",
         "Review": "I cannot seem to mirror screen my iPhone when outside without wifi.  Both phone and projector need …",
         "ID": 177,
         "Rake": "['project', 'iphone', 'anyway']",
         "_deepnote_index_column": 177
        },
        {
         "Title": "bad image quality and brightness",
         "Review": "Just received the productBrightness is very bad and it is hard to see anything when I use it even a…",
         "ID": 178,
         "Rake": "['bad image quality', 'brightness']",
         "_deepnote_index_column": 178
        },
        {
         "Title": "small but dull",
         "Review": "Yes it's small, but it's.brightness makes it useless in 80% of situations. Way too dull. Don't both…",
         "ID": 179,
         "Rake": "['small', 'dull']",
         "_deepnote_index_column": 179
        },
        {
         "Title": "product default shows up after 1 month",
         "Review": "The product has had issues after the first month. The image switches colorspace time to time with a…",
         "ID": 180,
         "Rake": "['product default shows', '1 month']",
         "_deepnote_index_column": 180
        },
        {
         "Title": "it could be better",
         "Review": "The positives: small, decent picture qualityNegatives: loud fan running the entire time.  Useless r…",
         "ID": 181,
         "Rake": "['could', 'better']",
         "_deepnote_index_column": 181
        },
        {
         "Title": "just get the nebula ii this one is a waste of money",
         "Review": "I purchased this one and regret I did. Its collecting dust now because I bought the Nebula II which…",
         "ID": 182,
         "Rake": "['nebula ii', 'waste', 'one', 'money', 'get']",
         "_deepnote_index_column": 182
        },
        {
         "Title": "cant screen share netflix or amazon ect",
         "Review": "I bought this for camping but it seems pointless if you dont have internet and want to screen share…",
         "ID": 183,
         "Rake": "['cant screen share netflix', 'amazon ect']",
         "_deepnote_index_column": 183
        },
        {
         "Title": "good in the dark",
         "Review": "The idea is great, but maybe need to go with the more upgrade model. Sound is pretty quiet and the …",
         "ID": 184,
         "Rake": "['good', 'dark']",
         "_deepnote_index_column": 184
        },
        {
         "Title": "poor quality",
         "Review": "Battery doesn't charge to 100 and doesn't last the time described in the description. Do no buy!",
         "ID": 185,
         "Rake": "['poor quality']",
         "_deepnote_index_column": 185
        },
        {
         "Title": "tilted screen",
         "Review": "I got this but picture quality is not that gt and the picture is titled. I Tried to reset and did l…",
         "ID": 186,
         "Rake": "['tilted screen']",
         "_deepnote_index_column": 186
        },
        {
         "Title": "quality is not there",
         "Review": "Too expensive for the quality, if you want better quality their other products are even more expens…",
         "ID": 187,
         "Rake": "['quality', 'not']",
         "_deepnote_index_column": 187
        },
        {
         "Title": "lost sound",
         "Review": "The sound went scratchy and quiet. Unfortunate.",
         "ID": 188,
         "Rake": "['lost sound']",
         "_deepnote_index_column": 188
        },
        {
         "Title": "good for a cute pillow fort date or camping",
         "Review": "I loved it as a temporary situation when my girlfriend didn’t have a TV but now we don’t use it...b…",
         "ID": 189,
         "Rake": "['cute pillow fort date', 'good', 'camping']",
         "_deepnote_index_column": 189
        },
        {
         "Title": "is hard to perfect match dostan and high fot screen size there is no other way to adjust screen",
         "Review": "Resulution is not clear, the adjustment knob it doesn't change much , the battery drainage quick , …",
         "ID": 190,
         "Rake": "['high fot screen size', 'perfect match dostan', 'adjust screen', 'way', 'hard']",
         "_deepnote_index_column": 190
        },
        {
         "Title": "cannot cast to projector",
         "Review": "Had to return device because you cannot cast from samsung phone. Disney+, Netflix or Prime video wo…",
         "ID": 191,
         "Rake": "['cannot cast', 'projector']",
         "_deepnote_index_column": 191
        },
        {
         "Title": "not worth the hype",
         "Review": "Low lumen output sucks.  White background of windows explorer washes out text.  Finicky focus wheel…",
         "ID": 192,
         "Rake": "['not worth', 'hype']",
         "_deepnote_index_column": 192
        },
        {
         "Title": "impossible to adjust menu is garbage",
         "Review": "unless it's pointing straight at the wall, you're not going to be able to frame it right. The keyst…",
         "ID": 193,
         "Rake": "['adjust menu', 'impossible', 'garbage']",
         "_deepnote_index_column": 193
        },
        {
         "Title": "too bad！do not buy！！",
         "Review": "nan",
         "ID": 194,
         "Rake": "['not buy ！！', 'bad ！']",
         "_deepnote_index_column": 194
        },
        {
         "Title": "read this before you buy",
         "Review": "I bought this projector to stream movies I bought on YouTube or just off my computer. I am not allo…",
         "ID": 195,
         "Rake": "['read', 'buy']",
         "_deepnote_index_column": 195
        },
        {
         "Title": "overall solid product",
         "Review": "Solid product for the price. Other reviews are a bit overhyped. I don’t find the picture quality or…",
         "ID": 196,
         "Rake": "['overall solid product']",
         "_deepnote_index_column": 196
        },
        {
         "Title": "too many glitches",
         "Review": "Cuts out every 15 minutes",
         "ID": 197,
         "Rake": "['many glitches']",
         "_deepnote_index_column": 197
        },
        {
         "Title": "expected more",
         "Review": "Picture quality and sound quality is bellow average. But concept is solid. Have to return",
         "ID": 198,
         "Rake": "['expected']",
         "_deepnote_index_column": 198
        },
        {
         "Title": "without support this thing is useless",
         "Review": "Instructions were terrible. Still have not been successful at making it work",
         "ID": 199,
         "Rake": "['without support', 'useless', 'thing']",
         "_deepnote_index_column": 199
        },
        {
         "Title": "100 ansi lumens is not upto the expectations",
         "Review": "100 ansi lumens is not that quality enough. And It is a bit disappointing that Netflix / Amazon pri…",
         "ID": 200,
         "Rake": "['100 ansi lumens', 'not upto', 'expectations']",
         "_deepnote_index_column": 200
        },
        {
         "Title": "crooked lens",
         "Review": "Lens is crooked so video is always slanted. Decent speaker, although fan or whatever is the backgro…",
         "ID": 201,
         "Rake": "['crooked lens']",
         "_deepnote_index_column": 201
        },
        {
         "Title": "terrible unit",
         "Review": "Dark picture, hdmi connection glitches, remote doesn’t work everything... returning the product",
         "ID": 202,
         "Rake": "['terrible unit']",
         "_deepnote_index_column": 202
        },
        {
         "Title": "doe not last long anymore",
         "Review": "I bought this around 3 years ago, and this dies less than an hour now even it's plugged.",
         "ID": 203,
         "Rake": "['doe not last long anymore']",
         "_deepnote_index_column": 203
        },
        {
         "Title": "difficult period",
         "Review": "Unfortunately this is very difficult to use. Can't easily stream from apps.",
         "ID": 204,
         "Rake": "['difficult period']",
         "_deepnote_index_column": 204
        },
        {
         "Title": "superb device  extremely bad keyboard",
         "Review": "Superb device - very bad remote - BT keyboards non-compatible - wifi direct non-compatible",
         "ID": 205,
         "Rake": "['superb device extremely bad keyboard']",
         "_deepnote_index_column": 205
        },
        {
         "Title": "not quite as advertised",
         "Review": "Must purchase the extra appropriate cords for your phone and have internet to work correctly. After…",
         "ID": 206,
         "Rake": "['not quite', 'advertised']",
         "_deepnote_index_column": 206
        },
        {
         "Title": "stop working after like 5 used",
         "Review": "I only used this item 5 times and it stop working. It's dead, like no power at all!🤬",
         "ID": 207,
         "Rake": "['like 5 used', 'stop working']",
         "_deepnote_index_column": 207
        },
        {
         "Title": "a little disappointing if you have an iphone do not get",
         "Review": "I think mine was defective because it take more than two tries to try and turn on",
         "ID": 208,
         "Rake": "['not get', 'little disappointing', 'iphone']",
         "_deepnote_index_column": 208
        },
        {
         "Title": "nice compact mini projector with great speaker",
         "Review": "We returned it because it did not have auto focus. Also, the resolution wasn’t the best.",
         "ID": 209,
         "Rake": "['nice compact mini projector', 'great speaker']",
         "_deepnote_index_column": 209
        },
        {
         "Title": "two stars",
         "Review": "Not what's I though it will be",
         "ID": 210,
         "Rake": "['two stars']",
         "_deepnote_index_column": 210
        },
        {
         "Title": "does not do what basic projectors are supposed to",
         "Review": "Cannot cast or mirror from Android phones. No access to play store, and the third party app store i…",
         "ID": 211,
         "Rake": "['basic projectors', 'supposed', 'not']",
         "_deepnote_index_column": 211
        },
        {
         "Title": "slow difficult to connect wifi is broken",
         "Review": "Can only connect to widi maybe 20% of the time, most of the apps don't allow you to sign in due to …",
         "ID": 212,
         "Rake": "['slow difficult', 'connect wifi', 'broken']",
         "_deepnote_index_column": 212
        },
        {
         "Title": "used unit with missing accessories",
         "Review": "Box wasn’t sealed, charger and cable weren’t in the box, remote control is not working and there wa…",
         "ID": 213,
         "Rake": "['used unit', 'missing accessories']",
         "_deepnote_index_column": 213
        },
        {
         "Title": "price is hig",
         "Review": "goodBut the price is hig",
         "ID": 214,
         "Rake": "['price', 'hig']",
         "_deepnote_index_column": 214
        },
        {
         "Title": "to be able to use the projector",
         "Review": "The product doesn't have the ability to connect without wifi. I wanted to take it camping and it tu…",
         "ID": 215,
         "Rake": "['use', 'projector', 'able']",
         "_deepnote_index_column": 215
        },
        {
         "Title": "video quality ok but need more improvement",
         "Review": "video quality OK but need more improvement",
         "ID": 216,
         "Rake": "['video quality ok', 'need', 'improvement']",
         "_deepnote_index_column": 216
        },
        {
         "Title": "not a pleasant product",
         "Review": "A little sad about bought this product, hope they can make improvements.",
         "ID": 217,
         "Rake": "['pleasant product', 'not']",
         "_deepnote_index_column": 217
        },
        {
         "Title": "i have seen better and cheaper",
         "Review": "Beside being noisy, I was expecting a better experience with this projector. Even though colors are…",
         "ID": 218,
         "Rake": "['seen better', 'cheaper']",
         "_deepnote_index_column": 218
        },
        {
         "Title": "okay",
         "Review": "Remote battery backside falls out fast it feels loose. Certain apps do not work",
         "ID": 219,
         "Rake": "['okay']",
         "_deepnote_index_column": 219
        },
        {
         "Title": "not good",
         "Review": "The picture quality was very poor. If it wasn’t on a perfect blank white wall with no texture you c…",
         "ID": 220,
         "Rake": "['not good']",
         "_deepnote_index_column": 220
        },
        {
         "Title": "does not charge",
         "Review": "Dims really quickly.",
         "ID": 221,
         "Rake": "['not charge']",
         "_deepnote_index_column": 221
        },
        {
         "Title": "setup and usage is impossible",
         "Review": "after numerous failures and video instruction I threw in towel did not work for camping.",
         "ID": 222,
         "Rake": "['usage', 'setup', 'impossible']",
         "_deepnote_index_column": 222
        },
        {
         "Title": "no hbo max",
         "Review": "No hbo max.",
         "ID": 223,
         "Rake": "['hbo max']",
         "_deepnote_index_column": 223
        },
        {
         "Title": "fan is loud",
         "Review": "Fan is very loud. Ruins the experience.",
         "ID": 224,
         "Rake": "['loud', 'fan']",
         "_deepnote_index_column": 224
        },
        {
         "Title": "picture quality is not so good",
         "Review": "Picture quality is not good for this price range.",
         "ID": 225,
         "Rake": "['picture quality', 'not', 'good']",
         "_deepnote_index_column": 225
        },
        {
         "Title": "the sounds quality is terrible and picture quality is fair",
         "Review": "Did not like it.",
         "ID": 226,
         "Rake": "['sounds quality', 'picture quality', 'terrible', 'fair']",
         "_deepnote_index_column": 226
        },
        {
         "Title": "two stars",
         "Review": "I am not able install Apps like Youtube., Netflix,. Airplay is very slow & stuck forever.",
         "ID": 227,
         "Rake": "['two stars']",
         "_deepnote_index_column": 227
        },
        {
         "Title": "wo not turn on for more than 5 minutes",
         "Review": "Had for 6 months and will no longer hold charge or turn on. Plugged in for days and still at 3%.",
         "ID": 228,
         "Rake": "['wo not turn', '5 minutes']",
         "_deepnote_index_column": 228
        },
        {
         "Title": "picture quality",
         "Review": "the projected picture is not aligned straight. It slopes.",
         "ID": 229,
         "Rake": "['picture quality']",
         "_deepnote_index_column": 229
        },
        {
         "Title": "not my favorite projector",
         "Review": "It said Bluetooth and it clearly wasn’t had to download apps and the ones I needed it wouldn’t let …",
         "ID": 230,
         "Rake": "['favorite projector', 'not']",
         "_deepnote_index_column": 230
        },
        {
         "Title": "decent",
         "Review": "It’s not bad. But wish I could return it.",
         "ID": 231,
         "Rake": "['decent']",
         "_deepnote_index_column": 231
        },
        {
         "Title": "too noice",
         "Review": "too noice，brightness not good in day time，",
         "ID": 232,
         "Rake": "['noice']",
         "_deepnote_index_column": 232
        },
        {
         "Title": "it is not doing what is advertises",
         "Review": "i called them and they even admitted to it not projecting up how it is pictured in the advertisemen…",
         "ID": 233,
         "Rake": "['not', 'advertises']",
         "_deepnote_index_column": 233
        },
        {
         "Title": "great image quality poor sound",
         "Review": "Fan is too loud to use in a small space like my bedroom",
         "ID": 234,
         "Rake": "['great image quality poor sound']",
         "_deepnote_index_column": 234
        },
        {
         "Title": "loud fan is no fun",
         "Review": "I love that it’s all-in-one so it’s powered and doesn't need an external video source but I do not …",
         "ID": 235,
         "Rake": "['loud fan', 'fun']",
         "_deepnote_index_column": 235
        },
        {
         "Title": "picure quality is not sharp its not usable at all during day time",
         "Review": "picture quality is not sharp",
         "ID": 236,
         "Rake": "['picure quality', 'not usable', 'not sharp', 'day time']",
         "_deepnote_index_column": 236
        },
        {
         "Title": "no support",
         "Review": "No support",
         "ID": 237,
         "Rake": "['support']",
         "_deepnote_index_column": 237
        },
        {
         "Title": "what can i do",
         "Review": "The remote control of my device does not work",
         "ID": 238,
         "Rake": "[]",
         "_deepnote_index_column": 238
        },
        {
         "Title": "i really wanted keep this projector but it has a ",
         "Review": "I really wanted keep  this projector but it has a huge design flaw ... #1. No included micro sd car…",
         "ID": 239,
         "Rake": "['really wanted keep', 'projector']",
         "_deepnote_index_column": 239
        },
        {
         "Title": "very low light lumens",
         "Review": "The light is not strong enough to see anything",
         "ID": 240,
         "Rake": "['low light lumens']",
         "_deepnote_index_column": 240
        },
        {
         "Title": "horrible sound",
         "Review": "Sounds sucks. Brightness is horrible.",
         "ID": 241,
         "Rake": "['horrible sound']",
         "_deepnote_index_column": 241
        },
        {
         "Title": "bad experience with mini projector",
         "Review": "It’s been an bad experience with Sound quality is too bad , picture quality is Like okay.  For the …",
         "ID": 242,
         "Rake": "['mini projector', 'bad experience']",
         "_deepnote_index_column": 242
        },
        {
         "Title": "just ok",
         "Review": "OK.",
         "ID": 243,
         "Rake": "['ok']",
         "_deepnote_index_column": 243
        },
        {
         "Title": "poorly written manual great tech support from kevin",
         "Review": "The users manual is awful for this product but tech support from Kevin was awesome and quick.",
         "ID": 244,
         "Rake": "['poorly written manual great tech support', 'kevin']",
         "_deepnote_index_column": 244
        },
        {
         "Title": "pricey paperweight",
         "Review": "It doesn’t work. I called tech support and it will not actually play anything. My phone communicate…",
         "ID": 245,
         "Rake": "['pricey paperweight']",
         "_deepnote_index_column": 245
        },
        {
         "Title": "poor quality",
         "Review": "Poor quality, could not view picture well at all.  Extremely disappointed",
         "ID": 246,
         "Rake": "['poor quality']",
         "_deepnote_index_column": 246
        },
        {
         "Title": "moderate good",
         "Review": "soso.",
         "ID": 247,
         "Rake": "['moderate good']",
         "_deepnote_index_column": 247
        },
        {
         "Title": "waste of money",
         "Review": "It’s not working good at all",
         "ID": 248,
         "Rake": "['waste', 'money']",
         "_deepnote_index_column": 248
        },
        {
         "Title": "lumens needs more output",
         "Review": "Lumen brightness to dim",
         "ID": 249,
         "Rake": "['lumens needs', 'output']",
         "_deepnote_index_column": 249
        },
        {
         "Title": "",
         "Review": "Good",
         "ID": 250,
         "Rake": "[]",
         "_deepnote_index_column": 250
        },
        {
         "Title": "terrible",
         "Review": "Despite the representations made by seller, the sealed package arrived MISSING a couple of key comp…",
         "ID": 251,
         "Rake": "['terrible']",
         "_deepnote_index_column": 251
        },
        {
         "Title": "two stars",
         "Review": "😍good",
         "ID": 252,
         "Rake": "['two stars']",
         "_deepnote_index_column": 252
        },
        {
         "Title": "only got 2 uses ot if the device",
         "Review": "I bought this as a gift for my new roommate.  We were able to use it twice and it wont power on aga…",
         "ID": 253,
         "Rake": "['got 2 uses ot', 'device']",
         "_deepnote_index_column": 253
        },
        {
         "Title": "losses focused constantly",
         "Review": "Because it sucks. The remote doesn't work. You have to download an app that sucks. Etc",
         "ID": 254,
         "Rake": "['losses focused constantly']",
         "_deepnote_index_column": 254
        },
        {
         "Title": "also the capsule control app is poor difficult to control the mouse function",
         "Review": "when connected to the digital set top box, the picture has a blue hue to it. Also the Capsule Contr…",
         "ID": 255,
         "Rake": "['capsule control app', 'poor difficult', 'mouse function', 'control', 'also']",
         "_deepnote_index_column": 255
        },
        {
         "Title": "sadly dissappointed yet simultaneously awed",
         "Review": "I would have loved to say that I'm happy with this product and that it is what I expected.....but I…",
         "ID": 256,
         "Rake": "['sadly dissappointed yet simultaneously awed']",
         "_deepnote_index_column": 256
        },
        {
         "Title": "software ruins the product",
         "Review": "Cool little device but it is completely ruined by the cripled software.  If they had made the bootl…",
         "ID": 257,
         "Rake": "['software ruins', 'product']",
         "_deepnote_index_column": 257
        },
        {
         "Title": "screencast not compatible with google pixel phones",
         "Review": "I wanted to write and warn anyone who is thinking about purchasing this with a Google Pixel phone, …",
         "ID": 258,
         "Rake": "['screencast not compatible', 'google pixel phones']",
         "_deepnote_index_column": 258
        },
        {
         "Title": "nebula capsule review updated",
         "Review": "My original review was based on receiving a used product.After speaking with Anker customer service…",
         "ID": 259,
         "Rake": "['nebula capsule review updated']",
         "_deepnote_index_column": 259
        },
        {
         "Title": "not impressed  welcome to dongle life",
         "Review": "I wanted to like the Nebula Capsule projector.  I really did ... the size and the speakers are deli…",
         "ID": 260,
         "Rake": "['not impressed welcome', 'dongle life']",
         "_deepnote_index_column": 260
        },
        {
         "Title": "biggest problem is low brightness",
         "Review": "This is a cool product - works well as advertised.  the BIGGEST problem, which made me give it a th…",
         "ID": 261,
         "Rake": "['low brightness', 'biggest problem']",
         "_deepnote_index_column": 261
        },
        {
         "Title": "with this cost you can get something better and higher quality",
         "Review": "very dim,with this cost you can get something better and higher quality,received with netflix subsc…",
         "ID": 262,
         "Rake": "['get something better', 'higher quality', 'cost']",
         "_deepnote_index_column": 262
        },
        {
         "Title": "do not buy scam fake trash",
         "Review": "I'd give it negative 5 stars! The projection is upside down. If and when you get past the home scre…",
         "ID": 263,
         "Rake": "['not buy scam fake trash']",
         "_deepnote_index_column": 263
        },
        {
         "Title": "totally waste product",
         "Review": "Waste of money",
         "ID": 264,
         "Rake": "['totally waste product']",
         "_deepnote_index_column": 264
        },
        {
         "Title": "an under baked device",
         "Review": "Yes, this is a projector the size of a soda can and that is impressive, but there are several major…",
         "ID": 265,
         "Rake": "['baked device']",
         "_deepnote_index_column": 265
        },
        {
         "Title": "really wanted to like it but",
         "Review": "Where to start, had bought the red one they were having a “deal” on last week.  When I got it, felt…",
         "ID": 266,
         "Rake": "['really wanted', 'like']",
         "_deepnote_index_column": 266
        },
        {
         "Title": "terrible software on pleasant hardware",
         "Review": "Hardware wise this little device is impressive.  It's not without it's shortcomings, notably bright…",
         "ID": 267,
         "Rake": "['terrible software', 'pleasant hardware']",
         "_deepnote_index_column": 267
        },
        {
         "Title": "not compatible with disney plus and app is horrible",
         "Review": "I received this as a gift and loved it until my app needed to be updated. The remote from my phone …",
         "ID": 268,
         "Rake": "['not compatible', 'disney plus', 'horrible', 'app']",
         "_deepnote_index_column": 268
        },
        {
         "Title": "second one since november",
         "Review": "Anker’s customer service is top notch, but sadly the product is full of issues, first one lost all …",
         "ID": 269,
         "Rake": "['second one since november']",
         "_deepnote_index_column": 269
        },
        {
         "Title": "cool just wish it were brighter",
         "Review": "I love the size of this thing, it's great!  And I don't mind keeping it plugged up when I'm binge w…",
         "ID": 270,
         "Rake": "['wish', 'cool', 'brighter']",
         "_deepnote_index_column": 270
        },
        {
         "Title": "chromecast",
         "Review": "I connected them directly before making any final decision (considering the price) and they told me…",
         "ID": 271,
         "Rake": "['chromecast']",
         "_deepnote_index_column": 271
        },
        {
         "Title": "need help to run netflix",
         "Review": "I have tried on numerous occasions to look at Netflix, unfortunately the projector keeps going to s…",
         "ID": 272,
         "Rake": "['run netflix', 'need help']",
         "_deepnote_index_column": 272
        },
        {
         "Title": "missing important integrations",
         "Review": "Very limited until USB supports modern file systems, supports DLNA home streaming, and supports Sam…",
         "ID": 273,
         "Rake": "['missing important integrations']",
         "_deepnote_index_column": 273
        },
        {
         "Title": "on the fence",
         "Review": "This thing is amazing. Super easy to use. It’s a little noisy with the fan. The sound is meh but it…",
         "ID": 274,
         "Rake": "['fence']",
         "_deepnote_index_column": 274
        },
        {
         "Title": "proyector muy mediocre",
         "Review": "Imagen horrible en el día y en la noche, totalmente opaca y sin brillo. La batería se descarga muy …",
         "ID": 275,
         "Rake": "['proyector muy mediocre']",
         "_deepnote_index_column": 275
        },
        {
         "Title": "over priced",
         "Review": "Ankers products are great they are built to last and most importantly what separates them from thei…",
         "ID": 276,
         "Rake": "['priced']",
         "_deepnote_index_column": 276
        },
        {
         "Title": "expect better for anker ruined my fathers day",
         "Review": "this crappy thing is the opposite of user friendly.  don't say it works with IOS when it clearly do…",
         "ID": 277,
         "Rake": "['fathers day', 'expect better', 'anker ruined']",
         "_deepnote_index_column": 277
        },
        {
         "Title": "disposable projector no repair centers in usa",
         "Review": "Had received my capsule as a gift for about 8 months used it about maybe 40 hours of use and the pr…",
         "ID": 278,
         "Rake": "['repair centers', 'disposable projector', 'usa']",
         "_deepnote_index_column": 278
        },
        {
         "Title": "one star",
         "Review": "It didn’t work with me 😕",
         "ID": 279,
         "Rake": "['one star']",
         "_deepnote_index_column": 279
        },
        {
         "Title": "disappointed",
         "Review": "Am disappointed. Picture is very dim/dark. Hard to focus. Blurry at best. The app/remote is just we…",
         "ID": 280,
         "Rake": "['disappointed']",
         "_deepnote_index_column": 280
        },
        {
         "Title": "not working with apps that i am watching on tv ",
         "Review": "not working with apps that I am watching on TV except Amazon Prime or Youtube. so now I have to wat…",
         "ID": 281,
         "Rake": "['not working', 'watching', 'tv', 'apps']",
         "_deepnote_index_column": 281
        },
        {
         "Title": "thats a pretty big deal breaker for me",
         "Review": "Doesn't support Chromecast. That's a pretty big deal breaker for me. Projection quality is mediocre.",
         "ID": 282,
         "Rake": "['pretty big deal breaker', 'thats']",
         "_deepnote_index_column": 282
        },
        {
         "Title": "three stars",
         "Review": "Doesn’t project as vivid as it could but makes up for it in the sound quality",
         "ID": 283,
         "Rake": "['three stars']",
         "_deepnote_index_column": 283
        },
        {
         "Title": "two stars",
         "Review": "Android version does not include Google Play, so forget about installing most apps.",
         "ID": 284,
         "Rake": "['two stars']",
         "_deepnote_index_column": 284
        },
        {
         "Title": "really amazing",
         "Review": "Wow.its a awesome product.i can make my room as home theatre",
         "ID": 285,
         "Rake": "['really amazing']",
         "_deepnote_index_column": 285
        },
        {
         "Title": "surely its wonderful and all",
         "Review": "I DONT OWN THIS ''THING'', BUT 350 HARD-EARNED DOLLARS INSTEAD OF GETTING A YG-300?????SURELY IT'S …",
         "ID": 286,
         "Rake": "['wonderful', 'surely']",
         "_deepnote_index_column": 286
        },
        {
         "Title": "lack flexibility",
         "Review": "As a projector it is solid. The picture is good and I can’t argue with that.  But it’s portability …",
         "ID": 287,
         "Rake": "['lack flexibility']",
         "_deepnote_index_column": 287
        },
        {
         "Title": "two defective units right out of the box not good odds skip this product",
         "Review": "It's neat, it works, the kids love movies outside. The user interface is clunky, and it's ridiculou…",
         "ID": 288,
         "Rake": "['box not good odds skip', 'two defective units right', 'product']",
         "_deepnote_index_column": 288
        },
        {
         "Title": "low res",
         "Review": "Only 480p so very blurry, was not acceptable for me. The customer service was nice and quick though…",
         "ID": 289,
         "Rake": "['low res']",
         "_deepnote_index_column": 289
        },
        {
         "Title": "not worth the price",
         "Review": "Easy to use, but it’s dark. It takes me a while to adjust the projector angle every time. The speak…",
         "ID": 290,
         "Rake": "['not worth', 'price']",
         "_deepnote_index_column": 290
        },
        {
         "Title": "not working with its own twitch app",
         "Review": "Upset, not working with its own Twitch app. useless for me.",
         "ID": 291,
         "Rake": "['twitch app', 'not working']",
         "_deepnote_index_column": 291
        },
        {
         "Title": "poco brillo y baja resolución",
         "Review": "No tiene buen brillo, no sirve para jugar play station, porque se nota aunque leve un retraso en la…",
         "ID": 292,
         "Rake": "['poco brillo', 'baja resolución']",
         "_deepnote_index_column": 292
        },
        {
         "Title": "badluck",
         "Review": "One day the nebula get heated more and suddenly the bad odour smell is coming and switched off i lo…",
         "ID": 293,
         "Rake": "['badluck']",
         "_deepnote_index_column": 293
        },
        {
         "Title": "wont last long",
         "Review": "nan",
         "ID": 294,
         "Rake": "['wont last long']",
         "_deepnote_index_column": 294
        }
       ]
      },
      "text/plain": "                                                 Title  \\\n1         read their privacy policy they are intrusive   \n2    great hardware but software does not work  do ...   \n3                                  i am keeping it but   \n4                                                 lies   \n5                     it does not work on most formats   \n..                                                 ...   \n290                                not worth the price   \n291                not working with its own twitch app   \n292                      poco brillo y baja resolución   \n293                                            badluck   \n294                                     wont last long   \n\n                                                Review   ID  \\\n1    Have you checked out their ‘Privacy Policy’?Th...    1   \n2    I very rarely write reviews on Amazon, but I f...    2   \n3    The stripped-down version of Android is a real...    3   \n4    Who reviewed this POS and gave it 5 stars?1. B...    4   \n5    The projector will play Netflix off it’s nativ...    5   \n..                                                 ...  ...   \n290  Easy to use, but it’s dark. It takes me a whil...  290   \n291  Upset, not working with its own Twitch app. us...  291   \n292  No tiene buen brillo, no sirve para jugar play...  292   \n293  One day the nebula get heated more and suddenl...  293   \n294                                                NaN  294   \n\n                                                  Rake  \n1                    [privacy policy, read, intrusive]  \n2    [not buy unless, not work, hdmi source, great ...  \n3                                            [keeping]  \n4                                               [lies]  \n5                                  [not work, formats]  \n..                                                 ...  \n290                                 [not worth, price]  \n291                          [twitch app, not working]  \n292                     [poco brillo, baja resolución]  \n293                                          [badluck]  \n294                                   [wont last long]  \n\n[294 rows x 4 columns]",
      "text/html": "<div>\n<style scoped>\n    .dataframe tbody tr th:only-of-type {\n        vertical-align: middle;\n    }\n\n    .dataframe tbody tr th {\n        vertical-align: top;\n    }\n\n    .dataframe thead th {\n        text-align: right;\n    }\n</style>\n<table border=\"1\" class=\"dataframe\">\n  <thead>\n    <tr style=\"text-align: right;\">\n      <th></th>\n      <th>Title</th>\n      <th>Review</th>\n      <th>ID</th>\n      <th>Rake</th>\n    </tr>\n  </thead>\n  <tbody>\n    <tr>\n      <th>1</th>\n      <td>read their privacy policy they are intrusive</td>\n      <td>Have you checked out their ‘Privacy Policy’?Th...</td>\n      <td>1</td>\n      <td>[privacy policy, read, intrusive]</td>\n    </tr>\n    <tr>\n      <th>2</th>\n      <td>great hardware but software does not work  do ...</td>\n      <td>I very rarely write reviews on Amazon, but I f...</td>\n      <td>2</td>\n      <td>[not buy unless, not work, hdmi source, great ...</td>\n    </tr>\n    <tr>\n      <th>3</th>\n      <td>i am keeping it but</td>\n      <td>The stripped-down version of Android is a real...</td>\n      <td>3</td>\n      <td>[keeping]</td>\n    </tr>\n    <tr>\n      <th>4</th>\n      <td>lies</td>\n      <td>Who reviewed this POS and gave it 5 stars?1. B...</td>\n      <td>4</td>\n      <td>[lies]</td>\n    </tr>\n    <tr>\n      <th>5</th>\n      <td>it does not work on most formats</td>\n      <td>The projector will play Netflix off it’s nativ...</td>\n      <td>5</td>\n      <td>[not work, formats]</td>\n    </tr>\n    <tr>\n      <th>...</th>\n      <td>...</td>\n      <td>...</td>\n      <td>...</td>\n      <td>...</td>\n    </tr>\n    <tr>\n      <th>290</th>\n      <td>not worth the price</td>\n      <td>Easy to use, but it’s dark. It takes me a whil...</td>\n      <td>290</td>\n      <td>[not worth, price]</td>\n    </tr>\n    <tr>\n      <th>291</th>\n      <td>not working with its own twitch app</td>\n      <td>Upset, not working with its own Twitch app. us...</td>\n      <td>291</td>\n      <td>[twitch app, not working]</td>\n    </tr>\n    <tr>\n      <th>292</th>\n      <td>poco brillo y baja resolución</td>\n      <td>No tiene buen brillo, no sirve para jugar play...</td>\n      <td>292</td>\n      <td>[poco brillo, baja resolución]</td>\n    </tr>\n    <tr>\n      <th>293</th>\n      <td>badluck</td>\n      <td>One day the nebula get heated more and suddenl...</td>\n      <td>293</td>\n      <td>[badluck]</td>\n    </tr>\n    <tr>\n      <th>294</th>\n      <td>wont last long</td>\n      <td>NaN</td>\n      <td>294</td>\n      <td>[wont last long]</td>\n    </tr>\n  </tbody>\n</table>\n<p>294 rows × 4 columns</p>\n</div>"
     },
     "metadata": {}
    }
   ],
   "execution_count": null
  },
  {
   "cell_type": "code",
   "metadata": {
    "tags": [],
    "cell_id": "00040-c91271ea-d0e5-476f-8214-d0db7dda2179",
    "deepnote_to_be_reexecuted": true,
    "source_hash": "b623e53d",
    "deepnote_cell_type": "code"
   },
   "source": "",
   "outputs": [],
   "execution_count": null
  },
  {
   "cell_type": "markdown",
   "source": "<a style='text-decoration:none;line-height:16px;display:flex;color:#5B5B62;padding:10px;justify-content:end;' href='https://deepnote.com?utm_source=created-in-deepnote-cell&projectId=22d1188b-dbee-4618-bda5-79d4ace33c29' target=\"_blank\">\n<img alt='Created in deepnote.com' style='display:inline;max-height:16px;margin:0px;margin-right:7.5px;' src='data:image/svg+xml;base64,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' > </img>\nCreated in <span style='font-weight:600;margin-left:4px;'>Deepnote</span></a>",
   "metadata": {
    "tags": [],
    "created_in_deepnote_cell": true,
    "deepnote_cell_type": "markdown"
   }
  }
 ],
 "nbformat": 4,
 "nbformat_minor": 0,
 "metadata": {
  "kernelspec": {
   "display_name": "Python 3",
   "language": "python",
   "name": "python3"
  },
  "language_info": {
   "codemirror_mode": {
    "name": "ipython",
    "version": 3
   },
   "file_extension": ".py",
   "mimetype": "text/x-python",
   "name": "python",
   "nbconvert_exporter": "python",
   "pygments_lexer": "ipython3",
   "version": "3.8.5"
  },
  "colab": {
   "name": "SUBJECT EXTRACTION.ipynb",
   "provenance": []
  },
  "deepnote_notebook_id": "0882dc2f-dd98-4964-8ac8-ca3444d986d5",
  "deepnote": {},
  "deepnote_execution_queue": []
 }
}